{
 "cells": [
  {
   "cell_type": "code",
   "execution_count": 1,
   "metadata": {},
   "outputs": [],
   "source": [
    "import numpy as np\n",
    "import gym_minatar\n",
    "\n",
    "# Generic replay buffer for standard gym tasks\n",
    "class TaskBuffer(object):\n",
    "    def __init__(self, state_shape, sf_dim, buffer_size, device):\n",
    "        self.max_size = int(buffer_size)\n",
    "        self.device = device\n",
    "\n",
    "        self.ptr = 0\n",
    "        self.crt_size = 0\n",
    "\n",
    "        self.state = np.zeros((self.max_size, *state_shape))\n",
    "        self.action = np.zeros((self.max_size, 1))\n",
    "        self.next_state = np.zeros((self.max_size, *state_shape))\n",
    "        # self.next_state = np.array(self.state)\n",
    "        self.reward = np.zeros((self.max_size, 1))\n",
    "        self.not_done = np.zeros((self.max_size, 1))\n",
    "        self.task = np.zeros((self.max_size, sf_dim))\n",
    "\n",
    "\n",
    "    def add(self, state, action, next_state, reward, done, task):\n",
    "        self.state[self.ptr] = state\n",
    "        self.action[self.ptr] = action\n",
    "        self.next_state[self.ptr] = next_state\n",
    "        self.reward[self.ptr] = reward\n",
    "        self.not_done[self.ptr] = 1. - done\n",
    "        self.task[self.ptr] = task\n",
    "\n",
    "        self.ptr = (self.ptr + 1) % self.max_size\n",
    "        self.crt_size = min(self.crt_size + 1, self.max_size)\n",
    "\n",
    "    def sample(self, batch_size=32):\n",
    "        ind = np.random.randint(0, self.crt_size, size=batch_size)\n",
    "        return (\n",
    "            torch.FloatTensor(self.state[ind]).to(self.device),\n",
    "            torch.LongTensor(self.action[ind]).to(self.device),\n",
    "            torch.FloatTensor(self.next_state[ind]).to(self.device),\n",
    "            torch.FloatTensor(self.reward[ind]).to(self.device),\n",
    "            torch.FloatTensor(self.not_done[ind]).to(self.device),\n",
    "            torch.FloatTensor(self.task[ind]).to(self.device),\n",
    "        )\n",
    "\n",
    "\n",
    "    def save(self, save_folder):\n",
    "        np.save(f\"{save_folder}_state.npy\", self.state[:self.crt_size])\n",
    "        np.save(f\"{save_folder}_action.npy\", self.action[:self.crt_size])\n",
    "        np.save(f\"{save_folder}_next_state.npy\", self.next_state[:self.crt_size])\n",
    "        np.save(f\"{save_folder}_reward.npy\", self.reward[:self.crt_size])\n",
    "        np.save(f\"{save_folder}_not_done.npy\", self.not_done[:self.crt_size])\n",
    "        np.save(f\"{save_folder}_task.npy\", self.task[:self.crt_size])\n",
    "        np.save(f\"{save_folder}_ptr.npy\", self.ptr)\n",
    "\n",
    "\n",
    "    def load(self, save_folder, size=-1):\n",
    "        reward_buffer = np.load(f\"{save_folder}_reward.npy\")\n",
    "\n",
    "        # Adjust crt_size if we're using a custom size\n",
    "        size = min(int(size), self.max_size) if size > 0 else self.max_size\n",
    "        self.crt_size = min(reward_buffer.shape[0], size)\n",
    "\n",
    "        self.state[:self.crt_size] = np.load(f\"{save_folder}_state.npy\")[:self.crt_size]\n",
    "        self.action[:self.crt_size] = np.load(f\"{save_folder}_action.npy\")[:self.crt_size]\n",
    "        self.next_state[:self.crt_size] = np.load(f\"{save_folder}_next_state.npy\")[:self.crt_size]\n",
    "        self.reward[:self.crt_size] = reward_buffer[:self.crt_size]\n",
    "        self.not_done[:self.crt_size] = np.load(f\"{save_folder}_not_done.npy\")[:self.crt_size]\n",
    "        self.task[:self.crt_size] = np.load(f\"{save_folder}_task.npy\")[:self.crt_size]\n",
    "        print(f\"Replay Buffer loaded with {self.crt_size} elements.\")"
   ]
  },
  {
   "cell_type": "code",
   "execution_count": 43,
   "metadata": {},
   "outputs": [],
   "source": [
    "import torch\n",
    "import torch.nn as nn\n",
    "import torch.nn.functional as F\n",
    "from torchvision import transforms\n",
    "import numpy as np\n",
    "\n",
    "import copy\n",
    "from tqdm import tqdm\n",
    "from dqn import DQN, Critic\n",
    "import gym\n",
    "\n",
    "import pickle\n",
    "\n",
    "class ConvEncoder(nn.Module):\n",
    "    def __init__(\n",
    "        self,\n",
    "        state_shape, # ex (4, 84, 84), (3, 7, 7)\n",
    "        latent_dim,\n",
    "    ):\n",
    "        super().__init__()\n",
    "        \n",
    "        device = torch.device('cuda' if torch.cuda.is_available() else 'cpu')\n",
    "        self.state_shape = state_shape\n",
    "        self.latent_dim = latent_dim\n",
    "        \n",
    "        def make_dummy_conv():\n",
    "            encoder = nn.Linear(self.state_shape[0], self.latent_dim).to(device)\n",
    "            return encoder\n",
    "            \n",
    "        def make_conv():\n",
    "            conv = nn.Sequential(nn.Conv2d(state_shape[0], 32, 3, stride=1),\n",
    "                                     nn.ReLU(), nn.Conv2d(32, 16, 3, stride=1),\n",
    "                                     nn.ReLU()).to(device)\n",
    "            sample = torch.zeros(1, *state_shape).to(device)\n",
    "            size = torch.flatten(conv(sample)).shape[-1]\n",
    "            encoder = nn.Sequential(conv, nn.Flatten(), nn.Linear(size, self.latent_dim), nn.ReLU()).to(device)\n",
    "            return encoder\n",
    "        \n",
    "        if len(self.state_shape) < 2:\n",
    "            self.encoder = make_dummy_conv()\n",
    "        else:\n",
    "            self.encoder = make_conv()\n",
    "            \n",
    "    def forward(self, state):\n",
    "        return self.encoder(state)\n",
    "    \n",
    "\n",
    "class Phi(nn.Module):\n",
    "    def __init__(\n",
    "        self,\n",
    "        latent_dim,\n",
    "        hidden_dim,\n",
    "        sf_dim,\n",
    "    ):\n",
    "        super().__init__()\n",
    "        \n",
    "        device = torch.device('cuda' if torch.cuda.is_available() else 'cpu')\n",
    "        self.phi = nn.Sequential(nn.Linear(latent_dim, hidden_dim), nn.ELU(),\n",
    "                              nn.Linear(hidden_dim, hidden_dim), nn.ELU(),\n",
    "                              nn.Linear(hidden_dim, sf_dim)).to(device)\n",
    "        \n",
    "    def forward(self, latent, norm=True):\n",
    "        # in APS, we need to normalize the output\n",
    "        out = self.phi(latent)\n",
    "        out = F.normalize(out, dim=-1) if norm else out\n",
    "        return out\n",
    "    \n",
    "\n",
    "class RMS(object):\n",
    "    \"\"\"running mean and std \"\"\"\n",
    "    def __init__(self, device, epsilon=1e-4, shape=(1,)):\n",
    "        self.M = torch.zeros(shape).to(device)\n",
    "        self.S = torch.ones(shape).to(device)\n",
    "        self.n = epsilon\n",
    "\n",
    "    def __call__(self, x):\n",
    "        bs = x.size(0)\n",
    "        delta = torch.mean(x, dim=0) - self.M\n",
    "        new_M = self.M + delta * bs / (self.n + bs)\n",
    "        new_S = (self.S * self.n + torch.var(x, dim=0) * bs +\n",
    "                 torch.square(delta) * self.n * bs /\n",
    "                 (self.n + bs)) / (self.n + bs)\n",
    "\n",
    "        self.M = new_M\n",
    "        self.S = new_S\n",
    "        self.n += bs\n",
    "\n",
    "        return self.M, self.S\n",
    "    \n",
    "class PBE(object):\n",
    "    \"\"\"particle-based entropy based on knn normalized by running mean \"\"\"\n",
    "    def __init__(self, rms, knn_clip, knn_k, knn_avg, knn_rms, device):\n",
    "        self.rms = rms\n",
    "        self.knn_rms = knn_rms\n",
    "        self.knn_k = knn_k\n",
    "        self.knn_avg = knn_avg\n",
    "        self.knn_clip = knn_clip\n",
    "        self.device = device\n",
    "\n",
    "    def __call__(self, rep):\n",
    "        source = target = rep\n",
    "        b1, b2 = source.size(0), target.size(0)\n",
    "        # (b1, 1, c) - (1, b2, c) -> (b1, 1, c) - (1, b2, c) -> (b1, b2, c) -> (b1, b2)\n",
    "        sim_matrix = torch.norm(source[:, None, :].view(b1, 1, -1) -\n",
    "                                target[None, :, :].view(1, b2, -1),\n",
    "                                dim=-1,\n",
    "                                p=2)\n",
    "        reward, _ = sim_matrix.topk(self.knn_k,\n",
    "                                    dim=1,\n",
    "                                    largest=False,\n",
    "                                    sorted=True)  # (b1, k)\n",
    "        if not self.knn_avg:  # only keep k-th nearest neighbor\n",
    "            reward = reward[:, -1]\n",
    "            reward = reward.reshape(-1, 1)  # (b1, 1)\n",
    "            reward /= self.rms(reward)[0] if self.knn_rms else 1.0\n",
    "            reward = torch.maximum(\n",
    "                reward - self.knn_clip,\n",
    "                torch.zeros_like(reward).to(self.device)\n",
    "            ) if self.knn_clip >= 0.0 else reward  # (b1, 1)\n",
    "        else:  # average over all k nearest neighbors\n",
    "            reward = reward.reshape(-1, 1)  # (b1 * k, 1)\n",
    "            reward /= self.rms(reward)[0] if self.knn_rms else 1.0\n",
    "            reward = torch.maximum(\n",
    "                reward - self.knn_clip,\n",
    "                torch.zeros_like(reward).to(\n",
    "                    self.device)) if self.knn_clip >= 0.0 else reward\n",
    "            reward = reward.reshape((b1, self.knn_k))  # (b1, k)\n",
    "            reward = reward.mean(dim=1, keepdim=True)  # (b1, 1)\n",
    "        reward = torch.log(reward + 1.0)\n",
    "        return reward\n",
    "    \n",
    "class MiniAtarWrapper(gym.ObservationWrapper):\n",
    "    def __init__(self, env):\n",
    "        super().__init__(env)\n",
    "        # self.observation_space = gym.spaces.Box(low=np.zeros((1, 13, 13)), high=np.ones((1, 13, 13)), dtype=np.uint8)\n",
    "        # self.observation_space = gym.spaces.Box(low=np.zeros((7, 10, 10)), high=np.ones((7, 10, 10)), dtype=np.float32)\n",
    "        size = env.observation_space.shape[-1]\n",
    "        self.size = size\n",
    "        low = env.observation_space.low.reshape((size, 10, 10))\n",
    "        high = env.observation_space.high.reshape((size, 10, 10))\n",
    "        dtype = env.observation_space.dtype\n",
    "        self.observation_space = gym.spaces.Box(low=low, high=high, dtype=dtype)\n",
    "    \n",
    "    def observation(self, state):\n",
    "        return state.transpose(2, 0, 1)\n",
    "    \n",
    "class SimAtariAug:\n",
    "    def __init__(self, args):\n",
    "        self.aug = nn.Sequential(nn.ReplicationPad2d(args.image_pad), transforms.RandomCrop((args.state_dim[-1], args.state_dim[-1])))\n",
    "\n",
    "    def __call__(self, image):\n",
    "        return self.aug(image)\n",
    "\n",
    "class GridAPS(DQN):\n",
    "    def __init__(\n",
    "        self,\n",
    "        env,\n",
    "        conv=True,\n",
    "        discount=0.99,\n",
    "        lr_critic=1e-4,\n",
    "        lr_encoder=1e-4, \n",
    "        latent_dim=256,\n",
    "        hidden_dim=256,\n",
    "        initial_eps=1,\n",
    "        end_eps=0.1,\n",
    "        eval_eps=0.1,\n",
    "        pretrain_eps=1,\n",
    "        eps_decay_period=int(2e4),\n",
    "        target_update_frequency=200,\n",
    "        double_q=False,\n",
    "        # the following are variables for APS\n",
    "        sf_dim=169,\n",
    "        lr_phi=1e-4,\n",
    "        lr_task=1e-4,\n",
    "        update_task_frequency=5,\n",
    "        knn_k=12,\n",
    "        knn_rms=True,\n",
    "        knn_avg=True,\n",
    "        knn_clip=1e-4,\n",
    "        # flag for separate encoder\n",
    "        separate_encoder=True,\n",
    "    ):\n",
    "        # for APS \n",
    "        self.sf_dim = sf_dim\n",
    "        self.lr_phi = lr_phi\n",
    "        self.lr_task = lr_task\n",
    "        self.update_task_frequency = update_task_frequency\n",
    "        self.knn_k = knn_k\n",
    "        self.knn_rms = knn_rms\n",
    "        self.knn_avg = knn_avg\n",
    "        self.knn_clip = knn_clip\n",
    "        self.temp_task = None # temp tasks are set through function : set_task\n",
    "        \n",
    "        self.separate_encoder = separate_encoder\n",
    "        \n",
    "        super().__init__(\n",
    "            env=MiniAtarWrapper(env),\n",
    "            conv=conv,\n",
    "            discount=discount,\n",
    "            lr_critic=lr_critic,\n",
    "            lr_encoder=lr_encoder,\n",
    "            latent_dim=latent_dim,\n",
    "            hidden_dim=hidden_dim,\n",
    "            initial_eps=initial_eps,\n",
    "            end_eps=end_eps,\n",
    "            eval_eps=eval_eps,\n",
    "            pretrain_eps=pretrain_eps,\n",
    "            eps_decay_period=eps_decay_period,\n",
    "            target_update_frequency=target_update_frequency,\n",
    "            double_q=double_q,\n",
    "        )\n",
    "        \n",
    "        self.env_name = str(self.env)\n",
    "        \n",
    "    def _make_alias(self):\n",
    "        self.SF1 = self.critic.get_SF1\n",
    "        self.SF = self.critic.get_SFs\n",
    "        self.SF1_target = self.critic_target.get_SF1\n",
    "        self.SF_target = self.critic_target.get_SFs\n",
    "        \n",
    "        # to get Q's, one need 'task' (a k-dim vector)\n",
    "        self.Q1 = self.critic.get_Q1\n",
    "        self.Q = self.critic.get_Qs\n",
    "        self.Q1_target = self.critic_target.get_Q1\n",
    "        self.Q_target = self.critic_target.get_Qs\n",
    "        \n",
    "    def _define_networks(self):\n",
    "        self.encoder = ConvEncoder(\n",
    "            state_shape=self.state_shape,\n",
    "            latent_dim=self.latent_dim,\n",
    "        )\n",
    "        \n",
    "        self.phi = Phi(\n",
    "            latent_dim=self.latent_dim,\n",
    "            hidden_dim=self.hidden_dim,\n",
    "            sf_dim=self.sf_dim,\n",
    "        )\n",
    "\n",
    "        \n",
    "        self.critic = Critic(\n",
    "            latent_dim=self.latent_dim + self.sf_dim, # input is cat([latent, task])\n",
    "            hidden_dim=self.hidden_dim, \n",
    "            num_actions=self.num_actions,\n",
    "            sf_dim=self.sf_dim\n",
    "        )\n",
    "        self.critic_target = copy.deepcopy(self.critic)\n",
    "        \n",
    "        self.RMS = RMS(self.device)\n",
    "        self.PBE = PBE(\n",
    "            rms=self.RMS, \n",
    "            knn_clip=self.knn_clip, \n",
    "            knn_k=self.knn_k,\n",
    "            knn_avg=self.knn_avg,\n",
    "            knn_rms=self.knn_rms,\n",
    "            device=self.device\n",
    "        )\n",
    "        \n",
    "        self.encoder_opt = torch.optim.Adam(self.encoder.parameters(), lr=self.lr_encoder)\n",
    "        self.phi_opt = torch.optim.Adam(self.phi.parameters(), lr=self.lr_phi)\n",
    "        self.critic_opt = torch.optim.Adam(self.critic.parameters(), lr=self.lr_critic)\n",
    "        \n",
    "        self.task_learned = True\n",
    "        self.task = torch.ones((1, self.sf_dim), requires_grad=True, device=self.device) # task is only for RL phase (supervised learning phase)\n",
    "        self.task_opt = torch.optim.Adam([self.task], lr=self.lr_task)\n",
    "        \n",
    "        if self.separate_encoder:\n",
    "            self.encoder_critic = ConvEncoder(\n",
    "                state_shape=self.state_shape,\n",
    "                latent_dim=self.latent_dim,\n",
    "            )\n",
    "            self.encoder_critic_opt = torch.optim.Adam(self.encoder_critic.parameters(), lr=self.lr_critic)\n",
    "            \n",
    "        else:\n",
    "            self.encoder_critic = self.encoder\n",
    "        \n",
    "    def set_fine_tuning(self): # follow the hyperparameters that APS paper provide\n",
    "        # del self.task_opt\n",
    "        del self.critic_opt\n",
    "        # del self.encoder_critic_opt\n",
    "        # self.task_opt = torch.optim.Adam([self.task], lr=1e-3)\n",
    "        self.critic_opt = torch.optim.Adam(self.critic.parameters(), lr=1e-3)\n",
    "        if self.separate_encoder:\n",
    "            del self.encoder_critic_opt\n",
    "            self.encoder_critic_opt = torch.optim.Adam(self.encoder_critic.parameters(), lr=1e-3)\n",
    "        self.target_update_frequency = 100\n",
    "        \n",
    "    def intrinsic_reward(self, task, next_latent):\n",
    "        # maxent reward\n",
    "        with torch.no_grad():\n",
    "            state_representation = self.phi(next_latent, norm=False)\n",
    "        bonus = self.PBE(state_representation)\n",
    "        ent_bonus = bonus.view(-1, 1)\n",
    "\n",
    "        # successor feature reward\n",
    "        state_representation = state_representation / torch.norm(state_representation, dim=1, keepdim=True)\n",
    "        sf_reward = torch.einsum(\"bi,bi->b\", task, state_representation).reshape(-1, 1)\n",
    "\n",
    "        return ent_bonus, sf_reward\n",
    "    \n",
    "    def maybe_set_task(self, fine_tune):\n",
    "        if fine_tune:\n",
    "            return self.task\n",
    "        elif (self.iterations + 1) % self.update_task_frequency:\n",
    "            return self.set_task()\n",
    "        \n",
    "        return self.temp_task\n",
    "    \n",
    "    def set_task(self):\n",
    "        task = torch.randn(self.sf_dim).to(self.device)\n",
    "        task = task / torch.norm(task)\n",
    "        self.temp_task = task\n",
    "        return task\n",
    "    \n",
    "    def make_replay_buffer(self, buffer_size=int(3e5)):\n",
    "        return TaskBuffer(self.state_shape, self.sf_dim, buffer_size, self.device)\n",
    "    \n",
    "    def select_action(self, state, task, eval=False, pretrain=True):\n",
    "        # this function affects evaluation funciton\n",
    "        if eval: # if eval, we don't care if we are pretraining or not\n",
    "            eps = self.eval_eps\n",
    "        elif pretrain: # if pretrain, we use pretrain eps\n",
    "            eps = self.pretrain_eps\n",
    "        else:\n",
    "            eps = max(self.slope * self.iterations + self.initial_eps, self.end_eps)\n",
    "\n",
    "        # Select action according to policy with probability (1-eps)\n",
    "        # otherwise, select random action\n",
    "        if np.random.uniform(0,1) > eps:\n",
    "            with torch.no_grad():\n",
    "                state = torch.FloatTensor(state).reshape(self.state_shape).unsqueeze(0).to(self.device)                    \n",
    "                if type(task) == np.ndarray:\n",
    "                    task = torch.from_numpy(task).to(self.device)\n",
    "                task = task.float().view(1, task.shape[-1])\n",
    "                \n",
    "                latent = self.encoder_critic(state)\n",
    "                \n",
    "                # cat latent and task for universal successor feature\n",
    "                latent = torch.cat([latent, task], dim=1)\n",
    "                return int(self.Q1(latent, task).argmax(1))\n",
    "        else:\n",
    "            return np.random.randint(self.num_actions)\n",
    "    \n",
    "    def train(self, replay_buffer, batch_size=128, fine_tune=False):\n",
    "        state, action, next_state, reward, not_done, task = replay_buffer.sample(batch_size=batch_size)\n",
    "        \n",
    "        latent = self.encoder(state)\n",
    "        next_latent = self.encoder(next_state)\n",
    "        \n",
    "        latent_critic = self.encoder_critic(state)\n",
    "        next_latent_critic = self.encoder_critic(next_state)\n",
    "        \n",
    "        # calculate the adjusted reward\n",
    "        if fine_tune:\n",
    "            reward = reward # even when we are finetuning, use the task got from the replay_buffer\n",
    "            # task = self.task.repeat(batch_size, 1) # use the regressed task\n",
    "        else:\n",
    "            with torch.no_grad():\n",
    "                ent_bonus, sf_reward = self.intrinsic_reward(task, next_latent)\n",
    "                aps_reward = ent_bonus + sf_reward\n",
    "                reward = aps_reward\n",
    "            # calculte Phi-loss\n",
    "            phi_loss = - torch.einsum(\"bi,bi->b\", self.phi(next_latent), task).mean()\n",
    "            # update Phi and Encoder\n",
    "            self.encoder_opt.zero_grad()\n",
    "            self.phi_opt.zero_grad()\n",
    "            phi_loss.backward()\n",
    "            self.encoder_opt.step()\n",
    "            self.phi_opt.step()\n",
    "        \n",
    "        # cat latent and task, for universal SF approximator\n",
    "        # we don't update encoder based on Q-loss\n",
    "        # use the latent vector produced by encoder_critic\n",
    "        latent = torch.cat([latent_critic, task], dim=1)\n",
    "        next_latent = torch.cat([next_latent_critic, task], dim=1)\n",
    "        if not self.separate_encoder:\n",
    "            latent = latent.detach()\n",
    "            next_latent = next_latent.detach()\n",
    "        \n",
    "        # calculate Q-loss\n",
    "        with torch.no_grad():\n",
    "            next_action = self.Q1(next_latent, task).argmax(1, keepdim=True)\n",
    "            if self.double_q:\n",
    "                target_Q1, target_Q2 = self.Q_target(next_latent, task)\n",
    "                target_Q1, target_Q2 = (\n",
    "                    target_Q1.gather(1, next_action).view(-1, 1),\n",
    "                    target_Q2.gather(1, next_action).view(-1, 1)\n",
    "                )\n",
    "                target_Q = torch.min(target_Q1, target_Q2)\n",
    "            else:\n",
    "                target_Q = self.Q1_target(next_latent, task).gather(1, next_action).view(-1, 1)\n",
    "            \n",
    "            # print(f'reward : {reward}, not_done : {not_done}, next_action :{next_action}, target_Q : {target_Q}')\n",
    "            target_Q = reward + not_done * self.discount * target_Q\n",
    "            \n",
    "        \n",
    "        if self.double_q:\n",
    "            Q1, Q2 = self.Q(latent, task)\n",
    "            Q1, Q2 = (\n",
    "                Q1.gather(1, action).view(-1, 1),\n",
    "                Q2.gather(1, action).view(-1, 1)\n",
    "            )\n",
    "            \n",
    "            Q_loss = F.mse_loss(Q1, target_Q) + F.mse_loss(Q2, target_Q)\n",
    "        else:\n",
    "            Q = self.Q1(latent, task).gather(1, action).view(-1, 1)\n",
    "            Q_loss = F.mse_loss(Q, target_Q)\n",
    "        \n",
    "        # update Q-networks\n",
    "        # print(f'Q-loss : {Q_loss}, Q : {Q}, Q_target : {target_Q}')\n",
    "        # print(Q_loss.mean())\n",
    "        if self.separate_encoder:\n",
    "            self.critic_opt.zero_grad()\n",
    "            self.encoder_critic_opt.zero_grad()\n",
    "            Q_loss.backward()\n",
    "            self.critic_opt.step()\n",
    "            self.encoder_critic_opt.step()\n",
    "        else:\n",
    "            self.critic_opt.zero_grad()\n",
    "            Q_loss.backward()\n",
    "            self.critic_opt.step()\n",
    "        \n",
    "        # update target network\n",
    "        self.copy_target_update()\n",
    "        \n",
    "    def maybe_regress_task(self, replay_buffer, batch_size, step_size=1, fine_tune=False):\n",
    "        if fine_tune:\n",
    "            print(\"Error: fine-tuning, cannot update the task\")  # we do not regress_task during fine-tuning\n",
    "        \n",
    "        if replay_buffer.crt_size > 4096 and self.iterations % self.update_task_frequency == 0:\n",
    "            return self.regress_task(replay_buffer, batch_size, step_size)\n",
    "        \n",
    "    def regress_task(self, replay_buffer, batch_size=32, step_size=1):\n",
    "        # there are two options, one is using gradient descent, the other is using torch.linalg.lstsq\n",
    "        self.task_learned = True\n",
    "        loss_log = []\n",
    "        for epoch in tqdm(range(step_size)):\n",
    "            state, action, next_state, reward, *_ = replay_buffer.sample(batch_size=batch_size)\n",
    "            with torch.no_grad():\n",
    "                next_latent = self.encoder(state)\n",
    "                # next_latent = self.encoder(state)\n",
    "                representation = self.phi(next_latent)\n",
    "                \n",
    "            # estimate the reward\n",
    "            estimated_reward = torch.einsum(\"bi,bi->b\", representation, self.task.repeat(batch_size, 1)) # 256 by 169, 1 by 169\n",
    "            \n",
    "            # update the task\n",
    "            task_loss = F.mse_loss(reward, estimated_reward)\n",
    "            self.task_opt.zero_grad()\n",
    "            task_loss.backward()\n",
    "            self.task_opt.step()\n",
    "            loss_log.append(task_loss.data.cpu().numpy())\n",
    "            \n",
    "        self.task = self.task / torch.norm(self.task)\n",
    "            \n",
    "        return loss_log\n",
    "    \n",
    "    def regress_task_lstsq(self, replay_buffer):\n",
    "        self.task_learned = True\n",
    "        obs, reward = [], []\n",
    "        batch_size = 0\n",
    "        while batch_size < min(int(1e6), replay_buffer.crt_size):\n",
    "            _, _, batch_obs, batch_reward, *_ = replay_buffer.sample(256)\n",
    "            obs.append(batch_obs)\n",
    "            reward.append(batch_reward)\n",
    "            batch_size += batch_obs.size(0)\n",
    "        obs, reward = torch.cat(obs, 0), torch.cat(reward, 0)\n",
    "\n",
    "        obs = self.encoder(obs)\n",
    "        rep = self.phi(obs)\n",
    "        print(rep.shape, reward.shape)\n",
    "        task = torch.linalg.lstsq(reward, rep)[0][:rep.size(1), :][0]\n",
    "        task = task / torch.norm(task)\n",
    "#         task = task.cpu().numpy()\n",
    "#         meta = OrderedDict()\n",
    "#         meta['task'] = task\n",
    "\n",
    "        # save for evaluation\n",
    "        self.task = task\n",
    "\n",
    "                \n",
    "    def learn(self, replay_buffer, step_size, learn_task=False, learning_start=int(1e4), batch_size=32, fine_tune=False, log_freq=int(5e3)):\n",
    "        if replay_buffer is None:\n",
    "            replay_buffer = self.make_replay_buffer()\n",
    "            \n",
    "        state = self.env.reset()\n",
    "        episodic_return = 0\n",
    "        episode_length = 0\n",
    "        episode_num = 0\n",
    "        task = self.set_task()\n",
    "        evaluations = []\n",
    "        \n",
    "        for step in tqdm(range(step_size)):\n",
    "            self.iterations += 1\n",
    "            # pick action and transit in the env\n",
    "            task = self.maybe_set_task(fine_tune)\n",
    "            if step < learning_start:\n",
    "                action = self.env.action_space.sample()\n",
    "            else:\n",
    "                action = self.select_action(state, task, eval=False, pretrain=(not fine_tune))\n",
    "            next_state, reward, done, info = self.env.step(action)\n",
    "            \n",
    "            # add the experience into the buffer\n",
    "            replay_buffer.add(state, action, next_state, reward, done, task.cpu().data.numpy())\n",
    "            if replay_buffer.crt_size > learning_start:\n",
    "                if fine_tune and learn_task:\n",
    "                    self.regress_task(replay_buffer, batch_size=256, step_size=1)\n",
    "                self.train(replay_buffer, batch_size=batch_size, fine_tune=fine_tune)\n",
    "            \n",
    "            # update iterative values\n",
    "            state = next_state\n",
    "            episodic_return += reward\n",
    "            episode_length += 1\n",
    "            \n",
    "            # maybe evaluate\n",
    "            if fine_tune and (step + 1) % log_freq == 0:\n",
    "                evaluations.append(self.evaluate(fine_tune))\n",
    "            \n",
    "            # check if the episode ends\n",
    "            if done:\n",
    "                if fine_tune:\n",
    "                    print(f\"====== Total T: {step+1} Episode Num: {episode_num+1} Episode_Length T: {episode_length} Return: {episodic_return:.3f} ======\")\n",
    "                episode_num += 1\n",
    "                state = self.env.reset()\n",
    "                episodic_return = 0\n",
    "                episode_length = 0\n",
    "                \n",
    "        # loss = self.maybe_regress_task(replay_buffer, batch_size=1024, step_size=int(4e4), fine_tune=fine_tune)\n",
    "                \n",
    "        return evaluations\n",
    "    \n",
    "    def evaluate(self, fine_tune, seed=0, eval_episodes=5):\n",
    "        eval_env = copy.deepcopy(self.env)\n",
    "        eval_env.seed(seed + 100)\n",
    "\n",
    "        avg_reward = 0.\n",
    "        step = 0\n",
    "        task = self.maybe_set_task(fine_tune)\n",
    "        for _ in range(eval_episodes):\n",
    "            state, done = eval_env.reset(), False\n",
    "            step = 0\n",
    "            while not done:\n",
    "                step += 1\n",
    "                action = self.select_action(np.array(state), task, eval=True)\n",
    "                state, reward, done, _ = eval_env.step(action)\n",
    "                avg_reward += reward\n",
    "\n",
    "        avg_reward /= eval_episodes\n",
    "\n",
    "        print(\"---------------------------------------\")\n",
    "        print(f\"Evaluation over {eval_episodes} episodes: {avg_reward:.3f}\")\n",
    "        print(\"---------------------------------------\")\n",
    "        return avg_reward\n",
    "    \n",
    "    def save(self, filename=None):\n",
    "        assert self.task_learned, 'need to identify the task first'\n",
    "        filename = f'models/{self.env_name}-{self.update_task_frequency}-{self.separate_encoder}' if filename is None else filename\n",
    "        torch.save(self.critic.state_dict(), filename + \"_critic\")\n",
    "        torch.save(self.critic_opt.state_dict(), filename + \"_critic_opt\")\n",
    "\n",
    "        torch.save(self.encoder.state_dict(), filename + \"_encoder\")\n",
    "        torch.save(self.encoder_opt.state_dict(), filename + \"_encoder_opt\")\n",
    "\n",
    "        torch.save(self.phi.state_dict(), filename + \"_phi\")\n",
    "        torch.save(self.phi_opt.state_dict(), filename + \"_phi_opt\")\n",
    "        \n",
    "        torch.save(self.task, filename + \"_task.pt\")\n",
    "\n",
    "\n",
    "\n",
    "    def load(self, filename=None):\n",
    "        filename = f'models/{self.env_name}-{self.update_task_frequency}-{self.separate_encoder}' if filename is None else filename\n",
    "        self.critic.load_state_dict(torch.load(filename + \"_critic\"))\n",
    "        self.critic_opt.load_state_dict(torch.load(filename + \"_critic_opt\"))\n",
    "        self.critic_target = copy.deepcopy(self.critic)\n",
    "\n",
    "        self.encoder.load_state_dict(torch.load(filename + \"_encoder\"))\n",
    "        self.encoder_opt.load_state_dict(torch.load(filename + \"_encoder_opt\"))\n",
    "        self.encoder_critic = self.encoder\n",
    "\n",
    "        self.phi.load_state_dict(torch.load(filename + \"_phi\"))\n",
    "        self.phi_opt.load_state_dict(torch.load(filename + \"_phi_opt\"))\n",
    "        \n",
    "        self.task = torch.load(filename + \"_task.pt\")\n",
    "\n",
    "    def collect_replay_buffer(self, size=int(1e6)):\n",
    "        replay_buffer = self.make_replay_buffer(size)\n",
    "        state = self.env.reset()\n",
    "        done = False\n",
    "        task = self.set_task()\n",
    "        for step in tqdm(range(size)):\n",
    "            set_task = (step + 1) % self.update_task_frequency\n",
    "            if set_task:\n",
    "                task = self.maybe_set_task(fine_tune=False)\n",
    "            action = self.select_action(state, task, eval=False, pretrain=True)\n",
    "            next_state, reward, done, info = self.env.step(action)\n",
    "            replay_buffer.add(state, action, next_state, reward, done, task.cpu().data.numpy())\n",
    "            state = next_state\n",
    "            if done:\n",
    "                done = False\n",
    "                state = self.env.reset()\n",
    "                \n",
    "        return replay_buffer\n",
    "            \n",
    "    def combine_encoder(self):\n",
    "        assert self.separate_encoder == True, 'there is only one encoder(encoder_phi), no need to combine'\n",
    "        self.separate_encoder = False\n",
    "        self.encoder_critic = self.encoder\n",
    "        del self.encoder_critic_opt"
   ]
  },
  {
   "cell_type": "code",
   "execution_count": 44,
   "metadata": {},
   "outputs": [],
   "source": [
    "import gym_minatar\n",
    "# env = FourRooms(config=2, layout='4rooms')\n",
    "env = gym.make('Seaquest-MinAtar-v0')\n",
    "aps = GridAPS(\n",
    "    env, \n",
    "    conv=False,\n",
    "    eval_eps=0,\n",
    "    pretrain_eps=0.1,\n",
    "    eps_decay_period=int(2e3),\n",
    "    double_q=False,\n",
    "    sf_dim=5,\n",
    "    latent_dim=256,\n",
    "    update_task_frequency=5,\n",
    "    target_update_frequency=50,\n",
    "    separate_encoder=False,\n",
    "    lr_task=1e-3,\n",
    "    lr_encoder=1e-4,\n",
    "    lr_critic=1e-4,\n",
    "    lr_phi=1e-4,\n",
    ")"
   ]
  },
  {
   "cell_type": "code",
   "execution_count": 21,
   "metadata": {},
   "outputs": [
    {
     "data": {
      "text/plain": [
       "'models/<MiniAtarWrapper<SeaquestEnv<Seaquest-MinAtar-v0>>>-100-False'"
      ]
     },
     "execution_count": 21,
     "metadata": {},
     "output_type": "execute_result"
    }
   ],
   "source": [
    "f'models/{aps.env_name}-{aps.update_task_frequency}-{aps.separate_encoder}'"
   ]
  },
  {
   "cell_type": "code",
   "execution_count": 5,
   "metadata": {
    "scrolled": true
   },
   "outputs": [
    {
     "name": "stderr",
     "output_type": "stream",
     "text": [
      "100%|██████████| 1000000/1000000 [2:54:14<00:00, 95.65it/s]  \n"
     ]
    },
    {
     "name": "stdout",
     "output_type": "stream",
     "text": [
      "torch.Size([1000192, 5]) torch.Size([1000192, 1])\n"
     ]
    }
   ],
   "source": [
    "replay_buffer = aps.make_replay_buffer(buffer_size=int(1e6))\n",
    "e = aps.learn(replay_buffer, step_size=int(1e6), batch_size=32, fine_tune=False, log_freq=int(1e5), learning_start=int(2e3))\n",
    "aps.regress_task_lstsq(replay_buffer)"
   ]
  },
  {
   "cell_type": "code",
   "execution_count": 6,
   "metadata": {},
   "outputs": [],
   "source": [
    "aps.save()"
   ]
  },
  {
   "cell_type": "code",
   "execution_count": 45,
   "metadata": {},
   "outputs": [],
   "source": [
    "aps.load()"
   ]
  },
  {
   "cell_type": "code",
   "execution_count": 20,
   "metadata": {},
   "outputs": [
    {
     "name": "stderr",
     "output_type": "stream",
     "text": [
      "100%|██████████| 1000000/1000000 [13:47<00:00, 1208.67it/s]\n"
     ]
    }
   ],
   "source": [
    "replay_buffer = aps.collect_replay_buffer()"
   ]
  },
  {
   "cell_type": "code",
   "execution_count": 46,
   "metadata": {
    "scrolled": true
   },
   "outputs": [
    {
     "name": "stderr",
     "output_type": "stream",
     "text": [
      "  1%|▏         | 1354/100000 [00:00<00:07, 13535.01it/s]"
     ]
    },
    {
     "name": "stdout",
     "output_type": "stream",
     "text": [
      "====== Total T: 23 Episode Num: 1 Episode_Length T: 23 Return: 0.000 ======\n",
      "====== Total T: 82 Episode Num: 2 Episode_Length T: 59 Return: 0.000 ======\n",
      "====== Total T: 182 Episode Num: 3 Episode_Length T: 100 Return: 1.000 ======\n",
      "====== Total T: 190 Episode Num: 4 Episode_Length T: 8 Return: 0.000 ======\n",
      "====== Total T: 196 Episode Num: 5 Episode_Length T: 6 Return: 0.000 ======\n",
      "====== Total T: 225 Episode Num: 6 Episode_Length T: 29 Return: 0.000 ======\n",
      "====== Total T: 257 Episode Num: 7 Episode_Length T: 32 Return: 0.000 ======\n",
      "====== Total T: 264 Episode Num: 8 Episode_Length T: 7 Return: 0.000 ======\n",
      "====== Total T: 279 Episode Num: 9 Episode_Length T: 15 Return: 0.000 ======\n",
      "====== Total T: 281 Episode Num: 10 Episode_Length T: 2 Return: 0.000 ======\n",
      "====== Total T: 297 Episode Num: 11 Episode_Length T: 16 Return: 0.000 ======\n",
      "====== Total T: 300 Episode Num: 12 Episode_Length T: 3 Return: 0.000 ======\n",
      "====== Total T: 303 Episode Num: 13 Episode_Length T: 3 Return: 0.000 ======\n",
      "====== Total T: 424 Episode Num: 14 Episode_Length T: 121 Return: 0.000 ======\n",
      "====== Total T: 443 Episode Num: 15 Episode_Length T: 19 Return: 0.000 ======\n",
      "====== Total T: 476 Episode Num: 16 Episode_Length T: 33 Return: 0.000 ======\n",
      "====== Total T: 497 Episode Num: 17 Episode_Length T: 21 Return: 0.000 ======\n",
      "====== Total T: 518 Episode Num: 18 Episode_Length T: 21 Return: 0.000 ======\n",
      "====== Total T: 551 Episode Num: 19 Episode_Length T: 33 Return: 0.000 ======\n",
      "====== Total T: 687 Episode Num: 20 Episode_Length T: 136 Return: 1.000 ======\n",
      "====== Total T: 707 Episode Num: 21 Episode_Length T: 20 Return: 0.000 ======\n",
      "====== Total T: 793 Episode Num: 22 Episode_Length T: 86 Return: 1.000 ======\n",
      "====== Total T: 827 Episode Num: 23 Episode_Length T: 34 Return: 0.000 ======\n",
      "====== Total T: 839 Episode Num: 24 Episode_Length T: 12 Return: 0.000 ======\n",
      "====== Total T: 849 Episode Num: 25 Episode_Length T: 10 Return: 0.000 ======\n",
      "====== Total T: 899 Episode Num: 26 Episode_Length T: 50 Return: 0.000 ======\n",
      "====== Total T: 906 Episode Num: 27 Episode_Length T: 7 Return: 0.000 ======\n",
      "====== Total T: 999 Episode Num: 28 Episode_Length T: 93 Return: 0.000 ======\n",
      "====== Total T: 1222 Episode Num: 29 Episode_Length T: 223 Return: 1.000 ======\n",
      "====== Total T: 1263 Episode Num: 30 Episode_Length T: 41 Return: 0.000 ======\n",
      "====== Total T: 1270 Episode Num: 31 Episode_Length T: 7 Return: 0.000 ======\n",
      "====== Total T: 1275 Episode Num: 32 Episode_Length T: 5 Return: 0.000 ======\n",
      "====== Total T: 1287 Episode Num: 33 Episode_Length T: 12 Return: 0.000 ======\n",
      "====== Total T: 1300 Episode Num: 34 Episode_Length T: 13 Return: 0.000 ======\n",
      "====== Total T: 1313 Episode Num: 35 Episode_Length T: 13 Return: 0.000 ======\n",
      "====== Total T: 1317 Episode Num: 36 Episode_Length T: 4 Return: 0.000 ======\n",
      "====== Total T: 1325 Episode Num: 37 Episode_Length T: 8 Return: 0.000 ======\n",
      "====== Total T: 1358 Episode Num: 38 Episode_Length T: 33 Return: 0.000 ======\n",
      "====== Total T: 1365 Episode Num: 39 Episode_Length T: 7 Return: 0.000 ======\n",
      "====== Total T: 1421 Episode Num: 40 Episode_Length T: 56 Return: 0.000 ======\n",
      "====== Total T: 1434 Episode Num: 41 Episode_Length T: 13 Return: 0.000 ======\n",
      "====== Total T: 1439 Episode Num: 42 Episode_Length T: 5 Return: 0.000 ======\n",
      "====== Total T: 1453 Episode Num: 43 Episode_Length T: 14 Return: 0.000 ======\n",
      "====== Total T: 1464 Episode Num: 44 Episode_Length T: 11 Return: 0.000 ======\n",
      "====== Total T: 1468 Episode Num: 45 Episode_Length T: 4 Return: 0.000 ======\n",
      "====== Total T: 1484 Episode Num: 46 Episode_Length T: 16 Return: 0.000 ======\n",
      "====== Total T: 1487 Episode Num: 47 Episode_Length T: 3 Return: 0.000 ======\n",
      "====== Total T: 1673 Episode Num: 48 Episode_Length T: 186 Return: 2.000 ======\n",
      "====== Total T: 1687 Episode Num: 49 Episode_Length T: 14 Return: 0.000 ======\n",
      "====== Total T: 1696 Episode Num: 50 Episode_Length T: 9 Return: 0.000 ======\n",
      "====== Total T: 1736 Episode Num: 51 Episode_Length T: 40 Return: 1.000 ======\n",
      "====== Total T: 1745 Episode Num: 52 Episode_Length T: 9 Return: 0.000 ======\n",
      "====== Total T: 1753 Episode Num: 53 Episode_Length T: 8 Return: 0.000 ======\n",
      "====== Total T: 1773 Episode Num: 54 Episode_Length T: 20 Return: 0.000 ======\n",
      "====== Total T: 1785 Episode Num: 55 Episode_Length T: 12 Return: 0.000 ======\n",
      "====== Total T: 1911 Episode Num: 56 Episode_Length T: 126 Return: 1.000 ======\n",
      "====== Total T: 1955 Episode Num: 57 Episode_Length T: 44 Return: 0.000 ======\n",
      "====== Total T: 1974 Episode Num: 58 Episode_Length T: 19 Return: 0.000 ======\n",
      "====== Total T: 1984 Episode Num: 59 Episode_Length T: 10 Return: 0.000 ======\n",
      "====== Total T: 1988 Episode Num: 60 Episode_Length T: 4 Return: 0.000 ======\n",
      "====== Total T: 2046 Episode Num: 61 Episode_Length T: 58 Return: 0.000 ======\n",
      "====== Total T: 2136 Episode Num: 62 Episode_Length T: 90 Return: 0.000 ======\n",
      "====== Total T: 2201 Episode Num: 63 Episode_Length T: 65 Return: 0.000 ======\n",
      "====== Total T: 2216 Episode Num: 64 Episode_Length T: 15 Return: 0.000 ======\n",
      "====== Total T: 2350 Episode Num: 65 Episode_Length T: 134 Return: 1.000 ======\n",
      "====== Total T: 2400 Episode Num: 66 Episode_Length T: 50 Return: 0.000 ======\n",
      "====== Total T: 2450 Episode Num: 67 Episode_Length T: 50 Return: 0.000 ======\n",
      "====== Total T: 2493 Episode Num: 68 Episode_Length T: 43 Return: 0.000 ======\n",
      "====== Total T: 2553 Episode Num: 69 Episode_Length T: 60 Return: 0.000 ======\n",
      "====== Total T: 2625 Episode Num: 70 Episode_Length T: 72 Return: 0.000 ======\n",
      "====== Total T: 2647 Episode Num: 71 Episode_Length T: 22 Return: 0.000 ======\n",
      "====== Total T: 2669 Episode Num: 72 Episode_Length T: 22 Return: 0.000 ======\n"
     ]
    },
    {
     "name": "stderr",
     "output_type": "stream",
     "text": [
      "  3%|▎         | 2708/100000 [00:03<02:36, 622.36it/s]  "
     ]
    },
    {
     "name": "stdout",
     "output_type": "stream",
     "text": [
      "====== Total T: 2744 Episode Num: 73 Episode_Length T: 75 Return: 1.000 ======\n",
      "====== Total T: 2774 Episode Num: 74 Episode_Length T: 30 Return: 0.000 ======\n",
      "====== Total T: 2814 Episode Num: 75 Episode_Length T: 40 Return: 0.000 ======\n",
      "====== Total T: 2839 Episode Num: 76 Episode_Length T: 25 Return: 0.000 ======\n",
      "====== Total T: 2898 Episode Num: 77 Episode_Length T: 59 Return: 0.000 ======\n",
      "====== Total T: 2922 Episode Num: 78 Episode_Length T: 24 Return: 0.000 ======\n",
      "====== Total T: 2929 Episode Num: 79 Episode_Length T: 7 Return: 0.000 ======\n",
      "====== Total T: 2964 Episode Num: 80 Episode_Length T: 35 Return: 0.000 ======\n",
      "====== Total T: 3152 Episode Num: 81 Episode_Length T: 188 Return: 1.000 ======\n",
      "====== Total T: 3202 Episode Num: 82 Episode_Length T: 50 Return: 0.000 ======\n",
      "====== Total T: 3223 Episode Num: 83 Episode_Length T: 21 Return: 0.000 ======\n"
     ]
    },
    {
     "name": "stderr",
     "output_type": "stream",
     "text": [
      "  3%|▎         | 3288/100000 [00:06<04:07, 391.25it/s]"
     ]
    },
    {
     "name": "stdout",
     "output_type": "stream",
     "text": [
      "====== Total T: 3256 Episode Num: 84 Episode_Length T: 33 Return: 0.000 ======\n",
      "====== Total T: 3291 Episode Num: 85 Episode_Length T: 35 Return: 0.000 ======\n",
      "====== Total T: 3381 Episode Num: 86 Episode_Length T: 90 Return: 0.000 ======\n",
      "====== Total T: 3455 Episode Num: 87 Episode_Length T: 74 Return: 0.000 ======\n",
      "====== Total T: 3462 Episode Num: 88 Episode_Length T: 7 Return: 0.000 ======\n",
      "====== Total T: 3477 Episode Num: 89 Episode_Length T: 15 Return: 0.000 ======\n",
      "====== Total T: 3511 Episode Num: 90 Episode_Length T: 34 Return: 0.000 ======\n",
      "====== Total T: 3538 Episode Num: 91 Episode_Length T: 27 Return: 0.000 ======\n"
     ]
    },
    {
     "name": "stderr",
     "output_type": "stream",
     "text": [
      "  4%|▎         | 3612/100000 [00:08<04:49, 333.26it/s]"
     ]
    },
    {
     "name": "stdout",
     "output_type": "stream",
     "text": [
      "====== Total T: 3605 Episode Num: 92 Episode_Length T: 67 Return: 1.000 ======\n",
      "====== Total T: 3627 Episode Num: 93 Episode_Length T: 22 Return: 0.000 ======\n",
      "====== Total T: 3656 Episode Num: 94 Episode_Length T: 29 Return: 0.000 ======\n",
      "====== Total T: 3660 Episode Num: 95 Episode_Length T: 4 Return: 0.000 ======\n",
      "====== Total T: 3674 Episode Num: 96 Episode_Length T: 14 Return: 0.000 ======\n",
      "====== Total T: 3678 Episode Num: 97 Episode_Length T: 4 Return: 0.000 ======\n",
      "====== Total T: 3702 Episode Num: 98 Episode_Length T: 24 Return: 0.000 ======\n",
      "====== Total T: 3723 Episode Num: 99 Episode_Length T: 21 Return: 0.000 ======\n",
      "====== Total T: 3746 Episode Num: 100 Episode_Length T: 23 Return: 0.000 ======\n"
     ]
    },
    {
     "name": "stderr",
     "output_type": "stream",
     "text": [
      "  4%|▍         | 3816/100000 [00:09<05:01, 319.48it/s]"
     ]
    },
    {
     "name": "stdout",
     "output_type": "stream",
     "text": [
      "====== Total T: 3823 Episode Num: 101 Episode_Length T: 77 Return: 0.000 ======\n",
      "====== Total T: 3828 Episode Num: 102 Episode_Length T: 5 Return: 0.000 ======\n",
      "====== Total T: 3830 Episode Num: 103 Episode_Length T: 2 Return: 0.000 ======\n",
      "====== Total T: 3832 Episode Num: 104 Episode_Length T: 2 Return: 0.000 ======\n",
      "====== Total T: 3834 Episode Num: 105 Episode_Length T: 2 Return: 0.000 ======\n",
      "====== Total T: 3882 Episode Num: 106 Episode_Length T: 48 Return: 0.000 ======\n",
      "====== Total T: 3918 Episode Num: 107 Episode_Length T: 36 Return: 0.000 ======\n"
     ]
    },
    {
     "name": "stderr",
     "output_type": "stream",
     "text": [
      "  4%|▍         | 3956/100000 [00:09<05:24, 296.12it/s]"
     ]
    },
    {
     "name": "stdout",
     "output_type": "stream",
     "text": [
      "====== Total T: 3940 Episode Num: 108 Episode_Length T: 22 Return: 0.000 ======\n",
      "====== Total T: 3967 Episode Num: 109 Episode_Length T: 27 Return: 0.000 ======\n"
     ]
    },
    {
     "name": "stderr",
     "output_type": "stream",
     "text": [
      "  4%|▍         | 4055/100000 [00:10<05:28, 291.64it/s]"
     ]
    },
    {
     "name": "stdout",
     "output_type": "stream",
     "text": [
      "====== Total T: 4012 Episode Num: 110 Episode_Length T: 45 Return: 0.000 ======\n",
      "====== Total T: 4023 Episode Num: 111 Episode_Length T: 11 Return: 0.000 ======\n"
     ]
    },
    {
     "name": "stderr",
     "output_type": "stream",
     "text": [
      "  4%|▍         | 4234/100000 [00:11<06:00, 265.36it/s]"
     ]
    },
    {
     "name": "stdout",
     "output_type": "stream",
     "text": [
      "====== Total T: 4206 Episode Num: 112 Episode_Length T: 183 Return: 0.000 ======\n",
      "====== Total T: 4222 Episode Num: 113 Episode_Length T: 16 Return: 0.000 ======\n",
      "====== Total T: 4224 Episode Num: 114 Episode_Length T: 2 Return: 0.000 ======\n",
      "====== Total T: 4226 Episode Num: 115 Episode_Length T: 2 Return: 0.000 ======\n",
      "====== Total T: 4228 Episode Num: 116 Episode_Length T: 2 Return: 0.000 ======\n"
     ]
    },
    {
     "name": "stderr",
     "output_type": "stream",
     "text": [
      "  4%|▍         | 4308/100000 [00:11<06:31, 244.28it/s]"
     ]
    },
    {
     "name": "stdout",
     "output_type": "stream",
     "text": [
      "====== Total T: 4272 Episode Num: 117 Episode_Length T: 44 Return: 0.000 ======\n",
      "====== Total T: 4304 Episode Num: 118 Episode_Length T: 32 Return: 0.000 ======\n"
     ]
    },
    {
     "name": "stderr",
     "output_type": "stream",
     "text": [
      "  4%|▍         | 4364/100000 [00:11<06:59, 228.09it/s]"
     ]
    },
    {
     "name": "stdout",
     "output_type": "stream",
     "text": [
      "====== Total T: 4332 Episode Num: 119 Episode_Length T: 28 Return: 0.000 ======\n"
     ]
    },
    {
     "name": "stderr",
     "output_type": "stream",
     "text": [
      "  4%|▍         | 4411/100000 [00:12<07:22, 216.17it/s]"
     ]
    },
    {
     "name": "stdout",
     "output_type": "stream",
     "text": [
      "====== Total T: 4394 Episode Num: 120 Episode_Length T: 62 Return: 0.000 ======\n",
      "====== Total T: 4417 Episode Num: 121 Episode_Length T: 23 Return: 0.000 ======\n"
     ]
    },
    {
     "name": "stderr",
     "output_type": "stream",
     "text": [
      "  4%|▍         | 4496/100000 [00:12<07:45, 205.10it/s]"
     ]
    },
    {
     "name": "stdout",
     "output_type": "stream",
     "text": [
      "====== Total T: 4456 Episode Num: 122 Episode_Length T: 39 Return: 0.000 ======\n",
      "====== Total T: 4484 Episode Num: 123 Episode_Length T: 28 Return: 0.000 ======\n"
     ]
    },
    {
     "name": "stderr",
     "output_type": "stream",
     "text": [
      "  5%|▍         | 4537/100000 [00:12<08:00, 198.58it/s]"
     ]
    },
    {
     "name": "stdout",
     "output_type": "stream",
     "text": [
      "====== Total T: 4507 Episode Num: 124 Episode_Length T: 23 Return: 0.000 ======\n",
      "====== Total T: 4509 Episode Num: 125 Episode_Length T: 2 Return: 0.000 ======\n",
      "====== Total T: 4532 Episode Num: 126 Episode_Length T: 23 Return: 0.000 ======\n"
     ]
    },
    {
     "name": "stderr",
     "output_type": "stream",
     "text": [
      "  5%|▍         | 4597/100000 [00:13<08:13, 193.24it/s]"
     ]
    },
    {
     "name": "stdout",
     "output_type": "stream",
     "text": [
      "====== Total T: 4563 Episode Num: 127 Episode_Length T: 31 Return: 0.000 ======\n",
      "====== Total T: 4566 Episode Num: 128 Episode_Length T: 3 Return: 0.000 ======\n",
      "====== Total T: 4568 Episode Num: 129 Episode_Length T: 2 Return: 0.000 ======\n"
     ]
    },
    {
     "name": "stderr",
     "output_type": "stream",
     "text": [
      "  5%|▍         | 4678/100000 [00:13<08:09, 194.87it/s]"
     ]
    },
    {
     "name": "stdout",
     "output_type": "stream",
     "text": [
      "====== Total T: 4644 Episode Num: 130 Episode_Length T: 76 Return: 0.000 ======\n"
     ]
    },
    {
     "name": "stderr",
     "output_type": "stream",
     "text": [
      "  5%|▍         | 4719/100000 [00:13<08:01, 197.87it/s]"
     ]
    },
    {
     "name": "stdout",
     "output_type": "stream",
     "text": [
      "====== Total T: 4684 Episode Num: 131 Episode_Length T: 40 Return: 0.000 ======\n",
      "====== Total T: 4689 Episode Num: 132 Episode_Length T: 5 Return: 0.000 ======\n",
      "====== Total T: 4711 Episode Num: 133 Episode_Length T: 22 Return: 0.000 ======\n"
     ]
    },
    {
     "name": "stderr",
     "output_type": "stream",
     "text": [
      "  5%|▍         | 4845/100000 [00:14<08:14, 192.56it/s]"
     ]
    },
    {
     "name": "stdout",
     "output_type": "stream",
     "text": [
      "====== Total T: 4820 Episode Num: 134 Episode_Length T: 109 Return: 0.000 ======\n",
      "====== Total T: 4843 Episode Num: 135 Episode_Length T: 23 Return: 0.000 ======\n"
     ]
    },
    {
     "name": "stderr",
     "output_type": "stream",
     "text": [
      "  5%|▍         | 4906/100000 [00:14<08:09, 194.42it/s]"
     ]
    },
    {
     "name": "stdout",
     "output_type": "stream",
     "text": [
      "====== Total T: 4867 Episode Num: 136 Episode_Length T: 24 Return: 0.000 ======\n",
      "====== Total T: 4890 Episode Num: 137 Episode_Length T: 23 Return: 0.000 ======\n",
      "====== Total T: 4905 Episode Num: 138 Episode_Length T: 15 Return: 0.000 ======\n"
     ]
    },
    {
     "name": "stderr",
     "output_type": "stream",
     "text": [
      "  5%|▍         | 4986/100000 [00:15<08:15, 191.86it/s]"
     ]
    },
    {
     "name": "stdout",
     "output_type": "stream",
     "text": [
      "====== Total T: 4972 Episode Num: 139 Episode_Length T: 67 Return: 0.000 ======\n",
      "====== Total T: 4977 Episode Num: 140 Episode_Length T: 5 Return: 0.000 ======\n"
     ]
    },
    {
     "name": "stderr",
     "output_type": "stream",
     "text": [
      "\n",
      "  0%|          | 38/100000 [00:00<01:18, 1268.19it/s]\n",
      "\n",
      "  0%|          | 28/100000 [00:00<00:57, 1742.36it/s]\n",
      "\n",
      "  0%|          | 178/100000 [00:00<00:51, 1929.28it/s]\n",
      "\n",
      "  0%|          | 152/100000 [00:00<00:52, 1902.12it/s]\n",
      "\n",
      "  0%|          | 33/100000 [00:00<01:25, 1162.71it/s]\n",
      "  5%|▌         | 5025/100000 [00:15<12:50, 123.34it/s]"
     ]
    },
    {
     "name": "stdout",
     "output_type": "stream",
     "text": [
      "---------------------------------------\n",
      "Evaluation over 5 episodes: 0.000\n",
      "---------------------------------------\n",
      "====== Total T: 5006 Episode Num: 141 Episode_Length T: 29 Return: 0.000 ======\n",
      "====== Total T: 5019 Episode Num: 142 Episode_Length T: 13 Return: 0.000 ======\n"
     ]
    },
    {
     "name": "stderr",
     "output_type": "stream",
     "text": [
      "  5%|▌         | 5101/100000 [00:15<08:04, 195.96it/s]"
     ]
    },
    {
     "name": "stdout",
     "output_type": "stream",
     "text": [
      "====== Total T: 5053 Episode Num: 143 Episode_Length T: 34 Return: 0.000 ======\n",
      "====== Total T: 5094 Episode Num: 144 Episode_Length T: 41 Return: 0.000 ======\n",
      "====== Total T: 5100 Episode Num: 145 Episode_Length T: 6 Return: 0.000 ======\n",
      "====== Total T: 5103 Episode Num: 146 Episode_Length T: 3 Return: 0.000 ======\n"
     ]
    },
    {
     "name": "stderr",
     "output_type": "stream",
     "text": [
      "  5%|▌         | 5156/100000 [00:16<06:53, 229.12it/s]"
     ]
    },
    {
     "name": "stdout",
     "output_type": "stream",
     "text": [
      "====== Total T: 5135 Episode Num: 147 Episode_Length T: 32 Return: 0.000 ======\n",
      "====== Total T: 5169 Episode Num: 148 Episode_Length T: 34 Return: 0.000 ======\n"
     ]
    },
    {
     "name": "stderr",
     "output_type": "stream",
     "text": [
      "  5%|▌         | 5227/100000 [00:16<07:39, 206.10it/s]"
     ]
    },
    {
     "name": "stdout",
     "output_type": "stream",
     "text": [
      "====== Total T: 5198 Episode Num: 149 Episode_Length T: 29 Return: 0.000 ======\n",
      "====== Total T: 5207 Episode Num: 150 Episode_Length T: 9 Return: 0.000 ======\n",
      "====== Total T: 5236 Episode Num: 151 Episode_Length T: 29 Return: 0.000 ======\n"
     ]
    },
    {
     "name": "stderr",
     "output_type": "stream",
     "text": [
      "  5%|▌         | 5291/100000 [00:16<07:54, 199.47it/s]"
     ]
    },
    {
     "name": "stdout",
     "output_type": "stream",
     "text": [
      "====== Total T: 5268 Episode Num: 152 Episode_Length T: 32 Return: 0.000 ======\n",
      "====== Total T: 5276 Episode Num: 153 Episode_Length T: 8 Return: 0.000 ======\n",
      "====== Total T: 5298 Episode Num: 154 Episode_Length T: 22 Return: 0.000 ======\n"
     ]
    },
    {
     "name": "stderr",
     "output_type": "stream",
     "text": [
      "  5%|▌         | 5332/100000 [00:16<08:06, 194.66it/s]"
     ]
    },
    {
     "name": "stdout",
     "output_type": "stream",
     "text": [
      "====== Total T: 5310 Episode Num: 155 Episode_Length T: 12 Return: 0.000 ======\n",
      "====== Total T: 5334 Episode Num: 156 Episode_Length T: 24 Return: 0.000 ======\n"
     ]
    },
    {
     "name": "stderr",
     "output_type": "stream",
     "text": [
      "  5%|▌         | 5398/100000 [00:17<07:26, 211.73it/s]"
     ]
    },
    {
     "name": "stdout",
     "output_type": "stream",
     "text": [
      "====== Total T: 5358 Episode Num: 157 Episode_Length T: 24 Return: 0.000 ======\n",
      "====== Total T: 5363 Episode Num: 158 Episode_Length T: 5 Return: 0.000 ======\n",
      "====== Total T: 5394 Episode Num: 159 Episode_Length T: 31 Return: 0.000 ======\n"
     ]
    },
    {
     "name": "stderr",
     "output_type": "stream",
     "text": [
      "  5%|▌         | 5441/100000 [00:17<07:44, 203.77it/s]"
     ]
    },
    {
     "name": "stdout",
     "output_type": "stream",
     "text": [
      "====== Total T: 5404 Episode Num: 160 Episode_Length T: 10 Return: 0.000 ======\n",
      "====== Total T: 5442 Episode Num: 161 Episode_Length T: 38 Return: 0.000 ======\n"
     ]
    },
    {
     "name": "stderr",
     "output_type": "stream",
     "text": [
      "  5%|▌         | 5483/100000 [00:17<07:53, 199.43it/s]"
     ]
    },
    {
     "name": "stdout",
     "output_type": "stream",
     "text": [
      "====== Total T: 5460 Episode Num: 162 Episode_Length T: 18 Return: 0.000 ======\n",
      "====== Total T: 5477 Episode Num: 163 Episode_Length T: 17 Return: 0.000 ======\n",
      "====== Total T: 5496 Episode Num: 164 Episode_Length T: 19 Return: 0.000 ======\n"
     ]
    },
    {
     "name": "stderr",
     "output_type": "stream",
     "text": [
      "  6%|▌         | 5544/100000 [00:18<08:02, 195.61it/s]"
     ]
    },
    {
     "name": "stdout",
     "output_type": "stream",
     "text": [
      "====== Total T: 5518 Episode Num: 165 Episode_Length T: 22 Return: 0.000 ======\n",
      "====== Total T: 5542 Episode Num: 166 Episode_Length T: 24 Return: 0.000 ======\n",
      "====== Total T: 5551 Episode Num: 167 Episode_Length T: 9 Return: 0.000 ======\n"
     ]
    },
    {
     "name": "stderr",
     "output_type": "stream",
     "text": [
      "  6%|▌         | 5604/100000 [00:18<08:10, 192.45it/s]"
     ]
    },
    {
     "name": "stdout",
     "output_type": "stream",
     "text": [
      "====== Total T: 5578 Episode Num: 168 Episode_Length T: 27 Return: 0.000 ======\n",
      "====== Total T: 5582 Episode Num: 169 Episode_Length T: 4 Return: 0.000 ======\n",
      "====== Total T: 5592 Episode Num: 170 Episode_Length T: 10 Return: 0.000 ======\n"
     ]
    },
    {
     "name": "stderr",
     "output_type": "stream",
     "text": [
      "  6%|▌         | 5674/100000 [00:18<07:05, 221.48it/s]"
     ]
    },
    {
     "name": "stdout",
     "output_type": "stream",
     "text": [
      "====== Total T: 5630 Episode Num: 171 Episode_Length T: 38 Return: 0.000 ======\n",
      "====== Total T: 5667 Episode Num: 172 Episode_Length T: 37 Return: 0.000 ======\n",
      "====== Total T: 5674 Episode Num: 173 Episode_Length T: 7 Return: 0.000 ======\n"
     ]
    },
    {
     "name": "stderr",
     "output_type": "stream",
     "text": [
      "  6%|▌         | 5757/100000 [00:18<06:10, 254.41it/s]"
     ]
    },
    {
     "name": "stdout",
     "output_type": "stream",
     "text": [
      "====== Total T: 5705 Episode Num: 174 Episode_Length T: 31 Return: 0.000 ======\n",
      "====== Total T: 5729 Episode Num: 175 Episode_Length T: 24 Return: 0.000 ======\n",
      "====== Total T: 5739 Episode Num: 176 Episode_Length T: 10 Return: 0.000 ======\n"
     ]
    },
    {
     "name": "stderr",
     "output_type": "stream",
     "text": [
      "  6%|▌         | 5807/100000 [00:19<07:07, 220.23it/s]"
     ]
    },
    {
     "name": "stdout",
     "output_type": "stream",
     "text": [
      "====== Total T: 5789 Episode Num: 177 Episode_Length T: 50 Return: 0.000 ======\n",
      "====== Total T: 5821 Episode Num: 178 Episode_Length T: 32 Return: 0.000 ======\n"
     ]
    },
    {
     "name": "stderr",
     "output_type": "stream",
     "text": [
      "  6%|▌         | 5852/100000 [00:19<07:26, 210.82it/s]"
     ]
    },
    {
     "name": "stdout",
     "output_type": "stream",
     "text": [
      "====== Total T: 5833 Episode Num: 179 Episode_Length T: 12 Return: 0.000 ======\n",
      "====== Total T: 5850 Episode Num: 180 Episode_Length T: 17 Return: 0.000 ======\n"
     ]
    },
    {
     "name": "stderr",
     "output_type": "stream",
     "text": [
      "  6%|▌         | 5916/100000 [00:19<07:54, 198.27it/s]"
     ]
    },
    {
     "name": "stdout",
     "output_type": "stream",
     "text": [
      "====== Total T: 5897 Episode Num: 181 Episode_Length T: 47 Return: 0.000 ======\n",
      "====== Total T: 5900 Episode Num: 182 Episode_Length T: 3 Return: 0.000 ======\n"
     ]
    },
    {
     "name": "stderr",
     "output_type": "stream",
     "text": [
      "  6%|▌         | 6058/100000 [00:20<08:05, 193.34it/s]"
     ]
    },
    {
     "name": "stdout",
     "output_type": "stream",
     "text": [
      "====== Total T: 6027 Episode Num: 183 Episode_Length T: 127 Return: 1.000 ======\n"
     ]
    },
    {
     "name": "stderr",
     "output_type": "stream",
     "text": [
      "  6%|▌         | 6139/100000 [00:20<08:06, 193.06it/s]"
     ]
    },
    {
     "name": "stdout",
     "output_type": "stream",
     "text": [
      "====== Total T: 6108 Episode Num: 184 Episode_Length T: 81 Return: 0.000 ======\n",
      "====== Total T: 6138 Episode Num: 185 Episode_Length T: 30 Return: 0.000 ======\n"
     ]
    },
    {
     "name": "stderr",
     "output_type": "stream",
     "text": [
      "  6%|▌         | 6199/100000 [00:21<08:09, 191.53it/s]"
     ]
    },
    {
     "name": "stdout",
     "output_type": "stream",
     "text": [
      "====== Total T: 6178 Episode Num: 186 Episode_Length T: 40 Return: 0.000 ======\n",
      "====== Total T: 6187 Episode Num: 187 Episode_Length T: 9 Return: 0.000 ======\n",
      "====== Total T: 6200 Episode Num: 188 Episode_Length T: 13 Return: 0.000 ======\n"
     ]
    },
    {
     "name": "stderr",
     "output_type": "stream",
     "text": [
      "  6%|▋         | 6259/100000 [00:21<08:09, 191.35it/s]"
     ]
    },
    {
     "name": "stdout",
     "output_type": "stream",
     "text": [
      "====== Total T: 6228 Episode Num: 189 Episode_Length T: 28 Return: 0.000 ======\n",
      "====== Total T: 6231 Episode Num: 190 Episode_Length T: 3 Return: 0.000 ======\n",
      "====== Total T: 6242 Episode Num: 191 Episode_Length T: 11 Return: 0.000 ======\n",
      "====== Total T: 6254 Episode Num: 192 Episode_Length T: 12 Return: 0.000 ======\n",
      "====== Total T: 6262 Episode Num: 193 Episode_Length T: 8 Return: 0.000 ======\n"
     ]
    },
    {
     "name": "stderr",
     "output_type": "stream",
     "text": [
      "  6%|▋         | 6340/100000 [00:21<08:01, 194.46it/s]"
     ]
    },
    {
     "name": "stdout",
     "output_type": "stream",
     "text": [
      "====== Total T: 6309 Episode Num: 194 Episode_Length T: 47 Return: 0.000 ======\n",
      "====== Total T: 6312 Episode Num: 195 Episode_Length T: 3 Return: 0.000 ======\n",
      "====== Total T: 6325 Episode Num: 196 Episode_Length T: 13 Return: 0.000 ======\n"
     ]
    },
    {
     "name": "stderr",
     "output_type": "stream",
     "text": [
      "  6%|▋         | 6401/100000 [00:22<08:04, 193.38it/s]"
     ]
    },
    {
     "name": "stdout",
     "output_type": "stream",
     "text": [
      "====== Total T: 6372 Episode Num: 197 Episode_Length T: 47 Return: 0.000 ======\n",
      "====== Total T: 6395 Episode Num: 198 Episode_Length T: 23 Return: 0.000 ======\n"
     ]
    },
    {
     "name": "stderr",
     "output_type": "stream",
     "text": [
      "  6%|▋         | 6442/100000 [00:22<07:51, 198.52it/s]"
     ]
    },
    {
     "name": "stdout",
     "output_type": "stream",
     "text": [
      "====== Total T: 6413 Episode Num: 199 Episode_Length T: 18 Return: 0.000 ======\n",
      "====== Total T: 6432 Episode Num: 200 Episode_Length T: 19 Return: 0.000 ======\n",
      "====== Total T: 6444 Episode Num: 201 Episode_Length T: 12 Return: 0.000 ======\n",
      "====== Total T: 6453 Episode Num: 202 Episode_Length T: 9 Return: 0.000 ======\n"
     ]
    },
    {
     "name": "stderr",
     "output_type": "stream",
     "text": [
      "  6%|▋         | 6488/100000 [00:22<07:13, 215.75it/s]"
     ]
    },
    {
     "name": "stdout",
     "output_type": "stream",
     "text": [
      "====== Total T: 6463 Episode Num: 203 Episode_Length T: 10 Return: 0.000 ======\n",
      "====== Total T: 6485 Episode Num: 204 Episode_Length T: 22 Return: 0.000 ======\n"
     ]
    },
    {
     "name": "stderr",
     "output_type": "stream",
     "text": [
      "  7%|▋         | 6593/100000 [00:23<07:54, 196.78it/s]"
     ]
    },
    {
     "name": "stdout",
     "output_type": "stream",
     "text": [
      "====== Total T: 6567 Episode Num: 205 Episode_Length T: 82 Return: 0.000 ======\n",
      "====== Total T: 6583 Episode Num: 206 Episode_Length T: 16 Return: 0.000 ======\n",
      "====== Total T: 6604 Episode Num: 207 Episode_Length T: 21 Return: 0.000 ======\n"
     ]
    },
    {
     "name": "stderr",
     "output_type": "stream",
     "text": [
      "  7%|▋         | 6674/100000 [00:23<08:01, 193.89it/s]"
     ]
    },
    {
     "name": "stdout",
     "output_type": "stream",
     "text": [
      "====== Total T: 6635 Episode Num: 208 Episode_Length T: 31 Return: 0.000 ======\n",
      "====== Total T: 6653 Episode Num: 209 Episode_Length T: 18 Return: 0.000 ======\n"
     ]
    },
    {
     "name": "stderr",
     "output_type": "stream",
     "text": [
      "  7%|▋         | 6734/100000 [00:23<08:04, 192.54it/s]"
     ]
    },
    {
     "name": "stdout",
     "output_type": "stream",
     "text": [
      "====== Total T: 6710 Episode Num: 210 Episode_Length T: 57 Return: 0.000 ======\n",
      "====== Total T: 6739 Episode Num: 211 Episode_Length T: 29 Return: 0.000 ======\n"
     ]
    },
    {
     "name": "stderr",
     "output_type": "stream",
     "text": [
      "  7%|▋         | 6794/100000 [00:24<08:01, 193.68it/s]"
     ]
    },
    {
     "name": "stdout",
     "output_type": "stream",
     "text": [
      "====== Total T: 6757 Episode Num: 212 Episode_Length T: 18 Return: 0.000 ======\n",
      "====== Total T: 6779 Episode Num: 213 Episode_Length T: 22 Return: 0.000 ======\n"
     ]
    },
    {
     "name": "stderr",
     "output_type": "stream",
     "text": [
      "  7%|▋         | 6854/100000 [00:24<08:03, 192.82it/s]"
     ]
    },
    {
     "name": "stdout",
     "output_type": "stream",
     "text": [
      "====== Total T: 6824 Episode Num: 214 Episode_Length T: 45 Return: 0.000 ======\n",
      "====== Total T: 6831 Episode Num: 215 Episode_Length T: 7 Return: 0.000 ======\n",
      "====== Total T: 6839 Episode Num: 216 Episode_Length T: 8 Return: 0.000 ======\n",
      "====== Total T: 6844 Episode Num: 217 Episode_Length T: 5 Return: 0.000 ======\n",
      "====== Total T: 6862 Episode Num: 218 Episode_Length T: 18 Return: 0.000 ======\n"
     ]
    },
    {
     "name": "stderr",
     "output_type": "stream",
     "text": [
      "  7%|▋         | 6916/100000 [00:24<07:58, 194.68it/s]"
     ]
    },
    {
     "name": "stdout",
     "output_type": "stream",
     "text": [
      "====== Total T: 6884 Episode Num: 219 Episode_Length T: 22 Return: 0.000 ======\n",
      "====== Total T: 6901 Episode Num: 220 Episode_Length T: 17 Return: 0.000 ======\n",
      "====== Total T: 6912 Episode Num: 221 Episode_Length T: 11 Return: 0.000 ======\n"
     ]
    },
    {
     "name": "stderr",
     "output_type": "stream",
     "text": [
      "  7%|▋         | 6968/100000 [00:25<06:49, 227.31it/s]"
     ]
    },
    {
     "name": "stdout",
     "output_type": "stream",
     "text": [
      "====== Total T: 6930 Episode Num: 222 Episode_Length T: 18 Return: 0.000 ======\n",
      "====== Total T: 6932 Episode Num: 223 Episode_Length T: 2 Return: 0.000 ======\n",
      "====== Total T: 6947 Episode Num: 224 Episode_Length T: 15 Return: 0.000 ======\n"
     ]
    },
    {
     "name": "stderr",
     "output_type": "stream",
     "text": [
      "  7%|▋         | 7122/100000 [00:25<07:53, 196.33it/s]"
     ]
    },
    {
     "name": "stdout",
     "output_type": "stream",
     "text": [
      "====== Total T: 7088 Episode Num: 225 Episode_Length T: 141 Return: 0.000 ======\n",
      "====== Total T: 7101 Episode Num: 226 Episode_Length T: 13 Return: 0.000 ======\n"
     ]
    },
    {
     "name": "stderr",
     "output_type": "stream",
     "text": [
      "  7%|▋         | 7162/100000 [00:26<08:04, 191.47it/s]"
     ]
    },
    {
     "name": "stdout",
     "output_type": "stream",
     "text": [
      "====== Total T: 7135 Episode Num: 227 Episode_Length T: 34 Return: 0.000 ======\n"
     ]
    },
    {
     "name": "stderr",
     "output_type": "stream",
     "text": [
      "  7%|▋         | 7226/100000 [00:26<07:34, 203.97it/s]"
     ]
    },
    {
     "name": "stdout",
     "output_type": "stream",
     "text": [
      "====== Total T: 7201 Episode Num: 228 Episode_Length T: 66 Return: 1.000 ======\n",
      "====== Total T: 7206 Episode Num: 229 Episode_Length T: 5 Return: 0.000 ======\n",
      "====== Total T: 7221 Episode Num: 230 Episode_Length T: 15 Return: 0.000 ======\n"
     ]
    },
    {
     "name": "stderr",
     "output_type": "stream",
     "text": [
      "  7%|▋         | 7335/100000 [00:26<08:00, 192.89it/s]"
     ]
    },
    {
     "name": "stdout",
     "output_type": "stream",
     "text": [
      "====== Total T: 7303 Episode Num: 231 Episode_Length T: 82 Return: 0.000 ======\n",
      "====== Total T: 7335 Episode Num: 232 Episode_Length T: 32 Return: 0.000 ======\n"
     ]
    },
    {
     "name": "stderr",
     "output_type": "stream",
     "text": [
      "  7%|▋         | 7396/100000 [00:27<07:54, 195.00it/s]"
     ]
    },
    {
     "name": "stdout",
     "output_type": "stream",
     "text": [
      "====== Total T: 7375 Episode Num: 233 Episode_Length T: 40 Return: 0.000 ======\n",
      "====== Total T: 7392 Episode Num: 234 Episode_Length T: 17 Return: 0.000 ======\n",
      "====== Total T: 7405 Episode Num: 235 Episode_Length T: 13 Return: 0.000 ======\n",
      "====== Total T: 7411 Episode Num: 236 Episode_Length T: 6 Return: 0.000 ======\n"
     ]
    },
    {
     "name": "stderr",
     "output_type": "stream",
     "text": [
      "  7%|▋         | 7471/100000 [00:27<07:23, 208.82it/s]"
     ]
    },
    {
     "name": "stdout",
     "output_type": "stream",
     "text": [
      "====== Total T: 7433 Episode Num: 237 Episode_Length T: 22 Return: 0.000 ======\n",
      "====== Total T: 7470 Episode Num: 238 Episode_Length T: 37 Return: 0.000 ======\n"
     ]
    },
    {
     "name": "stderr",
     "output_type": "stream",
     "text": [
      "  8%|▊         | 7514/100000 [00:27<07:45, 198.75it/s]"
     ]
    },
    {
     "name": "stdout",
     "output_type": "stream",
     "text": [
      "====== Total T: 7492 Episode Num: 239 Episode_Length T: 22 Return: 0.000 ======\n",
      "====== Total T: 7512 Episode Num: 240 Episode_Length T: 20 Return: 0.000 ======\n",
      "====== Total T: 7524 Episode Num: 241 Episode_Length T: 12 Return: 0.000 ======\n",
      "====== Total T: 7526 Episode Num: 242 Episode_Length T: 2 Return: 0.000 ======\n"
     ]
    },
    {
     "name": "stderr",
     "output_type": "stream",
     "text": [
      "  8%|▊         | 7575/100000 [00:28<07:55, 194.46it/s]"
     ]
    },
    {
     "name": "stdout",
     "output_type": "stream",
     "text": [
      "====== Total T: 7547 Episode Num: 243 Episode_Length T: 21 Return: 0.000 ======\n",
      "====== Total T: 7555 Episode Num: 244 Episode_Length T: 8 Return: 0.000 ======\n",
      "====== Total T: 7564 Episode Num: 245 Episode_Length T: 9 Return: 0.000 ======\n"
     ]
    },
    {
     "name": "stderr",
     "output_type": "stream",
     "text": [
      "  8%|▊         | 7674/100000 [00:28<08:01, 191.71it/s]"
     ]
    },
    {
     "name": "stdout",
     "output_type": "stream",
     "text": [
      "====== Total T: 7645 Episode Num: 246 Episode_Length T: 81 Return: 0.000 ======\n",
      "====== Total T: 7649 Episode Num: 247 Episode_Length T: 4 Return: 0.000 ======\n",
      "====== Total T: 7666 Episode Num: 248 Episode_Length T: 17 Return: 0.000 ======\n",
      "====== Total T: 7681 Episode Num: 249 Episode_Length T: 15 Return: 0.000 ======\n"
     ]
    },
    {
     "name": "stderr",
     "output_type": "stream",
     "text": [
      "  8%|▊         | 7754/100000 [00:29<08:05, 190.19it/s]"
     ]
    },
    {
     "name": "stdout",
     "output_type": "stream",
     "text": [
      "====== Total T: 7717 Episode Num: 250 Episode_Length T: 36 Return: 0.000 ======\n",
      "====== Total T: 7725 Episode Num: 251 Episode_Length T: 8 Return: 0.000 ======\n",
      "====== Total T: 7735 Episode Num: 252 Episode_Length T: 10 Return: 0.000 ======\n",
      "====== Total T: 7741 Episode Num: 253 Episode_Length T: 6 Return: 0.000 ======\n"
     ]
    },
    {
     "name": "stderr",
     "output_type": "stream",
     "text": [
      "  8%|▊         | 7834/100000 [00:29<08:03, 190.64it/s]"
     ]
    },
    {
     "name": "stdout",
     "output_type": "stream",
     "text": [
      "====== Total T: 7815 Episode Num: 254 Episode_Length T: 74 Return: 0.000 ======\n"
     ]
    },
    {
     "name": "stderr",
     "output_type": "stream",
     "text": [
      "  8%|▊         | 7894/100000 [00:29<08:02, 190.76it/s]"
     ]
    },
    {
     "name": "stdout",
     "output_type": "stream",
     "text": [
      "====== Total T: 7869 Episode Num: 255 Episode_Length T: 54 Return: 0.000 ======\n",
      "====== Total T: 7881 Episode Num: 256 Episode_Length T: 12 Return: 0.000 ======\n",
      "====== Total T: 7894 Episode Num: 257 Episode_Length T: 13 Return: 0.000 ======\n",
      "====== Total T: 7896 Episode Num: 258 Episode_Length T: 2 Return: 0.000 ======\n",
      "====== Total T: 7898 Episode Num: 259 Episode_Length T: 2 Return: 0.000 ======\n"
     ]
    },
    {
     "name": "stderr",
     "output_type": "stream",
     "text": [
      "  8%|▊         | 7954/100000 [00:30<07:58, 192.17it/s]"
     ]
    },
    {
     "name": "stdout",
     "output_type": "stream",
     "text": [
      "====== Total T: 7922 Episode Num: 260 Episode_Length T: 24 Return: 0.000 ======\n",
      "====== Total T: 7945 Episode Num: 261 Episode_Length T: 23 Return: 0.000 ======\n"
     ]
    },
    {
     "name": "stderr",
     "output_type": "stream",
     "text": [
      "  8%|▊         | 8061/100000 [00:30<07:41, 199.32it/s]"
     ]
    },
    {
     "name": "stdout",
     "output_type": "stream",
     "text": [
      "====== Total T: 8024 Episode Num: 262 Episode_Length T: 79 Return: 1.000 ======\n",
      "====== Total T: 8037 Episode Num: 263 Episode_Length T: 13 Return: 0.000 ======\n",
      "====== Total T: 8049 Episode Num: 264 Episode_Length T: 12 Return: 0.000 ======\n",
      "====== Total T: 8064 Episode Num: 265 Episode_Length T: 15 Return: 0.000 ======\n"
     ]
    },
    {
     "name": "stderr",
     "output_type": "stream",
     "text": [
      "  8%|▊         | 8105/100000 [00:30<07:17, 210.09it/s]"
     ]
    },
    {
     "name": "stdout",
     "output_type": "stream",
     "text": [
      "====== Total T: 8069 Episode Num: 266 Episode_Length T: 5 Return: 0.000 ======\n",
      "====== Total T: 8096 Episode Num: 267 Episode_Length T: 27 Return: 0.000 ======\n",
      "====== Total T: 8098 Episode Num: 268 Episode_Length T: 2 Return: 0.000 ======\n"
     ]
    },
    {
     "name": "stderr",
     "output_type": "stream",
     "text": [
      "  8%|▊         | 8187/100000 [00:31<06:09, 248.26it/s]"
     ]
    },
    {
     "name": "stdout",
     "output_type": "stream",
     "text": [
      "====== Total T: 8161 Episode Num: 269 Episode_Length T: 63 Return: 0.000 ======\n"
     ]
    },
    {
     "name": "stderr",
     "output_type": "stream",
     "text": [
      "  8%|▊         | 8349/100000 [00:31<05:48, 262.63it/s]"
     ]
    },
    {
     "name": "stdout",
     "output_type": "stream",
     "text": [
      "====== Total T: 8313 Episode Num: 270 Episode_Length T: 152 Return: 1.000 ======\n",
      "====== Total T: 8346 Episode Num: 271 Episode_Length T: 33 Return: 0.000 ======\n"
     ]
    },
    {
     "name": "stderr",
     "output_type": "stream",
     "text": [
      "  8%|▊         | 8430/100000 [00:32<06:27, 236.27it/s]"
     ]
    },
    {
     "name": "stdout",
     "output_type": "stream",
     "text": [
      "====== Total T: 8397 Episode Num: 272 Episode_Length T: 51 Return: 0.000 ======\n",
      "====== Total T: 8404 Episode Num: 273 Episode_Length T: 7 Return: 0.000 ======\n",
      "====== Total T: 8427 Episode Num: 274 Episode_Length T: 23 Return: 0.000 ======\n"
     ]
    },
    {
     "name": "stderr",
     "output_type": "stream",
     "text": [
      "  8%|▊         | 8500/100000 [00:32<07:23, 206.28it/s]"
     ]
    },
    {
     "name": "stdout",
     "output_type": "stream",
     "text": [
      "====== Total T: 8475 Episode Num: 275 Episode_Length T: 48 Return: 0.000 ======\n",
      "====== Total T: 8493 Episode Num: 276 Episode_Length T: 18 Return: 0.000 ======\n",
      "====== Total T: 8510 Episode Num: 277 Episode_Length T: 17 Return: 0.000 ======\n"
     ]
    },
    {
     "name": "stderr",
     "output_type": "stream",
     "text": [
      "  9%|▊         | 8563/100000 [00:32<07:35, 200.90it/s]"
     ]
    },
    {
     "name": "stdout",
     "output_type": "stream",
     "text": [
      "====== Total T: 8533 Episode Num: 278 Episode_Length T: 23 Return: 0.000 ======\n"
     ]
    },
    {
     "name": "stderr",
     "output_type": "stream",
     "text": [
      "  9%|▊         | 8605/100000 [00:33<07:40, 198.48it/s]"
     ]
    },
    {
     "name": "stdout",
     "output_type": "stream",
     "text": [
      "====== Total T: 8583 Episode Num: 279 Episode_Length T: 50 Return: 0.000 ======\n"
     ]
    },
    {
     "name": "stderr",
     "output_type": "stream",
     "text": [
      "  9%|▊         | 8725/100000 [00:33<08:04, 188.31it/s]"
     ]
    },
    {
     "name": "stdout",
     "output_type": "stream",
     "text": [
      "====== Total T: 8697 Episode Num: 280 Episode_Length T: 114 Return: 0.000 ======\n",
      "====== Total T: 8726 Episode Num: 281 Episode_Length T: 29 Return: 0.000 ======\n"
     ]
    },
    {
     "name": "stderr",
     "output_type": "stream",
     "text": [
      "  9%|▉         | 8783/100000 [00:33<08:01, 189.51it/s]"
     ]
    },
    {
     "name": "stdout",
     "output_type": "stream",
     "text": [
      "====== Total T: 8747 Episode Num: 282 Episode_Length T: 21 Return: 0.000 ======\n",
      "====== Total T: 8769 Episode Num: 283 Episode_Length T: 22 Return: 0.000 ======\n"
     ]
    },
    {
     "name": "stderr",
     "output_type": "stream",
     "text": [
      "  9%|▉         | 8843/100000 [00:34<07:59, 190.07it/s]"
     ]
    },
    {
     "name": "stdout",
     "output_type": "stream",
     "text": [
      "====== Total T: 8824 Episode Num: 284 Episode_Length T: 55 Return: 0.000 ======\n"
     ]
    },
    {
     "name": "stderr",
     "output_type": "stream",
     "text": [
      "  9%|▉         | 8922/100000 [00:34<08:00, 189.60it/s]"
     ]
    },
    {
     "name": "stdout",
     "output_type": "stream",
     "text": [
      "====== Total T: 8893 Episode Num: 285 Episode_Length T: 69 Return: 0.000 ======\n",
      "====== Total T: 8915 Episode Num: 286 Episode_Length T: 22 Return: 0.000 ======\n"
     ]
    },
    {
     "name": "stderr",
     "output_type": "stream",
     "text": [
      "  9%|▉         | 8967/100000 [00:34<07:24, 205.02it/s]"
     ]
    },
    {
     "name": "stdout",
     "output_type": "stream",
     "text": [
      "====== Total T: 8933 Episode Num: 287 Episode_Length T: 18 Return: 0.000 ======\n",
      "====== Total T: 8953 Episode Num: 288 Episode_Length T: 20 Return: 0.000 ======\n"
     ]
    },
    {
     "name": "stderr",
     "output_type": "stream",
     "text": [
      "  9%|▉         | 9009/100000 [00:35<07:37, 198.72it/s]"
     ]
    },
    {
     "name": "stdout",
     "output_type": "stream",
     "text": [
      "====== Total T: 8978 Episode Num: 289 Episode_Length T: 25 Return: 0.000 ======\n",
      "====== Total T: 8988 Episode Num: 290 Episode_Length T: 10 Return: 0.000 ======\n",
      "====== Total T: 9002 Episode Num: 291 Episode_Length T: 14 Return: 0.000 ======\n"
     ]
    },
    {
     "name": "stderr",
     "output_type": "stream",
     "text": [
      "  9%|▉         | 9109/100000 [00:35<07:47, 194.52it/s]"
     ]
    },
    {
     "name": "stdout",
     "output_type": "stream",
     "text": [
      "====== Total T: 9083 Episode Num: 292 Episode_Length T: 81 Return: 0.000 ======\n",
      "====== Total T: 9095 Episode Num: 293 Episode_Length T: 12 Return: 0.000 ======\n",
      "====== Total T: 9102 Episode Num: 294 Episode_Length T: 7 Return: 0.000 ======\n"
     ]
    },
    {
     "name": "stderr",
     "output_type": "stream",
     "text": [
      "  9%|▉         | 9189/100000 [00:36<07:47, 194.07it/s]"
     ]
    },
    {
     "name": "stdout",
     "output_type": "stream",
     "text": [
      "====== Total T: 9165 Episode Num: 295 Episode_Length T: 63 Return: 0.000 ======\n",
      "====== Total T: 9174 Episode Num: 296 Episode_Length T: 9 Return: 0.000 ======\n"
     ]
    },
    {
     "name": "stderr",
     "output_type": "stream",
     "text": [
      "  9%|▉         | 9250/100000 [00:36<07:49, 193.23it/s]"
     ]
    },
    {
     "name": "stdout",
     "output_type": "stream",
     "text": [
      "====== Total T: 9213 Episode Num: 297 Episode_Length T: 39 Return: 0.000 ======\n",
      "====== Total T: 9252 Episode Num: 298 Episode_Length T: 39 Return: 0.000 ======\n"
     ]
    },
    {
     "name": "stderr",
     "output_type": "stream",
     "text": [
      "  9%|▉         | 9331/100000 [00:36<06:15, 241.47it/s]"
     ]
    },
    {
     "name": "stdout",
     "output_type": "stream",
     "text": [
      "====== Total T: 9282 Episode Num: 299 Episode_Length T: 30 Return: 0.000 ======\n",
      "====== Total T: 9287 Episode Num: 300 Episode_Length T: 5 Return: 0.000 ======\n",
      "====== Total T: 9297 Episode Num: 301 Episode_Length T: 10 Return: 0.000 ======\n",
      "====== Total T: 9305 Episode Num: 302 Episode_Length T: 8 Return: 0.000 ======\n"
     ]
    },
    {
     "name": "stderr",
     "output_type": "stream",
     "text": [
      "  9%|▉         | 9386/100000 [00:36<05:54, 255.30it/s]"
     ]
    },
    {
     "name": "stdout",
     "output_type": "stream",
     "text": [
      "====== Total T: 9341 Episode Num: 303 Episode_Length T: 36 Return: 0.000 ======\n",
      "====== Total T: 9358 Episode Num: 304 Episode_Length T: 17 Return: 0.000 ======\n",
      "====== Total T: 9382 Episode Num: 305 Episode_Length T: 24 Return: 0.000 ======\n",
      "====== Total T: 9389 Episode Num: 306 Episode_Length T: 7 Return: 0.000 ======\n"
     ]
    },
    {
     "name": "stderr",
     "output_type": "stream",
     "text": [
      "  9%|▉         | 9460/100000 [00:37<07:02, 214.27it/s]"
     ]
    },
    {
     "name": "stdout",
     "output_type": "stream",
     "text": [
      "====== Total T: 9428 Episode Num: 307 Episode_Length T: 39 Return: 0.000 ======\n",
      "====== Total T: 9459 Episode Num: 308 Episode_Length T: 31 Return: 0.000 ======\n"
     ]
    },
    {
     "name": "stderr",
     "output_type": "stream",
     "text": [
      " 10%|▉         | 9504/100000 [00:37<07:13, 208.69it/s]"
     ]
    },
    {
     "name": "stdout",
     "output_type": "stream",
     "text": [
      "====== Total T: 9477 Episode Num: 309 Episode_Length T: 18 Return: 0.000 ======\n",
      "====== Total T: 9484 Episode Num: 310 Episode_Length T: 7 Return: 0.000 ======\n",
      "====== Total T: 9493 Episode Num: 311 Episode_Length T: 9 Return: 0.000 ======\n"
     ]
    },
    {
     "name": "stderr",
     "output_type": "stream",
     "text": [
      " 10%|▉         | 9600/100000 [00:37<07:01, 214.35it/s]"
     ]
    },
    {
     "name": "stdout",
     "output_type": "stream",
     "text": [
      "====== Total T: 9564 Episode Num: 312 Episode_Length T: 71 Return: 0.000 ======\n"
     ]
    },
    {
     "name": "stderr",
     "output_type": "stream",
     "text": [
      " 10%|▉         | 9643/100000 [00:38<07:27, 201.94it/s]"
     ]
    },
    {
     "name": "stdout",
     "output_type": "stream",
     "text": [
      "====== Total T: 9620 Episode Num: 313 Episode_Length T: 56 Return: 0.000 ======\n"
     ]
    },
    {
     "name": "stderr",
     "output_type": "stream",
     "text": [
      " 10%|▉         | 9690/100000 [00:38<07:01, 214.29it/s]"
     ]
    },
    {
     "name": "stdout",
     "output_type": "stream",
     "text": [
      "====== Total T: 9661 Episode Num: 314 Episode_Length T: 41 Return: 0.000 ======\n",
      "====== Total T: 9663 Episode Num: 315 Episode_Length T: 2 Return: 0.000 ======\n",
      "====== Total T: 9671 Episode Num: 316 Episode_Length T: 8 Return: 0.000 ======\n",
      "====== Total T: 9676 Episode Num: 317 Episode_Length T: 5 Return: 0.000 ======\n",
      "====== Total T: 9689 Episode Num: 318 Episode_Length T: 13 Return: 0.000 ======\n"
     ]
    },
    {
     "name": "stderr",
     "output_type": "stream",
     "text": [
      " 10%|▉         | 9754/100000 [00:38<07:28, 201.06it/s]"
     ]
    },
    {
     "name": "stdout",
     "output_type": "stream",
     "text": [
      "====== Total T: 9719 Episode Num: 319 Episode_Length T: 30 Return: 0.000 ======\n"
     ]
    },
    {
     "name": "stderr",
     "output_type": "stream",
     "text": [
      " 10%|▉         | 9819/100000 [00:39<07:32, 199.15it/s]"
     ]
    },
    {
     "name": "stdout",
     "output_type": "stream",
     "text": [
      "====== Total T: 9778 Episode Num: 320 Episode_Length T: 59 Return: 0.000 ======\n",
      "====== Total T: 9781 Episode Num: 321 Episode_Length T: 3 Return: 0.000 ======\n",
      "====== Total T: 9804 Episode Num: 322 Episode_Length T: 23 Return: 0.000 ======\n"
     ]
    },
    {
     "name": "stderr",
     "output_type": "stream",
     "text": [
      " 10%|▉         | 9866/100000 [00:39<07:19, 205.22it/s]"
     ]
    },
    {
     "name": "stdout",
     "output_type": "stream",
     "text": [
      "====== Total T: 9837 Episode Num: 323 Episode_Length T: 33 Return: 0.000 ======\n",
      "====== Total T: 9856 Episode Num: 324 Episode_Length T: 19 Return: 0.000 ======\n",
      "====== Total T: 9870 Episode Num: 325 Episode_Length T: 14 Return: 0.000 ======\n"
     ]
    },
    {
     "name": "stderr",
     "output_type": "stream",
     "text": [
      " 10%|▉         | 9960/100000 [00:39<06:58, 214.99it/s]"
     ]
    },
    {
     "name": "stdout",
     "output_type": "stream",
     "text": [
      "====== Total T: 9922 Episode Num: 326 Episode_Length T: 52 Return: 0.000 ======\n",
      "====== Total T: 9941 Episode Num: 327 Episode_Length T: 19 Return: 0.000 ======\n"
     ]
    },
    {
     "name": "stderr",
     "output_type": "stream",
     "text": [
      " 10%|▉         | 9982/100000 [00:39<07:17, 205.93it/s]"
     ]
    },
    {
     "name": "stdout",
     "output_type": "stream",
     "text": [
      "====== Total T: 9983 Episode Num: 328 Episode_Length T: 42 Return: 0.000 ======\n",
      "====== Total T: 9999 Episode Num: 329 Episode_Length T: 16 Return: 0.000 ======\n"
     ]
    },
    {
     "name": "stderr",
     "output_type": "stream",
     "text": [
      "\n",
      "  0%|          | 0/100000 [00:00<?, ?it/s]\u001b[A\n",
      "  0%|          | 169/100000 [00:00<00:59, 1686.27it/s]\u001b[A\n",
      "  0%|          | 350/100000 [00:00<00:56, 1758.30it/s]\u001b[A\n",
      "  1%|          | 531/100000 [00:00<00:55, 1781.02it/s]\u001b[A\n",
      "  1%|          | 711/100000 [00:00<00:55, 1788.45it/s]\u001b[A\n",
      "  1%|          | 893/100000 [00:00<00:55, 1798.92it/s]\u001b[A\n",
      "  1%|          | 1073/100000 [00:00<00:55, 1787.54it/s]\u001b[A\n",
      "  1%|▏         | 1252/100000 [00:00<00:56, 1735.68it/s]\u001b[A\n",
      "  1%|▏         | 1426/100000 [00:00<00:57, 1714.44it/s]\u001b[A\n",
      "  2%|▏         | 1606/100000 [00:00<00:56, 1738.73it/s]\u001b[A\n",
      "  2%|▏         | 1792/100000 [00:01<00:55, 1775.14it/s]\u001b[A\n",
      "  2%|▏         | 1975/100000 [00:01<00:54, 1789.79it/s]\u001b[A\n",
      "  2%|▏         | 2155/100000 [00:01<00:56, 1731.97it/s]\u001b[A\n",
      "  2%|▏         | 2329/100000 [00:01<00:57, 1694.65it/s]\u001b[A\n",
      "  3%|▎         | 2512/100000 [00:01<00:56, 1732.45it/s]\u001b[A\n",
      "  3%|▎         | 2697/100000 [00:01<00:55, 1766.29it/s]\u001b[A\n",
      "  3%|▎         | 2875/100000 [00:01<00:56, 1732.86it/s]\u001b[A\n",
      "  3%|▎         | 3049/100000 [00:01<00:58, 1670.48it/s]\u001b[A\n",
      "  3%|▎         | 3217/100000 [00:01<00:59, 1629.46it/s]\u001b[A\n",
      "  3%|▎         | 3382/100000 [00:01<00:59, 1633.59it/s]\u001b[A\n",
      "  4%|▎         | 3546/100000 [00:02<00:59, 1615.24it/s]\u001b[A\n",
      "  4%|▎         | 3725/100000 [00:02<00:57, 1665.10it/s]\u001b[A\n",
      "  4%|▍         | 3898/100000 [00:02<00:57, 1683.05it/s]\u001b[A\n",
      "  4%|▍         | 4067/100000 [00:02<00:58, 1653.32it/s]\u001b[A\n",
      "  4%|▍         | 4233/100000 [00:02<00:58, 1643.98it/s]\u001b[A\n",
      "  4%|▍         | 4398/100000 [00:02<00:59, 1617.78it/s]\u001b[A\n",
      "  5%|▍         | 4561/100000 [00:02<00:58, 1619.47it/s]\u001b[A\n",
      "  5%|▍         | 4737/100000 [00:02<00:57, 1659.65it/s]\u001b[A\n",
      "  5%|▍         | 4919/100000 [00:02<00:55, 1704.89it/s]\u001b[A\n",
      "  5%|▌         | 5099/100000 [00:02<00:54, 1733.04it/s]\u001b[A\n",
      "  5%|▌         | 5282/100000 [00:03<00:53, 1760.49it/s]\u001b[A\n",
      "  5%|▌         | 5461/100000 [00:03<00:53, 1769.19it/s]\u001b[A\n",
      "  6%|▌         | 5640/100000 [00:03<00:53, 1774.67it/s]\u001b[A\n",
      "  6%|▌         | 5821/100000 [00:03<00:52, 1783.75it/s]\u001b[A\n",
      "  6%|▌         | 6003/100000 [00:03<00:52, 1791.84it/s]\u001b[A\n",
      "  6%|▌         | 6183/100000 [00:03<00:53, 1748.68it/s]\u001b[A\n",
      "  6%|▋         | 6369/100000 [00:03<00:52, 1780.70it/s]\u001b[A\n",
      "  7%|▋         | 6548/100000 [00:03<00:52, 1773.34it/s]\u001b[A\n",
      "  7%|▋         | 6728/100000 [00:03<00:52, 1779.79it/s]\u001b[A\n",
      "  7%|▋         | 6907/100000 [00:04<00:53, 1739.97it/s]\u001b[A\n",
      "  7%|▋         | 7086/100000 [00:04<00:52, 1754.31it/s]\u001b[A\n",
      "  7%|▋         | 7265/100000 [00:04<00:52, 1764.60it/s]\u001b[A\n",
      "  7%|▋         | 7448/100000 [00:04<00:51, 1783.05it/s]\u001b[A\n",
      "  8%|▊         | 7631/100000 [00:04<00:51, 1794.99it/s]\u001b[A\n",
      "  8%|▊         | 7819/100000 [00:04<00:50, 1819.52it/s]\u001b[A\n",
      "  8%|▊         | 8002/100000 [00:04<00:50, 1810.25it/s]\u001b[A\n",
      "  8%|▊         | 8185/100000 [00:04<00:50, 1813.25it/s]\u001b[A\n",
      "  8%|▊         | 8368/100000 [00:04<00:50, 1816.69it/s]\u001b[A\n",
      "  9%|▊         | 8553/100000 [00:04<00:50, 1825.56it/s]\u001b[A\n",
      "  9%|▊         | 8737/100000 [00:05<00:49, 1828.93it/s]\u001b[A\n",
      "  9%|▉         | 8920/100000 [00:05<00:50, 1819.82it/s]\u001b[A\n",
      "  9%|▉         | 9103/100000 [00:05<00:50, 1794.11it/s]\u001b[A\n",
      "  9%|▉         | 9290/100000 [00:05<00:49, 1814.65it/s]\u001b[A\n",
      "  9%|▉         | 9472/100000 [00:05<00:50, 1775.43it/s]\u001b[A\n",
      " 10%|▉         | 9655/100000 [00:05<00:50, 1789.04it/s]\u001b[A\n",
      " 10%|▉         | 9840/100000 [00:05<00:49, 1804.56it/s]\u001b[A\n",
      " 10%|█         | 10024/100000 [00:05<00:49, 1812.62it/s]\u001b[A\n",
      " 10%|█         | 10206/100000 [00:05<00:49, 1812.92it/s]\u001b[A\n",
      " 10%|█         | 10390/100000 [00:05<00:49, 1818.52it/s]\u001b[A\n",
      " 11%|█         | 10572/100000 [00:06<00:49, 1818.90it/s]\u001b[A\n",
      " 11%|█         | 10757/100000 [00:06<00:48, 1825.89it/s]\u001b[A\n",
      " 11%|█         | 10940/100000 [00:06<00:48, 1825.38it/s]\u001b[A\n",
      " 11%|█         | 11123/100000 [00:06<00:50, 1777.40it/s]\u001b[A\n",
      " 11%|█▏        | 11306/100000 [00:06<00:49, 1792.27it/s]\u001b[A\n",
      " 11%|█▏        | 11488/100000 [00:06<00:49, 1799.63it/s]\u001b[A\n",
      " 12%|█▏        | 11669/100000 [00:06<00:49, 1798.17it/s]\u001b[A\n",
      " 12%|█▏        | 11854/100000 [00:06<00:48, 1812.74it/s]\u001b[A\n",
      " 12%|█▏        | 12036/100000 [00:06<00:49, 1767.67it/s]\u001b[A\n",
      " 12%|█▏        | 12225/100000 [00:06<00:48, 1803.16it/s]\u001b[A\n",
      " 12%|█▏        | 12410/100000 [00:07<00:48, 1815.43it/s]\u001b[A\n",
      " 13%|█▎        | 12592/100000 [00:07<00:49, 1769.16it/s]\u001b[A\n",
      " 13%|█▎        | 12779/100000 [00:07<00:48, 1798.17it/s]\u001b[A\n",
      " 13%|█▎        | 12960/100000 [00:07<00:49, 1755.06it/s]\u001b[A\n",
      " 13%|█▎        | 13136/100000 [00:07<00:50, 1725.56it/s]\u001b[A\n",
      " 13%|█▎        | 13316/100000 [00:07<00:49, 1744.91it/s]\u001b[A\n",
      " 13%|█▎        | 13499/100000 [00:07<00:48, 1768.17it/s]\u001b[A\n",
      " 14%|█▎        | 13678/100000 [00:07<00:48, 1772.19it/s]\u001b[A\n",
      " 14%|█▍        | 13858/100000 [00:07<00:48, 1779.47it/s]\u001b[A\n",
      " 14%|█▍        | 14040/100000 [00:07<00:48, 1789.13it/s]\u001b[A\n",
      " 14%|█▍        | 14221/100000 [00:08<00:47, 1793.00it/s]\u001b[A\n",
      " 14%|█▍        | 14403/100000 [00:08<00:47, 1798.45it/s]\u001b[A\n",
      " 15%|█▍        | 14583/100000 [00:08<00:47, 1788.94it/s]\u001b[A\n",
      " 15%|█▍        | 14762/100000 [00:08<00:48, 1774.04it/s]\u001b[A\n",
      " 15%|█▍        | 14940/100000 [00:08<00:48, 1766.42it/s]\u001b[A\n",
      " 15%|█▌        | 15117/100000 [00:08<00:48, 1765.05it/s]\u001b[A\n",
      " 15%|█▌        | 15294/100000 [00:08<00:48, 1729.02it/s]\u001b[A\n",
      " 15%|█▌        | 15474/100000 [00:08<00:48, 1749.70it/s]\u001b[A\n",
      " 16%|█▌        | 15650/100000 [00:08<00:49, 1701.09it/s]\u001b[A\n",
      " 16%|█▌        | 15821/100000 [00:09<00:50, 1669.81it/s]\u001b[A\n",
      " 16%|█▌        | 15989/100000 [00:09<00:50, 1663.38it/s]\u001b[A\n",
      " 16%|█▌        | 16167/100000 [00:09<00:49, 1695.73it/s]\u001b[A\n",
      " 16%|█▋        | 16348/100000 [00:09<00:48, 1726.79it/s]\u001b[A\n",
      " 17%|█▋        | 16526/100000 [00:09<00:47, 1741.23it/s]\u001b[A\n",
      " 17%|█▋        | 16701/100000 [00:09<00:49, 1696.44it/s]\u001b[A\n",
      " 17%|█▋        | 16871/100000 [00:09<00:49, 1682.40it/s]\u001b[A\n",
      " 17%|█▋        | 17052/100000 [00:09<00:48, 1719.54it/s]\u001b[A\n",
      " 17%|█▋        | 17233/100000 [00:09<00:47, 1745.99it/s]\u001b[A\n",
      " 17%|█▋        | 17415/100000 [00:09<00:46, 1765.58it/s]\u001b[A\n",
      " 18%|█▊        | 17592/100000 [00:10<00:47, 1736.86it/s]\u001b[A\n",
      " 18%|█▊        | 17766/100000 [00:10<00:48, 1711.32it/s]\u001b[A\n",
      " 18%|█▊        | 17952/100000 [00:10<00:46, 1753.22it/s]\u001b[A\n",
      " 18%|█▊        | 18138/100000 [00:10<00:45, 1783.05it/s]\u001b[A\n",
      " 18%|█▊        | 18321/100000 [00:10<00:45, 1794.40it/s]\u001b[A\n",
      " 19%|█▊        | 18501/100000 [00:10<00:45, 1790.29it/s]\u001b[A\n",
      " 19%|█▊        | 18684/100000 [00:10<00:45, 1798.78it/s]\u001b[A\n",
      " 19%|█▉        | 18867/100000 [00:10<00:44, 1805.95it/s]\u001b[A\n",
      " 19%|█▉        | 19050/100000 [00:10<00:44, 1811.39it/s]\u001b[A\n",
      " 19%|█▉        | 19232/100000 [00:10<00:44, 1808.53it/s]\u001b[A\n",
      " 19%|█▉        | 19416/100000 [00:11<00:44, 1814.75it/s]\u001b[A\n",
      " 20%|█▉        | 19598/100000 [00:11<00:44, 1815.66it/s]\u001b[A\n",
      " 20%|█▉        | 19785/100000 [00:11<00:43, 1831.41it/s]\u001b[A\n",
      " 20%|█▉        | 19969/100000 [00:11<00:44, 1782.03it/s]\u001b[A\n",
      " 20%|██        | 20154/100000 [00:11<00:44, 1801.54it/s]\u001b[A\n",
      " 20%|██        | 20335/100000 [00:11<00:44, 1789.52it/s]\u001b[A\n",
      " 21%|██        | 20515/100000 [00:11<00:45, 1747.97it/s]\u001b[A\n",
      " 21%|██        | 20692/100000 [00:11<00:45, 1753.60it/s]\u001b[A\n",
      " 10%|▉         | 9982/100000 [00:51<07:17, 205.93it/s]s]\u001b[A\n",
      " 21%|██        | 21052/100000 [00:11<00:46, 1715.90it/s]\u001b[A\n",
      " 21%|██        | 21237/100000 [00:12<00:44, 1754.46it/s]\u001b[A\n",
      " 21%|██▏       | 21420/100000 [00:12<00:44, 1775.65it/s]\u001b[A\n",
      " 22%|██▏       | 21598/100000 [00:12<00:45, 1740.36it/s]\u001b[A\n",
      " 22%|██▏       | 21781/100000 [00:12<00:44, 1765.04it/s]\u001b[A\n",
      " 22%|██▏       | 21962/100000 [00:12<00:43, 1777.18it/s]\u001b[A\n",
      " 22%|██▏       | 22144/100000 [00:12<00:43, 1787.22it/s]\u001b[A\n",
      " 22%|██▏       | 22323/100000 [00:12<00:44, 1734.79it/s]\u001b[A\n",
      " 23%|██▎       | 22506/100000 [00:12<00:44, 1760.32it/s]\u001b[A\n",
      " 23%|██▎       | 22683/100000 [00:12<00:44, 1722.23it/s]\u001b[A\n",
      " 23%|██▎       | 22869/100000 [00:13<00:43, 1760.17it/s]\u001b[A\n",
      " 23%|██▎       | 23046/100000 [00:13<00:44, 1713.58it/s]\u001b[A\n",
      " 23%|██▎       | 23218/100000 [00:13<00:44, 1715.39it/s]\u001b[A\n",
      " 23%|██▎       | 23390/100000 [00:13<00:45, 1689.02it/s]\u001b[A\n",
      " 24%|██▎       | 23578/100000 [00:13<00:43, 1744.41it/s]\u001b[A\n",
      " 24%|██▍       | 23753/100000 [00:13<00:44, 1714.37it/s]\u001b[A\n",
      " 24%|██▍       | 23936/100000 [00:13<00:43, 1746.88it/s]\u001b[A\n",
      " 24%|██▍       | 24118/100000 [00:13<00:42, 1766.38it/s]\u001b[A\n",
      " 24%|██▍       | 24295/100000 [00:13<00:43, 1738.07it/s]\u001b[A\n",
      " 24%|██▍       | 24478/100000 [00:13<00:42, 1762.51it/s]\u001b[A\n",
      " 25%|██▍       | 24655/100000 [00:14<00:43, 1730.98it/s]\u001b[A\n",
      " 25%|██▍       | 24830/100000 [00:14<00:43, 1735.38it/s]\u001b[A\n",
      " 25%|██▌       | 25012/100000 [00:14<00:42, 1759.96it/s]\u001b[A\n",
      " 25%|██▌       | 25196/100000 [00:14<00:41, 1781.32it/s]\u001b[A\n",
      " 25%|██▌       | 25379/100000 [00:14<00:41, 1794.81it/s]\u001b[A\n",
      " 26%|██▌       | 25559/100000 [00:14<00:41, 1790.19it/s]\u001b[A\n",
      " 26%|██▌       | 25739/100000 [00:14<00:41, 1784.91it/s]\u001b[A\n",
      " 26%|██▌       | 25921/100000 [00:14<00:41, 1794.67it/s]\u001b[A\n",
      " 26%|██▌       | 26105/100000 [00:14<00:40, 1807.82it/s]\u001b[A\n",
      " 26%|██▋       | 26287/100000 [00:14<00:40, 1809.28it/s]\u001b[A\n",
      " 26%|██▋       | 26470/100000 [00:15<00:40, 1813.99it/s]\u001b[A\n",
      " 27%|██▋       | 26653/100000 [00:15<00:40, 1816.70it/s]\u001b[A\n",
      " 27%|██▋       | 26837/100000 [00:15<00:40, 1823.00it/s]\u001b[A\n",
      " 27%|██▋       | 27020/100000 [00:15<00:40, 1817.91it/s]\u001b[A\n",
      " 27%|██▋       | 27204/100000 [00:15<00:39, 1823.64it/s]\u001b[A\n",
      " 27%|██▋       | 27387/100000 [00:15<00:40, 1799.28it/s]\u001b[A\n",
      " 28%|██▊       | 27568/100000 [00:15<00:40, 1799.81it/s]\u001b[A\n",
      " 28%|██▊       | 27749/100000 [00:15<00:40, 1774.31it/s]\u001b[A\n",
      " 28%|██▊       | 27927/100000 [00:15<00:40, 1768.65it/s]\u001b[A\n",
      " 28%|██▊       | 28106/100000 [00:15<00:40, 1773.68it/s]\u001b[A\n",
      " 28%|██▊       | 28291/100000 [00:16<00:39, 1795.95it/s]\u001b[A\n",
      " 28%|██▊       | 28476/100000 [00:16<00:39, 1810.38it/s]\u001b[A\n",
      " 29%|██▊       | 28658/100000 [00:16<00:40, 1761.03it/s]\u001b[A\n",
      " 29%|██▉       | 28835/100000 [00:16<00:41, 1726.02it/s]\u001b[A\n",
      " 29%|██▉       | 29008/100000 [00:16<00:41, 1709.51it/s]\u001b[A\n",
      " 29%|██▉       | 29189/100000 [00:16<00:40, 1736.95it/s]\u001b[A\n",
      " 29%|██▉       | 29371/100000 [00:16<00:40, 1759.42it/s]\u001b[A\n",
      " 30%|██▉       | 29548/100000 [00:16<00:40, 1718.72it/s]\u001b[A\n",
      " 30%|██▉       | 29724/100000 [00:16<00:40, 1730.03it/s]\u001b[A\n",
      " 30%|██▉       | 29907/100000 [00:16<00:39, 1756.96it/s]\u001b[A\n",
      " 30%|███       | 30090/100000 [00:17<00:39, 1775.88it/s]\u001b[A\n",
      " 30%|███       | 30269/100000 [00:17<00:39, 1777.85it/s]\u001b[A\n",
      " 30%|███       | 30451/100000 [00:17<00:38, 1790.01it/s]\u001b[A\n",
      " 31%|███       | 30634/100000 [00:17<00:38, 1800.74it/s]\u001b[A\n",
      " 31%|███       | 30817/100000 [00:17<00:38, 1808.56it/s]\u001b[A\n",
      " 31%|███       | 30998/100000 [00:17<00:38, 1786.42it/s]\u001b[A\n",
      " 31%|███       | 31177/100000 [00:17<00:38, 1773.99it/s]\u001b[A\n",
      " 31%|███▏      | 31355/100000 [00:17<00:38, 1766.15it/s]\u001b[A\n",
      " 32%|███▏      | 31532/100000 [00:17<00:38, 1764.34it/s]\u001b[A\n",
      " 32%|███▏      | 31709/100000 [00:18<00:38, 1759.23it/s]\u001b[A\n",
      " 32%|███▏      | 31885/100000 [00:18<00:38, 1746.72it/s]\u001b[A\n",
      " 32%|███▏      | 32060/100000 [00:18<00:38, 1745.76it/s]\u001b[A\n",
      " 32%|███▏      | 32236/100000 [00:18<00:38, 1747.98it/s]\u001b[A\n",
      " 32%|███▏      | 32411/100000 [00:18<00:39, 1702.52it/s]\u001b[A\n",
      " 33%|███▎      | 32582/100000 [00:18<00:40, 1673.24it/s]\u001b[A\n",
      " 33%|███▎      | 32767/100000 [00:18<00:39, 1722.53it/s]\u001b[A\n",
      " 33%|███▎      | 32940/100000 [00:18<00:39, 1706.79it/s]\u001b[A\n",
      " 33%|███▎      | 33122/100000 [00:18<00:38, 1738.97it/s]\u001b[A\n",
      " 33%|███▎      | 33304/100000 [00:18<00:37, 1762.80it/s]\u001b[A\n",
      " 33%|███▎      | 33481/100000 [00:19<00:38, 1724.74it/s]\u001b[A\n",
      " 34%|███▎      | 33668/100000 [00:19<00:37, 1765.88it/s]\u001b[A\n",
      " 34%|███▍      | 33851/100000 [00:19<00:37, 1782.30it/s]\u001b[A\n",
      " 34%|███▍      | 34034/100000 [00:19<00:36, 1795.36it/s]\u001b[A\n",
      " 34%|███▍      | 34217/100000 [00:19<00:36, 1804.16it/s]\u001b[A\n",
      " 34%|███▍      | 34398/100000 [00:19<00:36, 1797.68it/s]\u001b[A\n",
      " 35%|███▍      | 34578/100000 [00:19<00:36, 1792.10it/s]\u001b[A\n",
      " 35%|███▍      | 34758/100000 [00:19<00:37, 1750.73it/s]\u001b[A\n",
      " 35%|███▍      | 34938/100000 [00:19<00:36, 1762.66it/s]\u001b[A\n",
      " 35%|███▌      | 35116/100000 [00:19<00:36, 1764.80it/s]\u001b[A\n",
      " 35%|███▌      | 35299/100000 [00:20<00:36, 1783.15it/s]\u001b[A\n",
      " 35%|███▌      | 35478/100000 [00:20<00:36, 1783.93it/s]\u001b[A\n",
      " 36%|███▌      | 35665/100000 [00:20<00:35, 1807.27it/s]\u001b[A\n",
      " 36%|███▌      | 35846/100000 [00:20<00:35, 1799.91it/s]\u001b[A\n",
      " 36%|███▌      | 36028/100000 [00:20<00:35, 1805.53it/s]\u001b[A\n",
      " 36%|███▌      | 36209/100000 [00:20<00:35, 1800.93it/s]\u001b[A\n",
      " 36%|███▋      | 36390/100000 [00:20<00:35, 1772.32it/s]\u001b[A\n",
      " 37%|███▋      | 36575/100000 [00:20<00:35, 1793.00it/s]\u001b[A\n",
      " 37%|███▋      | 36760/100000 [00:20<00:34, 1809.62it/s]\u001b[A\n",
      " 37%|███▋      | 36942/100000 [00:20<00:34, 1811.18it/s]\u001b[A\n",
      " 37%|███▋      | 37126/100000 [00:21<00:34, 1819.00it/s]\u001b[A\n",
      " 37%|███▋      | 37311/100000 [00:21<00:34, 1825.78it/s]\u001b[A\n",
      " 37%|███▋      | 37496/100000 [00:21<00:34, 1832.50it/s]\u001b[A\n",
      " 38%|███▊      | 37680/100000 [00:21<00:34, 1830.49it/s]\u001b[A\n",
      " 38%|███▊      | 37865/100000 [00:21<00:33, 1835.60it/s]\u001b[A\n",
      " 38%|███▊      | 38049/100000 [00:21<00:33, 1833.48it/s]\u001b[A\n",
      " 38%|███▊      | 38233/100000 [00:21<00:33, 1834.85it/s]\u001b[A\n",
      " 38%|███▊      | 38417/100000 [00:21<00:33, 1835.24it/s]\u001b[A\n",
      " 39%|███▊      | 38601/100000 [00:21<00:34, 1771.15it/s]\u001b[A\n",
      " 39%|███▉      | 38779/100000 [00:21<00:35, 1733.94it/s]\u001b[A\n",
      " 39%|███▉      | 38961/100000 [00:22<00:34, 1757.46it/s]\u001b[A\n",
      " 39%|███▉      | 39144/100000 [00:22<00:34, 1777.79it/s]\u001b[A\n",
      " 39%|███▉      | 39325/100000 [00:22<00:33, 1785.17it/s]\u001b[A\n",
      " 40%|███▉      | 39504/100000 [00:22<00:33, 1783.71it/s]\u001b[A\n",
      " 40%|███▉      | 39685/100000 [00:22<00:33, 1789.37it/s]\u001b[A\n",
      " 40%|███▉      | 39868/100000 [00:22<00:33, 1800.69it/s]\u001b[A\n",
      " 40%|████      | 40049/100000 [00:22<00:33, 1799.09it/s]\u001b[A\n",
      " 40%|████      | 40230/100000 [00:22<00:33, 1800.02it/s]\u001b[A\n",
      " 40%|████      | 40411/100000 [00:22<00:33, 1802.10it/s]\u001b[A\n",
      " 41%|████      | 40594/100000 [00:22<00:32, 1809.64it/s]\u001b[A\n",
      " 41%|████      | 40780/100000 [00:23<00:32, 1822.77it/s]\u001b[A\n",
      " 41%|████      | 40963/100000 [00:23<00:33, 1774.58it/s]\u001b[A\n",
      " 41%|████      | 41141/100000 [00:23<00:33, 1737.74it/s]\u001b[A\n",
      " 41%|████▏     | 41321/100000 [00:23<00:33, 1753.96it/s]\u001b[A\n",
      " 42%|████▏     | 41500/100000 [00:23<00:33, 1763.51it/s]\u001b[A\n",
      " 42%|████▏     | 41680/100000 [00:23<00:32, 1773.11it/s]\u001b[A\n",
      " 42%|████▏     | 41860/100000 [00:23<00:32, 1780.80it/s]\u001b[A\n",
      " 42%|████▏     | 42042/100000 [00:23<00:32, 1790.30it/s]\u001b[A\n",
      " 42%|████▏     | 42225/100000 [00:23<00:32, 1801.96it/s]\u001b[A\n",
      " 42%|████▏     | 42406/100000 [00:24<00:31, 1801.38it/s]\u001b[A\n",
      " 43%|████▎     | 42589/100000 [00:24<00:31, 1807.72it/s]\u001b[A\n",
      " 43%|████▎     | 42770/100000 [00:24<00:31, 1799.06it/s]\u001b[A\n",
      " 43%|████▎     | 42950/100000 [00:24<00:31, 1796.28it/s]\u001b[A\n",
      " 43%|████▎     | 43132/100000 [00:24<00:31, 1802.05it/s]\u001b[A\n",
      " 43%|████▎     | 43317/100000 [00:24<00:31, 1813.83it/s]\u001b[A\n",
      " 43%|████▎     | 43499/100000 [00:24<00:31, 1810.76it/s]\u001b[A\n",
      " 44%|████▎     | 43681/100000 [00:24<00:31, 1813.42it/s]\u001b[A\n",
      " 44%|████▍     | 43863/100000 [00:24<00:31, 1810.18it/s]\u001b[A\n",
      " 44%|████▍     | 44045/100000 [00:24<00:30, 1807.52it/s]\u001b[A\n",
      " 44%|████▍     | 44226/100000 [00:25<00:30, 1808.22it/s]\u001b[A\n",
      " 44%|████▍     | 44407/100000 [00:25<00:30, 1805.62it/s]\u001b[A\n",
      " 45%|████▍     | 44589/100000 [00:25<00:30, 1806.45it/s]\u001b[A\n",
      " 45%|████▍     | 44771/100000 [00:25<00:30, 1807.24it/s]\u001b[A\n",
      " 45%|████▍     | 44954/100000 [00:25<00:30, 1812.35it/s]\u001b[A\n",
      " 45%|████▌     | 45138/100000 [00:25<00:30, 1820.10it/s]\u001b[A\n",
      " 45%|████▌     | 45321/100000 [00:25<00:30, 1821.31it/s]\u001b[A\n",
      " 46%|████▌     | 45504/100000 [00:25<00:29, 1819.41it/s]\u001b[A\n",
      " 46%|████▌     | 45686/100000 [00:25<00:29, 1814.31it/s]\u001b[A\n",
      " 46%|████▌     | 45868/100000 [00:25<00:29, 1815.90it/s]\u001b[A\n",
      " 46%|████▌     | 46055/100000 [00:26<00:29, 1829.45it/s]\u001b[A\n",
      " 46%|████▌     | 46238/100000 [00:26<00:29, 1822.14it/s]\u001b[A\n",
      " 46%|████▋     | 46421/100000 [00:26<00:29, 1817.67it/s]\u001b[A\n",
      " 47%|████▋     | 46603/100000 [00:26<00:29, 1816.27it/s]\u001b[A\n",
      " 47%|████▋     | 46786/100000 [00:26<00:29, 1817.88it/s]\u001b[A\n",
      " 47%|████▋     | 46968/100000 [00:26<00:29, 1814.30it/s]\u001b[A\n",
      " 47%|████▋     | 47150/100000 [00:26<00:29, 1799.69it/s]\u001b[A\n",
      " 47%|████▋     | 47330/100000 [00:26<00:29, 1788.58it/s]\u001b[A\n",
      " 48%|████▊     | 47509/100000 [00:26<00:29, 1783.60it/s]\u001b[A\n",
      " 48%|████▊     | 47688/100000 [00:26<00:29, 1765.36it/s]\u001b[A\n",
      " 48%|████▊     | 47865/100000 [00:27<00:30, 1730.59it/s]\u001b[A\n",
      " 48%|████▊     | 48039/100000 [00:27<00:30, 1715.22it/s]\u001b[A\n",
      " 48%|████▊     | 48211/100000 [00:27<00:30, 1686.78it/s]\u001b[A\n",
      " 48%|████▊     | 48380/100000 [00:27<00:30, 1673.09it/s]\u001b[A\n",
      " 49%|████▊     | 48548/100000 [00:27<00:31, 1645.55it/s]\u001b[A\n",
      " 49%|████▊     | 48721/100000 [00:27<00:30, 1669.42it/s]\u001b[A\n",
      " 49%|████▉     | 48899/100000 [00:27<00:30, 1699.51it/s]\u001b[A\n",
      " 49%|████▉     | 49071/100000 [00:27<00:29, 1702.75it/s]\u001b[A\n",
      " 49%|████▉     | 49243/100000 [00:27<00:29, 1706.96it/s]\u001b[A\n",
      " 49%|████▉     | 49417/100000 [00:27<00:29, 1715.40it/s]\u001b[A\n",
      " 50%|████▉     | 49589/100000 [00:28<00:29, 1716.53it/s]\u001b[A\n",
      " 50%|████▉     | 49762/100000 [00:28<00:29, 1719.86it/s]\u001b[A\n",
      " 50%|████▉     | 49935/100000 [00:28<00:29, 1721.92it/s]\u001b[A\n",
      " 50%|█████     | 50108/100000 [00:28<00:28, 1723.30it/s]\u001b[A\n",
      " 50%|█████     | 50281/100000 [00:28<00:28, 1723.76it/s]\u001b[A\n",
      " 50%|█████     | 50454/100000 [00:28<00:29, 1692.55it/s]\u001b[A\n",
      " 51%|█████     | 50631/100000 [00:28<00:28, 1713.05it/s]\u001b[A\n",
      " 51%|█████     | 50812/100000 [00:28<00:28, 1739.75it/s]\u001b[A\n",
      " 51%|█████     | 50994/100000 [00:28<00:27, 1762.77it/s]\u001b[A\n",
      " 51%|█████     | 51179/100000 [00:28<00:27, 1787.73it/s]\u001b[A\n",
      " 51%|█████▏    | 51358/100000 [00:29<00:27, 1742.33it/s]\u001b[A\n",
      " 52%|█████▏    | 51536/100000 [00:29<00:27, 1752.61it/s]\u001b[A\n",
      " 52%|█████▏    | 51717/100000 [00:29<00:27, 1768.18it/s]\u001b[A\n",
      " 52%|█████▏    | 51897/100000 [00:29<00:27, 1776.74it/s]\u001b[A\n",
      " 52%|█████▏    | 52077/100000 [00:29<00:26, 1783.28it/s]\u001b[A\n",
      " 52%|█████▏    | 52256/100000 [00:29<00:26, 1771.48it/s]\u001b[A\n",
      " 52%|█████▏    | 52436/100000 [00:29<00:26, 1778.45it/s]\u001b[A\n",
      " 53%|█████▎    | 52614/100000 [00:29<00:26, 1777.95it/s]\u001b[A\n",
      " 53%|█████▎    | 52798/100000 [00:29<00:26, 1796.15it/s]\u001b[A\n",
      " 53%|█████▎    | 52978/100000 [00:29<00:26, 1788.83it/s]\u001b[A\n",
      " 53%|█████▎    | 53157/100000 [00:30<00:26, 1782.49it/s]\u001b[A\n",
      " 53%|█████▎    | 53346/100000 [00:30<00:25, 1811.84it/s]\u001b[A\n",
      " 54%|█████▎    | 53535/100000 [00:30<00:25, 1832.75it/s]\u001b[A\n",
      " 54%|█████▎    | 53719/100000 [00:30<00:25, 1832.47it/s]\u001b[A\n",
      " 54%|█████▍    | 53903/100000 [00:30<00:25, 1780.44it/s]\u001b[A\n",
      " 54%|█████▍    | 54082/100000 [00:30<00:26, 1759.82it/s]\u001b[A\n",
      " 54%|█████▍    | 54265/100000 [00:30<00:25, 1778.64it/s]\u001b[A\n",
      " 54%|█████▍    | 54450/100000 [00:30<00:25, 1799.43it/s]\u001b[A\n",
      " 55%|█████▍    | 54633/100000 [00:30<00:25, 1807.95it/s]\u001b[A\n",
      " 55%|█████▍    | 54814/100000 [00:31<00:25, 1762.67it/s]\u001b[A\n",
      " 55%|█████▍    | 54998/100000 [00:31<00:25, 1785.03it/s]\u001b[A\n",
      " 55%|█████▌    | 55178/100000 [00:31<00:25, 1787.70it/s]\u001b[A\n",
      " 55%|█████▌    | 55358/100000 [00:31<00:24, 1789.84it/s]\u001b[A\n",
      " 56%|█████▌    | 55538/100000 [00:31<00:24, 1788.13it/s]\u001b[A\n",
      " 56%|█████▌    | 55717/100000 [00:31<00:24, 1786.87it/s]\u001b[A\n",
      " 56%|█████▌    | 55896/100000 [00:31<00:24, 1786.93it/s]\u001b[A\n",
      " 56%|█████▌    | 56075/100000 [00:31<00:24, 1778.20it/s]\u001b[A\n",
      " 56%|█████▋    | 56253/100000 [00:31<00:24, 1776.46it/s]\u001b[A\n",
      " 56%|█████▋    | 56431/100000 [00:31<00:24, 1777.48it/s]\u001b[A\n",
      " 57%|█████▋    | 56609/100000 [00:32<00:24, 1776.24it/s]\u001b[A\n",
      " 57%|█████▋    | 56788/100000 [00:32<00:24, 1778.30it/s]\u001b[A\n",
      " 57%|█████▋    | 56971/100000 [00:32<00:24, 1791.26it/s]\u001b[A\n",
      " 57%|█████▋    | 57151/100000 [00:32<00:24, 1783.74it/s]\u001b[A\n",
      " 57%|█████▋    | 57331/100000 [00:32<00:23, 1786.59it/s]\u001b[A\n",
      " 58%|█████▊    | 57510/100000 [00:32<00:24, 1754.03it/s]\u001b[A\n",
      " 58%|█████▊    | 57686/100000 [00:32<00:24, 1696.08it/s]\u001b[A\n",
      " 58%|█████▊    | 57857/100000 [00:32<00:24, 1699.65it/s]\u001b[A\n",
      " 58%|█████▊    | 58028/100000 [00:32<00:25, 1673.86it/s]\u001b[A\n",
      " 58%|█████▊    | 58196/100000 [00:32<00:25, 1650.28it/s]\u001b[A\n",
      " 58%|█████▊    | 58362/100000 [00:33<00:25, 1641.58it/s]\u001b[A\n",
      " 59%|█████▊    | 58527/100000 [00:33<00:25, 1632.92it/s]\u001b[A\n",
      " 59%|█████▊    | 58691/100000 [00:33<00:25, 1620.40it/s]\u001b[A\n",
      " 59%|█████▉    | 58854/100000 [00:33<00:25, 1606.27it/s]\u001b[A\n",
      " 59%|█████▉    | 59026/100000 [00:33<00:24, 1639.09it/s]\u001b[A\n",
      " 59%|█████▉    | 59195/100000 [00:33<00:24, 1654.06it/s]\u001b[A\n",
      " 59%|█████▉    | 59370/100000 [00:33<00:24, 1681.45it/s]\u001b[A\n",
      " 60%|█████▉    | 59539/100000 [00:33<00:24, 1657.03it/s]\u001b[A\n",
      " 60%|█████▉    | 59722/100000 [00:33<00:23, 1706.91it/s]\u001b[A\n",
      " 60%|█████▉    | 59901/100000 [00:33<00:23, 1730.62it/s]\u001b[A\n",
      " 60%|██████    | 60080/100000 [00:34<00:22, 1746.64it/s]\u001b[A\n",
      " 60%|██████    | 60255/100000 [00:34<00:23, 1694.26it/s]\u001b[A\n",
      " 60%|██████    | 60432/100000 [00:34<00:23, 1715.69it/s]\u001b[A\n",
      " 61%|██████    | 60607/100000 [00:34<00:22, 1725.66it/s]\u001b[A\n",
      " 61%|██████    | 60780/100000 [00:34<00:22, 1726.61it/s]\u001b[A\n",
      " 61%|██████    | 60953/100000 [00:34<00:22, 1717.89it/s]\u001b[A\n",
      " 61%|██████    | 61130/100000 [00:34<00:22, 1733.05it/s]\u001b[A\n",
      " 61%|██████▏   | 61310/100000 [00:34<00:22, 1751.82it/s]\u001b[A\n",
      " 61%|██████▏   | 61488/100000 [00:34<00:21, 1758.12it/s]\u001b[A\n",
      " 62%|██████▏   | 61664/100000 [00:34<00:21, 1757.05it/s]\u001b[A\n",
      " 62%|██████▏   | 61842/100000 [00:35<00:21, 1761.97it/s]\u001b[A\n",
      " 62%|██████▏   | 62026/100000 [00:35<00:21, 1783.83it/s]\u001b[A\n",
      " 62%|██████▏   | 62205/100000 [00:35<00:21, 1774.28it/s]\u001b[A\n",
      " 62%|██████▏   | 62383/100000 [00:35<00:21, 1767.35it/s]\u001b[A\n",
      " 63%|██████▎   | 62560/100000 [00:35<00:21, 1767.21it/s]\u001b[A\n",
      " 63%|██████▎   | 62737/100000 [00:35<00:21, 1753.96it/s]\u001b[A\n",
      " 63%|██████▎   | 62913/100000 [00:35<00:21, 1754.56it/s]\u001b[A\n",
      " 63%|██████▎   | 63093/100000 [00:35<00:20, 1766.12it/s]\u001b[A\n",
      " 63%|██████▎   | 63270/100000 [00:35<00:21, 1740.99it/s]\u001b[A\n",
      " 63%|██████▎   | 63461/100000 [00:35<00:20, 1789.08it/s]\u001b[A\n",
      " 64%|██████▎   | 63641/100000 [00:36<00:20, 1751.74it/s]\u001b[A\n",
      " 64%|██████▍   | 63823/100000 [00:36<00:20, 1770.31it/s]\u001b[A\n",
      " 64%|██████▍   | 64006/100000 [00:36<00:20, 1786.87it/s]\u001b[A\n",
      " 64%|██████▍   | 64186/100000 [00:36<00:20, 1787.68it/s]\u001b[A\n",
      " 64%|██████▍   | 64367/100000 [00:36<00:19, 1794.10it/s]\u001b[A\n",
      " 65%|██████▍   | 64547/100000 [00:36<00:19, 1780.10it/s]\u001b[A\n",
      " 65%|██████▍   | 64730/100000 [00:36<00:19, 1792.71it/s]\u001b[A\n",
      " 65%|██████▍   | 64910/100000 [00:36<00:19, 1794.71it/s]\u001b[A\n",
      " 65%|██████▌   | 65093/100000 [00:36<00:19, 1804.73it/s]\u001b[A\n",
      " 65%|██████▌   | 65274/100000 [00:37<00:19, 1764.51it/s]\u001b[A\n",
      " 65%|██████▌   | 65456/100000 [00:37<00:19, 1779.22it/s]\u001b[A\n",
      " 66%|██████▌   | 65635/100000 [00:37<00:19, 1776.59it/s]\u001b[A\n",
      " 66%|██████▌   | 65816/100000 [00:37<00:19, 1784.79it/s]\u001b[A\n",
      " 66%|██████▌   | 65997/100000 [00:37<00:18, 1790.23it/s]\u001b[A\n",
      " 66%|██████▌   | 66183/100000 [00:37<00:18, 1809.00it/s]\u001b[A\n",
      " 66%|██████▋   | 66364/100000 [00:37<00:18, 1791.22it/s]\u001b[A\n",
      " 67%|██████▋   | 66544/100000 [00:37<00:18, 1781.25it/s]\u001b[A\n",
      " 67%|██████▋   | 66724/100000 [00:37<00:18, 1784.14it/s]\u001b[A\n",
      " 67%|██████▋   | 66903/100000 [00:37<00:19, 1734.72it/s]\u001b[A\n",
      " 67%|██████▋   | 67077/100000 [00:38<00:19, 1684.89it/s]\u001b[A\n",
      " 67%|██████▋   | 67246/100000 [00:38<00:19, 1662.90it/s]\u001b[A\n",
      " 67%|██████▋   | 67423/100000 [00:38<00:19, 1693.38it/s]\u001b[A\n",
      " 68%|██████▊   | 67604/100000 [00:38<00:18, 1726.20it/s]\u001b[A\n",
      " 68%|██████▊   | 67783/100000 [00:38<00:18, 1743.37it/s]\u001b[A\n",
      " 68%|██████▊   | 67958/100000 [00:38<00:18, 1743.29it/s]\u001b[A\n",
      " 68%|██████▊   | 68135/100000 [00:38<00:18, 1750.94it/s]\u001b[A\n",
      " 68%|██████▊   | 68313/100000 [00:38<00:18, 1758.97it/s]\u001b[A\n",
      " 68%|██████▊   | 68489/100000 [00:38<00:17, 1758.11it/s]\u001b[A\n",
      " 69%|██████▊   | 68673/100000 [00:38<00:17, 1781.41it/s]\u001b[A\n",
      " 69%|██████▉   | 68852/100000 [00:39<00:17, 1772.83it/s]\u001b[A\n",
      " 69%|██████▉   | 69033/100000 [00:39<00:17, 1783.08it/s]\u001b[A\n",
      " 69%|██████▉   | 69212/100000 [00:39<00:17, 1772.22it/s]\u001b[A\n",
      " 69%|██████▉   | 69390/100000 [00:39<00:17, 1770.19it/s]\u001b[A\n",
      " 70%|██████▉   | 69568/100000 [00:39<00:17, 1762.59it/s]\u001b[A\n",
      " 70%|██████▉   | 69748/100000 [00:39<00:17, 1772.60it/s]\u001b[A\n",
      " 70%|██████▉   | 69926/100000 [00:39<00:17, 1766.12it/s]\u001b[A\n",
      " 70%|███████   | 70113/100000 [00:39<00:16, 1793.90it/s]\u001b[A\n",
      " 70%|███████   | 70293/100000 [00:39<00:16, 1782.83it/s]\u001b[A\n",
      " 70%|███████   | 70478/100000 [00:39<00:16, 1800.66it/s]\u001b[A\n",
      " 71%|███████   | 70660/100000 [00:40<00:16, 1806.22it/s]\u001b[A\n",
      " 71%|███████   | 70841/100000 [00:40<00:16, 1761.05it/s]\u001b[A\n",
      " 71%|███████   | 71021/100000 [00:40<00:16, 1772.45it/s]\u001b[A\n",
      " 71%|███████   | 71200/100000 [00:40<00:16, 1775.54it/s]\u001b[A\n",
      " 71%|███████▏  | 71380/100000 [00:40<00:16, 1781.17it/s]\u001b[A\n",
      " 72%|███████▏  | 71560/100000 [00:40<00:15, 1785.78it/s]\u001b[A\n",
      " 72%|███████▏  | 71739/100000 [00:40<00:15, 1786.64it/s]\u001b[A\n",
      " 72%|███████▏  | 71918/100000 [00:40<00:15, 1782.12it/s]\u001b[A\n",
      " 72%|███████▏  | 72098/100000 [00:40<00:15, 1786.43it/s]\u001b[A\n",
      " 72%|███████▏  | 72279/100000 [00:40<00:15, 1793.36it/s]\u001b[A\n",
      " 72%|███████▏  | 72459/100000 [00:41<00:15, 1794.20it/s]\u001b[A\n",
      " 73%|███████▎  | 72639/100000 [00:41<00:15, 1792.36it/s]\u001b[A\n",
      " 73%|███████▎  | 72823/100000 [00:41<00:15, 1805.93it/s]\u001b[A\n",
      " 73%|███████▎  | 73004/100000 [00:41<00:15, 1795.13it/s]\u001b[A\n",
      " 73%|███████▎  | 73184/100000 [00:41<00:14, 1793.81it/s]\u001b[A\n",
      " 73%|███████▎  | 73364/100000 [00:41<00:14, 1791.90it/s]\u001b[A\n",
      " 74%|███████▎  | 73544/100000 [00:41<00:14, 1793.02it/s]\u001b[A\n",
      " 74%|███████▎  | 73724/100000 [00:41<00:14, 1786.80it/s]\u001b[A\n",
      " 74%|███████▍  | 73906/100000 [00:41<00:14, 1793.79it/s]\u001b[A\n",
      " 74%|███████▍  | 74086/100000 [00:41<00:14, 1790.10it/s]\u001b[A\n",
      " 74%|███████▍  | 74267/100000 [00:42<00:14, 1795.56it/s]\u001b[A\n",
      " 74%|███████▍  | 74447/100000 [00:42<00:14, 1794.27it/s]\u001b[A\n",
      " 75%|███████▍  | 74628/100000 [00:42<00:14, 1796.90it/s]\u001b[A\n",
      " 75%|███████▍  | 74808/100000 [00:42<00:14, 1796.66it/s]\u001b[A\n",
      " 75%|███████▍  | 74988/100000 [00:42<00:13, 1793.96it/s]\u001b[A\n",
      " 75%|███████▌  | 75169/100000 [00:42<00:13, 1795.74it/s]\u001b[A\n",
      " 75%|███████▌  | 75350/100000 [00:42<00:13, 1799.21it/s]\u001b[A\n",
      " 76%|███████▌  | 75530/100000 [00:42<00:13, 1791.69it/s]\u001b[A\n",
      " 76%|███████▌  | 75710/100000 [00:42<00:13, 1792.71it/s]\u001b[A\n",
      " 76%|███████▌  | 75890/100000 [00:42<00:13, 1756.38it/s]\u001b[A\n",
      " 76%|███████▌  | 76066/100000 [00:43<00:13, 1723.89it/s]\u001b[A\n",
      " 76%|███████▌  | 76241/100000 [00:43<00:13, 1730.94it/s]\u001b[A\n",
      " 76%|███████▋  | 76429/100000 [00:43<00:13, 1774.74it/s]\u001b[A\n",
      " 77%|███████▋  | 76614/100000 [00:43<00:13, 1794.88it/s]\u001b[A\n",
      " 77%|███████▋  | 76794/100000 [00:43<00:13, 1753.11it/s]\u001b[A\n",
      " 77%|███████▋  | 76970/100000 [00:43<00:13, 1709.78it/s]\u001b[A\n",
      " 77%|███████▋  | 77147/100000 [00:43<00:13, 1726.36it/s]\u001b[A\n",
      " 77%|███████▋  | 77328/100000 [00:43<00:12, 1749.08it/s]\u001b[A\n",
      " 78%|███████▊  | 77513/100000 [00:43<00:12, 1777.23it/s]\u001b[A\n",
      " 78%|███████▊  | 77691/100000 [00:44<00:12, 1733.93it/s]\u001b[A\n",
      " 78%|███████▊  | 77865/100000 [00:44<00:12, 1710.67it/s]\u001b[A\n",
      " 78%|███████▊  | 78037/100000 [00:44<00:12, 1690.27it/s]\u001b[A\n",
      " 78%|███████▊  | 78221/100000 [00:44<00:12, 1733.56it/s]\u001b[A\n",
      " 78%|███████▊  | 78395/100000 [00:44<00:12, 1727.37it/s]\u001b[A\n",
      " 79%|███████▊  | 78568/100000 [00:44<00:12, 1725.93it/s]\u001b[A\n",
      " 79%|███████▊  | 78741/100000 [00:44<00:12, 1726.65it/s]\u001b[A\n",
      " 79%|███████▉  | 78914/100000 [00:44<00:12, 1692.63it/s]\u001b[A\n",
      " 79%|███████▉  | 79093/100000 [00:44<00:12, 1720.11it/s]\u001b[A\n",
      " 79%|███████▉  | 79275/100000 [00:44<00:11, 1748.51it/s]\u001b[A\n",
      " 79%|███████▉  | 79459/100000 [00:45<00:11, 1775.30it/s]\u001b[A\n",
      " 80%|███████▉  | 79639/100000 [00:45<00:11, 1780.09it/s]\u001b[A\n",
      " 80%|███████▉  | 79818/100000 [00:45<00:11, 1740.72it/s]\u001b[A\n",
      " 80%|████████  | 80003/100000 [00:45<00:11, 1770.14it/s]\u001b[A\n",
      " 80%|████████  | 80181/100000 [00:45<00:11, 1736.27it/s]\u001b[A\n",
      " 80%|████████  | 80369/100000 [00:45<00:11, 1777.00it/s]\u001b[A\n",
      " 81%|████████  | 80547/100000 [00:45<00:11, 1721.77it/s]\u001b[A\n",
      " 81%|████████  | 80720/100000 [00:45<00:11, 1701.61it/s]\u001b[A\n",
      " 81%|████████  | 80895/100000 [00:45<00:11, 1714.93it/s]\u001b[A\n",
      " 81%|████████  | 81070/100000 [00:45<00:10, 1722.84it/s]\u001b[A\n",
      " 81%|████████  | 81245/100000 [00:46<00:10, 1730.31it/s]\u001b[A\n",
      " 81%|████████▏ | 81424/100000 [00:46<00:10, 1745.51it/s]\u001b[A\n",
      " 82%|████████▏ | 81599/100000 [00:46<00:10, 1742.95it/s]\u001b[A\n",
      " 82%|████████▏ | 81775/100000 [00:46<00:10, 1747.25it/s]\u001b[A\n",
      " 82%|████████▏ | 81956/100000 [00:46<00:10, 1765.86it/s]\u001b[A\n",
      " 82%|████████▏ | 82135/100000 [00:46<00:10, 1770.67it/s]\u001b[A\n",
      " 82%|████████▏ | 82317/100000 [00:46<00:09, 1784.16it/s]\u001b[A\n",
      " 82%|████████▏ | 82496/100000 [00:46<00:10, 1742.64it/s]\u001b[A\n",
      " 83%|████████▎ | 82671/100000 [00:46<00:10, 1717.89it/s]\u001b[A\n",
      " 83%|████████▎ | 82852/100000 [00:46<00:09, 1744.17it/s]\u001b[A\n",
      " 83%|████████▎ | 83035/100000 [00:47<00:09, 1766.93it/s]\u001b[A\n",
      " 83%|████████▎ | 83217/100000 [00:47<00:09, 1779.47it/s]\u001b[A\n",
      " 83%|████████▎ | 83398/100000 [00:47<00:09, 1787.84it/s]\u001b[A\n",
      " 84%|████████▎ | 83581/100000 [00:47<00:09, 1798.59it/s]\u001b[A\n",
      " 84%|████████▍ | 83761/100000 [00:47<00:09, 1790.61it/s]\u001b[A\n",
      " 84%|████████▍ | 83941/100000 [00:47<00:09, 1779.66it/s]\u001b[A\n",
      " 84%|████████▍ | 84120/100000 [00:47<00:09, 1737.40it/s]\u001b[A\n",
      " 84%|████████▍ | 84294/100000 [00:47<00:09, 1699.59it/s]\u001b[A\n",
      " 84%|████████▍ | 84465/100000 [00:47<00:09, 1684.28it/s]\u001b[A\n",
      " 85%|████████▍ | 84646/100000 [00:48<00:08, 1719.33it/s]\u001b[A\n",
      " 85%|████████▍ | 84825/100000 [00:48<00:08, 1737.45it/s]\u001b[A\n",
      " 85%|████████▌ | 85004/100000 [00:48<00:08, 1752.54it/s]\u001b[A\n",
      " 85%|████████▌ | 85185/100000 [00:48<00:08, 1767.59it/s]\u001b[A\n",
      " 85%|████████▌ | 85363/100000 [00:48<00:08, 1768.75it/s]\u001b[A\n",
      " 86%|████████▌ | 85542/100000 [00:48<00:08, 1771.74it/s]\u001b[A\n",
      " 86%|████████▌ | 85721/100000 [00:48<00:08, 1774.52it/s]\u001b[A\n",
      " 86%|████████▌ | 85899/100000 [00:48<00:08, 1721.23it/s]\u001b[A\n",
      " 86%|████████▌ | 86077/100000 [00:48<00:08, 1737.30it/s]\u001b[A\n",
      " 86%|████████▋ | 86259/100000 [00:48<00:07, 1760.95it/s]\u001b[A\n",
      " 86%|████████▋ | 86436/100000 [00:49<00:07, 1755.76it/s]\u001b[A\n",
      " 87%|████████▋ | 86612/100000 [00:49<00:07, 1743.12it/s]\u001b[A\n",
      " 87%|████████▋ | 86787/100000 [00:49<00:07, 1703.40it/s]\u001b[A\n",
      " 87%|████████▋ | 86958/100000 [00:49<00:07, 1659.38it/s]\u001b[A\n",
      " 87%|████████▋ | 87135/100000 [00:49<00:07, 1689.56it/s]\u001b[A\n",
      " 87%|████████▋ | 87308/100000 [00:49<00:07, 1698.20it/s]\u001b[A\n",
      " 87%|████████▋ | 87479/100000 [00:49<00:07, 1696.93it/s]\u001b[A\n",
      " 88%|████████▊ | 87651/100000 [00:49<00:07, 1701.06it/s]\u001b[A\n",
      " 88%|████████▊ | 87822/100000 [00:49<00:07, 1702.43it/s]\u001b[A\n",
      " 88%|████████▊ | 87993/100000 [00:49<00:07, 1679.17it/s]\u001b[A\n",
      " 88%|████████▊ | 88162/100000 [00:50<00:07, 1675.67it/s]\u001b[A\n",
      " 88%|████████▊ | 88336/100000 [00:50<00:06, 1692.57it/s]\u001b[A\n",
      " 89%|████████▊ | 88506/100000 [00:50<00:06, 1686.14it/s]\u001b[A\n",
      " 89%|████████▊ | 88677/100000 [00:50<00:06, 1692.43it/s]\u001b[A\n",
      " 89%|████████▉ | 88847/100000 [00:50<00:06, 1682.93it/s]\u001b[A\n",
      " 89%|████████▉ | 89016/100000 [00:50<00:06, 1669.11it/s]\u001b[A\n",
      " 89%|████████▉ | 89183/100000 [00:50<00:06, 1646.27it/s]\u001b[A\n",
      " 89%|████████▉ | 89360/100000 [00:50<00:06, 1681.53it/s]\u001b[A\n",
      " 90%|████████▉ | 89529/100000 [00:50<00:06, 1682.17it/s]\u001b[A\n",
      " 90%|████████▉ | 89704/100000 [00:50<00:06, 1702.24it/s]\u001b[A\n",
      " 90%|████████▉ | 89881/100000 [00:51<00:05, 1721.33it/s]\u001b[A\n",
      " 90%|█████████ | 90054/100000 [00:51<00:05, 1678.96it/s]\u001b[A\n",
      " 90%|█████████ | 90223/100000 [00:51<00:05, 1665.57it/s]\u001b[A\n",
      " 90%|█████████ | 90397/100000 [00:51<00:05, 1686.50it/s]\u001b[A\n",
      " 91%|█████████ | 90575/100000 [00:51<00:05, 1711.69it/s]\u001b[A\n",
      " 91%|█████████ | 90747/100000 [00:51<00:05, 1664.99it/s]\u001b[A\n",
      " 91%|█████████ | 90919/100000 [00:51<00:05, 1679.52it/s]\u001b[A\n",
      " 91%|█████████ | 91090/100000 [00:51<00:05, 1686.99it/s]\u001b[A\n",
      " 91%|█████████▏| 91259/100000 [00:51<00:05, 1670.33it/s]\u001b[A\n",
      " 91%|█████████▏| 91445/100000 [00:51<00:04, 1723.71it/s]\u001b[A\n",
      " 92%|█████████▏| 91618/100000 [00:52<00:04, 1679.04it/s]\u001b[A\n",
      " 92%|█████████▏| 91787/100000 [00:52<00:04, 1675.81it/s]\u001b[A\n",
      " 92%|█████████▏| 91965/100000 [00:52<00:04, 1704.46it/s]\u001b[A\n",
      " 92%|█████████▏| 92150/100000 [00:52<00:04, 1744.96it/s]\u001b[A\n",
      " 92%|█████████▏| 92326/100000 [00:52<00:04, 1747.39it/s]\u001b[A\n",
      " 93%|█████████▎| 92501/100000 [00:52<00:04, 1707.01it/s]\u001b[A\n",
      " 93%|█████████▎| 92672/100000 [00:52<00:04, 1703.09it/s]\u001b[A\n",
      " 93%|█████████▎| 92848/100000 [00:52<00:04, 1718.27it/s]\u001b[A\n",
      " 93%|█████████▎| 93020/100000 [00:52<00:04, 1682.13it/s]\u001b[A\n",
      " 93%|█████████▎| 93198/100000 [00:53<00:03, 1708.07it/s]\u001b[A\n",
      " 93%|█████████▎| 93370/100000 [00:53<00:03, 1668.72it/s]\u001b[A\n",
      " 94%|█████████▎| 93543/100000 [00:53<00:03, 1686.19it/s]\u001b[A\n",
      " 94%|█████████▎| 93712/100000 [00:53<00:03, 1662.71it/s]\u001b[A\n",
      " 94%|█████████▍| 93884/100000 [00:53<00:03, 1677.93it/s]\u001b[A\n",
      " 94%|█████████▍| 94058/100000 [00:53<00:03, 1695.01it/s]\u001b[A\n",
      " 94%|█████████▍| 94232/100000 [00:53<00:03, 1706.67it/s]\u001b[A\n",
      " 94%|█████████▍| 94405/100000 [00:53<00:03, 1713.56it/s]\u001b[A\n",
      " 95%|█████████▍| 94581/100000 [00:53<00:03, 1724.92it/s]\u001b[A\n",
      " 95%|█████████▍| 94757/100000 [00:53<00:03, 1732.61it/s]\u001b[A\n",
      " 95%|█████████▍| 94931/100000 [00:54<00:02, 1726.56it/s]\u001b[A\n",
      " 95%|█████████▌| 95106/100000 [00:54<00:02, 1732.72it/s]\u001b[A\n",
      " 95%|█████████▌| 95280/100000 [00:54<00:02, 1727.95it/s]\u001b[A\n",
      " 95%|█████████▌| 95453/100000 [00:54<00:02, 1718.85it/s]\u001b[A\n",
      " 96%|█████████▌| 95625/100000 [00:54<00:02, 1695.00it/s]\u001b[A\n",
      " 96%|█████████▌| 95800/100000 [00:54<00:02, 1708.69it/s]\u001b[A\n",
      " 96%|█████████▌| 95971/100000 [00:54<00:02, 1666.23it/s]\u001b[A\n",
      " 96%|█████████▌| 96138/100000 [00:54<00:02, 1652.52it/s]\u001b[A\n",
      " 96%|█████████▋| 96304/100000 [00:54<00:02, 1636.75it/s]\u001b[A\n",
      " 96%|█████████▋| 96468/100000 [00:54<00:02, 1618.48it/s]\u001b[A\n",
      " 97%|█████████▋| 96648/100000 [00:55<00:02, 1669.88it/s]\u001b[A\n",
      " 97%|█████████▋| 96821/100000 [00:55<00:01, 1686.94it/s]\u001b[A\n",
      " 97%|█████████▋| 96990/100000 [00:55<00:01, 1664.40it/s]\u001b[A\n",
      " 97%|█████████▋| 97169/100000 [00:55<00:01, 1700.71it/s]\u001b[A\n",
      " 97%|█████████▋| 97351/100000 [00:55<00:01, 1735.72it/s]\u001b[A\n",
      " 98%|█████████▊| 97528/100000 [00:55<00:01, 1744.97it/s]\u001b[A\n",
      " 98%|█████████▊| 97708/100000 [00:55<00:01, 1760.49it/s]\u001b[A\n",
      " 98%|█████████▊| 97888/100000 [00:55<00:01, 1770.56it/s]\u001b[A\n",
      " 98%|█████████▊| 98066/100000 [00:55<00:01, 1721.27it/s]\u001b[A\n",
      " 98%|█████████▊| 98245/100000 [00:55<00:01, 1740.57it/s]\u001b[A\n",
      " 98%|█████████▊| 98420/100000 [00:56<00:00, 1702.02it/s]\u001b[A\n",
      " 99%|█████████▊| 98602/100000 [00:56<00:00, 1734.26it/s]\u001b[A\n",
      " 99%|█████████▉| 98776/100000 [00:56<00:00, 1712.29it/s]\u001b[A\n",
      " 99%|█████████▉| 98948/100000 [00:56<00:00, 1695.07it/s]\u001b[A\n",
      " 99%|█████████▉| 99118/100000 [00:56<00:00, 1683.32it/s]\u001b[A\n",
      " 99%|█████████▉| 99295/100000 [00:56<00:00, 1707.94it/s]\u001b[A\n",
      " 99%|█████████▉| 99477/100000 [00:56<00:00, 1740.78it/s]\u001b[A\n",
      "100%|█████████▉| 99659/100000 [00:56<00:00, 1762.21it/s]\u001b[A\n",
      "100%|██████████| 100000/100000 [00:57<00:00, 1754.14it/s][A\n",
      "\n",
      "  0%|          | 0/100000 [00:00<?, ?it/s]\u001b[A\n",
      "  0%|          | 179/100000 [00:00<00:55, 1788.36it/s]\u001b[A\n",
      "  0%|          | 358/100000 [00:00<00:58, 1710.03it/s]\u001b[A\n",
      "  1%|          | 541/100000 [00:00<00:56, 1759.63it/s]\u001b[A\n",
      "  1%|          | 723/100000 [00:00<00:55, 1779.62it/s]\u001b[A\n",
      "  1%|          | 906/100000 [00:00<00:55, 1795.89it/s]\u001b[A\n",
      "  1%|          | 1088/100000 [00:00<00:54, 1802.37it/s]\u001b[A\n",
      "  1%|▏         | 1271/100000 [00:00<00:54, 1808.72it/s]\u001b[A\n",
      "  1%|▏         | 1454/100000 [00:00<00:54, 1814.79it/s]\u001b[A\n",
      "  2%|▏         | 1639/100000 [00:00<00:53, 1823.02it/s]\u001b[A\n",
      "  2%|▏         | 1822/100000 [00:01<00:53, 1821.27it/s]\u001b[A\n",
      "  2%|▏         | 2005/100000 [00:01<00:53, 1823.70it/s]\u001b[A\n",
      "  2%|▏         | 2188/100000 [00:01<00:53, 1816.71it/s]\u001b[A\n",
      "  2%|▏         | 2370/100000 [00:01<00:55, 1769.05it/s]\u001b[A\n",
      "  3%|▎         | 2548/100000 [00:01<00:56, 1727.54it/s]\u001b[A\n",
      "  3%|▎         | 2727/100000 [00:01<00:55, 1745.32it/s]\u001b[A\n",
      "  3%|▎         | 2905/100000 [00:01<00:55, 1753.31it/s]\u001b[A\n",
      "  3%|▎         | 3081/100000 [00:01<00:55, 1732.81it/s]\u001b[A\n",
      "  3%|▎         | 3258/100000 [00:01<00:55, 1743.01it/s]\u001b[A\n",
      "  3%|▎         | 3442/100000 [00:01<00:54, 1769.71it/s]\u001b[A\n",
      "  4%|▎         | 3625/100000 [00:02<00:53, 1786.11it/s]\u001b[A\n",
      "  4%|▍         | 3807/100000 [00:02<00:53, 1794.29it/s]\u001b[A\n",
      "  4%|▍         | 3989/100000 [00:02<00:53, 1800.68it/s]\u001b[A\n",
      "  4%|▍         | 4172/100000 [00:02<00:52, 1808.46it/s]\u001b[A\n",
      "  4%|▍         | 4355/100000 [00:02<00:52, 1813.61it/s]\u001b[A\n",
      "  5%|▍         | 4537/100000 [00:02<00:52, 1809.34it/s]\u001b[A\n",
      "  5%|▍         | 4719/100000 [00:02<00:52, 1810.06it/s]\u001b[A\n",
      "  5%|▍         | 4901/100000 [00:02<00:53, 1774.82it/s]\u001b[A\n",
      "  5%|▌         | 5079/100000 [00:02<00:54, 1738.90it/s]\u001b[A\n",
      "  5%|▌         | 5254/100000 [00:02<00:55, 1715.80it/s]\u001b[A\n",
      "  5%|▌         | 5434/100000 [00:03<00:54, 1740.28it/s]\u001b[A\n",
      "  6%|▌         | 5619/100000 [00:03<00:53, 1772.43it/s]\u001b[A\n",
      "  6%|▌         | 5804/100000 [00:03<00:52, 1794.86it/s]\u001b[A\n",
      "  6%|▌         | 5988/100000 [00:03<00:52, 1805.73it/s]\u001b[A\n",
      "  6%|▌         | 6171/100000 [00:03<00:51, 1809.56it/s]\u001b[A\n",
      "  6%|▋         | 6353/100000 [00:03<00:52, 1799.12it/s]\u001b[A\n",
      "  7%|▋         | 6534/100000 [00:03<00:51, 1799.78it/s]\u001b[A\n",
      "  7%|▋         | 6715/100000 [00:03<00:51, 1800.50it/s]\u001b[A\n",
      "  7%|▋         | 6896/100000 [00:03<00:51, 1793.30it/s]\u001b[A\n",
      "  7%|▋         | 7080/100000 [00:03<00:51, 1804.29it/s]\u001b[A\n",
      "  7%|▋         | 7261/100000 [00:04<00:51, 1800.68it/s]\u001b[A\n",
      "  7%|▋         | 7443/100000 [00:04<00:51, 1805.22it/s]\u001b[A\n",
      "  8%|▊         | 7625/100000 [00:04<00:51, 1808.71it/s]\u001b[A\n",
      "  8%|▊         | 7806/100000 [00:04<00:51, 1805.81it/s]\u001b[A\n",
      "  8%|▊         | 7989/100000 [00:04<00:50, 1810.37it/s]\u001b[A\n",
      "  8%|▊         | 8171/100000 [00:04<00:51, 1798.16it/s]\u001b[A\n",
      "  8%|▊         | 8352/100000 [00:04<00:50, 1799.39it/s]\u001b[A\n",
      "  9%|▊         | 8533/100000 [00:04<00:50, 1801.63it/s]\u001b[A\n",
      "  9%|▊         | 8716/100000 [00:04<00:50, 1807.87it/s]\u001b[A\n",
      "  9%|▉         | 8897/100000 [00:04<00:50, 1799.33it/s]\u001b[A\n",
      "  9%|▉         | 9077/100000 [00:05<00:50, 1799.22it/s]\u001b[A\n",
      "  9%|▉         | 9257/100000 [00:05<00:50, 1799.04it/s]\u001b[A\n",
      "  9%|▉         | 9439/100000 [00:05<00:50, 1804.94it/s]\u001b[A\n",
      " 10%|▉         | 9621/100000 [00:05<00:50, 1806.91it/s]\u001b[A\n",
      " 10%|▉         | 9805/100000 [00:05<00:49, 1816.55it/s]\u001b[A\n",
      " 10%|▉         | 9987/100000 [00:05<00:49, 1814.87it/s]\u001b[A\n",
      " 10%|█         | 10169/100000 [00:05<00:49, 1811.29it/s]\u001b[A\n",
      " 10%|█         | 10351/100000 [00:05<00:49, 1813.75it/s]\u001b[A\n",
      " 11%|█         | 10533/100000 [00:05<00:49, 1809.45it/s]\u001b[A\n",
      " 11%|█         | 10715/100000 [00:05<00:49, 1811.45it/s]\u001b[A\n",
      " 11%|█         | 10898/100000 [00:06<00:49, 1816.54it/s]\u001b[A\n",
      " 11%|█         | 11080/100000 [00:06<00:48, 1815.43it/s]\u001b[A\n",
      " 11%|█▏        | 11262/100000 [00:06<00:48, 1814.78it/s]\u001b[A\n",
      " 11%|█▏        | 11444/100000 [00:06<00:48, 1815.60it/s]\u001b[A\n",
      " 12%|█▏        | 11626/100000 [00:06<00:48, 1805.13it/s]\u001b[A\n",
      " 12%|█▏        | 11807/100000 [00:06<00:49, 1772.93it/s]\u001b[A\n",
      " 12%|█▏        | 11985/100000 [00:06<00:49, 1770.76it/s]\u001b[A\n",
      " 12%|█▏        | 12167/100000 [00:06<00:49, 1782.98it/s]\u001b[A\n",
      " 12%|█▏        | 12348/100000 [00:06<00:48, 1790.26it/s]\u001b[A\n",
      " 13%|█▎        | 12530/100000 [00:06<00:48, 1799.09it/s]\u001b[A\n",
      " 13%|█▎        | 12712/100000 [00:07<00:48, 1802.92it/s]\u001b[A\n",
      " 13%|█▎        | 12893/100000 [00:07<00:48, 1804.60it/s]\u001b[A\n",
      " 13%|█▎        | 13080/100000 [00:07<00:47, 1821.83it/s]\u001b[A\n",
      " 13%|█▎        | 13263/100000 [00:07<00:47, 1810.69it/s]\u001b[A\n",
      " 13%|█▎        | 13446/100000 [00:07<00:47, 1814.16it/s]\u001b[A\n",
      " 14%|█▎        | 13628/100000 [00:07<00:48, 1787.36it/s]\u001b[A\n",
      " 14%|█▍        | 13807/100000 [00:07<00:49, 1733.50it/s]\u001b[A\n",
      " 14%|█▍        | 13981/100000 [00:07<00:50, 1710.14it/s]\u001b[A\n",
      " 14%|█▍        | 14163/100000 [00:07<00:49, 1741.57it/s]\u001b[A\n",
      " 14%|█▍        | 14346/100000 [00:08<00:48, 1767.39it/s]\u001b[A\n",
      " 15%|█▍        | 14529/100000 [00:08<00:47, 1783.33it/s]\u001b[A\n",
      " 15%|█▍        | 14711/100000 [00:08<00:47, 1793.00it/s]\u001b[A\n",
      " 15%|█▍        | 14894/100000 [00:08<00:47, 1803.34it/s]\u001b[A\n",
      " 15%|█▌        | 15075/100000 [00:08<00:47, 1798.45it/s]\u001b[A\n",
      " 15%|█▌        | 15255/100000 [00:08<00:47, 1783.60it/s]\u001b[A\n",
      " 15%|█▌        | 15434/100000 [00:08<00:48, 1758.78it/s]\u001b[A\n",
      " 16%|█▌        | 15618/100000 [00:08<00:47, 1780.32it/s]\u001b[A\n",
      " 16%|█▌        | 15797/100000 [00:08<00:48, 1739.92it/s]\u001b[A\n",
      " 16%|█▌        | 15983/100000 [00:08<00:47, 1772.97it/s]\u001b[A\n",
      " 16%|█▌        | 16161/100000 [00:09<00:47, 1772.37it/s]\u001b[A\n",
      " 16%|█▋        | 16346/100000 [00:09<00:46, 1793.51it/s]\u001b[A\n",
      " 17%|█▋        | 16526/100000 [00:09<00:46, 1783.90it/s]\u001b[A\n",
      " 17%|█▋        | 16711/100000 [00:09<00:46, 1801.43it/s]\u001b[A\n",
      " 17%|█▋        | 16892/100000 [00:09<00:46, 1793.21it/s]\u001b[A\n",
      " 17%|█▋        | 17072/100000 [00:09<00:46, 1765.75it/s]\u001b[A\n",
      " 17%|█▋        | 17249/100000 [00:09<00:46, 1760.97it/s]\u001b[A\n",
      " 17%|█▋        | 17429/100000 [00:09<00:46, 1770.35it/s]\u001b[A\n",
      " 18%|█▊        | 17607/100000 [00:09<00:47, 1752.95it/s]\u001b[A\n",
      " 18%|█▊        | 17783/100000 [00:09<00:46, 1753.30it/s]\u001b[A\n",
      " 18%|█▊        | 17962/100000 [00:10<00:46, 1761.57it/s]\u001b[A\n",
      " 18%|█▊        | 18139/100000 [00:10<00:46, 1755.96it/s]\u001b[A\n",
      " 18%|█▊        | 18315/100000 [00:10<00:46, 1754.39it/s]\u001b[A\n",
      " 18%|█▊        | 18496/100000 [00:10<00:46, 1768.84it/s]\u001b[A\n",
      " 19%|█▊        | 18673/100000 [00:10<00:47, 1713.12it/s]\u001b[A\n",
      " 19%|█▉        | 18849/100000 [00:10<00:47, 1726.12it/s]\u001b[A\n",
      " 19%|█▉        | 19025/100000 [00:10<00:46, 1735.43it/s]\u001b[A\n",
      " 19%|█▉        | 19199/100000 [00:10<00:47, 1697.36it/s]\u001b[A\n",
      " 19%|█▉        | 19377/100000 [00:10<00:46, 1720.56it/s]\u001b[A\n",
      " 20%|█▉        | 19550/100000 [00:10<00:47, 1699.92it/s]\u001b[A\n",
      " 20%|█▉        | 19731/100000 [00:11<00:46, 1731.68it/s]\u001b[A\n",
      " 20%|█▉        | 19905/100000 [00:11<00:46, 1711.29it/s]\u001b[A\n",
      " 20%|██        | 20089/100000 [00:11<00:45, 1748.40it/s]\u001b[A\n",
      " 20%|██        | 20265/100000 [00:11<00:46, 1701.01it/s]\u001b[A\n",
      " 20%|██        | 20436/100000 [00:11<00:46, 1699.32it/s]\u001b[A\n",
      " 21%|██        | 20617/100000 [00:11<00:45, 1731.09it/s]\u001b[A\n",
      " 21%|██        | 20796/100000 [00:11<00:45, 1746.79it/s]\u001b[A\n",
      " 21%|██        | 20971/100000 [00:11<00:45, 1728.53it/s]\u001b[A\n",
      " 21%|██        | 21150/100000 [00:11<00:45, 1746.22it/s]\u001b[A\n",
      " 21%|██▏       | 21332/100000 [00:11<00:44, 1765.92it/s]\u001b[A\n",
      " 22%|██▏       | 21513/100000 [00:12<00:44, 1777.43it/s]\u001b[A\n",
      " 22%|██▏       | 21695/100000 [00:12<00:43, 1788.42it/s]\u001b[A\n",
      " 22%|██▏       | 21876/100000 [00:12<00:43, 1792.06it/s]\u001b[A\n",
      " 22%|██▏       | 22061/100000 [00:12<00:43, 1807.00it/s]\u001b[A\n",
      " 22%|██▏       | 22245/100000 [00:12<00:42, 1814.16it/s]\u001b[A\n",
      " 22%|██▏       | 22427/100000 [00:12<00:42, 1811.54it/s]\u001b[A\n",
      " 23%|██▎       | 22609/100000 [00:12<00:42, 1813.30it/s]\u001b[A\n",
      " 23%|██▎       | 22794/100000 [00:12<00:42, 1822.78it/s]\u001b[A\n",
      " 23%|██▎       | 22977/100000 [00:12<00:43, 1761.76it/s]\u001b[A\n",
      " 23%|██▎       | 23154/100000 [00:13<00:44, 1735.15it/s]\u001b[A\n",
      " 23%|██▎       | 23341/100000 [00:13<00:43, 1771.88it/s]\u001b[A\n",
      " 24%|██▎       | 23693/100000 [00:13<00:42, 1778.64it/s]\u001b[A\n",
      "\n",
      "  0%|          | 0/100000 [00:00<?, ?it/s]\u001b[A\n",
      "  0%|          | 179/100000 [00:00<00:55, 1788.02it/s]\u001b[A\n",
      "  0%|          | 358/100000 [00:00<00:58, 1698.00it/s]\u001b[A\n",
      "  1%|          | 538/100000 [00:00<00:57, 1739.36it/s]\u001b[A\n",
      "  1%|          | 718/100000 [00:00<00:56, 1760.98it/s]\u001b[A\n",
      "  1%|          | 896/100000 [00:00<00:56, 1767.21it/s]\u001b[A\n",
      "  1%|          | 1076/100000 [00:00<00:55, 1776.38it/s]\u001b[A\n",
      "  1%|▏         | 1254/100000 [00:00<00:55, 1773.66it/s]\u001b[A\n",
      "  1%|▏         | 1434/100000 [00:00<00:55, 1778.63it/s]\u001b[A\n",
      "  2%|▏         | 1619/100000 [00:00<00:54, 1799.20it/s]\u001b[A\n",
      "  2%|▏         | 1799/100000 [00:01<00:54, 1785.75it/s]\u001b[A\n",
      "  2%|▏         | 1979/100000 [00:01<00:54, 1789.70it/s]\u001b[A\n",
      "  2%|▏         | 2161/100000 [00:01<00:54, 1798.76it/s]\u001b[A\n",
      "  2%|▏         | 2341/100000 [00:01<00:54, 1795.61it/s]\u001b[A\n",
      "  3%|▎         | 2521/100000 [00:01<00:54, 1787.54it/s]\u001b[A\n",
      "  3%|▎         | 2700/100000 [00:01<00:54, 1786.68it/s]\u001b[A\n",
      "  3%|▎         | 2879/100000 [00:01<00:54, 1781.19it/s]\u001b[A\n",
      "  3%|▎         | 3058/100000 [00:01<00:54, 1781.96it/s]\u001b[A\n",
      "  3%|▎         | 3237/100000 [00:01<00:54, 1780.50it/s]\u001b[A\n",
      "  3%|▎         | 3417/100000 [00:01<00:54, 1785.18it/s]\u001b[A\n",
      "  4%|▎         | 3596/100000 [00:02<00:54, 1778.10it/s]\u001b[A\n",
      "  4%|▍         | 3776/100000 [00:02<00:53, 1782.77it/s]\u001b[A\n",
      "  4%|▍         | 3955/100000 [00:02<00:53, 1783.27it/s]\u001b[A\n",
      "  4%|▍         | 4136/100000 [00:02<00:53, 1790.39it/s]\u001b[A\n",
      "  4%|▍         | 4316/100000 [00:02<00:53, 1788.17it/s]\u001b[A\n",
      "  4%|▍         | 4497/100000 [00:02<00:53, 1792.69it/s]\u001b[A\n",
      "  5%|▍         | 4677/100000 [00:02<00:53, 1789.45it/s]\u001b[A\n",
      "  5%|▍         | 4857/100000 [00:02<00:53, 1791.96it/s]\u001b[A\n",
      "  5%|▌         | 5037/100000 [00:02<00:53, 1780.90it/s]\u001b[A\n",
      "  5%|▌         | 5216/100000 [00:02<00:53, 1772.21it/s]\u001b[A\n",
      "  5%|▌         | 5394/100000 [00:03<00:53, 1762.26it/s]\u001b[A\n",
      "  6%|▌         | 5575/100000 [00:03<00:53, 1773.58it/s]\u001b[A\n",
      "  6%|▌         | 5753/100000 [00:03<00:53, 1762.37it/s]\u001b[A\n",
      "  6%|▌         | 5934/100000 [00:03<00:52, 1775.17it/s]\u001b[A\n",
      "  6%|▌         | 6112/100000 [00:03<00:52, 1771.93it/s]\u001b[A\n",
      "  6%|▋         | 6292/100000 [00:03<00:52, 1780.04it/s]\u001b[A\n",
      "  6%|▋         | 6471/100000 [00:03<00:52, 1770.19it/s]\u001b[A\n",
      "  7%|▋         | 6651/100000 [00:03<00:52, 1778.70it/s]\u001b[A\n",
      "  7%|▋         | 6829/100000 [00:03<00:52, 1767.29it/s]\u001b[A\n",
      "  7%|▋         | 7009/100000 [00:03<00:52, 1773.71it/s]\u001b[A\n",
      "  7%|▋         | 7188/100000 [00:04<00:52, 1778.26it/s]\u001b[A\n",
      "  7%|▋         | 7368/100000 [00:04<00:51, 1782.33it/s]\u001b[A\n",
      "  8%|▊         | 7547/100000 [00:04<00:51, 1783.85it/s]\u001b[A\n",
      "  8%|▊         | 7726/100000 [00:04<00:51, 1782.38it/s]\u001b[A\n",
      "  8%|▊         | 7905/100000 [00:04<00:51, 1777.26it/s]\u001b[A\n",
      "  8%|▊         | 8084/100000 [00:04<00:51, 1779.51it/s]\u001b[A\n",
      "  8%|▊         | 8264/100000 [00:04<00:51, 1784.89it/s]\u001b[A\n",
      "  8%|▊         | 8445/100000 [00:04<00:51, 1790.12it/s]\u001b[A\n",
      "  9%|▊         | 8625/100000 [00:04<00:51, 1788.03it/s]\u001b[A\n",
      "  9%|▉         | 8806/100000 [00:04<00:50, 1793.93it/s]\u001b[A\n",
      "  9%|▉         | 8986/100000 [00:05<00:50, 1790.28it/s]\u001b[A\n",
      "  9%|▉         | 9166/100000 [00:05<00:50, 1786.50it/s]\u001b[A\n",
      "  9%|▉         | 9345/100000 [00:05<00:50, 1781.24it/s]\u001b[A\n",
      " 10%|▉         | 9525/100000 [00:05<00:50, 1785.98it/s]\u001b[A\n",
      " 10%|▉         | 9704/100000 [00:05<00:50, 1771.17it/s]\u001b[A\n",
      " 10%|▉         | 9882/100000 [00:05<00:50, 1768.38it/s]\u001b[A\n",
      " 10%|█         | 10060/100000 [00:05<00:50, 1770.08it/s]\u001b[A\n",
      " 10%|█         | 10238/100000 [00:05<00:50, 1769.41it/s]\u001b[A\n",
      " 10%|█         | 10418/100000 [00:05<00:50, 1776.60it/s]\u001b[A\n",
      " 11%|█         | 10597/100000 [00:05<00:50, 1780.26it/s]\u001b[A\n",
      " 11%|█         | 10778/100000 [00:06<00:49, 1788.14it/s]\u001b[A\n",
      " 11%|█         | 10960/100000 [00:06<00:49, 1797.14it/s]\u001b[A\n",
      " 11%|█         | 11140/100000 [00:06<00:50, 1767.99it/s]\u001b[A\n",
      " 11%|█▏        | 11318/100000 [00:06<00:50, 1769.05it/s]\u001b[A\n",
      " 11%|█▏        | 11497/100000 [00:06<00:49, 1773.80it/s]\u001b[A\n",
      " 12%|█▏        | 11675/100000 [00:06<00:50, 1755.83it/s]\u001b[A\n",
      " 12%|█▏        | 11851/100000 [00:06<00:50, 1735.58it/s]\u001b[A\n",
      " 12%|█▏        | 12025/100000 [00:06<00:51, 1697.29it/s]\u001b[A\n",
      " 12%|█▏        | 12195/100000 [00:06<00:52, 1663.95it/s]\u001b[A\n",
      " 12%|█▏        | 12362/100000 [00:06<00:53, 1649.73it/s]\u001b[A\n",
      " 13%|█▎        | 12539/100000 [00:07<00:51, 1683.37it/s]\u001b[A\n",
      " 13%|█▎        | 12714/100000 [00:07<00:51, 1701.37it/s]\u001b[A\n",
      " 13%|█▎        | 12897/100000 [00:07<00:50, 1739.02it/s]\u001b[A\n",
      " 13%|█▎        | 13077/100000 [00:07<00:49, 1756.79it/s]\u001b[A\n",
      " 13%|█▎        | 13255/100000 [00:07<00:49, 1762.96it/s]\u001b[A\n",
      " 13%|█▎        | 13435/100000 [00:07<00:48, 1772.69it/s]\u001b[A\n",
      " 14%|█▎        | 13616/100000 [00:07<00:48, 1783.72it/s]\u001b[A\n",
      " 14%|█▍        | 13795/100000 [00:07<00:48, 1774.10it/s]\u001b[A\n",
      " 14%|█▍        | 13976/100000 [00:07<00:48, 1782.96it/s]\u001b[A\n",
      " 14%|█▍        | 14155/100000 [00:07<00:48, 1768.92it/s]\u001b[A\n",
      " 14%|█▍        | 14332/100000 [00:08<00:48, 1760.98it/s]\u001b[A\n",
      " 15%|█▍        | 14509/100000 [00:08<00:48, 1760.62it/s]\u001b[A\n",
      " 15%|█▍        | 14691/100000 [00:08<00:47, 1777.37it/s]\u001b[A\n",
      " 15%|█▍        | 14869/100000 [00:08<00:48, 1762.67it/s]\u001b[A\n",
      " 15%|█▌        | 15046/100000 [00:08<00:48, 1750.29it/s]\u001b[A\n",
      " 15%|█▌        | 15222/100000 [00:08<00:48, 1741.59it/s]\u001b[A\n",
      " 15%|█▌        | 15398/100000 [00:08<00:48, 1744.31it/s]\u001b[A\n",
      " 16%|█▌        | 15573/100000 [00:08<00:48, 1739.15it/s]\u001b[A\n",
      " 16%|█▌        | 15751/100000 [00:08<00:48, 1749.61it/s]\u001b[A\n",
      " 16%|█▌        | 15926/100000 [00:09<00:49, 1703.61it/s]\u001b[A\n",
      " 16%|█▌        | 16100/100000 [00:09<00:48, 1712.40it/s]\u001b[A\n",
      " 16%|█▋        | 16272/100000 [00:09<00:50, 1662.50it/s]\u001b[A\n",
      " 16%|█▋        | 16451/100000 [00:09<00:49, 1697.79it/s]\u001b[A\n",
      " 17%|█▋        | 16626/100000 [00:09<00:48, 1711.89it/s]\u001b[A\n",
      " 17%|█▋        | 16803/100000 [00:09<00:48, 1727.31it/s]\u001b[A\n",
      " 17%|█▋        | 16980/100000 [00:09<00:47, 1738.75it/s]\u001b[A\n",
      " 17%|█▋        | 17156/100000 [00:09<00:47, 1742.12it/s]\u001b[A\n",
      " 17%|█▋        | 17331/100000 [00:09<00:47, 1736.04it/s]\u001b[A\n",
      " 18%|█▊        | 17505/100000 [00:09<00:47, 1730.90it/s]\u001b[A\n",
      " 18%|█▊        | 17679/100000 [00:10<00:48, 1711.75it/s]\u001b[A\n",
      " 18%|█▊        | 17851/100000 [00:10<00:47, 1713.62it/s]\u001b[A\n",
      " 18%|█▊        | 18023/100000 [00:10<00:49, 1658.98it/s]\u001b[A\n",
      " 18%|█▊        | 18194/100000 [00:10<00:48, 1673.21it/s]\u001b[A\n",
      " 18%|█▊        | 18368/100000 [00:10<00:48, 1692.68it/s]\u001b[A\n",
      " 19%|█▊        | 18546/100000 [00:10<00:47, 1717.48it/s]\u001b[A\n",
      " 19%|█▊        | 18728/100000 [00:10<00:46, 1746.89it/s]\u001b[A\n",
      " 19%|█▉        | 18912/100000 [00:10<00:45, 1773.06it/s]\u001b[A\n",
      " 19%|█▉        | 19094/100000 [00:10<00:45, 1784.25it/s]\u001b[A\n",
      " 19%|█▉        | 19274/100000 [00:10<00:45, 1786.28it/s]\u001b[A\n",
      " 19%|█▉        | 19456/100000 [00:11<00:44, 1795.87it/s]\u001b[A\n",
      " 20%|█▉        | 19636/100000 [00:11<00:45, 1780.48it/s]\u001b[A\n",
      " 20%|█▉        | 19815/100000 [00:11<00:45, 1775.94it/s]\u001b[A\n",
      " 20%|█▉        | 19993/100000 [00:11<00:45, 1765.81it/s]\u001b[A\n",
      " 20%|██        | 20170/100000 [00:11<00:46, 1703.79it/s]\u001b[A\n",
      " 20%|██        | 20344/100000 [00:11<00:46, 1714.18it/s]\u001b[A\n",
      " 21%|██        | 20526/100000 [00:11<00:45, 1742.94it/s]\u001b[A\n",
      " 21%|██        | 20701/100000 [00:11<00:46, 1715.09it/s]\u001b[A\n",
      " 21%|██        | 20885/100000 [00:11<00:45, 1749.79it/s]\u001b[A\n",
      " 21%|██        | 21071/100000 [00:11<00:44, 1781.16it/s]\u001b[A\n",
      " 21%|██▏       | 21253/100000 [00:12<00:43, 1790.63it/s]\u001b[A\n",
      " 21%|██▏       | 21434/100000 [00:12<00:43, 1796.22it/s]\u001b[A\n",
      " 22%|██▏       | 21616/100000 [00:12<00:43, 1802.51it/s]\u001b[A\n",
      " 22%|██▏       | 21800/100000 [00:12<00:43, 1812.09it/s]\u001b[A\n",
      " 22%|██▏       | 21983/100000 [00:12<00:42, 1814.69it/s]\u001b[A\n",
      " 22%|██▏       | 22165/100000 [00:12<00:44, 1751.68it/s]\u001b[A\n",
      " 22%|██▏       | 22341/100000 [00:12<00:44, 1731.43it/s]\u001b[A\n",
      " 23%|██▎       | 22526/100000 [00:12<00:43, 1764.63it/s]\u001b[A\n",
      " 23%|██▎       | 22711/100000 [00:12<00:43, 1789.11it/s]\u001b[A\n",
      " 23%|██▎       | 22894/100000 [00:12<00:42, 1799.82it/s]\u001b[A\n",
      " 23%|██▎       | 23079/100000 [00:13<00:42, 1814.29it/s]\u001b[A\n",
      " 23%|██▎       | 23261/100000 [00:13<00:42, 1797.66it/s]\u001b[A\n",
      " 23%|██▎       | 23444/100000 [00:13<00:42, 1804.95it/s]\u001b[A\n",
      " 24%|██▎       | 23626/100000 [00:13<00:42, 1808.51it/s]\u001b[A\n",
      " 24%|██▍       | 23810/100000 [00:13<00:41, 1815.19it/s]\u001b[A\n",
      " 24%|██▍       | 23994/100000 [00:13<00:41, 1820.74it/s]\u001b[A\n",
      " 24%|██▍       | 24177/100000 [00:13<00:41, 1820.97it/s]\u001b[A\n",
      " 24%|██▍       | 24360/100000 [00:13<00:41, 1822.11it/s]\u001b[A\n",
      " 25%|██▍       | 24543/100000 [00:13<00:41, 1819.29it/s]\u001b[A\n",
      " 25%|██▍       | 24727/100000 [00:14<00:41, 1824.01it/s]\u001b[A\n",
      " 25%|██▍       | 24910/100000 [00:14<00:42, 1773.07it/s]\u001b[A\n",
      " 25%|██▌       | 25088/100000 [00:14<00:42, 1772.50it/s]\u001b[A\n",
      " 25%|██▌       | 25270/100000 [00:14<00:41, 1786.24it/s]\u001b[A\n",
      " 25%|██▌       | 25452/100000 [00:14<00:41, 1792.31it/s]\u001b[A\n",
      " 26%|██▌       | 25635/100000 [00:14<00:41, 1803.12it/s]\u001b[A\n",
      " 26%|██▌       | 25818/100000 [00:14<00:41, 1809.06it/s]\u001b[A\n",
      " 26%|██▌       | 26001/100000 [00:14<00:40, 1813.11it/s]\u001b[A\n",
      " 26%|██▌       | 26184/100000 [00:14<00:40, 1817.00it/s]\u001b[A\n",
      " 26%|██▋       | 26366/100000 [00:14<00:41, 1772.36it/s]\u001b[A\n",
      " 27%|██▋       | 26544/100000 [00:15<00:42, 1745.28it/s]\u001b[A\n",
      " 27%|██▋       | 26723/100000 [00:15<00:41, 1757.64it/s]\u001b[A\n",
      " 27%|██▋       | 26899/100000 [00:15<00:41, 1744.39it/s]\u001b[A\n",
      " 27%|██▋       | 27074/100000 [00:15<00:42, 1725.15it/s]\u001b[A\n",
      " 27%|██▋       | 27247/100000 [00:15<00:42, 1696.75it/s]\u001b[A\n",
      " 27%|██▋       | 27417/100000 [00:15<00:43, 1664.72it/s]\u001b[A\n",
      " 28%|██▊       | 27584/100000 [00:15<00:43, 1665.23it/s]\u001b[A\n",
      " 28%|██▊       | 27751/100000 [00:15<00:43, 1647.56it/s]\u001b[A\n",
      " 28%|██▊       | 27929/100000 [00:15<00:42, 1684.80it/s]\u001b[A\n",
      " 28%|██▊       | 28110/100000 [00:15<00:41, 1721.09it/s]\u001b[A\n",
      " 28%|██▊       | 28288/100000 [00:16<00:41, 1738.15it/s]\u001b[A\n",
      " 28%|██▊       | 28468/100000 [00:16<00:40, 1755.75it/s]\u001b[A\n",
      " 29%|██▊       | 28644/100000 [00:16<00:41, 1738.94it/s]\u001b[A\n",
      " 29%|██▉       | 28818/100000 [00:16<00:41, 1733.15it/s]\u001b[A\n",
      " 29%|██▉       | 28998/100000 [00:16<00:40, 1749.52it/s]\u001b[A\n",
      " 29%|██▉       | 29176/100000 [00:16<00:40, 1758.47it/s]\u001b[A\n",
      " 29%|██▉       | 29352/100000 [00:16<00:40, 1755.19it/s]\u001b[A\n",
      " 30%|██▉       | 29528/100000 [00:16<00:40, 1741.11it/s]\u001b[A\n",
      " 30%|██▉       | 29703/100000 [00:16<00:40, 1732.19it/s]\u001b[A\n",
      " 30%|██▉       | 29882/100000 [00:16<00:40, 1747.80it/s]\u001b[A\n",
      " 30%|███       | 30062/100000 [00:17<00:39, 1761.57it/s]\u001b[A\n",
      " 30%|███       | 30239/100000 [00:17<00:39, 1756.16it/s]\u001b[A\n",
      " 30%|███       | 30415/100000 [00:17<00:39, 1746.70it/s]\u001b[A\n",
      " 31%|███       | 30590/100000 [00:17<00:40, 1698.76it/s]\u001b[A\n",
      " 31%|███       | 30768/100000 [00:17<00:40, 1720.78it/s]\u001b[A\n",
      " 31%|███       | 30951/100000 [00:17<00:39, 1750.98it/s]\u001b[A\n",
      " 31%|███       | 31130/100000 [00:17<00:39, 1761.10it/s]\u001b[A\n",
      " 31%|███▏      | 31307/100000 [00:17<00:39, 1723.31it/s]\u001b[A\n",
      " 31%|███▏      | 31489/100000 [00:17<00:39, 1749.36it/s]\u001b[A\n",
      " 32%|███▏      | 31668/100000 [00:17<00:38, 1759.04it/s]\u001b[A\n",
      " 32%|███▏      | 31845/100000 [00:18<00:39, 1726.04it/s]\u001b[A\n",
      " 32%|███▏      | 32018/100000 [00:18<00:40, 1687.68it/s]\u001b[A\n",
      " 32%|███▏      | 32190/100000 [00:18<00:39, 1696.41it/s]\u001b[A\n",
      " 32%|███▏      | 32367/100000 [00:18<00:39, 1715.90it/s]\u001b[A\n",
      " 33%|███▎      | 32541/100000 [00:18<00:39, 1719.48it/s]\u001b[A\n",
      " 33%|███▎      | 32718/100000 [00:18<00:38, 1731.39it/s]\u001b[A\n",
      " 33%|███▎      | 32893/100000 [00:18<00:38, 1736.87it/s]\u001b[A\n",
      " 33%|███▎      | 33067/100000 [00:18<00:39, 1692.04it/s]\u001b[A\n",
      " 33%|███▎      | 33246/100000 [00:18<00:38, 1718.66it/s]\u001b[A\n",
      " 33%|███▎      | 33419/100000 [00:19<00:39, 1674.10it/s]\u001b[A\n",
      " 34%|███▎      | 33594/100000 [00:19<00:39, 1694.51it/s]\u001b[A\n",
      " 34%|███▍      | 33764/100000 [00:19<00:39, 1670.26it/s]\u001b[A\n",
      " 34%|███▍      | 33932/100000 [00:19<00:40, 1650.95it/s]\u001b[A\n",
      " 34%|███▍      | 34098/100000 [00:19<00:40, 1635.10it/s]\u001b[A\n",
      " 34%|███▍      | 34280/100000 [00:19<00:38, 1686.61it/s]\u001b[A\n",
      " 34%|███▍      | 34461/100000 [00:19<00:38, 1721.52it/s]\u001b[A\n",
      " 35%|███▍      | 34637/100000 [00:19<00:37, 1731.21it/s]\u001b[A\n",
      " 35%|███▍      | 34811/100000 [00:19<00:38, 1710.20it/s]\u001b[A\n",
      " 35%|███▍      | 34996/100000 [00:19<00:37, 1749.42it/s]\u001b[A\n",
      " 35%|███▌      | 35181/100000 [00:20<00:36, 1776.91it/s]\u001b[A\n",
      " 35%|███▌      | 35361/100000 [00:20<00:36, 1780.65it/s]\u001b[A\n",
      " 36%|███▌      | 35540/100000 [00:20<00:36, 1754.45it/s]\u001b[A\n",
      " 36%|███▌      | 35721/100000 [00:20<00:36, 1769.52it/s]\u001b[A\n",
      " 36%|███▌      | 35905/100000 [00:20<00:35, 1788.44it/s]\u001b[A\n",
      " 36%|███▌      | 36086/100000 [00:20<00:35, 1794.04it/s]\u001b[A\n",
      " 36%|███▋      | 36268/100000 [00:20<00:35, 1801.37it/s]\u001b[A\n",
      " 36%|███▋      | 36452/100000 [00:20<00:35, 1812.23it/s]\u001b[A\n",
      " 37%|███▋      | 36634/100000 [00:20<00:34, 1812.67it/s]\u001b[A\n",
      " 37%|███▋      | 36819/100000 [00:20<00:34, 1823.54it/s]\u001b[A\n",
      " 37%|███▋      | 37002/100000 [00:21<00:34, 1824.75it/s]\u001b[A\n",
      " 37%|███▋      | 37187/100000 [00:21<00:34, 1831.68it/s]\u001b[A\n",
      " 37%|███▋      | 37371/100000 [00:21<00:34, 1792.10it/s]\u001b[A\n",
      " 38%|███▊      | 37551/100000 [00:21<00:35, 1779.97it/s]\u001b[A\n",
      " 38%|███▊      | 37730/100000 [00:21<00:35, 1769.85it/s]\u001b[A\n",
      " 38%|███▊      | 37908/100000 [00:21<00:35, 1752.37it/s]\u001b[A\n",
      " 38%|███▊      | 38084/100000 [00:21<00:35, 1753.50it/s]\u001b[A\n",
      " 38%|███▊      | 38260/100000 [00:21<00:35, 1755.15it/s]\u001b[A\n",
      " 38%|███▊      | 38436/100000 [00:21<00:35, 1749.35it/s]\u001b[A\n",
      " 39%|███▊      | 38618/100000 [00:21<00:34, 1768.30it/s]\u001b[A\n",
      " 39%|███▉      | 38799/100000 [00:22<00:34, 1777.41it/s]\u001b[A\n",
      " 39%|███▉      | 38977/100000 [00:22<00:34, 1771.08it/s]\u001b[A\n",
      " 39%|███▉      | 39155/100000 [00:22<00:34, 1770.51it/s]\u001b[A\n",
      " 39%|███▉      | 39333/100000 [00:22<00:34, 1764.87it/s]\u001b[A\n",
      " 40%|███▉      | 39513/100000 [00:22<00:34, 1773.16it/s]\u001b[A\n",
      " 40%|███▉      | 39694/100000 [00:22<00:33, 1783.62it/s]\u001b[A\n",
      " 40%|███▉      | 39875/100000 [00:22<00:33, 1790.24it/s]\u001b[A\n",
      " 40%|████      | 40056/100000 [00:22<00:33, 1795.63it/s]\u001b[A\n",
      " 40%|████      | 40238/100000 [00:22<00:33, 1802.27it/s]\u001b[A\n",
      " 40%|████      | 40421/100000 [00:22<00:32, 1808.77it/s]\u001b[A\n",
      " 41%|████      | 40604/100000 [00:23<00:32, 1812.89it/s]\u001b[A\n",
      " 41%|████      | 40786/100000 [00:23<00:32, 1810.80it/s]\u001b[A\n",
      " 41%|████      | 40968/100000 [00:23<00:33, 1779.30it/s]\u001b[A\n",
      " 41%|████      | 41147/100000 [00:23<00:33, 1743.13it/s]\u001b[A\n",
      " 41%|████▏     | 41327/100000 [00:23<00:33, 1757.71it/s]\u001b[A\n",
      " 42%|████▏     | 41505/100000 [00:23<00:33, 1761.87it/s]\u001b[A\n",
      " 42%|████▏     | 41682/100000 [00:23<00:33, 1747.38it/s]\u001b[A\n",
      " 42%|████▏     | 41857/100000 [00:23<00:33, 1739.60it/s]\u001b[A\n",
      " 42%|████▏     | 42032/100000 [00:23<00:33, 1733.94it/s]\u001b[A\n",
      " 42%|████▏     | 42206/100000 [00:24<00:33, 1730.21it/s]\u001b[A\n",
      " 42%|████▏     | 42380/100000 [00:24<00:33, 1732.17it/s]\u001b[A\n",
      " 43%|████▎     | 42554/100000 [00:24<00:33, 1718.70it/s]\u001b[A\n",
      " 43%|████▎     | 42730/100000 [00:24<00:33, 1727.95it/s]\u001b[A\n",
      " 43%|████▎     | 42903/100000 [00:24<00:33, 1700.80it/s]\u001b[A\n",
      " 43%|████▎     | 43084/100000 [00:24<00:32, 1732.36it/s]\u001b[A\n",
      " 43%|████▎     | 43258/100000 [00:24<00:33, 1712.83it/s]\u001b[A\n",
      " 43%|████▎     | 43440/100000 [00:24<00:32, 1742.58it/s]\u001b[A\n",
      " 44%|████▎     | 43615/100000 [00:24<00:32, 1742.41it/s]\u001b[A\n",
      " 44%|████▍     | 43792/100000 [00:24<00:32, 1747.41it/s]\u001b[A\n",
      " 44%|████▍     | 43969/100000 [00:25<00:31, 1753.36it/s]\u001b[A\n",
      " 44%|████▍     | 44150/100000 [00:25<00:31, 1770.01it/s]\u001b[A\n",
      " 44%|████▍     | 44328/100000 [00:25<00:31, 1748.07it/s]\u001b[A\n",
      " 45%|████▍     | 44503/100000 [00:25<00:32, 1731.20it/s]\u001b[A\n",
      " 45%|████▍     | 44679/100000 [00:25<00:31, 1733.54it/s]\u001b[A\n",
      " 45%|████▍     | 44855/100000 [00:25<00:31, 1740.01it/s]\u001b[A\n",
      " 45%|████▌     | 45030/100000 [00:25<00:31, 1739.65it/s]\u001b[A\n",
      " 45%|████▌     | 45207/100000 [00:25<00:31, 1747.51it/s]\u001b[A\n",
      " 45%|████▌     | 45388/100000 [00:25<00:30, 1765.33it/s]\u001b[A\n",
      " 46%|████▌     | 45572/100000 [00:25<00:30, 1786.92it/s]\u001b[A\n",
      " 46%|████▌     | 45753/100000 [00:26<00:30, 1793.72it/s]\u001b[A\n",
      " 46%|████▌     | 45933/100000 [00:26<00:30, 1751.69it/s]\u001b[A\n",
      " 46%|████▌     | 46109/100000 [00:26<00:30, 1741.84it/s]\u001b[A\n",
      " 46%|████▋     | 46290/100000 [00:26<00:30, 1761.08it/s]\u001b[A\n",
      " 46%|████▋     | 46470/100000 [00:26<00:30, 1771.44it/s]\u001b[A\n",
      " 47%|████▋     | 46648/100000 [00:26<00:30, 1757.90it/s]\u001b[A\n",
      " 47%|████▋     | 46824/100000 [00:26<00:30, 1752.20it/s]\u001b[A\n",
      " 47%|████▋     | 47004/100000 [00:26<00:30, 1765.96it/s]\u001b[A\n",
      " 47%|████▋     | 47181/100000 [00:26<00:30, 1759.15it/s]\u001b[A\n",
      " 47%|████▋     | 47364/100000 [00:26<00:29, 1778.61it/s]\u001b[A\n",
      " 48%|████▊     | 47542/100000 [00:27<00:29, 1760.01it/s]\u001b[A\n",
      " 48%|████▊     | 47722/100000 [00:27<00:29, 1770.54it/s]\u001b[A\n",
      " 48%|████▊     | 47900/100000 [00:27<00:29, 1758.62it/s]\u001b[A\n",
      " 48%|████▊     | 48076/100000 [00:27<00:29, 1744.75it/s]\u001b[A\n",
      " 48%|████▊     | 48255/100000 [00:27<00:29, 1755.98it/s]\u001b[A\n",
      " 48%|████▊     | 48431/100000 [00:27<00:29, 1731.93it/s]\u001b[A\n",
      " 49%|████▊     | 48605/100000 [00:27<00:30, 1701.26it/s]\u001b[A\n",
      " 49%|████▉     | 48782/100000 [00:27<00:29, 1720.21it/s]\u001b[A\n",
      " 49%|████▉     | 48958/100000 [00:27<00:29, 1730.57it/s]\u001b[A\n",
      " 49%|████▉     | 49134/100000 [00:27<00:29, 1738.32it/s]\u001b[A\n",
      " 49%|████▉     | 49310/100000 [00:28<00:29, 1741.63it/s]\u001b[A\n",
      " 49%|████▉     | 49485/100000 [00:28<00:29, 1739.10it/s]\u001b[A\n",
      " 50%|████▉     | 49660/100000 [00:28<00:28, 1741.30it/s]\u001b[A\n",
      " 50%|████▉     | 49843/100000 [00:28<00:28, 1765.12it/s]\u001b[A\n",
      " 50%|█████     | 50020/100000 [00:28<00:28, 1763.40it/s]\u001b[A\n",
      " 50%|█████     | 50197/100000 [00:28<00:28, 1759.28it/s]\u001b[A\n",
      " 50%|█████     | 50373/100000 [00:28<00:28, 1753.35it/s]\u001b[A\n",
      " 51%|█████     | 50549/100000 [00:28<00:28, 1744.60it/s]\u001b[A\n",
      " 51%|█████     | 50724/100000 [00:28<00:28, 1744.00it/s]\u001b[A\n",
      " 51%|█████     | 50902/100000 [00:28<00:27, 1754.29it/s]\u001b[A\n",
      " 51%|█████     | 51083/100000 [00:29<00:27, 1769.01it/s]\u001b[A\n",
      " 51%|█████▏    | 51260/100000 [00:29<00:27, 1760.07it/s]\u001b[A\n",
      " 51%|█████▏    | 51437/100000 [00:29<00:27, 1757.60it/s]\u001b[A\n",
      " 52%|█████▏    | 51614/100000 [00:29<00:27, 1757.85it/s]\u001b[A\n",
      " 52%|█████▏    | 51790/100000 [00:29<00:27, 1757.30it/s]\u001b[A\n",
      " 52%|█████▏    | 51971/100000 [00:29<00:27, 1770.89it/s]\u001b[A\n",
      " 52%|█████▏    | 52150/100000 [00:29<00:26, 1775.27it/s]\u001b[A\n",
      " 52%|█████▏    | 52328/100000 [00:29<00:27, 1761.91it/s]\u001b[A\n",
      " 53%|█████▎    | 52505/100000 [00:29<00:26, 1762.42it/s]\u001b[A\n",
      " 53%|█████▎    | 52685/100000 [00:29<00:26, 1772.36it/s]\u001b[A\n",
      " 53%|█████▎    | 52863/100000 [00:30<00:26, 1770.83it/s]\u001b[A\n",
      " 53%|█████▎    | 53041/100000 [00:30<00:26, 1762.29it/s]\u001b[A\n",
      " 53%|█████▎    | 53218/100000 [00:30<00:26, 1746.39it/s]\u001b[A\n",
      " 53%|█████▎    | 53394/100000 [00:30<00:26, 1749.11it/s]\u001b[A\n",
      " 54%|█████▎    | 53569/100000 [00:30<00:27, 1705.67it/s]\u001b[A\n",
      " 54%|█████▎    | 53740/100000 [00:30<00:27, 1706.81it/s]\u001b[A\n",
      " 54%|█████▍    | 53916/100000 [00:30<00:26, 1721.89it/s]\u001b[A\n",
      " 54%|█████▍    | 54089/100000 [00:30<00:26, 1721.15it/s]\u001b[A\n",
      " 54%|█████▍    | 54265/100000 [00:30<00:26, 1732.56it/s]\u001b[A\n",
      " 54%|█████▍    | 54439/100000 [00:31<00:26, 1728.88it/s]\u001b[A\n",
      " 55%|█████▍    | 54615/100000 [00:31<00:26, 1735.09it/s]\u001b[A\n",
      " 55%|█████▍    | 54789/100000 [00:31<00:26, 1729.29it/s]\u001b[A\n",
      " 55%|█████▍    | 54971/100000 [00:31<00:25, 1753.59it/s]\u001b[A\n",
      " 55%|█████▌    | 55147/100000 [00:31<00:25, 1750.75it/s]\u001b[A\n",
      " 55%|█████▌    | 55323/100000 [00:31<00:26, 1710.66it/s]\u001b[A\n",
      " 55%|█████▌    | 55495/100000 [00:31<00:26, 1676.79it/s]\u001b[A\n",
      " 56%|█████▌    | 55663/100000 [00:31<00:26, 1662.12it/s]\u001b[A\n",
      " 56%|█████▌    | 55843/100000 [00:31<00:25, 1700.16it/s]\u001b[A\n",
      " 56%|█████▌    | 56020/100000 [00:31<00:25, 1718.84it/s]\u001b[A\n",
      " 56%|█████▌    | 56193/100000 [00:32<00:25, 1719.29it/s]\u001b[A\n",
      " 56%|█████▋    | 56366/100000 [00:32<00:25, 1682.35it/s]\u001b[A\n",
      " 57%|█████▋    | 56535/100000 [00:32<00:26, 1651.28it/s]\u001b[A\n",
      " 57%|█████▋    | 56715/100000 [00:32<00:25, 1694.38it/s]\u001b[A\n",
      " 57%|█████▋    | 56892/100000 [00:32<00:25, 1716.24it/s]\u001b[A\n",
      " 57%|█████▋    | 57069/100000 [00:32<00:24, 1729.90it/s]\u001b[A\n",
      " 57%|█████▋    | 57353/100000 [00:32<00:24, 1753.74it/s]\u001b[A\n",
      "\n",
      "  0%|          | 0/100000 [00:00<?, ?it/s]\u001b[A\n",
      "  0%|          | 185/100000 [00:00<00:54, 1841.91it/s]\u001b[A\n",
      "  0%|          | 370/100000 [00:00<00:57, 1726.98it/s]\u001b[A\n",
      "  1%|          | 548/100000 [00:00<00:56, 1748.48it/s]\u001b[A\n",
      "  1%|          | 724/100000 [00:00<00:58, 1705.38it/s]\u001b[A\n",
      "  1%|          | 895/100000 [00:00<00:58, 1689.30it/s]\u001b[A\n",
      "  1%|          | 1065/100000 [00:00<00:59, 1671.12it/s]\u001b[A\n",
      "  1%|          | 1242/100000 [00:00<00:58, 1701.03it/s]\u001b[A\n",
      "  1%|▏         | 1418/100000 [00:00<00:57, 1716.65it/s]\u001b[A\n",
      "  2%|▏         | 1592/100000 [00:00<00:57, 1721.72it/s]\u001b[A\n",
      "  2%|▏         | 1771/100000 [00:01<00:56, 1739.95it/s]\u001b[A\n",
      "  2%|▏         | 1952/100000 [00:01<00:55, 1759.52it/s]\u001b[A\n",
      "  2%|▏         | 2134/100000 [00:01<00:55, 1775.77it/s]\u001b[A\n",
      "  2%|▏         | 2316/100000 [00:01<00:54, 1788.05it/s]\u001b[A\n",
      "  2%|▏         | 2496/100000 [00:01<00:54, 1789.55it/s]\u001b[A\n",
      "  3%|▎         | 2675/100000 [00:01<00:55, 1766.30it/s]\u001b[A\n",
      "  3%|▎         | 2852/100000 [00:01<00:55, 1759.86it/s]\u001b[A\n",
      "  3%|▎         | 3029/100000 [00:01<00:55, 1762.44it/s]\u001b[A\n",
      "  3%|▎         | 3207/100000 [00:01<00:54, 1765.94it/s]\u001b[A\n",
      "  3%|▎         | 3387/100000 [00:01<00:54, 1775.49it/s]\u001b[A\n",
      "  4%|▎         | 3566/100000 [00:02<00:54, 1779.53it/s]\u001b[A\n",
      "  4%|▎         | 3746/100000 [00:02<00:53, 1783.44it/s]\u001b[A\n",
      "  4%|▍         | 3926/100000 [00:02<00:53, 1786.31it/s]\u001b[A\n",
      "  4%|▍         | 4105/100000 [00:02<00:54, 1773.41it/s]\u001b[A\n",
      "  4%|▍         | 4283/100000 [00:02<00:54, 1754.83it/s]\u001b[A\n",
      "  4%|▍         | 4459/100000 [00:02<00:55, 1734.21it/s]\u001b[A\n",
      "  5%|▍         | 4633/100000 [00:02<00:55, 1732.77it/s]\u001b[A\n",
      "  5%|▍         | 4807/100000 [00:02<00:54, 1732.29it/s]\u001b[A\n",
      "  5%|▍         | 4984/100000 [00:02<00:54, 1741.98it/s]\u001b[A\n",
      "  5%|▌         | 5159/100000 [00:02<00:55, 1697.35it/s]\u001b[A\n",
      "  5%|▌         | 5336/100000 [00:03<00:55, 1715.97it/s]\u001b[A\n",
      "  6%|▌         | 5516/100000 [00:03<00:54, 1738.31it/s]\u001b[A\n",
      "  6%|▌         | 5691/100000 [00:03<00:55, 1694.30it/s]\u001b[A\n",
      "  6%|▌         | 5863/100000 [00:03<00:55, 1699.51it/s]\u001b[A\n",
      "  6%|▌         | 6034/100000 [00:03<00:56, 1657.63it/s]\u001b[A\n",
      "  6%|▌         | 6201/100000 [00:03<00:57, 1637.72it/s]\u001b[A\n",
      "  6%|▋         | 6381/100000 [00:03<00:55, 1684.53it/s]\u001b[A\n",
      "  7%|▋         | 6561/100000 [00:03<00:54, 1718.20it/s]\u001b[A\n",
      "  7%|▋         | 6738/100000 [00:03<00:53, 1730.84it/s]\u001b[A\n",
      "  7%|▋         | 6915/100000 [00:03<00:53, 1739.88it/s]\u001b[A\n",
      "  7%|▋         | 7093/100000 [00:04<00:53, 1750.14it/s]\u001b[A\n",
      "  7%|▋         | 7270/100000 [00:04<00:52, 1754.89it/s]\u001b[A\n",
      "  7%|▋         | 7446/100000 [00:04<00:52, 1754.98it/s]\u001b[A\n",
      "  8%|▊         | 7629/100000 [00:04<00:52, 1776.06it/s]\u001b[A\n",
      "  8%|▊         | 7807/100000 [00:04<00:52, 1767.13it/s]\u001b[A\n",
      "  8%|▊         | 7990/100000 [00:04<00:51, 1784.30it/s]\u001b[A\n",
      "  8%|▊         | 8169/100000 [00:04<00:51, 1785.06it/s]\u001b[A\n",
      "  8%|▊         | 8350/100000 [00:04<00:51, 1792.21it/s]\u001b[A\n",
      "  9%|▊         | 8533/100000 [00:04<00:50, 1802.64it/s]\u001b[A\n",
      "  9%|▊         | 8716/100000 [00:04<00:50, 1807.58it/s]\u001b[A\n",
      "  9%|▉         | 8898/100000 [00:05<00:50, 1809.58it/s]\u001b[A\n",
      "  9%|▉         | 9079/100000 [00:05<00:51, 1771.94it/s]\u001b[A\n",
      "  9%|▉         | 9257/100000 [00:05<00:53, 1711.57it/s]\u001b[A\n",
      "  9%|▉         | 9438/100000 [00:05<00:52, 1738.55it/s]\u001b[A\n",
      " 10%|▉         | 9613/100000 [00:05<00:51, 1740.39it/s]\u001b[A\n",
      " 10%|▉         | 9796/100000 [00:05<00:51, 1765.16it/s]\u001b[A\n",
      " 10%|▉         | 9979/100000 [00:05<00:50, 1783.37it/s]\u001b[A\n",
      " 10%|█         | 10158/100000 [00:05<00:50, 1783.29it/s]\u001b[A\n",
      " 10%|█         | 10339/100000 [00:05<00:50, 1788.78it/s]\u001b[A\n",
      " 11%|█         | 10521/100000 [00:06<00:49, 1796.66it/s]\u001b[A\n",
      " 11%|█         | 10702/100000 [00:06<00:49, 1800.36it/s]\u001b[A\n",
      " 11%|█         | 10885/100000 [00:06<00:49, 1808.51it/s]\u001b[A\n",
      " 11%|█         | 11070/100000 [00:06<00:48, 1819.35it/s]\u001b[A\n",
      " 11%|█▏        | 11253/100000 [00:06<00:48, 1819.91it/s]\u001b[A\n",
      " 11%|█▏        | 11436/100000 [00:06<00:49, 1800.44it/s]\u001b[A\n",
      " 12%|█▏        | 11618/100000 [00:06<00:48, 1803.95it/s]\u001b[A\n",
      " 12%|█▏        | 11802/100000 [00:06<00:48, 1814.30it/s]\u001b[A\n",
      " 12%|█▏        | 11984/100000 [00:06<00:48, 1805.55it/s]\u001b[A\n",
      " 12%|█▏        | 12165/100000 [00:06<00:48, 1803.29it/s]\u001b[A\n",
      " 12%|█▏        | 12346/100000 [00:07<00:48, 1790.43it/s]\u001b[A\n",
      " 13%|█▎        | 12530/100000 [00:07<00:48, 1803.10it/s]\u001b[A\n",
      " 13%|█▎        | 12711/100000 [00:07<00:48, 1793.87it/s]\u001b[A\n",
      " 13%|█▎        | 12891/100000 [00:07<00:48, 1795.63it/s]\u001b[A\n",
      " 13%|█▎        | 13071/100000 [00:07<00:49, 1742.87it/s]\u001b[A\n",
      " 13%|█▎        | 13246/100000 [00:07<00:50, 1727.93it/s]\u001b[A\n",
      " 13%|█▎        | 13421/100000 [00:07<00:49, 1731.65it/s]\u001b[A\n",
      " 14%|█▎        | 13598/100000 [00:07<00:49, 1740.47it/s]\u001b[A\n",
      " 14%|█▍        | 13774/100000 [00:07<00:49, 1743.93it/s]\u001b[A\n",
      " 14%|█▍        | 13952/100000 [00:07<00:49, 1753.59it/s]\u001b[A\n",
      " 14%|█▍        | 14130/100000 [00:08<00:48, 1759.84it/s]\u001b[A\n",
      " 14%|█▍        | 14309/100000 [00:08<00:48, 1768.17it/s]\u001b[A\n",
      " 14%|█▍        | 14486/100000 [00:08<00:49, 1718.00it/s]\u001b[A\n",
      " 15%|█▍        | 14662/100000 [00:08<00:49, 1728.74it/s]\u001b[A\n",
      " 15%|█▍        | 14837/100000 [00:08<00:49, 1734.14it/s]\u001b[A\n",
      " 15%|█▌        | 15011/100000 [00:08<00:49, 1723.05it/s]\u001b[A\n",
      " 15%|█▌        | 15184/100000 [00:08<00:50, 1693.67it/s]\u001b[A\n",
      " 15%|█▌        | 15355/100000 [00:08<00:49, 1697.43it/s]\u001b[A\n",
      " 16%|█▌        | 15536/100000 [00:08<00:48, 1730.39it/s]\u001b[A\n",
      " 16%|█▌        | 15714/100000 [00:08<00:48, 1742.50it/s]\u001b[A\n",
      " 16%|█▌        | 15898/100000 [00:09<00:47, 1769.29it/s]\u001b[A\n",
      " 16%|█▌        | 16080/100000 [00:09<00:47, 1783.42it/s]\u001b[A\n",
      " 16%|█▋        | 16259/100000 [00:09<00:48, 1739.05it/s]\u001b[A\n",
      " 16%|█▋        | 16434/100000 [00:09<00:48, 1724.03it/s]\u001b[A\n",
      " 17%|█▋        | 16611/100000 [00:09<00:48, 1734.98it/s]\u001b[A\n",
      " 17%|█▋        | 16785/100000 [00:09<00:49, 1687.67it/s]\u001b[A\n",
      " 17%|█▋        | 16964/100000 [00:09<00:48, 1714.94it/s]\u001b[A\n",
      " 17%|█▋        | 17136/100000 [00:09<00:49, 1674.23it/s]\u001b[A\n",
      " 17%|█▋        | 17304/100000 [00:09<00:49, 1661.76it/s]\u001b[A\n",
      " 17%|█▋        | 17483/100000 [00:09<00:48, 1698.46it/s]\u001b[A\n",
      " 18%|█▊        | 17660/100000 [00:10<00:47, 1717.90it/s]\u001b[A\n",
      " 18%|█▊        | 17833/100000 [00:10<00:47, 1716.75it/s]\u001b[A\n",
      " 18%|█▊        | 18009/100000 [00:10<00:47, 1729.02it/s]\u001b[A\n",
      " 18%|█▊        | 18189/100000 [00:10<00:46, 1748.92it/s]\u001b[A\n",
      " 18%|█▊        | 18364/100000 [00:10<00:46, 1747.71it/s]\u001b[A\n",
      " 19%|█▊        | 18539/100000 [00:10<00:46, 1741.76it/s]\u001b[A\n",
      " 19%|█▊        | 18714/100000 [00:10<00:47, 1711.56it/s]\u001b[A\n",
      " 19%|█▉        | 18898/100000 [00:10<00:46, 1749.15it/s]\u001b[A\n",
      " 19%|█▉        | 19074/100000 [00:10<00:46, 1729.51it/s]\u001b[A\n",
      " 19%|█▉        | 19248/100000 [00:11<00:48, 1675.13it/s]\u001b[A\n",
      " 19%|█▉        | 19425/100000 [00:11<00:47, 1701.76it/s]\u001b[A\n",
      " 20%|█▉        | 19596/100000 [00:11<00:48, 1665.38it/s]\u001b[A\n",
      " 20%|█▉        | 19784/100000 [00:11<00:46, 1726.42it/s]\u001b[A\n",
      " 20%|█▉        | 19958/100000 [00:11<00:47, 1689.97it/s]\u001b[A\n",
      " 20%|██        | 20137/100000 [00:11<00:46, 1717.32it/s]\u001b[A\n",
      " 20%|██        | 20313/100000 [00:11<00:46, 1728.47it/s]\u001b[A\n",
      " 20%|██        | 20490/100000 [00:11<00:45, 1737.50it/s]\u001b[A\n",
      " 21%|██        | 20665/100000 [00:11<00:45, 1740.68it/s]\u001b[A\n",
      " 21%|██        | 20840/100000 [00:11<00:46, 1703.87it/s]\u001b[A\n",
      " 21%|██        | 21011/100000 [00:12<00:46, 1702.49it/s]\u001b[A\n",
      " 21%|██        | 21188/100000 [00:12<00:45, 1720.30it/s]\u001b[A\n",
      " 21%|██▏       | 21364/100000 [00:12<00:45, 1731.40it/s]\u001b[A\n",
      " 22%|██▏       | 21541/100000 [00:12<00:45, 1739.31it/s]\u001b[A\n",
      " 22%|██▏       | 21717/100000 [00:12<00:44, 1743.63it/s]\u001b[A\n",
      " 22%|██▏       | 21892/100000 [00:12<00:45, 1725.23it/s]\u001b[A\n",
      " 22%|██▏       | 22066/100000 [00:12<00:45, 1729.24it/s]\u001b[A\n",
      " 22%|██▏       | 22241/100000 [00:12<00:44, 1733.21it/s]\u001b[A\n",
      " 22%|██▏       | 22418/100000 [00:12<00:44, 1741.58it/s]\u001b[A\n",
      " 23%|██▎       | 22594/100000 [00:12<00:44, 1744.23it/s]\u001b[A\n",
      " 23%|██▎       | 22776/100000 [00:13<00:43, 1765.25it/s]\u001b[A\n",
      " 23%|██▎       | 22957/100000 [00:13<00:43, 1778.34it/s]\u001b[A\n",
      " 23%|██▎       | 23139/100000 [00:13<00:43, 1786.93it/s]\u001b[A\n",
      " 23%|██▎       | 23320/100000 [00:13<00:42, 1793.10it/s]\u001b[A\n",
      " 24%|██▎       | 23500/100000 [00:13<00:42, 1783.03it/s]\u001b[A\n",
      " 24%|██▎       | 23679/100000 [00:13<00:43, 1771.62it/s]\u001b[A\n",
      " 24%|██▍       | 23860/100000 [00:13<00:42, 1780.37it/s]\u001b[A\n",
      " 24%|██▍       | 24039/100000 [00:13<00:43, 1762.62it/s]\u001b[A\n",
      " 24%|██▍       | 24221/100000 [00:13<00:42, 1777.02it/s]\u001b[A\n",
      " 24%|██▍       | 24400/100000 [00:13<00:42, 1780.78it/s]\u001b[A\n",
      " 25%|██▍       | 24583/100000 [00:14<00:42, 1794.50it/s]\u001b[A\n",
      " 25%|██▍       | 24766/100000 [00:14<00:41, 1804.27it/s]\u001b[A\n",
      " 25%|██▍       | 24947/100000 [00:14<00:41, 1801.35it/s]\u001b[A\n",
      " 25%|██▌       | 25128/100000 [00:14<00:41, 1802.04it/s]\u001b[A\n",
      " 25%|██▌       | 25309/100000 [00:14<00:41, 1802.15it/s]\u001b[A\n",
      " 25%|██▌       | 25490/100000 [00:14<00:41, 1803.92it/s]\u001b[A\n",
      " 26%|██▌       | 25671/100000 [00:14<00:41, 1804.74it/s]\u001b[A\n",
      " 26%|██▌       | 25852/100000 [00:14<00:42, 1749.41it/s]\u001b[A\n",
      " 26%|██▌       | 26033/100000 [00:14<00:41, 1766.62it/s]\u001b[A\n",
      " 26%|██▌       | 26215/100000 [00:14<00:41, 1780.31it/s]\u001b[A\n",
      " 26%|██▋       | 26398/100000 [00:15<00:41, 1792.51it/s]\u001b[A\n",
      " 27%|██▋       | 26580/100000 [00:15<00:40, 1798.54it/s]\u001b[A\n",
      " 27%|██▋       | 26760/100000 [00:15<00:40, 1792.81it/s]\u001b[A\n",
      " 27%|██▋       | 26942/100000 [00:15<00:40, 1800.70it/s]\u001b[A\n",
      " 27%|██▋       | 27123/100000 [00:15<00:41, 1740.38it/s]\u001b[A\n",
      " 27%|██▋       | 27298/100000 [00:15<00:42, 1709.16it/s]\u001b[A\n",
      " 27%|██▋       | 27481/100000 [00:15<00:41, 1742.40it/s]\u001b[A\n",
      " 28%|██▊       | 27663/100000 [00:15<00:40, 1764.74it/s]\u001b[A\n",
      " 28%|██▊       | 27844/100000 [00:15<00:40, 1776.43it/s]\u001b[A\n",
      " 28%|██▊       | 28025/100000 [00:16<00:40, 1785.60it/s]\u001b[A\n",
      " 28%|██▊       | 28206/100000 [00:16<00:40, 1791.34it/s]\u001b[A\n",
      " 28%|██▊       | 28389/100000 [00:16<00:39, 1802.38it/s]\u001b[A\n",
      " 29%|██▊       | 28570/100000 [00:16<00:39, 1803.88it/s]\u001b[A\n",
      " 29%|██▉       | 28751/100000 [00:16<00:39, 1804.75it/s]\u001b[A\n",
      " 29%|██▉       | 28932/100000 [00:16<00:39, 1789.89it/s]\u001b[A\n",
      " 29%|██▉       | 29112/100000 [00:16<00:40, 1771.68it/s]\u001b[A\n",
      " 29%|██▉       | 29292/100000 [00:16<00:39, 1778.17it/s]\u001b[A\n",
      " 29%|██▉       | 29470/100000 [00:16<00:39, 1769.96it/s]\u001b[A\n",
      " 30%|██▉       | 29649/100000 [00:16<00:39, 1775.82it/s]\u001b[A\n",
      " 30%|██▉       | 29829/100000 [00:17<00:39, 1780.81it/s]\u001b[A\n",
      " 30%|███       | 30008/100000 [00:17<00:39, 1777.22it/s]\u001b[A\n",
      " 30%|███       | 30186/100000 [00:17<00:39, 1762.80it/s]\u001b[A\n",
      " 30%|███       | 30363/100000 [00:17<00:39, 1760.67it/s]\u001b[A\n",
      " 31%|███       | 30540/100000 [00:17<00:39, 1757.70it/s]\u001b[A\n",
      " 31%|███       | 30716/100000 [00:17<00:39, 1738.02it/s]\u001b[A\n",
      " 31%|███       | 30890/100000 [00:17<00:39, 1731.75it/s]\u001b[A\n",
      " 31%|███       | 31069/100000 [00:17<00:39, 1746.60it/s]\u001b[A\n",
      " 31%|███       | 31244/100000 [00:17<00:39, 1738.42it/s]\u001b[A\n",
      " 31%|███▏      | 31418/100000 [00:17<00:39, 1722.56it/s]\u001b[A\n",
      " 32%|███▏      | 31594/100000 [00:18<00:39, 1733.22it/s]\u001b[A\n",
      " 32%|███▏      | 31770/100000 [00:18<00:39, 1741.10it/s]\u001b[A\n",
      " 32%|███▏      | 31947/100000 [00:18<00:38, 1747.81it/s]\u001b[A\n",
      " 32%|███▏      | 32122/100000 [00:18<00:39, 1736.47it/s]\u001b[A\n",
      " 32%|███▏      | 32298/100000 [00:18<00:38, 1740.77it/s]\u001b[A\n",
      " 32%|███▏      | 32473/100000 [00:18<00:39, 1729.65it/s]\u001b[A\n",
      " 33%|███▎      | 32646/100000 [00:18<00:39, 1710.46it/s]\u001b[A\n",
      " 33%|███▎      | 32827/100000 [00:18<00:38, 1739.42it/s]\u001b[A\n",
      " 33%|███▎      | 33013/100000 [00:18<00:37, 1773.87it/s]\u001b[A\n",
      " 33%|███▎      | 33195/100000 [00:18<00:37, 1786.43it/s]\u001b[A\n",
      " 33%|███▎      | 33381/100000 [00:19<00:36, 1805.38it/s]\u001b[A\n",
      " 34%|███▎      | 33567/100000 [00:19<00:36, 1819.66it/s]\u001b[A\n",
      " 34%|███▍      | 33751/100000 [00:19<00:36, 1825.33it/s]\u001b[A\n",
      " 34%|███▍      | 33934/100000 [00:19<00:36, 1819.94it/s]\u001b[A\n",
      " 34%|███▍      | 34118/100000 [00:19<00:36, 1825.18it/s]\u001b[A\n",
      " 34%|███▍      | 34301/100000 [00:19<00:36, 1808.01it/s]\u001b[A\n",
      " 34%|███▍      | 34484/100000 [00:19<00:36, 1812.65it/s]\u001b[A\n",
      " 35%|███▍      | 34668/100000 [00:19<00:35, 1820.08it/s]\u001b[A\n",
      " 35%|███▍      | 34852/100000 [00:19<00:35, 1825.92it/s]\u001b[A\n",
      " 35%|███▌      | 35038/100000 [00:19<00:35, 1833.59it/s]\u001b[A\n",
      " 35%|███▌      | 35222/100000 [00:20<00:36, 1777.63it/s]\u001b[A\n",
      " 35%|███▌      | 35403/100000 [00:20<00:36, 1785.54it/s]\u001b[A\n",
      " 36%|███▌      | 35586/100000 [00:20<00:35, 1797.05it/s]\u001b[A\n",
      " 36%|███▌      | 35769/100000 [00:20<00:35, 1805.69it/s]\u001b[A\n",
      " 36%|███▌      | 35951/100000 [00:20<00:35, 1807.95it/s]\u001b[A\n",
      " 36%|███▌      | 36132/100000 [00:20<00:35, 1785.13it/s]\u001b[A\n",
      " 36%|███▋      | 36313/100000 [00:20<00:35, 1790.69it/s]\u001b[A\n",
      " 36%|███▋      | 36493/100000 [00:20<00:35, 1786.53it/s]\u001b[A\n",
      " 37%|███▋      | 36672/100000 [00:20<00:35, 1785.62it/s]\u001b[A\n",
      " 37%|███▋      | 36855/100000 [00:20<00:35, 1796.18it/s]\u001b[A\n",
      " 37%|███▋      | 37035/100000 [00:21<00:35, 1752.17it/s]\u001b[A\n",
      " 37%|███▋      | 37218/100000 [00:21<00:35, 1772.98it/s]\u001b[A\n",
      " 37%|███▋      | 37401/100000 [00:21<00:34, 1789.36it/s]\u001b[A\n",
      " 38%|███▊      | 37584/100000 [00:21<00:34, 1800.22it/s]\u001b[A\n",
      " 38%|███▊      | 37765/100000 [00:21<00:35, 1767.25it/s]\u001b[A\n",
      " 38%|███▊      | 37946/100000 [00:21<00:34, 1778.66it/s]\u001b[A\n",
      " 38%|███▊      | 38131/100000 [00:21<00:34, 1797.02it/s]\u001b[A\n",
      " 38%|███▊      | 38314/100000 [00:21<00:34, 1804.13it/s]\u001b[A\n",
      " 38%|███▊      | 38497/100000 [00:21<00:33, 1811.16it/s]\u001b[A\n",
      " 39%|███▊      | 38681/100000 [00:21<00:33, 1818.26it/s]\u001b[A\n",
      " 39%|███▉      | 38867/100000 [00:22<00:33, 1829.95it/s]\u001b[A\n",
      " 39%|███▉      | 39051/100000 [00:22<00:33, 1824.32it/s]\u001b[A\n",
      " 39%|███▉      | 39237/100000 [00:22<00:33, 1834.16it/s]\u001b[A\n",
      " 39%|███▉      | 39421/100000 [00:22<00:33, 1817.88it/s]\u001b[A\n",
      " 40%|███▉      | 39603/100000 [00:22<00:33, 1778.37it/s]\u001b[A\n",
      " 40%|███▉      | 39782/100000 [00:22<00:33, 1777.51it/s]\u001b[A\n",
      " 40%|███▉      | 39965/100000 [00:22<00:33, 1792.94it/s]\u001b[A\n",
      " 40%|████      | 40145/100000 [00:22<00:33, 1779.25it/s]\u001b[A\n",
      " 40%|████      | 40324/100000 [00:22<00:33, 1764.20it/s]\u001b[A\n",
      " 41%|████      | 40507/100000 [00:23<00:33, 1782.78it/s]\u001b[A\n",
      " 41%|████      | 40686/100000 [00:23<00:33, 1766.40it/s]\u001b[A\n",
      " 41%|████      | 40863/100000 [00:23<00:33, 1765.47it/s]\u001b[A\n",
      " 41%|████      | 41041/100000 [00:23<00:33, 1769.53it/s]\u001b[A\n",
      " 41%|████      | 41218/100000 [00:23<00:33, 1768.38it/s]\u001b[A\n",
      " 41%|████▏     | 41395/100000 [00:23<00:34, 1702.93it/s]\u001b[A\n",
      " 42%|████▏     | 41566/100000 [00:23<00:34, 1680.19it/s]\u001b[A\n",
      " 42%|████▏     | 41735/100000 [00:23<00:34, 1680.22it/s]\u001b[A\n",
      " 42%|████▏     | 41906/100000 [00:23<00:34, 1686.48it/s]\u001b[A\n",
      " 42%|████▏     | 42083/100000 [00:23<00:33, 1707.73it/s]\u001b[A\n",
      " 42%|████▏     | 42254/100000 [00:24<00:34, 1669.70it/s]\u001b[A\n",
      " 42%|████▏     | 42437/100000 [00:24<00:33, 1714.92it/s]\u001b[A\n",
      " 43%|████▎     | 42612/100000 [00:24<00:33, 1724.80it/s]\u001b[A\n",
      " 43%|████▎     | 42785/100000 [00:24<00:33, 1725.76it/s]\u001b[A\n",
      " 43%|████▎     | 42963/100000 [00:24<00:32, 1739.96it/s]\u001b[A\n",
      " 43%|████▎     | 43138/100000 [00:24<00:32, 1738.12it/s]\u001b[A\n",
      " 43%|████▎     | 43312/100000 [00:24<00:33, 1699.17it/s]\u001b[A\n",
      " 43%|████▎     | 43483/100000 [00:24<00:33, 1689.27it/s]\u001b[A\n",
      " 44%|████▎     | 43664/100000 [00:24<00:32, 1723.45it/s]\u001b[A\n",
      " 44%|████▍     | 43852/100000 [00:24<00:31, 1768.61it/s]\u001b[A\n",
      " 44%|████▍     | 44030/100000 [00:25<00:32, 1730.67it/s]\u001b[A\n",
      " 44%|████▍     | 44204/100000 [00:25<00:32, 1701.94it/s]\u001b[A\n",
      " 44%|████▍     | 44388/100000 [00:25<00:31, 1740.86it/s]\u001b[A\n",
      " 45%|████▍     | 44570/100000 [00:25<00:31, 1763.41it/s]\u001b[A\n",
      " 45%|████▍     | 44751/100000 [00:25<00:31, 1775.98it/s]\u001b[A\n",
      " 45%|████▍     | 44929/100000 [00:25<00:31, 1768.09it/s]\u001b[A\n",
      " 45%|████▌     | 45106/100000 [00:25<00:31, 1763.33it/s]\u001b[A\n",
      " 45%|████▌     | 45287/100000 [00:25<00:30, 1775.27it/s]\u001b[A\n",
      " 45%|████▌     | 45471/100000 [00:25<00:30, 1792.79it/s]\u001b[A\n",
      " 46%|████▌     | 45651/100000 [00:25<00:31, 1747.02it/s]\u001b[A\n",
      " 46%|████▌     | 45831/100000 [00:26<00:30, 1759.87it/s]\u001b[A\n",
      " 46%|████▌     | 46008/100000 [00:26<00:31, 1731.85it/s]\u001b[A\n",
      " 46%|████▌     | 46182/100000 [00:26<00:31, 1709.02it/s]\u001b[A\n",
      " 46%|████▋     | 46354/100000 [00:26<00:31, 1690.38it/s]\u001b[A\n",
      " 47%|████▋     | 46536/100000 [00:26<00:30, 1726.19it/s]\u001b[A\n",
      " 47%|████▋     | 46722/100000 [00:26<00:30, 1761.65it/s]\u001b[A\n",
      " 47%|████▋     | 46899/100000 [00:26<00:30, 1763.93it/s]\u001b[A\n",
      " 47%|████▋     | 47077/100000 [00:26<00:29, 1768.26it/s]\u001b[A\n",
      " 47%|████▋     | 47261/100000 [00:26<00:29, 1787.29it/s]\u001b[A\n",
      " 47%|████▋     | 47445/100000 [00:26<00:29, 1802.96it/s]\u001b[A\n",
      " 48%|████▊     | 47626/100000 [00:27<00:30, 1729.38it/s]\u001b[A\n",
      " 48%|████▊     | 47800/100000 [00:27<00:30, 1699.10it/s]\u001b[A\n",
      " 48%|████▊     | 47979/100000 [00:27<00:30, 1724.77it/s]\u001b[A\n",
      " 48%|████▊     | 48160/100000 [00:27<00:29, 1748.09it/s]\u001b[A\n",
      " 48%|████▊     | 48339/100000 [00:27<00:29, 1757.93it/s]\u001b[A\n",
      " 49%|████▊     | 48516/100000 [00:27<00:29, 1750.67it/s]\u001b[A\n",
      " 49%|████▊     | 48695/100000 [00:27<00:29, 1759.30it/s]\u001b[A\n",
      " 49%|████▉     | 48872/100000 [00:27<00:29, 1714.25it/s]\u001b[A\n",
      " 49%|████▉     | 49050/100000 [00:27<00:29, 1731.77it/s]\u001b[A\n",
      " 49%|████▉     | 49224/100000 [00:28<00:30, 1687.74it/s]\u001b[A\n",
      " 49%|████▉     | 49405/100000 [00:28<00:29, 1721.82it/s]\u001b[A\n",
      " 50%|████▉     | 49582/100000 [00:28<00:29, 1733.90it/s]\u001b[A\n",
      " 50%|████▉     | 49760/100000 [00:28<00:28, 1746.78it/s]\u001b[A\n",
      " 50%|████▉     | 49936/100000 [00:28<00:28, 1750.07it/s]\u001b[A\n",
      " 50%|█████     | 50115/100000 [00:28<00:28, 1761.43it/s]\u001b[A\n",
      " 50%|█████     | 50292/100000 [00:28<00:28, 1755.25it/s]\u001b[A\n",
      " 50%|█████     | 50468/100000 [00:28<00:28, 1743.97it/s]\u001b[A\n",
      " 51%|█████     | 50644/100000 [00:28<00:28, 1746.25it/s]\u001b[A\n",
      " 51%|█████     | 50819/100000 [00:28<00:28, 1696.09it/s]\u001b[A\n",
      " 51%|█████     | 50989/100000 [00:29<00:29, 1683.99it/s]\u001b[A\n",
      " 51%|█████     | 51172/100000 [00:29<00:28, 1725.28it/s]\u001b[A\n",
      " 51%|█████▏    | 51357/100000 [00:29<00:27, 1760.62it/s]\u001b[A\n",
      " 52%|█████▏    | 51539/100000 [00:29<00:27, 1777.22it/s]\u001b[A\n",
      " 52%|█████▏    | 51723/100000 [00:29<00:26, 1793.53it/s]\u001b[A\n",
      " 52%|█████▏    | 51903/100000 [00:29<00:26, 1794.16it/s]\u001b[A\n",
      " 52%|█████▏    | 52090/100000 [00:29<00:26, 1816.58it/s]\u001b[A\n",
      " 52%|█████▏    | 52276/100000 [00:29<00:26, 1829.16it/s]\u001b[A\n",
      " 52%|█████▏    | 52461/100000 [00:29<00:25, 1834.08it/s]\u001b[A\n",
      " 53%|█████▎    | 52649/100000 [00:29<00:25, 1846.97it/s]\u001b[A\n",
      " 53%|█████▎    | 52834/100000 [00:30<00:26, 1778.40it/s]\u001b[A\n",
      " 53%|█████▎    | 53013/100000 [00:30<00:26, 1750.45it/s]\u001b[A\n",
      " 53%|█████▎    | 53197/100000 [00:30<00:26, 1775.64it/s]\u001b[A\n",
      " 53%|█████▎    | 53375/100000 [00:30<00:26, 1742.70it/s]\u001b[A\n",
      " 54%|█████▎    | 53554/100000 [00:30<00:26, 1754.80it/s]\u001b[A\n",
      " 54%|█████▎    | 53730/100000 [00:30<00:27, 1708.59it/s]\u001b[A\n",
      " 54%|█████▍    | 53902/100000 [00:30<00:27, 1665.64it/s]\u001b[A\n",
      " 54%|█████▍    | 54075/100000 [00:30<00:27, 1683.10it/s]\u001b[A\n",
      " 54%|█████▍    | 54248/100000 [00:30<00:26, 1694.95it/s]\u001b[A\n",
      " 54%|█████▍    | 54424/100000 [00:31<00:26, 1711.74it/s]\u001b[A\n",
      " 55%|█████▍    | 54598/100000 [00:31<00:26, 1718.36it/s]\u001b[A\n",
      " 55%|█████▍    | 54771/100000 [00:31<00:26, 1717.94it/s]\u001b[A\n",
      " 55%|█████▍    | 54945/100000 [00:31<00:26, 1722.13it/s]\u001b[A\n",
      " 55%|█████▌    | 55121/100000 [00:31<00:25, 1730.13it/s]\u001b[A\n",
      " 55%|█████▌    | 55295/100000 [00:31<00:25, 1726.39it/s]\u001b[A\n",
      " 55%|█████▌    | 55476/100000 [00:31<00:25, 1749.63it/s]\u001b[A\n",
      " 56%|█████▌    | 55655/100000 [00:31<00:25, 1759.01it/s]\u001b[A\n",
      " 56%|█████▌    | 55831/100000 [00:31<00:25, 1755.41it/s]\u001b[A\n",
      " 56%|█████▌    | 56009/100000 [00:31<00:24, 1759.82it/s]\u001b[A\n",
      " 56%|█████▌    | 56189/100000 [00:32<00:24, 1770.83it/s]\u001b[A\n",
      " 56%|█████▋    | 56369/100000 [00:32<00:24, 1779.47it/s]\u001b[A\n",
      " 57%|█████▋    | 56548/100000 [00:32<00:24, 1782.18it/s]\u001b[A\n",
      " 57%|█████▋    | 56728/100000 [00:32<00:24, 1786.91it/s]\u001b[A\n",
      " 57%|█████▋    | 56908/100000 [00:32<00:24, 1790.12it/s]\u001b[A\n",
      " 57%|█████▋    | 57088/100000 [00:32<00:24, 1775.44it/s]\u001b[A\n",
      " 57%|█████▋    | 57266/100000 [00:32<00:24, 1774.55it/s]\u001b[A\n",
      " 57%|█████▋    | 57444/100000 [00:32<00:24, 1751.37it/s]\u001b[A\n",
      " 58%|█████▊    | 57624/100000 [00:32<00:24, 1764.92it/s]\u001b[A\n",
      " 58%|█████▊    | 57801/100000 [00:32<00:23, 1762.55it/s]\u001b[A\n",
      " 58%|█████▊    | 57979/100000 [00:33<00:23, 1765.29it/s]\u001b[A\n",
      " 58%|█████▊    | 58159/100000 [00:33<00:23, 1774.17it/s]\u001b[A\n",
      " 58%|█████▊    | 58341/100000 [00:33<00:23, 1787.37it/s]\u001b[A\n",
      " 59%|█████▊    | 58520/100000 [00:33<00:23, 1787.48it/s]\u001b[A\n",
      " 59%|█████▊    | 58701/100000 [00:33<00:23, 1791.05it/s]\u001b[A\n",
      " 59%|█████▉    | 58881/100000 [00:33<00:23, 1787.54it/s]\u001b[A\n",
      " 59%|█████▉    | 59060/100000 [00:33<00:22, 1785.52it/s]\u001b[A\n",
      " 59%|█████▉    | 59240/100000 [00:33<00:22, 1786.46it/s]\u001b[A\n",
      " 59%|█████▉    | 59419/100000 [00:33<00:22, 1782.07it/s]\u001b[A\n",
      " 60%|█████▉    | 59598/100000 [00:33<00:22, 1778.60it/s]\u001b[A\n",
      " 60%|█████▉    | 59788/100000 [00:34<00:22, 1813.71it/s]\u001b[A\n",
      " 60%|█████▉    | 59973/100000 [00:34<00:21, 1823.01it/s]\u001b[A\n",
      " 60%|██████    | 60156/100000 [00:34<00:22, 1772.81it/s]\u001b[A\n",
      " 60%|██████    | 60336/100000 [00:34<00:22, 1780.50it/s]\u001b[A\n",
      " 61%|██████    | 60521/100000 [00:34<00:21, 1798.07it/s]\u001b[A\n",
      " 61%|██████    | 60701/100000 [00:34<00:22, 1774.27it/s]\u001b[A\n",
      " 61%|██████    | 60882/100000 [00:34<00:21, 1784.66it/s]\u001b[A\n",
      " 61%|██████    | 61061/100000 [00:34<00:21, 1771.35it/s]\u001b[A\n",
      " 61%|██████    | 61239/100000 [00:34<00:22, 1760.79it/s]\u001b[A\n",
      " 61%|██████▏   | 61420/100000 [00:34<00:21, 1773.96it/s]\u001b[A\n",
      " 62%|██████▏   | 61598/100000 [00:35<00:21, 1765.76it/s]\u001b[A\n",
      " 62%|██████▏   | 61775/100000 [00:35<00:21, 1759.28it/s]\u001b[A\n",
      " 62%|██████▏   | 61951/100000 [00:35<00:21, 1747.69it/s]\u001b[A\n",
      " 62%|██████▏   | 62127/100000 [00:35<00:21, 1750.73it/s]\u001b[A\n",
      " 62%|██████▏   | 62303/100000 [00:35<00:22, 1711.88it/s]\u001b[A\n",
      " 62%|██████▏   | 62486/100000 [00:35<00:21, 1744.40it/s]\u001b[A\n",
      " 63%|██████▎   | 62661/100000 [00:35<00:21, 1715.20it/s]\u001b[A\n",
      " 63%|██████▎   | 62841/100000 [00:35<00:21, 1738.06it/s]\u001b[A\n",
      " 63%|██████▎   | 63024/100000 [00:35<00:20, 1764.82it/s]\u001b[A\n",
      " 63%|██████▎   | 63202/100000 [00:35<00:20, 1767.40it/s]\u001b[A\n",
      " 63%|██████▎   | 63385/100000 [00:36<00:20, 1783.40it/s]\u001b[A\n",
      " 64%|██████▎   | 63567/100000 [00:36<00:20, 1792.49it/s]\u001b[A\n",
      " 64%|██████▍   | 63750/100000 [00:36<00:20, 1803.45it/s]\u001b[A\n",
      " 64%|██████▍   | 63931/100000 [00:36<00:20, 1762.42it/s]\u001b[A\n",
      " 64%|██████▍   | 64108/100000 [00:36<00:20, 1713.42it/s]\u001b[A\n",
      " 64%|██████▍   | 64284/100000 [00:36<00:20, 1724.41it/s]\u001b[A\n",
      " 64%|██████▍   | 64459/100000 [00:36<00:20, 1731.27it/s]\u001b[A\n",
      " 65%|██████▍   | 64633/100000 [00:36<00:20, 1701.30it/s]\u001b[A\n",
      " 65%|██████▍   | 64816/100000 [00:36<00:20, 1737.61it/s]\u001b[A\n",
      " 65%|██████▌   | 65004/100000 [00:36<00:19, 1776.99it/s]\u001b[A\n",
      " 65%|██████▌   | 65188/100000 [00:37<00:19, 1794.55it/s]\u001b[A\n",
      " 65%|██████▌   | 65368/100000 [00:37<00:19, 1753.23it/s]\u001b[A\n",
      " 66%|██████▌   | 65544/100000 [00:37<00:20, 1720.95it/s]\u001b[A\n",
      " 66%|██████▌   | 65717/100000 [00:37<00:20, 1705.83it/s]\u001b[A\n",
      " 66%|██████▌   | 65888/100000 [00:37<00:20, 1658.59it/s]\u001b[A\n",
      " 66%|██████▌   | 66055/100000 [00:37<00:20, 1656.06it/s]\u001b[A\n",
      " 66%|██████▌   | 66236/100000 [00:37<00:19, 1698.98it/s]\u001b[A\n",
      " 66%|██████▋   | 66418/100000 [00:37<00:19, 1733.48it/s]\u001b[A\n",
      " 67%|██████▋   | 66600/100000 [00:37<00:18, 1758.92it/s]\u001b[A\n",
      " 67%|██████▋   | 66778/100000 [00:38<00:18, 1764.29it/s]\u001b[A\n",
      " 67%|██████▋   | 66958/100000 [00:38<00:18, 1774.70it/s]\u001b[A\n",
      " 67%|██████▋   | 67136/100000 [00:38<00:18, 1774.09it/s]\u001b[A\n",
      " 67%|██████▋   | 67315/100000 [00:38<00:18, 1776.21it/s]\u001b[A\n",
      " 67%|██████▋   | 67493/100000 [00:38<00:18, 1735.16it/s]\u001b[A\n",
      " 68%|██████▊   | 67679/100000 [00:38<00:18, 1771.84it/s]\u001b[A\n",
      " 68%|██████▊   | 67857/100000 [00:38<00:18, 1744.17it/s]\u001b[A\n",
      " 68%|██████▊   | 68041/100000 [00:38<00:18, 1769.93it/s]\u001b[A\n",
      " 68%|██████▊   | 68222/100000 [00:38<00:17, 1780.20it/s]\u001b[A\n",
      " 68%|██████▊   | 68405/100000 [00:38<00:17, 1792.67it/s]\u001b[A\n",
      " 69%|██████▊   | 68586/100000 [00:39<00:17, 1797.62it/s]\u001b[A\n",
      " 69%|██████▉   | 68767/100000 [00:39<00:17, 1798.73it/s]\u001b[A\n",
      " 69%|██████▉   | 68951/100000 [00:39<00:17, 1809.02it/s]\u001b[A\n",
      " 69%|██████▉   | 69133/100000 [00:39<00:17, 1812.23it/s]\u001b[A\n",
      " 69%|██████▉   | 69316/100000 [00:39<00:16, 1816.44it/s]\u001b[A\n",
      " 69%|██████▉   | 69498/100000 [00:39<00:17, 1783.96it/s]\u001b[A\n",
      " 70%|██████▉   | 69679/100000 [00:39<00:16, 1791.51it/s]\u001b[A\n",
      " 70%|██████▉   | 69861/100000 [00:39<00:16, 1798.29it/s]\u001b[A\n",
      " 70%|███████   | 70043/100000 [00:39<00:16, 1802.61it/s]\u001b[A\n",
      " 70%|███████   | 70224/100000 [00:39<00:16, 1800.44it/s]\u001b[A\n",
      " 70%|███████   | 70408/100000 [00:40<00:16, 1811.88it/s]\u001b[A\n",
      " 71%|███████   | 70590/100000 [00:40<00:16, 1803.14it/s]\u001b[A\n",
      " 71%|███████   | 70773/100000 [00:40<00:16, 1808.57it/s]\u001b[A\n",
      " 71%|███████   | 70954/100000 [00:40<00:16, 1779.31it/s]\u001b[A\n",
      " 71%|███████   | 71135/100000 [00:40<00:16, 1786.50it/s]\u001b[A\n",
      " 71%|███████▏  | 71314/100000 [00:40<00:16, 1781.18it/s]\u001b[A\n",
      " 71%|███████▏  | 71493/100000 [00:40<00:16, 1774.63it/s]\u001b[A\n",
      " 72%|███████▏  | 71671/100000 [00:40<00:16, 1769.82it/s]\u001b[A\n",
      " 72%|███████▏  | 71851/100000 [00:40<00:15, 1777.95it/s]\u001b[A\n",
      " 72%|███████▏  | 72030/100000 [00:40<00:15, 1780.54it/s]\u001b[A\n",
      " 72%|███████▏  | 72210/100000 [00:41<00:15, 1786.14it/s]\u001b[A\n",
      " 72%|███████▏  | 72389/100000 [00:41<00:15, 1784.62it/s]\u001b[A\n",
      " 73%|███████▎  | 72568/100000 [00:41<00:15, 1785.50it/s]\u001b[A\n",
      " 73%|███████▎  | 72749/100000 [00:41<00:15, 1790.35it/s]\u001b[A\n",
      " 73%|███████▎  | 72929/100000 [00:41<00:15, 1782.65it/s]\u001b[A\n",
      " 73%|███████▎  | 73108/100000 [00:41<00:15, 1760.98it/s]\u001b[A\n",
      " 73%|███████▎  | 73285/100000 [00:41<00:15, 1760.99it/s]\u001b[A\n",
      " 73%|███████▎  | 73465/100000 [00:41<00:14, 1771.94it/s]\u001b[A\n",
      " 74%|███████▎  | 73643/100000 [00:41<00:14, 1771.08it/s]\u001b[A\n",
      " 74%|███████▍  | 73823/100000 [00:41<00:14, 1778.52it/s]\u001b[A\n",
      " 74%|███████▍  | 74003/100000 [00:42<00:14, 1783.36it/s]\u001b[A\n",
      " 74%|███████▍  | 74182/100000 [00:42<00:14, 1784.68it/s]\u001b[A\n",
      " 74%|███████▍  | 74361/100000 [00:42<00:14, 1784.21it/s]\u001b[A\n",
      " 75%|███████▍  | 74540/100000 [00:42<00:14, 1780.05it/s]\u001b[A\n",
      " 75%|███████▍  | 74719/100000 [00:42<00:14, 1769.27it/s]\u001b[A\n",
      " 75%|███████▍  | 74896/100000 [00:42<00:14, 1765.80it/s]\u001b[A\n",
      " 75%|███████▌  | 75075/100000 [00:42<00:14, 1771.10it/s]\u001b[A\n",
      " 75%|███████▌  | 75257/100000 [00:42<00:13, 1784.81it/s]\u001b[A\n",
      " 75%|███████▌  | 75436/100000 [00:42<00:13, 1783.99it/s]\u001b[A\n",
      " 76%|███████▌  | 75615/100000 [00:42<00:13, 1776.66it/s]\u001b[A\n",
      " 76%|███████▌  | 75793/100000 [00:43<00:14, 1719.99it/s]\u001b[A\n",
      " 76%|███████▌  | 75966/100000 [00:43<00:14, 1680.82it/s]\u001b[A\n",
      " 76%|███████▌  | 76135/100000 [00:43<00:14, 1664.52it/s]\u001b[A\n",
      " 76%|███████▋  | 76312/100000 [00:43<00:13, 1694.07it/s]\u001b[A\n",
      " 76%|███████▋  | 76482/100000 [00:43<00:13, 1693.64it/s]\u001b[A\n",
      " 77%|███████▋  | 76657/100000 [00:43<00:13, 1708.60it/s]\u001b[A\n",
      " 77%|███████▋  | 76837/100000 [00:43<00:13, 1733.33it/s]\u001b[A\n",
      " 77%|███████▋  | 77014/100000 [00:43<00:13, 1741.72it/s]\u001b[A\n",
      " 77%|███████▋  | 77189/100000 [00:43<00:13, 1701.93it/s]\u001b[A\n",
      " 77%|███████▋  | 77360/100000 [00:44<00:13, 1681.35it/s]\u001b[A\n",
      " 78%|███████▊  | 77536/100000 [00:44<00:13, 1702.53it/s]\u001b[A\n",
      " 78%|███████▊  | 77714/100000 [00:44<00:12, 1723.94it/s]\u001b[A\n",
      " 78%|███████▊  | 77893/100000 [00:44<00:12, 1743.29it/s]\u001b[A\n",
      " 78%|███████▊  | 78076/100000 [00:44<00:12, 1769.02it/s]\u001b[A\n",
      " 78%|███████▊  | 78254/100000 [00:44<00:12, 1750.06it/s]\u001b[A\n",
      " 78%|███████▊  | 78430/100000 [00:44<00:12, 1752.61it/s]\u001b[A\n",
      " 79%|███████▊  | 78611/100000 [00:44<00:12, 1768.14it/s]\u001b[A\n",
      " 79%|███████▉  | 78790/100000 [00:44<00:11, 1774.32it/s]\u001b[A\n",
      " 79%|███████▉  | 78970/100000 [00:44<00:11, 1779.51it/s]\u001b[A\n",
      " 79%|███████▉  | 79151/100000 [00:45<00:11, 1787.26it/s]\u001b[A\n",
      " 79%|███████▉  | 79331/100000 [00:45<00:11, 1790.05it/s]\u001b[A\n",
      " 80%|███████▉  | 79511/100000 [00:45<00:11, 1786.49it/s]\u001b[A\n",
      " 80%|███████▉  | 79690/100000 [00:45<00:11, 1766.56it/s]\u001b[A\n",
      " 80%|███████▉  | 79871/100000 [00:45<00:11, 1776.65it/s]\u001b[A\n",
      " 80%|████████  | 80049/100000 [00:45<00:11, 1750.44it/s]\u001b[A\n",
      " 80%|████████  | 80226/100000 [00:45<00:11, 1754.56it/s]\u001b[A\n",
      " 80%|████████  | 80409/100000 [00:45<00:11, 1775.81it/s]\u001b[A\n",
      " 81%|████████  | 80587/100000 [00:45<00:10, 1774.14it/s]\u001b[A\n",
      " 81%|████████  | 80765/100000 [00:45<00:11, 1724.10it/s]\u001b[A\n",
      " 81%|████████  | 80938/100000 [00:46<00:11, 1701.93it/s]\u001b[A\n",
      " 81%|████████  | 81115/100000 [00:46<00:10, 1719.79it/s]\u001b[A\n",
      " 81%|████████▏ | 81295/100000 [00:46<00:10, 1740.90it/s]\u001b[A\n",
      " 81%|████████▏ | 81477/100000 [00:46<00:10, 1763.23it/s]\u001b[A\n",
      " 82%|████████▏ | 81657/100000 [00:46<00:10, 1773.36it/s]\u001b[A\n",
      " 82%|████████▏ | 81835/100000 [00:46<00:10, 1761.96it/s]\u001b[A\n",
      " 82%|████████▏ | 82015/100000 [00:46<00:10, 1771.12it/s]\u001b[A\n",
      " 82%|████████▏ | 82193/100000 [00:46<00:10, 1727.96it/s]\u001b[A\n",
      " 82%|████████▏ | 82378/100000 [00:46<00:10, 1761.41it/s]\u001b[A\n",
      " 83%|████████▎ | 82564/100000 [00:46<00:09, 1788.73it/s]\u001b[A\n",
      " 83%|████████▎ | 82749/100000 [00:47<00:09, 1804.29it/s]\u001b[A\n",
      " 83%|████████▎ | 82930/100000 [00:47<00:09, 1781.72it/s]\u001b[A\n",
      " 83%|████████▎ | 83110/100000 [00:47<00:09, 1785.03it/s]\u001b[A\n",
      " 83%|████████▎ | 83299/100000 [00:47<00:09, 1814.61it/s]\u001b[A\n",
      " 83%|████████▎ | 83486/100000 [00:47<00:09, 1828.25it/s]\u001b[A\n",
      " 84%|████████▎ | 83671/100000 [00:47<00:08, 1832.31it/s]\u001b[A\n",
      " 84%|████████▍ | 83858/100000 [00:47<00:08, 1842.12it/s]\u001b[A\n",
      " 84%|████████▍ | 84047/100000 [00:47<00:08, 1855.41it/s]\u001b[A\n",
      " 84%|████████▍ | 84236/100000 [00:47<00:08, 1865.31it/s]\u001b[A\n",
      " 84%|████████▍ | 84423/100000 [00:47<00:08, 1855.09it/s]\u001b[A\n",
      " 85%|████████▍ | 84609/100000 [00:48<00:08, 1820.68it/s]\u001b[A\n",
      " 85%|████████▍ | 84792/100000 [00:48<00:08, 1799.86it/s]\u001b[A\n",
      " 85%|████████▍ | 84973/100000 [00:48<00:08, 1791.41it/s]\u001b[A\n",
      " 85%|████████▌ | 85153/100000 [00:48<00:08, 1783.28it/s]\u001b[A\n",
      " 85%|████████▌ | 85332/100000 [00:48<00:08, 1759.63it/s]\u001b[A\n",
      " 86%|████████▌ | 85509/100000 [00:48<00:08, 1752.23it/s]\u001b[A\n",
      " 86%|████████▌ | 85690/100000 [00:48<00:08, 1766.64it/s]\u001b[A\n",
      " 86%|████████▌ | 85870/100000 [00:48<00:07, 1776.42it/s]\u001b[A\n",
      " 86%|████████▌ | 86052/100000 [00:48<00:07, 1786.97it/s]\u001b[A\n",
      " 86%|████████▌ | 86234/100000 [00:49<00:07, 1794.32it/s]\u001b[A\n",
      " 86%|████████▋ | 86416/100000 [00:49<00:07, 1801.90it/s]\u001b[A\n",
      " 87%|████████▋ | 86597/100000 [00:49<00:07, 1803.83it/s]\u001b[A\n",
      " 87%|████████▋ | 86778/100000 [00:49<00:07, 1801.47it/s]\u001b[A\n",
      " 87%|████████▋ | 86960/100000 [00:49<00:07, 1806.98it/s]\u001b[A\n",
      " 87%|████████▋ | 87141/100000 [00:49<00:07, 1788.73it/s]\u001b[A\n",
      " 87%|████████▋ | 87324/100000 [00:49<00:07, 1798.43it/s]\u001b[A\n",
      " 88%|████████▊ | 87505/100000 [00:49<00:06, 1800.26it/s]\u001b[A\n",
      " 88%|████████▊ | 87687/100000 [00:49<00:06, 1804.19it/s]\u001b[A\n",
      " 88%|████████▊ | 87868/100000 [00:49<00:06, 1801.65it/s]\u001b[A\n",
      " 88%|████████▊ | 88050/100000 [00:50<00:06, 1806.68it/s]\u001b[A\n",
      " 88%|████████▊ | 88231/100000 [00:50<00:06, 1800.63it/s]\u001b[A\n",
      " 88%|████████▊ | 88413/100000 [00:50<00:06, 1803.22it/s]\u001b[A\n",
      " 89%|████████▊ | 88594/100000 [00:50<00:06, 1802.76it/s]\u001b[A\n",
      " 89%|████████▉ | 88777/100000 [00:50<00:06, 1807.33it/s]\u001b[A\n",
      " 89%|████████▉ | 88958/100000 [00:50<00:06, 1792.63it/s]\u001b[A\n",
      " 89%|████████▉ | 89140/100000 [00:50<00:06, 1798.87it/s]\u001b[A\n",
      " 89%|████████▉ | 89321/100000 [00:50<00:05, 1799.97it/s]\u001b[A\n",
      " 90%|████████▉ | 89502/100000 [00:50<00:05, 1801.05it/s]\u001b[A\n",
      " 90%|████████▉ | 89684/100000 [00:50<00:05, 1805.96it/s]\u001b[A\n",
      " 90%|████████▉ | 89865/100000 [00:51<00:05, 1804.29it/s]\u001b[A\n",
      " 90%|█████████ | 90048/100000 [00:51<00:05, 1809.46it/s]\u001b[A\n",
      " 90%|█████████ | 90232/100000 [00:51<00:05, 1816.14it/s]\u001b[A\n",
      " 90%|█████████ | 90414/100000 [00:51<00:05, 1813.76it/s]\u001b[A\n",
      " 91%|█████████ | 90596/100000 [00:51<00:05, 1805.50it/s]\u001b[A\n",
      " 91%|█████████ | 90777/100000 [00:51<00:05, 1788.10it/s]\u001b[A\n",
      " 91%|█████████ | 90960/100000 [00:51<00:05, 1799.82it/s]\u001b[A\n",
      " 91%|█████████ | 91144/100000 [00:51<00:04, 1809.35it/s]\u001b[A\n",
      " 91%|█████████▏| 91328/100000 [00:51<00:04, 1816.94it/s]\u001b[A\n",
      " 92%|█████████▏| 91512/100000 [00:51<00:04, 1823.46it/s]\u001b[A\n",
      " 92%|█████████▏| 91695/100000 [00:52<00:04, 1815.12it/s]\u001b[A\n",
      " 92%|█████████▏| 91879/100000 [00:52<00:04, 1821.18it/s]\u001b[A\n",
      " 92%|█████████▏| 92063/100000 [00:52<00:04, 1825.59it/s]\u001b[A\n",
      " 92%|█████████▏| 92246/100000 [00:52<00:04, 1825.43it/s]\u001b[A\n",
      " 92%|█████████▏| 92432/100000 [00:52<00:04, 1833.52it/s]\u001b[A\n",
      " 93%|█████████▎| 92616/100000 [00:52<00:04, 1793.01it/s]\u001b[A\n",
      " 93%|█████████▎| 92796/100000 [00:52<00:04, 1789.13it/s]\u001b[A\n",
      " 93%|█████████▎| 92978/100000 [00:52<00:03, 1796.31it/s]\u001b[A\n",
      " 93%|█████████▎| 93158/100000 [00:52<00:03, 1790.19it/s]\u001b[A\n",
      " 93%|█████████▎| 93338/100000 [00:52<00:03, 1770.18it/s]\u001b[A\n",
      " 94%|█████████▎| 93516/100000 [00:53<00:03, 1726.30it/s]\u001b[A\n",
      " 94%|█████████▎| 93689/100000 [00:53<00:03, 1691.83it/s]\u001b[A\n",
      " 94%|█████████▍| 93863/100000 [00:53<00:03, 1704.41it/s]\u001b[A\n",
      " 94%|█████████▍| 94042/100000 [00:53<00:03, 1728.39it/s]\u001b[A\n",
      " 94%|█████████▍| 94216/100000 [00:53<00:03, 1728.36it/s]\u001b[A\n",
      " 94%|█████████▍| 94390/100000 [00:53<00:03, 1731.35it/s]\u001b[A\n",
      " 95%|█████████▍| 94565/100000 [00:53<00:03, 1735.28it/s]\u001b[A\n",
      " 95%|█████████▍| 94739/100000 [00:53<00:03, 1734.88it/s]\u001b[A\n",
      " 95%|█████████▍| 94918/100000 [00:53<00:02, 1750.17it/s]\u001b[A\n",
      " 95%|█████████▌| 95094/100000 [00:53<00:02, 1751.90it/s]\u001b[A\n",
      " 95%|█████████▌| 95277/100000 [00:54<00:02, 1774.25it/s]\u001b[A\n",
      " 95%|█████████▌| 95455/100000 [00:54<00:02, 1769.93it/s]\u001b[A\n",
      " 96%|█████████▌| 95637/100000 [00:54<00:02, 1781.99it/s]\u001b[A\n",
      " 96%|█████████▌| 95816/100000 [00:54<00:02, 1780.12it/s]\u001b[A\n",
      " 96%|█████████▌| 95995/100000 [00:54<00:02, 1779.59it/s]\u001b[A\n",
      " 96%|█████████▌| 96173/100000 [00:54<00:02, 1774.85it/s]\u001b[A\n",
      " 96%|█████████▋| 96351/100000 [00:54<00:02, 1775.59it/s]\u001b[A\n",
      " 97%|█████████▋| 96529/100000 [00:54<00:01, 1762.69it/s]\u001b[A\n",
      " 97%|█████████▋| 96706/100000 [00:54<00:01, 1753.43it/s]\u001b[A\n",
      " 97%|█████████▋| 96882/100000 [00:54<00:01, 1745.27it/s]\u001b[A\n",
      " 97%|█████████▋| 97061/100000 [00:55<00:01, 1755.15it/s]\u001b[A\n",
      " 97%|█████████▋| 97237/100000 [00:55<00:01, 1751.19it/s]\u001b[A\n",
      " 97%|█████████▋| 97417/100000 [00:55<00:01, 1764.96it/s]\u001b[A\n",
      " 98%|█████████▊| 97595/100000 [00:55<00:01, 1769.21it/s]\u001b[A\n",
      " 98%|█████████▊| 97772/100000 [00:55<00:01, 1713.58it/s]\u001b[A\n",
      " 98%|█████████▊| 97944/100000 [00:55<00:01, 1697.99it/s]\u001b[A\n",
      " 98%|█████████▊| 98128/100000 [00:55<00:01, 1738.37it/s]\u001b[A\n",
      " 98%|█████████▊| 98312/100000 [00:55<00:00, 1767.93it/s]\u001b[A\n",
      " 98%|█████████▊| 98494/100000 [00:55<00:00, 1782.23it/s]\u001b[A\n",
      " 99%|█████████▊| 98677/100000 [00:55<00:00, 1794.76it/s]\u001b[A\n",
      " 99%|█████████▉| 98858/100000 [00:56<00:00, 1797.71it/s]\u001b[A\n",
      " 99%|█████████▉| 99043/100000 [00:56<00:00, 1813.26it/s]\u001b[A\n",
      " 99%|█████████▉| 99227/100000 [00:56<00:00, 1820.17it/s]\u001b[A\n",
      " 99%|█████████▉| 99413/100000 [00:56<00:00, 1830.17it/s]\u001b[A\n",
      "100%|█████████▉| 99597/100000 [00:56<00:00, 1804.93it/s]\u001b[A\n",
      "100%|█████████▉| 99778/100000 [00:56<00:00, 1794.13it/s]\u001b[A\n",
      "100%|██████████| 100000/100000 [00:56<00:00, 1762.95it/s][A\n",
      "\n",
      "  0%|          | 0/100000 [00:00<?, ?it/s]\u001b[A\n",
      "  0%|          | 191/100000 [00:00<00:52, 1901.47it/s]\u001b[A\n",
      "  0%|          | 382/100000 [00:00<00:53, 1853.81it/s]\u001b[A\n",
      "  1%|          | 568/100000 [00:00<00:56, 1748.38it/s]\u001b[A\n",
      "  1%|          | 750/100000 [00:00<00:55, 1772.70it/s]\u001b[A\n",
      "  1%|          | 932/100000 [00:00<00:55, 1785.82it/s]\u001b[A\n",
      "  1%|          | 1115/100000 [00:00<00:54, 1798.48it/s]\u001b[A\n",
      "  1%|▏         | 1296/100000 [00:00<00:56, 1738.29it/s]\u001b[A\n",
      "  1%|▏         | 1480/100000 [00:00<00:55, 1767.48it/s]\u001b[A\n",
      "  2%|▏         | 1663/100000 [00:00<00:55, 1784.12it/s]\u001b[A\n",
      "  2%|▏         | 1846/100000 [00:01<00:54, 1795.57it/s]\u001b[A\n",
      "  2%|▏         | 2026/100000 [00:01<00:54, 1796.24it/s]\u001b[A\n",
      "  2%|▏         | 2207/100000 [00:01<00:54, 1798.90it/s]\u001b[A\n",
      "  2%|▏         | 2388/100000 [00:01<00:54, 1794.31it/s]\u001b[A\n",
      "  3%|▎         | 2568/100000 [00:01<00:55, 1748.62it/s]\u001b[A\n",
      "  3%|▎         | 2744/100000 [00:01<00:56, 1724.01it/s]\u001b[A\n",
      "  3%|▎         | 2928/100000 [00:01<00:55, 1756.61it/s]\u001b[A\n",
      "  3%|▎         | 3106/100000 [00:01<00:54, 1763.35it/s]\u001b[A\n",
      "  3%|▎         | 3285/100000 [00:01<00:54, 1770.50it/s]\u001b[A\n",
      "  3%|▎         | 3467/100000 [00:01<00:54, 1782.87it/s]\u001b[A\n",
      "  4%|▎         | 3648/100000 [00:02<00:53, 1789.92it/s]\u001b[A\n",
      "  4%|▍         | 3830/100000 [00:02<00:53, 1796.60it/s]\u001b[A\n",
      "  4%|▍         | 4010/100000 [00:02<00:53, 1786.21it/s]\u001b[A\n",
      "  4%|▍         | 4192/100000 [00:02<00:53, 1795.18it/s]\u001b[A\n",
      "  4%|▍         | 4372/100000 [00:02<00:53, 1782.50it/s]\u001b[A\n",
      "  5%|▍         | 4551/100000 [00:02<00:54, 1764.09it/s]\u001b[A\n",
      "  5%|▍         | 4734/100000 [00:02<00:53, 1780.95it/s]\u001b[A\n",
      "  5%|▍         | 4913/100000 [00:02<00:53, 1782.52it/s]\u001b[A\n",
      "  5%|▌         | 5092/100000 [00:02<00:53, 1767.11it/s]\u001b[A\n",
      "  5%|▌         | 5276/100000 [00:02<00:52, 1787.35it/s]\u001b[A\n",
      "  5%|▌         | 5458/100000 [00:03<00:52, 1796.92it/s]\u001b[A\n",
      "  6%|▌         | 5641/100000 [00:03<00:52, 1803.62it/s]\u001b[A\n",
      "  6%|▌         | 5823/100000 [00:03<00:52, 1808.36it/s]\u001b[A\n",
      "  6%|▌         | 6009/100000 [00:03<00:51, 1822.96it/s]\u001b[A\n",
      "  6%|▌         | 6194/100000 [00:03<00:51, 1829.59it/s]\u001b[A\n",
      "  6%|▋         | 6380/100000 [00:03<00:50, 1837.99it/s]\u001b[A\n",
      "  7%|▋         | 6564/100000 [00:03<00:50, 1834.02it/s]\u001b[A\n",
      "  7%|▋         | 6748/100000 [00:03<00:51, 1814.36it/s]\u001b[A\n",
      "  7%|▋         | 6930/100000 [00:03<00:51, 1800.36it/s]\u001b[A\n",
      "  7%|▋         | 7111/100000 [00:03<00:51, 1802.34it/s]\u001b[A\n",
      "  7%|▋         | 7295/100000 [00:04<00:51, 1811.43it/s]\u001b[A\n",
      "  7%|▋         | 7484/100000 [00:04<00:50, 1833.85it/s]\u001b[A\n",
      "  8%|▊         | 7669/100000 [00:04<00:50, 1838.05it/s]\u001b[A\n",
      "  8%|▊         | 7853/100000 [00:04<00:51, 1778.44it/s]\u001b[A\n",
      "  8%|▊         | 8032/100000 [00:04<00:52, 1748.71it/s]\u001b[A\n",
      "  8%|▊         | 8213/100000 [00:04<00:52, 1765.05it/s]\u001b[A\n",
      "  8%|▊         | 8398/100000 [00:04<00:51, 1789.07it/s]\u001b[A\n",
      "  9%|▊         | 8578/100000 [00:04<00:52, 1728.16it/s]\u001b[A\n",
      "  9%|▉         | 8758/100000 [00:04<00:52, 1747.91it/s]\u001b[A\n",
      "  9%|▉         | 8940/100000 [00:05<00:51, 1768.73it/s]\u001b[A\n",
      "  9%|▉         | 9121/100000 [00:05<00:51, 1778.63it/s]\u001b[A\n",
      "  9%|▉         | 9303/100000 [00:05<00:50, 1789.41it/s]\u001b[A\n",
      "  9%|▉         | 9484/100000 [00:05<00:50, 1795.47it/s]\u001b[A\n",
      " 10%|▉         | 9664/100000 [00:05<00:51, 1755.71it/s]\u001b[A\n",
      " 10%|▉         | 9850/100000 [00:05<00:50, 1784.64it/s]\u001b[A\n",
      " 10%|█         | 10036/100000 [00:05<00:49, 1805.48it/s]\u001b[A\n",
      " 10%|█         | 10217/100000 [00:05<00:49, 1806.76it/s]\u001b[A\n",
      " 10%|█         | 10398/100000 [00:05<00:50, 1784.50it/s]\u001b[A\n",
      " 11%|█         | 10581/100000 [00:05<00:49, 1794.92it/s]\u001b[A\n",
      " 11%|█         | 10764/100000 [00:06<00:49, 1803.05it/s]\u001b[A\n",
      " 11%|█         | 10948/100000 [00:06<00:49, 1812.65it/s]\u001b[A\n",
      " 11%|█         | 11134/100000 [00:06<00:48, 1825.20it/s]\u001b[A\n",
      " 11%|█▏        | 11319/100000 [00:06<00:48, 1830.67it/s]\u001b[A\n",
      " 12%|█▏        | 11503/100000 [00:06<00:48, 1832.58it/s]\u001b[A\n",
      " 12%|█▏        | 11687/100000 [00:06<00:48, 1830.09it/s]\u001b[A\n",
      " 12%|█▏        | 11872/100000 [00:06<00:48, 1835.84it/s]\u001b[A\n",
      " 12%|█▏        | 12056/100000 [00:06<00:47, 1836.03it/s]\u001b[A\n",
      " 12%|█▏        | 12240/100000 [00:06<00:48, 1807.26it/s]\u001b[A\n",
      " 12%|█▏        | 12421/100000 [00:06<00:48, 1796.34it/s]\u001b[A\n",
      " 13%|█▎        | 12601/100000 [00:07<00:48, 1791.56it/s]\u001b[A\n",
      " 13%|█▎        | 12781/100000 [00:07<00:48, 1786.00it/s]\u001b[A\n",
      " 13%|█▎        | 12960/100000 [00:07<00:48, 1779.52it/s]\u001b[A\n",
      " 13%|█▎        | 13139/100000 [00:07<00:48, 1779.84it/s]\u001b[A\n",
      " 13%|█▎        | 13318/100000 [00:07<00:50, 1727.35it/s]\u001b[A\n",
      " 13%|█▎        | 13492/100000 [00:07<00:50, 1696.29it/s]\u001b[A\n",
      " 14%|█▎        | 13675/100000 [00:07<00:49, 1732.86it/s]\u001b[A\n",
      " 14%|█▍        | 13853/100000 [00:07<00:49, 1743.68it/s]\u001b[A\n",
      " 14%|█▍        | 14029/100000 [00:07<00:49, 1745.26it/s]\u001b[A\n",
      " 14%|█▍        | 14204/100000 [00:07<00:50, 1710.32it/s]\u001b[A\n",
      " 14%|█▍        | 14376/100000 [00:08<00:50, 1684.13it/s]\u001b[A\n",
      " 15%|█▍        | 14558/100000 [00:08<00:49, 1723.30it/s]\u001b[A\n",
      " 15%|█▍        | 14741/100000 [00:08<00:48, 1752.90it/s]\u001b[A\n",
      " 15%|█▍        | 14924/100000 [00:08<00:47, 1775.32it/s]\u001b[A\n",
      " 15%|█▌        | 15104/100000 [00:08<00:47, 1781.85it/s]\u001b[A\n",
      " 15%|█▌        | 15288/100000 [00:08<00:47, 1796.37it/s]\u001b[A\n",
      " 15%|█▌        | 15471/100000 [00:08<00:46, 1806.19it/s]\u001b[A\n",
      " 16%|█▌        | 15652/100000 [00:08<00:47, 1794.15it/s]\u001b[A\n",
      " 16%|█▌        | 15832/100000 [00:08<00:47, 1783.17it/s]\u001b[A\n",
      " 16%|█▌        | 16011/100000 [00:08<00:48, 1730.92it/s]\u001b[A\n",
      " 16%|█▌        | 16185/100000 [00:09<00:49, 1697.21it/s]\u001b[A\n",
      " 16%|█▋        | 16362/100000 [00:09<00:48, 1715.89it/s]\u001b[A\n",
      " 17%|█▋        | 16540/100000 [00:09<00:48, 1734.10it/s]\u001b[A\n",
      " 17%|█▋        | 16724/100000 [00:09<00:47, 1762.56it/s]\u001b[A\n",
      " 17%|█▋        | 16901/100000 [00:09<00:48, 1716.00it/s]\u001b[A\n",
      " 17%|█▋        | 17073/100000 [00:09<00:49, 1689.94it/s]\u001b[A\n",
      " 17%|█▋        | 17252/100000 [00:09<00:48, 1717.79it/s]\u001b[A\n",
      " 17%|█▋        | 17430/100000 [00:09<00:47, 1734.74it/s]\u001b[A\n",
      " 18%|█▊        | 17612/100000 [00:09<00:46, 1758.28it/s]\u001b[A\n",
      " 18%|█▊        | 17795/100000 [00:10<00:46, 1776.98it/s]\u001b[A\n",
      " 18%|█▊        | 17980/100000 [00:10<00:45, 1797.23it/s]\u001b[A\n",
      " 18%|█▊        | 18162/100000 [00:10<00:45, 1802.56it/s]\u001b[A\n",
      " 18%|█▊        | 18344/100000 [00:10<00:45, 1805.98it/s]\u001b[A\n",
      " 19%|█▊        | 18527/100000 [00:10<00:44, 1812.19it/s]\u001b[A\n",
      " 19%|█▊        | 18709/100000 [00:10<00:46, 1755.97it/s]\u001b[A\n",
      " 19%|█▉        | 18886/100000 [00:10<00:46, 1735.19it/s]\u001b[A\n",
      " 19%|█▉        | 19069/100000 [00:10<00:45, 1762.13it/s]\u001b[A\n",
      " 19%|█▉        | 19246/100000 [00:10<00:47, 1713.33it/s]\u001b[A\n",
      " 19%|█▉        | 19423/100000 [00:10<00:46, 1728.04it/s]\u001b[A\n",
      " 20%|█▉        | 19599/100000 [00:11<00:46, 1736.60it/s]\u001b[A\n",
      " 20%|█▉        | 19773/100000 [00:11<00:47, 1694.66it/s]\u001b[A\n",
      " 20%|█▉        | 19951/100000 [00:11<00:46, 1716.62it/s]\u001b[A\n",
      " 20%|██        | 20123/100000 [00:11<00:47, 1677.02it/s]\u001b[A\n",
      " 20%|██        | 20294/100000 [00:11<00:47, 1686.15it/s]\u001b[A\n",
      " 20%|██        | 20463/100000 [00:11<00:48, 1656.71it/s]\u001b[A\n",
      " 21%|██        | 20637/100000 [00:11<00:47, 1678.59it/s]\u001b[A\n",
      " 21%|██        | 20808/100000 [00:11<00:46, 1686.40it/s]\u001b[A\n",
      " 21%|██        | 20985/100000 [00:11<00:46, 1709.99it/s]\u001b[A\n",
      " 21%|██        | 21163/100000 [00:11<00:45, 1728.39it/s]\u001b[A\n",
      " 21%|██▏       | 21336/100000 [00:12<00:46, 1710.02it/s]\u001b[A\n",
      " 22%|██▏       | 21509/100000 [00:12<00:45, 1713.61it/s]\u001b[A\n",
      " 22%|██▏       | 21688/100000 [00:12<00:45, 1733.74it/s]\u001b[A\n",
      " 22%|██▏       | 21871/100000 [00:12<00:44, 1759.36it/s]\u001b[A\n",
      " 22%|██▏       | 22047/100000 [00:12<00:44, 1732.92it/s]\u001b[A\n",
      " 22%|██▏       | 22224/100000 [00:12<00:44, 1741.89it/s]\u001b[A\n",
      " 22%|██▏       | 22399/100000 [00:12<00:44, 1725.60it/s]\u001b[A\n",
      " 23%|██▎       | 22572/100000 [00:12<00:45, 1686.53it/s]\u001b[A\n",
      " 23%|██▎       | 22741/100000 [00:12<00:46, 1667.39it/s]\u001b[A\n",
      " 23%|██▎       | 22908/100000 [00:12<00:46, 1660.03it/s]\u001b[A\n",
      " 23%|██▎       | 23089/100000 [00:13<00:45, 1703.88it/s]\u001b[A\n",
      " 23%|██▎       | 23273/100000 [00:13<00:44, 1742.72it/s]\u001b[A\n",
      " 23%|██▎       | 23455/100000 [00:13<00:43, 1765.21it/s]\u001b[A\n",
      " 24%|██▎       | 23640/100000 [00:13<00:42, 1787.36it/s]\u001b[A\n",
      " 24%|██▍       | 23819/100000 [00:13<00:43, 1745.36it/s]\u001b[A\n",
      " 24%|██▍       | 23994/100000 [00:13<00:43, 1737.37it/s]\u001b[A\n",
      " 24%|██▍       | 24168/100000 [00:13<00:44, 1706.30it/s]\u001b[A\n",
      " 24%|██▍       | 24346/100000 [00:13<00:43, 1727.20it/s]\u001b[A\n",
      " 25%|██▍       | 24528/100000 [00:13<00:43, 1753.05it/s]\u001b[A\n",
      " 25%|██▍       | 24708/100000 [00:14<00:42, 1765.65it/s]\u001b[A\n",
      " 25%|██▍       | 24892/100000 [00:14<00:42, 1786.89it/s]\u001b[A\n",
      " 25%|██▌       | 25082/100000 [00:14<00:41, 1818.96it/s]\u001b[A\n",
      " 25%|██▌       | 25268/100000 [00:14<00:40, 1831.10it/s]\u001b[A\n",
      " 25%|██▌       | 25452/100000 [00:14<00:42, 1753.79it/s]\u001b[A\n",
      " 26%|██▌       | 25632/100000 [00:14<00:42, 1764.73it/s]\u001b[A\n",
      " 26%|██▌       | 25814/100000 [00:14<00:41, 1780.20it/s]\u001b[A\n",
      " 26%|██▌       | 25995/100000 [00:14<00:41, 1787.92it/s]\u001b[A\n",
      " 26%|██▌       | 26175/100000 [00:14<00:42, 1745.01it/s]\u001b[A\n",
      " 26%|██▋       | 26352/100000 [00:14<00:42, 1749.79it/s]\u001b[A\n",
      " 27%|██▋       | 26531/100000 [00:15<00:41, 1760.57it/s]\u001b[A\n",
      " 27%|██▋       | 26710/100000 [00:15<00:41, 1767.64it/s]\u001b[A\n",
      " 27%|██▋       | 26890/100000 [00:15<00:41, 1777.09it/s]\u001b[A\n",
      " 27%|██▋       | 27071/100000 [00:15<00:40, 1786.03it/s]\u001b[A\n",
      " 27%|██▋       | 27250/100000 [00:15<00:40, 1784.75it/s]\u001b[A\n",
      " 27%|██▋       | 27432/100000 [00:15<00:40, 1793.71it/s]\u001b[A\n",
      " 28%|██▊       | 27614/100000 [00:15<00:40, 1799.07it/s]\u001b[A\n",
      " 28%|██▊       | 27794/100000 [00:15<00:40, 1794.00it/s]\u001b[A\n",
      " 28%|██▊       | 27974/100000 [00:15<00:40, 1779.85it/s]\u001b[A\n",
      " 28%|██▊       | 28153/100000 [00:15<00:40, 1781.91it/s]\u001b[A\n",
      " 28%|██▊       | 28332/100000 [00:16<00:40, 1765.58it/s]\u001b[A\n",
      " 29%|██▊       | 28521/100000 [00:16<00:39, 1799.38it/s]\u001b[A\n",
      " 29%|██▊       | 28702/100000 [00:16<00:40, 1761.39it/s]\u001b[A\n",
      " 29%|██▉       | 28882/100000 [00:16<00:40, 1772.04it/s]\u001b[A\n",
      " 29%|██▉       | 29066/100000 [00:16<00:39, 1790.19it/s]\u001b[A\n",
      " 29%|██▉       | 29246/100000 [00:16<00:40, 1749.50it/s]\u001b[A\n",
      " 29%|██▉       | 29430/100000 [00:16<00:39, 1773.82it/s]\u001b[A\n",
      " 30%|██▉       | 29609/100000 [00:16<00:39, 1778.19it/s]\u001b[A\n",
      " 30%|██▉       | 29794/100000 [00:16<00:39, 1797.64it/s]\u001b[A\n",
      " 30%|██▉       | 29974/100000 [00:16<00:39, 1785.70it/s]\u001b[A\n",
      " 30%|███       | 30153/100000 [00:17<00:39, 1785.51it/s]\u001b[A\n",
      " 30%|███       | 30332/100000 [00:17<00:39, 1763.09it/s]\u001b[A\n",
      " 31%|███       | 30514/100000 [00:17<00:39, 1777.88it/s]\u001b[A\n",
      " 31%|███       | 30692/100000 [00:17<00:39, 1772.13it/s]\u001b[A\n",
      " 31%|███       | 30870/100000 [00:17<00:38, 1772.64it/s]\u001b[A\n",
      " 31%|███       | 31048/100000 [00:17<00:39, 1728.73it/s]\u001b[A\n",
      " 31%|███       | 31222/100000 [00:17<00:39, 1732.00it/s]\u001b[A\n",
      " 31%|███▏      | 31396/100000 [00:17<00:40, 1688.56it/s]\u001b[A\n",
      " 32%|███▏      | 31571/100000 [00:17<00:40, 1705.80it/s]\u001b[A\n",
      " 32%|███▏      | 31742/100000 [00:17<00:40, 1675.08it/s]\u001b[A\n",
      " 32%|███▏      | 31916/100000 [00:18<00:40, 1693.17it/s]\u001b[A\n",
      " 32%|███▏      | 32094/100000 [00:18<00:39, 1716.28it/s]\u001b[A\n",
      " 32%|███▏      | 32266/100000 [00:18<00:40, 1674.56it/s]\u001b[A\n",
      " 32%|███▏      | 32447/100000 [00:18<00:39, 1711.58it/s]\u001b[A\n",
      " 33%|███▎      | 32619/100000 [00:18<00:40, 1683.02it/s]\u001b[A\n",
      " 33%|███▎      | 32795/100000 [00:18<00:39, 1705.23it/s]\u001b[A\n",
      " 33%|███▎      | 32972/100000 [00:18<00:38, 1723.88it/s]\u001b[A\n",
      " 33%|███▎      | 33145/100000 [00:18<00:38, 1722.69it/s]\u001b[A\n",
      " 33%|███▎      | 33324/100000 [00:18<00:38, 1741.86it/s]\u001b[A\n",
      " 34%|███▎      | 33500/100000 [00:19<00:38, 1746.08it/s]\u001b[A\n",
      " 34%|███▎      | 33680/100000 [00:19<00:37, 1759.60it/s]\u001b[A\n",
      " 34%|███▍      | 33857/100000 [00:19<00:38, 1736.71it/s]\u001b[A\n",
      " 34%|███▍      | 34032/100000 [00:19<00:37, 1739.85it/s]\u001b[A\n",
      " 34%|███▍      | 34207/100000 [00:19<00:37, 1741.83it/s]\u001b[A\n",
      " 34%|███▍      | 34385/100000 [00:19<00:37, 1751.70it/s]\u001b[A\n",
      " 35%|███▍      | 34561/100000 [00:19<00:37, 1745.59it/s]\u001b[A\n",
      " 35%|███▍      | 34739/100000 [00:19<00:37, 1755.33it/s]\u001b[A\n",
      " 35%|███▍      | 34915/100000 [00:19<00:37, 1735.76it/s]\u001b[A\n",
      " 35%|███▌      | 35092/100000 [00:19<00:37, 1743.21it/s]\u001b[A\n",
      " 35%|███▌      | 35268/100000 [00:20<00:37, 1745.04it/s]\u001b[A\n",
      " 35%|███▌      | 35447/100000 [00:20<00:36, 1757.90it/s]\u001b[A\n",
      " 36%|███▌      | 35623/100000 [00:20<00:36, 1752.89it/s]\u001b[A\n",
      " 36%|███▌      | 35801/100000 [00:20<00:36, 1757.68it/s]\u001b[A\n",
      " 36%|███▌      | 35978/100000 [00:20<00:36, 1760.84it/s]\u001b[A\n",
      " 36%|███▌      | 36155/100000 [00:20<00:36, 1759.45it/s]\u001b[A\n",
      " 36%|███▋      | 36331/100000 [00:20<00:36, 1758.81it/s]\u001b[A\n",
      " 37%|███▋      | 36508/100000 [00:20<00:36, 1759.54it/s]\u001b[A\n",
      " 37%|███▋      | 36685/100000 [00:20<00:35, 1761.64it/s]\u001b[A\n",
      " 37%|███▋      | 36869/100000 [00:20<00:35, 1782.42it/s]\u001b[A\n",
      " 37%|███▋      | 37048/100000 [00:21<00:36, 1736.53it/s]\u001b[A\n",
      " 37%|███▋      | 37222/100000 [00:21<00:36, 1715.82it/s]\u001b[A\n",
      " 37%|███▋      | 37404/100000 [00:21<00:35, 1744.65it/s]\u001b[A\n",
      " 38%|███▊      | 37587/100000 [00:21<00:35, 1768.10it/s]\u001b[A\n",
      " 38%|███▊      | 37771/100000 [00:21<00:34, 1787.56it/s]\u001b[A\n",
      " 38%|███▊      | 37955/100000 [00:21<00:34, 1800.25it/s]\u001b[A\n",
      " 38%|███▊      | 38139/100000 [00:21<00:34, 1811.38it/s]\u001b[A\n",
      " 38%|███▊      | 38321/100000 [00:21<00:34, 1811.95it/s]\u001b[A\n",
      " 39%|███▊      | 38503/100000 [00:21<00:34, 1801.52it/s]\u001b[A\n",
      " 39%|███▊      | 38684/100000 [00:21<00:34, 1795.46it/s]\u001b[A\n",
      " 39%|███▉      | 38864/100000 [00:22<00:34, 1789.96it/s]\u001b[A\n",
      " 39%|███▉      | 39044/100000 [00:22<00:34, 1784.63it/s]\u001b[A\n",
      " 39%|███▉      | 39223/100000 [00:22<00:34, 1780.72it/s]\u001b[A\n",
      " 39%|███▉      | 39402/100000 [00:22<00:34, 1737.46it/s]\u001b[A\n",
      " 40%|███▉      | 39582/100000 [00:22<00:34, 1755.58it/s]\u001b[A\n",
      " 40%|███▉      | 39758/100000 [00:22<00:34, 1745.34it/s]\u001b[A\n",
      " 40%|███▉      | 39933/100000 [00:22<00:34, 1728.84it/s]\u001b[A\n",
      " 40%|████      | 40108/100000 [00:22<00:34, 1733.32it/s]\u001b[A\n",
      " 40%|████      | 40285/100000 [00:22<00:34, 1742.56it/s]\u001b[A\n",
      " 40%|████      | 40461/100000 [00:22<00:34, 1745.84it/s]\u001b[A\n",
      " 41%|████      | 40637/100000 [00:23<00:33, 1749.38it/s]\u001b[A\n",
      " 41%|████      | 40812/100000 [00:23<00:33, 1748.21it/s]\u001b[A\n",
      " 41%|████      | 40987/100000 [00:23<00:33, 1747.59it/s]\u001b[A\n",
      " 41%|████      | 41165/100000 [00:23<00:33, 1755.52it/s]\u001b[A\n",
      " 41%|████▏     | 41341/100000 [00:23<00:33, 1755.21it/s]\u001b[A\n",
      " 42%|████▏     | 41519/100000 [00:23<00:33, 1760.11it/s]\u001b[A\n",
      " 42%|████▏     | 41696/100000 [00:23<00:33, 1756.37it/s]\u001b[A\n",
      " 42%|████▏     | 41872/100000 [00:23<00:33, 1735.26it/s]\u001b[A\n",
      " 42%|████▏     | 42046/100000 [00:23<00:33, 1731.88it/s]\u001b[A\n",
      " 42%|████▏     | 42220/100000 [00:23<00:33, 1707.18it/s]\u001b[A\n",
      " 42%|████▏     | 42391/100000 [00:24<00:34, 1674.09it/s]\u001b[A\n",
      " 43%|████▎     | 42578/100000 [00:24<00:33, 1730.77it/s]\u001b[A\n",
      " 43%|████▎     | 42759/100000 [00:24<00:32, 1752.32it/s]\u001b[A\n",
      " 43%|████▎     | 42944/100000 [00:24<00:32, 1778.13it/s]\u001b[A\n",
      " 43%|████▎     | 43129/100000 [00:24<00:31, 1797.66it/s]\u001b[A\n",
      " 43%|████▎     | 43312/100000 [00:24<00:31, 1805.44it/s]\u001b[A\n",
      " 43%|████▎     | 43494/100000 [00:24<00:32, 1760.61it/s]\u001b[A\n",
      " 10%|█         | 10018/100000 [03:44<47:27:43,  1.90s/it]"
     ]
    },
    {
     "name": "stdout",
     "output_type": "stream",
     "text": [
      "---------------------------------------\n",
      "Evaluation over 5 episodes: 0.000\n",
      "---------------------------------------\n",
      "====== Total T: 10006 Episode Num: 330 Episode_Length T: 7 Return: 0.000 ======\n"
     ]
    },
    {
     "name": "stderr",
     "output_type": "stream",
     "text": [
      " 10%|█         | 10095/100000 [03:44<12:10:51,  2.05it/s]"
     ]
    },
    {
     "name": "stdout",
     "output_type": "stream",
     "text": [
      "====== Total T: 10075 Episode Num: 331 Episode_Length T: 69 Return: 0.000 ======\n"
     ]
    },
    {
     "name": "stderr",
     "output_type": "stream",
     "text": [
      " 10%|█         | 10177/100000 [03:45<2:53:15,  8.64it/s] "
     ]
    },
    {
     "name": "stdout",
     "output_type": "stream",
     "text": [
      "====== Total T: 10158 Episode Num: 332 Episode_Length T: 83 Return: 0.000 ======\n"
     ]
    },
    {
     "name": "stderr",
     "output_type": "stream",
     "text": [
      " 10%|█         | 10449/100000 [03:46<09:39, 154.62it/s] "
     ]
    },
    {
     "name": "stdout",
     "output_type": "stream",
     "text": [
      "====== Total T: 10417 Episode Num: 333 Episode_Length T: 259 Return: 2.000 ======\n"
     ]
    },
    {
     "name": "stderr",
     "output_type": "stream",
     "text": [
      " 11%|█         | 10585/100000 [03:47<08:19, 178.90it/s]"
     ]
    },
    {
     "name": "stdout",
     "output_type": "stream",
     "text": [
      "====== Total T: 10561 Episode Num: 334 Episode_Length T: 144 Return: 0.000 ======\n",
      "====== Total T: 10563 Episode Num: 335 Episode_Length T: 2 Return: 0.000 ======\n",
      "====== Total T: 10579 Episode Num: 336 Episode_Length T: 16 Return: 0.000 ======\n",
      "====== Total T: 10587 Episode Num: 337 Episode_Length T: 8 Return: 0.000 ======\n"
     ]
    },
    {
     "name": "stderr",
     "output_type": "stream",
     "text": [
      " 11%|█         | 10643/100000 [03:47<08:04, 184.27it/s]"
     ]
    },
    {
     "name": "stdout",
     "output_type": "stream",
     "text": [
      "====== Total T: 10608 Episode Num: 338 Episode_Length T: 21 Return: 0.000 ======\n"
     ]
    },
    {
     "name": "stderr",
     "output_type": "stream",
     "text": [
      " 11%|█         | 10687/100000 [03:48<07:29, 198.89it/s]"
     ]
    },
    {
     "name": "stdout",
     "output_type": "stream",
     "text": [
      "====== Total T: 10646 Episode Num: 339 Episode_Length T: 38 Return: 0.000 ======\n"
     ]
    },
    {
     "name": "stderr",
     "output_type": "stream",
     "text": [
      " 11%|█         | 10824/100000 [03:48<06:53, 215.56it/s]"
     ]
    },
    {
     "name": "stdout",
     "output_type": "stream",
     "text": [
      "====== Total T: 10793 Episode Num: 340 Episode_Length T: 147 Return: 0.000 ======\n",
      "====== Total T: 10819 Episode Num: 341 Episode_Length T: 26 Return: 0.000 ======\n",
      "====== Total T: 10835 Episode Num: 342 Episode_Length T: 16 Return: 0.000 ======\n"
     ]
    },
    {
     "name": "stderr",
     "output_type": "stream",
     "text": [
      " 11%|█         | 10888/100000 [03:49<07:27, 199.34it/s]"
     ]
    },
    {
     "name": "stdout",
     "output_type": "stream",
     "text": [
      "====== Total T: 10868 Episode Num: 343 Episode_Length T: 33 Return: 0.000 ======\n"
     ]
    },
    {
     "name": "stderr",
     "output_type": "stream",
     "text": [
      " 11%|█         | 10948/100000 [03:49<07:50, 189.32it/s]"
     ]
    },
    {
     "name": "stdout",
     "output_type": "stream",
     "text": [
      "====== Total T: 10927 Episode Num: 344 Episode_Length T: 59 Return: 0.000 ======\n",
      "====== Total T: 10953 Episode Num: 345 Episode_Length T: 26 Return: 0.000 ======\n"
     ]
    },
    {
     "name": "stderr",
     "output_type": "stream",
     "text": [
      " 11%|█         | 11008/100000 [03:49<07:48, 189.87it/s]"
     ]
    },
    {
     "name": "stdout",
     "output_type": "stream",
     "text": [
      "====== Total T: 10975 Episode Num: 346 Episode_Length T: 22 Return: 0.000 ======\n"
     ]
    },
    {
     "name": "stderr",
     "output_type": "stream",
     "text": [
      " 11%|█         | 11068/100000 [03:50<07:49, 189.53it/s]"
     ]
    },
    {
     "name": "stdout",
     "output_type": "stream",
     "text": [
      "====== Total T: 11040 Episode Num: 347 Episode_Length T: 65 Return: 0.000 ======\n",
      "====== Total T: 11058 Episode Num: 348 Episode_Length T: 18 Return: 0.000 ======\n",
      "====== Total T: 11074 Episode Num: 349 Episode_Length T: 16 Return: 0.000 ======\n"
     ]
    },
    {
     "name": "stderr",
     "output_type": "stream",
     "text": [
      " 11%|█         | 11107/100000 [03:50<07:49, 189.31it/s]"
     ]
    },
    {
     "name": "stdout",
     "output_type": "stream",
     "text": [
      "====== Total T: 11081 Episode Num: 350 Episode_Length T: 7 Return: 0.000 ======\n",
      "====== Total T: 11091 Episode Num: 351 Episode_Length T: 10 Return: 0.000 ======\n",
      "====== Total T: 11106 Episode Num: 352 Episode_Length T: 15 Return: 0.000 ======\n",
      "====== Total T: 11115 Episode Num: 353 Episode_Length T: 9 Return: 0.000 ======\n"
     ]
    },
    {
     "name": "stderr",
     "output_type": "stream",
     "text": [
      " 11%|█         | 11245/100000 [03:51<07:48, 189.52it/s]"
     ]
    },
    {
     "name": "stdout",
     "output_type": "stream",
     "text": [
      "====== Total T: 11209 Episode Num: 354 Episode_Length T: 94 Return: 0.000 ======\n"
     ]
    },
    {
     "name": "stderr",
     "output_type": "stream",
     "text": [
      " 11%|█▏        | 11284/100000 [03:51<07:48, 189.36it/s]"
     ]
    },
    {
     "name": "stdout",
     "output_type": "stream",
     "text": [
      "====== Total T: 11260 Episode Num: 355 Episode_Length T: 51 Return: 0.000 ======\n",
      "====== Total T: 11267 Episode Num: 356 Episode_Length T: 7 Return: 0.000 ======\n",
      "====== Total T: 11276 Episode Num: 357 Episode_Length T: 9 Return: 0.000 ======\n",
      "====== Total T: 11295 Episode Num: 358 Episode_Length T: 19 Return: 0.000 ======\n"
     ]
    },
    {
     "name": "stderr",
     "output_type": "stream",
     "text": [
      " 11%|█▏        | 11345/100000 [03:51<07:39, 192.98it/s]"
     ]
    },
    {
     "name": "stdout",
     "output_type": "stream",
     "text": [
      "====== Total T: 11313 Episode Num: 359 Episode_Length T: 18 Return: 0.000 ======\n"
     ]
    },
    {
     "name": "stderr",
     "output_type": "stream",
     "text": [
      " 11%|█▏        | 11414/100000 [03:51<06:48, 216.60it/s]"
     ]
    },
    {
     "name": "stdout",
     "output_type": "stream",
     "text": [
      "====== Total T: 11383 Episode Num: 360 Episode_Length T: 70 Return: 0.000 ======\n",
      "====== Total T: 11407 Episode Num: 361 Episode_Length T: 24 Return: 0.000 ======\n"
     ]
    },
    {
     "name": "stderr",
     "output_type": "stream",
     "text": [
      " 11%|█▏        | 11483/100000 [03:52<07:03, 208.88it/s]"
     ]
    },
    {
     "name": "stdout",
     "output_type": "stream",
     "text": [
      "====== Total T: 11453 Episode Num: 362 Episode_Length T: 46 Return: 0.000 ======\n",
      "====== Total T: 11460 Episode Num: 363 Episode_Length T: 7 Return: 0.000 ======\n"
     ]
    },
    {
     "name": "stderr",
     "output_type": "stream",
     "text": [
      " 12%|█▏        | 11525/100000 [03:52<07:20, 200.63it/s]"
     ]
    },
    {
     "name": "stdout",
     "output_type": "stream",
     "text": [
      "====== Total T: 11502 Episode Num: 364 Episode_Length T: 42 Return: 0.000 ======\n",
      "====== Total T: 11509 Episode Num: 365 Episode_Length T: 7 Return: 0.000 ======\n",
      "====== Total T: 11525 Episode Num: 366 Episode_Length T: 16 Return: 0.000 ======\n"
     ]
    },
    {
     "name": "stderr",
     "output_type": "stream",
     "text": [
      " 12%|█▏        | 11588/100000 [03:52<07:15, 203.02it/s]"
     ]
    },
    {
     "name": "stdout",
     "output_type": "stream",
     "text": [
      "====== Total T: 11551 Episode Num: 367 Episode_Length T: 26 Return: 0.000 ======\n",
      "====== Total T: 11561 Episode Num: 368 Episode_Length T: 10 Return: 0.000 ======\n"
     ]
    },
    {
     "name": "stderr",
     "output_type": "stream",
     "text": [
      " 12%|█▏        | 11669/100000 [03:53<07:38, 192.84it/s]"
     ]
    },
    {
     "name": "stdout",
     "output_type": "stream",
     "text": [
      "====== Total T: 11644 Episode Num: 369 Episode_Length T: 83 Return: 1.000 ======\n",
      "====== Total T: 11659 Episode Num: 370 Episode_Length T: 15 Return: 0.000 ======\n",
      "====== Total T: 11668 Episode Num: 371 Episode_Length T: 9 Return: 0.000 ======\n"
     ]
    },
    {
     "name": "stderr",
     "output_type": "stream",
     "text": [
      " 12%|█▏        | 11709/100000 [03:53<07:41, 191.25it/s]"
     ]
    },
    {
     "name": "stdout",
     "output_type": "stream",
     "text": [
      "====== Total T: 11684 Episode Num: 372 Episode_Length T: 16 Return: 0.000 ======\n"
     ]
    },
    {
     "name": "stderr",
     "output_type": "stream",
     "text": [
      " 12%|█▏        | 11748/100000 [03:53<07:50, 187.56it/s]"
     ]
    },
    {
     "name": "stdout",
     "output_type": "stream",
     "text": [
      "====== Total T: 11728 Episode Num: 373 Episode_Length T: 44 Return: 0.000 ======\n"
     ]
    },
    {
     "name": "stderr",
     "output_type": "stream",
     "text": [
      " 12%|█▏        | 11806/100000 [03:53<07:49, 187.89it/s]"
     ]
    },
    {
     "name": "stdout",
     "output_type": "stream",
     "text": [
      "====== Total T: 11771 Episode Num: 374 Episode_Length T: 43 Return: 0.000 ======\n",
      "====== Total T: 11780 Episode Num: 375 Episode_Length T: 9 Return: 0.000 ======\n"
     ]
    },
    {
     "name": "stderr",
     "output_type": "stream",
     "text": [
      " 12%|█▏        | 11859/100000 [03:54<06:35, 222.75it/s]"
     ]
    },
    {
     "name": "stdout",
     "output_type": "stream",
     "text": [
      "====== Total T: 11817 Episode Num: 376 Episode_Length T: 37 Return: 0.000 ======\n"
     ]
    },
    {
     "name": "stderr",
     "output_type": "stream",
     "text": [
      " 12%|█▏        | 11904/100000 [03:54<07:02, 208.51it/s]"
     ]
    },
    {
     "name": "stdout",
     "output_type": "stream",
     "text": [
      "====== Total T: 11882 Episode Num: 377 Episode_Length T: 65 Return: 0.000 ======\n"
     ]
    },
    {
     "name": "stderr",
     "output_type": "stream",
     "text": [
      " 12%|█▏        | 12085/100000 [03:55<07:41, 190.49it/s]"
     ]
    },
    {
     "name": "stdout",
     "output_type": "stream",
     "text": [
      "====== Total T: 12060 Episode Num: 378 Episode_Length T: 178 Return: 0.000 ======\n",
      "====== Total T: 12068 Episode Num: 379 Episode_Length T: 8 Return: 0.000 ======\n"
     ]
    },
    {
     "name": "stderr",
     "output_type": "stream",
     "text": [
      " 12%|█▏        | 12150/100000 [03:55<07:03, 207.53it/s]"
     ]
    },
    {
     "name": "stdout",
     "output_type": "stream",
     "text": [
      "====== Total T: 12113 Episode Num: 380 Episode_Length T: 45 Return: 0.000 ======\n",
      "====== Total T: 12116 Episode Num: 381 Episode_Length T: 3 Return: 0.000 ======\n"
     ]
    },
    {
     "name": "stderr",
     "output_type": "stream",
     "text": [
      " 12%|█▏        | 12223/100000 [03:55<06:18, 231.95it/s]"
     ]
    },
    {
     "name": "stdout",
     "output_type": "stream",
     "text": [
      "====== Total T: 12184 Episode Num: 382 Episode_Length T: 68 Return: 0.000 ======\n",
      "====== Total T: 12197 Episode Num: 383 Episode_Length T: 13 Return: 0.000 ======\n",
      "====== Total T: 12207 Episode Num: 384 Episode_Length T: 10 Return: 0.000 ======\n"
     ]
    },
    {
     "name": "stderr",
     "output_type": "stream",
     "text": [
      " 12%|█▏        | 12270/100000 [03:56<06:46, 215.72it/s]"
     ]
    },
    {
     "name": "stdout",
     "output_type": "stream",
     "text": [
      "====== Total T: 12239 Episode Num: 385 Episode_Length T: 32 Return: 0.000 ======\n"
     ]
    },
    {
     "name": "stderr",
     "output_type": "stream",
     "text": [
      " 12%|█▏        | 12321/100000 [03:56<06:15, 233.56it/s]"
     ]
    },
    {
     "name": "stdout",
     "output_type": "stream",
     "text": [
      "====== Total T: 12298 Episode Num: 386 Episode_Length T: 59 Return: 0.000 ======\n",
      "====== Total T: 12323 Episode Num: 387 Episode_Length T: 25 Return: 0.000 ======\n"
     ]
    },
    {
     "name": "stderr",
     "output_type": "stream",
     "text": [
      " 12%|█▏        | 12460/100000 [03:57<06:47, 214.72it/s]"
     ]
    },
    {
     "name": "stdout",
     "output_type": "stream",
     "text": [
      "====== Total T: 12429 Episode Num: 388 Episode_Length T: 106 Return: 1.000 ======\n",
      "====== Total T: 12452 Episode Num: 389 Episode_Length T: 23 Return: 0.000 ======\n",
      "====== Total T: 12454 Episode Num: 390 Episode_Length T: 2 Return: 0.000 ======\n"
     ]
    },
    {
     "name": "stderr",
     "output_type": "stream",
     "text": [
      " 13%|█▎        | 12524/100000 [03:57<07:14, 201.30it/s]"
     ]
    },
    {
     "name": "stdout",
     "output_type": "stream",
     "text": [
      "====== Total T: 12485 Episode Num: 391 Episode_Length T: 31 Return: 0.000 ======\n"
     ]
    },
    {
     "name": "stderr",
     "output_type": "stream",
     "text": [
      " 13%|█▎        | 12586/100000 [03:57<07:24, 196.52it/s]"
     ]
    },
    {
     "name": "stdout",
     "output_type": "stream",
     "text": [
      "====== Total T: 12565 Episode Num: 392 Episode_Length T: 80 Return: 0.000 ======\n"
     ]
    },
    {
     "name": "stderr",
     "output_type": "stream",
     "text": [
      " 13%|█▎        | 12647/100000 [03:57<07:25, 196.29it/s]"
     ]
    },
    {
     "name": "stdout",
     "output_type": "stream",
     "text": [
      "====== Total T: 12625 Episode Num: 393 Episode_Length T: 60 Return: 0.000 ======\n",
      "====== Total T: 12654 Episode Num: 394 Episode_Length T: 29 Return: 0.000 ======\n"
     ]
    },
    {
     "name": "stderr",
     "output_type": "stream",
     "text": [
      " 13%|█▎        | 12748/100000 [03:58<07:36, 191.31it/s]"
     ]
    },
    {
     "name": "stdout",
     "output_type": "stream",
     "text": [
      "====== Total T: 12716 Episode Num: 395 Episode_Length T: 62 Return: 0.000 ======\n",
      "====== Total T: 12737 Episode Num: 396 Episode_Length T: 21 Return: 0.000 ======\n",
      "====== Total T: 12746 Episode Num: 397 Episode_Length T: 9 Return: 0.000 ======\n",
      "====== Total T: 12753 Episode Num: 398 Episode_Length T: 7 Return: 0.000 ======\n"
     ]
    },
    {
     "name": "stderr",
     "output_type": "stream",
     "text": [
      " 13%|█▎        | 12806/100000 [03:58<07:45, 187.15it/s]"
     ]
    },
    {
     "name": "stdout",
     "output_type": "stream",
     "text": [
      "====== Total T: 12769 Episode Num: 399 Episode_Length T: 16 Return: 0.000 ======\n",
      "====== Total T: 12797 Episode Num: 400 Episode_Length T: 28 Return: 0.000 ======\n"
     ]
    },
    {
     "name": "stderr",
     "output_type": "stream",
     "text": [
      " 13%|█▎        | 12844/100000 [03:59<07:51, 184.70it/s]"
     ]
    },
    {
     "name": "stdout",
     "output_type": "stream",
     "text": [
      "====== Total T: 12814 Episode Num: 401 Episode_Length T: 17 Return: 0.000 ======\n"
     ]
    },
    {
     "name": "stderr",
     "output_type": "stream",
     "text": [
      " 13%|█▎        | 12920/100000 [03:59<07:54, 183.33it/s]"
     ]
    },
    {
     "name": "stdout",
     "output_type": "stream",
     "text": [
      "====== Total T: 12884 Episode Num: 402 Episode_Length T: 70 Return: 1.000 ======\n",
      "====== Total T: 12902 Episode Num: 403 Episode_Length T: 18 Return: 0.000 ======\n"
     ]
    },
    {
     "name": "stderr",
     "output_type": "stream",
     "text": [
      " 13%|█▎        | 12996/100000 [03:59<06:27, 224.30it/s]"
     ]
    },
    {
     "name": "stdout",
     "output_type": "stream",
     "text": [
      "====== Total T: 12948 Episode Num: 404 Episode_Length T: 46 Return: 0.000 ======\n",
      "====== Total T: 12956 Episode Num: 405 Episode_Length T: 8 Return: 0.000 ======\n",
      "====== Total T: 12963 Episode Num: 406 Episode_Length T: 7 Return: 0.000 ======\n"
     ]
    },
    {
     "name": "stderr",
     "output_type": "stream",
     "text": [
      " 13%|█▎        | 13129/100000 [04:00<07:08, 202.53it/s]"
     ]
    },
    {
     "name": "stdout",
     "output_type": "stream",
     "text": [
      "====== Total T: 13090 Episode Num: 407 Episode_Length T: 127 Return: 0.000 ======\n",
      "====== Total T: 13116 Episode Num: 408 Episode_Length T: 26 Return: 0.000 ======\n",
      "====== Total T: 13124 Episode Num: 409 Episode_Length T: 8 Return: 0.000 ======\n",
      "====== Total T: 13127 Episode Num: 410 Episode_Length T: 3 Return: 0.000 ======\n"
     ]
    },
    {
     "name": "stderr",
     "output_type": "stream",
     "text": [
      " 13%|█▎        | 13170/100000 [04:00<07:29, 193.26it/s]"
     ]
    },
    {
     "name": "stdout",
     "output_type": "stream",
     "text": [
      "====== Total T: 13141 Episode Num: 411 Episode_Length T: 14 Return: 0.000 ======\n",
      "====== Total T: 13150 Episode Num: 412 Episode_Length T: 9 Return: 0.000 ======\n",
      "====== Total T: 13162 Episode Num: 413 Episode_Length T: 12 Return: 0.000 ======\n"
     ]
    },
    {
     "name": "stderr",
     "output_type": "stream",
     "text": [
      " 13%|█▎        | 13231/100000 [04:00<07:24, 195.34it/s]"
     ]
    },
    {
     "name": "stdout",
     "output_type": "stream",
     "text": [
      "====== Total T: 13206 Episode Num: 414 Episode_Length T: 44 Return: 0.000 ======\n",
      "====== Total T: 13211 Episode Num: 415 Episode_Length T: 5 Return: 0.000 ======\n"
     ]
    },
    {
     "name": "stderr",
     "output_type": "stream",
     "text": [
      " 13%|█▎        | 13331/100000 [04:01<07:37, 189.24it/s]"
     ]
    },
    {
     "name": "stdout",
     "output_type": "stream",
     "text": [
      "====== Total T: 13307 Episode Num: 416 Episode_Length T: 96 Return: 0.000 ======\n"
     ]
    },
    {
     "name": "stderr",
     "output_type": "stream",
     "text": [
      " 14%|█▎        | 13572/100000 [04:02<07:20, 195.99it/s]"
     ]
    },
    {
     "name": "stdout",
     "output_type": "stream",
     "text": [
      "====== Total T: 13549 Episode Num: 417 Episode_Length T: 242 Return: 0.000 ======\n",
      "====== Total T: 13585 Episode Num: 418 Episode_Length T: 36 Return: 0.000 ======\n"
     ]
    },
    {
     "name": "stderr",
     "output_type": "stream",
     "text": [
      " 14%|█▎        | 13632/100000 [04:03<07:28, 192.59it/s]"
     ]
    },
    {
     "name": "stdout",
     "output_type": "stream",
     "text": [
      "====== Total T: 13596 Episode Num: 419 Episode_Length T: 11 Return: 0.000 ======\n"
     ]
    },
    {
     "name": "stderr",
     "output_type": "stream",
     "text": [
      " 14%|█▎        | 13672/100000 [04:03<07:29, 192.10it/s]"
     ]
    },
    {
     "name": "stdout",
     "output_type": "stream",
     "text": [
      "====== Total T: 13640 Episode Num: 420 Episode_Length T: 44 Return: 0.000 ======\n"
     ]
    },
    {
     "name": "stderr",
     "output_type": "stream",
     "text": [
      " 14%|█▍        | 13780/100000 [04:03<06:33, 219.28it/s]"
     ]
    },
    {
     "name": "stdout",
     "output_type": "stream",
     "text": [
      "====== Total T: 13733 Episode Num: 421 Episode_Length T: 93 Return: 1.000 ======\n"
     ]
    },
    {
     "name": "stderr",
     "output_type": "stream",
     "text": [
      " 14%|█▍        | 13918/100000 [04:04<05:30, 260.40it/s]"
     ]
    },
    {
     "name": "stdout",
     "output_type": "stream",
     "text": [
      "====== Total T: 13895 Episode Num: 422 Episode_Length T: 162 Return: 1.000 ======\n"
     ]
    },
    {
     "name": "stderr",
     "output_type": "stream",
     "text": [
      " 14%|█▍        | 14017/100000 [04:04<06:41, 213.90it/s]"
     ]
    },
    {
     "name": "stdout",
     "output_type": "stream",
     "text": [
      "====== Total T: 13981 Episode Num: 423 Episode_Length T: 86 Return: 1.000 ======\n",
      "====== Total T: 14008 Episode Num: 424 Episode_Length T: 27 Return: 0.000 ======\n",
      "====== Total T: 14010 Episode Num: 425 Episode_Length T: 2 Return: 0.000 ======\n"
     ]
    },
    {
     "name": "stderr",
     "output_type": "stream",
     "text": [
      " 14%|█▍        | 14103/100000 [04:05<07:11, 199.10it/s]"
     ]
    },
    {
     "name": "stdout",
     "output_type": "stream",
     "text": [
      "====== Total T: 14084 Episode Num: 426 Episode_Length T: 74 Return: 0.000 ======\n"
     ]
    },
    {
     "name": "stderr",
     "output_type": "stream",
     "text": [
      " 14%|█▍        | 14143/100000 [04:05<07:23, 193.80it/s]"
     ]
    },
    {
     "name": "stdout",
     "output_type": "stream",
     "text": [
      "====== Total T: 14124 Episode Num: 427 Episode_Length T: 40 Return: 1.000 ======\n"
     ]
    },
    {
     "name": "stderr",
     "output_type": "stream",
     "text": [
      " 14%|█▍        | 14223/100000 [04:05<07:24, 192.90it/s]"
     ]
    },
    {
     "name": "stdout",
     "output_type": "stream",
     "text": [
      "====== Total T: 14190 Episode Num: 428 Episode_Length T: 66 Return: 0.000 ======\n",
      "====== Total T: 14207 Episode Num: 429 Episode_Length T: 17 Return: 0.000 ======\n"
     ]
    },
    {
     "name": "stderr",
     "output_type": "stream",
     "text": [
      " 14%|█▍        | 14303/100000 [04:06<07:25, 192.51it/s]"
     ]
    },
    {
     "name": "stdout",
     "output_type": "stream",
     "text": [
      "====== Total T: 14270 Episode Num: 430 Episode_Length T: 63 Return: 0.000 ======\n",
      "====== Total T: 14298 Episode Num: 431 Episode_Length T: 28 Return: 0.000 ======\n"
     ]
    },
    {
     "name": "stderr",
     "output_type": "stream",
     "text": [
      " 14%|█▍        | 14410/100000 [04:06<07:03, 201.87it/s]"
     ]
    },
    {
     "name": "stdout",
     "output_type": "stream",
     "text": [
      "====== Total T: 14382 Episode Num: 432 Episode_Length T: 84 Return: 1.000 ======\n"
     ]
    },
    {
     "name": "stderr",
     "output_type": "stream",
     "text": [
      " 14%|█▍        | 14475/100000 [04:07<06:53, 206.99it/s]"
     ]
    },
    {
     "name": "stdout",
     "output_type": "stream",
     "text": [
      "====== Total T: 14440 Episode Num: 433 Episode_Length T: 58 Return: 0.000 ======\n",
      "====== Total T: 14444 Episode Num: 434 Episode_Length T: 4 Return: 0.000 ======\n",
      "====== Total T: 14463 Episode Num: 435 Episode_Length T: 19 Return: 0.000 ======\n"
     ]
    },
    {
     "name": "stderr",
     "output_type": "stream",
     "text": [
      " 15%|█▍        | 14517/100000 [04:07<07:17, 195.45it/s]"
     ]
    },
    {
     "name": "stdout",
     "output_type": "stream",
     "text": [
      "====== Total T: 14487 Episode Num: 436 Episode_Length T: 24 Return: 0.000 ======\n",
      "====== Total T: 14489 Episode Num: 437 Episode_Length T: 2 Return: 0.000 ======\n",
      "====== Total T: 14496 Episode Num: 438 Episode_Length T: 7 Return: 0.000 ======\n"
     ]
    },
    {
     "name": "stderr",
     "output_type": "stream",
     "text": [
      " 15%|█▍        | 14577/100000 [04:07<07:19, 194.49it/s]"
     ]
    },
    {
     "name": "stdout",
     "output_type": "stream",
     "text": [
      "====== Total T: 14540 Episode Num: 439 Episode_Length T: 44 Return: 0.000 ======\n",
      "====== Total T: 14576 Episode Num: 440 Episode_Length T: 36 Return: 0.000 ======\n"
     ]
    },
    {
     "name": "stderr",
     "output_type": "stream",
     "text": [
      " 15%|█▍        | 14658/100000 [04:08<07:20, 193.63it/s]"
     ]
    },
    {
     "name": "stdout",
     "output_type": "stream",
     "text": [
      "====== Total T: 14637 Episode Num: 441 Episode_Length T: 61 Return: 0.000 ======\n"
     ]
    },
    {
     "name": "stderr",
     "output_type": "stream",
     "text": [
      " 15%|█▍        | 14758/100000 [04:08<07:29, 189.55it/s]"
     ]
    },
    {
     "name": "stdout",
     "output_type": "stream",
     "text": [
      "====== Total T: 14727 Episode Num: 442 Episode_Length T: 90 Return: 1.000 ======\n",
      "====== Total T: 14752 Episode Num: 443 Episode_Length T: 25 Return: 0.000 ======\n"
     ]
    },
    {
     "name": "stderr",
     "output_type": "stream",
     "text": [
      " 15%|█▍        | 14878/100000 [04:09<07:23, 191.91it/s]"
     ]
    },
    {
     "name": "stdout",
     "output_type": "stream",
     "text": [
      "====== Total T: 14853 Episode Num: 444 Episode_Length T: 101 Return: 1.000 ======\n"
     ]
    },
    {
     "name": "stderr",
     "output_type": "stream",
     "text": [
      " 15%|█▍        | 14918/100000 [04:09<07:23, 191.81it/s]"
     ]
    },
    {
     "name": "stdout",
     "output_type": "stream",
     "text": [
      "====== Total T: 14894 Episode Num: 445 Episode_Length T: 41 Return: 0.000 ======\n",
      "====== Total T: 14899 Episode Num: 446 Episode_Length T: 5 Return: 0.000 ======\n",
      "====== Total T: 14912 Episode Num: 447 Episode_Length T: 13 Return: 0.000 ======\n"
     ]
    },
    {
     "name": "stderr",
     "output_type": "stream",
     "text": [
      " 15%|█▍        | 14958/100000 [04:09<07:21, 192.46it/s]"
     ]
    },
    {
     "name": "stdout",
     "output_type": "stream",
     "text": [
      "====== Total T: 14935 Episode Num: 448 Episode_Length T: 23 Return: 0.000 ======\n",
      "====== Total T: 14954 Episode Num: 449 Episode_Length T: 19 Return: 0.000 ======\n",
      "====== Total T: 14961 Episode Num: 450 Episode_Length T: 7 Return: 0.000 ======\n"
     ]
    },
    {
     "name": "stderr",
     "output_type": "stream",
     "text": [
      " 15%|█▍        | 14978/100000 [04:09<07:28, 189.40it/s]"
     ]
    },
    {
     "name": "stdout",
     "output_type": "stream",
     "text": [
      "====== Total T: 14997 Episode Num: 451 Episode_Length T: 36 Return: 0.000 ======\n"
     ]
    },
    {
     "name": "stderr",
     "output_type": "stream",
     "text": [
      "\n",
      "  0%|          | 0/100000 [00:00<?, ?it/s]\u001b[A\n",
      "  0%|          | 170/100000 [00:00<00:58, 1697.19it/s]\u001b[A\n",
      "  0%|          | 351/100000 [00:00<00:56, 1761.48it/s]\u001b[A\n",
      "  1%|          | 528/100000 [00:00<00:58, 1713.00it/s]\u001b[A\n",
      "  1%|          | 703/100000 [00:00<00:57, 1725.26it/s]\u001b[A\n",
      "  1%|          | 974/100000 [00:00<00:56, 1742.39it/s]\u001b[A\n",
      "\n",
      "  0%|          | 67/100000 [00:00<01:01, 1634.19it/s]\n",
      "\n",
      "  0%|          | 0/100000 [00:00<?, ?it/s]\u001b[A\n",
      "  0%|          | 357/100000 [00:00<00:55, 1804.82it/s]\u001b[A\n",
      "\n",
      "  0%|          | 0/100000 [00:00<?, ?it/s]\u001b[A\n",
      "  0%|          | 183/100000 [00:00<00:54, 1822.70it/s]\u001b[A\n",
      "  0%|          | 401/100000 [00:00<00:58, 1716.94it/s]\u001b[A\n",
      "\n",
      "  0%|          | 0/100000 [00:00<?, ?it/s]\u001b[A\n",
      "  0%|          | 201/100000 [00:00<00:55, 1808.48it/s]\u001b[A\n",
      " 15%|█▌        | 15020/100000 [04:11<24:21, 58.16it/s] "
     ]
    },
    {
     "name": "stdout",
     "output_type": "stream",
     "text": [
      "---------------------------------------\n",
      "Evaluation over 5 episodes: 0.000\n",
      "---------------------------------------\n",
      "====== Total T: 15006 Episode Num: 452 Episode_Length T: 9 Return: 0.000 ======\n",
      "====== Total T: 15031 Episode Num: 453 Episode_Length T: 25 Return: 0.000 ======\n"
     ]
    },
    {
     "name": "stderr",
     "output_type": "stream",
     "text": [
      " 15%|█▌        | 15124/100000 [04:11<09:44, 145.22it/s]"
     ]
    },
    {
     "name": "stdout",
     "output_type": "stream",
     "text": [
      "====== Total T: 15098 Episode Num: 454 Episode_Length T: 67 Return: 0.000 ======\n",
      "====== Total T: 15125 Episode Num: 455 Episode_Length T: 27 Return: 0.000 ======\n"
     ]
    },
    {
     "name": "stderr",
     "output_type": "stream",
     "text": [
      " 15%|█▌        | 15203/100000 [04:11<06:41, 211.25it/s]"
     ]
    },
    {
     "name": "stdout",
     "output_type": "stream",
     "text": [
      "====== Total T: 15176 Episode Num: 456 Episode_Length T: 51 Return: 0.000 ======\n",
      "====== Total T: 15199 Episode Num: 457 Episode_Length T: 23 Return: 0.000 ======\n"
     ]
    },
    {
     "name": "stderr",
     "output_type": "stream",
     "text": [
      " 15%|█▌        | 15311/100000 [04:12<05:38, 249.90it/s]"
     ]
    },
    {
     "name": "stdout",
     "output_type": "stream",
     "text": [
      "====== Total T: 15278 Episode Num: 458 Episode_Length T: 79 Return: 1.000 ======\n"
     ]
    },
    {
     "name": "stderr",
     "output_type": "stream",
     "text": [
      " 15%|█▌        | 15390/100000 [04:12<05:31, 255.47it/s]"
     ]
    },
    {
     "name": "stdout",
     "output_type": "stream",
     "text": [
      "====== Total T: 15343 Episode Num: 459 Episode_Length T: 65 Return: 0.000 ======\n",
      "====== Total T: 15361 Episode Num: 460 Episode_Length T: 18 Return: 0.000 ======\n"
     ]
    },
    {
     "name": "stderr",
     "output_type": "stream",
     "text": [
      " 16%|█▌        | 15525/100000 [04:13<05:26, 258.93it/s]"
     ]
    },
    {
     "name": "stdout",
     "output_type": "stream",
     "text": [
      "====== Total T: 15496 Episode Num: 461 Episode_Length T: 135 Return: 0.000 ======\n",
      "====== Total T: 15542 Episode Num: 462 Episode_Length T: 46 Return: 0.000 ======\n"
     ]
    },
    {
     "name": "stderr",
     "output_type": "stream",
     "text": [
      " 16%|█▌        | 15606/100000 [04:13<05:25, 259.14it/s]"
     ]
    },
    {
     "name": "stdout",
     "output_type": "stream",
     "text": [
      "====== Total T: 15558 Episode Num: 463 Episode_Length T: 16 Return: 0.000 ======\n"
     ]
    },
    {
     "name": "stderr",
     "output_type": "stream",
     "text": [
      " 16%|█▌        | 15632/100000 [04:13<05:56, 236.98it/s]"
     ]
    },
    {
     "name": "stdout",
     "output_type": "stream",
     "text": [
      "====== Total T: 15610 Episode Num: 464 Episode_Length T: 52 Return: 0.000 ======\n",
      "====== Total T: 15614 Episode Num: 465 Episode_Length T: 4 Return: 0.000 ======\n",
      "====== Total T: 15638 Episode Num: 466 Episode_Length T: 24 Return: 0.000 ======\n"
     ]
    },
    {
     "name": "stderr",
     "output_type": "stream",
     "text": [
      " 16%|█▌        | 15763/100000 [04:14<07:13, 194.49it/s]"
     ]
    },
    {
     "name": "stdout",
     "output_type": "stream",
     "text": [
      "====== Total T: 15730 Episode Num: 467 Episode_Length T: 92 Return: 0.000 ======\n"
     ]
    },
    {
     "name": "stderr",
     "output_type": "stream",
     "text": [
      " 16%|█▌        | 15894/100000 [04:14<06:43, 208.61it/s]"
     ]
    },
    {
     "name": "stdout",
     "output_type": "stream",
     "text": [
      "====== Total T: 15871 Episode Num: 468 Episode_Length T: 141 Return: 0.000 ======\n",
      "====== Total T: 15882 Episode Num: 469 Episode_Length T: 11 Return: 0.000 ======\n",
      "====== Total T: 15900 Episode Num: 470 Episode_Length T: 18 Return: 0.000 ======\n"
     ]
    },
    {
     "name": "stderr",
     "output_type": "stream",
     "text": [
      " 16%|█▌        | 15961/100000 [04:15<06:41, 209.33it/s]"
     ]
    },
    {
     "name": "stdout",
     "output_type": "stream",
     "text": [
      "====== Total T: 15918 Episode Num: 471 Episode_Length T: 18 Return: 0.000 ======\n"
     ]
    },
    {
     "name": "stderr",
     "output_type": "stream",
     "text": [
      " 16%|█▌        | 16045/100000 [04:15<07:03, 198.30it/s]"
     ]
    },
    {
     "name": "stdout",
     "output_type": "stream",
     "text": [
      "====== Total T: 16022 Episode Num: 472 Episode_Length T: 104 Return: 0.000 ======\n",
      "====== Total T: 16033 Episode Num: 473 Episode_Length T: 11 Return: 0.000 ======\n",
      "====== Total T: 16040 Episode Num: 474 Episode_Length T: 7 Return: 0.000 ======\n",
      "====== Total T: 16060 Episode Num: 475 Episode_Length T: 20 Return: 0.000 ======\n"
     ]
    },
    {
     "name": "stderr",
     "output_type": "stream",
     "text": [
      " 16%|█▌        | 16144/100000 [04:16<05:51, 238.23it/s]"
     ]
    },
    {
     "name": "stdout",
     "output_type": "stream",
     "text": [
      "====== Total T: 16116 Episode Num: 476 Episode_Length T: 56 Return: 0.000 ======\n"
     ]
    },
    {
     "name": "stderr",
     "output_type": "stream",
     "text": [
      " 16%|█▌        | 16224/100000 [04:16<05:32, 252.25it/s]"
     ]
    },
    {
     "name": "stdout",
     "output_type": "stream",
     "text": [
      "====== Total T: 16181 Episode Num: 477 Episode_Length T: 65 Return: 0.000 ======\n",
      "====== Total T: 16218 Episode Num: 478 Episode_Length T: 37 Return: 0.000 ======\n"
     ]
    },
    {
     "name": "stderr",
     "output_type": "stream",
     "text": [
      " 16%|█▋        | 16276/100000 [04:16<05:30, 253.67it/s]"
     ]
    },
    {
     "name": "stdout",
     "output_type": "stream",
     "text": [
      "====== Total T: 16234 Episode Num: 479 Episode_Length T: 16 Return: 0.000 ======\n",
      "====== Total T: 16260 Episode Num: 480 Episode_Length T: 26 Return: 0.000 ======\n",
      "====== Total T: 16277 Episode Num: 481 Episode_Length T: 17 Return: 0.000 ======\n"
     ]
    },
    {
     "name": "stderr",
     "output_type": "stream",
     "text": [
      " 16%|█▋        | 16354/100000 [04:16<05:33, 250.77it/s]"
     ]
    },
    {
     "name": "stdout",
     "output_type": "stream",
     "text": [
      "====== Total T: 16303 Episode Num: 482 Episode_Length T: 26 Return: 0.000 ======\n",
      "====== Total T: 16349 Episode Num: 483 Episode_Length T: 46 Return: 0.000 ======\n"
     ]
    },
    {
     "name": "stderr",
     "output_type": "stream",
     "text": [
      " 16%|█▋        | 16405/100000 [04:17<06:01, 231.25it/s]"
     ]
    },
    {
     "name": "stdout",
     "output_type": "stream",
     "text": [
      "====== Total T: 16376 Episode Num: 484 Episode_Length T: 27 Return: 0.000 ======\n",
      "====== Total T: 16392 Episode Num: 485 Episode_Length T: 16 Return: 0.000 ======\n"
     ]
    },
    {
     "name": "stderr",
     "output_type": "stream",
     "text": [
      " 16%|█▋        | 16495/100000 [04:17<06:52, 202.54it/s]"
     ]
    },
    {
     "name": "stdout",
     "output_type": "stream",
     "text": [
      "====== Total T: 16456 Episode Num: 486 Episode_Length T: 64 Return: 0.000 ======\n",
      "====== Total T: 16478 Episode Num: 487 Episode_Length T: 22 Return: 0.000 ======\n"
     ]
    },
    {
     "name": "stderr",
     "output_type": "stream",
     "text": [
      " 17%|█▋        | 16546/100000 [04:17<06:05, 228.32it/s]"
     ]
    },
    {
     "name": "stdout",
     "output_type": "stream",
     "text": [
      "====== Total T: 16496 Episode Num: 488 Episode_Length T: 18 Return: 0.000 ======\n"
     ]
    },
    {
     "name": "stderr",
     "output_type": "stream",
     "text": [
      " 17%|█▋        | 16595/100000 [04:18<06:15, 222.01it/s]"
     ]
    },
    {
     "name": "stdout",
     "output_type": "stream",
     "text": [
      "====== Total T: 16568 Episode Num: 489 Episode_Length T: 72 Return: 0.000 ======\n",
      "====== Total T: 16583 Episode Num: 490 Episode_Length T: 15 Return: 0.000 ======\n"
     ]
    },
    {
     "name": "stderr",
     "output_type": "stream",
     "text": [
      " 17%|█▋        | 16663/100000 [04:18<06:39, 208.36it/s]"
     ]
    },
    {
     "name": "stdout",
     "output_type": "stream",
     "text": [
      "====== Total T: 16630 Episode Num: 491 Episode_Length T: 47 Return: 0.000 ======\n"
     ]
    },
    {
     "name": "stderr",
     "output_type": "stream",
     "text": [
      " 17%|█▋        | 16705/100000 [04:18<07:06, 195.18it/s]"
     ]
    },
    {
     "name": "stdout",
     "output_type": "stream",
     "text": [
      "====== Total T: 16678 Episode Num: 492 Episode_Length T: 48 Return: 1.000 ======\n"
     ]
    },
    {
     "name": "stderr",
     "output_type": "stream",
     "text": [
      " 17%|█▋        | 16745/100000 [04:18<07:11, 193.02it/s]"
     ]
    },
    {
     "name": "stdout",
     "output_type": "stream",
     "text": [
      "====== Total T: 16723 Episode Num: 493 Episode_Length T: 45 Return: 0.000 ======\n",
      "====== Total T: 16757 Episode Num: 494 Episode_Length T: 34 Return: 0.000 ======\n"
     ]
    },
    {
     "name": "stderr",
     "output_type": "stream",
     "text": [
      " 17%|█▋        | 16804/100000 [04:19<07:22, 187.85it/s]"
     ]
    },
    {
     "name": "stdout",
     "output_type": "stream",
     "text": [
      "====== Total T: 16784 Episode Num: 495 Episode_Length T: 27 Return: 0.000 ======\n",
      "====== Total T: 16806 Episode Num: 496 Episode_Length T: 22 Return: 1.000 ======\n"
     ]
    },
    {
     "name": "stderr",
     "output_type": "stream",
     "text": [
      " 17%|█▋        | 16919/100000 [04:19<07:21, 188.06it/s]"
     ]
    },
    {
     "name": "stdout",
     "output_type": "stream",
     "text": [
      "====== Total T: 16889 Episode Num: 497 Episode_Length T: 83 Return: 0.000 ======\n"
     ]
    },
    {
     "name": "stderr",
     "output_type": "stream",
     "text": [
      " 17%|█▋        | 17015/100000 [04:20<07:25, 186.16it/s]"
     ]
    },
    {
     "name": "stdout",
     "output_type": "stream",
     "text": [
      "====== Total T: 16987 Episode Num: 498 Episode_Length T: 98 Return: 1.000 ======\n",
      "====== Total T: 16994 Episode Num: 499 Episode_Length T: 7 Return: 0.000 ======\n",
      "====== Total T: 17016 Episode Num: 500 Episode_Length T: 22 Return: 0.000 ======\n",
      "====== Total T: 17019 Episode Num: 501 Episode_Length T: 3 Return: 0.000 ======\n"
     ]
    },
    {
     "name": "stderr",
     "output_type": "stream",
     "text": [
      " 17%|█▋        | 17073/100000 [04:20<07:20, 188.15it/s]"
     ]
    },
    {
     "name": "stdout",
     "output_type": "stream",
     "text": [
      "====== Total T: 17040 Episode Num: 502 Episode_Length T: 21 Return: 0.000 ======\n"
     ]
    },
    {
     "name": "stderr",
     "output_type": "stream",
     "text": [
      " 17%|█▋        | 17111/100000 [04:20<07:33, 182.86it/s]"
     ]
    },
    {
     "name": "stdout",
     "output_type": "stream",
     "text": [
      "====== Total T: 17083 Episode Num: 503 Episode_Length T: 43 Return: 0.000 ======\n"
     ]
    },
    {
     "name": "stderr",
     "output_type": "stream",
     "text": [
      " 17%|█▋        | 17150/100000 [04:21<07:21, 187.68it/s]"
     ]
    },
    {
     "name": "stdout",
     "output_type": "stream",
     "text": [
      "====== Total T: 17122 Episode Num: 504 Episode_Length T: 39 Return: 0.000 ======\n",
      "====== Total T: 17148 Episode Num: 505 Episode_Length T: 26 Return: 0.000 ======\n",
      "====== Total T: 17150 Episode Num: 506 Episode_Length T: 2 Return: 0.000 ======\n",
      "====== Total T: 17161 Episode Num: 507 Episode_Length T: 11 Return: 0.000 ======"
     ]
    },
    {
     "name": "stderr",
     "output_type": "stream",
     "text": [
      " 17%|█▋        | 17190/100000 [04:21<07:16, 189.85it/s]"
     ]
    },
    {
     "name": "stdout",
     "output_type": "stream",
     "text": [
      "\n",
      "====== Total T: 17182 Episode Num: 508 Episode_Length T: 21 Return: 0.000 ======\n"
     ]
    },
    {
     "name": "stderr",
     "output_type": "stream",
     "text": [
      " 17%|█▋        | 17269/100000 [04:21<07:15, 189.82it/s]"
     ]
    },
    {
     "name": "stdout",
     "output_type": "stream",
     "text": [
      "====== Total T: 17235 Episode Num: 509 Episode_Length T: 53 Return: 0.000 ======\n",
      "====== Total T: 17249 Episode Num: 510 Episode_Length T: 14 Return: 0.000 ======\n"
     ]
    },
    {
     "name": "stderr",
     "output_type": "stream",
     "text": [
      " 17%|█▋        | 17465/100000 [04:22<07:19, 187.68it/s]"
     ]
    },
    {
     "name": "stdout",
     "output_type": "stream",
     "text": [
      "====== Total T: 17443 Episode Num: 511 Episode_Length T: 194 Return: 3.000 ======\n"
     ]
    },
    {
     "name": "stderr",
     "output_type": "stream",
     "text": [
      " 18%|█▊        | 17566/100000 [04:23<07:17, 188.36it/s]"
     ]
    },
    {
     "name": "stdout",
     "output_type": "stream",
     "text": [
      "====== Total T: 17534 Episode Num: 512 Episode_Length T: 91 Return: 0.000 ======\n"
     ]
    },
    {
     "name": "stderr",
     "output_type": "stream",
     "text": [
      " 18%|█▊        | 17626/100000 [04:23<07:18, 187.69it/s]"
     ]
    },
    {
     "name": "stdout",
     "output_type": "stream",
     "text": [
      "====== Total T: 17601 Episode Num: 513 Episode_Length T: 67 Return: 0.000 ======\n"
     ]
    },
    {
     "name": "stderr",
     "output_type": "stream",
     "text": [
      " 18%|█▊        | 17723/100000 [04:24<07:13, 189.60it/s]"
     ]
    },
    {
     "name": "stdout",
     "output_type": "stream",
     "text": [
      "====== Total T: 17698 Episode Num: 514 Episode_Length T: 97 Return: 0.000 ======\n"
     ]
    },
    {
     "name": "stderr",
     "output_type": "stream",
     "text": [
      " 18%|█▊        | 17877/100000 [04:24<07:13, 189.35it/s]"
     ]
    },
    {
     "name": "stdout",
     "output_type": "stream",
     "text": [
      "====== Total T: 17846 Episode Num: 515 Episode_Length T: 148 Return: 0.000 ======\n",
      "====== Total T: 17884 Episode Num: 516 Episode_Length T: 38 Return: 0.000 ======\n"
     ]
    },
    {
     "name": "stderr",
     "output_type": "stream",
     "text": [
      " 18%|█▊        | 17935/100000 [04:25<07:15, 188.55it/s]"
     ]
    },
    {
     "name": "stdout",
     "output_type": "stream",
     "text": [
      "====== Total T: 17901 Episode Num: 517 Episode_Length T: 17 Return: 0.000 ======\n",
      "====== Total T: 17922 Episode Num: 518 Episode_Length T: 21 Return: 0.000 ======\n",
      "====== Total T: 17930 Episode Num: 519 Episode_Length T: 8 Return: 0.000 ======\n"
     ]
    },
    {
     "name": "stderr",
     "output_type": "stream",
     "text": [
      " 18%|█▊        | 17975/100000 [04:25<07:20, 186.07it/s]"
     ]
    },
    {
     "name": "stdout",
     "output_type": "stream",
     "text": [
      "====== Total T: 17956 Episode Num: 520 Episode_Length T: 26 Return: 0.000 ======\n",
      "====== Total T: 17970 Episode Num: 521 Episode_Length T: 14 Return: 0.000 ======\n"
     ]
    },
    {
     "name": "stderr",
     "output_type": "stream",
     "text": [
      " 18%|█▊        | 18054/100000 [04:25<07:10, 190.35it/s]"
     ]
    },
    {
     "name": "stdout",
     "output_type": "stream",
     "text": [
      "====== Total T: 18024 Episode Num: 522 Episode_Length T: 54 Return: 0.000 ======\n",
      "====== Total T: 18052 Episode Num: 523 Episode_Length T: 28 Return: 0.000 ======\n"
     ]
    },
    {
     "name": "stderr",
     "output_type": "stream",
     "text": [
      " 18%|█▊        | 18114/100000 [04:26<07:05, 192.34it/s]"
     ]
    },
    {
     "name": "stdout",
     "output_type": "stream",
     "text": [
      "====== Total T: 18096 Episode Num: 524 Episode_Length T: 44 Return: 0.000 ======\n",
      "====== Total T: 18101 Episode Num: 525 Episode_Length T: 5 Return: 0.000 ======\n",
      "====== Total T: 18122 Episode Num: 526 Episode_Length T: 21 Return: 0.000 ======\n"
     ]
    },
    {
     "name": "stderr",
     "output_type": "stream",
     "text": [
      " 18%|█▊        | 18176/100000 [04:26<06:54, 197.58it/s]"
     ]
    },
    {
     "name": "stdout",
     "output_type": "stream",
     "text": [
      "====== Total T: 18140 Episode Num: 527 Episode_Length T: 18 Return: 0.000 ======\n"
     ]
    },
    {
     "name": "stderr",
     "output_type": "stream",
     "text": [
      " 18%|█▊        | 18240/100000 [04:26<06:38, 204.93it/s]"
     ]
    },
    {
     "name": "stdout",
     "output_type": "stream",
     "text": [
      "====== Total T: 18205 Episode Num: 528 Episode_Length T: 65 Return: 0.000 ======\n",
      "====== Total T: 18247 Episode Num: 529 Episode_Length T: 42 Return: 0.000 ======\n"
     ]
    },
    {
     "name": "stderr",
     "output_type": "stream",
     "text": [
      " 18%|█▊        | 18307/100000 [04:27<06:29, 209.63it/s]"
     ]
    },
    {
     "name": "stdout",
     "output_type": "stream",
     "text": [
      "====== Total T: 18279 Episode Num: 530 Episode_Length T: 32 Return: 0.000 ======\n",
      "====== Total T: 18321 Episode Num: 531 Episode_Length T: 42 Return: 0.000 ======\n"
     ]
    },
    {
     "name": "stderr",
     "output_type": "stream",
     "text": [
      " 18%|█▊        | 18407/100000 [04:27<06:04, 223.70it/s]"
     ]
    },
    {
     "name": "stdout",
     "output_type": "stream",
     "text": [
      "====== Total T: 18389 Episode Num: 532 Episode_Length T: 68 Return: 0.000 ======\n",
      "====== Total T: 18412 Episode Num: 533 Episode_Length T: 23 Return: 0.000 ======\n",
      "====== Total T: 18423 Episode Num: 534 Episode_Length T: 11 Return: 0.000 ======\n"
     ]
    },
    {
     "name": "stderr",
     "output_type": "stream",
     "text": [
      " 19%|█▊        | 18538/100000 [04:28<06:51, 197.95it/s]"
     ]
    },
    {
     "name": "stdout",
     "output_type": "stream",
     "text": [
      "====== Total T: 18507 Episode Num: 535 Episode_Length T: 84 Return: 1.000 ======\n",
      "====== Total T: 18523 Episode Num: 536 Episode_Length T: 16 Return: 0.000 ======\n",
      "====== Total T: 18533 Episode Num: 537 Episode_Length T: 10 Return: 0.000 ======\n"
     ]
    },
    {
     "name": "stderr",
     "output_type": "stream",
     "text": [
      " 19%|█▊        | 18599/100000 [04:28<06:53, 196.77it/s]"
     ]
    },
    {
     "name": "stdout",
     "output_type": "stream",
     "text": [
      "====== Total T: 18570 Episode Num: 538 Episode_Length T: 37 Return: 0.000 ======\n",
      "====== Total T: 18593 Episode Num: 539 Episode_Length T: 23 Return: 0.000 ======\n"
     ]
    },
    {
     "name": "stderr",
     "output_type": "stream",
     "text": [
      " 19%|█▊        | 18680/100000 [04:28<05:36, 241.54it/s]"
     ]
    },
    {
     "name": "stdout",
     "output_type": "stream",
     "text": [
      "====== Total T: 18636 Episode Num: 540 Episode_Length T: 43 Return: 0.000 ======\n",
      "====== Total T: 18650 Episode Num: 541 Episode_Length T: 14 Return: 0.000 ======\n"
     ]
    },
    {
     "name": "stderr",
     "output_type": "stream",
     "text": [
      " 19%|█▊        | 18735/100000 [04:28<05:19, 254.04it/s]"
     ]
    },
    {
     "name": "stdout",
     "output_type": "stream",
     "text": [
      "====== Total T: 18703 Episode Num: 542 Episode_Length T: 53 Return: 0.000 ======\n",
      "====== Total T: 18731 Episode Num: 543 Episode_Length T: 28 Return: 0.000 ======\n"
     ]
    },
    {
     "name": "stderr",
     "output_type": "stream",
     "text": [
      " 19%|█▉        | 18789/100000 [04:29<05:50, 231.99it/s]"
     ]
    },
    {
     "name": "stdout",
     "output_type": "stream",
     "text": [
      "====== Total T: 18763 Episode Num: 544 Episode_Length T: 32 Return: 0.000 ======\n",
      "====== Total T: 18801 Episode Num: 545 Episode_Length T: 38 Return: 0.000 ======\n"
     ]
    },
    {
     "name": "stderr",
     "output_type": "stream",
     "text": [
      " 19%|█▉        | 18903/100000 [04:29<06:48, 198.62it/s]"
     ]
    },
    {
     "name": "stdout",
     "output_type": "stream",
     "text": [
      "====== Total T: 18883 Episode Num: 546 Episode_Length T: 82 Return: 0.000 ======\n"
     ]
    },
    {
     "name": "stderr",
     "output_type": "stream",
     "text": [
      " 19%|█▉        | 19004/100000 [04:30<06:25, 210.15it/s]"
     ]
    },
    {
     "name": "stdout",
     "output_type": "stream",
     "text": [
      "====== Total T: 18976 Episode Num: 547 Episode_Length T: 93 Return: 0.000 ======\n"
     ]
    },
    {
     "name": "stderr",
     "output_type": "stream",
     "text": [
      " 19%|█▉        | 19095/100000 [04:30<06:12, 217.20it/s]"
     ]
    },
    {
     "name": "stdout",
     "output_type": "stream",
     "text": [
      "====== Total T: 19061 Episode Num: 548 Episode_Length T: 85 Return: 0.000 ======\n",
      "====== Total T: 19073 Episode Num: 549 Episode_Length T: 12 Return: 0.000 ======\n",
      "====== Total T: 19075 Episode Num: 550 Episode_Length T: 2 Return: 0.000 ======\n"
     ]
    },
    {
     "name": "stderr",
     "output_type": "stream",
     "text": [
      " 19%|█▉        | 19175/100000 [04:31<05:53, 228.50it/s]"
     ]
    },
    {
     "name": "stdout",
     "output_type": "stream",
     "text": [
      "====== Total T: 19136 Episode Num: 551 Episode_Length T: 61 Return: 0.000 ======\n",
      "====== Total T: 19158 Episode Num: 552 Episode_Length T: 22 Return: 0.000 ======\n"
     ]
    },
    {
     "name": "stderr",
     "output_type": "stream",
     "text": [
      " 19%|█▉        | 19199/100000 [04:31<06:00, 224.29it/s]"
     ]
    },
    {
     "name": "stdout",
     "output_type": "stream",
     "text": [
      "====== Total T: 19180 Episode Num: 553 Episode_Length T: 22 Return: 0.000 ======\n"
     ]
    },
    {
     "name": "stderr",
     "output_type": "stream",
     "text": [
      " 19%|█▉        | 19333/100000 [04:31<06:08, 219.20it/s]"
     ]
    },
    {
     "name": "stdout",
     "output_type": "stream",
     "text": [
      "====== Total T: 19304 Episode Num: 554 Episode_Length T: 124 Return: 0.000 ======\n"
     ]
    },
    {
     "name": "stderr",
     "output_type": "stream",
     "text": [
      " 19%|█▉        | 19414/100000 [04:32<05:24, 248.64it/s]"
     ]
    },
    {
     "name": "stdout",
     "output_type": "stream",
     "text": [
      "====== Total T: 19366 Episode Num: 555 Episode_Length T: 62 Return: 1.000 ======\n"
     ]
    },
    {
     "name": "stderr",
     "output_type": "stream",
     "text": [
      " 19%|█▉        | 19468/100000 [04:32<05:10, 259.51it/s]"
     ]
    },
    {
     "name": "stdout",
     "output_type": "stream",
     "text": [
      "====== Total T: 19438 Episode Num: 556 Episode_Length T: 72 Return: 0.000 ======\n",
      "====== Total T: 19464 Episode Num: 557 Episode_Length T: 26 Return: 0.000 ======\n",
      "====== Total T: 19481 Episode Num: 558 Episode_Length T: 17 Return: 0.000 ======\n",
      "====== Total T: 19489 Episode Num: 559 Episode_Length T: 8 Return: 0.000 ======\n"
     ]
    },
    {
     "name": "stderr",
     "output_type": "stream",
     "text": [
      " 20%|█▉        | 19549/100000 [04:32<05:09, 260.22it/s]"
     ]
    },
    {
     "name": "stdout",
     "output_type": "stream",
     "text": [
      "====== Total T: 19499 Episode Num: 560 Episode_Length T: 10 Return: 0.000 ======\n",
      "====== Total T: 19502 Episode Num: 561 Episode_Length T: 3 Return: 0.000 ======\n",
      "====== Total T: 19545 Episode Num: 562 Episode_Length T: 43 Return: 0.000 ======\n"
     ]
    },
    {
     "name": "stderr",
     "output_type": "stream",
     "text": [
      " 20%|█▉        | 19623/100000 [04:32<06:15, 213.78it/s]"
     ]
    },
    {
     "name": "stdout",
     "output_type": "stream",
     "text": [
      "====== Total T: 19601 Episode Num: 563 Episode_Length T: 56 Return: 0.000 ======\n",
      "====== Total T: 19610 Episode Num: 564 Episode_Length T: 9 Return: 0.000 ======\n",
      "====== Total T: 19619 Episode Num: 565 Episode_Length T: 9 Return: 0.000 ======\n"
     ]
    },
    {
     "name": "stderr",
     "output_type": "stream",
     "text": [
      " 20%|█▉        | 19666/100000 [04:33<06:28, 206.57it/s]"
     ]
    },
    {
     "name": "stdout",
     "output_type": "stream",
     "text": [
      "====== Total T: 19641 Episode Num: 566 Episode_Length T: 22 Return: 0.000 ======\n",
      "====== Total T: 19667 Episode Num: 567 Episode_Length T: 26 Return: 0.000 ======\n"
     ]
    },
    {
     "name": "stderr",
     "output_type": "stream",
     "text": [
      " 20%|█▉        | 19729/100000 [04:33<06:50, 195.76it/s]"
     ]
    },
    {
     "name": "stdout",
     "output_type": "stream",
     "text": [
      "====== Total T: 19705 Episode Num: 568 Episode_Length T: 38 Return: 0.000 ======\n"
     ]
    },
    {
     "name": "stderr",
     "output_type": "stream",
     "text": [
      " 20%|█▉        | 19775/100000 [04:33<06:16, 213.06it/s]"
     ]
    },
    {
     "name": "stdout",
     "output_type": "stream",
     "text": [
      "====== Total T: 19745 Episode Num: 569 Episode_Length T: 40 Return: 0.000 ======\n"
     ]
    },
    {
     "name": "stderr",
     "output_type": "stream",
     "text": [
      " 20%|█▉        | 19839/100000 [04:34<06:42, 199.23it/s]"
     ]
    },
    {
     "name": "stdout",
     "output_type": "stream",
     "text": [
      "====== Total T: 19811 Episode Num: 570 Episode_Length T: 66 Return: 0.000 ======\n"
     ]
    },
    {
     "name": "stderr",
     "output_type": "stream",
     "text": [
      " 20%|█▉        | 19906/100000 [04:34<06:15, 213.09it/s]"
     ]
    },
    {
     "name": "stdout",
     "output_type": "stream",
     "text": [
      "====== Total T: 19878 Episode Num: 571 Episode_Length T: 67 Return: 0.000 ======\n",
      "====== Total T: 19900 Episode Num: 572 Episode_Length T: 22 Return: 0.000 ======\n",
      "====== Total T: 19911 Episode Num: 573 Episode_Length T: 11 Return: 0.000 ======\n"
     ]
    },
    {
     "name": "stderr",
     "output_type": "stream",
     "text": [
      " 20%|█▉        | 19971/100000 [04:34<06:29, 205.48it/s]"
     ]
    },
    {
     "name": "stdout",
     "output_type": "stream",
     "text": [
      "====== Total T: 19947 Episode Num: 574 Episode_Length T: 36 Return: 0.000 ======\n"
     ]
    },
    {
     "name": "stderr",
     "output_type": "stream",
     "text": [
      " 20%|█▉        | 19992/100000 [04:34<06:39, 200.11it/s]"
     ]
    },
    {
     "name": "stdout",
     "output_type": "stream",
     "text": [
      "====== Total T: 19999 Episode Num: 575 Episode_Length T: 52 Return: 0.000 ======\n"
     ]
    },
    {
     "name": "stderr",
     "output_type": "stream",
     "text": [
      "\n",
      "  0%|          | 0/100000 [00:00<?, ?it/s]\u001b[A\n",
      "  0%|          | 191/100000 [00:00<00:52, 1903.11it/s]\u001b[A\n",
      "  0%|          | 382/100000 [00:00<00:57, 1738.54it/s]\u001b[A\n",
      "  1%|          | 562/100000 [00:00<00:56, 1762.06it/s]\u001b[A\n",
      "  1%|          | 742/100000 [00:00<00:55, 1775.32it/s]\u001b[A\n",
      "  1%|          | 923/100000 [00:00<00:55, 1785.78it/s]\u001b[A\n",
      "  1%|          | 1102/100000 [00:00<00:56, 1762.56it/s]\u001b[A\n",
      "  1%|▏         | 1301/100000 [00:00<00:56, 1740.44it/s]\u001b[A\n",
      "\n",
      "  0%|          | 0/100000 [00:00<?, ?it/s]\u001b[A\n",
      "  0%|          | 314/100000 [00:00<00:57, 1722.64it/s]\u001b[A\n",
      "\n",
      "  0%|          | 0/100000 [00:00<?, ?it/s]\u001b[A\n",
      "  0%|          | 174/100000 [00:00<00:57, 1739.09it/s]\u001b[A\n",
      "  0%|          | 498/100000 [00:00<00:57, 1740.20it/s]\u001b[A\n",
      "\n",
      "  0%|          | 0/100000 [00:00<?, ?it/s]\u001b[A\n",
      "  0%|          | 181/100000 [00:00<00:55, 1803.25it/s]\u001b[A\n",
      "  0%|          | 362/100000 [00:00<00:57, 1719.85it/s]\u001b[A\n",
      "  1%|          | 535/100000 [00:00<00:58, 1709.49it/s]\u001b[A\n",
      "  1%|          | 719/100000 [00:00<00:56, 1759.53it/s]\u001b[A\n",
      "  1%|          | 896/100000 [00:00<00:56, 1761.01it/s]\u001b[A\n",
      "  1%|          | 1221/100000 [00:00<00:56, 1744.17it/s]\u001b[A\n",
      "\n",
      "  0%|          | 0/100000 [00:00<?, ?it/s]\u001b[A\n",
      "  0%|          | 238/100000 [00:00<01:03, 1578.43it/s]\u001b[A\n",
      " 20%|██        | 20032/100000 [04:37<35:13, 37.84it/s] "
     ]
    },
    {
     "name": "stdout",
     "output_type": "stream",
     "text": [
      "---------------------------------------\n",
      "Evaluation over 5 episodes: 0.000\n",
      "---------------------------------------\n"
     ]
    },
    {
     "name": "stderr",
     "output_type": "stream",
     "text": [
      " 20%|██        | 20072/100000 [04:37<21:01, 63.35it/s]"
     ]
    },
    {
     "name": "stdout",
     "output_type": "stream",
     "text": [
      "====== Total T: 20044 Episode Num: 576 Episode_Length T: 45 Return: 0.000 ======\n"
     ]
    },
    {
     "name": "stderr",
     "output_type": "stream",
     "text": [
      " 20%|██        | 20110/100000 [04:37<14:11, 93.85it/s]"
     ]
    },
    {
     "name": "stdout",
     "output_type": "stream",
     "text": [
      "====== Total T: 20087 Episode Num: 577 Episode_Length T: 43 Return: 0.000 ======\n"
     ]
    },
    {
     "name": "stderr",
     "output_type": "stream",
     "text": [
      " 20%|██        | 20148/100000 [04:37<10:37, 125.35it/s]"
     ]
    },
    {
     "name": "stdout",
     "output_type": "stream",
     "text": [
      "====== Total T: 20128 Episode Num: 578 Episode_Length T: 41 Return: 0.000 ======\n",
      "====== Total T: 20146 Episode Num: 579 Episode_Length T: 18 Return: 0.000 ======\n"
     ]
    },
    {
     "name": "stderr",
     "output_type": "stream",
     "text": [
      " 20%|██        | 20208/100000 [04:38<08:11, 162.37it/s]"
     ]
    },
    {
     "name": "stdout",
     "output_type": "stream",
     "text": [
      "====== Total T: 20186 Episode Num: 580 Episode_Length T: 40 Return: 0.000 ======\n"
     ]
    },
    {
     "name": "stderr",
     "output_type": "stream",
     "text": [
      " 20%|██        | 20305/100000 [04:38<07:17, 182.21it/s]"
     ]
    },
    {
     "name": "stdout",
     "output_type": "stream",
     "text": [
      "====== Total T: 20279 Episode Num: 581 Episode_Length T: 93 Return: 2.000 ======\n"
     ]
    },
    {
     "name": "stderr",
     "output_type": "stream",
     "text": [
      " 20%|██        | 20382/100000 [04:38<07:08, 185.85it/s]"
     ]
    },
    {
     "name": "stdout",
     "output_type": "stream",
     "text": [
      "====== Total T: 20355 Episode Num: 582 Episode_Length T: 76 Return: 0.000 ======\n"
     ]
    },
    {
     "name": "stderr",
     "output_type": "stream",
     "text": [
      " 21%|██        | 20518/100000 [04:39<06:59, 189.40it/s]"
     ]
    },
    {
     "name": "stdout",
     "output_type": "stream",
     "text": [
      "====== Total T: 20487 Episode Num: 583 Episode_Length T: 132 Return: 1.000 ======\n",
      "====== Total T: 20509 Episode Num: 584 Episode_Length T: 22 Return: 0.000 ======\n"
     ]
    },
    {
     "name": "stderr",
     "output_type": "stream",
     "text": [
      " 21%|██        | 20557/100000 [04:39<07:01, 188.43it/s]"
     ]
    },
    {
     "name": "stdout",
     "output_type": "stream",
     "text": [
      "====== Total T: 20528 Episode Num: 585 Episode_Length T: 19 Return: 0.000 ======\n",
      "====== Total T: 20541 Episode Num: 586 Episode_Length T: 13 Return: 0.000 ======\n"
     ]
    },
    {
     "name": "stderr",
     "output_type": "stream",
     "text": [
      " 21%|██        | 20691/100000 [04:40<07:01, 187.94it/s]"
     ]
    },
    {
     "name": "stdout",
     "output_type": "stream",
     "text": [
      "====== Total T: 20664 Episode Num: 587 Episode_Length T: 123 Return: 1.000 ======\n",
      "====== Total T: 20676 Episode Num: 588 Episode_Length T: 12 Return: 0.000 ======\n",
      "====== Total T: 20701 Episode Num: 589 Episode_Length T: 25 Return: 0.000 ======\n"
     ]
    },
    {
     "name": "stderr",
     "output_type": "stream",
     "text": [
      " 21%|██        | 20750/100000 [04:40<06:56, 190.29it/s]"
     ]
    },
    {
     "name": "stdout",
     "output_type": "stream",
     "text": [
      "====== Total T: 20729 Episode Num: 590 Episode_Length T: 28 Return: 0.000 ======\n",
      "====== Total T: 20756 Episode Num: 591 Episode_Length T: 27 Return: 0.000 ======\n"
     ]
    },
    {
     "name": "stderr",
     "output_type": "stream",
     "text": [
      " 21%|██        | 20810/100000 [04:41<06:58, 189.08it/s]"
     ]
    },
    {
     "name": "stdout",
     "output_type": "stream",
     "text": [
      "====== Total T: 20785 Episode Num: 592 Episode_Length T: 29 Return: 0.000 ======\n"
     ]
    },
    {
     "name": "stderr",
     "output_type": "stream",
     "text": [
      " 21%|██        | 20987/100000 [04:42<06:23, 206.03it/s]"
     ]
    },
    {
     "name": "stdout",
     "output_type": "stream",
     "text": [
      "====== Total T: 20963 Episode Num: 593 Episode_Length T: 178 Return: 1.000 ======\n",
      "====== Total T: 20973 Episode Num: 594 Episode_Length T: 10 Return: 0.000 ======\n",
      "====== Total T: 21000 Episode Num: 595 Episode_Length T: 27 Return: 0.000 ======\n"
     ]
    },
    {
     "name": "stderr",
     "output_type": "stream",
     "text": [
      " 21%|██        | 21058/100000 [04:42<06:31, 201.87it/s]"
     ]
    },
    {
     "name": "stdout",
     "output_type": "stream",
     "text": [
      "====== Total T: 21039 Episode Num: 596 Episode_Length T: 39 Return: 0.000 ======\n",
      "====== Total T: 21055 Episode Num: 597 Episode_Length T: 16 Return: 0.000 ======\n"
     ]
    },
    {
     "name": "stderr",
     "output_type": "stream",
     "text": [
      " 21%|██        | 21119/100000 [04:42<06:47, 193.74it/s]"
     ]
    },
    {
     "name": "stdout",
     "output_type": "stream",
     "text": [
      "====== Total T: 21083 Episode Num: 598 Episode_Length T: 28 Return: 0.000 ======\n"
     ]
    },
    {
     "name": "stderr",
     "output_type": "stream",
     "text": [
      " 21%|██        | 21239/100000 [04:43<06:53, 190.27it/s]"
     ]
    },
    {
     "name": "stdout",
     "output_type": "stream",
     "text": [
      "====== Total T: 21202 Episode Num: 599 Episode_Length T: 119 Return: 0.000 ======\n",
      "====== Total T: 21228 Episode Num: 600 Episode_Length T: 26 Return: 0.000 ======\n"
     ]
    },
    {
     "name": "stderr",
     "output_type": "stream",
     "text": [
      " 21%|██▏       | 21297/100000 [04:43<06:57, 188.69it/s]"
     ]
    },
    {
     "name": "stdout",
     "output_type": "stream",
     "text": [
      "====== Total T: 21268 Episode Num: 601 Episode_Length T: 40 Return: 0.000 ======\n"
     ]
    },
    {
     "name": "stderr",
     "output_type": "stream",
     "text": [
      " 22%|██▏       | 21527/100000 [04:44<07:02, 185.89it/s]"
     ]
    },
    {
     "name": "stdout",
     "output_type": "stream",
     "text": [
      "====== Total T: 21491 Episode Num: 602 Episode_Length T: 223 Return: 2.000 ======\n",
      "====== Total T: 21518 Episode Num: 603 Episode_Length T: 27 Return: 0.000 ======\n",
      "====== Total T: 21522 Episode Num: 604 Episode_Length T: 4 Return: 0.000 ======\n"
     ]
    },
    {
     "name": "stderr",
     "output_type": "stream",
     "text": [
      " 22%|██▏       | 21589/100000 [04:45<06:44, 193.83it/s]"
     ]
    },
    {
     "name": "stdout",
     "output_type": "stream",
     "text": [
      "====== Total T: 21548 Episode Num: 605 Episode_Length T: 26 Return: 0.000 ======\n"
     ]
    },
    {
     "name": "stderr",
     "output_type": "stream",
     "text": [
      " 22%|██▏       | 21649/100000 [04:45<06:49, 191.46it/s]"
     ]
    },
    {
     "name": "stdout",
     "output_type": "stream",
     "text": [
      "====== Total T: 21627 Episode Num: 606 Episode_Length T: 79 Return: 1.000 ======\n"
     ]
    },
    {
     "name": "stderr",
     "output_type": "stream",
     "text": [
      " 22%|██▏       | 21719/100000 [04:45<05:58, 218.33it/s]"
     ]
    },
    {
     "name": "stdout",
     "output_type": "stream",
     "text": [
      "====== Total T: 21678 Episode Num: 607 Episode_Length T: 51 Return: 0.000 ======\n"
     ]
    },
    {
     "name": "stderr",
     "output_type": "stream",
     "text": [
      " 22%|██▏       | 21784/100000 [04:46<06:30, 200.37it/s]"
     ]
    },
    {
     "name": "stdout",
     "output_type": "stream",
     "text": [
      "====== Total T: 21762 Episode Num: 608 Episode_Length T: 84 Return: 0.000 ======\n",
      "====== Total T: 21770 Episode Num: 609 Episode_Length T: 8 Return: 0.000 ======\n",
      "====== Total T: 21783 Episode Num: 610 Episode_Length T: 13 Return: 0.000 ======\n"
     ]
    },
    {
     "name": "stderr",
     "output_type": "stream",
     "text": [
      " 22%|██▏       | 21879/100000 [04:46<05:39, 229.91it/s]"
     ]
    },
    {
     "name": "stdout",
     "output_type": "stream",
     "text": [
      "====== Total T: 21843 Episode Num: 611 Episode_Length T: 60 Return: 1.000 ======\n",
      "====== Total T: 21849 Episode Num: 612 Episode_Length T: 6 Return: 0.000 ======\n",
      "====== Total T: 21891 Episode Num: 613 Episode_Length T: 42 Return: 0.000 ======\n"
     ]
    },
    {
     "name": "stderr",
     "output_type": "stream",
     "text": [
      " 22%|██▏       | 22013/100000 [04:47<06:35, 197.13it/s]"
     ]
    },
    {
     "name": "stdout",
     "output_type": "stream",
     "text": [
      "====== Total T: 21992 Episode Num: 614 Episode_Length T: 101 Return: 1.000 ======\n",
      "====== Total T: 21998 Episode Num: 615 Episode_Length T: 6 Return: 0.000 ======\n"
     ]
    },
    {
     "name": "stderr",
     "output_type": "stream",
     "text": [
      " 22%|██▏       | 22073/100000 [04:47<06:45, 192.32it/s]"
     ]
    },
    {
     "name": "stdout",
     "output_type": "stream",
     "text": [
      "====== Total T: 22053 Episode Num: 616 Episode_Length T: 55 Return: 0.000 ======\n",
      "====== Total T: 22058 Episode Num: 617 Episode_Length T: 5 Return: 0.000 ======\n",
      "====== Total T: 22076 Episode Num: 618 Episode_Length T: 18 Return: 0.000 ======\n"
     ]
    },
    {
     "name": "stderr",
     "output_type": "stream",
     "text": [
      " 22%|██▏       | 22133/100000 [04:47<06:46, 191.48it/s]"
     ]
    },
    {
     "name": "stdout",
     "output_type": "stream",
     "text": [
      "====== Total T: 22095 Episode Num: 619 Episode_Length T: 19 Return: 0.000 ======\n",
      "====== Total T: 22124 Episode Num: 620 Episode_Length T: 29 Return: 0.000 ======\n",
      "====== Total T: 22129 Episode Num: 621 Episode_Length T: 5 Return: 0.000 ======\n"
     ]
    },
    {
     "name": "stderr",
     "output_type": "stream",
     "text": [
      " 22%|██▏       | 22193/100000 [04:48<06:46, 191.23it/s]"
     ]
    },
    {
     "name": "stdout",
     "output_type": "stream",
     "text": [
      "====== Total T: 22164 Episode Num: 622 Episode_Length T: 35 Return: 0.000 ======\n"
     ]
    },
    {
     "name": "stderr",
     "output_type": "stream",
     "text": [
      " 22%|██▏       | 22251/100000 [04:48<06:54, 187.78it/s]"
     ]
    },
    {
     "name": "stdout",
     "output_type": "stream",
     "text": [
      "====== Total T: 22215 Episode Num: 623 Episode_Length T: 51 Return: 0.000 ======\n",
      "====== Total T: 22237 Episode Num: 624 Episode_Length T: 22 Return: 0.000 ======\n"
     ]
    },
    {
     "name": "stderr",
     "output_type": "stream",
     "text": [
      " 22%|██▏       | 22289/100000 [04:48<06:53, 188.07it/s]"
     ]
    },
    {
     "name": "stdout",
     "output_type": "stream",
     "text": [
      "====== Total T: 22269 Episode Num: 625 Episode_Length T: 32 Return: 0.000 ======\n",
      "====== Total T: 22282 Episode Num: 626 Episode_Length T: 13 Return: 0.000 ======\n",
      "====== Total T: 22288 Episode Num: 627 Episode_Length T: 6 Return: 0.000 ======\n",
      "====== Total T: 22303 Episode Num: 628 Episode_Length T: 15 Return: 0.000 ======\n"
     ]
    },
    {
     "name": "stderr",
     "output_type": "stream",
     "text": [
      " 22%|██▏       | 22364/100000 [04:49<07:14, 178.50it/s]"
     ]
    },
    {
     "name": "stdout",
     "output_type": "stream",
     "text": [
      "====== Total T: 22333 Episode Num: 629 Episode_Length T: 30 Return: 0.000 ======\n",
      "====== Total T: 22338 Episode Num: 630 Episode_Length T: 5 Return: 0.000 ======\n"
     ]
    },
    {
     "name": "stderr",
     "output_type": "stream",
     "text": [
      " 22%|██▏       | 22418/100000 [04:49<07:26, 173.90it/s]"
     ]
    },
    {
     "name": "stdout",
     "output_type": "stream",
     "text": [
      "====== Total T: 22389 Episode Num: 631 Episode_Length T: 51 Return: 0.000 ======\n"
     ]
    },
    {
     "name": "stderr",
     "output_type": "stream",
     "text": [
      " 22%|██▏       | 22493/100000 [04:49<07:17, 177.06it/s]"
     ]
    },
    {
     "name": "stdout",
     "output_type": "stream",
     "text": [
      "====== Total T: 22469 Episode Num: 632 Episode_Length T: 80 Return: 0.000 ======\n"
     ]
    },
    {
     "name": "stderr",
     "output_type": "stream",
     "text": [
      " 23%|██▎       | 22529/100000 [04:50<07:26, 173.57it/s]"
     ]
    },
    {
     "name": "stdout",
     "output_type": "stream",
     "text": [
      "====== Total T: 22508 Episode Num: 633 Episode_Length T: 39 Return: 0.000 ======\n"
     ]
    },
    {
     "name": "stderr",
     "output_type": "stream",
     "text": [
      " 23%|██▎       | 22591/100000 [04:50<06:35, 195.66it/s]"
     ]
    },
    {
     "name": "stdout",
     "output_type": "stream",
     "text": [
      "====== Total T: 22552 Episode Num: 634 Episode_Length T: 44 Return: 0.000 ======\n"
     ]
    },
    {
     "name": "stderr",
     "output_type": "stream",
     "text": [
      " 23%|██▎       | 22688/100000 [04:50<05:39, 227.52it/s]"
     ]
    },
    {
     "name": "stdout",
     "output_type": "stream",
     "text": [
      "====== Total T: 22659 Episode Num: 635 Episode_Length T: 107 Return: 0.000 ======\n"
     ]
    },
    {
     "name": "stderr",
     "output_type": "stream",
     "text": [
      " 23%|██▎       | 22834/100000 [04:51<07:00, 183.63it/s]"
     ]
    },
    {
     "name": "stdout",
     "output_type": "stream",
     "text": [
      "====== Total T: 22812 Episode Num: 636 Episode_Length T: 153 Return: 1.000 ======\n",
      "====== Total T: 22819 Episode Num: 637 Episode_Length T: 7 Return: 0.000 ======\n"
     ]
    },
    {
     "name": "stderr",
     "output_type": "stream",
     "text": [
      " 23%|██▎       | 22873/100000 [04:51<06:54, 186.19it/s]"
     ]
    },
    {
     "name": "stdout",
     "output_type": "stream",
     "text": [
      "====== Total T: 22849 Episode Num: 638 Episode_Length T: 30 Return: 0.000 ======\n"
     ]
    },
    {
     "name": "stderr",
     "output_type": "stream",
     "text": [
      " 23%|██▎       | 23045/100000 [04:52<06:37, 193.70it/s]"
     ]
    },
    {
     "name": "stdout",
     "output_type": "stream",
     "text": [
      "====== Total T: 23016 Episode Num: 639 Episode_Length T: 167 Return: 1.000 ======\n"
     ]
    },
    {
     "name": "stderr",
     "output_type": "stream",
     "text": [
      " 23%|██▎       | 23085/100000 [04:52<06:45, 189.73it/s]"
     ]
    },
    {
     "name": "stdout",
     "output_type": "stream",
     "text": [
      "====== Total T: 23060 Episode Num: 640 Episode_Length T: 44 Return: 0.000 ======\n",
      "====== Total T: 23081 Episode Num: 641 Episode_Length T: 21 Return: 0.000 ======\n"
     ]
    },
    {
     "name": "stderr",
     "output_type": "stream",
     "text": [
      " 23%|██▎       | 23201/100000 [04:53<06:55, 184.86it/s]"
     ]
    },
    {
     "name": "stdout",
     "output_type": "stream",
     "text": [
      "====== Total T: 23164 Episode Num: 642 Episode_Length T: 83 Return: 0.000 ======\n",
      "====== Total T: 23185 Episode Num: 643 Episode_Length T: 21 Return: 0.000 ======\n"
     ]
    },
    {
     "name": "stderr",
     "output_type": "stream",
     "text": [
      " 23%|██▎       | 23239/100000 [04:53<06:51, 186.51it/s]"
     ]
    },
    {
     "name": "stdout",
     "output_type": "stream",
     "text": [
      "====== Total T: 23203 Episode Num: 644 Episode_Length T: 18 Return: 0.000 ======\n"
     ]
    },
    {
     "name": "stderr",
     "output_type": "stream",
     "text": [
      " 23%|██▎       | 23277/100000 [04:53<06:48, 188.03it/s]"
     ]
    },
    {
     "name": "stdout",
     "output_type": "stream",
     "text": [
      "====== Total T: 23258 Episode Num: 645 Episode_Length T: 55 Return: 0.000 ======\n",
      "====== Total T: 23276 Episode Num: 646 Episode_Length T: 18 Return: 0.000 ======\n"
     ]
    },
    {
     "name": "stderr",
     "output_type": "stream",
     "text": [
      " 23%|██▎       | 23334/100000 [04:54<06:56, 184.04it/s]"
     ]
    },
    {
     "name": "stdout",
     "output_type": "stream",
     "text": [
      "====== Total T: 23315 Episode Num: 647 Episode_Length T: 39 Return: 0.000 ======\n",
      "====== Total T: 23321 Episode Num: 648 Episode_Length T: 6 Return: 0.000 ======\n",
      "====== Total T: 23332 Episode Num: 649 Episode_Length T: 11 Return: 0.000 ======\n",
      "====== Total T: 23340 Episode Num: 650 Episode_Length T: 8 Return: 0.000 ======\n"
     ]
    },
    {
     "name": "stderr",
     "output_type": "stream",
     "text": [
      " 23%|██▎       | 23429/100000 [04:54<06:53, 185.16it/s]"
     ]
    },
    {
     "name": "stdout",
     "output_type": "stream",
     "text": [
      "====== Total T: 23400 Episode Num: 651 Episode_Length T: 60 Return: 0.000 ======\n"
     ]
    },
    {
     "name": "stderr",
     "output_type": "stream",
     "text": [
      " 23%|██▎       | 23468/100000 [04:55<06:52, 185.72it/s]"
     ]
    },
    {
     "name": "stdout",
     "output_type": "stream",
     "text": [
      "====== Total T: 23440 Episode Num: 652 Episode_Length T: 40 Return: 0.000 ======\n"
     ]
    },
    {
     "name": "stderr",
     "output_type": "stream",
     "text": [
      " 24%|██▎       | 23672/100000 [04:56<05:41, 223.80it/s]"
     ]
    },
    {
     "name": "stdout",
     "output_type": "stream",
     "text": [
      "====== Total T: 23628 Episode Num: 653 Episode_Length T: 188 Return: 2.000 ======\n",
      "====== Total T: 23669 Episode Num: 654 Episode_Length T: 41 Return: 0.000 ======\n",
      "====== Total T: 23674 Episode Num: 655 Episode_Length T: 5 Return: 0.000 ======\n"
     ]
    },
    {
     "name": "stderr",
     "output_type": "stream",
     "text": [
      " 24%|██▎       | 23740/100000 [04:56<06:12, 204.65it/s]"
     ]
    },
    {
     "name": "stdout",
     "output_type": "stream",
     "text": [
      "====== Total T: 23706 Episode Num: 656 Episode_Length T: 32 Return: 0.000 ======\n"
     ]
    },
    {
     "name": "stderr",
     "output_type": "stream",
     "text": [
      " 24%|██▍       | 23781/100000 [04:56<06:26, 197.05it/s]"
     ]
    },
    {
     "name": "stdout",
     "output_type": "stream",
     "text": [
      "====== Total T: 23748 Episode Num: 657 Episode_Length T: 42 Return: 0.000 ======\n",
      "====== Total T: 23755 Episode Num: 658 Episode_Length T: 7 Return: 0.000 ======\n"
     ]
    },
    {
     "name": "stderr",
     "output_type": "stream",
     "text": [
      " 24%|██▍       | 23826/100000 [04:56<06:03, 209.75it/s]"
     ]
    },
    {
     "name": "stdout",
     "output_type": "stream",
     "text": [
      "====== Total T: 23796 Episode Num: 659 Episode_Length T: 41 Return: 0.000 ======\n"
     ]
    },
    {
     "name": "stderr",
     "output_type": "stream",
     "text": [
      " 24%|██▍       | 23969/100000 [04:57<06:49, 185.46it/s]"
     ]
    },
    {
     "name": "stdout",
     "output_type": "stream",
     "text": [
      "====== Total T: 23937 Episode Num: 660 Episode_Length T: 141 Return: 1.000 ======\n"
     ]
    },
    {
     "name": "stderr",
     "output_type": "stream",
     "text": [
      " 24%|██▍       | 24043/100000 [04:58<07:24, 170.97it/s]"
     ]
    },
    {
     "name": "stdout",
     "output_type": "stream",
     "text": [
      "====== Total T: 24012 Episode Num: 661 Episode_Length T: 75 Return: 0.000 ======\n",
      "====== Total T: 24018 Episode Num: 662 Episode_Length T: 6 Return: 0.000 ======\n",
      "====== Total T: 24046 Episode Num: 663 Episode_Length T: 28 Return: 0.000 ======\n"
     ]
    },
    {
     "name": "stderr",
     "output_type": "stream",
     "text": [
      " 24%|██▍       | 24106/100000 [04:58<06:51, 184.64it/s]"
     ]
    },
    {
     "name": "stdout",
     "output_type": "stream",
     "text": [
      "====== Total T: 24073 Episode Num: 664 Episode_Length T: 27 Return: 0.000 ======\n",
      "====== Total T: 24097 Episode Num: 665 Episode_Length T: 24 Return: 0.000 ======\n"
     ]
    },
    {
     "name": "stderr",
     "output_type": "stream",
     "text": [
      " 24%|██▍       | 24164/100000 [04:58<06:44, 187.26it/s]"
     ]
    },
    {
     "name": "stdout",
     "output_type": "stream",
     "text": [
      "====== Total T: 24129 Episode Num: 666 Episode_Length T: 32 Return: 0.000 ======\n"
     ]
    },
    {
     "name": "stderr",
     "output_type": "stream",
     "text": [
      " 24%|██▍       | 24264/100000 [04:59<06:38, 189.85it/s]"
     ]
    },
    {
     "name": "stdout",
     "output_type": "stream",
     "text": [
      "====== Total T: 24227 Episode Num: 667 Episode_Length T: 98 Return: 0.000 ======\n",
      "====== Total T: 24232 Episode Num: 668 Episode_Length T: 5 Return: 0.000 ======\n",
      "====== Total T: 24250 Episode Num: 669 Episode_Length T: 18 Return: 0.000 ======\n"
     ]
    },
    {
     "name": "stderr",
     "output_type": "stream",
     "text": [
      " 24%|██▍       | 24323/100000 [04:59<06:44, 187.15it/s]"
     ]
    },
    {
     "name": "stdout",
     "output_type": "stream",
     "text": [
      "====== Total T: 24294 Episode Num: 670 Episode_Length T: 44 Return: 1.000 ======\n",
      "====== Total T: 24316 Episode Num: 671 Episode_Length T: 22 Return: 0.000 ======\n"
     ]
    },
    {
     "name": "stderr",
     "output_type": "stream",
     "text": [
      " 24%|██▍       | 24422/100000 [05:00<06:36, 190.44it/s]"
     ]
    },
    {
     "name": "stdout",
     "output_type": "stream",
     "text": [
      "====== Total T: 24395 Episode Num: 672 Episode_Length T: 79 Return: 0.000 ======\n"
     ]
    },
    {
     "name": "stderr",
     "output_type": "stream",
     "text": [
      " 24%|██▍       | 24462/100000 [05:00<06:35, 190.87it/s]"
     ]
    },
    {
     "name": "stdout",
     "output_type": "stream",
     "text": [
      "====== Total T: 24442 Episode Num: 673 Episode_Length T: 47 Return: 0.000 ======\n",
      "====== Total T: 24451 Episode Num: 674 Episode_Length T: 9 Return: 0.000 ======\n"
     ]
    },
    {
     "name": "stderr",
     "output_type": "stream",
     "text": [
      " 25%|██▍       | 24592/100000 [05:00<04:58, 252.25it/s]"
     ]
    },
    {
     "name": "stdout",
     "output_type": "stream",
     "text": [
      "====== Total T: 24547 Episode Num: 675 Episode_Length T: 96 Return: 0.000 ======\n",
      "====== Total T: 24556 Episode Num: 676 Episode_Length T: 9 Return: 0.000 ======\n",
      "====== Total T: 24585 Episode Num: 677 Episode_Length T: 29 Return: 0.000 ======\n"
     ]
    },
    {
     "name": "stderr",
     "output_type": "stream",
     "text": [
      " 25%|██▍       | 24642/100000 [05:00<05:33, 225.75it/s]"
     ]
    },
    {
     "name": "stdout",
     "output_type": "stream",
     "text": [
      "====== Total T: 24623 Episode Num: 678 Episode_Length T: 38 Return: 0.000 ======\n"
     ]
    },
    {
     "name": "stderr",
     "output_type": "stream",
     "text": [
      " 25%|██▍       | 24708/100000 [05:01<06:11, 202.82it/s]"
     ]
    },
    {
     "name": "stdout",
     "output_type": "stream",
     "text": [
      "====== Total T: 24679 Episode Num: 679 Episode_Length T: 56 Return: 0.000 ======\n"
     ]
    },
    {
     "name": "stderr",
     "output_type": "stream",
     "text": [
      " 25%|██▍       | 24789/100000 [05:01<06:24, 195.55it/s]"
     ]
    },
    {
     "name": "stdout",
     "output_type": "stream",
     "text": [
      "====== Total T: 24765 Episode Num: 680 Episode_Length T: 86 Return: 0.000 ======\n"
     ]
    },
    {
     "name": "stderr",
     "output_type": "stream",
     "text": [
      " 25%|██▍       | 24979/100000 [05:02<05:44, 217.80it/s]"
     ]
    },
    {
     "name": "stdout",
     "output_type": "stream",
     "text": [
      "====== Total T: 24973 Episode Num: 681 Episode_Length T: 208 Return: 1.000 ======\n"
     ]
    },
    {
     "name": "stderr",
     "output_type": "stream",
     "text": [
      "\n",
      "  0%|          | 0/100000 [00:00<?, ?it/s]\u001b[A\n",
      "  0%|          | 189/100000 [00:00<00:52, 1883.28it/s]\u001b[A\n",
      "  0%|          | 378/100000 [00:00<00:56, 1752.98it/s]\u001b[A\n",
      "  1%|          | 560/100000 [00:00<00:55, 1780.19it/s]\u001b[A\n",
      "  1%|          | 752/100000 [00:00<00:56, 1744.30it/s]\u001b[A\n",
      "\n",
      "  0%|          | 0/100000 [00:00<?, ?it/s]\u001b[A\n",
      "  0%|          | 187/100000 [00:00<00:53, 1865.68it/s]\u001b[A\n",
      "  0%|          | 374/100000 [00:00<00:55, 1795.48it/s]\u001b[A\n",
      "  1%|          | 554/100000 [00:00<00:56, 1766.55it/s]\u001b[A\n",
      "  1%|          | 736/100000 [00:00<00:55, 1784.05it/s]\u001b[A\n",
      "  1%|          | 920/100000 [00:00<00:54, 1803.63it/s]\u001b[A\n",
      "  1%|          | 1101/100000 [00:00<00:56, 1751.30it/s]\u001b[A\n",
      "  1%|▏         | 1277/100000 [00:00<00:56, 1752.23it/s]\u001b[A\n",
      "  1%|▏         | 1458/100000 [00:00<00:55, 1768.36it/s]\u001b[A\n",
      "  2%|▏         | 1636/100000 [00:00<00:55, 1771.26it/s]\u001b[A\n",
      "  2%|▏         | 1816/100000 [00:01<00:55, 1778.44it/s]\u001b[A\n",
      "  2%|▏         | 1996/100000 [00:01<00:54, 1784.91it/s]\u001b[A\n",
      "  2%|▏         | 2175/100000 [00:01<00:55, 1768.00it/s]\u001b[A\n",
      "  2%|▏         | 2353/100000 [00:01<00:55, 1769.61it/s]\u001b[A\n",
      "  3%|▎         | 2533/100000 [00:01<00:54, 1775.91it/s]\u001b[A\n",
      "  3%|▎         | 2713/100000 [00:01<00:54, 1781.65it/s]\u001b[A\n",
      "  3%|▎         | 2893/100000 [00:01<00:54, 1786.77it/s]\u001b[A\n",
      "  3%|▎         | 3072/100000 [00:01<00:54, 1785.84it/s]\u001b[A\n",
      "  3%|▎         | 3258/100000 [00:01<00:53, 1806.99it/s]\u001b[A\n",
      "  3%|▎         | 3441/100000 [00:01<00:53, 1813.48it/s]\u001b[A\n",
      "  4%|▎         | 3624/100000 [00:02<00:53, 1815.13it/s]\u001b[A\n",
      "  4%|▍         | 3806/100000 [00:02<00:53, 1810.17it/s]\u001b[A\n",
      "  4%|▍         | 3988/100000 [00:02<00:53, 1793.06it/s]\u001b[A\n",
      "  4%|▍         | 4168/100000 [00:02<00:53, 1788.08it/s]\u001b[A\n",
      "  4%|▍         | 4352/100000 [00:02<00:53, 1799.97it/s]\u001b[A\n",
      "  5%|▍         | 4533/100000 [00:02<00:52, 1802.10it/s]\u001b[A\n",
      "  5%|▍         | 4714/100000 [00:02<00:52, 1804.00it/s]\u001b[A\n",
      "  5%|▍         | 4896/100000 [00:02<00:52, 1806.87it/s]\u001b[A\n",
      "  5%|▌         | 5079/100000 [00:02<00:52, 1812.32it/s]\u001b[A\n",
      "  5%|▌         | 5357/100000 [00:02<00:52, 1791.40it/s]\u001b[A\n",
      "\n",
      "  0%|          | 0/100000 [00:00<?, ?it/s]\u001b[A\n",
      "  0%|          | 177/100000 [00:00<00:56, 1766.79it/s]\u001b[A\n",
      "  0%|          | 354/100000 [00:00<01:00, 1649.88it/s]\u001b[A\n",
      "  1%|          | 521/100000 [00:00<01:00, 1656.76it/s]\u001b[A\n",
      "  1%|          | 715/100000 [00:00<01:00, 1651.66it/s]\u001b[A\n",
      "\n",
      "  0%|          | 0/100000 [00:00<?, ?it/s]\u001b[A\n",
      "  0%|          | 188/100000 [00:00<00:53, 1873.79it/s]\u001b[A\n",
      "  0%|          | 376/100000 [00:00<00:54, 1832.75it/s]\u001b[A\n",
      "  1%|          | 560/100000 [00:00<00:54, 1812.92it/s]\u001b[A\n",
      "  1%|          | 742/100000 [00:00<00:54, 1810.89it/s]\u001b[A\n",
      "  1%|          | 925/100000 [00:00<00:54, 1817.37it/s]\u001b[A\n",
      "  1%|          | 1107/100000 [00:00<00:54, 1800.35it/s]\u001b[A\n",
      "  1%|▏         | 1288/100000 [00:00<00:55, 1791.81it/s]\u001b[A\n",
      "  1%|▏         | 1468/100000 [00:00<00:55, 1774.76it/s]\u001b[A\n",
      "  2%|▏         | 1648/100000 [00:00<00:55, 1782.38it/s]\u001b[A\n",
      "  2%|▏         | 1827/100000 [00:01<00:55, 1784.01it/s]\u001b[A\n",
      "  2%|▏         | 2006/100000 [00:01<00:55, 1777.32it/s]\u001b[A\n",
      "  2%|▏         | 2198/100000 [00:01<00:54, 1785.78it/s]\u001b[A\n",
      "\n",
      "  0%|          | 0/100000 [00:00<?, ?it/s]\u001b[A\n",
      "  0%|          | 181/100000 [00:00<00:55, 1808.37it/s]\u001b[A\n",
      "  0%|          | 362/100000 [00:00<00:58, 1694.55it/s]\u001b[A\n",
      "  1%|          | 537/100000 [00:00<00:57, 1715.45it/s]\u001b[A\n",
      "  1%|          | 711/100000 [00:00<00:57, 1724.62it/s]\u001b[A\n",
      "  1%|          | 884/100000 [00:00<00:57, 1725.99it/s]\u001b[A\n",
      "  1%|          | 1062/100000 [00:00<00:56, 1740.95it/s]\u001b[A\n",
      "  1%|          | 1239/100000 [00:00<00:56, 1747.87it/s]\u001b[A\n",
      "  1%|▏         | 1414/100000 [00:00<00:57, 1705.19it/s]\u001b[A\n",
      "  2%|▏         | 1585/100000 [00:00<00:59, 1667.22it/s]\u001b[A\n",
      "  2%|▏         | 1752/100000 [00:01<00:58, 1666.22it/s]\u001b[A\n",
      "  2%|▏         | 1925/100000 [00:01<00:58, 1683.17it/s]\u001b[A\n",
      "  2%|▏         | 2094/100000 [00:01<00:59, 1645.20it/s]\u001b[A\n",
      "  2%|▏         | 2259/100000 [00:01<00:59, 1631.48it/s]\u001b[A\n",
      "  2%|▏         | 2434/100000 [00:01<00:58, 1663.53it/s]\u001b[A\n",
      "  3%|▎         | 2605/100000 [00:01<00:58, 1675.95it/s]\u001b[A\n",
      "  3%|▎         | 2783/100000 [00:01<00:57, 1704.19it/s]\u001b[A\n",
      "  3%|▎         | 2959/100000 [00:01<00:56, 1720.66it/s]\u001b[A\n",
      "  3%|▎         | 3137/100000 [00:01<00:55, 1736.65it/s]\u001b[A\n",
      "  3%|▎         | 3312/100000 [00:01<00:55, 1738.46it/s]\u001b[A\n",
      "  3%|▎         | 3486/100000 [00:02<00:57, 1689.35it/s]\u001b[A\n",
      "  4%|▎         | 3656/100000 [00:02<00:57, 1663.69it/s]\u001b[A\n",
      "  4%|▍         | 3823/100000 [00:02<00:58, 1643.33it/s]\u001b[A\n",
      "  4%|▍         | 3996/100000 [00:02<00:57, 1666.60it/s]\u001b[A\n",
      "  4%|▍         | 4171/100000 [00:02<00:56, 1688.41it/s]\u001b[A\n",
      "  4%|▍         | 4341/100000 [00:02<00:57, 1677.68it/s]\u001b[A\n",
      "  5%|▍         | 4510/100000 [00:02<00:56, 1679.89it/s]\u001b[A\n",
      "  5%|▍         | 4686/100000 [00:02<00:56, 1701.88it/s]\u001b[A\n",
      "  5%|▍         | 4857/100000 [00:02<00:56, 1674.57it/s]\u001b[A\n",
      "  5%|▌         | 5025/100000 [00:02<00:56, 1671.07it/s]\u001b[A\n",
      "  5%|▌         | 5197/100000 [00:03<00:56, 1683.39it/s]\u001b[A\n",
      "  5%|▌         | 5370/100000 [00:03<00:55, 1696.11it/s]\u001b[A\n",
      "  6%|▌         | 5543/100000 [00:03<00:55, 1704.98it/s]\u001b[A\n",
      "  6%|▌         | 5716/100000 [00:03<00:55, 1711.71it/s]\u001b[A\n",
      "  6%|▌         | 5890/100000 [00:03<00:54, 1717.64it/s]\u001b[A\n",
      "  6%|▌         | 6104/100000 [00:03<00:55, 1687.34it/s]\u001b[A\n",
      " 25%|██▌       | 25026/100000 [05:11<1:44:21, 11.97it/s]"
     ]
    },
    {
     "name": "stdout",
     "output_type": "stream",
     "text": [
      "---------------------------------------\n",
      "Evaluation over 5 episodes: 0.000\n",
      "---------------------------------------\n",
      "====== Total T: 25012 Episode Num: 682 Episode_Length T: 39 Return: 0.000 ======\n",
      "====== Total T: 25032 Episode Num: 683 Episode_Length T: 20 Return: 0.000 ======\n"
     ]
    },
    {
     "name": "stderr",
     "output_type": "stream",
     "text": [
      " 25%|██▌       | 25089/100000 [05:11<41:35, 30.02it/s]  "
     ]
    },
    {
     "name": "stdout",
     "output_type": "stream",
     "text": [
      "====== Total T: 25061 Episode Num: 684 Episode_Length T: 29 Return: 0.000 ======\n",
      "====== Total T: 25100 Episode Num: 685 Episode_Length T: 39 Return: 1.000 ======\n"
     ]
    },
    {
     "name": "stderr",
     "output_type": "stream",
     "text": [
      " 25%|██▌       | 25144/100000 [05:12<20:37, 60.51it/s]"
     ]
    },
    {
     "name": "stdout",
     "output_type": "stream",
     "text": [
      "====== Total T: 25118 Episode Num: 686 Episode_Length T: 18 Return: 0.000 ======\n",
      "====== Total T: 25147 Episode Num: 687 Episode_Length T: 29 Return: 0.000 ======\n"
     ]
    },
    {
     "name": "stderr",
     "output_type": "stream",
     "text": [
      " 25%|██▌       | 25213/100000 [05:12<11:32, 107.99it/s]"
     ]
    },
    {
     "name": "stdout",
     "output_type": "stream",
     "text": [
      "====== Total T: 25176 Episode Num: 688 Episode_Length T: 29 Return: 0.000 ======\n"
     ]
    },
    {
     "name": "stderr",
     "output_type": "stream",
     "text": [
      " 25%|██▌       | 25478/100000 [05:13<05:14, 236.89it/s]"
     ]
    },
    {
     "name": "stdout",
     "output_type": "stream",
     "text": [
      "====== Total T: 25440 Episode Num: 689 Episode_Length T: 264 Return: 1.000 ======\n"
     ]
    },
    {
     "name": "stderr",
     "output_type": "stream",
     "text": [
      " 26%|██▌       | 25550/100000 [05:14<05:53, 210.70it/s]"
     ]
    },
    {
     "name": "stdout",
     "output_type": "stream",
     "text": [
      "====== Total T: 25530 Episode Num: 690 Episode_Length T: 90 Return: 0.000 ======\n",
      "====== Total T: 25550 Episode Num: 691 Episode_Length T: 20 Return: 0.000 ======\n"
     ]
    },
    {
     "name": "stderr",
     "output_type": "stream",
     "text": [
      " 26%|██▌       | 25640/100000 [05:14<06:09, 201.19it/s]"
     ]
    },
    {
     "name": "stdout",
     "output_type": "stream",
     "text": [
      "====== Total T: 25610 Episode Num: 692 Episode_Length T: 60 Return: 0.000 ======\n",
      "====== Total T: 25639 Episode Num: 693 Episode_Length T: 29 Return: 0.000 ======\n"
     ]
    },
    {
     "name": "stderr",
     "output_type": "stream",
     "text": [
      " 26%|██▌       | 25701/100000 [05:14<06:17, 196.82it/s]"
     ]
    },
    {
     "name": "stdout",
     "output_type": "stream",
     "text": [
      "====== Total T: 25670 Episode Num: 694 Episode_Length T: 31 Return: 0.000 ======\n"
     ]
    },
    {
     "name": "stderr",
     "output_type": "stream",
     "text": [
      " 26%|██▌       | 25856/100000 [05:15<05:23, 229.51it/s]"
     ]
    },
    {
     "name": "stdout",
     "output_type": "stream",
     "text": [
      "====== Total T: 25807 Episode Num: 695 Episode_Length T: 137 Return: 1.000 ======\n",
      "====== Total T: 25834 Episode Num: 696 Episode_Length T: 27 Return: 0.000 ======\n",
      "====== Total T: 25858 Episode Num: 697 Episode_Length T: 24 Return: 0.000 ======\n"
     ]
    },
    {
     "name": "stderr",
     "output_type": "stream",
     "text": [
      " 26%|██▌       | 25910/100000 [05:15<04:57, 249.00it/s]"
     ]
    },
    {
     "name": "stdout",
     "output_type": "stream",
     "text": [
      "====== Total T: 25867 Episode Num: 698 Episode_Length T: 9 Return: 0.000 ======\n",
      "====== Total T: 25881 Episode Num: 699 Episode_Length T: 14 Return: 0.000 ======\n",
      "====== Total T: 25913 Episode Num: 700 Episode_Length T: 32 Return: 0.000 ======\n"
     ]
    },
    {
     "name": "stderr",
     "output_type": "stream",
     "text": [
      " 26%|██▌       | 25986/100000 [05:16<05:32, 222.87it/s]"
     ]
    },
    {
     "name": "stdout",
     "output_type": "stream",
     "text": [
      "====== Total T: 25957 Episode Num: 701 Episode_Length T: 44 Return: 0.000 ======\n",
      "====== Total T: 25986 Episode Num: 702 Episode_Length T: 29 Return: 0.000 ======\n"
     ]
    },
    {
     "name": "stderr",
     "output_type": "stream",
     "text": [
      " 26%|██▋       | 26317/100000 [05:17<05:47, 212.20it/s]"
     ]
    },
    {
     "name": "stdout",
     "output_type": "stream",
     "text": [
      "====== Total T: 26280 Episode Num: 703 Episode_Length T: 294 Return: 0.000 ======\n"
     ]
    },
    {
     "name": "stderr",
     "output_type": "stream",
     "text": [
      " 26%|██▋       | 26361/100000 [05:17<05:53, 208.60it/s]"
     ]
    },
    {
     "name": "stdout",
     "output_type": "stream",
     "text": [
      "====== Total T: 26324 Episode Num: 704 Episode_Length T: 44 Return: 0.000 ======\n"
     ]
    },
    {
     "name": "stderr",
     "output_type": "stream",
     "text": [
      " 26%|██▋       | 26457/100000 [05:18<05:43, 214.06it/s]"
     ]
    },
    {
     "name": "stdout",
     "output_type": "stream",
     "text": [
      "====== Total T: 26431 Episode Num: 705 Episode_Length T: 107 Return: 1.000 ======\n",
      "====== Total T: 26452 Episode Num: 706 Episode_Length T: 21 Return: 0.000 ======\n",
      "====== Total T: 26460 Episode Num: 707 Episode_Length T: 8 Return: 0.000 ======\n"
     ]
    },
    {
     "name": "stderr",
     "output_type": "stream",
     "text": [
      " 27%|██▋       | 26521/100000 [05:18<06:16, 195.25it/s]"
     ]
    },
    {
     "name": "stdout",
     "output_type": "stream",
     "text": [
      "====== Total T: 26484 Episode Num: 708 Episode_Length T: 24 Return: 0.000 ======\n",
      "====== Total T: 26498 Episode Num: 709 Episode_Length T: 14 Return: 0.000 ======\n",
      "====== Total T: 26515 Episode Num: 710 Episode_Length T: 17 Return: 0.000 ======\n"
     ]
    },
    {
     "name": "stderr",
     "output_type": "stream",
     "text": [
      " 27%|██▋       | 26610/100000 [05:18<06:08, 199.02it/s]"
     ]
    },
    {
     "name": "stdout",
     "output_type": "stream",
     "text": [
      "====== Total T: 26578 Episode Num: 711 Episode_Length T: 63 Return: 0.000 ======\n"
     ]
    },
    {
     "name": "stderr",
     "output_type": "stream",
     "text": [
      " 27%|██▋       | 26807/100000 [05:20<06:25, 189.77it/s]"
     ]
    },
    {
     "name": "stdout",
     "output_type": "stream",
     "text": [
      "====== Total T: 26769 Episode Num: 712 Episode_Length T: 191 Return: 0.000 ======\n",
      "====== Total T: 26793 Episode Num: 713 Episode_Length T: 24 Return: 0.000 ======\n"
     ]
    },
    {
     "name": "stderr",
     "output_type": "stream",
     "text": [
      " 27%|██▋       | 26924/100000 [05:20<06:32, 186.25it/s]"
     ]
    },
    {
     "name": "stdout",
     "output_type": "stream",
     "text": [
      "====== Total T: 26887 Episode Num: 714 Episode_Length T: 94 Return: 0.000 ======\n"
     ]
    },
    {
     "name": "stderr",
     "output_type": "stream",
     "text": [
      " 27%|██▋       | 27061/100000 [05:21<06:25, 189.34it/s]"
     ]
    },
    {
     "name": "stdout",
     "output_type": "stream",
     "text": [
      "====== Total T: 27033 Episode Num: 715 Episode_Length T: 146 Return: 0.000 ======\n"
     ]
    },
    {
     "name": "stderr",
     "output_type": "stream",
     "text": [
      " 27%|██▋       | 27157/100000 [05:21<06:27, 187.89it/s]"
     ]
    },
    {
     "name": "stdout",
     "output_type": "stream",
     "text": [
      "====== Total T: 27129 Episode Num: 716 Episode_Length T: 96 Return: 0.000 ======\n",
      "====== Total T: 27144 Episode Num: 717 Episode_Length T: 15 Return: 0.000 ======\n",
      "====== Total T: 27165 Episode Num: 718 Episode_Length T: 21 Return: 0.000 ======\n"
     ]
    },
    {
     "name": "stderr",
     "output_type": "stream",
     "text": [
      " 27%|██▋       | 27233/100000 [05:22<06:33, 185.04it/s]"
     ]
    },
    {
     "name": "stdout",
     "output_type": "stream",
     "text": [
      "====== Total T: 27196 Episode Num: 719 Episode_Length T: 31 Return: 0.000 ======\n",
      "====== Total T: 27207 Episode Num: 720 Episode_Length T: 11 Return: 0.000 ======\n"
     ]
    },
    {
     "name": "stderr",
     "output_type": "stream",
     "text": [
      " 27%|██▋       | 27271/100000 [05:22<06:32, 185.38it/s]"
     ]
    },
    {
     "name": "stdout",
     "output_type": "stream",
     "text": [
      "====== Total T: 27237 Episode Num: 721 Episode_Length T: 30 Return: 0.000 ======\n"
     ]
    },
    {
     "name": "stderr",
     "output_type": "stream",
     "text": [
      " 27%|██▋       | 27408/100000 [05:23<06:26, 187.91it/s]"
     ]
    },
    {
     "name": "stdout",
     "output_type": "stream",
     "text": [
      "====== Total T: 27383 Episode Num: 722 Episode_Length T: 146 Return: 2.000 ======\n",
      "====== Total T: 27390 Episode Num: 723 Episode_Length T: 7 Return: 0.000 ======\n",
      "====== Total T: 27415 Episode Num: 724 Episode_Length T: 25 Return: 0.000 ======\n"
     ]
    },
    {
     "name": "stderr",
     "output_type": "stream",
     "text": [
      " 27%|██▋       | 27484/100000 [05:23<06:30, 185.68it/s]"
     ]
    },
    {
     "name": "stdout",
     "output_type": "stream",
     "text": [
      "====== Total T: 27464 Episode Num: 725 Episode_Length T: 49 Return: 0.000 ======\n",
      "====== Total T: 27481 Episode Num: 726 Episode_Length T: 17 Return: 0.000 ======\n",
      "====== Total T: 27493 Episode Num: 727 Episode_Length T: 12 Return: 0.000 ======\n"
     ]
    },
    {
     "name": "stderr",
     "output_type": "stream",
     "text": [
      " 28%|██▊       | 27618/100000 [05:24<06:25, 187.78it/s]"
     ]
    },
    {
     "name": "stdout",
     "output_type": "stream",
     "text": [
      "====== Total T: 27594 Episode Num: 728 Episode_Length T: 101 Return: 0.000 ======\n"
     ]
    },
    {
     "name": "stderr",
     "output_type": "stream",
     "text": [
      " 28%|██▊       | 27720/100000 [05:24<06:08, 196.08it/s]"
     ]
    },
    {
     "name": "stdout",
     "output_type": "stream",
     "text": [
      "====== Total T: 27690 Episode Num: 729 Episode_Length T: 96 Return: 0.000 ======\n"
     ]
    },
    {
     "name": "stderr",
     "output_type": "stream",
     "text": [
      " 28%|██▊       | 27761/100000 [05:25<06:03, 198.69it/s]"
     ]
    },
    {
     "name": "stdout",
     "output_type": "stream",
     "text": [
      "====== Total T: 27732 Episode Num: 730 Episode_Length T: 42 Return: 0.000 ======\n",
      "====== Total T: 27747 Episode Num: 731 Episode_Length T: 15 Return: 0.000 ======\n"
     ]
    },
    {
     "name": "stderr",
     "output_type": "stream",
     "text": [
      " 28%|██▊       | 27852/100000 [05:25<05:25, 221.73it/s]"
     ]
    },
    {
     "name": "stdout",
     "output_type": "stream",
     "text": [
      "====== Total T: 27817 Episode Num: 732 Episode_Length T: 70 Return: 0.000 ======\n",
      "====== Total T: 27841 Episode Num: 733 Episode_Length T: 24 Return: 0.000 ======\n",
      "====== Total T: 27866 Episode Num: 734 Episode_Length T: 25 Return: 0.000 ======\n"
     ]
    },
    {
     "name": "stderr",
     "output_type": "stream",
     "text": [
      " 28%|██▊       | 27930/100000 [05:25<04:56, 243.46it/s]"
     ]
    },
    {
     "name": "stdout",
     "output_type": "stream",
     "text": [
      "====== Total T: 27909 Episode Num: 735 Episode_Length T: 43 Return: 0.000 ======\n",
      "====== Total T: 27923 Episode Num: 736 Episode_Length T: 14 Return: 0.000 ======\n",
      "====== Total T: 27928 Episode Num: 737 Episode_Length T: 5 Return: 0.000 ======\n",
      "====== Total T: 27939 Episode Num: 738 Episode_Length T: 11 Return: 0.000 ======\n"
     ]
    },
    {
     "name": "stderr",
     "output_type": "stream",
     "text": [
      " 28%|██▊       | 28000/100000 [05:26<05:49, 205.74it/s]"
     ]
    },
    {
     "name": "stdout",
     "output_type": "stream",
     "text": [
      "====== Total T: 27975 Episode Num: 739 Episode_Length T: 36 Return: 0.000 ======\n",
      "====== Total T: 27996 Episode Num: 740 Episode_Length T: 21 Return: 0.000 ======\n"
     ]
    },
    {
     "name": "stderr",
     "output_type": "stream",
     "text": [
      " 28%|██▊       | 28041/100000 [05:26<06:10, 194.03it/s]"
     ]
    },
    {
     "name": "stdout",
     "output_type": "stream",
     "text": [
      "====== Total T: 28017 Episode Num: 741 Episode_Length T: 21 Return: 0.000 ======\n",
      "====== Total T: 28027 Episode Num: 742 Episode_Length T: 10 Return: 0.000 ======\n",
      "====== Total T: 28042 Episode Num: 743 Episode_Length T: 15 Return: 0.000 ======\n",
      "====== Total T: 28053 Episode Num: 744 Episode_Length T: 11 Return: 0.000 ======\n"
     ]
    },
    {
     "name": "stderr",
     "output_type": "stream",
     "text": [
      " 28%|██▊       | 28146/100000 [05:26<05:54, 202.41it/s]"
     ]
    },
    {
     "name": "stdout",
     "output_type": "stream",
     "text": [
      "====== Total T: 28105 Episode Num: 745 Episode_Length T: 52 Return: 0.000 ======\n"
     ]
    },
    {
     "name": "stderr",
     "output_type": "stream",
     "text": [
      " 28%|██▊       | 28227/100000 [05:27<06:16, 190.71it/s]"
     ]
    },
    {
     "name": "stdout",
     "output_type": "stream",
     "text": [
      "====== Total T: 28209 Episode Num: 746 Episode_Length T: 104 Return: 0.000 ======\n"
     ]
    },
    {
     "name": "stderr",
     "output_type": "stream",
     "text": [
      " 28%|██▊       | 28326/100000 [05:27<06:18, 189.53it/s]"
     ]
    },
    {
     "name": "stdout",
     "output_type": "stream",
     "text": [
      "====== Total T: 28290 Episode Num: 747 Episode_Length T: 81 Return: 0.000 ======\n",
      "====== Total T: 28316 Episode Num: 748 Episode_Length T: 26 Return: 0.000 ======\n"
     ]
    },
    {
     "name": "stderr",
     "output_type": "stream",
     "text": [
      " 28%|██▊       | 28364/100000 [05:28<06:20, 188.23it/s]"
     ]
    },
    {
     "name": "stdout",
     "output_type": "stream",
     "text": [
      "====== Total T: 28330 Episode Num: 749 Episode_Length T: 14 Return: 0.000 ======\n",
      "====== Total T: 28338 Episode Num: 750 Episode_Length T: 8 Return: 0.000 ======\n"
     ]
    },
    {
     "name": "stderr",
     "output_type": "stream",
     "text": [
      " 28%|██▊       | 28423/100000 [05:28<06:17, 189.77it/s]"
     ]
    },
    {
     "name": "stdout",
     "output_type": "stream",
     "text": [
      "====== Total T: 28390 Episode Num: 751 Episode_Length T: 52 Return: 1.000 ======\n",
      "====== Total T: 28412 Episode Num: 752 Episode_Length T: 22 Return: 0.000 ======\n",
      "====== Total T: 28424 Episode Num: 753 Episode_Length T: 12 Return: 0.000 ======\n"
     ]
    },
    {
     "name": "stderr",
     "output_type": "stream",
     "text": [
      " 28%|██▊       | 28481/100000 [05:28<06:16, 190.04it/s]"
     ]
    },
    {
     "name": "stdout",
     "output_type": "stream",
     "text": [
      "====== Total T: 28447 Episode Num: 754 Episode_Length T: 23 Return: 0.000 ======\n"
     ]
    },
    {
     "name": "stderr",
     "output_type": "stream",
     "text": [
      " 29%|██▊       | 28534/100000 [05:28<05:16, 225.98it/s]"
     ]
    },
    {
     "name": "stdout",
     "output_type": "stream",
     "text": [
      "====== Total T: 28505 Episode Num: 755 Episode_Length T: 58 Return: 0.000 ======\n",
      "====== Total T: 28523 Episode Num: 756 Episode_Length T: 18 Return: 0.000 ======\n",
      "====== Total T: 28543 Episode Num: 757 Episode_Length T: 20 Return: 0.000 ======\n"
     ]
    },
    {
     "name": "stderr",
     "output_type": "stream",
     "text": [
      " 29%|██▊       | 28613/100000 [05:29<04:49, 246.39it/s]"
     ]
    },
    {
     "name": "stdout",
     "output_type": "stream",
     "text": [
      "====== Total T: 28576 Episode Num: 758 Episode_Length T: 33 Return: 0.000 ======\n",
      "====== Total T: 28600 Episode Num: 759 Episode_Length T: 24 Return: 0.000 ======\n",
      "====== Total T: 28612 Episode Num: 760 Episode_Length T: 12 Return: 0.000 ======\n"
     ]
    },
    {
     "name": "stderr",
     "output_type": "stream",
     "text": [
      " 29%|██▊       | 28666/100000 [05:29<04:41, 253.34it/s]"
     ]
    },
    {
     "name": "stdout",
     "output_type": "stream",
     "text": [
      "====== Total T: 28636 Episode Num: 761 Episode_Length T: 24 Return: 0.000 ======\n"
     ]
    },
    {
     "name": "stderr",
     "output_type": "stream",
     "text": [
      " 29%|██▊       | 28718/100000 [05:29<05:09, 229.97it/s]"
     ]
    },
    {
     "name": "stdout",
     "output_type": "stream",
     "text": [
      "====== Total T: 28697 Episode Num: 762 Episode_Length T: 61 Return: 1.000 ======\n",
      "====== Total T: 28719 Episode Num: 763 Episode_Length T: 22 Return: 0.000 ======\n"
     ]
    },
    {
     "name": "stderr",
     "output_type": "stream",
     "text": [
      " 29%|██▉       | 28764/100000 [05:29<05:44, 206.48it/s]"
     ]
    },
    {
     "name": "stdout",
     "output_type": "stream",
     "text": [
      "====== Total T: 28739 Episode Num: 764 Episode_Length T: 20 Return: 0.000 ======\n",
      "====== Total T: 28763 Episode Num: 765 Episode_Length T: 24 Return: 0.000 ======\n"
     ]
    },
    {
     "name": "stderr",
     "output_type": "stream",
     "text": [
      " 29%|██▉       | 28826/100000 [05:30<06:05, 194.93it/s]"
     ]
    },
    {
     "name": "stdout",
     "output_type": "stream",
     "text": [
      "====== Total T: 28801 Episode Num: 766 Episode_Length T: 38 Return: 0.000 ======\n",
      "====== Total T: 28839 Episode Num: 767 Episode_Length T: 38 Return: 0.000 ======\n"
     ]
    },
    {
     "name": "stderr",
     "output_type": "stream",
     "text": [
      " 29%|██▉       | 28924/100000 [05:30<06:21, 186.42it/s]"
     ]
    },
    {
     "name": "stdout",
     "output_type": "stream",
     "text": [
      "====== Total T: 28900 Episode Num: 768 Episode_Length T: 61 Return: 0.000 ======\n"
     ]
    },
    {
     "name": "stderr",
     "output_type": "stream",
     "text": [
      " 29%|██▉       | 29003/100000 [05:31<06:15, 189.32it/s]"
     ]
    },
    {
     "name": "stdout",
     "output_type": "stream",
     "text": [
      "====== Total T: 28974 Episode Num: 769 Episode_Length T: 74 Return: 0.000 ======\n",
      "====== Total T: 28993 Episode Num: 770 Episode_Length T: 19 Return: 0.000 ======\n"
     ]
    },
    {
     "name": "stderr",
     "output_type": "stream",
     "text": [
      " 29%|██▉       | 29108/100000 [05:31<06:01, 195.96it/s]"
     ]
    },
    {
     "name": "stdout",
     "output_type": "stream",
     "text": [
      "====== Total T: 29070 Episode Num: 771 Episode_Length T: 77 Return: 0.000 ======\n",
      "====== Total T: 29097 Episode Num: 772 Episode_Length T: 27 Return: 0.000 ======\n"
     ]
    },
    {
     "name": "stderr",
     "output_type": "stream",
     "text": [
      " 29%|██▉       | 29148/100000 [05:31<06:10, 191.01it/s]"
     ]
    },
    {
     "name": "stdout",
     "output_type": "stream",
     "text": [
      "====== Total T: 29119 Episode Num: 773 Episode_Length T: 22 Return: 0.000 ======\n",
      "====== Total T: 29141 Episode Num: 774 Episode_Length T: 22 Return: 0.000 ======\n",
      "====== Total T: 29144 Episode Num: 775 Episode_Length T: 3 Return: 0.000 ======\n"
     ]
    },
    {
     "name": "stderr",
     "output_type": "stream",
     "text": [
      " 29%|██▉       | 29188/100000 [05:32<06:14, 188.98it/s]"
     ]
    },
    {
     "name": "stdout",
     "output_type": "stream",
     "text": [
      "====== Total T: 29165 Episode Num: 776 Episode_Length T: 21 Return: 0.000 ======\n"
     ]
    },
    {
     "name": "stderr",
     "output_type": "stream",
     "text": [
      " 29%|██▉       | 29246/100000 [05:32<06:13, 189.28it/s]"
     ]
    },
    {
     "name": "stdout",
     "output_type": "stream",
     "text": [
      "====== Total T: 29211 Episode Num: 777 Episode_Length T: 46 Return: 0.000 ======\n",
      "====== Total T: 29229 Episode Num: 778 Episode_Length T: 18 Return: 0.000 ======\n",
      "====== Total T: 29247 Episode Num: 779 Episode_Length T: 18 Return: 0.000 ======\n"
     ]
    },
    {
     "name": "stderr",
     "output_type": "stream",
     "text": [
      " 29%|██▉       | 29285/100000 [05:32<06:14, 188.80it/s]"
     ]
    },
    {
     "name": "stdout",
     "output_type": "stream",
     "text": [
      "====== Total T: 29256 Episode Num: 780 Episode_Length T: 9 Return: 0.000 ======\n"
     ]
    },
    {
     "name": "stderr",
     "output_type": "stream",
     "text": [
      " 29%|██▉       | 29324/100000 [05:32<06:13, 189.27it/s]"
     ]
    },
    {
     "name": "stdout",
     "output_type": "stream",
     "text": [
      "====== Total T: 29304 Episode Num: 781 Episode_Length T: 48 Return: 0.000 ======\n",
      "====== Total T: 29317 Episode Num: 782 Episode_Length T: 13 Return: 0.000 ======\n"
     ]
    },
    {
     "name": "stderr",
     "output_type": "stream",
     "text": [
      " 29%|██▉       | 29481/100000 [05:33<06:19, 185.98it/s]"
     ]
    },
    {
     "name": "stdout",
     "output_type": "stream",
     "text": [
      "====== Total T: 29447 Episode Num: 783 Episode_Length T: 130 Return: 1.000 ======\n",
      "====== Total T: 29471 Episode Num: 784 Episode_Length T: 24 Return: 0.000 ======\n"
     ]
    },
    {
     "name": "stderr",
     "output_type": "stream",
     "text": [
      " 30%|██▉       | 29519/100000 [05:33<06:21, 184.54it/s]"
     ]
    },
    {
     "name": "stdout",
     "output_type": "stream",
     "text": [
      "====== Total T: 29493 Episode Num: 785 Episode_Length T: 22 Return: 0.000 ======\n"
     ]
    },
    {
     "name": "stderr",
     "output_type": "stream",
     "text": [
      " 30%|██▉       | 29557/100000 [05:34<06:27, 181.93it/s]"
     ]
    },
    {
     "name": "stdout",
     "output_type": "stream",
     "text": [
      "====== Total T: 29534 Episode Num: 786 Episode_Length T: 41 Return: 0.000 ======\n"
     ]
    },
    {
     "name": "stderr",
     "output_type": "stream",
     "text": [
      " 30%|██▉       | 29616/100000 [05:34<06:21, 184.65it/s]"
     ]
    },
    {
     "name": "stdout",
     "output_type": "stream",
     "text": [
      "====== Total T: 29580 Episode Num: 787 Episode_Length T: 46 Return: 0.000 ======\n",
      "====== Total T: 29617 Episode Num: 788 Episode_Length T: 37 Return: 0.000 ======\n"
     ]
    },
    {
     "name": "stderr",
     "output_type": "stream",
     "text": [
      " 30%|██▉       | 29661/100000 [05:34<05:52, 199.42it/s]"
     ]
    },
    {
     "name": "stdout",
     "output_type": "stream",
     "text": [
      "====== Total T: 29630 Episode Num: 789 Episode_Length T: 13 Return: 0.000 ======\n",
      "====== Total T: 29661 Episode Num: 790 Episode_Length T: 31 Return: 0.000 ======\n"
     ]
    },
    {
     "name": "stderr",
     "output_type": "stream",
     "text": [
      " 30%|██▉       | 29761/100000 [05:35<06:02, 193.74it/s]"
     ]
    },
    {
     "name": "stdout",
     "output_type": "stream",
     "text": [
      "====== Total T: 29739 Episode Num: 791 Episode_Length T: 78 Return: 1.000 ======\n"
     ]
    },
    {
     "name": "stderr",
     "output_type": "stream",
     "text": [
      " 30%|██▉       | 29860/100000 [05:35<06:07, 191.08it/s]"
     ]
    },
    {
     "name": "stdout",
     "output_type": "stream",
     "text": [
      "====== Total T: 29837 Episode Num: 792 Episode_Length T: 98 Return: 0.000 ======\n"
     ]
    },
    {
     "name": "stderr",
     "output_type": "stream",
     "text": [
      " 30%|██▉       | 29920/100000 [05:36<06:04, 192.28it/s]"
     ]
    },
    {
     "name": "stdout",
     "output_type": "stream",
     "text": [
      "====== Total T: 29898 Episode Num: 793 Episode_Length T: 61 Return: 0.000 ======\n"
     ]
    },
    {
     "name": "stderr",
     "output_type": "stream",
     "text": [
      " 30%|██▉       | 29980/100000 [05:36<06:07, 190.75it/s]\n",
      "  0%|          | 0/100000 [00:00<?, ?it/s]\u001b[A\n",
      "  0%|          | 183/100000 [00:00<00:54, 1825.60it/s]\u001b[A\n",
      "  0%|          | 366/100000 [00:00<00:56, 1778.57it/s]\u001b[A\n",
      "  1%|          | 544/100000 [00:00<00:58, 1689.47it/s]\u001b[A\n",
      "  1%|          | 714/100000 [00:00<00:59, 1660.72it/s]\u001b[A\n",
      "  1%|          | 898/100000 [00:00<00:57, 1721.14it/s]\u001b[A\n",
      "  1%|          | 1071/100000 [00:00<00:59, 1672.22it/s]\u001b[A\n",
      "  1%|          | 1239/100000 [00:00<00:59, 1654.01it/s]\u001b[A\n",
      "  1%|▏         | 1422/100000 [00:00<00:57, 1707.65it/s]\u001b[A\n",
      "  2%|▏         | 1598/100000 [00:00<00:57, 1721.17it/s]\u001b[A\n",
      "  2%|▏         | 1771/100000 [00:01<00:57, 1718.72it/s]\u001b[A\n",
      "  2%|▏         | 1944/100000 [00:01<00:57, 1692.75it/s]\u001b[A\n",
      "  2%|▏         | 2114/100000 [00:01<00:58, 1676.48it/s]\u001b[A\n",
      "  2%|▏         | 2286/100000 [00:01<00:57, 1688.94it/s]\u001b[A\n",
      "  2%|▏         | 2462/100000 [00:01<00:57, 1707.77it/s]\u001b[A\n",
      "  3%|▎         | 2638/100000 [00:01<00:56, 1723.12it/s]\u001b[A\n",
      "  3%|▎         | 2812/100000 [00:01<00:56, 1727.53it/s]\u001b[A\n",
      "  3%|▎         | 2985/100000 [00:01<00:56, 1712.78it/s]\u001b[A\n",
      "  3%|▎         | 3157/100000 [00:01<00:57, 1697.33it/s]\u001b[A\n",
      "  3%|▎         | 3330/100000 [00:01<00:56, 1704.66it/s]\u001b[A\n",
      "  4%|▎         | 3501/100000 [00:02<00:56, 1694.03it/s]\u001b[A\n",
      "  4%|▎         | 3676/100000 [00:02<00:56, 1709.43it/s]\u001b[A\n",
      "  4%|▍         | 3848/100000 [00:02<00:56, 1712.03it/s]\u001b[A\n",
      "  4%|▍         | 4020/100000 [00:02<00:57, 1682.12it/s]\u001b[A\n",
      "  4%|▍         | 4189/100000 [00:02<00:57, 1657.87it/s]\u001b[A\n",
      "  4%|▍         | 4363/100000 [00:02<00:56, 1681.11it/s]\u001b[A\n",
      "  5%|▍         | 4542/100000 [00:02<00:55, 1711.59it/s]\u001b[A\n",
      "  5%|▍         | 4717/100000 [00:02<00:55, 1721.31it/s]\u001b[A\n",
      "  5%|▍         | 4894/100000 [00:02<00:54, 1735.26it/s]\u001b[A\n",
      "  5%|▌         | 5068/100000 [00:02<00:55, 1723.87it/s]\u001b[A\n",
      "  5%|▌         | 5241/100000 [00:03<00:54, 1723.13it/s]\u001b[A\n",
      "  5%|▌         | 5416/100000 [00:03<00:54, 1730.57it/s]\u001b[A\n",
      "  6%|▌         | 5590/100000 [00:03<00:54, 1732.03it/s]\u001b[A\n",
      "  6%|▌         | 5764/100000 [00:03<00:54, 1734.24it/s]\u001b[A\n",
      "  6%|▌         | 5940/100000 [00:03<00:54, 1739.24it/s]\u001b[A\n",
      "  6%|▌         | 6116/100000 [00:03<00:53, 1743.85it/s]\u001b[A\n",
      "  6%|▋         | 6291/100000 [00:03<00:53, 1743.94it/s]\u001b[A\n",
      "  6%|▋         | 6468/100000 [00:03<00:53, 1749.93it/s]\u001b[A\n",
      "  7%|▋         | 6643/100000 [00:03<00:53, 1749.82it/s]\u001b[A\n",
      "  7%|▋         | 6818/100000 [00:03<00:55, 1690.87it/s]\u001b[A\n",
      "  7%|▋         | 6988/100000 [00:04<00:55, 1687.67it/s]\u001b[A\n",
      "  7%|▋         | 7161/100000 [00:04<00:54, 1698.09it/s]\u001b[A\n",
      "  7%|▋         | 7333/100000 [00:04<00:54, 1701.50it/s]\u001b[A\n",
      "  8%|▊         | 7504/100000 [00:04<00:55, 1671.55it/s]\u001b[A\n",
      "  8%|▊         | 7677/100000 [00:04<00:54, 1687.21it/s]\u001b[A\n",
      "  8%|▊         | 7846/100000 [00:04<00:55, 1647.58it/s]\u001b[A\n",
      "  8%|▊         | 8026/100000 [00:04<00:54, 1689.98it/s]\u001b[A\n",
      "  8%|▊         | 8205/100000 [00:04<00:53, 1718.73it/s]\u001b[A\n",
      "  8%|▊         | 8378/100000 [00:04<00:54, 1682.42it/s]\u001b[A\n",
      "  9%|▊         | 8547/100000 [00:05<00:54, 1673.61it/s]\u001b[A\n",
      "  9%|▊         | 8725/100000 [00:05<00:53, 1702.50it/s]\u001b[A\n",
      "  9%|▉         | 8896/100000 [00:05<00:53, 1704.03it/s]\u001b[A\n",
      "  9%|▉         | 9075/100000 [00:05<00:52, 1728.72it/s]\u001b[A\n",
      "  9%|▉         | 9249/100000 [00:05<00:53, 1685.73it/s]\u001b[A\n",
      "  9%|▉         | 9422/100000 [00:05<00:53, 1697.97it/s]\u001b[A\n",
      " 10%|▉         | 9597/100000 [00:05<00:52, 1712.30it/s]\u001b[A\n",
      " 10%|▉         | 9775/100000 [00:05<00:52, 1732.01it/s]\u001b[A\n",
      " 10%|▉         | 9949/100000 [00:05<00:52, 1724.52it/s]\u001b[A\n",
      " 10%|█         | 10122/100000 [00:05<00:52, 1719.37it/s]\u001b[A\n",
      " 10%|█         | 10295/100000 [00:06<00:52, 1711.51it/s]\u001b[A\n",
      " 10%|█         | 10468/100000 [00:06<00:52, 1714.18it/s]\u001b[A\n",
      " 11%|█         | 10642/100000 [00:06<00:51, 1720.93it/s]\u001b[A\n",
      " 11%|█         | 10818/100000 [00:06<00:51, 1731.67it/s]\u001b[A\n",
      " 11%|█         | 10992/100000 [00:06<00:51, 1731.59it/s]\u001b[A\n",
      " 11%|█         | 11166/100000 [00:06<00:51, 1733.64it/s]\u001b[A\n",
      " 11%|█▏        | 11341/100000 [00:06<00:51, 1737.86it/s]\u001b[A\n",
      " 12%|█▏        | 11518/100000 [00:06<00:50, 1744.78it/s]\u001b[A\n",
      " 12%|█▏        | 11693/100000 [00:06<00:50, 1742.20it/s]\u001b[A\n",
      " 12%|█▏        | 11868/100000 [00:06<00:50, 1737.97it/s]\u001b[A\n",
      " 12%|█▏        | 12042/100000 [00:07<00:51, 1716.35it/s]\u001b[A\n",
      " 12%|█▏        | 12216/100000 [00:07<00:50, 1722.36it/s]\u001b[A\n",
      " 12%|█▏        | 12389/100000 [00:07<00:51, 1688.09it/s]\u001b[A\n",
      " 13%|█▎        | 12565/100000 [00:07<00:51, 1709.07it/s]\u001b[A\n",
      " 13%|█▎        | 12737/100000 [00:07<00:52, 1675.88it/s]\u001b[A\n",
      " 13%|█▎        | 12908/100000 [00:07<00:51, 1684.96it/s]\u001b[A\n",
      " 13%|█▎        | 13077/100000 [00:07<00:52, 1670.00it/s]\u001b[A\n",
      " 13%|█▎        | 13254/100000 [00:07<00:51, 1699.01it/s]\u001b[A\n",
      " 13%|█▎        | 13439/100000 [00:07<00:49, 1741.08it/s]\u001b[A\n",
      " 14%|█▎        | 13614/100000 [00:07<00:50, 1701.57it/s]\u001b[A\n",
      " 14%|█▍        | 13785/100000 [00:08<00:51, 1690.40it/s]\u001b[A\n",
      " 14%|█▍        | 13966/100000 [00:08<00:49, 1723.33it/s]\u001b[A\n",
      " 14%|█▍        | 14147/100000 [00:08<00:49, 1747.29it/s]\u001b[A\n",
      " 14%|█▍        | 14329/100000 [00:08<00:48, 1767.33it/s]\u001b[A\n",
      " 15%|█▍        | 14510/100000 [00:08<00:48, 1777.46it/s]\u001b[A\n",
      " 15%|█▍        | 14689/100000 [00:08<00:47, 1780.89it/s]\u001b[A\n",
      " 15%|█▍        | 14868/100000 [00:08<00:49, 1733.54it/s]\u001b[A\n",
      " 15%|█▌        | 15056/100000 [00:08<00:47, 1773.97it/s]\u001b[A\n",
      " 15%|█▌        | 15234/100000 [00:08<00:47, 1774.93it/s]\u001b[A\n",
      " 15%|█▌        | 15413/100000 [00:08<00:47, 1776.76it/s]\u001b[A\n",
      " 16%|█▌        | 15591/100000 [00:09<00:48, 1758.06it/s]\u001b[A\n",
      " 16%|█▌        | 15768/100000 [00:09<00:47, 1759.50it/s]\u001b[A\n",
      " 16%|█▌        | 15945/100000 [00:09<00:47, 1756.61it/s]\u001b[A\n",
      " 16%|█▌        | 16121/100000 [00:09<00:47, 1750.45it/s]\u001b[A\n",
      " 16%|█▋        | 16297/100000 [00:09<00:47, 1752.36it/s]\u001b[A\n",
      " 16%|█▋        | 16473/100000 [00:09<00:48, 1710.00it/s]\u001b[A\n",
      " 17%|█▋        | 16647/100000 [00:09<00:48, 1717.50it/s]\u001b[A\n",
      " 17%|█▋        | 16819/100000 [00:09<00:49, 1685.75it/s]\u001b[A\n",
      " 17%|█▋        | 16988/100000 [00:09<00:50, 1659.10it/s]\u001b[A\n",
      " 17%|█▋        | 17157/100000 [00:10<00:49, 1667.64it/s]\u001b[A\n",
      " 17%|█▋        | 17339/100000 [00:10<00:48, 1710.19it/s]\u001b[A\n",
      " 18%|█▊        | 17512/100000 [00:10<00:48, 1715.64it/s]\u001b[A\n",
      " 18%|█▊        | 17684/100000 [00:10<00:47, 1716.51it/s]\u001b[A\n",
      " 18%|█▊        | 17856/100000 [00:10<00:47, 1717.14it/s]\u001b[A\n",
      " 18%|█▊        | 18034/100000 [00:10<00:47, 1734.20it/s]\u001b[A\n",
      " 18%|█▊        | 18216/100000 [00:10<00:46, 1758.97it/s]\u001b[A\n",
      " 18%|█▊        | 18392/100000 [00:10<00:46, 1755.40it/s]\u001b[A\n",
      " 19%|█▊        | 18568/100000 [00:10<00:46, 1748.36it/s]\u001b[A\n",
      " 19%|█▊        | 18743/100000 [00:10<00:46, 1748.40it/s]\u001b[A\n",
      " 19%|█▉        | 18918/100000 [00:11<00:46, 1741.14it/s]\u001b[A\n",
      " 19%|█▉        | 19093/100000 [00:11<00:46, 1739.37it/s]\u001b[A\n",
      " 19%|█▉        | 19267/100000 [00:11<00:46, 1736.43it/s]\u001b[A\n",
      " 19%|█▉        | 19441/100000 [00:11<00:46, 1730.83it/s]\u001b[A\n",
      " 20%|█▉        | 19617/100000 [00:11<00:46, 1738.32it/s]\u001b[A\n",
      " 20%|█▉        | 19791/100000 [00:11<00:46, 1728.26it/s]\u001b[A\n",
      " 20%|█▉        | 19966/100000 [00:11<00:46, 1731.90it/s]\u001b[A\n",
      " 20%|██        | 20141/100000 [00:11<00:46, 1735.16it/s]\u001b[A\n",
      " 20%|██        | 20316/100000 [00:11<00:45, 1739.45it/s]\u001b[A\n",
      " 20%|██        | 20492/100000 [00:11<00:45, 1743.95it/s]\u001b[A\n",
      " 21%|██        | 20667/100000 [00:12<00:45, 1729.56it/s]\u001b[A\n",
      " 21%|██        | 20844/100000 [00:12<00:45, 1740.61it/s]\u001b[A\n",
      " 21%|██        | 21019/100000 [00:12<00:45, 1741.83it/s]\u001b[A\n",
      " 21%|██        | 21197/100000 [00:12<00:45, 1750.86it/s]\u001b[A\n",
      " 21%|██▏       | 21373/100000 [00:12<00:45, 1746.06it/s]\u001b[A\n",
      " 22%|██▏       | 21548/100000 [00:12<00:45, 1742.66it/s]\u001b[A\n",
      " 22%|██▏       | 21723/100000 [00:12<00:45, 1703.75it/s]\u001b[A\n",
      " 22%|██▏       | 21899/100000 [00:12<00:45, 1719.68it/s]\u001b[A\n",
      " 22%|██▏       | 22076/100000 [00:12<00:44, 1732.37it/s]\u001b[A\n",
      " 22%|██▏       | 22250/100000 [00:12<00:44, 1734.56it/s]\u001b[A\n",
      " 22%|██▏       | 22429/100000 [00:13<00:44, 1750.85it/s]\u001b[A\n",
      " 23%|██▎       | 22610/100000 [00:13<00:43, 1766.91it/s]\u001b[A\n",
      " 23%|██▎       | 22789/100000 [00:13<00:43, 1773.32it/s]\u001b[A\n",
      " 23%|██▎       | 22971/100000 [00:13<00:43, 1785.36it/s]\u001b[A\n",
      " 23%|██▎       | 23152/100000 [00:13<00:42, 1790.79it/s]\u001b[A\n",
      " 23%|██▎       | 23332/100000 [00:13<00:42, 1791.25it/s]\u001b[A\n",
      " 24%|██▎       | 23517/100000 [00:13<00:42, 1807.85it/s]\u001b[A\n",
      " 24%|██▎       | 23700/100000 [00:13<00:42, 1813.61it/s]\u001b[A\n",
      " 24%|██▍       | 23882/100000 [00:13<00:42, 1794.00it/s]\u001b[A\n",
      " 24%|██▍       | 24064/100000 [00:13<00:42, 1799.14it/s]\u001b[A\n",
      " 24%|██▍       | 24244/100000 [00:14<00:43, 1741.70it/s]\u001b[A\n",
      " 24%|██▍       | 24422/100000 [00:14<00:43, 1750.96it/s]\u001b[A\n",
      " 25%|██▍       | 24600/100000 [00:14<00:42, 1758.68it/s]\u001b[A\n",
      " 25%|██▍       | 24779/100000 [00:14<00:42, 1766.83it/s]\u001b[A\n",
      " 25%|██▍       | 24956/100000 [00:14<00:42, 1767.46it/s]\u001b[A\n",
      " 25%|██▌       | 25138/100000 [00:14<00:42, 1780.61it/s]\u001b[A\n",
      " 25%|██▌       | 25317/100000 [00:14<00:41, 1780.54it/s]\u001b[A\n",
      " 25%|██▌       | 25496/100000 [00:14<00:42, 1767.67it/s]\u001b[A\n",
      " 26%|██▌       | 25673/100000 [00:14<00:42, 1765.71it/s]\u001b[A\n",
      " 26%|██▌       | 25850/100000 [00:14<00:42, 1754.79it/s]\u001b[A\n",
      " 26%|██▌       | 26026/100000 [00:15<00:42, 1738.41it/s]\u001b[A\n",
      " 26%|██▌       | 26206/100000 [00:15<00:42, 1754.78it/s]\u001b[A\n",
      " 30%|██▉       | 29980/100000 [05:51<06:07, 190.75it/s]]\u001b[A\n",
      " 27%|██▋       | 26567/100000 [00:15<00:42, 1731.78it/s]\u001b[A\n",
      " 27%|██▋       | 26756/100000 [00:15<00:41, 1776.61it/s]\u001b[A\n",
      " 27%|██▋       | 26934/100000 [00:15<00:41, 1776.05it/s]\u001b[A\n",
      " 27%|██▋       | 27112/100000 [00:15<00:41, 1738.81it/s]\u001b[A\n",
      " 27%|██▋       | 27290/100000 [00:15<00:41, 1748.42it/s]\u001b[A\n",
      " 27%|██▋       | 27476/100000 [00:15<00:40, 1779.76it/s]\u001b[A\n",
      " 28%|██▊       | 27655/100000 [00:15<00:40, 1780.24it/s]\u001b[A\n",
      " 28%|██▊       | 27836/100000 [00:16<00:40, 1787.38it/s]\u001b[A\n",
      " 28%|██▊       | 28019/100000 [00:16<00:39, 1799.60it/s]\u001b[A\n",
      " 28%|██▊       | 28201/100000 [00:16<00:39, 1802.84it/s]\u001b[A\n",
      " 28%|██▊       | 28385/100000 [00:16<00:39, 1813.14it/s]\u001b[A\n",
      " 29%|██▊       | 28568/100000 [00:16<00:39, 1816.37it/s]\u001b[A\n",
      " 29%|██▉       | 28750/100000 [00:16<00:41, 1726.13it/s]\u001b[A\n",
      " 29%|██▉       | 28924/100000 [00:16<00:42, 1658.41it/s]\u001b[A\n",
      " 29%|██▉       | 29091/100000 [00:16<00:43, 1614.39it/s]\u001b[A\n",
      " 29%|██▉       | 29254/100000 [00:16<00:44, 1583.86it/s]\u001b[A\n",
      " 29%|██▉       | 29413/100000 [00:17<00:45, 1563.10it/s]\u001b[A\n",
      " 30%|██▉       | 29570/100000 [00:17<00:46, 1513.03it/s]\u001b[A\n",
      " 30%|██▉       | 29722/100000 [00:17<00:47, 1478.66it/s]\u001b[A\n",
      " 30%|██▉       | 29871/100000 [00:17<00:47, 1477.79it/s]\u001b[A\n",
      " 30%|███       | 30020/100000 [00:17<00:47, 1480.15it/s]\u001b[A\n",
      " 30%|███       | 30169/100000 [00:17<00:47, 1481.37it/s]\u001b[A\n",
      " 30%|███       | 30318/100000 [00:17<00:46, 1482.98it/s]\u001b[A\n",
      " 30%|███       | 30468/100000 [00:17<00:46, 1485.84it/s]\u001b[A\n",
      " 31%|███       | 30619/100000 [00:17<00:46, 1491.11it/s]\u001b[A\n",
      " 31%|███       | 30769/100000 [00:17<00:46, 1490.62it/s]\u001b[A\n",
      " 31%|███       | 30920/100000 [00:18<00:46, 1493.28it/s]\u001b[A\n",
      " 31%|███       | 31070/100000 [00:18<00:46, 1493.80it/s]\u001b[A\n",
      " 31%|███       | 31222/100000 [00:18<00:45, 1498.93it/s]\u001b[A\n",
      " 31%|███▏      | 31382/100000 [00:18<00:44, 1527.25it/s]\u001b[A\n",
      " 32%|███▏      | 31547/100000 [00:18<00:43, 1563.04it/s]\u001b[A\n",
      " 32%|███▏      | 31720/100000 [00:18<00:42, 1611.23it/s]\u001b[A\n",
      " 32%|███▏      | 31892/100000 [00:18<00:41, 1642.27it/s]\u001b[A\n",
      " 32%|███▏      | 32064/100000 [00:18<00:40, 1664.82it/s]\u001b[A\n",
      " 32%|███▏      | 32238/100000 [00:18<00:40, 1686.08it/s]\u001b[A\n",
      " 32%|███▏      | 32407/100000 [00:18<00:40, 1679.88it/s]\u001b[A\n",
      " 33%|███▎      | 32578/100000 [00:19<00:39, 1685.87it/s]\u001b[A\n",
      " 33%|███▎      | 32755/100000 [00:19<00:39, 1709.29it/s]\u001b[A\n",
      " 33%|███▎      | 32933/100000 [00:19<00:38, 1728.89it/s]\u001b[A\n",
      " 33%|███▎      | 33109/100000 [00:19<00:38, 1737.74it/s]\u001b[A\n",
      " 33%|███▎      | 33285/100000 [00:19<00:38, 1743.55it/s]\u001b[A\n",
      " 33%|███▎      | 33465/100000 [00:19<00:37, 1759.53it/s]\u001b[A\n",
      " 34%|███▎      | 33644/100000 [00:19<00:37, 1766.26it/s]\u001b[A\n",
      " 34%|███▍      | 33827/100000 [00:19<00:37, 1782.86it/s]\u001b[A\n",
      " 34%|███▍      | 34009/100000 [00:19<00:36, 1791.26it/s]\u001b[A\n",
      " 34%|███▍      | 34189/100000 [00:19<00:36, 1786.25it/s]\u001b[A\n",
      " 34%|███▍      | 34368/100000 [00:20<00:37, 1760.36it/s]\u001b[A\n",
      " 35%|███▍      | 34545/100000 [00:20<00:38, 1721.99it/s]\u001b[A\n",
      " 35%|███▍      | 34724/100000 [00:20<00:37, 1739.58it/s]\u001b[A\n",
      " 35%|███▍      | 34901/100000 [00:20<00:37, 1747.51it/s]\u001b[A\n",
      " 35%|███▌      | 35078/100000 [00:20<00:37, 1753.58it/s]\u001b[A\n",
      " 35%|███▌      | 35258/100000 [00:20<00:36, 1765.92it/s]\u001b[A\n",
      " 35%|███▌      | 35438/100000 [00:20<00:36, 1774.62it/s]\u001b[A\n",
      " 36%|███▌      | 35617/100000 [00:20<00:36, 1777.63it/s]\u001b[A\n",
      " 36%|███▌      | 35795/100000 [00:20<00:36, 1769.34it/s]\u001b[A\n",
      " 36%|███▌      | 35972/100000 [00:20<00:36, 1762.86it/s]\u001b[A\n",
      " 36%|███▌      | 36149/100000 [00:21<00:36, 1764.60it/s]\u001b[A\n",
      " 36%|███▋      | 36326/100000 [00:21<00:37, 1714.15it/s]\u001b[A\n",
      " 36%|███▋      | 36498/100000 [00:21<00:37, 1691.57it/s]\u001b[A\n",
      " 37%|███▋      | 36674/100000 [00:21<00:37, 1709.25it/s]\u001b[A\n",
      " 37%|███▋      | 36846/100000 [00:21<00:37, 1692.09it/s]\u001b[A\n",
      " 37%|███▋      | 37023/100000 [00:21<00:36, 1712.77it/s]\u001b[A\n",
      " 37%|███▋      | 37195/100000 [00:21<00:37, 1685.97it/s]\u001b[A\n",
      " 37%|███▋      | 37364/100000 [00:21<00:37, 1662.94it/s]\u001b[A\n",
      " 38%|███▊      | 37547/100000 [00:21<00:36, 1709.18it/s]\u001b[A\n",
      " 38%|███▊      | 37727/100000 [00:22<00:35, 1733.87it/s]\u001b[A\n",
      " 38%|███▊      | 37903/100000 [00:22<00:35, 1741.51it/s]\u001b[A\n",
      " 38%|███▊      | 38086/100000 [00:22<00:35, 1765.33it/s]\u001b[A\n",
      " 38%|███▊      | 38267/100000 [00:22<00:34, 1776.69it/s]\u001b[A\n",
      " 38%|███▊      | 38445/100000 [00:22<00:35, 1758.33it/s]\u001b[A\n",
      " 39%|███▊      | 38621/100000 [00:22<00:34, 1756.41it/s]\u001b[A\n",
      " 39%|███▉      | 38801/100000 [00:22<00:34, 1766.86it/s]\u001b[A\n",
      " 39%|███▉      | 38978/100000 [00:22<00:34, 1764.88it/s]\u001b[A\n",
      " 39%|███▉      | 39155/100000 [00:22<00:34, 1763.49it/s]\u001b[A\n",
      " 39%|███▉      | 39332/100000 [00:22<00:34, 1753.11it/s]\u001b[A\n",
      " 40%|███▉      | 39508/100000 [00:23<00:34, 1754.02it/s]\u001b[A\n",
      " 40%|███▉      | 39684/100000 [00:23<00:34, 1738.54it/s]\u001b[A\n",
      " 40%|███▉      | 39858/100000 [00:23<00:34, 1719.02it/s]\u001b[A\n",
      " 40%|████      | 40030/100000 [00:23<00:34, 1719.23it/s]\u001b[A\n",
      " 40%|████      | 40204/100000 [00:23<00:34, 1724.44it/s]\u001b[A\n",
      " 40%|████      | 40377/100000 [00:23<00:34, 1725.56it/s]\u001b[A\n",
      " 41%|████      | 40552/100000 [00:23<00:34, 1732.45it/s]\u001b[A\n",
      " 41%|████      | 40737/100000 [00:23<00:33, 1767.33it/s]\u001b[A\n",
      " 41%|████      | 40920/100000 [00:23<00:33, 1783.40it/s]\u001b[A\n",
      " 41%|████      | 41105/100000 [00:23<00:32, 1802.46it/s]\u001b[A\n",
      " 41%|████▏     | 41286/100000 [00:24<00:32, 1791.15it/s]\u001b[A\n",
      " 41%|████▏     | 41469/100000 [00:24<00:32, 1800.93it/s]\u001b[A\n",
      " 42%|████▏     | 41650/100000 [00:24<00:32, 1801.60it/s]\u001b[A\n",
      " 42%|████▏     | 41833/100000 [00:24<00:32, 1809.63it/s]\u001b[A\n",
      " 42%|████▏     | 42014/100000 [00:24<00:32, 1790.65it/s]\u001b[A\n",
      " 42%|████▏     | 42194/100000 [00:24<00:32, 1792.87it/s]\u001b[A\n",
      " 42%|████▏     | 42376/100000 [00:24<00:32, 1798.88it/s]\u001b[A\n",
      " 43%|████▎     | 42559/100000 [00:24<00:31, 1805.96it/s]\u001b[A\n",
      " 43%|████▎     | 42743/100000 [00:24<00:31, 1814.52it/s]\u001b[A\n",
      " 43%|████▎     | 42925/100000 [00:24<00:31, 1813.96it/s]\u001b[A\n",
      " 43%|████▎     | 43110/100000 [00:25<00:31, 1822.05it/s]\u001b[A\n",
      " 43%|████▎     | 43294/100000 [00:25<00:31, 1827.16it/s]\u001b[A\n",
      " 43%|████▎     | 43477/100000 [00:25<00:31, 1779.67it/s]\u001b[A\n",
      " 44%|████▎     | 43658/100000 [00:25<00:31, 1787.90it/s]\u001b[A\n",
      " 44%|████▍     | 43841/100000 [00:25<00:31, 1798.25it/s]\u001b[A\n",
      " 44%|████▍     | 44021/100000 [00:25<00:31, 1796.63it/s]\u001b[A\n",
      " 44%|████▍     | 44201/100000 [00:25<00:31, 1753.69it/s]\u001b[A\n",
      " 44%|████▍     | 44377/100000 [00:25<00:32, 1723.56it/s]\u001b[A\n",
      " 45%|████▍     | 44559/100000 [00:25<00:31, 1749.31it/s]\u001b[A\n",
      " 45%|████▍     | 44737/100000 [00:25<00:31, 1758.16it/s]\u001b[A\n",
      " 45%|████▍     | 44914/100000 [00:26<00:32, 1703.05it/s]\u001b[A\n",
      " 45%|████▌     | 45085/100000 [00:26<00:32, 1675.60it/s]\u001b[A\n",
      " 45%|████▌     | 45259/100000 [00:26<00:32, 1694.02it/s]\u001b[A\n",
      " 45%|████▌     | 45436/100000 [00:26<00:31, 1714.47it/s]\u001b[A\n",
      " 46%|████▌     | 45608/100000 [00:26<00:31, 1714.28it/s]\u001b[A\n",
      " 46%|████▌     | 45780/100000 [00:26<00:32, 1668.09it/s]\u001b[A\n",
      " 46%|████▌     | 45948/100000 [00:26<00:32, 1643.80it/s]\u001b[A\n",
      " 46%|████▌     | 46122/100000 [00:26<00:32, 1668.98it/s]\u001b[A\n",
      " 46%|████▋     | 46299/100000 [00:26<00:31, 1696.49it/s]\u001b[A\n",
      " 46%|████▋     | 46473/100000 [00:27<00:31, 1706.19it/s]\u001b[A\n",
      " 47%|████▋     | 46644/100000 [00:27<00:31, 1694.16it/s]\u001b[A\n",
      " 47%|████▋     | 46826/100000 [00:27<00:30, 1729.08it/s]\u001b[A\n",
      " 47%|████▋     | 47004/100000 [00:27<00:30, 1743.02it/s]\u001b[A\n",
      " 47%|████▋     | 47179/100000 [00:27<00:31, 1694.73it/s]\u001b[A\n",
      " 47%|████▋     | 47349/100000 [00:27<00:31, 1674.92it/s]\u001b[A\n",
      " 48%|████▊     | 47524/100000 [00:27<00:30, 1696.61it/s]\u001b[A\n",
      " 48%|████▊     | 47701/100000 [00:27<00:30, 1717.46it/s]\u001b[A\n",
      " 48%|████▊     | 47882/100000 [00:27<00:29, 1743.66it/s]\u001b[A\n",
      " 48%|████▊     | 48057/100000 [00:27<00:30, 1709.06it/s]\u001b[A\n",
      " 48%|████▊     | 48235/100000 [00:28<00:29, 1727.29it/s]\u001b[A\n",
      " 48%|████▊     | 48408/100000 [00:28<00:30, 1699.17it/s]\u001b[A\n",
      " 49%|████▊     | 48579/100000 [00:28<00:30, 1672.69it/s]\u001b[A\n",
      " 49%|████▊     | 48747/100000 [00:28<00:30, 1668.24it/s]\u001b[A\n",
      " 49%|████▉     | 48914/100000 [00:28<00:30, 1657.12it/s]\u001b[A\n",
      " 49%|████▉     | 49080/100000 [00:28<00:30, 1656.09it/s]\u001b[A\n",
      " 49%|████▉     | 49259/100000 [00:28<00:29, 1695.16it/s]\u001b[A\n",
      " 49%|████▉     | 49440/100000 [00:28<00:29, 1727.20it/s]\u001b[A\n",
      " 50%|████▉     | 49623/100000 [00:28<00:28, 1756.76it/s]\u001b[A\n",
      " 50%|████▉     | 49799/100000 [00:28<00:28, 1752.66it/s]\u001b[A\n",
      " 50%|████▉     | 49975/100000 [00:29<00:28, 1744.02it/s]\u001b[A\n",
      " 50%|█████     | 50152/100000 [00:29<00:28, 1750.12it/s]\u001b[A\n",
      " 50%|█████     | 50328/100000 [00:29<00:28, 1728.54it/s]\u001b[A\n",
      " 51%|█████     | 50507/100000 [00:29<00:28, 1745.43it/s]\u001b[A\n",
      " 51%|█████     | 50685/100000 [00:29<00:28, 1753.23it/s]\u001b[A\n",
      " 51%|█████     | 50863/100000 [00:29<00:27, 1758.23it/s]\u001b[A\n",
      " 51%|█████     | 51040/100000 [00:29<00:27, 1760.28it/s]\u001b[A\n",
      " 51%|█████     | 51219/100000 [00:29<00:27, 1768.65it/s]\u001b[A\n",
      " 51%|█████▏    | 51402/100000 [00:29<00:27, 1786.21it/s]\u001b[A\n",
      " 52%|█████▏    | 51583/100000 [00:29<00:27, 1790.65it/s]\u001b[A\n",
      " 52%|█████▏    | 51764/100000 [00:30<00:26, 1794.92it/s]\u001b[A\n",
      " 52%|█████▏    | 51944/100000 [00:30<00:27, 1732.37it/s]\u001b[A\n",
      " 52%|█████▏    | 52118/100000 [00:30<00:27, 1729.12it/s]\u001b[A\n",
      " 52%|█████▏    | 52292/100000 [00:30<00:27, 1732.19it/s]\u001b[A\n",
      " 52%|█████▏    | 52467/100000 [00:30<00:27, 1735.04it/s]\u001b[A\n",
      " 53%|█████▎    | 52641/100000 [00:30<00:27, 1736.40it/s]\u001b[A\n",
      " 53%|█████▎    | 52815/100000 [00:30<00:27, 1696.81it/s]\u001b[A\n",
      " 53%|█████▎    | 52985/100000 [00:30<00:28, 1676.17it/s]\u001b[A\n",
      " 53%|█████▎    | 53163/100000 [00:30<00:27, 1706.40it/s]\u001b[A\n",
      " 53%|█████▎    | 53338/100000 [00:30<00:27, 1717.38it/s]\u001b[A\n",
      " 54%|█████▎    | 53518/100000 [00:31<00:26, 1741.45it/s]\u001b[A\n",
      " 54%|█████▎    | 53697/100000 [00:31<00:26, 1754.21it/s]\u001b[A\n",
      " 54%|█████▍    | 53873/100000 [00:31<00:26, 1724.32it/s]\u001b[A\n",
      " 54%|█████▍    | 54061/100000 [00:31<00:25, 1768.77it/s]\u001b[A\n",
      " 54%|█████▍    | 54239/100000 [00:31<00:26, 1738.03it/s]\u001b[A\n",
      " 54%|█████▍    | 54414/100000 [00:31<00:26, 1718.54it/s]\u001b[A\n",
      " 55%|█████▍    | 54587/100000 [00:31<00:26, 1695.67it/s]\u001b[A\n",
      " 55%|█████▍    | 54757/100000 [00:31<00:26, 1681.91it/s]\u001b[A\n",
      " 55%|█████▍    | 54934/100000 [00:31<00:26, 1706.75it/s]\u001b[A\n",
      " 55%|█████▌    | 55112/100000 [00:32<00:26, 1725.77it/s]\u001b[A\n",
      " 55%|█████▌    | 55292/100000 [00:32<00:25, 1744.59it/s]\u001b[A\n",
      " 55%|█████▌    | 55467/100000 [00:32<00:26, 1697.50it/s]\u001b[A\n",
      " 56%|█████▌    | 55638/100000 [00:32<00:26, 1682.08it/s]\u001b[A\n",
      " 56%|█████▌    | 55807/100000 [00:32<00:26, 1654.49it/s]\u001b[A\n",
      " 56%|█████▌    | 55979/100000 [00:32<00:26, 1672.42it/s]\u001b[A\n",
      " 56%|█████▌    | 56152/100000 [00:32<00:25, 1688.61it/s]\u001b[A\n",
      " 56%|█████▋    | 56326/100000 [00:32<00:25, 1701.33it/s]\u001b[A\n",
      " 57%|█████▋    | 56505/100000 [00:32<00:25, 1726.21it/s]\u001b[A\n",
      " 57%|█████▋    | 56685/100000 [00:32<00:24, 1746.09it/s]\u001b[A\n",
      " 57%|█████▋    | 56860/100000 [00:33<00:24, 1733.78it/s]\u001b[A\n",
      " 57%|█████▋    | 57034/100000 [00:33<00:24, 1722.79it/s]\u001b[A\n",
      " 57%|█████▋    | 57222/100000 [00:33<00:24, 1767.07it/s]\u001b[A\n",
      " 57%|█████▋    | 57411/100000 [00:33<00:23, 1802.01it/s]\u001b[A\n",
      " 58%|█████▊    | 57598/100000 [00:33<00:23, 1822.07it/s]\u001b[A\n",
      " 58%|█████▊    | 57781/100000 [00:33<00:23, 1775.05it/s]\u001b[A\n",
      " 58%|█████▊    | 57959/100000 [00:33<00:24, 1741.38it/s]\u001b[A\n",
      " 58%|█████▊    | 58134/100000 [00:33<00:24, 1733.28it/s]\u001b[A\n",
      " 58%|█████▊    | 58308/100000 [00:33<00:24, 1708.34it/s]\u001b[A\n",
      " 58%|█████▊    | 58484/100000 [00:33<00:24, 1721.71it/s]\u001b[A\n",
      " 59%|█████▊    | 58664/100000 [00:34<00:23, 1743.86it/s]\u001b[A\n",
      " 59%|█████▉    | 58843/100000 [00:34<00:23, 1757.21it/s]\u001b[A\n",
      " 59%|█████▉    | 59022/100000 [00:34<00:23, 1766.83it/s]\u001b[A\n",
      " 59%|█████▉    | 59202/100000 [00:34<00:22, 1775.41it/s]\u001b[A\n",
      " 59%|█████▉    | 59381/100000 [00:34<00:22, 1779.49it/s]\u001b[A\n",
      " 60%|█████▉    | 59565/100000 [00:34<00:22, 1795.11it/s]\u001b[A\n",
      " 60%|█████▉    | 59745/100000 [00:34<00:22, 1789.90it/s]\u001b[A\n",
      " 60%|█████▉    | 59925/100000 [00:34<00:22, 1781.48it/s]\u001b[A\n",
      " 60%|██████    | 60104/100000 [00:34<00:22, 1750.11it/s]\u001b[A\n",
      " 60%|██████    | 60283/100000 [00:34<00:22, 1761.52it/s]\u001b[A\n",
      " 60%|██████    | 60462/100000 [00:35<00:22, 1769.67it/s]\u001b[A\n",
      " 61%|██████    | 60642/100000 [00:35<00:22, 1778.52it/s]\u001b[A\n",
      " 61%|██████    | 60820/100000 [00:35<00:22, 1754.80it/s]\u001b[A\n",
      " 61%|██████    | 61008/100000 [00:35<00:21, 1790.38it/s]\u001b[A\n",
      " 61%|██████    | 61192/100000 [00:35<00:21, 1804.43it/s]\u001b[A\n",
      " 61%|██████▏   | 61373/100000 [00:35<00:22, 1746.17it/s]\u001b[A\n",
      " 62%|██████▏   | 61549/100000 [00:35<00:22, 1738.59it/s]\u001b[A\n",
      " 62%|██████▏   | 61728/100000 [00:35<00:21, 1750.64it/s]\u001b[A\n",
      " 62%|██████▏   | 61904/100000 [00:35<00:21, 1741.38it/s]\u001b[A\n",
      " 62%|██████▏   | 62079/100000 [00:36<00:21, 1735.56it/s]\u001b[A\n",
      " 62%|██████▏   | 62256/100000 [00:36<00:21, 1743.03it/s]\u001b[A\n",
      " 62%|██████▏   | 62433/100000 [00:36<00:21, 1749.36it/s]\u001b[A\n",
      " 63%|██████▎   | 62609/100000 [00:36<00:22, 1697.78it/s]\u001b[A\n",
      " 63%|██████▎   | 62780/100000 [00:36<00:22, 1667.30it/s]\u001b[A\n",
      " 63%|██████▎   | 62948/100000 [00:36<00:22, 1639.04it/s]\u001b[A\n",
      " 63%|██████▎   | 63122/100000 [00:36<00:22, 1666.99it/s]\u001b[A\n",
      " 63%|██████▎   | 63299/100000 [00:36<00:21, 1695.07it/s]\u001b[A\n",
      " 63%|██████▎   | 63475/100000 [00:36<00:21, 1711.58it/s]\u001b[A\n",
      " 64%|██████▎   | 63652/100000 [00:36<00:21, 1728.08it/s]\u001b[A\n",
      " 64%|██████▍   | 63825/100000 [00:37<00:21, 1685.93it/s]\u001b[A\n",
      " 64%|██████▍   | 64002/100000 [00:37<00:21, 1708.65it/s]\u001b[A\n",
      " 64%|██████▍   | 64184/100000 [00:37<00:20, 1740.71it/s]\u001b[A\n",
      " 64%|██████▍   | 64362/100000 [00:37<00:20, 1751.60it/s]\u001b[A\n",
      " 65%|██████▍   | 64545/100000 [00:37<00:19, 1772.98it/s]\u001b[A\n",
      " 65%|██████▍   | 64723/100000 [00:37<00:19, 1771.25it/s]\u001b[A\n",
      " 65%|██████▍   | 64906/100000 [00:37<00:19, 1785.82it/s]\u001b[A\n",
      " 65%|██████▌   | 65085/100000 [00:37<00:19, 1780.93it/s]\u001b[A\n",
      " 65%|██████▌   | 65264/100000 [00:37<00:19, 1764.39it/s]\u001b[A\n",
      " 65%|██████▌   | 65443/100000 [00:37<00:19, 1771.64it/s]\u001b[A\n",
      " 66%|██████▌   | 65621/100000 [00:38<00:19, 1772.36it/s]\u001b[A\n",
      " 66%|██████▌   | 65805/100000 [00:38<00:19, 1790.89it/s]\u001b[A\n",
      " 66%|██████▌   | 65987/100000 [00:38<00:18, 1797.91it/s]\u001b[A\n",
      " 66%|██████▌   | 66170/100000 [00:38<00:18, 1806.99it/s]\u001b[A\n",
      " 66%|██████▋   | 66353/100000 [00:38<00:18, 1811.11it/s]\u001b[A\n",
      " 67%|██████▋   | 66535/100000 [00:38<00:18, 1795.24it/s]\u001b[A\n",
      " 67%|██████▋   | 66715/100000 [00:38<00:19, 1741.85it/s]\u001b[A\n",
      " 67%|██████▋   | 66893/100000 [00:38<00:18, 1751.61it/s]\u001b[A\n",
      " 67%|██████▋   | 67072/100000 [00:38<00:18, 1762.36it/s]\u001b[A\n",
      " 67%|██████▋   | 67249/100000 [00:38<00:19, 1712.17it/s]\u001b[A\n",
      " 67%|██████▋   | 67421/100000 [00:39<00:19, 1681.41it/s]\u001b[A\n",
      " 68%|██████▊   | 67596/100000 [00:39<00:19, 1700.81it/s]\u001b[A\n",
      " 68%|██████▊   | 67781/100000 [00:39<00:18, 1744.30it/s]\u001b[A\n",
      " 68%|██████▊   | 67956/100000 [00:39<00:18, 1703.84it/s]\u001b[A\n",
      " 68%|██████▊   | 68127/100000 [00:39<00:18, 1677.95it/s]\u001b[A\n",
      " 68%|██████▊   | 68296/100000 [00:39<00:18, 1675.19it/s]\u001b[A\n",
      " 68%|██████▊   | 68481/100000 [00:39<00:18, 1724.08it/s]\u001b[A\n",
      " 69%|██████▊   | 68665/100000 [00:39<00:17, 1756.46it/s]\u001b[A\n",
      " 69%|██████▉   | 68850/100000 [00:39<00:17, 1783.02it/s]\u001b[A\n",
      " 69%|██████▉   | 69030/100000 [00:39<00:17, 1786.44it/s]\u001b[A\n",
      " 69%|██████▉   | 69212/100000 [00:40<00:17, 1795.35it/s]\u001b[A\n",
      " 69%|██████▉   | 69392/100000 [00:40<00:17, 1786.18it/s]\u001b[A\n",
      " 70%|██████▉   | 69571/100000 [00:40<00:17, 1779.18it/s]\u001b[A\n",
      " 70%|██████▉   | 69752/100000 [00:40<00:16, 1786.40it/s]\u001b[A\n",
      " 70%|██████▉   | 69931/100000 [00:40<00:16, 1778.60it/s]\u001b[A\n",
      " 70%|███████   | 70109/100000 [00:40<00:16, 1778.49it/s]\u001b[A\n",
      " 70%|███████   | 70292/100000 [00:40<00:16, 1791.55it/s]\u001b[A\n",
      " 70%|███████   | 70472/100000 [00:40<00:16, 1783.33it/s]\u001b[A\n",
      " 71%|███████   | 70651/100000 [00:40<00:16, 1784.13it/s]\u001b[A\n",
      " 71%|███████   | 70830/100000 [00:41<00:16, 1779.61it/s]\u001b[A\n",
      " 71%|███████   | 71008/100000 [00:41<00:16, 1760.87it/s]\u001b[A\n",
      " 71%|███████   | 71191/100000 [00:41<00:16, 1778.73it/s]\u001b[A\n",
      " 71%|███████▏  | 71369/100000 [00:41<00:16, 1773.61it/s]\u001b[A\n",
      " 72%|███████▏  | 71547/100000 [00:41<00:16, 1769.99it/s]\u001b[A\n",
      " 72%|███████▏  | 71725/100000 [00:41<00:15, 1769.65it/s]\u001b[A\n",
      " 72%|███████▏  | 71902/100000 [00:41<00:16, 1738.26it/s]\u001b[A\n",
      " 72%|███████▏  | 72086/100000 [00:41<00:15, 1766.85it/s]\u001b[A\n",
      " 72%|███████▏  | 72263/100000 [00:41<00:16, 1725.94it/s]\u001b[A\n",
      " 72%|███████▏  | 72436/100000 [00:41<00:16, 1706.74it/s]\u001b[A\n",
      " 73%|███████▎  | 72607/100000 [00:42<00:16, 1702.49it/s]\u001b[A\n",
      " 73%|███████▎  | 72786/100000 [00:42<00:15, 1726.03it/s]\u001b[A\n",
      " 73%|███████▎  | 72961/100000 [00:42<00:15, 1732.20it/s]\u001b[A\n",
      " 73%|███████▎  | 73135/100000 [00:42<00:15, 1733.52it/s]\u001b[A\n",
      " 73%|███████▎  | 73309/100000 [00:42<00:15, 1726.36it/s]\u001b[A\n",
      " 73%|███████▎  | 73482/100000 [00:42<00:15, 1720.94it/s]\u001b[A\n",
      " 74%|███████▎  | 73659/100000 [00:42<00:15, 1735.21it/s]\u001b[A\n",
      " 74%|███████▍  | 73839/100000 [00:42<00:14, 1751.89it/s]\u001b[A\n",
      " 74%|███████▍  | 74015/100000 [00:42<00:14, 1743.13it/s]\u001b[A\n",
      " 74%|███████▍  | 74190/100000 [00:42<00:14, 1733.86it/s]\u001b[A\n",
      " 74%|███████▍  | 74365/100000 [00:43<00:14, 1737.31it/s]\u001b[A\n",
      " 75%|███████▍  | 74544/100000 [00:43<00:14, 1751.58it/s]\u001b[A\n",
      " 75%|███████▍  | 74724/100000 [00:43<00:14, 1763.31it/s]\u001b[A\n",
      " 75%|███████▍  | 74903/100000 [00:43<00:14, 1770.00it/s]\u001b[A\n",
      " 75%|███████▌  | 75081/100000 [00:43<00:14, 1770.79it/s]\u001b[A\n",
      " 75%|███████▌  | 75259/100000 [00:43<00:14, 1761.54it/s]\u001b[A\n",
      " 75%|███████▌  | 75437/100000 [00:43<00:13, 1765.68it/s]\u001b[A\n",
      " 76%|███████▌  | 75614/100000 [00:43<00:13, 1766.03it/s]\u001b[A\n",
      " 76%|███████▌  | 75791/100000 [00:43<00:13, 1751.70it/s]\u001b[A\n",
      " 76%|███████▌  | 75967/100000 [00:43<00:13, 1750.89it/s]\u001b[A\n",
      " 76%|███████▌  | 76143/100000 [00:44<00:13, 1731.92it/s]\u001b[A\n",
      " 76%|███████▋  | 76317/100000 [00:44<00:13, 1697.50it/s]\u001b[A\n",
      " 77%|███████▋  | 76501/100000 [00:44<00:13, 1735.93it/s]\u001b[A\n",
      " 77%|███████▋  | 76675/100000 [00:44<00:13, 1712.35it/s]\u001b[A\n",
      " 77%|███████▋  | 76847/100000 [00:44<00:13, 1694.38it/s]\u001b[A\n",
      " 77%|███████▋  | 77027/100000 [00:44<00:13, 1724.95it/s]\u001b[A\n",
      " 77%|███████▋  | 77208/100000 [00:44<00:13, 1749.83it/s]\u001b[A\n",
      " 77%|███████▋  | 77391/100000 [00:44<00:12, 1772.73it/s]\u001b[A\n",
      " 78%|███████▊  | 77574/100000 [00:44<00:12, 1789.20it/s]\u001b[A\n",
      " 78%|███████▊  | 77754/100000 [00:44<00:12, 1782.88it/s]\u001b[A\n",
      " 78%|███████▊  | 77933/100000 [00:45<00:12, 1747.05it/s]\u001b[A\n",
      " 78%|███████▊  | 78108/100000 [00:45<00:12, 1737.15it/s]\u001b[A\n",
      " 78%|███████▊  | 78282/100000 [00:45<00:12, 1703.06it/s]\u001b[A\n",
      " 78%|███████▊  | 78463/100000 [00:45<00:12, 1733.16it/s]\u001b[A\n",
      " 79%|███████▊  | 78646/100000 [00:45<00:12, 1759.98it/s]\u001b[A\n",
      " 79%|███████▉  | 78830/100000 [00:45<00:11, 1783.24it/s]\u001b[A\n",
      " 79%|███████▉  | 79009/100000 [00:45<00:11, 1781.90it/s]\u001b[A\n",
      " 79%|███████▉  | 79192/100000 [00:45<00:11, 1793.98it/s]\u001b[A\n",
      " 79%|███████▉  | 79372/100000 [00:45<00:11, 1779.26it/s]\u001b[A\n",
      " 80%|███████▉  | 79551/100000 [00:45<00:11, 1765.99it/s]\u001b[A\n",
      " 80%|███████▉  | 79728/100000 [00:46<00:11, 1719.83it/s]\u001b[A\n",
      " 80%|███████▉  | 79901/100000 [00:46<00:11, 1697.05it/s]\u001b[A\n",
      " 80%|████████  | 80085/100000 [00:46<00:11, 1738.36it/s]\u001b[A\n",
      " 80%|████████  | 80260/100000 [00:46<00:11, 1718.09it/s]\u001b[A\n",
      " 80%|████████  | 80433/100000 [00:46<00:11, 1700.04it/s]\u001b[A\n",
      " 81%|████████  | 80624/100000 [00:46<00:11, 1759.24it/s]\u001b[A\n",
      " 81%|████████  | 80813/100000 [00:46<00:10, 1796.25it/s]\u001b[A\n",
      " 81%|████████  | 81003/100000 [00:46<00:10, 1825.86it/s]\u001b[A\n",
      " 81%|████████  | 81186/100000 [00:46<00:10, 1820.39it/s]\u001b[A\n",
      " 81%|████████▏ | 81369/100000 [00:47<00:10, 1791.58it/s]\u001b[A\n",
      " 82%|████████▏ | 81549/100000 [00:47<00:10, 1780.46it/s]\u001b[A\n",
      " 82%|████████▏ | 81730/100000 [00:47<00:10, 1787.19it/s]\u001b[A\n",
      " 82%|████████▏ | 81909/100000 [00:47<00:10, 1773.19it/s]\u001b[A\n",
      " 82%|████████▏ | 82092/100000 [00:47<00:10, 1788.37it/s]\u001b[A\n",
      " 82%|████████▏ | 82271/100000 [00:47<00:09, 1788.53it/s]\u001b[A\n",
      " 82%|████████▏ | 82456/100000 [00:47<00:09, 1805.11it/s]\u001b[A\n",
      " 83%|████████▎ | 82637/100000 [00:47<00:09, 1753.22it/s]\u001b[A\n",
      " 83%|████████▎ | 82815/100000 [00:47<00:09, 1758.95it/s]\u001b[A\n",
      " 83%|████████▎ | 82992/100000 [00:47<00:09, 1714.69it/s]\u001b[A\n",
      " 83%|████████▎ | 83171/100000 [00:48<00:09, 1736.00it/s]\u001b[A\n",
      " 83%|████████▎ | 83355/100000 [00:48<00:09, 1765.33it/s]\u001b[A\n",
      " 84%|████████▎ | 83535/100000 [00:48<00:09, 1774.99it/s]\u001b[A\n",
      " 84%|████████▎ | 83713/100000 [00:48<00:09, 1728.25it/s]\u001b[A\n",
      " 84%|████████▍ | 83900/100000 [00:48<00:09, 1769.23it/s]\u001b[A\n",
      " 84%|████████▍ | 84089/100000 [00:48<00:08, 1802.38it/s]\u001b[A\n",
      " 84%|████████▍ | 84278/100000 [00:48<00:08, 1826.60it/s]\u001b[A\n",
      " 84%|████████▍ | 84461/100000 [00:48<00:08, 1781.29it/s]\u001b[A\n",
      " 85%|████████▍ | 84640/100000 [00:48<00:08, 1747.22it/s]\u001b[A\n",
      " 85%|████████▍ | 84816/100000 [00:48<00:08, 1749.47it/s]\u001b[A\n",
      " 85%|████████▍ | 84992/100000 [00:49<00:08, 1747.71it/s]\u001b[A\n",
      " 85%|████████▌ | 85170/100000 [00:49<00:08, 1754.88it/s]\u001b[A\n",
      " 85%|████████▌ | 85346/100000 [00:49<00:08, 1750.06it/s]\u001b[A\n",
      " 86%|████████▌ | 85526/100000 [00:49<00:08, 1762.76it/s]\u001b[A\n",
      " 86%|████████▌ | 85703/100000 [00:49<00:08, 1760.76it/s]\u001b[A\n",
      " 86%|████████▌ | 85880/100000 [00:49<00:08, 1759.60it/s]\u001b[A\n",
      " 86%|████████▌ | 86056/100000 [00:49<00:08, 1723.98it/s]\u001b[A\n",
      " 86%|████████▌ | 86242/100000 [00:49<00:07, 1762.58it/s]\u001b[A\n",
      " 86%|████████▋ | 86419/100000 [00:49<00:07, 1733.67it/s]\u001b[A\n",
      " 87%|████████▋ | 86593/100000 [00:50<00:07, 1735.01it/s]\u001b[A\n",
      " 87%|████████▋ | 86778/100000 [00:50<00:07, 1767.80it/s]\u001b[A\n",
      " 87%|████████▋ | 86962/100000 [00:50<00:07, 1786.89it/s]\u001b[A\n",
      " 87%|████████▋ | 87143/100000 [00:50<00:07, 1791.28it/s]\u001b[A\n",
      " 87%|████████▋ | 87324/100000 [00:50<00:07, 1794.64it/s]\u001b[A\n",
      " 88%|████████▊ | 87504/100000 [00:50<00:07, 1745.72it/s]\u001b[A\n",
      " 88%|████████▊ | 87679/100000 [00:50<00:07, 1724.17it/s]\u001b[A\n",
      " 88%|████████▊ | 87862/100000 [00:50<00:06, 1753.34it/s]\u001b[A\n",
      " 88%|████████▊ | 88042/100000 [00:50<00:06, 1766.48it/s]\u001b[A\n",
      " 88%|████████▊ | 88225/100000 [00:50<00:06, 1782.78it/s]\u001b[A\n",
      " 88%|████████▊ | 88404/100000 [00:51<00:06, 1761.06it/s]\u001b[A\n",
      " 89%|████████▊ | 88582/100000 [00:51<00:06, 1766.06it/s]\u001b[A\n",
      " 89%|████████▉ | 88763/100000 [00:51<00:06, 1778.15it/s]\u001b[A\n",
      " 89%|████████▉ | 88941/100000 [00:51<00:06, 1776.28it/s]\u001b[A\n",
      " 89%|████████▉ | 89121/100000 [00:51<00:06, 1782.48it/s]\u001b[A\n",
      " 89%|████████▉ | 89301/100000 [00:51<00:05, 1787.20it/s]\u001b[A\n",
      " 89%|████████▉ | 89482/100000 [00:51<00:05, 1791.80it/s]\u001b[A\n",
      " 90%|████████▉ | 89664/100000 [00:51<00:05, 1799.50it/s]\u001b[A\n",
      " 90%|████████▉ | 89849/100000 [00:51<00:05, 1812.38it/s]\u001b[A\n",
      " 90%|█████████ | 90031/100000 [00:51<00:05, 1803.34it/s]\u001b[A\n",
      " 90%|█████████ | 90212/100000 [00:52<00:05, 1787.57it/s]\u001b[A\n",
      " 90%|█████████ | 90394/100000 [00:52<00:05, 1796.14it/s]\u001b[A\n",
      " 91%|█████████ | 90574/100000 [00:52<00:05, 1788.64it/s]\u001b[A\n",
      " 91%|█████████ | 90753/100000 [00:52<00:05, 1777.26it/s]\u001b[A\n",
      " 91%|█████████ | 90931/100000 [00:52<00:05, 1774.93it/s]\u001b[A\n",
      " 91%|█████████ | 91109/100000 [00:52<00:05, 1771.43it/s]\u001b[A\n",
      " 91%|█████████▏| 91290/100000 [00:52<00:04, 1782.08it/s]\u001b[A\n",
      " 91%|█████████▏| 91469/100000 [00:52<00:04, 1782.01it/s]\u001b[A\n",
      " 92%|█████████▏| 91655/100000 [00:52<00:04, 1803.80it/s]\u001b[A\n",
      " 92%|█████████▏| 91836/100000 [00:52<00:04, 1804.02it/s]\u001b[A\n",
      " 92%|█████████▏| 92017/100000 [00:53<00:04, 1798.98it/s]\u001b[A\n",
      " 92%|█████████▏| 92197/100000 [00:53<00:04, 1782.99it/s]\u001b[A\n",
      " 92%|█████████▏| 92380/100000 [00:53<00:04, 1795.77it/s]\u001b[A\n",
      " 93%|█████████▎| 92560/100000 [00:53<00:04, 1785.65it/s]\u001b[A\n",
      " 93%|█████████▎| 92739/100000 [00:53<00:04, 1725.58it/s]\u001b[A\n",
      " 93%|█████████▎| 92912/100000 [00:53<00:04, 1721.63it/s]\u001b[A\n",
      " 93%|█████████▎| 93085/100000 [00:53<00:04, 1697.77it/s]\u001b[A\n",
      " 93%|█████████▎| 93256/100000 [00:53<00:04, 1672.30it/s]\u001b[A\n",
      " 93%|█████████▎| 93424/100000 [00:53<00:03, 1658.66it/s]\u001b[A\n",
      " 94%|█████████▎| 93590/100000 [00:53<00:03, 1623.90it/s]\u001b[A\n",
      " 94%|█████████▍| 93753/100000 [00:54<00:03, 1614.46it/s]\u001b[A\n",
      " 94%|█████████▍| 93931/100000 [00:54<00:03, 1660.30it/s]\u001b[A\n",
      " 94%|█████████▍| 94098/100000 [00:54<00:03, 1652.84it/s]\u001b[A\n",
      " 94%|█████████▍| 94274/100000 [00:54<00:03, 1682.23it/s]\u001b[A\n",
      " 94%|█████████▍| 94443/100000 [00:54<00:03, 1671.39it/s]\u001b[A\n",
      " 95%|█████████▍| 94611/100000 [00:54<00:03, 1666.97it/s]\u001b[A\n",
      " 95%|█████████▍| 94787/100000 [00:54<00:03, 1692.77it/s]\u001b[A\n",
      " 95%|█████████▍| 94965/100000 [00:54<00:02, 1717.57it/s]\u001b[A\n",
      " 95%|█████████▌| 95147/100000 [00:54<00:02, 1745.96it/s]\u001b[A\n",
      " 95%|█████████▌| 95326/100000 [00:54<00:02, 1758.43it/s]\u001b[A\n",
      " 96%|█████████▌| 95507/100000 [00:55<00:02, 1773.54it/s]\u001b[A\n",
      " 96%|█████████▌| 95685/100000 [00:55<00:02, 1732.79it/s]\u001b[A\n",
      " 96%|█████████▌| 95863/100000 [00:55<00:02, 1745.54it/s]\u001b[A\n",
      " 96%|█████████▌| 96038/100000 [00:55<00:02, 1700.51it/s]\u001b[A\n",
      " 96%|█████████▌| 96221/100000 [00:55<00:02, 1735.53it/s]\u001b[A\n",
      " 96%|█████████▋| 96397/100000 [00:55<00:02, 1742.29it/s]\u001b[A\n",
      " 97%|█████████▋| 96578/100000 [00:55<00:01, 1759.69it/s]\u001b[A\n",
      " 97%|█████████▋| 96756/100000 [00:55<00:01, 1762.71it/s]\u001b[A\n",
      " 97%|█████████▋| 96935/100000 [00:55<00:01, 1769.77it/s]\u001b[A\n",
      " 97%|█████████▋| 97113/100000 [00:56<00:01, 1760.32it/s]\u001b[A\n",
      " 97%|█████████▋| 97294/100000 [00:56<00:01, 1774.27it/s]\u001b[A\n",
      " 97%|█████████▋| 97472/100000 [00:56<00:01, 1738.77it/s]\u001b[A\n",
      " 98%|█████████▊| 97657/100000 [00:56<00:01, 1770.06it/s]\u001b[A\n",
      " 98%|█████████▊| 97835/100000 [00:56<00:01, 1731.24it/s]\u001b[A\n",
      " 98%|█████████▊| 98009/100000 [00:56<00:01, 1716.64it/s]\u001b[A\n",
      " 98%|█████████▊| 98192/100000 [00:56<00:01, 1749.22it/s]\u001b[A\n",
      " 98%|█████████▊| 98368/100000 [00:56<00:00, 1720.19it/s]\u001b[A\n",
      " 99%|█████████▊| 98549/100000 [00:56<00:00, 1746.17it/s]\u001b[A\n",
      " 99%|█████████▊| 98724/100000 [00:56<00:00, 1715.82it/s]\u001b[A\n",
      " 99%|█████████▉| 98909/100000 [00:57<00:00, 1752.72it/s]\u001b[A\n",
      " 99%|█████████▉| 99094/100000 [00:57<00:00, 1780.74it/s]\u001b[A\n",
      " 99%|█████████▉| 99273/100000 [00:57<00:00, 1735.84it/s]\u001b[A\n",
      " 99%|█████████▉| 99455/100000 [00:57<00:00, 1760.03it/s]\u001b[A\n",
      "100%|█████████▉| 99632/100000 [00:57<00:00, 1722.13it/s]\u001b[A\n",
      "100%|█████████▉| 99812/100000 [00:57<00:00, 1742.98it/s]\u001b[A\n",
      "100%|██████████| 100000/100000 [00:57<00:00, 1734.02it/s][A\n",
      "\n",
      "  0%|          | 0/100000 [00:00<?, ?it/s]\u001b[A\n",
      "  0%|          | 182/100000 [00:00<00:54, 1819.83it/s]\u001b[A\n",
      "  0%|          | 364/100000 [00:00<00:55, 1796.70it/s]\u001b[A\n",
      "  1%|          | 544/100000 [00:00<00:55, 1780.51it/s]\u001b[A\n",
      "  1%|          | 724/100000 [00:00<00:55, 1784.46it/s]\u001b[A\n",
      "  1%|          | 903/100000 [00:00<00:55, 1785.92it/s]\u001b[A\n",
      "  1%|          | 1082/100000 [00:00<00:55, 1783.38it/s]\u001b[A\n",
      "  1%|▏         | 1261/100000 [00:00<00:55, 1779.75it/s]\u001b[A\n",
      "  1%|▏         | 1441/100000 [00:00<00:55, 1785.89it/s]\u001b[A\n",
      "  2%|▏         | 1622/100000 [00:00<00:54, 1792.32it/s]\u001b[A\n",
      "  2%|▏         | 1809/100000 [00:01<00:54, 1814.20it/s]\u001b[A\n",
      "  2%|▏         | 1991/100000 [00:01<00:54, 1795.62it/s]\u001b[A\n",
      "  2%|▏         | 2171/100000 [00:01<00:54, 1778.87it/s]\u001b[A\n",
      "  2%|▏         | 2349/100000 [00:01<00:55, 1764.01it/s]\u001b[A\n",
      "  3%|▎         | 2526/100000 [00:01<00:55, 1764.69it/s]\u001b[A\n",
      "  3%|▎         | 2706/100000 [00:01<00:54, 1772.54it/s]\u001b[A\n",
      "  3%|▎         | 2884/100000 [00:01<00:54, 1773.52it/s]\u001b[A\n",
      "  3%|▎         | 3062/100000 [00:01<00:54, 1763.56it/s]\u001b[A\n",
      "  3%|▎         | 3239/100000 [00:01<00:55, 1753.64it/s]\u001b[A\n",
      "  3%|▎         | 3415/100000 [00:01<00:55, 1741.13it/s]\u001b[A\n",
      "  4%|▎         | 3595/100000 [00:02<00:54, 1757.66it/s]\u001b[A\n",
      "  4%|▍         | 3771/100000 [00:02<00:54, 1751.18it/s]\u001b[A\n",
      "  4%|▍         | 3950/100000 [00:02<00:54, 1762.58it/s]\u001b[A\n",
      "  4%|▍         | 4127/100000 [00:02<00:54, 1754.63it/s]\u001b[A\n",
      "  4%|▍         | 4303/100000 [00:02<00:54, 1745.86it/s]\u001b[A\n",
      "  4%|▍         | 4479/100000 [00:02<00:54, 1749.05it/s]\u001b[A\n",
      "  5%|▍         | 4656/100000 [00:02<00:54, 1753.99it/s]\u001b[A\n",
      "  5%|▍         | 4832/100000 [00:02<00:54, 1746.05it/s]\u001b[A\n",
      "  5%|▌         | 5010/100000 [00:02<00:54, 1753.38it/s]\u001b[A\n",
      "  5%|▌         | 5186/100000 [00:02<00:54, 1750.56it/s]\u001b[A\n",
      "  5%|▌         | 5362/100000 [00:03<00:54, 1744.85it/s]\u001b[A\n",
      "  6%|▌         | 5542/100000 [00:03<00:53, 1759.55it/s]\u001b[A\n",
      "  6%|▌         | 5718/100000 [00:03<00:53, 1752.97it/s]\u001b[A\n",
      "  6%|▌         | 5895/100000 [00:03<00:53, 1756.75it/s]\u001b[A\n",
      "  6%|▌         | 6071/100000 [00:03<00:53, 1749.99it/s]\u001b[A\n",
      "  6%|▌         | 6248/100000 [00:03<00:53, 1753.27it/s]\u001b[A\n",
      "  6%|▋         | 6424/100000 [00:03<00:54, 1727.02it/s]\u001b[A\n",
      "  7%|▋         | 6597/100000 [00:03<00:54, 1721.74it/s]\u001b[A\n",
      "  7%|▋         | 6774/100000 [00:03<00:53, 1735.07it/s]\u001b[A\n",
      "  7%|▋         | 6948/100000 [00:03<00:53, 1732.84it/s]\u001b[A\n",
      "  7%|▋         | 7122/100000 [00:04<00:54, 1706.47it/s]\u001b[A\n",
      "  7%|▋         | 7298/100000 [00:04<00:53, 1720.47it/s]\u001b[A\n",
      "  7%|▋         | 7475/100000 [00:04<00:53, 1734.34it/s]\u001b[A\n",
      "  8%|▊         | 7649/100000 [00:04<00:53, 1720.48it/s]\u001b[A\n",
      "  8%|▊         | 7822/100000 [00:04<00:53, 1719.24it/s]\u001b[A\n",
      "  8%|▊         | 7999/100000 [00:04<00:53, 1732.81it/s]\u001b[A\n",
      "  8%|▊         | 8173/100000 [00:04<00:54, 1694.46it/s]\u001b[A\n",
      "  8%|▊         | 8343/100000 [00:04<00:54, 1677.49it/s]\u001b[A\n",
      "  9%|▊         | 8516/100000 [00:04<00:54, 1691.28it/s]\u001b[A\n",
      "  9%|▊         | 8697/100000 [00:04<00:52, 1725.28it/s]\u001b[A\n",
      "  9%|▉         | 8878/100000 [00:05<00:52, 1747.78it/s]\u001b[A\n",
      "  9%|▉         | 9055/100000 [00:05<00:51, 1753.97it/s]\u001b[A\n",
      "  9%|▉         | 9232/100000 [00:05<00:51, 1756.93it/s]\u001b[A\n",
      "  9%|▉         | 9408/100000 [00:05<00:51, 1745.40it/s]\u001b[A\n",
      " 10%|▉         | 9583/100000 [00:05<00:53, 1704.84it/s]\u001b[A\n",
      " 10%|▉         | 9764/100000 [00:05<00:52, 1734.21it/s]\u001b[A\n",
      " 10%|▉         | 9938/100000 [00:05<00:52, 1706.67it/s]\u001b[A\n",
      " 10%|█         | 10118/100000 [00:05<00:51, 1731.90it/s]\u001b[A\n",
      " 10%|█         | 10303/100000 [00:05<00:50, 1765.84it/s]\u001b[A\n",
      " 10%|█         | 10480/100000 [00:05<00:51, 1748.56it/s]\u001b[A\n",
      " 11%|█         | 10658/100000 [00:06<00:50, 1756.33it/s]\u001b[A\n",
      " 11%|█         | 10834/100000 [00:06<00:51, 1739.47it/s]\u001b[A\n",
      " 11%|█         | 11009/100000 [00:06<00:52, 1694.35it/s]\u001b[A\n",
      " 11%|█         | 11186/100000 [00:06<00:51, 1714.80it/s]\u001b[A\n",
      " 11%|█▏        | 11372/100000 [00:06<00:50, 1756.79it/s]\u001b[A\n",
      " 12%|█▏        | 11560/100000 [00:06<00:49, 1792.41it/s]\u001b[A\n",
      " 12%|█▏        | 11740/100000 [00:06<00:49, 1784.16it/s]\u001b[A\n",
      " 12%|█▏        | 11919/100000 [00:06<00:50, 1746.15it/s]\u001b[A\n",
      " 12%|█▏        | 12100/100000 [00:06<00:49, 1764.36it/s]\u001b[A\n",
      " 12%|█▏        | 12285/100000 [00:07<00:49, 1787.16it/s]\u001b[A\n",
      " 12%|█▏        | 12464/100000 [00:07<00:50, 1742.40it/s]\u001b[A\n",
      " 13%|█▎        | 12639/100000 [00:07<00:50, 1720.84it/s]\u001b[A\n",
      " 13%|█▎        | 12812/100000 [00:07<00:51, 1679.76it/s]\u001b[A\n",
      " 13%|█▎        | 12981/100000 [00:07<00:52, 1663.23it/s]\u001b[A\n",
      " 13%|█▎        | 13165/100000 [00:07<00:50, 1713.15it/s]\u001b[A\n",
      " 13%|█▎        | 13356/100000 [00:07<00:48, 1770.17it/s]\u001b[A\n",
      " 14%|█▎        | 13543/100000 [00:07<00:48, 1799.33it/s]\u001b[A\n",
      " 14%|█▎        | 13724/100000 [00:07<00:49, 1756.69it/s]\u001b[A\n",
      " 14%|█▍        | 13901/100000 [00:07<00:49, 1725.46it/s]\u001b[A\n",
      " 14%|█▍        | 14082/100000 [00:08<00:49, 1747.20it/s]\u001b[A\n",
      " 14%|█▍        | 14261/100000 [00:08<00:48, 1757.97it/s]\u001b[A\n",
      " 14%|█▍        | 14438/100000 [00:08<00:49, 1728.56it/s]\u001b[A\n",
      " 15%|█▍        | 14612/100000 [00:08<00:50, 1691.43it/s]\u001b[A\n",
      " 15%|█▍        | 14788/100000 [00:08<00:49, 1709.05it/s]\u001b[A\n",
      " 15%|█▍        | 14968/100000 [00:08<00:49, 1734.52it/s]\u001b[A\n",
      " 15%|█▌        | 15148/100000 [00:08<00:48, 1751.35it/s]\u001b[A\n",
      " 15%|█▌        | 15327/100000 [00:08<00:48, 1762.06it/s]\u001b[A\n",
      " 16%|█▌        | 15505/100000 [00:08<00:47, 1765.47it/s]\u001b[A\n",
      " 16%|█▌        | 15687/100000 [00:08<00:47, 1778.37it/s]\u001b[A\n",
      " 16%|█▌        | 15865/100000 [00:09<00:47, 1773.25it/s]\u001b[A\n",
      " 16%|█▌        | 16045/100000 [00:09<00:47, 1778.71it/s]\u001b[A\n",
      " 16%|█▌        | 16223/100000 [00:09<00:47, 1771.05it/s]\u001b[A\n",
      " 16%|█▋        | 16401/100000 [00:09<00:47, 1772.99it/s]\u001b[A\n",
      " 17%|█▋        | 16583/100000 [00:09<00:46, 1786.33it/s]\u001b[A\n",
      " 17%|█▋        | 16764/100000 [00:09<00:46, 1792.11it/s]\u001b[A\n",
      " 17%|█▋        | 16945/100000 [00:09<00:46, 1795.05it/s]\u001b[A\n",
      " 17%|█▋        | 17126/100000 [00:09<00:46, 1799.13it/s]\u001b[A\n",
      " 17%|█▋        | 17306/100000 [00:09<00:46, 1796.91it/s]\u001b[A\n",
      " 17%|█▋        | 17488/100000 [00:09<00:45, 1803.19it/s]\u001b[A\n",
      " 18%|█▊        | 17670/100000 [00:10<00:45, 1805.67it/s]\u001b[A\n",
      " 18%|█▊        | 17851/100000 [00:10<00:45, 1799.76it/s]\u001b[A\n",
      " 18%|█▊        | 18031/100000 [00:10<00:45, 1789.54it/s]\u001b[A\n",
      " 18%|█▊        | 18210/100000 [00:10<00:46, 1765.90it/s]\u001b[A\n",
      " 18%|█▊        | 18387/100000 [00:10<00:47, 1722.33it/s]\u001b[A\n",
      " 19%|█▊        | 18560/100000 [00:10<00:47, 1718.61it/s]\u001b[A\n",
      " 19%|█▊        | 18733/100000 [00:10<00:48, 1681.25it/s]\u001b[A\n",
      " 19%|█▉        | 18904/100000 [00:10<00:48, 1688.79it/s]\u001b[A\n",
      " 19%|█▉        | 19078/100000 [00:10<00:47, 1703.36it/s]\u001b[A\n",
      " 19%|█▉        | 19253/100000 [00:11<00:47, 1714.42it/s]\u001b[A\n",
      " 19%|█▉        | 19429/100000 [00:11<00:46, 1726.51it/s]\u001b[A\n",
      " 20%|█▉        | 19602/100000 [00:11<00:47, 1689.06it/s]\u001b[A\n",
      " 20%|█▉        | 19772/100000 [00:11<00:48, 1663.89it/s]\u001b[A\n",
      " 20%|█▉        | 19939/100000 [00:11<00:48, 1640.92it/s]\u001b[A\n",
      " 20%|██        | 20118/100000 [00:11<00:47, 1683.53it/s]\u001b[A\n",
      " 20%|██        | 20295/100000 [00:11<00:46, 1707.51it/s]\u001b[A\n",
      " 20%|██        | 20474/100000 [00:11<00:45, 1730.32it/s]\u001b[A\n",
      " 21%|██        | 20656/100000 [00:11<00:45, 1754.39it/s]\u001b[A\n",
      " 21%|██        | 20839/100000 [00:11<00:44, 1775.55it/s]\u001b[A\n",
      " 21%|██        | 21020/100000 [00:12<00:44, 1784.27it/s]\u001b[A\n",
      " 21%|██        | 21205/100000 [00:12<00:43, 1800.09it/s]\u001b[A\n",
      " 21%|██▏       | 21386/100000 [00:12<00:43, 1796.83it/s]\u001b[A\n",
      " 22%|██▏       | 21567/100000 [00:12<00:43, 1800.47it/s]\u001b[A\n",
      " 22%|██▏       | 21748/100000 [00:12<00:45, 1736.09it/s]\u001b[A\n",
      " 22%|██▏       | 21928/100000 [00:12<00:44, 1754.59it/s]\u001b[A\n",
      " 22%|██▏       | 22116/100000 [00:12<00:43, 1789.11it/s]\u001b[A\n",
      " 22%|██▏       | 22303/100000 [00:12<00:42, 1812.97it/s]\u001b[A\n",
      " 22%|██▏       | 22489/100000 [00:12<00:42, 1825.07it/s]\u001b[A\n",
      " 23%|██▎       | 22673/100000 [00:12<00:42, 1827.53it/s]\u001b[A\n",
      " 23%|██▎       | 22856/100000 [00:13<00:42, 1820.69it/s]\u001b[A\n",
      " 23%|██▎       | 23039/100000 [00:13<00:42, 1800.85it/s]\u001b[A\n",
      " 23%|██▎       | 23220/100000 [00:13<00:42, 1789.98it/s]\u001b[A\n",
      " 23%|██▎       | 23400/100000 [00:13<00:42, 1784.34it/s]\u001b[A\n",
      " 24%|██▎       | 23581/100000 [00:13<00:42, 1787.79it/s]\u001b[A\n",
      " 24%|██▍       | 23760/100000 [00:13<00:43, 1747.80it/s]\u001b[A\n",
      " 24%|██▍       | 23944/100000 [00:13<00:42, 1773.44it/s]\u001b[A\n",
      " 24%|██▍       | 24122/100000 [00:13<00:44, 1719.55it/s]\u001b[A\n",
      " 24%|██▍       | 24303/100000 [00:13<00:43, 1744.32it/s]\u001b[A\n",
      " 24%|██▍       | 24486/100000 [00:13<00:42, 1767.64it/s]\u001b[A\n",
      " 25%|██▍       | 24668/100000 [00:14<00:42, 1782.06it/s]\u001b[A\n",
      " 25%|██▍       | 24847/100000 [00:14<00:42, 1757.86it/s]\u001b[A\n",
      " 25%|██▌       | 25029/100000 [00:14<00:42, 1775.55it/s]\u001b[A\n",
      " 25%|██▌       | 25210/100000 [00:14<00:41, 1784.96it/s]\u001b[A\n",
      " 25%|██▌       | 25389/100000 [00:14<00:42, 1765.33it/s]\u001b[A\n",
      " 26%|██▌       | 25571/100000 [00:14<00:41, 1778.43it/s]\u001b[A\n",
      " 26%|██▌       | 25749/100000 [00:14<00:42, 1762.09it/s]\u001b[A\n",
      " 26%|██▌       | 25929/100000 [00:14<00:41, 1772.57it/s]\u001b[A\n",
      " 26%|██▌       | 26112/100000 [00:14<00:41, 1787.35it/s]\u001b[A\n",
      " 26%|██▋       | 26292/100000 [00:14<00:41, 1787.88it/s]\u001b[A\n",
      " 26%|██▋       | 26471/100000 [00:15<00:41, 1778.00it/s]\u001b[A\n",
      " 27%|██▋       | 26652/100000 [00:15<00:41, 1786.44it/s]\u001b[A\n",
      " 27%|██▋       | 26831/100000 [00:15<00:41, 1783.40it/s]\u001b[A\n",
      " 27%|██▋       | 27012/100000 [00:15<00:40, 1790.47it/s]\u001b[A\n",
      " 27%|██▋       | 27193/100000 [00:15<00:40, 1793.71it/s]\u001b[A\n",
      " 27%|██▋       | 27375/100000 [00:15<00:40, 1800.84it/s]\u001b[A\n",
      " 28%|██▊       | 27556/100000 [00:15<00:40, 1802.19it/s]\u001b[A\n",
      " 28%|██▊       | 27738/100000 [00:15<00:40, 1806.31it/s]\u001b[A\n",
      " 28%|██▊       | 27919/100000 [00:15<00:39, 1806.08it/s]\u001b[A\n",
      " 28%|██▊       | 28100/100000 [00:15<00:39, 1805.09it/s]\u001b[A\n",
      " 28%|██▊       | 28285/100000 [00:16<00:39, 1816.79it/s]\u001b[A\n",
      " 28%|██▊       | 28467/100000 [00:16<00:39, 1810.55it/s]\u001b[A\n",
      " 29%|██▊       | 28649/100000 [00:16<00:40, 1752.72it/s]\u001b[A\n",
      " 29%|██▉       | 28833/100000 [00:16<00:40, 1777.01it/s]\u001b[A\n",
      " 29%|██▉       | 29020/100000 [00:16<00:39, 1804.15it/s]\u001b[A\n",
      " 29%|██▉       | 29201/100000 [00:16<00:39, 1792.90it/s]\u001b[A\n",
      " 29%|██▉       | 29381/100000 [00:16<00:39, 1785.97it/s]\u001b[A\n",
      " 30%|██▉       | 29560/100000 [00:16<00:39, 1780.78it/s]\u001b[A\n",
      " 30%|██▉       | 29739/100000 [00:16<00:39, 1778.74it/s]\u001b[A\n",
      " 30%|██▉       | 29920/100000 [00:17<00:39, 1786.77it/s]\u001b[A\n",
      " 30%|███       | 30099/100000 [00:17<00:39, 1784.79it/s]\u001b[A\n",
      " 30%|███       | 30278/100000 [00:17<00:39, 1747.47it/s]\u001b[A\n",
      " 30%|███       | 30454/100000 [00:17<00:39, 1748.97it/s]\u001b[A\n",
      " 31%|███       | 30630/100000 [00:17<00:40, 1695.14it/s]\u001b[A\n",
      " 31%|███       | 30806/100000 [00:17<00:40, 1713.09it/s]\u001b[A\n",
      " 31%|███       | 30982/100000 [00:17<00:40, 1724.75it/s]\u001b[A\n",
      " 31%|███       | 31161/100000 [00:17<00:39, 1742.90it/s]\u001b[A\n",
      " 31%|███▏      | 31340/100000 [00:17<00:39, 1754.71it/s]\u001b[A\n",
      " 32%|███▏      | 31516/100000 [00:17<00:39, 1725.64it/s]\u001b[A\n",
      " 32%|███▏      | 31702/100000 [00:18<00:38, 1763.55it/s]\u001b[A\n",
      " 32%|███▏      | 31886/100000 [00:18<00:38, 1784.84it/s]\u001b[A\n",
      " 32%|███▏      | 32068/100000 [00:18<00:37, 1794.59it/s]\u001b[A\n",
      " 32%|███▏      | 32248/100000 [00:18<00:38, 1745.48it/s]\u001b[A\n",
      " 32%|███▏      | 32426/100000 [00:18<00:38, 1755.39it/s]\u001b[A\n",
      " 33%|███▎      | 32609/100000 [00:18<00:37, 1777.27it/s]\u001b[A\n",
      " 33%|███▎      | 32792/100000 [00:18<00:37, 1790.93it/s]\u001b[A\n",
      " 33%|███▎      | 32973/100000 [00:18<00:37, 1795.48it/s]\u001b[A\n",
      " 33%|███▎      | 33153/100000 [00:18<00:37, 1790.99it/s]\u001b[A\n",
      " 33%|███▎      | 33337/100000 [00:18<00:36, 1803.30it/s]\u001b[A\n",
      " 34%|███▎      | 33518/100000 [00:19<00:36, 1798.81it/s]\u001b[A\n",
      " 34%|███▎      | 33701/100000 [00:19<00:36, 1805.21it/s]\u001b[A\n",
      " 34%|███▍      | 33882/100000 [00:19<00:37, 1754.10it/s]\u001b[A\n",
      " 34%|███▍      | 34062/100000 [00:19<00:37, 1765.06it/s]\u001b[A\n",
      " 34%|███▍      | 34239/100000 [00:19<00:38, 1730.55it/s]\u001b[A\n",
      " 34%|███▍      | 34426/100000 [00:19<00:37, 1769.18it/s]\u001b[A\n",
      " 35%|███▍      | 34604/100000 [00:19<00:37, 1744.86it/s]\u001b[A\n",
      " 35%|███▍      | 34787/100000 [00:19<00:36, 1767.84it/s]\u001b[A\n",
      " 35%|███▍      | 34972/100000 [00:19<00:36, 1791.15it/s]\u001b[A\n",
      " 35%|███▌      | 35156/100000 [00:19<00:35, 1802.98it/s]\u001b[A\n",
      " 35%|███▌      | 35341/100000 [00:20<00:35, 1813.75it/s]\u001b[A\n",
      " 36%|███▌      | 35526/100000 [00:20<00:35, 1822.93it/s]\u001b[A\n",
      " 36%|███▌      | 35709/100000 [00:20<00:35, 1819.98it/s]\u001b[A\n",
      " 36%|███▌      | 35892/100000 [00:20<00:35, 1795.28it/s]\u001b[A\n",
      " 36%|███▌      | 36076/100000 [00:20<00:35, 1807.76it/s]\u001b[A\n",
      " 36%|███▋      | 36257/100000 [00:20<00:36, 1752.35it/s]\u001b[A\n",
      " 36%|███▋      | 36433/100000 [00:20<00:36, 1750.09it/s]\u001b[A\n",
      " 37%|███▋      | 36617/100000 [00:20<00:35, 1775.37it/s]\u001b[A\n",
      " 37%|███▋      | 36801/100000 [00:20<00:35, 1791.36it/s]\u001b[A\n",
      " 37%|███▋      | 36984/100000 [00:21<00:34, 1802.41it/s]\u001b[A\n",
      " 37%|███▋      | 37167/100000 [00:21<00:34, 1810.04it/s]\u001b[A\n",
      " 37%|███▋      | 37352/100000 [00:21<00:34, 1821.83it/s]\u001b[A\n",
      " 38%|███▊      | 37535/100000 [00:21<00:34, 1814.47it/s]\u001b[A\n",
      " 38%|███▊      | 37717/100000 [00:21<00:34, 1803.68it/s]\u001b[A\n",
      " 38%|███▊      | 37898/100000 [00:21<00:34, 1792.31it/s]\u001b[A\n",
      " 38%|███▊      | 38078/100000 [00:21<00:35, 1721.29it/s]\u001b[A\n",
      " 38%|███▊      | 38251/100000 [00:21<00:36, 1685.00it/s]\u001b[A\n",
      " 38%|███▊      | 38432/100000 [00:21<00:35, 1719.44it/s]\u001b[A\n",
      " 39%|███▊      | 38606/100000 [00:21<00:35, 1725.25it/s]\u001b[A\n",
      " 39%|███▉      | 38783/100000 [00:22<00:35, 1737.38it/s]\u001b[A\n",
      " 39%|███▉      | 38961/100000 [00:22<00:34, 1749.76it/s]\u001b[A\n",
      " 39%|███▉      | 39139/100000 [00:22<00:34, 1757.19it/s]\u001b[A\n",
      " 39%|███▉      | 39318/100000 [00:22<00:34, 1766.16it/s]\u001b[A\n",
      " 39%|███▉      | 39495/100000 [00:22<00:34, 1761.78it/s]\u001b[A\n",
      " 40%|███▉      | 39672/100000 [00:22<00:34, 1763.74it/s]\u001b[A\n",
      " 40%|███▉      | 39850/100000 [00:22<00:34, 1768.53it/s]\u001b[A\n",
      " 40%|████      | 40027/100000 [00:22<00:33, 1768.12it/s]\u001b[A\n",
      " 40%|████      | 40204/100000 [00:22<00:34, 1709.91it/s]\u001b[A\n",
      " 40%|████      | 40376/100000 [00:22<00:35, 1681.17it/s]\u001b[A\n",
      " 41%|████      | 40553/100000 [00:23<00:34, 1706.57it/s]\u001b[A\n",
      " 41%|████      | 40738/100000 [00:23<00:33, 1747.14it/s]\u001b[A\n",
      " 41%|████      | 40914/100000 [00:23<00:33, 1740.36it/s]\u001b[A\n",
      " 41%|████      | 41089/100000 [00:23<00:35, 1663.71it/s]\u001b[A\n",
      " 41%|████▏     | 41257/100000 [00:23<00:36, 1617.11it/s]\u001b[A\n",
      " 41%|████▏     | 41420/100000 [00:23<00:36, 1586.56it/s]\u001b[A\n",
      " 42%|████▏     | 41580/100000 [00:23<00:37, 1566.11it/s]\u001b[A\n",
      " 42%|████▏     | 41737/100000 [00:23<00:37, 1543.76it/s]\u001b[A\n",
      " 42%|████▏     | 41892/100000 [00:23<00:37, 1536.97it/s]\u001b[A\n",
      " 42%|████▏     | 42046/100000 [00:24<00:37, 1527.08it/s]\u001b[A\n",
      " 42%|████▏     | 42199/100000 [00:24<00:37, 1524.64it/s]\u001b[A\n",
      " 42%|████▏     | 42352/100000 [00:24<00:37, 1521.55it/s]\u001b[A\n",
      " 43%|████▎     | 42505/100000 [00:24<00:37, 1515.95it/s]\u001b[A\n",
      " 43%|████▎     | 42657/100000 [00:24<00:38, 1506.94it/s]\u001b[A\n",
      " 43%|████▎     | 42808/100000 [00:24<00:37, 1505.35it/s]\u001b[A\n",
      " 43%|████▎     | 42960/100000 [00:24<00:37, 1508.79it/s]\u001b[A\n",
      " 43%|████▎     | 43111/100000 [00:24<00:38, 1478.50it/s]\u001b[A\n",
      " 43%|████▎     | 43263/100000 [00:24<00:38, 1490.16it/s]\u001b[A\n",
      " 43%|████▎     | 43413/100000 [00:24<00:38, 1487.97it/s]\u001b[A\n",
      " 44%|████▎     | 43563/100000 [00:25<00:37, 1490.71it/s]\u001b[A\n",
      " 44%|████▎     | 43713/100000 [00:25<00:37, 1491.44it/s]\u001b[A\n",
      " 44%|████▍     | 43864/100000 [00:25<00:37, 1494.40it/s]\u001b[A\n",
      " 44%|████▍     | 44015/100000 [00:25<00:37, 1496.73it/s]\u001b[A\n",
      " 44%|████▍     | 44165/100000 [00:25<00:37, 1495.96it/s]\u001b[A\n",
      " 44%|████▍     | 44315/100000 [00:25<00:37, 1493.93it/s]\u001b[A\n",
      " 44%|████▍     | 44467/100000 [00:25<00:37, 1500.23it/s]\u001b[A\n",
      " 45%|████▍     | 44618/100000 [00:25<00:36, 1498.45it/s]\u001b[A\n",
      " 45%|████▍     | 44768/100000 [00:25<00:36, 1498.23it/s]\u001b[A\n",
      " 45%|████▍     | 44919/100000 [00:25<00:36, 1499.48it/s]\u001b[A\n",
      " 45%|████▌     | 45071/100000 [00:26<00:36, 1503.08it/s]\u001b[A\n",
      " 45%|████▌     | 45222/100000 [00:26<00:36, 1501.22it/s]\u001b[A\n",
      " 45%|████▌     | 45374/100000 [00:26<00:36, 1504.93it/s]\u001b[A\n",
      " 46%|████▌     | 45525/100000 [00:26<00:36, 1486.10it/s]\u001b[A\n",
      " 46%|████▌     | 45682/100000 [00:26<00:36, 1508.76it/s]\u001b[A\n",
      " 46%|████▌     | 45842/100000 [00:26<00:35, 1534.36it/s]\u001b[A\n",
      " 46%|████▌     | 46003/100000 [00:26<00:34, 1554.46it/s]\u001b[A\n",
      " 46%|████▌     | 46163/100000 [00:26<00:34, 1567.42it/s]\u001b[A\n",
      " 46%|████▋     | 46323/100000 [00:26<00:34, 1575.52it/s]\u001b[A\n",
      " 46%|████▋     | 46483/100000 [00:26<00:33, 1581.48it/s]\u001b[A\n",
      " 47%|████▋     | 46642/100000 [00:27<00:33, 1583.00it/s]\u001b[A\n",
      " 47%|████▋     | 46803/100000 [00:27<00:33, 1589.87it/s]\u001b[A\n",
      " 47%|████▋     | 46964/100000 [00:27<00:33, 1593.55it/s]\u001b[A\n",
      " 47%|████▋     | 47125/100000 [00:27<00:33, 1596.38it/s]\u001b[A\n",
      " 47%|████▋     | 47286/100000 [00:27<00:32, 1597.99it/s]\u001b[A\n",
      " 47%|████▋     | 47447/100000 [00:27<00:32, 1599.30it/s]\u001b[A\n",
      " 48%|████▊     | 47607/100000 [00:27<00:32, 1598.56it/s]\u001b[A\n",
      " 48%|████▊     | 47767/100000 [00:27<00:32, 1595.33it/s]\u001b[A\n",
      " 48%|████▊     | 47927/100000 [00:27<00:32, 1596.48it/s]\u001b[A\n",
      " 48%|████▊     | 48088/100000 [00:27<00:32, 1598.94it/s]\u001b[A\n",
      " 48%|████▊     | 48248/100000 [00:28<00:32, 1596.51it/s]\u001b[A\n",
      " 48%|████▊     | 48409/100000 [00:28<00:32, 1600.38it/s]\u001b[A\n",
      " 49%|████▊     | 48570/100000 [00:28<00:32, 1599.12it/s]\u001b[A\n",
      " 49%|████▊     | 48730/100000 [00:28<00:32, 1597.59it/s]\u001b[A\n",
      " 49%|████▉     | 48890/100000 [00:28<00:31, 1597.66it/s]\u001b[A\n",
      " 49%|████▉     | 49051/100000 [00:28<00:31, 1600.18it/s]\u001b[A\n",
      " 49%|████▉     | 49212/100000 [00:28<00:31, 1598.87it/s]\u001b[A\n",
      " 49%|████▉     | 49373/100000 [00:28<00:31, 1599.74it/s]\u001b[A\n",
      " 50%|████▉     | 49533/100000 [00:28<00:31, 1598.99it/s]\u001b[A\n",
      " 50%|████▉     | 49694/100000 [00:28<00:31, 1600.92it/s]\u001b[A\n",
      " 50%|████▉     | 49855/100000 [00:29<00:31, 1599.46it/s]\u001b[A\n",
      " 50%|█████     | 50015/100000 [00:29<00:31, 1596.28it/s]\u001b[A\n",
      " 50%|█████     | 50175/100000 [00:29<00:31, 1595.93it/s]\u001b[A\n",
      " 50%|█████     | 50335/100000 [00:29<00:31, 1595.82it/s]\u001b[A\n",
      " 51%|█████     | 50508/100000 [00:29<00:30, 1634.54it/s]\u001b[A\n",
      " 51%|█████     | 50679/100000 [00:29<00:29, 1656.90it/s]\u001b[A\n",
      " 51%|█████     | 50853/100000 [00:29<00:29, 1679.72it/s]\u001b[A\n",
      " 51%|█████     | 51025/100000 [00:29<00:28, 1690.18it/s]\u001b[A\n",
      " 51%|█████     | 51200/100000 [00:29<00:28, 1707.52it/s]\u001b[A\n",
      " 51%|█████▏    | 51374/100000 [00:29<00:28, 1715.57it/s]\u001b[A\n",
      " 52%|█████▏    | 51551/100000 [00:30<00:28, 1729.20it/s]\u001b[A\n",
      " 52%|█████▏    | 51724/100000 [00:30<00:28, 1684.30it/s]\u001b[A\n",
      " 52%|█████▏    | 51896/100000 [00:30<00:28, 1693.02it/s]\u001b[A\n",
      " 52%|█████▏    | 52070/100000 [00:30<00:28, 1704.84it/s]\u001b[A\n",
      " 52%|█████▏    | 52244/100000 [00:30<00:27, 1713.40it/s]\u001b[A\n",
      " 52%|█████▏    | 52419/100000 [00:30<00:27, 1723.29it/s]\u001b[A\n",
      " 53%|█████▎    | 52592/100000 [00:30<00:27, 1717.12it/s]\u001b[A\n",
      " 53%|█████▎    | 52768/100000 [00:30<00:27, 1728.15it/s]\u001b[A\n",
      " 53%|█████▎    | 52941/100000 [00:30<00:27, 1724.76it/s]\u001b[A\n",
      " 53%|█████▎    | 53117/100000 [00:30<00:27, 1734.62it/s]\u001b[A\n",
      " 53%|█████▎    | 53291/100000 [00:31<00:26, 1732.59it/s]\u001b[A\n",
      " 53%|█████▎    | 53465/100000 [00:31<00:27, 1721.67it/s]\u001b[A\n",
      " 54%|█████▎    | 53638/100000 [00:31<00:27, 1679.25it/s]\u001b[A\n",
      " 54%|█████▍    | 53807/100000 [00:31<00:28, 1643.83it/s]\u001b[A\n",
      " 54%|█████▍    | 53981/100000 [00:31<00:27, 1669.88it/s]\u001b[A\n",
      " 54%|█████▍    | 54156/100000 [00:31<00:27, 1692.55it/s]\u001b[A\n",
      " 54%|█████▍    | 54332/100000 [00:31<00:26, 1710.16it/s]\u001b[A\n",
      " 55%|█████▍    | 54508/100000 [00:31<00:26, 1723.69it/s]\u001b[A\n",
      " 55%|█████▍    | 54683/100000 [00:31<00:26, 1728.31it/s]\u001b[A\n",
      " 55%|█████▍    | 54856/100000 [00:31<00:26, 1696.29it/s]\u001b[A\n",
      " 55%|█████▌    | 55026/100000 [00:32<00:26, 1666.14it/s]\u001b[A\n",
      " 55%|█████▌    | 55201/100000 [00:32<00:26, 1689.77it/s]\u001b[A\n",
      " 55%|█████▌    | 55373/100000 [00:32<00:26, 1698.63it/s]\u001b[A\n",
      " 56%|█████▌    | 55548/100000 [00:32<00:25, 1712.49it/s]\u001b[A\n",
      " 56%|█████▌    | 55720/100000 [00:32<00:26, 1668.51it/s]\u001b[A\n",
      " 56%|█████▌    | 55892/100000 [00:32<00:26, 1681.29it/s]\u001b[A\n",
      " 56%|█████▌    | 56063/100000 [00:32<00:26, 1687.98it/s]\u001b[A\n",
      " 56%|█████▌    | 56238/100000 [00:32<00:25, 1705.82it/s]\u001b[A\n",
      " 56%|█████▋    | 56409/100000 [00:32<00:25, 1688.38it/s]\u001b[A\n",
      " 57%|█████▋    | 56581/100000 [00:33<00:25, 1696.91it/s]\u001b[A\n",
      " 57%|█████▋    | 56752/100000 [00:33<00:25, 1698.75it/s]\u001b[A\n",
      " 57%|█████▋    | 56926/100000 [00:33<00:25, 1708.60it/s]\u001b[A\n",
      " 57%|█████▋    | 57097/100000 [00:33<00:25, 1692.45it/s]\u001b[A\n",
      " 57%|█████▋    | 57269/100000 [00:33<00:25, 1699.45it/s]\u001b[A\n",
      " 57%|█████▋    | 57439/100000 [00:33<00:25, 1686.37it/s]\u001b[A\n",
      " 58%|█████▊    | 57611/100000 [00:33<00:24, 1695.79it/s]\u001b[A\n",
      " 58%|█████▊    | 57781/100000 [00:33<00:25, 1685.56it/s]\u001b[A\n",
      " 58%|█████▊    | 57951/100000 [00:33<00:24, 1688.53it/s]\u001b[A\n",
      " 58%|█████▊    | 58127/100000 [00:33<00:24, 1707.51it/s]\u001b[A\n",
      " 58%|█████▊    | 58305/100000 [00:34<00:24, 1727.66it/s]\u001b[A\n",
      " 58%|█████▊    | 58478/100000 [00:34<00:24, 1727.47it/s]\u001b[A\n",
      " 59%|█████▊    | 58652/100000 [00:34<00:23, 1730.01it/s]\u001b[A\n",
      " 59%|█████▉    | 58826/100000 [00:34<00:23, 1730.92it/s]\u001b[A\n",
      " 59%|█████▉    | 59006/100000 [00:34<00:23, 1750.49it/s]\u001b[A\n",
      " 59%|█████▉    | 59182/100000 [00:34<00:23, 1739.15it/s]\u001b[A\n",
      " 59%|█████▉    | 59361/100000 [00:34<00:23, 1750.80it/s]\u001b[A\n",
      " 60%|█████▉    | 59537/100000 [00:34<00:23, 1744.01it/s]\u001b[A\n",
      " 60%|█████▉    | 59717/100000 [00:34<00:22, 1758.64it/s]\u001b[A\n",
      " 60%|█████▉    | 59893/100000 [00:34<00:22, 1757.87it/s]\u001b[A\n",
      " 60%|██████    | 60069/100000 [00:35<00:22, 1749.95it/s]\u001b[A\n",
      " 60%|██████    | 60246/100000 [00:35<00:22, 1753.17it/s]\u001b[A\n",
      " 60%|██████    | 60424/100000 [00:35<00:22, 1759.29it/s]\u001b[A\n",
      " 61%|██████    | 60600/100000 [00:35<00:22, 1739.74it/s]\u001b[A\n",
      " 61%|██████    | 60775/100000 [00:35<00:22, 1734.65it/s]\u001b[A\n",
      " 61%|██████    | 60949/100000 [00:35<00:22, 1730.75it/s]\u001b[A\n",
      " 61%|██████    | 61123/100000 [00:35<00:22, 1731.11it/s]\u001b[A\n",
      " 61%|██████▏   | 61297/100000 [00:35<00:22, 1708.33it/s]\u001b[A\n",
      " 61%|██████▏   | 61480/100000 [00:35<00:22, 1741.94it/s]\u001b[A\n",
      " 62%|██████▏   | 61655/100000 [00:35<00:22, 1694.99it/s]\u001b[A\n",
      " 62%|██████▏   | 61830/100000 [00:36<00:22, 1709.66it/s]\u001b[A\n",
      " 62%|██████▏   | 62004/100000 [00:36<00:22, 1717.99it/s]\u001b[A\n",
      " 62%|██████▏   | 62180/100000 [00:36<00:21, 1727.78it/s]\u001b[A\n",
      " 62%|██████▏   | 62358/100000 [00:36<00:21, 1741.55it/s]\u001b[A\n",
      " 63%|██████▎   | 62539/100000 [00:36<00:21, 1759.85it/s]\u001b[A\n",
      " 63%|██████▎   | 62720/100000 [00:36<00:21, 1774.64it/s]\u001b[A\n",
      " 63%|██████▎   | 62902/100000 [00:36<00:20, 1787.79it/s]\u001b[A\n",
      " 63%|██████▎   | 63085/100000 [00:36<00:20, 1798.03it/s]\u001b[A\n",
      " 63%|██████▎   | 63266/100000 [00:36<00:20, 1798.92it/s]\u001b[A\n",
      " 63%|██████▎   | 63448/100000 [00:36<00:20, 1804.51it/s]\u001b[A\n",
      " 64%|██████▎   | 63629/100000 [00:37<00:20, 1804.04it/s]\u001b[A\n",
      " 64%|██████▍   | 63811/100000 [00:37<00:20, 1806.34it/s]\u001b[A\n",
      " 64%|██████▍   | 63992/100000 [00:37<00:19, 1805.48it/s]\u001b[A\n",
      " 64%|██████▍   | 64173/100000 [00:37<00:20, 1790.30it/s]\u001b[A\n",
      " 64%|██████▍   | 64353/100000 [00:37<00:20, 1775.65it/s]\u001b[A\n",
      " 65%|██████▍   | 64531/100000 [00:37<00:20, 1719.71it/s]\u001b[A\n",
      " 65%|██████▍   | 64704/100000 [00:37<00:20, 1685.67it/s]\u001b[A\n",
      " 65%|██████▍   | 64873/100000 [00:37<00:21, 1667.26it/s]\u001b[A\n",
      " 65%|██████▌   | 65053/100000 [00:37<00:20, 1703.26it/s]\u001b[A\n",
      " 65%|██████▌   | 65224/100000 [00:37<00:20, 1662.43it/s]\u001b[A\n",
      " 65%|██████▌   | 65401/100000 [00:38<00:20, 1691.47it/s]\u001b[A\n",
      " 66%|██████▌   | 65580/100000 [00:38<00:20, 1718.73it/s]\u001b[A\n",
      " 66%|██████▌   | 65753/100000 [00:38<00:20, 1682.41it/s]\u001b[A\n",
      " 66%|██████▌   | 65931/100000 [00:38<00:19, 1708.62it/s]\u001b[A\n",
      " 66%|██████▌   | 66110/100000 [00:38<00:19, 1731.57it/s]\u001b[A\n",
      " 66%|██████▋   | 66289/100000 [00:38<00:19, 1747.14it/s]\u001b[A\n",
      " 66%|██████▋   | 66469/100000 [00:38<00:19, 1760.68it/s]\u001b[A\n",
      " 67%|██████▋   | 66649/100000 [00:38<00:18, 1770.69it/s]\u001b[A\n",
      " 67%|██████▋   | 66827/100000 [00:38<00:18, 1764.18it/s]\u001b[A\n",
      " 67%|██████▋   | 67004/100000 [00:39<00:18, 1759.34it/s]\u001b[A\n",
      " 67%|██████▋   | 67180/100000 [00:39<00:19, 1706.28it/s]\u001b[A\n",
      " 67%|██████▋   | 67360/100000 [00:39<00:18, 1733.59it/s]\u001b[A\n",
      " 68%|██████▊   | 67534/100000 [00:39<00:18, 1729.43it/s]\u001b[A\n",
      " 68%|██████▊   | 67710/100000 [00:39<00:18, 1735.77it/s]\u001b[A\n",
      " 68%|██████▊   | 67884/100000 [00:39<00:18, 1729.99it/s]\u001b[A\n",
      " 68%|██████▊   | 68061/100000 [00:39<00:18, 1739.34it/s]\u001b[A\n",
      " 68%|██████▊   | 68237/100000 [00:39<00:18, 1744.19it/s]\u001b[A\n",
      " 68%|██████▊   | 68412/100000 [00:39<00:18, 1739.11it/s]\u001b[A\n",
      " 69%|██████▊   | 68586/100000 [00:39<00:18, 1691.49it/s]\u001b[A\n",
      " 69%|██████▉   | 68765/100000 [00:40<00:18, 1718.18it/s]\u001b[A\n",
      " 69%|██████▉   | 68938/100000 [00:40<00:18, 1669.72it/s]\u001b[A\n",
      " 69%|██████▉   | 69115/100000 [00:40<00:18, 1697.16it/s]\u001b[A\n",
      " 69%|██████▉   | 69287/100000 [00:40<00:18, 1701.65it/s]\u001b[A\n",
      " 69%|██████▉   | 69464/100000 [00:40<00:17, 1719.13it/s]\u001b[A\n",
      " 70%|██████▉   | 69637/100000 [00:40<00:17, 1721.83it/s]\u001b[A\n",
      " 70%|██████▉   | 69813/100000 [00:40<00:17, 1732.77it/s]\u001b[A\n",
      " 70%|██████▉   | 69988/100000 [00:40<00:17, 1736.16it/s]\u001b[A\n",
      " 70%|███████   | 70165/100000 [00:40<00:17, 1745.13it/s]\u001b[A\n",
      " 70%|███████   | 70340/100000 [00:40<00:17, 1738.99it/s]\u001b[A\n",
      " 71%|███████   | 70516/100000 [00:41<00:16, 1744.72it/s]\u001b[A\n",
      " 71%|███████   | 70691/100000 [00:41<00:16, 1743.85it/s]\u001b[A\n",
      " 71%|███████   | 70867/100000 [00:41<00:16, 1748.50it/s]\u001b[A\n",
      " 71%|███████   | 71042/100000 [00:41<00:16, 1737.83it/s]\u001b[A\n",
      " 71%|███████   | 71219/100000 [00:41<00:16, 1745.41it/s]\u001b[A\n",
      " 71%|███████▏  | 71401/100000 [00:41<00:16, 1764.30it/s]\u001b[A\n",
      " 72%|███████▏  | 71581/100000 [00:41<00:16, 1772.65it/s]\u001b[A\n",
      " 72%|███████▏  | 71761/100000 [00:41<00:15, 1779.67it/s]\u001b[A\n",
      " 72%|███████▏  | 71942/100000 [00:41<00:15, 1788.51it/s]\u001b[A\n",
      " 72%|███████▏  | 72123/100000 [00:41<00:15, 1792.42it/s]\u001b[A\n",
      " 72%|███████▏  | 72304/100000 [00:42<00:15, 1795.18it/s]\u001b[A\n",
      " 72%|███████▏  | 72487/100000 [00:42<00:15, 1805.33it/s]\u001b[A\n",
      " 73%|███████▎  | 72668/100000 [00:42<00:15, 1798.25it/s]\u001b[A\n",
      " 73%|███████▎  | 72848/100000 [00:42<00:15, 1792.13it/s]\u001b[A\n",
      " 73%|███████▎  | 73028/100000 [00:42<00:16, 1681.01it/s]\u001b[A\n",
      " 73%|███████▎  | 73198/100000 [00:42<00:17, 1530.56it/s]\u001b[A\n",
      " 73%|███████▎  | 73385/100000 [00:42<00:16, 1621.28it/s]\u001b[A\n",
      " 74%|███████▎  | 73570/100000 [00:42<00:15, 1683.25it/s]\u001b[A\n",
      " 74%|███████▍  | 73757/100000 [00:42<00:15, 1734.37it/s]\u001b[A\n",
      " 74%|███████▍  | 73943/100000 [00:43<00:14, 1768.19it/s]\u001b[A\n",
      " 74%|███████▍  | 74131/100000 [00:43<00:14, 1800.29it/s]\u001b[A\n",
      " 74%|███████▍  | 74313/100000 [00:43<00:14, 1756.83it/s]\u001b[A\n",
      " 74%|███████▍  | 74498/100000 [00:43<00:14, 1783.75it/s]\u001b[A\n",
      " 75%|███████▍  | 74680/100000 [00:43<00:14, 1791.70it/s]\u001b[A\n",
      " 75%|███████▍  | 74864/100000 [00:43<00:13, 1804.79it/s]\u001b[A\n",
      " 75%|███████▌  | 75045/100000 [00:43<00:14, 1750.14it/s]\u001b[A\n",
      " 75%|███████▌  | 75226/100000 [00:43<00:14, 1765.91it/s]\u001b[A\n",
      " 75%|███████▌  | 75404/100000 [00:43<00:14, 1731.72it/s]\u001b[A\n",
      " 76%|███████▌  | 75593/100000 [00:43<00:13, 1776.21it/s]\u001b[A\n",
      " 76%|███████▌  | 75772/100000 [00:44<00:13, 1749.92it/s]\u001b[A\n",
      " 76%|███████▌  | 75959/100000 [00:44<00:13, 1784.53it/s]\u001b[A\n",
      " 76%|███████▌  | 76138/100000 [00:44<00:13, 1744.85it/s]\u001b[A\n",
      " 76%|███████▋  | 76320/100000 [00:44<00:13, 1764.36it/s]\u001b[A\n",
      " 76%|███████▋  | 76497/100000 [00:44<00:13, 1728.97it/s]\u001b[A\n",
      " 77%|███████▋  | 76680/100000 [00:44<00:13, 1756.17it/s]\u001b[A\n",
      " 77%|███████▋  | 76861/100000 [00:44<00:13, 1770.12it/s]\u001b[A\n",
      " 77%|███████▋  | 77042/100000 [00:44<00:12, 1780.85it/s]\u001b[A\n",
      " 77%|███████▋  | 77225/100000 [00:44<00:12, 1793.37it/s]\u001b[A\n",
      " 77%|███████▋  | 77406/100000 [00:44<00:12, 1796.01it/s]\u001b[A\n",
      " 78%|███████▊  | 77589/100000 [00:45<00:12, 1805.96it/s]\u001b[A\n",
      " 78%|███████▊  | 77771/100000 [00:45<00:12, 1808.26it/s]\u001b[A\n",
      " 78%|███████▊  | 77952/100000 [00:45<00:12, 1803.51it/s]\u001b[A\n",
      " 78%|███████▊  | 78133/100000 [00:45<00:12, 1803.59it/s]\u001b[A\n",
      " 78%|███████▊  | 78314/100000 [00:45<00:12, 1794.34it/s]\u001b[A\n",
      " 78%|███████▊  | 78494/100000 [00:45<00:11, 1793.70it/s]\u001b[A\n",
      " 79%|███████▊  | 78674/100000 [00:45<00:11, 1777.52it/s]\u001b[A\n",
      " 79%|███████▉  | 78865/100000 [00:45<00:11, 1813.73it/s]\u001b[A\n",
      " 79%|███████▉  | 79047/100000 [00:45<00:11, 1759.23it/s]\u001b[A\n",
      " 79%|███████▉  | 79224/100000 [00:45<00:12, 1724.58it/s]\u001b[A\n",
      " 79%|███████▉  | 79405/100000 [00:46<00:11, 1749.00it/s]\u001b[A\n",
      " 80%|███████▉  | 79589/100000 [00:46<00:11, 1773.74it/s]\u001b[A\n",
      " 80%|███████▉  | 79772/100000 [00:46<00:11, 1789.27it/s]\u001b[A\n",
      " 80%|███████▉  | 79952/100000 [00:46<00:11, 1748.36it/s]\u001b[A\n",
      " 80%|████████  | 80128/100000 [00:46<00:11, 1730.88it/s]\u001b[A\n",
      " 80%|████████  | 80306/100000 [00:46<00:11, 1743.58it/s]\u001b[A\n",
      " 81%|████████  | 80595/100000 [00:46<00:11, 1723.29it/s]\u001b[A\n",
      "\n",
      "  0%|          | 0/100000 [00:00<?, ?it/s]\u001b[A\n",
      "  0%|          | 192/100000 [00:00<00:52, 1916.99it/s]\u001b[A\n",
      "  0%|          | 384/100000 [00:00<00:53, 1858.73it/s]\u001b[A\n",
      "  1%|          | 570/100000 [00:00<00:53, 1843.60it/s]\u001b[A\n",
      "  1%|          | 755/100000 [00:00<00:54, 1819.14it/s]\u001b[A\n",
      "  1%|          | 939/100000 [00:00<00:54, 1824.18it/s]\u001b[A\n",
      "  1%|          | 1122/100000 [00:00<00:54, 1820.83it/s]\u001b[A\n",
      "  1%|▏         | 1305/100000 [00:00<00:54, 1815.42it/s]\u001b[A\n",
      "  1%|▏         | 1487/100000 [00:00<00:54, 1804.71it/s]\u001b[A\n",
      "  2%|▏         | 1668/100000 [00:00<00:55, 1780.82it/s]\u001b[A\n",
      "  2%|▏         | 1855/100000 [00:01<00:54, 1807.63it/s]\u001b[A\n",
      "  2%|▏         | 2042/100000 [00:01<00:53, 1824.36it/s]\u001b[A\n",
      "  2%|▏         | 2230/100000 [00:01<00:53, 1837.91it/s]\u001b[A\n",
      "  2%|▏         | 2414/100000 [00:01<00:54, 1787.69it/s]\u001b[A\n",
      "  3%|▎         | 2599/100000 [00:01<00:53, 1805.81it/s]\u001b[A\n",
      "  3%|▎         | 2781/100000 [00:01<00:53, 1808.35it/s]\u001b[A\n",
      "  3%|▎         | 2963/100000 [00:01<00:53, 1808.10it/s]\u001b[A\n",
      "  3%|▎         | 3146/100000 [00:01<00:53, 1813.07it/s]\u001b[A\n",
      "  3%|▎         | 3330/100000 [00:01<00:53, 1820.65it/s]\u001b[A\n",
      "  4%|▎         | 3513/100000 [00:01<00:52, 1821.69it/s]\u001b[A\n",
      "  4%|▎         | 3696/100000 [00:02<00:54, 1772.18it/s]\u001b[A\n",
      "  4%|▍         | 3874/100000 [00:02<00:55, 1729.42it/s]\u001b[A\n",
      "  4%|▍         | 4048/100000 [00:02<00:56, 1700.70it/s]\u001b[A\n",
      "  4%|▍         | 4235/100000 [00:02<00:54, 1749.54it/s]\u001b[A\n",
      "  4%|▍         | 4411/100000 [00:02<00:55, 1708.87it/s]\u001b[A\n",
      "  5%|▍         | 4595/100000 [00:02<00:54, 1745.74it/s]\u001b[A\n",
      "  5%|▍         | 4776/100000 [00:02<00:53, 1763.70it/s]\u001b[A\n",
      "  5%|▍         | 4961/100000 [00:02<00:53, 1788.16it/s]\u001b[A\n",
      "  5%|▌         | 5144/100000 [00:02<00:52, 1798.79it/s]\u001b[A\n",
      "  5%|▌         | 5330/100000 [00:02<00:52, 1814.26it/s]\u001b[A\n",
      "  6%|▌         | 5512/100000 [00:03<00:52, 1815.62it/s]\u001b[A\n",
      "  6%|▌         | 5697/100000 [00:03<00:51, 1824.14it/s]\u001b[A\n",
      "  6%|▌         | 5881/100000 [00:03<00:51, 1827.02it/s]\u001b[A\n",
      "  6%|▌         | 6066/100000 [00:03<00:51, 1832.66it/s]\u001b[A\n",
      "  6%|▋         | 6251/100000 [00:03<00:51, 1835.81it/s]\u001b[A\n",
      "  6%|▋         | 6435/100000 [00:03<00:50, 1836.54it/s]\u001b[A\n",
      "  7%|▋         | 6619/100000 [00:03<00:51, 1830.78it/s]\u001b[A\n",
      "  7%|▋         | 6803/100000 [00:03<00:51, 1826.86it/s]\u001b[A\n",
      "  7%|▋         | 6986/100000 [00:03<00:52, 1774.05it/s]\u001b[A\n",
      "  7%|▋         | 7173/100000 [00:03<00:51, 1799.91it/s]\u001b[A\n",
      "  7%|▋         | 7354/100000 [00:04<00:52, 1763.98it/s]\u001b[A\n",
      "  8%|▊         | 7534/100000 [00:04<00:52, 1771.99it/s]\u001b[A\n",
      "  8%|▊         | 7716/100000 [00:04<00:51, 1783.56it/s]\u001b[A\n",
      "  8%|▊         | 7896/100000 [00:04<00:51, 1785.42it/s]\u001b[A\n",
      "  8%|▊         | 8076/100000 [00:04<00:51, 1789.71it/s]\u001b[A\n",
      "  8%|▊         | 8257/100000 [00:04<00:51, 1793.68it/s]\u001b[A\n",
      "  8%|▊         | 8437/100000 [00:04<00:51, 1792.93it/s]\u001b[A\n",
      "  9%|▊         | 8620/100000 [00:04<00:50, 1802.23it/s]\u001b[A\n",
      "  9%|▉         | 8803/100000 [00:04<00:50, 1808.05it/s]\u001b[A\n",
      "  9%|▉         | 8984/100000 [00:05<00:51, 1763.06it/s]\u001b[A\n",
      "  9%|▉         | 9161/100000 [00:05<00:52, 1729.82it/s]\u001b[A\n",
      "  9%|▉         | 9335/100000 [00:05<00:52, 1724.44it/s]\u001b[A\n",
      " 10%|▉         | 9512/100000 [00:05<00:52, 1736.84it/s]\u001b[A\n",
      " 10%|▉         | 9690/100000 [00:05<00:51, 1748.67it/s]\u001b[A\n",
      " 10%|▉         | 9876/100000 [00:05<00:50, 1779.37it/s]\u001b[A\n",
      " 10%|█         | 10055/100000 [00:05<00:51, 1741.33it/s]\u001b[A\n",
      " 10%|█         | 10230/100000 [00:05<00:51, 1739.59it/s]\u001b[A\n",
      " 10%|█         | 10414/100000 [00:05<00:50, 1768.10it/s]\u001b[A\n",
      " 11%|█         | 10595/100000 [00:05<00:50, 1779.12it/s]\u001b[A\n",
      " 11%|█         | 10780/100000 [00:06<00:49, 1798.65it/s]\u001b[A\n",
      " 11%|█         | 10962/100000 [00:06<00:49, 1804.90it/s]\u001b[A\n",
      " 11%|█         | 11143/100000 [00:06<00:50, 1758.21it/s]\u001b[A\n",
      " 11%|█▏        | 11320/100000 [00:06<00:50, 1751.13it/s]\u001b[A\n",
      " 11%|█▏        | 11496/100000 [00:06<00:51, 1723.03it/s]\u001b[A\n",
      " 12%|█▏        | 11675/100000 [00:06<00:50, 1740.19it/s]\u001b[A\n",
      " 12%|█▏        | 11866/100000 [00:06<00:49, 1789.36it/s]\u001b[A\n",
      " 12%|█▏        | 12046/100000 [00:06<00:50, 1749.88it/s]\u001b[A\n",
      " 12%|█▏        | 12226/100000 [00:06<00:49, 1762.42it/s]\u001b[A\n",
      " 12%|█▏        | 12408/100000 [00:06<00:49, 1778.50it/s]\u001b[A\n",
      " 13%|█▎        | 12588/100000 [00:07<00:48, 1783.99it/s]\u001b[A\n",
      " 13%|█▎        | 12767/100000 [00:07<00:48, 1783.01it/s]\u001b[A\n",
      " 13%|█▎        | 12950/100000 [00:07<00:48, 1796.86it/s]\u001b[A\n",
      " 13%|█▎        | 13130/100000 [00:07<00:48, 1793.06it/s]\u001b[A\n",
      " 13%|█▎        | 13314/100000 [00:07<00:47, 1806.67it/s]\u001b[A\n",
      " 13%|█▎        | 13495/100000 [00:07<00:48, 1795.71it/s]\u001b[A\n",
      " 14%|█▎        | 13675/100000 [00:07<00:48, 1793.84it/s]\u001b[A\n",
      " 14%|█▍        | 13855/100000 [00:07<00:48, 1790.81it/s]\u001b[A\n",
      " 14%|█▍        | 14035/100000 [00:07<00:48, 1787.68it/s]\u001b[A\n",
      " 14%|█▍        | 14214/100000 [00:07<00:48, 1780.43it/s]\u001b[A\n",
      " 14%|█▍        | 14393/100000 [00:08<00:49, 1741.65it/s]\u001b[A\n",
      " 15%|█▍        | 14568/100000 [00:08<00:49, 1720.08it/s]\u001b[A\n",
      " 15%|█▍        | 14741/100000 [00:08<00:50, 1697.76it/s]\u001b[A\n",
      " 15%|█▍        | 14926/100000 [00:08<00:48, 1740.37it/s]\u001b[A\n",
      " 15%|█▌        | 15110/100000 [00:08<00:48, 1768.39it/s]\u001b[A\n",
      " 15%|█▌        | 15293/100000 [00:08<00:47, 1786.15it/s]\u001b[A\n",
      " 15%|█▌        | 15475/100000 [00:08<00:47, 1795.77it/s]\u001b[A\n",
      " 16%|█▌        | 15660/100000 [00:08<00:46, 1809.85it/s]\u001b[A\n",
      " 16%|█▌        | 15843/100000 [00:08<00:46, 1813.32it/s]\u001b[A\n",
      " 16%|█▌        | 16025/100000 [00:08<00:46, 1813.72it/s]\u001b[A\n",
      " 16%|█▌        | 16207/100000 [00:09<00:46, 1807.48it/s]\u001b[A\n",
      " 16%|█▋        | 16388/100000 [00:09<00:47, 1760.15it/s]\u001b[A\n",
      " 17%|█▋        | 16567/100000 [00:09<00:47, 1768.69it/s]\u001b[A\n",
      " 17%|█▋        | 16745/100000 [00:09<00:47, 1737.78it/s]\u001b[A\n",
      " 17%|█▋        | 16927/100000 [00:09<00:47, 1761.34it/s]\u001b[A\n",
      " 17%|█▋        | 17104/100000 [00:09<00:48, 1726.33it/s]\u001b[A\n",
      " 17%|█▋        | 17277/100000 [00:09<00:48, 1707.77it/s]\u001b[A\n",
      " 17%|█▋        | 17457/100000 [00:09<00:47, 1732.80it/s]\u001b[A\n",
      " 18%|█▊        | 17641/100000 [00:09<00:46, 1763.80it/s]\u001b[A\n",
      " 18%|█▊        | 17822/100000 [00:10<00:46, 1775.15it/s]\u001b[A\n",
      " 18%|█▊        | 18002/100000 [00:10<00:46, 1780.66it/s]\u001b[A\n",
      " 18%|█▊        | 18181/100000 [00:10<00:46, 1772.64it/s]\u001b[A\n",
      " 18%|█▊        | 18366/100000 [00:10<00:45, 1793.67it/s]\u001b[A\n",
      " 19%|█▊        | 18548/100000 [00:10<00:45, 1800.51it/s]\u001b[A\n",
      " 19%|█▊        | 18729/100000 [00:10<00:45, 1801.61it/s]\u001b[A\n",
      " 19%|█▉        | 18910/100000 [00:10<00:45, 1800.26it/s]\u001b[A\n",
      " 19%|█▉        | 19091/100000 [00:10<00:45, 1795.41it/s]\u001b[A\n",
      " 19%|█▉        | 19271/100000 [00:10<00:45, 1781.26it/s]\u001b[A\n",
      " 19%|█▉        | 19450/100000 [00:10<00:45, 1775.49it/s]\u001b[A\n",
      " 20%|█▉        | 19632/100000 [00:11<00:44, 1788.64it/s]\u001b[A\n",
      " 20%|█▉        | 19812/100000 [00:11<00:44, 1790.79it/s]\u001b[A\n",
      " 20%|█▉        | 19992/100000 [00:11<00:44, 1791.74it/s]\u001b[A\n",
      " 20%|██        | 20172/100000 [00:11<00:44, 1784.25it/s]\u001b[A\n",
      " 20%|██        | 20355/100000 [00:11<00:44, 1796.98it/s]\u001b[A\n",
      " 21%|██        | 20536/100000 [00:11<00:44, 1800.00it/s]\u001b[A\n",
      " 21%|██        | 20718/100000 [00:11<00:43, 1803.68it/s]\u001b[A\n",
      " 21%|██        | 20902/100000 [00:11<00:43, 1812.77it/s]\u001b[A\n",
      " 21%|██        | 21089/100000 [00:11<00:43, 1827.86it/s]\u001b[A\n",
      " 21%|██▏       | 21272/100000 [00:11<00:43, 1804.76it/s]\u001b[A\n",
      " 21%|██▏       | 21453/100000 [00:12<00:43, 1799.71it/s]\u001b[A\n",
      " 22%|██▏       | 21634/100000 [00:12<00:44, 1775.84it/s]\u001b[A\n",
      " 22%|██▏       | 21815/100000 [00:12<00:43, 1785.04it/s]\u001b[A\n",
      " 22%|██▏       | 21996/100000 [00:12<00:43, 1791.09it/s]\u001b[A\n",
      " 22%|██▏       | 22176/100000 [00:12<00:43, 1776.80it/s]\u001b[A\n",
      " 22%|██▏       | 22355/100000 [00:12<00:43, 1779.80it/s]\u001b[A\n",
      " 23%|██▎       | 22534/100000 [00:12<00:43, 1768.25it/s]\u001b[A\n",
      " 23%|██▎       | 22711/100000 [00:12<00:43, 1762.42it/s]\u001b[A\n",
      " 23%|██▎       | 22888/100000 [00:12<00:44, 1751.15it/s]\u001b[A\n",
      " 23%|██▎       | 23068/100000 [00:12<00:43, 1764.79it/s]\u001b[A\n",
      " 23%|██▎       | 23245/100000 [00:13<00:44, 1731.28it/s]\u001b[A\n",
      " 23%|██▎       | 23425/100000 [00:13<00:43, 1748.79it/s]\u001b[A\n",
      " 24%|██▎       | 23601/100000 [00:13<00:43, 1748.38it/s]\u001b[A\n",
      " 24%|██▍       | 23776/100000 [00:13<00:43, 1747.78it/s]\u001b[A\n",
      " 24%|██▍       | 23951/100000 [00:13<00:43, 1747.53it/s]\u001b[A\n",
      " 24%|██▍       | 24129/100000 [00:13<00:43, 1755.67it/s]\u001b[A\n",
      " 24%|██▍       | 24312/100000 [00:13<00:42, 1774.79it/s]\u001b[A\n",
      " 24%|██▍       | 24494/100000 [00:13<00:42, 1786.89it/s]\u001b[A\n",
      " 25%|██▍       | 24674/100000 [00:13<00:42, 1790.07it/s]\u001b[A\n",
      " 25%|██▍       | 24854/100000 [00:13<00:41, 1790.77it/s]\u001b[A\n",
      " 25%|██▌       | 25037/100000 [00:14<00:41, 1800.26it/s]\u001b[A\n",
      " 25%|██▌       | 25218/100000 [00:14<00:41, 1793.75it/s]\u001b[A\n",
      " 25%|██▌       | 25402/100000 [00:14<00:41, 1805.87it/s]\u001b[A\n",
      " 26%|██▌       | 25583/100000 [00:14<00:41, 1785.55it/s]\u001b[A\n",
      " 26%|██▌       | 25766/100000 [00:14<00:41, 1796.53it/s]\u001b[A\n",
      " 26%|██▌       | 25946/100000 [00:14<00:41, 1781.72it/s]\u001b[A\n",
      " 26%|██▌       | 26125/100000 [00:14<00:42, 1734.76it/s]\u001b[A\n",
      " 26%|██▋       | 26299/100000 [00:14<00:43, 1700.93it/s]\u001b[A\n",
      " 26%|██▋       | 26476/100000 [00:14<00:42, 1719.15it/s]\u001b[A\n",
      " 27%|██▋       | 26654/100000 [00:14<00:42, 1736.49it/s]\u001b[A\n",
      " 27%|██▋       | 26834/100000 [00:15<00:41, 1753.76it/s]\u001b[A\n",
      " 27%|██▋       | 27013/100000 [00:15<00:41, 1763.32it/s]\u001b[A\n",
      " 27%|██▋       | 27190/100000 [00:15<00:41, 1759.96it/s]\u001b[A\n",
      " 27%|██▋       | 27372/100000 [00:15<00:40, 1776.53it/s]\u001b[A\n",
      " 28%|██▊       | 27550/100000 [00:15<00:40, 1776.03it/s]\u001b[A\n",
      " 28%|██▊       | 27728/100000 [00:15<00:41, 1745.57it/s]\u001b[A\n",
      " 28%|██▊       | 27905/100000 [00:15<00:41, 1750.40it/s]\u001b[A\n",
      " 28%|██▊       | 28086/100000 [00:15<00:40, 1765.70it/s]\u001b[A\n",
      " 28%|██▊       | 28263/100000 [00:15<00:41, 1710.23it/s]\u001b[A\n",
      " 28%|██▊       | 28435/100000 [00:16<00:42, 1683.35it/s]\u001b[A\n",
      " 29%|██▊       | 28608/100000 [00:16<00:42, 1696.06it/s]\u001b[A\n",
      " 29%|██▉       | 28782/100000 [00:16<00:41, 1708.54it/s]\u001b[A\n",
      " 29%|██▉       | 28954/100000 [00:16<00:42, 1676.61it/s]\u001b[A\n",
      " 29%|██▉       | 29130/100000 [00:16<00:41, 1700.44it/s]\u001b[A\n",
      " 29%|██▉       | 29301/100000 [00:16<00:42, 1674.52it/s]\u001b[A\n",
      " 29%|██▉       | 29469/100000 [00:16<00:42, 1668.30it/s]\u001b[A\n",
      " 30%|██▉       | 29643/100000 [00:16<00:41, 1687.69it/s]\u001b[A\n",
      " 30%|██▉       | 29825/100000 [00:16<00:40, 1724.51it/s]\u001b[A\n",
      " 30%|███       | 30010/100000 [00:16<00:39, 1761.62it/s]\u001b[A\n",
      " 30%|███       | 30189/100000 [00:17<00:39, 1768.61it/s]\u001b[A\n",
      " 30%|███       | 30371/100000 [00:17<00:39, 1782.80it/s]\u001b[A\n",
      " 31%|███       | 30553/100000 [00:17<00:38, 1792.82it/s]\u001b[A\n",
      " 31%|███       | 30736/100000 [00:17<00:38, 1801.96it/s]\u001b[A\n",
      " 31%|███       | 30917/100000 [00:17<00:39, 1756.14it/s]\u001b[A\n",
      " 31%|███       | 31105/100000 [00:17<00:38, 1791.76it/s]\u001b[A\n",
      " 31%|███▏      | 31285/100000 [00:17<00:39, 1753.90it/s]\u001b[A\n",
      " 31%|███▏      | 31469/100000 [00:17<00:38, 1778.70it/s]\u001b[A\n",
      " 32%|███▏      | 31648/100000 [00:17<00:38, 1763.01it/s]\u001b[A\n",
      " 32%|███▏      | 31830/100000 [00:17<00:38, 1778.47it/s]\u001b[A\n",
      " 32%|███▏      | 32011/100000 [00:18<00:38, 1785.83it/s]\u001b[A\n",
      " 32%|███▏      | 32194/100000 [00:18<00:37, 1797.61it/s]\u001b[A\n",
      " 32%|███▏      | 32377/100000 [00:18<00:37, 1805.12it/s]\u001b[A\n",
      " 33%|███▎      | 32560/100000 [00:18<00:37, 1812.39it/s]\u001b[A\n",
      " 33%|███▎      | 32742/100000 [00:18<00:37, 1808.94it/s]\u001b[A\n",
      " 33%|███▎      | 32923/100000 [00:18<00:37, 1803.58it/s]\u001b[A\n",
      " 33%|███▎      | 33104/100000 [00:18<00:38, 1753.14it/s]\u001b[A\n",
      " 33%|███▎      | 33280/100000 [00:18<00:38, 1731.52it/s]\u001b[A\n",
      " 33%|███▎      | 33458/100000 [00:18<00:38, 1743.78it/s]\u001b[A\n",
      " 34%|███▎      | 33639/100000 [00:18<00:37, 1761.56it/s]\u001b[A\n",
      " 34%|███▍      | 33817/100000 [00:19<00:37, 1765.26it/s]\u001b[A\n",
      " 34%|███▍      | 33998/100000 [00:19<00:37, 1776.97it/s]\u001b[A\n",
      " 34%|███▍      | 34177/100000 [00:19<00:36, 1780.81it/s]\u001b[A\n",
      " 34%|███▍      | 34357/100000 [00:19<00:36, 1785.14it/s]\u001b[A\n",
      " 35%|███▍      | 34537/100000 [00:19<00:36, 1786.81it/s]\u001b[A\n",
      " 35%|███▍      | 34717/100000 [00:19<00:36, 1789.97it/s]\u001b[A\n",
      " 35%|███▍      | 34897/100000 [00:19<00:36, 1790.69it/s]\u001b[A\n",
      " 35%|███▌      | 35080/100000 [00:19<00:36, 1799.04it/s]\u001b[A\n",
      " 35%|███▌      | 35260/100000 [00:19<00:36, 1793.81it/s]\u001b[A\n",
      " 35%|███▌      | 35444/100000 [00:19<00:35, 1807.00it/s]\u001b[A\n",
      " 36%|███▌      | 35628/100000 [00:20<00:35, 1814.55it/s]\u001b[A\n",
      " 36%|███▌      | 35810/100000 [00:20<00:36, 1760.36it/s]\u001b[A\n",
      " 36%|███▌      | 35993/100000 [00:20<00:35, 1780.05it/s]\u001b[A\n",
      " 36%|███▌      | 36172/100000 [00:20<00:36, 1743.96it/s]\u001b[A\n",
      " 36%|███▋      | 36361/100000 [00:20<00:35, 1783.52it/s]\u001b[A\n",
      " 37%|███▋      | 36545/100000 [00:20<00:35, 1798.79it/s]\u001b[A\n",
      " 37%|███▋      | 36726/100000 [00:20<00:35, 1770.88it/s]\u001b[A\n",
      " 37%|███▋      | 36915/100000 [00:20<00:34, 1804.30it/s]\u001b[A\n",
      " 37%|███▋      | 37097/100000 [00:20<00:34, 1807.83it/s]\u001b[A\n",
      " 37%|███▋      | 37279/100000 [00:20<00:34, 1809.03it/s]\u001b[A\n",
      " 37%|███▋      | 37461/100000 [00:21<00:35, 1772.60it/s]\u001b[A\n",
      " 38%|███▊      | 37639/100000 [00:21<00:35, 1771.95it/s]\u001b[A\n",
      " 38%|███▊      | 37820/100000 [00:21<00:34, 1782.83it/s]\u001b[A\n",
      " 38%|███▊      | 38002/100000 [00:21<00:34, 1792.02it/s]\u001b[A\n",
      " 38%|███▊      | 38182/100000 [00:21<00:34, 1786.90it/s]\u001b[A\n",
      " 38%|███▊      | 38361/100000 [00:21<00:34, 1782.07it/s]\u001b[A\n",
      " 39%|███▊      | 38544/100000 [00:21<00:34, 1796.03it/s]\u001b[A\n",
      " 39%|███▊      | 38724/100000 [00:21<00:34, 1794.26it/s]\u001b[A\n",
      " 39%|███▉      | 38905/100000 [00:21<00:34, 1796.45it/s]\u001b[A\n",
      " 39%|███▉      | 39085/100000 [00:22<00:33, 1793.33it/s]\u001b[A\n",
      " 39%|███▉      | 39266/100000 [00:22<00:33, 1797.04it/s]\u001b[A\n",
      " 39%|███▉      | 39446/100000 [00:22<00:34, 1772.20it/s]\u001b[A\n",
      " 40%|███▉      | 39624/100000 [00:22<00:34, 1769.18it/s]\u001b[A\n",
      " 40%|███▉      | 39804/100000 [00:22<00:33, 1775.47it/s]\u001b[A\n",
      " 40%|███▉      | 39983/100000 [00:22<00:33, 1779.16it/s]\u001b[A\n",
      " 40%|████      | 40162/100000 [00:22<00:33, 1782.07it/s]\u001b[A\n",
      " 40%|████      | 40341/100000 [00:22<00:34, 1738.32it/s]\u001b[A\n",
      " 41%|████      | 40530/100000 [00:22<00:33, 1781.41it/s]\u001b[A\n",
      " 41%|████      | 40709/100000 [00:22<00:34, 1731.10it/s]\u001b[A\n",
      " 41%|████      | 40895/100000 [00:23<00:33, 1767.67it/s]\u001b[A\n",
      " 41%|████      | 41073/100000 [00:23<00:33, 1766.03it/s]\u001b[A\n",
      " 41%|████▏     | 41253/100000 [00:23<00:33, 1775.24it/s]\u001b[A\n",
      " 41%|████▏     | 41442/100000 [00:23<00:32, 1807.37it/s]\u001b[A\n",
      " 42%|████▏     | 41625/100000 [00:23<00:32, 1814.00it/s]\u001b[A\n",
      " 42%|████▏     | 41809/100000 [00:23<00:31, 1819.90it/s]\u001b[A\n",
      " 42%|████▏     | 41992/100000 [00:23<00:32, 1767.86it/s]\u001b[A\n",
      " 42%|████▏     | 42172/100000 [00:23<00:32, 1775.68it/s]\u001b[A\n",
      " 42%|████▏     | 42353/100000 [00:23<00:32, 1784.79it/s]\u001b[A\n",
      " 43%|████▎     | 42536/100000 [00:23<00:31, 1796.49it/s]\u001b[A\n",
      " 43%|████▎     | 42720/100000 [00:24<00:31, 1809.36it/s]\u001b[A\n",
      " 43%|████▎     | 42905/100000 [00:24<00:31, 1821.42it/s]\u001b[A\n",
      " 43%|████▎     | 43088/100000 [00:24<00:31, 1799.48it/s]\u001b[A\n",
      " 43%|████▎     | 43270/100000 [00:24<00:31, 1805.41it/s]\u001b[A\n",
      " 43%|████▎     | 43453/100000 [00:24<00:31, 1810.35it/s]\u001b[A\n",
      " 44%|████▎     | 43635/100000 [00:24<00:32, 1757.67it/s]\u001b[A\n",
      " 44%|████▍     | 43812/100000 [00:24<00:32, 1723.32it/s]\u001b[A\n",
      " 44%|████▍     | 43994/100000 [00:24<00:32, 1749.15it/s]\u001b[A\n",
      " 44%|████▍     | 44177/100000 [00:24<00:31, 1771.13it/s]\u001b[A\n",
      " 44%|████▍     | 44363/100000 [00:24<00:30, 1795.35it/s]\u001b[A\n",
      " 45%|████▍     | 44543/100000 [00:25<00:30, 1794.38it/s]\u001b[A\n",
      " 45%|████▍     | 44725/100000 [00:25<00:30, 1799.55it/s]\u001b[A\n",
      " 45%|████▍     | 44906/100000 [00:25<00:31, 1757.88it/s]\u001b[A\n",
      " 45%|████▌     | 45083/100000 [00:25<00:31, 1721.83it/s]\u001b[A\n",
      " 45%|████▌     | 45256/100000 [00:25<00:32, 1687.85it/s]\u001b[A\n",
      " 45%|████▌     | 45426/100000 [00:25<00:32, 1674.61it/s]\u001b[A\n",
      " 46%|████▌     | 45604/100000 [00:25<00:31, 1704.98it/s]\u001b[A\n",
      " 46%|████▌     | 45788/100000 [00:25<00:31, 1742.83it/s]\u001b[A\n",
      " 46%|████▌     | 45968/100000 [00:25<00:30, 1758.82it/s]\u001b[A\n",
      " 46%|████▌     | 46145/100000 [00:26<00:31, 1730.72it/s]\u001b[A\n",
      " 46%|████▋     | 46326/100000 [00:26<00:30, 1752.83it/s]\u001b[A\n",
      " 47%|████▋     | 46502/100000 [00:26<00:31, 1724.20it/s]\u001b[A\n",
      " 47%|████▋     | 46684/100000 [00:26<00:30, 1751.13it/s]\u001b[A\n",
      " 47%|████▋     | 46860/100000 [00:26<00:30, 1719.06it/s]\u001b[A\n",
      " 47%|████▋     | 47041/100000 [00:26<00:30, 1743.93it/s]\u001b[A\n",
      " 47%|████▋     | 47216/100000 [00:26<00:30, 1737.34it/s]\u001b[A\n",
      " 47%|████▋     | 47390/100000 [00:26<00:31, 1692.06it/s]\u001b[A\n",
      " 48%|████▊     | 47560/100000 [00:26<00:31, 1661.21it/s]\u001b[A\n",
      " 48%|████▊     | 47727/100000 [00:26<00:31, 1659.22it/s]\u001b[A\n",
      " 48%|████▊     | 47903/100000 [00:27<00:30, 1686.70it/s]\u001b[A\n",
      " 48%|████▊     | 48078/100000 [00:27<00:30, 1703.87it/s]\u001b[A\n",
      " 48%|████▊     | 48256/100000 [00:27<00:29, 1725.56it/s]\u001b[A\n",
      " 48%|████▊     | 48435/100000 [00:27<00:29, 1744.34it/s]\u001b[A\n",
      " 49%|████▊     | 48613/100000 [00:27<00:29, 1753.81it/s]\u001b[A\n",
      " 49%|████▉     | 48789/100000 [00:27<00:29, 1755.17it/s]\u001b[A\n",
      " 49%|████▉     | 48969/100000 [00:27<00:28, 1766.33it/s]\u001b[A\n",
      " 49%|████▉     | 49149/100000 [00:27<00:28, 1774.99it/s]\u001b[A\n",
      " 49%|████▉     | 49327/100000 [00:27<00:28, 1772.20it/s]\u001b[A\n",
      " 50%|████▉     | 49505/100000 [00:27<00:28, 1768.71it/s]\u001b[A\n",
      " 50%|████▉     | 49682/100000 [00:28<00:28, 1759.25it/s]\u001b[A\n",
      " 50%|████▉     | 49858/100000 [00:28<00:28, 1749.57it/s]\u001b[A\n",
      " 50%|█████     | 50033/100000 [00:28<00:28, 1745.77it/s]\u001b[A\n",
      " 50%|█████     | 50212/100000 [00:28<00:28, 1757.25it/s]\u001b[A\n",
      " 50%|█████     | 50388/100000 [00:28<00:28, 1751.76it/s]\u001b[A\n",
      " 51%|█████     | 50564/100000 [00:28<00:28, 1704.85it/s]\u001b[A\n",
      " 51%|█████     | 50735/100000 [00:28<00:29, 1673.27it/s]\u001b[A\n",
      " 51%|█████     | 50912/100000 [00:28<00:28, 1699.57it/s]\u001b[A\n",
      " 51%|█████     | 51084/100000 [00:28<00:28, 1703.34it/s]\u001b[A\n",
      " 51%|█████▏    | 51255/100000 [00:28<00:29, 1678.08it/s]\u001b[A\n",
      " 51%|█████▏    | 51423/100000 [00:29<00:29, 1657.26it/s]\u001b[A\n",
      " 52%|█████▏    | 51601/100000 [00:29<00:28, 1692.56it/s]\u001b[A\n",
      " 52%|█████▏    | 51781/100000 [00:29<00:27, 1722.57it/s]\u001b[A\n",
      " 52%|█████▏    | 51962/100000 [00:29<00:27, 1747.39it/s]\u001b[A\n",
      " 52%|█████▏    | 52141/100000 [00:29<00:27, 1758.14it/s]\u001b[A\n",
      " 52%|█████▏    | 52317/100000 [00:29<00:27, 1750.24it/s]\u001b[A\n",
      " 52%|█████▏    | 52493/100000 [00:29<00:27, 1738.01it/s]\u001b[A\n",
      " 53%|█████▎    | 52667/100000 [00:29<00:27, 1734.23it/s]\u001b[A\n",
      " 53%|█████▎    | 52841/100000 [00:29<00:27, 1730.02it/s]\u001b[A\n",
      " 53%|█████▎    | 53015/100000 [00:29<00:27, 1730.73it/s]\u001b[A\n",
      " 53%|█████▎    | 53193/100000 [00:30<00:26, 1744.87it/s]\u001b[A\n",
      " 53%|█████▎    | 53368/100000 [00:30<00:27, 1719.57it/s]\u001b[A\n",
      " 54%|█████▎    | 53541/100000 [00:30<00:27, 1693.20it/s]\u001b[A\n",
      " 54%|█████▎    | 53718/100000 [00:30<00:27, 1713.68it/s]\u001b[A\n",
      " 54%|█████▍    | 53894/100000 [00:30<00:26, 1725.19it/s]\u001b[A\n",
      " 54%|█████▍    | 54069/100000 [00:30<00:26, 1732.03it/s]\u001b[A\n",
      " 54%|█████▍    | 54245/100000 [00:30<00:26, 1738.98it/s]\u001b[A\n",
      " 54%|█████▍    | 54421/100000 [00:30<00:26, 1742.38it/s]\u001b[A\n",
      " 55%|█████▍    | 54597/100000 [00:30<00:25, 1746.91it/s]\u001b[A\n",
      " 55%|█████▍    | 54772/100000 [00:30<00:25, 1744.90it/s]\u001b[A\n",
      " 55%|█████▍    | 54947/100000 [00:31<00:25, 1742.49it/s]\u001b[A\n",
      " 55%|█████▌    | 55122/100000 [00:31<00:25, 1740.15it/s]\u001b[A\n",
      " 55%|█████▌    | 55303/100000 [00:31<00:25, 1759.64it/s]\u001b[A\n",
      " 55%|█████▌    | 55485/100000 [00:31<00:25, 1776.13it/s]\u001b[A\n",
      " 56%|█████▌    | 55667/100000 [00:31<00:24, 1788.42it/s]\u001b[A\n",
      " 56%|█████▌    | 55849/100000 [00:31<00:24, 1795.38it/s]\u001b[A\n",
      " 56%|█████▌    | 56033/100000 [00:31<00:24, 1806.10it/s]\u001b[A\n",
      " 56%|█████▌    | 56216/100000 [00:31<00:24, 1812.24it/s]\u001b[A\n",
      " 56%|█████▋    | 56398/100000 [00:31<00:24, 1773.80it/s]\u001b[A\n",
      " 57%|█████▋    | 56584/100000 [00:32<00:24, 1797.83it/s]\u001b[A\n",
      " 57%|█████▋    | 56769/100000 [00:32<00:23, 1811.56it/s]\u001b[A\n",
      " 57%|█████▋    | 56954/100000 [00:32<00:23, 1821.27it/s]\u001b[A\n",
      " 57%|█████▋    | 57139/100000 [00:32<00:23, 1829.61it/s]\u001b[A\n",
      " 57%|█████▋    | 57323/100000 [00:32<00:23, 1822.90it/s]\u001b[A\n",
      " 58%|█████▊    | 57506/100000 [00:32<00:23, 1812.90it/s]\u001b[A\n",
      " 58%|█████▊    | 57690/100000 [00:32<00:23, 1818.25it/s]\u001b[A\n",
      " 58%|█████▊    | 57872/100000 [00:32<00:23, 1757.21it/s]\u001b[A\n",
      " 58%|█████▊    | 58049/100000 [00:32<00:23, 1756.19it/s]\u001b[A\n",
      " 58%|█████▊    | 58229/100000 [00:32<00:23, 1767.63it/s]\u001b[A\n",
      " 58%|█████▊    | 58408/100000 [00:33<00:23, 1773.00it/s]\u001b[A\n",
      " 59%|█████▊    | 58586/100000 [00:33<00:24, 1722.66it/s]\u001b[A\n",
      " 59%|█████▉    | 58767/100000 [00:33<00:23, 1747.42it/s]\u001b[A\n",
      " 59%|█████▉    | 58943/100000 [00:33<00:23, 1715.47it/s]\u001b[A\n",
      " 59%|█████▉    | 59121/100000 [00:33<00:23, 1731.82it/s]\u001b[A\n",
      " 59%|█████▉    | 59299/100000 [00:33<00:23, 1743.20it/s]\u001b[A\n",
      " 59%|█████▉    | 59474/100000 [00:33<00:23, 1711.20it/s]\u001b[A\n",
      " 60%|█████▉    | 59646/100000 [00:33<00:23, 1695.78it/s]\u001b[A\n",
      " 60%|█████▉    | 59821/100000 [00:33<00:23, 1709.26it/s]\u001b[A\n",
      " 60%|██████    | 60003/100000 [00:33<00:22, 1740.00it/s]\u001b[A\n",
      " 60%|██████    | 60183/100000 [00:34<00:22, 1756.53it/s]\u001b[A\n",
      " 60%|██████    | 60363/100000 [00:34<00:22, 1767.05it/s]\u001b[A\n",
      " 61%|██████    | 60542/100000 [00:34<00:22, 1772.58it/s]\u001b[A\n",
      " 61%|██████    | 60723/100000 [00:34<00:22, 1782.59it/s]\u001b[A\n",
      " 61%|██████    | 60905/100000 [00:34<00:21, 1791.73it/s]\u001b[A\n",
      " 61%|██████    | 61085/100000 [00:34<00:22, 1734.13it/s]\u001b[A\n",
      " 61%|██████▏   | 61264/100000 [00:34<00:22, 1750.37it/s]\u001b[A\n",
      " 61%|██████▏   | 61446/100000 [00:34<00:21, 1769.94it/s]\u001b[A\n",
      " 62%|██████▏   | 61624/100000 [00:34<00:21, 1758.28it/s]\u001b[A\n",
      " 62%|██████▏   | 61801/100000 [00:34<00:21, 1755.52it/s]\u001b[A\n",
      " 62%|██████▏   | 61977/100000 [00:35<00:22, 1716.07it/s]\u001b[A\n",
      " 62%|██████▏   | 62149/100000 [00:35<00:22, 1705.59it/s]\u001b[A\n",
      " 62%|██████▏   | 62329/100000 [00:35<00:21, 1730.93it/s]\u001b[A\n",
      " 63%|██████▎   | 62507/100000 [00:35<00:21, 1745.04it/s]\u001b[A\n",
      " 63%|██████▎   | 62682/100000 [00:35<00:21, 1742.16it/s]\u001b[A\n",
      " 63%|██████▎   | 62857/100000 [00:35<00:21, 1734.10it/s]\u001b[A\n",
      " 63%|██████▎   | 63031/100000 [00:35<00:21, 1731.60it/s]\u001b[A\n",
      " 63%|██████▎   | 63205/100000 [00:35<00:21, 1727.65it/s]\u001b[A\n",
      " 63%|██████▎   | 63381/100000 [00:35<00:21, 1734.63it/s]\u001b[A\n",
      " 64%|██████▎   | 63555/100000 [00:35<00:21, 1704.59it/s]\u001b[A\n",
      " 64%|██████▎   | 63741/100000 [00:36<00:20, 1748.55it/s]\u001b[A\n",
      " 64%|██████▍   | 63927/100000 [00:36<00:20, 1779.98it/s]\u001b[A\n",
      " 64%|██████▍   | 64108/100000 [00:36<00:20, 1787.96it/s]\u001b[A\n",
      " 64%|██████▍   | 64287/100000 [00:36<00:20, 1741.03it/s]\u001b[A\n",
      " 64%|██████▍   | 64462/100000 [00:36<00:20, 1695.48it/s]\u001b[A\n",
      " 65%|██████▍   | 64632/100000 [00:36<00:21, 1676.68it/s]\u001b[A\n",
      " 65%|██████▍   | 64810/100000 [00:36<00:20, 1704.74it/s]\u001b[A\n",
      " 65%|██████▍   | 64981/100000 [00:36<00:20, 1700.51it/s]\u001b[A\n",
      " 65%|██████▌   | 65160/100000 [00:36<00:20, 1725.85it/s]\u001b[A\n",
      " 65%|██████▌   | 65343/100000 [00:37<00:19, 1754.74it/s]\u001b[A\n",
      " 66%|██████▌   | 65519/100000 [00:37<00:20, 1715.90it/s]\u001b[A\n",
      " 66%|██████▌   | 65706/100000 [00:37<00:19, 1759.05it/s]\u001b[A\n",
      " 66%|██████▌   | 65887/100000 [00:37<00:19, 1773.45it/s]\u001b[A\n",
      " 66%|██████▌   | 66065/100000 [00:37<00:19, 1774.14it/s]\u001b[A\n",
      " 66%|██████▌   | 66243/100000 [00:37<00:19, 1767.49it/s]\u001b[A\n",
      " 66%|██████▋   | 66420/100000 [00:37<00:19, 1742.44it/s]\u001b[A\n",
      " 67%|██████▋   | 66607/100000 [00:37<00:18, 1777.59it/s]\u001b[A\n",
      " 67%|██████▋   | 66785/100000 [00:37<00:19, 1741.28it/s]\u001b[A\n",
      " 67%|██████▋   | 66961/100000 [00:37<00:18, 1745.29it/s]\u001b[A\n",
      " 67%|██████▋   | 67136/100000 [00:38<00:18, 1744.84it/s]\u001b[A\n",
      " 67%|██████▋   | 67311/100000 [00:38<00:18, 1722.88it/s]\u001b[A\n",
      " 67%|██████▋   | 67484/100000 [00:38<00:18, 1724.38it/s]\u001b[A\n",
      " 68%|██████▊   | 67659/100000 [00:38<00:18, 1730.97it/s]\u001b[A\n",
      " 68%|██████▊   | 67833/100000 [00:38<00:18, 1724.66it/s]\u001b[A\n",
      " 68%|██████▊   | 68006/100000 [00:38<00:18, 1719.04it/s]\u001b[A\n",
      " 68%|██████▊   | 68179/100000 [00:38<00:18, 1719.82it/s]\u001b[A\n",
      " 68%|██████▊   | 68353/100000 [00:38<00:18, 1724.77it/s]\u001b[A\n",
      " 69%|██████▊   | 68526/100000 [00:38<00:18, 1703.81it/s]\u001b[A\n",
      " 69%|██████▊   | 68700/100000 [00:38<00:18, 1713.30it/s]\u001b[A\n",
      " 69%|██████▉   | 68873/100000 [00:39<00:18, 1716.79it/s]\u001b[A\n",
      " 69%|██████▉   | 69045/100000 [00:39<00:18, 1716.75it/s]\u001b[A\n",
      " 69%|██████▉   | 69219/100000 [00:39<00:17, 1721.30it/s]\u001b[A\n",
      " 69%|██████▉   | 69393/100000 [00:39<00:17, 1724.41it/s]\u001b[A\n",
      " 70%|██████▉   | 69573/100000 [00:39<00:17, 1746.89it/s]\u001b[A\n",
      " 70%|██████▉   | 69748/100000 [00:39<00:17, 1745.89it/s]\u001b[A\n",
      " 70%|██████▉   | 69928/100000 [00:39<00:17, 1759.80it/s]\u001b[A\n",
      " 70%|███████   | 70110/100000 [00:39<00:16, 1777.50it/s]\u001b[A\n",
      " 70%|███████   | 70288/100000 [00:39<00:16, 1769.19it/s]\u001b[A\n",
      " 70%|███████   | 70469/100000 [00:39<00:16, 1778.98it/s]\u001b[A\n",
      " 71%|███████   | 70650/100000 [00:40<00:16, 1787.51it/s]\u001b[A\n",
      " 71%|███████   | 70829/100000 [00:40<00:16, 1785.11it/s]\u001b[A\n",
      " 71%|███████   | 71008/100000 [00:40<00:16, 1746.02it/s]\u001b[A\n",
      " 71%|███████   | 71195/100000 [00:40<00:16, 1779.85it/s]\u001b[A\n",
      " 71%|███████▏  | 71382/100000 [00:40<00:15, 1803.42it/s]\u001b[A\n",
      " 72%|███████▏  | 71563/100000 [00:40<00:16, 1758.68it/s]\u001b[A\n",
      " 72%|███████▏  | 71740/100000 [00:40<00:16, 1731.99it/s]\u001b[A\n",
      " 72%|███████▏  | 71921/100000 [00:40<00:16, 1751.67it/s]\u001b[A\n",
      " 72%|███████▏  | 72105/100000 [00:40<00:15, 1775.30it/s]\u001b[A\n",
      " 72%|███████▏  | 72290/100000 [00:40<00:15, 1795.74it/s]\u001b[A\n",
      " 72%|███████▏  | 72474/100000 [00:41<00:15, 1808.79it/s]\u001b[A\n",
      " 73%|███████▎  | 72656/100000 [00:41<00:15, 1790.54it/s]\u001b[A\n",
      " 73%|███████▎  | 72837/100000 [00:41<00:15, 1795.35it/s]\u001b[A\n",
      " 73%|███████▎  | 73021/100000 [00:41<00:14, 1808.01it/s]\u001b[A\n",
      " 73%|███████▎  | 73206/100000 [00:41<00:14, 1819.65it/s]\u001b[A\n",
      " 73%|███████▎  | 73389/100000 [00:41<00:14, 1820.35it/s]\u001b[A\n",
      " 74%|███████▎  | 73572/100000 [00:41<00:15, 1757.83it/s]\u001b[A\n",
      " 74%|███████▎  | 73749/100000 [00:41<00:15, 1724.24it/s]\u001b[A\n",
      " 74%|███████▍  | 73930/100000 [00:41<00:14, 1748.32it/s]\u001b[A\n",
      " 74%|███████▍  | 74108/100000 [00:42<00:14, 1757.20it/s]\u001b[A\n",
      " 74%|███████▍  | 74293/100000 [00:42<00:14, 1782.39it/s]\u001b[A\n",
      " 74%|███████▍  | 74477/100000 [00:42<00:14, 1798.78it/s]\u001b[A\n",
      " 75%|███████▍  | 74658/100000 [00:42<00:14, 1760.68it/s]\u001b[A\n",
      " 75%|███████▍  | 74835/100000 [00:42<00:14, 1726.84it/s]\u001b[A\n",
      " 75%|███████▌  | 75015/100000 [00:42<00:14, 1747.29it/s]\u001b[A\n",
      " 75%|███████▌  | 75198/100000 [00:42<00:14, 1771.32it/s]\u001b[A\n",
      " 75%|███████▌  | 75376/100000 [00:42<00:14, 1729.18it/s]\u001b[A\n",
      " 76%|███████▌  | 75553/100000 [00:42<00:14, 1740.89it/s]\u001b[A\n",
      " 76%|███████▌  | 75735/100000 [00:42<00:13, 1762.58it/s]\u001b[A\n",
      " 76%|███████▌  | 75916/100000 [00:43<00:13, 1774.27it/s]\u001b[A\n",
      " 76%|███████▌  | 76096/100000 [00:43<00:13, 1781.00it/s]\u001b[A\n",
      " 76%|███████▋  | 76275/100000 [00:43<00:13, 1741.94it/s]\u001b[A\n",
      " 76%|███████▋  | 76462/100000 [00:43<00:13, 1777.61it/s]\u001b[A\n",
      " 77%|███████▋  | 76651/100000 [00:43<00:12, 1807.55it/s]\u001b[A\n",
      " 77%|███████▋  | 76838/100000 [00:43<00:12, 1823.84it/s]\u001b[A\n",
      " 77%|███████▋  | 77027/100000 [00:43<00:12, 1841.55it/s]\u001b[A\n",
      " 77%|███████▋  | 77212/100000 [00:43<00:12, 1827.31it/s]\u001b[A\n",
      " 77%|███████▋  | 77395/100000 [00:43<00:12, 1779.95it/s]\u001b[A\n",
      " 78%|███████▊  | 77574/100000 [00:43<00:12, 1745.65it/s]\u001b[A\n",
      " 78%|███████▊  | 77749/100000 [00:44<00:13, 1711.25it/s]\u001b[A\n",
      " 78%|███████▊  | 77933/100000 [00:44<00:12, 1746.50it/s]\u001b[A\n",
      " 78%|███████▊  | 78116/100000 [00:44<00:12, 1770.76it/s]\u001b[A\n",
      " 78%|███████▊  | 78300/100000 [00:44<00:12, 1789.51it/s]\u001b[A\n",
      " 78%|███████▊  | 78482/100000 [00:44<00:11, 1798.44it/s]\u001b[A\n",
      " 79%|███████▊  | 78666/100000 [00:44<00:11, 1809.51it/s]\u001b[A\n",
      " 79%|███████▉  | 78849/100000 [00:44<00:11, 1814.38it/s]\u001b[A\n",
      " 79%|███████▉  | 79031/100000 [00:44<00:11, 1808.64it/s]\u001b[A\n",
      " 79%|███████▉  | 79212/100000 [00:44<00:11, 1806.25it/s]\u001b[A\n",
      " 79%|███████▉  | 79395/100000 [00:44<00:11, 1812.29it/s]\u001b[A\n",
      " 80%|███████▉  | 79580/100000 [00:45<00:11, 1820.86it/s]\u001b[A\n",
      " 80%|███████▉  | 79765/100000 [00:45<00:11, 1827.04it/s]\u001b[A\n",
      " 80%|███████▉  | 79948/100000 [00:45<00:10, 1827.18it/s]\u001b[A\n",
      " 80%|████████  | 80133/100000 [00:45<00:10, 1831.86it/s]\u001b[A\n",
      " 80%|████████  | 80317/100000 [00:45<00:10, 1817.16it/s]\u001b[A\n",
      " 80%|████████  | 80499/100000 [00:45<00:10, 1800.91it/s]\u001b[A\n",
      " 81%|████████  | 80680/100000 [00:45<00:10, 1788.73it/s]\u001b[A\n",
      " 81%|████████  | 80859/100000 [00:45<00:10, 1777.74it/s]\u001b[A\n",
      " 81%|████████  | 81037/100000 [00:45<00:11, 1718.37it/s]\u001b[A\n",
      " 81%|████████  | 81210/100000 [00:46<00:11, 1653.40it/s]\u001b[A\n",
      " 81%|████████▏ | 81376/100000 [00:46<00:11, 1613.50it/s]\u001b[A\n",
      " 82%|████████▏ | 81538/100000 [00:46<00:11, 1581.24it/s]\u001b[A\n",
      " 82%|████████▏ | 81697/100000 [00:46<00:11, 1559.80it/s]\u001b[A\n",
      " 82%|████████▏ | 81854/100000 [00:46<00:11, 1535.63it/s]\u001b[A\n",
      " 82%|████████▏ | 82008/100000 [00:46<00:11, 1530.29it/s]\u001b[A\n",
      " 82%|████████▏ | 82162/100000 [00:46<00:11, 1524.82it/s]\u001b[A\n",
      " 82%|████████▏ | 82315/100000 [00:46<00:11, 1520.37it/s]\u001b[A\n",
      " 82%|████████▏ | 82468/100000 [00:46<00:11, 1516.98it/s]\u001b[A\n",
      " 83%|████████▎ | 82620/100000 [00:46<00:11, 1507.57it/s]\u001b[A\n",
      " 83%|████████▎ | 82772/100000 [00:47<00:11, 1510.54it/s]\u001b[A\n",
      " 83%|████████▎ | 82924/100000 [00:47<00:11, 1508.63it/s]\u001b[A\n",
      " 83%|████████▎ | 83075/100000 [00:47<00:11, 1508.49it/s]\u001b[A\n",
      " 83%|████████▎ | 83230/100000 [00:47<00:11, 1519.85it/s]\u001b[A\n",
      " 83%|████████▎ | 83389/100000 [00:47<00:10, 1538.60it/s]\u001b[A\n",
      " 84%|████████▎ | 83550/100000 [00:47<00:10, 1557.33it/s]\u001b[A\n",
      " 84%|████████▎ | 83709/100000 [00:47<00:10, 1566.89it/s]\u001b[A\n",
      " 84%|████████▍ | 83870/100000 [00:47<00:10, 1578.60it/s]\u001b[A\n",
      " 84%|████████▍ | 84030/100000 [00:47<00:10, 1582.83it/s]\u001b[A\n",
      " 84%|████████▍ | 84190/100000 [00:47<00:09, 1587.82it/s]\u001b[A\n",
      " 84%|████████▍ | 84350/100000 [00:48<00:09, 1589.06it/s]\u001b[A\n",
      " 85%|████████▍ | 84511/100000 [00:48<00:09, 1592.34it/s]\u001b[A\n",
      " 85%|████████▍ | 84672/100000 [00:48<00:09, 1595.90it/s]\u001b[A\n",
      " 85%|████████▍ | 84832/100000 [00:48<00:09, 1596.30it/s]\u001b[A\n",
      " 85%|████████▍ | 84992/100000 [00:48<00:09, 1596.55it/s]\u001b[A\n",
      " 85%|████████▌ | 85152/100000 [00:48<00:09, 1594.41it/s]\u001b[A\n",
      " 85%|████████▌ | 85313/100000 [00:48<00:09, 1596.42it/s]\u001b[A\n",
      " 85%|████████▌ | 85473/100000 [00:48<00:09, 1594.24it/s]\u001b[A\n",
      " 86%|████████▌ | 85634/100000 [00:48<00:08, 1597.17it/s]\u001b[A\n",
      " 86%|████████▌ | 85794/100000 [00:48<00:08, 1594.12it/s]\u001b[A\n",
      " 86%|████████▌ | 85954/100000 [00:49<00:08, 1593.88it/s]\u001b[A\n",
      " 86%|████████▌ | 86114/100000 [00:49<00:08, 1595.59it/s]\u001b[A\n",
      " 86%|████████▋ | 86274/100000 [00:49<00:08, 1595.06it/s]\u001b[A\n",
      " 86%|████████▋ | 86434/100000 [00:49<00:08, 1596.11it/s]\u001b[A\n",
      " 87%|████████▋ | 86594/100000 [00:49<00:08, 1594.88it/s]\u001b[A\n",
      " 87%|████████▋ | 86755/100000 [00:49<00:08, 1597.44it/s]\u001b[A\n",
      " 87%|████████▋ | 86915/100000 [00:49<00:08, 1594.42it/s]\u001b[A\n",
      " 87%|████████▋ | 87077/100000 [00:49<00:08, 1599.40it/s]\u001b[A\n",
      " 87%|████████▋ | 87237/100000 [00:49<00:08, 1593.52it/s]\u001b[A\n",
      " 87%|████████▋ | 87397/100000 [00:49<00:07, 1587.85it/s]\u001b[A\n",
      " 88%|████████▊ | 87556/100000 [00:50<00:07, 1585.67it/s]\u001b[A\n",
      " 88%|████████▊ | 87722/100000 [00:50<00:07, 1605.51it/s]\u001b[A\n",
      " 88%|████████▊ | 87883/100000 [00:50<00:07, 1604.58it/s]\u001b[A\n",
      " 88%|████████▊ | 88044/100000 [00:50<00:07, 1563.76it/s]\u001b[A\n",
      " 88%|████████▊ | 88201/100000 [00:50<00:07, 1560.27it/s]\u001b[A\n",
      " 88%|████████▊ | 88365/100000 [00:50<00:07, 1581.65it/s]\u001b[A\n",
      " 89%|████████▊ | 88536/100000 [00:50<00:07, 1617.33it/s]\u001b[A\n",
      " 89%|████████▊ | 88705/100000 [00:50<00:06, 1636.71it/s]\u001b[A\n",
      " 89%|████████▉ | 88869/100000 [00:50<00:06, 1610.92it/s]\u001b[A\n",
      " 89%|████████▉ | 89031/100000 [00:50<00:06, 1595.52it/s]\u001b[A\n",
      " 89%|████████▉ | 89207/100000 [00:51<00:06, 1642.02it/s]\u001b[A\n",
      " 89%|████████▉ | 89383/100000 [00:51<00:06, 1676.60it/s]\u001b[A\n",
      " 90%|████████▉ | 89560/100000 [00:51<00:06, 1703.29it/s]\u001b[A\n",
      " 90%|████████▉ | 89736/100000 [00:51<00:05, 1718.64it/s]\u001b[A\n",
      " 90%|████████▉ | 89914/100000 [00:51<00:05, 1735.76it/s]\u001b[A\n",
      " 90%|█████████ | 90088/100000 [00:51<00:05, 1727.34it/s]\u001b[A\n",
      " 90%|█████████ | 90261/100000 [00:51<00:05, 1685.96it/s]\u001b[A\n",
      " 90%|█████████ | 90432/100000 [00:51<00:05, 1692.21it/s]\u001b[A\n",
      " 91%|█████████ | 90609/100000 [00:51<00:05, 1713.35it/s]\u001b[A\n",
      " 91%|█████████ | 90783/100000 [00:52<00:05, 1720.87it/s]\u001b[A\n",
      " 91%|█████████ | 90956/100000 [00:52<00:05, 1711.57it/s]\u001b[A\n",
      " 91%|█████████ | 91130/100000 [00:52<00:05, 1719.07it/s]\u001b[A\n",
      " 91%|█████████▏| 91305/100000 [00:52<00:05, 1726.34it/s]\u001b[A\n",
      " 91%|█████████▏| 91480/100000 [00:52<00:04, 1732.95it/s]\u001b[A\n",
      " 92%|█████████▏| 91656/100000 [00:52<00:04, 1740.67it/s]\u001b[A\n",
      " 92%|█████████▏| 91832/100000 [00:52<00:04, 1743.26it/s]\u001b[A\n",
      " 92%|█████████▏| 92009/100000 [00:52<00:04, 1749.72it/s]\u001b[A\n",
      " 92%|█████████▏| 92185/100000 [00:52<00:04, 1751.61it/s]\u001b[A\n",
      " 92%|█████████▏| 92361/100000 [00:52<00:04, 1752.24it/s]\u001b[A\n",
      " 93%|█████████▎| 92537/100000 [00:53<00:04, 1754.11it/s]\u001b[A\n",
      " 93%|█████████▎| 92713/100000 [00:53<00:04, 1749.93it/s]\u001b[A\n",
      " 93%|█████████▎| 92888/100000 [00:53<00:04, 1707.64it/s]\u001b[A\n",
      " 93%|█████████▎| 93059/100000 [00:53<00:04, 1674.48it/s]\u001b[A\n",
      " 93%|█████████▎| 93229/100000 [00:53<00:04, 1681.80it/s]\u001b[A\n",
      " 93%|█████████▎| 93401/100000 [00:53<00:03, 1690.47it/s]\u001b[A\n",
      " 94%|█████████▎| 93572/100000 [00:53<00:03, 1695.14it/s]\u001b[A\n",
      " 94%|█████████▎| 93744/100000 [00:53<00:03, 1701.94it/s]\u001b[A\n",
      " 94%|█████████▍| 93916/100000 [00:53<00:03, 1705.86it/s]\u001b[A\n",
      " 94%|█████████▍| 94087/100000 [00:53<00:03, 1699.45it/s]\u001b[A\n",
      " 94%|█████████▍| 94260/100000 [00:54<00:03, 1706.19it/s]\u001b[A\n",
      " 94%|█████████▍| 94475/100000 [00:54<00:03, 1744.51it/s]\u001b[A\n",
      "\n",
      "  0%|          | 0/100000 [00:00<?, ?it/s]\u001b[A\n",
      "  0%|          | 181/100000 [00:00<00:55, 1807.52it/s]\u001b[A\n",
      "  0%|          | 362/100000 [00:00<00:56, 1748.31it/s]\u001b[A\n",
      "  1%|          | 537/100000 [00:00<00:57, 1737.06it/s]\u001b[A\n",
      "  1%|          | 711/100000 [00:00<00:57, 1724.31it/s]\u001b[A\n",
      "  1%|          | 886/100000 [00:00<00:57, 1730.42it/s]\u001b[A\n",
      "  1%|          | 1060/100000 [00:00<00:57, 1724.21it/s]\u001b[A\n",
      "  1%|          | 1233/100000 [00:00<00:57, 1722.66it/s]\u001b[A\n",
      "  1%|▏         | 1406/100000 [00:00<00:57, 1718.56it/s]\u001b[A\n",
      "  2%|▏         | 1578/100000 [00:00<00:57, 1716.63it/s]\u001b[A\n",
      "  2%|▏         | 1752/100000 [00:01<00:57, 1722.09it/s]\u001b[A\n",
      "  2%|▏         | 1927/100000 [00:01<00:56, 1727.41it/s]\u001b[A\n",
      "  2%|▏         | 2105/100000 [00:01<00:56, 1739.98it/s]\u001b[A\n",
      "  2%|▏         | 2286/100000 [00:01<00:55, 1759.13it/s]\u001b[A\n",
      "  2%|▏         | 2462/100000 [00:01<00:55, 1750.59it/s]\u001b[A\n",
      "  3%|▎         | 2638/100000 [00:01<00:55, 1752.27it/s]\u001b[A\n",
      "  3%|▎         | 2814/100000 [00:01<00:55, 1741.47it/s]\u001b[A\n",
      "  3%|▎         | 2990/100000 [00:01<00:55, 1745.43it/s]\u001b[A\n",
      "  3%|▎         | 3165/100000 [00:01<00:56, 1715.85it/s]\u001b[A\n",
      "  3%|▎         | 3347/100000 [00:01<00:55, 1746.38it/s]\u001b[A\n",
      "  4%|▎         | 3522/100000 [00:02<00:56, 1711.64it/s]\u001b[A\n",
      "  4%|▎         | 3704/100000 [00:02<00:55, 1741.12it/s]\u001b[A\n",
      "  4%|▍         | 3889/100000 [00:02<00:54, 1771.47it/s]\u001b[A\n",
      "  4%|▍         | 4072/100000 [00:02<00:53, 1787.33it/s]\u001b[A\n",
      "  4%|▍         | 4251/100000 [00:02<00:53, 1784.09it/s]\u001b[A\n",
      "  4%|▍         | 4430/100000 [00:02<00:53, 1777.28it/s]\u001b[A\n",
      "  5%|▍         | 4608/100000 [00:02<00:54, 1758.25it/s]\u001b[A\n",
      "  5%|▍         | 4785/100000 [00:02<00:54, 1761.08it/s]\u001b[A\n",
      "  5%|▍         | 4962/100000 [00:02<00:54, 1759.52it/s]\u001b[A\n",
      "  5%|▌         | 5140/100000 [00:02<00:53, 1763.58it/s]\u001b[A\n",
      "  5%|▌         | 5317/100000 [00:03<00:55, 1712.13it/s]\u001b[A\n",
      "  5%|▌         | 5494/100000 [00:03<00:54, 1728.78it/s]\u001b[A\n",
      "  6%|▌         | 5668/100000 [00:03<00:55, 1689.65it/s]\u001b[A\n",
      "  6%|▌         | 5841/100000 [00:03<00:55, 1700.79it/s]\u001b[A\n",
      "  6%|▌         | 6012/100000 [00:03<00:56, 1675.16it/s]\u001b[A\n",
      "  6%|▌         | 6192/100000 [00:03<00:54, 1710.33it/s]\u001b[A\n",
      "  6%|▋         | 6373/100000 [00:03<00:53, 1738.07it/s]\u001b[A\n",
      "  7%|▋         | 6555/100000 [00:03<00:53, 1759.39it/s]\u001b[A\n",
      "  7%|▋         | 6732/100000 [00:03<00:53, 1738.85it/s]\u001b[A\n",
      "  7%|▋         | 6907/100000 [00:03<00:54, 1715.83it/s]\u001b[A\n",
      "  7%|▋         | 7079/100000 [00:04<00:54, 1694.35it/s]\u001b[A\n",
      "  7%|▋         | 7249/100000 [00:04<00:55, 1684.10it/s]\u001b[A\n",
      "  7%|▋         | 7432/100000 [00:04<00:53, 1726.08it/s]\u001b[A\n",
      "  8%|▊         | 7611/100000 [00:04<00:52, 1744.87it/s]\u001b[A\n",
      "  8%|▊         | 7786/100000 [00:04<00:53, 1714.59it/s]\u001b[A\n",
      "  8%|▊         | 7966/100000 [00:04<00:52, 1737.36it/s]\u001b[A\n",
      "  8%|▊         | 8150/100000 [00:04<00:51, 1766.46it/s]\u001b[A\n",
      "  8%|▊         | 8332/100000 [00:04<00:51, 1780.45it/s]\u001b[A\n",
      "  9%|▊         | 8511/100000 [00:04<00:53, 1721.85it/s]\u001b[A\n",
      "  9%|▊         | 8684/100000 [00:05<00:53, 1691.83it/s]\u001b[A\n",
      "  9%|▉         | 8856/100000 [00:05<00:53, 1697.95it/s]\u001b[A\n",
      "  9%|▉         | 9037/100000 [00:05<00:52, 1728.77it/s]\u001b[A\n",
      "  9%|▉         | 9220/100000 [00:05<00:51, 1757.80it/s]\u001b[A\n",
      "  9%|▉         | 9397/100000 [00:05<00:51, 1749.03it/s]\u001b[A\n",
      " 10%|▉         | 9580/100000 [00:05<00:51, 1770.86it/s]\u001b[A\n",
      " 10%|▉         | 9762/100000 [00:05<00:50, 1783.94it/s]\u001b[A\n",
      " 10%|▉         | 9942/100000 [00:05<00:50, 1786.94it/s]\u001b[A\n",
      " 10%|█         | 10126/100000 [00:05<00:49, 1801.15it/s]\u001b[A\n",
      " 10%|█         | 10307/100000 [00:05<00:51, 1749.95it/s]\u001b[A\n",
      " 10%|█         | 10490/100000 [00:06<00:50, 1770.97it/s]\u001b[A\n",
      " 11%|█         | 10673/100000 [00:06<00:50, 1786.36it/s]\u001b[A\n",
      " 11%|█         | 10852/100000 [00:06<00:51, 1746.40it/s]\u001b[A\n",
      " 11%|█         | 11027/100000 [00:06<00:52, 1707.26it/s]\u001b[A\n",
      " 11%|█         | 11209/100000 [00:06<00:51, 1737.13it/s]\u001b[A\n",
      " 11%|█▏        | 11390/100000 [00:06<00:50, 1756.82it/s]\u001b[A\n",
      " 12%|█▏        | 11566/100000 [00:06<00:50, 1754.71it/s]\u001b[A\n",
      " 12%|█▏        | 11743/100000 [00:06<00:50, 1757.44it/s]\u001b[A\n",
      " 12%|█▏        | 11919/100000 [00:06<00:51, 1716.43it/s]\u001b[A\n",
      " 12%|█▏        | 12091/100000 [00:06<00:51, 1695.74it/s]\u001b[A\n",
      " 12%|█▏        | 12267/100000 [00:07<00:51, 1712.02it/s]\u001b[A\n",
      " 12%|█▏        | 12442/100000 [00:07<00:50, 1722.81it/s]\u001b[A\n",
      " 13%|█▎        | 12618/100000 [00:07<00:50, 1732.61it/s]\u001b[A\n",
      " 13%|█▎        | 12792/100000 [00:07<00:50, 1727.25it/s]\u001b[A\n",
      " 13%|█▎        | 12967/100000 [00:07<00:50, 1731.60it/s]\u001b[A\n",
      " 13%|█▎        | 13142/100000 [00:07<00:50, 1736.28it/s]\u001b[A\n",
      " 13%|█▎        | 13318/100000 [00:07<00:49, 1742.49it/s]\u001b[A\n",
      " 13%|█▎        | 13493/100000 [00:07<00:49, 1742.23it/s]\u001b[A\n",
      " 14%|█▎        | 13669/100000 [00:07<00:49, 1744.48it/s]\u001b[A\n",
      " 14%|█▍        | 13844/100000 [00:07<00:49, 1746.05it/s]\u001b[A\n",
      " 14%|█▍        | 14022/100000 [00:08<00:48, 1755.87it/s]\u001b[A\n",
      " 14%|█▍        | 14204/100000 [00:08<00:48, 1774.50it/s]\u001b[A\n",
      " 14%|█▍        | 14382/100000 [00:08<00:48, 1760.24it/s]\u001b[A\n",
      " 15%|█▍        | 14559/100000 [00:08<00:48, 1752.56it/s]\u001b[A\n",
      " 15%|█▍        | 14735/100000 [00:08<00:48, 1744.96it/s]\u001b[A\n",
      " 15%|█▍        | 14912/100000 [00:08<00:48, 1751.41it/s]\u001b[A\n",
      " 15%|█▌        | 15088/100000 [00:08<00:48, 1750.48it/s]\u001b[A\n",
      " 15%|█▌        | 15264/100000 [00:08<00:48, 1738.48it/s]\u001b[A\n",
      " 15%|█▌        | 15444/100000 [00:08<00:48, 1755.03it/s]\u001b[A\n",
      " 16%|█▌        | 15626/100000 [00:08<00:47, 1773.60it/s]\u001b[A\n",
      " 16%|█▌        | 15804/100000 [00:09<00:47, 1774.56it/s]\u001b[A\n",
      " 16%|█▌        | 15988/100000 [00:09<00:46, 1791.64it/s]\u001b[A\n",
      " 16%|█▌        | 16177/100000 [00:09<00:46, 1818.11it/s]\u001b[A\n",
      " 16%|█▋        | 16359/100000 [00:09<00:46, 1802.39it/s]\u001b[A\n",
      " 17%|█▋        | 16540/100000 [00:09<00:47, 1763.30it/s]\u001b[A\n",
      " 17%|█▋        | 16720/100000 [00:09<00:47, 1771.62it/s]\u001b[A\n",
      " 17%|█▋        | 16898/100000 [00:09<00:47, 1742.67it/s]\u001b[A\n",
      " 17%|█▋        | 17073/100000 [00:09<00:48, 1717.01it/s]\u001b[A\n",
      " 17%|█▋        | 17255/100000 [00:09<00:47, 1745.64it/s]\u001b[A\n",
      " 17%|█▋        | 17436/100000 [00:09<00:46, 1762.99it/s]\u001b[A\n",
      " 18%|█▊        | 17618/100000 [00:10<00:46, 1776.62it/s]\u001b[A\n",
      " 18%|█▊        | 17797/100000 [00:10<00:46, 1779.45it/s]\u001b[A\n",
      " 18%|█▊        | 17979/100000 [00:10<00:45, 1789.06it/s]\u001b[A\n",
      " 18%|█▊        | 18158/100000 [00:10<00:46, 1777.91it/s]\u001b[A\n",
      " 18%|█▊        | 18338/100000 [00:10<00:45, 1782.78it/s]\u001b[A\n",
      " 19%|█▊        | 18519/100000 [00:10<00:45, 1788.48it/s]\u001b[A\n",
      " 19%|█▊        | 18698/100000 [00:10<00:47, 1726.28it/s]\u001b[A\n",
      " 19%|█▉        | 18872/100000 [00:10<00:47, 1707.17it/s]\u001b[A\n",
      " 19%|█▉        | 19053/100000 [00:10<00:46, 1734.80it/s]\u001b[A\n",
      " 19%|█▉        | 19228/100000 [00:11<00:46, 1738.23it/s]\u001b[A\n",
      " 19%|█▉        | 19405/100000 [00:11<00:46, 1745.53it/s]\u001b[A\n",
      " 20%|█▉        | 19586/100000 [00:11<00:45, 1764.54it/s]\u001b[A\n",
      " 20%|█▉        | 19769/100000 [00:11<00:45, 1781.18it/s]\u001b[A\n",
      " 20%|█▉        | 19950/100000 [00:11<00:44, 1789.64it/s]\u001b[A\n",
      " 20%|██        | 20134/100000 [00:11<00:44, 1803.71it/s]\u001b[A\n",
      " 20%|██        | 20316/100000 [00:11<00:44, 1805.95it/s]\u001b[A\n",
      " 20%|██        | 20497/100000 [00:11<00:44, 1800.14it/s]\u001b[A\n",
      " 21%|██        | 20678/100000 [00:11<00:44, 1774.95it/s]\u001b[A\n",
      " 21%|██        | 20859/100000 [00:11<00:44, 1784.26it/s]\u001b[A\n",
      " 21%|██        | 21038/100000 [00:12<00:44, 1777.89it/s]\u001b[A\n",
      " 21%|██        | 21216/100000 [00:12<00:44, 1773.82it/s]\u001b[A\n",
      " 21%|██▏       | 21394/100000 [00:12<00:44, 1773.08it/s]\u001b[A\n",
      " 22%|██▏       | 21572/100000 [00:12<00:44, 1767.72it/s]\u001b[A\n",
      " 22%|██▏       | 21758/100000 [00:12<00:43, 1792.95it/s]\u001b[A\n",
      " 22%|██▏       | 21938/100000 [00:12<00:43, 1791.44it/s]\u001b[A\n",
      " 22%|██▏       | 22120/100000 [00:12<00:43, 1797.27it/s]\u001b[A\n",
      " 22%|██▏       | 22300/100000 [00:12<00:43, 1797.81it/s]\u001b[A\n",
      " 22%|██▏       | 22481/100000 [00:12<00:43, 1801.28it/s]\u001b[A\n",
      " 23%|██▎       | 22662/100000 [00:12<00:43, 1798.19it/s]\u001b[A\n",
      " 23%|██▎       | 22844/100000 [00:13<00:42, 1801.36it/s]\u001b[A\n",
      " 23%|██▎       | 23025/100000 [00:13<00:42, 1797.34it/s]\u001b[A\n",
      " 23%|██▎       | 23207/100000 [00:13<00:42, 1801.92it/s]\u001b[A\n",
      " 23%|██▎       | 23388/100000 [00:13<00:42, 1802.12it/s]\u001b[A\n",
      " 24%|██▎       | 23569/100000 [00:13<00:42, 1802.29it/s]\u001b[A\n",
      " 24%|██▍       | 23750/100000 [00:13<00:42, 1802.40it/s]\u001b[A\n",
      " 24%|██▍       | 23934/100000 [00:13<00:41, 1811.50it/s]\u001b[A\n",
      " 24%|██▍       | 24116/100000 [00:13<00:41, 1807.22it/s]\u001b[A\n",
      " 24%|██▍       | 24297/100000 [00:13<00:42, 1768.31it/s]\u001b[A\n",
      " 24%|██▍       | 24485/100000 [00:13<00:41, 1800.89it/s]\u001b[A\n",
      " 25%|██▍       | 24666/100000 [00:14<00:42, 1760.98it/s]\u001b[A\n",
      " 25%|██▍       | 24849/100000 [00:14<00:42, 1779.83it/s]\u001b[A\n",
      " 25%|██▌       | 25032/100000 [00:14<00:41, 1793.43it/s]\u001b[A\n",
      " 25%|██▌       | 25214/100000 [00:14<00:41, 1798.87it/s]\u001b[A\n",
      " 25%|██▌       | 25395/100000 [00:14<00:42, 1746.88it/s]\u001b[A\n",
      " 26%|██▌       | 25579/100000 [00:14<00:42, 1771.37it/s]\u001b[A\n",
      " 26%|██▌       | 25760/100000 [00:14<00:41, 1781.33it/s]\u001b[A\n",
      " 26%|██▌       | 25940/100000 [00:14<00:41, 1785.67it/s]\u001b[A\n",
      " 26%|██▌       | 26121/100000 [00:14<00:41, 1791.33it/s]\u001b[A\n",
      " 26%|██▋       | 26304/100000 [00:14<00:40, 1800.49it/s]\u001b[A\n",
      " 26%|██▋       | 26485/100000 [00:15<00:40, 1797.26it/s]\u001b[A\n",
      " 27%|██▋       | 26665/100000 [00:15<00:40, 1794.64it/s]\u001b[A\n",
      " 27%|██▋       | 26848/100000 [00:15<00:40, 1803.13it/s]\u001b[A\n",
      " 27%|██▋       | 27029/100000 [00:15<00:40, 1782.86it/s]\u001b[A\n",
      " 27%|██▋       | 27208/100000 [00:15<00:41, 1745.69it/s]\u001b[A\n",
      " 27%|██▋       | 27397/100000 [00:15<00:40, 1787.42it/s]\u001b[A\n",
      " 28%|██▊       | 27581/100000 [00:15<00:40, 1802.29it/s]\u001b[A\n",
      " 28%|██▊       | 27765/100000 [00:15<00:39, 1813.38it/s]\u001b[A\n",
      " 28%|██▊       | 27948/100000 [00:15<00:39, 1816.54it/s]\u001b[A\n",
      " 28%|██▊       | 28132/100000 [00:15<00:39, 1822.66it/s]\u001b[A\n",
      " 28%|██▊       | 28315/100000 [00:16<00:40, 1764.68it/s]\u001b[A\n",
      " 28%|██▊       | 28492/100000 [00:16<00:41, 1735.38it/s]\u001b[A\n",
      " 29%|██▊       | 28666/100000 [00:16<00:41, 1718.58it/s]\u001b[A\n",
      " 29%|██▉       | 28839/100000 [00:16<00:41, 1701.67it/s]\u001b[A\n",
      " 29%|██▉       | 29010/100000 [00:16<00:41, 1703.36it/s]\u001b[A\n",
      " 29%|██▉       | 29181/100000 [00:16<00:41, 1690.44it/s]\u001b[A\n",
      " 29%|██▉       | 29351/100000 [00:16<00:42, 1673.63it/s]\u001b[A\n",
      " 30%|██▉       | 29530/100000 [00:16<00:41, 1707.47it/s]\u001b[A\n",
      " 30%|██▉       | 29710/100000 [00:16<00:40, 1734.44it/s]\u001b[A\n",
      " 30%|██▉       | 29892/100000 [00:17<00:39, 1757.87it/s]\u001b[A\n",
      " 30%|███       | 30072/100000 [00:17<00:39, 1768.74it/s]\u001b[A\n",
      " 30%|███       | 30255/100000 [00:17<00:39, 1786.18it/s]\u001b[A\n",
      " 30%|███       | 30436/100000 [00:17<00:38, 1792.04it/s]\u001b[A\n",
      " 31%|███       | 30619/100000 [00:17<00:38, 1801.67it/s]\u001b[A\n",
      " 31%|███       | 30800/100000 [00:17<00:38, 1803.46it/s]\u001b[A\n",
      " 31%|███       | 30983/100000 [00:17<00:38, 1811.37it/s]\u001b[A\n",
      " 31%|███       | 31165/100000 [00:17<00:37, 1812.22it/s]\u001b[A\n",
      " 31%|███▏      | 31348/100000 [00:17<00:37, 1817.14it/s]\u001b[A\n",
      " 32%|███▏      | 31530/100000 [00:17<00:37, 1816.52it/s]\u001b[A\n",
      " 32%|███▏      | 31712/100000 [00:18<00:37, 1803.42it/s]\u001b[A\n",
      " 32%|███▏      | 31893/100000 [00:18<00:37, 1796.62it/s]\u001b[A\n",
      " 32%|███▏      | 32074/100000 [00:18<00:37, 1799.89it/s]\u001b[A\n",
      " 32%|███▏      | 32256/100000 [00:18<00:37, 1803.73it/s]\u001b[A\n",
      " 32%|███▏      | 32440/100000 [00:18<00:37, 1812.65it/s]\u001b[A\n",
      " 33%|███▎      | 32622/100000 [00:18<00:37, 1810.08it/s]\u001b[A\n",
      " 33%|███▎      | 32804/100000 [00:18<00:37, 1798.73it/s]\u001b[A\n",
      " 33%|███▎      | 32987/100000 [00:18<00:37, 1805.45it/s]\u001b[A\n",
      " 33%|███▎      | 33168/100000 [00:18<00:38, 1753.01it/s]\u001b[A\n",
      " 33%|███▎      | 33344/100000 [00:18<00:38, 1730.65it/s]\u001b[A\n",
      " 34%|███▎      | 33518/100000 [00:19<00:39, 1692.87it/s]\u001b[A\n",
      " 34%|███▎      | 33688/100000 [00:19<00:39, 1679.14it/s]\u001b[A\n",
      " 34%|███▍      | 33866/100000 [00:19<00:38, 1707.95it/s]\u001b[A\n",
      " 34%|███▍      | 34038/100000 [00:19<00:39, 1689.99it/s]\u001b[A\n",
      " 34%|███▍      | 34227/100000 [00:19<00:37, 1748.41it/s]\u001b[A\n",
      " 34%|███▍      | 34409/100000 [00:19<00:37, 1767.27it/s]\u001b[A\n",
      " 35%|███▍      | 34591/100000 [00:19<00:36, 1782.41it/s]\u001b[A\n",
      " 35%|███▍      | 34775/100000 [00:19<00:36, 1797.58it/s]\u001b[A\n",
      " 35%|███▍      | 34959/100000 [00:19<00:35, 1809.49it/s]\u001b[A\n",
      " 35%|███▌      | 35141/100000 [00:19<00:35, 1809.84it/s]\u001b[A\n",
      " 35%|███▌      | 35323/100000 [00:20<00:36, 1749.32it/s]\u001b[A\n",
      " 35%|███▌      | 35499/100000 [00:20<00:37, 1731.50it/s]\u001b[A\n",
      " 36%|███▌      | 35684/100000 [00:20<00:36, 1764.31it/s]\u001b[A\n",
      " 36%|███▌      | 35868/100000 [00:20<00:35, 1783.40it/s]\u001b[A\n",
      " 36%|███▌      | 36047/100000 [00:20<00:36, 1776.09it/s]\u001b[A\n",
      " 36%|███▌      | 36225/100000 [00:20<00:37, 1720.37it/s]\u001b[A\n",
      " 36%|███▋      | 36403/100000 [00:20<00:36, 1735.82it/s]\u001b[A\n",
      " 37%|███▋      | 36577/100000 [00:20<00:37, 1711.75it/s]\u001b[A\n",
      " 37%|███▋      | 36749/100000 [00:20<00:37, 1695.77it/s]\u001b[A\n",
      " 37%|███▋      | 36927/100000 [00:21<00:36, 1718.26it/s]\u001b[A\n",
      " 37%|███▋      | 37110/100000 [00:21<00:35, 1748.40it/s]\u001b[A\n",
      " 37%|███▋      | 37286/100000 [00:21<00:36, 1722.05it/s]\u001b[A\n",
      " 37%|███▋      | 37472/100000 [00:21<00:35, 1761.88it/s]\u001b[A\n",
      " 38%|███▊      | 37649/100000 [00:21<00:36, 1713.13it/s]\u001b[A\n",
      " 38%|███▊      | 37821/100000 [00:21<00:37, 1680.44it/s]\u001b[A\n",
      " 38%|███▊      | 37990/100000 [00:21<00:37, 1657.52it/s]\u001b[A\n",
      " 38%|███▊      | 38169/100000 [00:21<00:36, 1695.17it/s]\u001b[A\n",
      " 38%|███▊      | 38341/100000 [00:21<00:36, 1701.07it/s]\u001b[A\n",
      " 39%|███▊      | 38520/100000 [00:21<00:35, 1726.73it/s]\u001b[A\n",
      " 39%|███▊      | 38695/100000 [00:22<00:35, 1732.21it/s]\u001b[A\n",
      " 39%|███▉      | 38873/100000 [00:22<00:35, 1745.66it/s]\u001b[A\n",
      " 39%|███▉      | 39049/100000 [00:22<00:34, 1748.45it/s]\u001b[A\n",
      " 39%|███▉      | 39224/100000 [00:22<00:35, 1735.14it/s]\u001b[A\n",
      " 39%|███▉      | 39400/100000 [00:22<00:34, 1740.79it/s]\u001b[A\n",
      " 40%|███▉      | 39580/100000 [00:22<00:34, 1756.30it/s]\u001b[A\n",
      " 40%|███▉      | 39756/100000 [00:22<00:34, 1745.35it/s]\u001b[A\n",
      " 40%|███▉      | 39931/100000 [00:22<00:34, 1745.02it/s]\u001b[A\n",
      " 40%|████      | 40106/100000 [00:22<00:34, 1733.07it/s]\u001b[A\n",
      " 40%|████      | 40281/100000 [00:22<00:34, 1735.75it/s]\u001b[A\n",
      " 40%|████      | 40455/100000 [00:23<00:34, 1729.33it/s]\u001b[A\n",
      " 41%|████      | 40632/100000 [00:23<00:34, 1739.35it/s]\u001b[A\n",
      " 41%|████      | 40808/100000 [00:23<00:33, 1742.55it/s]\u001b[A\n",
      " 41%|████      | 40985/100000 [00:23<00:33, 1747.54it/s]\u001b[A\n",
      " 41%|████      | 41160/100000 [00:23<00:34, 1720.15it/s]\u001b[A\n",
      " 41%|████▏     | 41335/100000 [00:23<00:33, 1727.11it/s]\u001b[A\n",
      " 42%|████▏     | 41511/100000 [00:23<00:33, 1736.19it/s]\u001b[A\n",
      " 42%|████▏     | 41687/100000 [00:23<00:33, 1742.90it/s]\u001b[A\n",
      " 42%|████▏     | 41866/100000 [00:23<00:33, 1755.16it/s]\u001b[A\n",
      " 42%|████▏     | 42047/100000 [00:23<00:32, 1769.44it/s]\u001b[A\n",
      " 42%|████▏     | 42228/100000 [00:24<00:32, 1780.01it/s]\u001b[A\n",
      " 42%|████▏     | 42407/100000 [00:24<00:32, 1778.82it/s]\u001b[A\n",
      " 43%|████▎     | 42587/100000 [00:24<00:32, 1782.82it/s]\u001b[A\n",
      " 43%|████▎     | 42766/100000 [00:24<00:32, 1770.63it/s]\u001b[A\n",
      " 43%|████▎     | 42944/100000 [00:24<00:32, 1763.63it/s]\u001b[A\n",
      " 43%|████▎     | 43121/100000 [00:24<00:33, 1720.88it/s]\u001b[A\n",
      " 43%|████▎     | 43294/100000 [00:24<00:33, 1678.17it/s]\u001b[A\n",
      " 43%|████▎     | 43471/100000 [00:24<00:33, 1703.69it/s]\u001b[A\n",
      " 44%|████▎     | 43645/100000 [00:24<00:32, 1713.48it/s]\u001b[A\n",
      " 44%|████▍     | 43824/100000 [00:24<00:32, 1734.74it/s]\u001b[A\n",
      " 44%|████▍     | 44007/100000 [00:25<00:31, 1761.36it/s]\u001b[A\n",
      " 44%|████▍     | 44194/100000 [00:25<00:31, 1791.15it/s]\u001b[A\n",
      " 44%|████▍     | 44378/100000 [00:25<00:30, 1803.58it/s]\u001b[A\n",
      " 45%|████▍     | 44559/100000 [00:25<00:31, 1785.53it/s]\u001b[A\n",
      " 45%|████▍     | 44738/100000 [00:25<00:31, 1771.52it/s]\u001b[A\n",
      " 45%|████▍     | 44916/100000 [00:25<00:31, 1765.99it/s]\u001b[A\n",
      " 45%|████▌     | 45093/100000 [00:25<00:31, 1755.49it/s]\u001b[A\n",
      " 45%|████▌     | 45271/100000 [00:25<00:31, 1762.55it/s]\u001b[A\n",
      " 45%|████▌     | 45448/100000 [00:25<00:31, 1747.81it/s]\u001b[A\n",
      " 46%|████▌     | 45623/100000 [00:25<00:31, 1737.70it/s]\u001b[A\n",
      " 46%|████▌     | 45797/100000 [00:26<00:31, 1732.09it/s]\u001b[A\n",
      " 46%|████▌     | 45973/100000 [00:26<00:31, 1739.07it/s]\u001b[A\n",
      " 46%|████▌     | 46152/100000 [00:26<00:30, 1752.21it/s]\u001b[A\n",
      " 46%|████▋     | 46328/100000 [00:26<00:30, 1752.84it/s]\u001b[A\n",
      " 47%|████▋     | 46506/100000 [00:26<00:30, 1760.81it/s]\u001b[A\n",
      " 47%|████▋     | 46685/100000 [00:26<00:30, 1768.95it/s]\u001b[A\n",
      " 47%|████▋     | 46864/100000 [00:26<00:29, 1773.21it/s]\u001b[A\n",
      " 47%|████▋     | 47044/100000 [00:26<00:29, 1780.69it/s]\u001b[A\n",
      " 47%|████▋     | 47224/100000 [00:26<00:29, 1784.26it/s]\u001b[A\n",
      " 47%|████▋     | 47404/100000 [00:26<00:29, 1788.66it/s]\u001b[A\n",
      " 48%|████▊     | 47583/100000 [00:27<00:29, 1774.13it/s]\u001b[A\n",
      " 48%|████▊     | 47761/100000 [00:27<00:29, 1772.72it/s]\u001b[A\n",
      " 48%|████▊     | 47941/100000 [00:27<00:29, 1777.27it/s]\u001b[A\n",
      " 48%|████▊     | 48121/100000 [00:27<00:29, 1781.30it/s]\u001b[A\n",
      " 48%|████▊     | 48301/100000 [00:27<00:28, 1784.65it/s]\u001b[A\n",
      " 48%|████▊     | 48483/100000 [00:27<00:28, 1793.81it/s]\u001b[A\n",
      " 49%|████▊     | 48665/100000 [00:27<00:28, 1798.87it/s]\u001b[A\n",
      " 49%|████▉     | 48849/100000 [00:27<00:28, 1809.11it/s]\u001b[A\n",
      " 49%|████▉     | 49032/100000 [00:27<00:28, 1814.19it/s]\u001b[A\n",
      " 49%|████▉     | 49214/100000 [00:28<00:28, 1789.58it/s]\u001b[A\n",
      " 49%|████▉     | 49394/100000 [00:28<00:28, 1791.03it/s]\u001b[A\n",
      " 50%|████▉     | 49574/100000 [00:28<00:28, 1757.03it/s]\u001b[A\n",
      " 50%|████▉     | 49765/100000 [00:28<00:27, 1799.47it/s]\u001b[A\n",
      " 50%|████▉     | 49946/100000 [00:28<00:28, 1760.92it/s]\u001b[A\n",
      " 50%|█████     | 50128/100000 [00:28<00:28, 1776.11it/s]\u001b[A\n",
      " 50%|█████     | 50308/100000 [00:28<00:27, 1782.46it/s]\u001b[A\n",
      " 50%|█████     | 50491/100000 [00:28<00:27, 1795.17it/s]\u001b[A\n",
      " 51%|█████     | 50672/100000 [00:28<00:27, 1799.46it/s]\u001b[A\n",
      " 51%|█████     | 50853/100000 [00:28<00:28, 1754.98it/s]\u001b[A\n",
      " 51%|█████     | 51031/100000 [00:29<00:27, 1762.26it/s]\u001b[A\n",
      " 51%|█████     | 51214/100000 [00:29<00:27, 1779.94it/s]\u001b[A\n",
      " 51%|█████▏    | 51396/100000 [00:29<00:27, 1789.90it/s]\u001b[A\n",
      " 52%|█████▏    | 51577/100000 [00:29<00:26, 1795.32it/s]\u001b[A\n",
      " 52%|█████▏    | 51757/100000 [00:29<00:27, 1749.09it/s]\u001b[A\n",
      " 52%|█████▏    | 51933/100000 [00:29<00:27, 1737.33it/s]\u001b[A\n",
      " 52%|█████▏    | 52107/100000 [00:29<00:27, 1713.55it/s]\u001b[A\n",
      " 52%|█████▏    | 52279/100000 [00:29<00:28, 1695.55it/s]\u001b[A\n",
      " 52%|█████▏    | 52449/100000 [00:29<00:28, 1678.69it/s]\u001b[A\n",
      " 53%|█████▎    | 52627/100000 [00:29<00:27, 1706.09it/s]\u001b[A\n",
      " 53%|█████▎    | 52805/100000 [00:30<00:27, 1727.68it/s]\u001b[A\n",
      " 53%|█████▎    | 52981/100000 [00:30<00:27, 1736.50it/s]\u001b[A\n",
      " 53%|█████▎    | 53159/100000 [00:30<00:26, 1749.12it/s]\u001b[A\n",
      " 53%|█████▎    | 53336/100000 [00:30<00:26, 1754.62it/s]\u001b[A\n",
      " 54%|█████▎    | 53512/100000 [00:30<00:26, 1725.80it/s]\u001b[A\n",
      " 54%|█████▎    | 53701/100000 [00:30<00:26, 1771.72it/s]\u001b[A\n",
      " 54%|█████▍    | 53888/100000 [00:30<00:25, 1798.02it/s]\u001b[A\n",
      " 54%|█████▍    | 54068/100000 [00:30<00:26, 1746.64it/s]\u001b[A\n",
      " 54%|█████▍    | 54244/100000 [00:30<00:26, 1722.69it/s]\u001b[A\n",
      " 54%|█████▍    | 54430/100000 [00:30<00:25, 1760.39it/s]\u001b[A\n",
      " 55%|█████▍    | 54612/100000 [00:31<00:25, 1776.09it/s]\u001b[A\n",
      " 55%|█████▍    | 54790/100000 [00:31<00:25, 1770.69it/s]\u001b[A\n",
      " 55%|█████▍    | 54969/100000 [00:31<00:25, 1775.35it/s]\u001b[A\n",
      " 55%|█████▌    | 55147/100000 [00:31<00:25, 1756.36it/s]\u001b[A\n",
      " 55%|█████▌    | 55326/100000 [00:31<00:25, 1763.79it/s]\u001b[A\n",
      " 56%|█████▌    | 55503/100000 [00:31<00:25, 1717.35it/s]\u001b[A\n",
      " 56%|█████▌    | 55676/100000 [00:31<00:26, 1690.23it/s]\u001b[A\n",
      " 56%|█████▌    | 55855/100000 [00:31<00:25, 1717.40it/s]\u001b[A\n",
      " 56%|█████▌    | 56027/100000 [00:31<00:25, 1692.23it/s]\u001b[A\n",
      " 56%|█████▌    | 56197/100000 [00:32<00:26, 1672.14it/s]\u001b[A\n",
      " 56%|█████▋    | 56365/100000 [00:32<00:26, 1647.49it/s]\u001b[A\n",
      " 57%|█████▋    | 56530/100000 [00:32<00:26, 1638.10it/s]\u001b[A\n",
      " 57%|█████▋    | 56694/100000 [00:32<00:26, 1634.51it/s]\u001b[A\n",
      " 57%|█████▋    | 56865/100000 [00:32<00:26, 1654.59it/s]\u001b[A\n",
      " 57%|█████▋    | 57039/100000 [00:32<00:25, 1677.44it/s]\u001b[A\n",
      " 57%|█████▋    | 57215/100000 [00:32<00:25, 1699.86it/s]\u001b[A\n",
      " 57%|█████▋    | 57386/100000 [00:32<00:25, 1675.89it/s]\u001b[A\n",
      " 58%|█████▊    | 57554/100000 [00:32<00:25, 1656.69it/s]\u001b[A\n",
      " 58%|█████▊    | 57732/100000 [00:32<00:24, 1691.55it/s]\u001b[A\n",
      " 58%|█████▊    | 57902/100000 [00:33<00:25, 1665.87it/s]\u001b[A\n",
      " 58%|█████▊    | 58069/100000 [00:33<00:25, 1644.09it/s]\u001b[A\n",
      " 58%|█████▊    | 58244/100000 [00:33<00:24, 1673.72it/s]\u001b[A\n",
      " 58%|█████▊    | 58423/100000 [00:33<00:24, 1705.95it/s]\u001b[A\n",
      " 59%|█████▊    | 58598/100000 [00:33<00:24, 1716.45it/s]\u001b[A\n",
      " 59%|█████▉    | 58770/100000 [00:33<00:24, 1694.55it/s]\u001b[A\n",
      " 59%|█████▉    | 58942/100000 [00:33<00:24, 1699.41it/s]\u001b[A\n",
      " 59%|█████▉    | 59113/100000 [00:33<00:24, 1679.94it/s]\u001b[A\n",
      " 59%|█████▉    | 59294/100000 [00:33<00:23, 1717.86it/s]\u001b[A\n",
      " 59%|█████▉    | 59473/100000 [00:33<00:23, 1738.68it/s]\u001b[A\n",
      " 60%|█████▉    | 59653/100000 [00:34<00:22, 1756.24it/s]\u001b[A\n",
      " 60%|█████▉    | 59831/100000 [00:34<00:22, 1761.41it/s]\u001b[A\n",
      " 60%|██████    | 60009/100000 [00:34<00:22, 1765.66it/s]\u001b[A\n",
      " 60%|██████    | 60186/100000 [00:34<00:22, 1757.61it/s]\u001b[A\n",
      " 60%|██████    | 60364/100000 [00:34<00:22, 1762.67it/s]\u001b[A\n",
      " 61%|██████    | 60545/100000 [00:34<00:22, 1774.38it/s]\u001b[A\n",
      " 61%|██████    | 60725/100000 [00:34<00:22, 1779.83it/s]\u001b[A\n",
      " 61%|██████    | 60909/100000 [00:34<00:21, 1796.35it/s]\u001b[A\n",
      " 61%|██████    | 61089/100000 [00:34<00:21, 1796.75it/s]\u001b[A\n",
      " 61%|██████▏   | 61271/100000 [00:34<00:21, 1803.26it/s]\u001b[A\n",
      " 61%|██████▏   | 61452/100000 [00:35<00:21, 1794.65it/s]\u001b[A\n",
      " 62%|██████▏   | 61634/100000 [00:35<00:21, 1801.81it/s]\u001b[A\n",
      " 62%|██████▏   | 61815/100000 [00:35<00:21, 1746.19it/s]\u001b[A\n",
      " 62%|██████▏   | 61990/100000 [00:35<00:22, 1712.04it/s]\u001b[A\n",
      " 62%|██████▏   | 62162/100000 [00:35<00:22, 1668.30it/s]\u001b[A\n",
      " 62%|██████▏   | 62330/100000 [00:35<00:22, 1665.20it/s]\u001b[A\n",
      " 63%|██████▎   | 62510/100000 [00:35<00:22, 1702.33it/s]\u001b[A\n",
      " 63%|██████▎   | 62688/100000 [00:35<00:21, 1724.68it/s]\u001b[A\n",
      " 63%|██████▎   | 62863/100000 [00:35<00:21, 1731.89it/s]\u001b[A\n",
      " 63%|██████▎   | 63037/100000 [00:35<00:21, 1712.65it/s]\u001b[A\n",
      " 63%|██████▎   | 63219/100000 [00:36<00:21, 1741.72it/s]\u001b[A\n",
      " 63%|██████▎   | 63400/100000 [00:36<00:20, 1759.56it/s]\u001b[A\n",
      " 64%|██████▎   | 63579/100000 [00:36<00:20, 1768.32it/s]\u001b[A\n",
      " 64%|██████▍   | 63757/100000 [00:36<00:20, 1770.08it/s]\u001b[A\n",
      " 64%|██████▍   | 63936/100000 [00:36<00:20, 1774.36it/s]\u001b[A\n",
      " 64%|██████▍   | 64114/100000 [00:36<00:20, 1763.60it/s]\u001b[A\n",
      " 64%|██████▍   | 64291/100000 [00:36<00:20, 1756.00it/s]\u001b[A\n",
      " 64%|██████▍   | 64468/100000 [00:36<00:20, 1758.43it/s]\u001b[A\n",
      " 65%|██████▍   | 64644/100000 [00:36<00:20, 1751.99it/s]\u001b[A\n",
      " 65%|██████▍   | 64824/100000 [00:37<00:19, 1763.76it/s]\u001b[A\n",
      " 65%|██████▌   | 65002/100000 [00:37<00:19, 1768.00it/s]\u001b[A\n",
      " 65%|██████▌   | 65179/100000 [00:37<00:20, 1728.79it/s]\u001b[A\n",
      " 65%|██████▌   | 65363/100000 [00:37<00:19, 1761.04it/s]\u001b[A\n",
      " 66%|██████▌   | 65543/100000 [00:37<00:19, 1771.94it/s]\u001b[A\n",
      " 66%|██████▌   | 65721/100000 [00:37<00:19, 1769.99it/s]\u001b[A\n",
      " 66%|██████▌   | 65902/100000 [00:37<00:19, 1778.47it/s]\u001b[A\n",
      " 66%|██████▌   | 66085/100000 [00:37<00:18, 1792.04it/s]\u001b[A\n",
      " 66%|██████▋   | 66265/100000 [00:37<00:18, 1792.94it/s]\u001b[A\n",
      " 66%|██████▋   | 66445/100000 [00:37<00:18, 1790.33it/s]\u001b[A\n",
      " 67%|██████▋   | 66625/100000 [00:38<00:18, 1782.93it/s]\u001b[A\n",
      " 67%|██████▋   | 66804/100000 [00:38<00:18, 1776.02it/s]\u001b[A\n",
      " 67%|██████▋   | 66982/100000 [00:38<00:18, 1771.31it/s]\u001b[A\n",
      " 67%|██████▋   | 67160/100000 [00:38<00:18, 1759.05it/s]\u001b[A\n",
      " 67%|██████▋   | 67336/100000 [00:38<00:18, 1757.62it/s]\u001b[A\n",
      " 68%|██████▊   | 67513/100000 [00:38<00:18, 1759.93it/s]\u001b[A\n",
      " 68%|██████▊   | 67690/100000 [00:38<00:18, 1721.97it/s]\u001b[A\n",
      " 68%|██████▊   | 67869/100000 [00:38<00:18, 1741.69it/s]\u001b[A\n",
      " 68%|██████▊   | 68047/100000 [00:38<00:18, 1752.52it/s]\u001b[A\n",
      " 68%|██████▊   | 68225/100000 [00:38<00:18, 1760.26it/s]\u001b[A\n",
      " 68%|██████▊   | 68403/100000 [00:39<00:17, 1765.05it/s]\u001b[A\n",
      " 69%|██████▊   | 68580/100000 [00:39<00:17, 1766.40it/s]\u001b[A\n",
      " 69%|██████▉   | 68761/100000 [00:39<00:17, 1776.04it/s]\u001b[A\n",
      " 69%|██████▉   | 68939/100000 [00:39<00:17, 1742.17it/s]\u001b[A\n",
      " 69%|██████▉   | 69114/100000 [00:39<00:17, 1722.09it/s]\u001b[A\n",
      " 69%|██████▉   | 69290/100000 [00:39<00:17, 1732.21it/s]\u001b[A\n",
      " 69%|██████▉   | 69467/100000 [00:39<00:17, 1741.63it/s]\u001b[A\n",
      " 70%|██████▉   | 69648/100000 [00:39<00:17, 1760.44it/s]\u001b[A\n",
      " 70%|██████▉   | 69827/100000 [00:39<00:17, 1769.16it/s]\u001b[A\n",
      " 70%|███████   | 70006/100000 [00:39<00:16, 1774.85it/s]\u001b[A\n",
      " 70%|███████   | 70184/100000 [00:40<00:16, 1763.31it/s]\u001b[A\n",
      " 70%|███████   | 70365/100000 [00:40<00:16, 1775.22it/s]\u001b[A\n",
      " 71%|███████   | 70543/100000 [00:40<00:16, 1761.49it/s]\u001b[A\n",
      " 71%|███████   | 70720/100000 [00:40<00:17, 1716.62it/s]\u001b[A\n",
      " 71%|███████   | 70897/100000 [00:40<00:16, 1731.67it/s]\u001b[A\n",
      " 71%|███████   | 71077/100000 [00:40<00:16, 1750.40it/s]\u001b[A\n",
      " 71%|███████▏  | 71261/100000 [00:40<00:16, 1775.45it/s]\u001b[A\n",
      " 71%|███████▏  | 71442/100000 [00:40<00:15, 1785.29it/s]\u001b[A\n",
      " 72%|███████▏  | 71624/100000 [00:40<00:15, 1795.37it/s]\u001b[A\n",
      " 72%|███████▏  | 71807/100000 [00:40<00:15, 1804.10it/s]\u001b[A\n",
      " 72%|███████▏  | 71988/100000 [00:41<00:15, 1790.34it/s]\u001b[A\n",
      " 72%|███████▏  | 72169/100000 [00:41<00:15, 1795.12it/s]\u001b[A\n",
      " 72%|███████▏  | 72352/100000 [00:41<00:15, 1804.06it/s]\u001b[A\n",
      " 73%|███████▎  | 72533/100000 [00:41<00:15, 1736.21it/s]\u001b[A\n",
      " 73%|███████▎  | 72708/100000 [00:41<00:16, 1698.73it/s]\u001b[A\n",
      " 73%|███████▎  | 72890/100000 [00:41<00:15, 1732.34it/s]\u001b[A\n",
      " 73%|███████▎  | 73072/100000 [00:41<00:15, 1757.05it/s]\u001b[A\n",
      " 73%|███████▎  | 73254/100000 [00:41<00:15, 1775.18it/s]\u001b[A\n",
      " 73%|███████▎  | 73432/100000 [00:41<00:14, 1775.89it/s]\u001b[A\n",
      " 74%|███████▎  | 73616/100000 [00:41<00:14, 1794.59it/s]\u001b[A\n",
      " 74%|███████▍  | 73796/100000 [00:42<00:14, 1756.80it/s]\u001b[A\n",
      " 74%|███████▍  | 73980/100000 [00:42<00:14, 1780.05it/s]\u001b[A\n",
      " 74%|███████▍  | 74163/100000 [00:42<00:14, 1792.71it/s]\u001b[A\n",
      " 74%|███████▍  | 74343/100000 [00:42<00:14, 1789.37it/s]\u001b[A\n",
      " 75%|███████▍  | 74525/100000 [00:42<00:14, 1797.87it/s]\u001b[A\n",
      " 75%|███████▍  | 74709/100000 [00:42<00:13, 1807.97it/s]\u001b[A\n",
      " 75%|███████▍  | 74895/100000 [00:42<00:13, 1820.90it/s]\u001b[A\n",
      " 75%|███████▌  | 75078/100000 [00:42<00:13, 1807.15it/s]\u001b[A\n",
      " 75%|███████▌  | 75259/100000 [00:42<00:13, 1798.89it/s]\u001b[A\n",
      " 75%|███████▌  | 75439/100000 [00:43<00:13, 1779.41it/s]\u001b[A\n",
      " 76%|███████▌  | 75621/100000 [00:43<00:13, 1787.38it/s]\u001b[A\n",
      " 76%|███████▌  | 75800/100000 [00:43<00:13, 1766.36it/s]\u001b[A\n",
      " 76%|███████▌  | 75980/100000 [00:43<00:13, 1774.45it/s]\u001b[A\n",
      " 76%|███████▌  | 76160/100000 [00:43<00:13, 1779.45it/s]\u001b[A\n",
      " 76%|███████▋  | 76338/100000 [00:43<00:13, 1777.37it/s]\u001b[A\n",
      " 77%|███████▋  | 76516/100000 [00:43<00:13, 1715.43it/s]\u001b[A\n",
      " 77%|███████▋  | 76688/100000 [00:43<00:13, 1681.92it/s]\u001b[A\n",
      " 77%|███████▋  | 76857/100000 [00:43<00:14, 1652.11it/s]\u001b[A\n",
      " 77%|███████▋  | 77033/100000 [00:43<00:13, 1681.26it/s]\u001b[A\n",
      " 77%|███████▋  | 77207/100000 [00:44<00:13, 1696.59it/s]\u001b[A\n",
      " 77%|███████▋  | 77380/100000 [00:44<00:13, 1704.80it/s]\u001b[A\n",
      " 78%|███████▊  | 77556/100000 [00:44<00:13, 1718.64it/s]\u001b[A\n",
      " 78%|███████▊  | 77733/100000 [00:44<00:12, 1731.88it/s]\u001b[A\n",
      " 78%|███████▊  | 77907/100000 [00:44<00:12, 1730.78it/s]\u001b[A\n",
      " 78%|███████▊  | 78081/100000 [00:44<00:13, 1680.74it/s]\u001b[A\n",
      " 78%|███████▊  | 78255/100000 [00:44<00:12, 1697.30it/s]\u001b[A\n",
      " 78%|███████▊  | 78433/100000 [00:44<00:12, 1720.15it/s]\u001b[A\n",
      " 79%|███████▊  | 78609/100000 [00:44<00:12, 1730.92it/s]\u001b[A\n",
      " 79%|███████▉  | 78786/100000 [00:44<00:12, 1741.90it/s]\u001b[A\n",
      " 79%|███████▉  | 78961/100000 [00:45<00:12, 1695.68it/s]\u001b[A\n",
      " 79%|███████▉  | 79138/100000 [00:45<00:12, 1716.81it/s]\u001b[A\n",
      " 79%|███████▉  | 79319/100000 [00:45<00:11, 1741.73it/s]\u001b[A\n",
      " 79%|███████▉  | 79498/100000 [00:45<00:11, 1753.73it/s]\u001b[A\n",
      " 80%|███████▉  | 79680/100000 [00:45<00:11, 1771.00it/s]\u001b[A\n",
      " 80%|███████▉  | 79858/100000 [00:45<00:11, 1765.45it/s]\u001b[A\n",
      " 80%|████████  | 80035/100000 [00:45<00:11, 1751.56it/s]\u001b[A\n",
      " 80%|████████  | 80211/100000 [00:45<00:11, 1729.54it/s]\u001b[A\n",
      " 80%|████████  | 80387/100000 [00:45<00:11, 1736.49it/s]\u001b[A\n",
      " 81%|████████  | 80563/100000 [00:45<00:11, 1740.72it/s]\u001b[A\n",
      " 81%|████████  | 80741/100000 [00:46<00:11, 1750.61it/s]\u001b[A\n",
      " 81%|████████  | 80919/100000 [00:46<00:10, 1758.58it/s]\u001b[A\n",
      " 81%|████████  | 81095/100000 [00:46<00:10, 1757.39it/s]\u001b[A\n",
      " 81%|████████▏ | 81273/100000 [00:46<00:10, 1761.32it/s]\u001b[A\n",
      " 81%|████████▏ | 81450/100000 [00:46<00:10, 1757.81it/s]\u001b[A\n",
      " 82%|████████▏ | 81626/100000 [00:46<00:10, 1743.64it/s]\u001b[A\n",
      " 82%|████████▏ | 81804/100000 [00:46<00:10, 1754.41it/s]\u001b[A\n",
      " 82%|████████▏ | 81981/100000 [00:46<00:10, 1757.72it/s]\u001b[A\n",
      " 82%|████████▏ | 82160/100000 [00:46<00:10, 1764.84it/s]\u001b[A\n",
      " 82%|████████▏ | 82339/100000 [00:46<00:09, 1770.80it/s]\u001b[A\n",
      " 83%|████████▎ | 82518/100000 [00:47<00:09, 1775.08it/s]\u001b[A\n",
      " 83%|████████▎ | 82700/100000 [00:47<00:09, 1786.29it/s]\u001b[A\n",
      " 83%|████████▎ | 82879/100000 [00:47<00:09, 1780.58it/s]\u001b[A\n",
      " 83%|████████▎ | 83060/100000 [00:47<00:09, 1786.10it/s]\u001b[A\n",
      " 83%|████████▎ | 83239/100000 [00:47<00:09, 1763.58it/s]\u001b[A\n",
      " 83%|████████▎ | 83418/100000 [00:47<00:09, 1771.01it/s]\u001b[A\n",
      " 84%|████████▎ | 83596/100000 [00:47<00:09, 1756.45it/s]\u001b[A\n",
      " 84%|████████▍ | 83772/100000 [00:47<00:09, 1746.57it/s]\u001b[A\n",
      " 84%|████████▍ | 83948/100000 [00:47<00:09, 1749.84it/s]\u001b[A\n",
      " 84%|████████▍ | 84127/100000 [00:47<00:09, 1761.05it/s]\u001b[A\n",
      " 84%|████████▍ | 84304/100000 [00:48<00:08, 1754.30it/s]\u001b[A\n",
      " 84%|████████▍ | 84484/100000 [00:48<00:08, 1766.86it/s]\u001b[A\n",
      " 85%|████████▍ | 84661/100000 [00:48<00:08, 1766.29it/s]\u001b[A\n",
      " 85%|████████▍ | 84840/100000 [00:48<00:08, 1771.03it/s]\u001b[A\n",
      " 85%|████████▌ | 85018/100000 [00:48<00:08, 1719.70it/s]\u001b[A\n",
      " 85%|████████▌ | 85197/100000 [00:48<00:08, 1739.63it/s]\u001b[A\n",
      " 85%|████████▌ | 85380/100000 [00:48<00:08, 1765.18it/s]\u001b[A\n",
      " 86%|████████▌ | 85559/100000 [00:48<00:08, 1770.68it/s]\u001b[A\n",
      " 86%|████████▌ | 85740/100000 [00:48<00:08, 1782.18it/s]\u001b[A\n",
      " 86%|████████▌ | 85919/100000 [00:49<00:08, 1742.54it/s]\u001b[A\n",
      " 86%|████████▌ | 86094/100000 [00:49<00:08, 1717.34it/s]\u001b[A\n",
      " 86%|████████▋ | 86275/100000 [00:49<00:07, 1742.26it/s]\u001b[A\n",
      " 86%|████████▋ | 86462/100000 [00:49<00:07, 1777.48it/s]\u001b[A\n",
      " 87%|████████▋ | 86642/100000 [00:49<00:07, 1784.08it/s]\u001b[A\n",
      " 87%|████████▋ | 86828/100000 [00:49<00:07, 1806.48it/s]\u001b[A\n",
      " 87%|████████▋ | 87012/100000 [00:49<00:07, 1816.01it/s]\u001b[A\n",
      " 87%|████████▋ | 87194/100000 [00:49<00:07, 1816.71it/s]\u001b[A\n",
      " 87%|████████▋ | 87382/100000 [00:49<00:06, 1833.36it/s]\u001b[A\n",
      " 88%|████████▊ | 87566/100000 [00:49<00:06, 1835.13it/s]\u001b[A\n",
      " 88%|████████▊ | 87750/100000 [00:50<00:06, 1827.34it/s]\u001b[A\n",
      " 88%|████████▊ | 87933/100000 [00:50<00:06, 1817.87it/s]\u001b[A\n",
      " 88%|████████▊ | 88115/100000 [00:50<00:06, 1806.89it/s]\u001b[A\n",
      " 88%|████████▊ | 88296/100000 [00:50<00:06, 1793.22it/s]\u001b[A\n",
      " 88%|████████▊ | 88479/100000 [00:50<00:06, 1802.46it/s]\u001b[A\n",
      " 89%|████████▊ | 88662/100000 [00:50<00:06, 1810.42it/s]\u001b[A\n",
      " 89%|████████▉ | 88844/100000 [00:50<00:06, 1768.66it/s]\u001b[A\n",
      " 89%|████████▉ | 89022/100000 [00:50<00:06, 1736.47it/s]\u001b[A\n",
      " 89%|████████▉ | 89204/100000 [00:50<00:06, 1759.48it/s]\u001b[A\n",
      " 89%|████████▉ | 89383/100000 [00:50<00:06, 1766.88it/s]\u001b[A\n",
      " 90%|████████▉ | 89564/100000 [00:51<00:05, 1778.16it/s]\u001b[A\n",
      " 90%|████████▉ | 89748/100000 [00:51<00:05, 1795.71it/s]\u001b[A\n",
      " 90%|████████▉ | 89931/100000 [00:51<00:05, 1804.68it/s]\u001b[A\n",
      " 90%|█████████ | 90112/100000 [00:51<00:05, 1805.05it/s]\u001b[A\n",
      " 90%|█████████ | 90293/100000 [00:51<00:05, 1802.37it/s]\u001b[A\n",
      " 90%|█████████ | 90475/100000 [00:51<00:05, 1805.70it/s]\u001b[A\n",
      " 91%|█████████ | 90656/100000 [00:51<00:05, 1794.36it/s]\u001b[A\n",
      " 91%|█████████ | 90855/100000 [00:51<00:05, 1754.99it/s]\u001b[A\n",
      " 30%|██▉       | 29999/100000 [09:06<21:15, 54.86it/s] \n"
     ]
    },
    {
     "ename": "KeyboardInterrupt",
     "evalue": "",
     "output_type": "error",
     "traceback": [
      "\u001b[0;31m---------------------------------------------------------------------------\u001b[0m",
      "\u001b[0;31mKeyboardInterrupt\u001b[0m                         Traceback (most recent call last)",
      "\u001b[0;32m/tmp/ipykernel_33421/1079490391.py\u001b[0m in \u001b[0;36m<module>\u001b[0;34m\u001b[0m\n\u001b[1;32m      6\u001b[0m     \u001b[0mlearning_start\u001b[0m\u001b[0;34m=\u001b[0m\u001b[0mint\u001b[0m\u001b[0;34m(\u001b[0m\u001b[0;36m2e3\u001b[0m\u001b[0;34m)\u001b[0m\u001b[0;34m,\u001b[0m\u001b[0;34m\u001b[0m\u001b[0;34m\u001b[0m\u001b[0m\n\u001b[1;32m      7\u001b[0m     \u001b[0mbatch_size\u001b[0m\u001b[0;34m=\u001b[0m\u001b[0;36m32\u001b[0m\u001b[0;34m,\u001b[0m\u001b[0;34m\u001b[0m\u001b[0;34m\u001b[0m\u001b[0m\n\u001b[0;32m----> 8\u001b[0;31m     \u001b[0mfine_tune\u001b[0m\u001b[0;34m=\u001b[0m\u001b[0;32mTrue\u001b[0m\u001b[0;34m\u001b[0m\u001b[0;34m\u001b[0m\u001b[0m\n\u001b[0m\u001b[1;32m      9\u001b[0m )\n",
      "\u001b[0;32m/tmp/ipykernel_33421/3114830866.py\u001b[0m in \u001b[0;36mlearn\u001b[0;34m(self, replay_buffer, step_size, learn_task, learning_start, batch_size, fine_tune, log_freq)\u001b[0m\n\u001b[1;32m    514\u001b[0m             \u001b[0;31m# maybe evaluate\u001b[0m\u001b[0;34m\u001b[0m\u001b[0;34m\u001b[0m\u001b[0;34m\u001b[0m\u001b[0m\n\u001b[1;32m    515\u001b[0m             \u001b[0;32mif\u001b[0m \u001b[0mfine_tune\u001b[0m \u001b[0;32mand\u001b[0m \u001b[0;34m(\u001b[0m\u001b[0mstep\u001b[0m \u001b[0;34m+\u001b[0m \u001b[0;36m1\u001b[0m\u001b[0;34m)\u001b[0m \u001b[0;34m%\u001b[0m \u001b[0mlog_freq\u001b[0m \u001b[0;34m==\u001b[0m \u001b[0;36m0\u001b[0m\u001b[0;34m:\u001b[0m\u001b[0;34m\u001b[0m\u001b[0;34m\u001b[0m\u001b[0m\n\u001b[0;32m--> 516\u001b[0;31m                 \u001b[0mevaluations\u001b[0m\u001b[0;34m.\u001b[0m\u001b[0mappend\u001b[0m\u001b[0;34m(\u001b[0m\u001b[0mself\u001b[0m\u001b[0;34m.\u001b[0m\u001b[0mevaluate\u001b[0m\u001b[0;34m(\u001b[0m\u001b[0mfine_tune\u001b[0m\u001b[0;34m)\u001b[0m\u001b[0;34m)\u001b[0m\u001b[0;34m\u001b[0m\u001b[0;34m\u001b[0m\u001b[0m\n\u001b[0m\u001b[1;32m    517\u001b[0m \u001b[0;34m\u001b[0m\u001b[0m\n\u001b[1;32m    518\u001b[0m             \u001b[0;31m# check if the episode ends\u001b[0m\u001b[0;34m\u001b[0m\u001b[0;34m\u001b[0m\u001b[0;34m\u001b[0m\u001b[0m\n",
      "\u001b[0;32m/tmp/ipykernel_33421/3114830866.py\u001b[0m in \u001b[0;36mevaluate\u001b[0;34m(self, fine_tune, seed, eval_episodes)\u001b[0m\n\u001b[1;32m    544\u001b[0m                     \u001b[0;32mbreak\u001b[0m\u001b[0;34m\u001b[0m\u001b[0;34m\u001b[0m\u001b[0m\n\u001b[1;32m    545\u001b[0m                 \u001b[0mstep\u001b[0m \u001b[0;34m+=\u001b[0m \u001b[0;36m1\u001b[0m\u001b[0;34m\u001b[0m\u001b[0;34m\u001b[0m\u001b[0m\n\u001b[0;32m--> 546\u001b[0;31m                 \u001b[0maction\u001b[0m \u001b[0;34m=\u001b[0m \u001b[0mself\u001b[0m\u001b[0;34m.\u001b[0m\u001b[0mselect_action\u001b[0m\u001b[0;34m(\u001b[0m\u001b[0mnp\u001b[0m\u001b[0;34m.\u001b[0m\u001b[0marray\u001b[0m\u001b[0;34m(\u001b[0m\u001b[0mstate\u001b[0m\u001b[0;34m)\u001b[0m\u001b[0;34m,\u001b[0m \u001b[0mtask\u001b[0m\u001b[0;34m,\u001b[0m \u001b[0meval\u001b[0m\u001b[0;34m=\u001b[0m\u001b[0;32mTrue\u001b[0m\u001b[0;34m)\u001b[0m\u001b[0;34m\u001b[0m\u001b[0;34m\u001b[0m\u001b[0m\n\u001b[0m\u001b[1;32m    547\u001b[0m                 \u001b[0mstate\u001b[0m\u001b[0;34m,\u001b[0m \u001b[0mreward\u001b[0m\u001b[0;34m,\u001b[0m \u001b[0mdone\u001b[0m\u001b[0;34m,\u001b[0m \u001b[0m_\u001b[0m \u001b[0;34m=\u001b[0m \u001b[0meval_env\u001b[0m\u001b[0;34m.\u001b[0m\u001b[0mstep\u001b[0m\u001b[0;34m(\u001b[0m\u001b[0maction\u001b[0m\u001b[0;34m)\u001b[0m\u001b[0;34m\u001b[0m\u001b[0;34m\u001b[0m\u001b[0m\n\u001b[1;32m    548\u001b[0m                 \u001b[0mavg_reward\u001b[0m \u001b[0;34m+=\u001b[0m \u001b[0mreward\u001b[0m\u001b[0;34m\u001b[0m\u001b[0;34m\u001b[0m\u001b[0m\n",
      "\u001b[0;32m/tmp/ipykernel_33421/3114830866.py\u001b[0m in \u001b[0;36mselect_action\u001b[0;34m(self, state, task, eval, pretrain)\u001b[0m\n\u001b[1;32m    333\u001b[0m                 \u001b[0mtask\u001b[0m \u001b[0;34m=\u001b[0m \u001b[0mtask\u001b[0m\u001b[0;34m.\u001b[0m\u001b[0mfloat\u001b[0m\u001b[0;34m(\u001b[0m\u001b[0;34m)\u001b[0m\u001b[0;34m.\u001b[0m\u001b[0mview\u001b[0m\u001b[0;34m(\u001b[0m\u001b[0;36m1\u001b[0m\u001b[0;34m,\u001b[0m \u001b[0mtask\u001b[0m\u001b[0;34m.\u001b[0m\u001b[0mshape\u001b[0m\u001b[0;34m[\u001b[0m\u001b[0;34m-\u001b[0m\u001b[0;36m1\u001b[0m\u001b[0;34m]\u001b[0m\u001b[0;34m)\u001b[0m\u001b[0;34m\u001b[0m\u001b[0;34m\u001b[0m\u001b[0m\n\u001b[1;32m    334\u001b[0m \u001b[0;34m\u001b[0m\u001b[0m\n\u001b[0;32m--> 335\u001b[0;31m                 \u001b[0mlatent\u001b[0m \u001b[0;34m=\u001b[0m \u001b[0mself\u001b[0m\u001b[0;34m.\u001b[0m\u001b[0mencoder_critic\u001b[0m\u001b[0;34m(\u001b[0m\u001b[0mstate\u001b[0m\u001b[0;34m)\u001b[0m\u001b[0;34m\u001b[0m\u001b[0;34m\u001b[0m\u001b[0m\n\u001b[0m\u001b[1;32m    336\u001b[0m \u001b[0;34m\u001b[0m\u001b[0m\n\u001b[1;32m    337\u001b[0m                 \u001b[0;31m# cat latent and task for universal successor feature\u001b[0m\u001b[0;34m\u001b[0m\u001b[0;34m\u001b[0m\u001b[0;34m\u001b[0m\u001b[0m\n",
      "\u001b[0;32m~/.conda/envs/mujoco_env/lib/python3.7/site-packages/torch/nn/modules/module.py\u001b[0m in \u001b[0;36m_call_impl\u001b[0;34m(self, *input, **kwargs)\u001b[0m\n\u001b[1;32m   1108\u001b[0m         if not (self._backward_hooks or self._forward_hooks or self._forward_pre_hooks or _global_backward_hooks\n\u001b[1;32m   1109\u001b[0m                 or _global_forward_hooks or _global_forward_pre_hooks):\n\u001b[0;32m-> 1110\u001b[0;31m             \u001b[0;32mreturn\u001b[0m \u001b[0mforward_call\u001b[0m\u001b[0;34m(\u001b[0m\u001b[0;34m*\u001b[0m\u001b[0minput\u001b[0m\u001b[0;34m,\u001b[0m \u001b[0;34m**\u001b[0m\u001b[0mkwargs\u001b[0m\u001b[0;34m)\u001b[0m\u001b[0;34m\u001b[0m\u001b[0;34m\u001b[0m\u001b[0m\n\u001b[0m\u001b[1;32m   1111\u001b[0m         \u001b[0;31m# Do not call functions when jit is used\u001b[0m\u001b[0;34m\u001b[0m\u001b[0;34m\u001b[0m\u001b[0;34m\u001b[0m\u001b[0m\n\u001b[1;32m   1112\u001b[0m         \u001b[0mfull_backward_hooks\u001b[0m\u001b[0;34m,\u001b[0m \u001b[0mnon_full_backward_hooks\u001b[0m \u001b[0;34m=\u001b[0m \u001b[0;34m[\u001b[0m\u001b[0;34m]\u001b[0m\u001b[0;34m,\u001b[0m \u001b[0;34m[\u001b[0m\u001b[0;34m]\u001b[0m\u001b[0;34m\u001b[0m\u001b[0;34m\u001b[0m\u001b[0m\n",
      "\u001b[0;32m/tmp/ipykernel_33421/3114830866.py\u001b[0m in \u001b[0;36mforward\u001b[0;34m(self, state)\u001b[0m\n\u001b[1;32m     43\u001b[0m \u001b[0;34m\u001b[0m\u001b[0m\n\u001b[1;32m     44\u001b[0m     \u001b[0;32mdef\u001b[0m \u001b[0mforward\u001b[0m\u001b[0;34m(\u001b[0m\u001b[0mself\u001b[0m\u001b[0;34m,\u001b[0m \u001b[0mstate\u001b[0m\u001b[0;34m)\u001b[0m\u001b[0;34m:\u001b[0m\u001b[0;34m\u001b[0m\u001b[0;34m\u001b[0m\u001b[0m\n\u001b[0;32m---> 45\u001b[0;31m         \u001b[0;32mreturn\u001b[0m \u001b[0mself\u001b[0m\u001b[0;34m.\u001b[0m\u001b[0mencoder\u001b[0m\u001b[0;34m(\u001b[0m\u001b[0mstate\u001b[0m\u001b[0;34m)\u001b[0m\u001b[0;34m\u001b[0m\u001b[0;34m\u001b[0m\u001b[0m\n\u001b[0m\u001b[1;32m     46\u001b[0m \u001b[0;34m\u001b[0m\u001b[0m\n\u001b[1;32m     47\u001b[0m \u001b[0;34m\u001b[0m\u001b[0m\n",
      "\u001b[0;32m~/.conda/envs/mujoco_env/lib/python3.7/site-packages/torch/nn/modules/module.py\u001b[0m in \u001b[0;36m_call_impl\u001b[0;34m(self, *input, **kwargs)\u001b[0m\n\u001b[1;32m   1108\u001b[0m         if not (self._backward_hooks or self._forward_hooks or self._forward_pre_hooks or _global_backward_hooks\n\u001b[1;32m   1109\u001b[0m                 or _global_forward_hooks or _global_forward_pre_hooks):\n\u001b[0;32m-> 1110\u001b[0;31m             \u001b[0;32mreturn\u001b[0m \u001b[0mforward_call\u001b[0m\u001b[0;34m(\u001b[0m\u001b[0;34m*\u001b[0m\u001b[0minput\u001b[0m\u001b[0;34m,\u001b[0m \u001b[0;34m**\u001b[0m\u001b[0mkwargs\u001b[0m\u001b[0;34m)\u001b[0m\u001b[0;34m\u001b[0m\u001b[0;34m\u001b[0m\u001b[0m\n\u001b[0m\u001b[1;32m   1111\u001b[0m         \u001b[0;31m# Do not call functions when jit is used\u001b[0m\u001b[0;34m\u001b[0m\u001b[0;34m\u001b[0m\u001b[0;34m\u001b[0m\u001b[0m\n\u001b[1;32m   1112\u001b[0m         \u001b[0mfull_backward_hooks\u001b[0m\u001b[0;34m,\u001b[0m \u001b[0mnon_full_backward_hooks\u001b[0m \u001b[0;34m=\u001b[0m \u001b[0;34m[\u001b[0m\u001b[0;34m]\u001b[0m\u001b[0;34m,\u001b[0m \u001b[0;34m[\u001b[0m\u001b[0;34m]\u001b[0m\u001b[0;34m\u001b[0m\u001b[0;34m\u001b[0m\u001b[0m\n",
      "\u001b[0;32m~/.conda/envs/mujoco_env/lib/python3.7/site-packages/torch/nn/modules/container.py\u001b[0m in \u001b[0;36mforward\u001b[0;34m(self, input)\u001b[0m\n\u001b[1;32m    139\u001b[0m     \u001b[0;32mdef\u001b[0m \u001b[0mforward\u001b[0m\u001b[0;34m(\u001b[0m\u001b[0mself\u001b[0m\u001b[0;34m,\u001b[0m \u001b[0minput\u001b[0m\u001b[0;34m)\u001b[0m\u001b[0;34m:\u001b[0m\u001b[0;34m\u001b[0m\u001b[0;34m\u001b[0m\u001b[0m\n\u001b[1;32m    140\u001b[0m         \u001b[0;32mfor\u001b[0m \u001b[0mmodule\u001b[0m \u001b[0;32min\u001b[0m \u001b[0mself\u001b[0m\u001b[0;34m:\u001b[0m\u001b[0;34m\u001b[0m\u001b[0;34m\u001b[0m\u001b[0m\n\u001b[0;32m--> 141\u001b[0;31m             \u001b[0minput\u001b[0m \u001b[0;34m=\u001b[0m \u001b[0mmodule\u001b[0m\u001b[0;34m(\u001b[0m\u001b[0minput\u001b[0m\u001b[0;34m)\u001b[0m\u001b[0;34m\u001b[0m\u001b[0;34m\u001b[0m\u001b[0m\n\u001b[0m\u001b[1;32m    142\u001b[0m         \u001b[0;32mreturn\u001b[0m \u001b[0minput\u001b[0m\u001b[0;34m\u001b[0m\u001b[0;34m\u001b[0m\u001b[0m\n\u001b[1;32m    143\u001b[0m \u001b[0;34m\u001b[0m\u001b[0m\n",
      "\u001b[0;32m~/.conda/envs/mujoco_env/lib/python3.7/site-packages/torch/nn/modules/module.py\u001b[0m in \u001b[0;36m_call_impl\u001b[0;34m(self, *input, **kwargs)\u001b[0m\n\u001b[1;32m   1108\u001b[0m         if not (self._backward_hooks or self._forward_hooks or self._forward_pre_hooks or _global_backward_hooks\n\u001b[1;32m   1109\u001b[0m                 or _global_forward_hooks or _global_forward_pre_hooks):\n\u001b[0;32m-> 1110\u001b[0;31m             \u001b[0;32mreturn\u001b[0m \u001b[0mforward_call\u001b[0m\u001b[0;34m(\u001b[0m\u001b[0;34m*\u001b[0m\u001b[0minput\u001b[0m\u001b[0;34m,\u001b[0m \u001b[0;34m**\u001b[0m\u001b[0mkwargs\u001b[0m\u001b[0;34m)\u001b[0m\u001b[0;34m\u001b[0m\u001b[0;34m\u001b[0m\u001b[0m\n\u001b[0m\u001b[1;32m   1111\u001b[0m         \u001b[0;31m# Do not call functions when jit is used\u001b[0m\u001b[0;34m\u001b[0m\u001b[0;34m\u001b[0m\u001b[0;34m\u001b[0m\u001b[0m\n\u001b[1;32m   1112\u001b[0m         \u001b[0mfull_backward_hooks\u001b[0m\u001b[0;34m,\u001b[0m \u001b[0mnon_full_backward_hooks\u001b[0m \u001b[0;34m=\u001b[0m \u001b[0;34m[\u001b[0m\u001b[0;34m]\u001b[0m\u001b[0;34m,\u001b[0m \u001b[0;34m[\u001b[0m\u001b[0;34m]\u001b[0m\u001b[0;34m\u001b[0m\u001b[0;34m\u001b[0m\u001b[0m\n",
      "\u001b[0;32m~/.conda/envs/mujoco_env/lib/python3.7/site-packages/torch/nn/modules/container.py\u001b[0m in \u001b[0;36mforward\u001b[0;34m(self, input)\u001b[0m\n\u001b[1;32m    139\u001b[0m     \u001b[0;32mdef\u001b[0m \u001b[0mforward\u001b[0m\u001b[0;34m(\u001b[0m\u001b[0mself\u001b[0m\u001b[0;34m,\u001b[0m \u001b[0minput\u001b[0m\u001b[0;34m)\u001b[0m\u001b[0;34m:\u001b[0m\u001b[0;34m\u001b[0m\u001b[0;34m\u001b[0m\u001b[0m\n\u001b[1;32m    140\u001b[0m         \u001b[0;32mfor\u001b[0m \u001b[0mmodule\u001b[0m \u001b[0;32min\u001b[0m \u001b[0mself\u001b[0m\u001b[0;34m:\u001b[0m\u001b[0;34m\u001b[0m\u001b[0;34m\u001b[0m\u001b[0m\n\u001b[0;32m--> 141\u001b[0;31m             \u001b[0minput\u001b[0m \u001b[0;34m=\u001b[0m \u001b[0mmodule\u001b[0m\u001b[0;34m(\u001b[0m\u001b[0minput\u001b[0m\u001b[0;34m)\u001b[0m\u001b[0;34m\u001b[0m\u001b[0;34m\u001b[0m\u001b[0m\n\u001b[0m\u001b[1;32m    142\u001b[0m         \u001b[0;32mreturn\u001b[0m \u001b[0minput\u001b[0m\u001b[0;34m\u001b[0m\u001b[0;34m\u001b[0m\u001b[0m\n\u001b[1;32m    143\u001b[0m \u001b[0;34m\u001b[0m\u001b[0m\n",
      "\u001b[0;32m~/.conda/envs/mujoco_env/lib/python3.7/site-packages/torch/nn/modules/module.py\u001b[0m in \u001b[0;36m_call_impl\u001b[0;34m(self, *input, **kwargs)\u001b[0m\n\u001b[1;32m   1108\u001b[0m         if not (self._backward_hooks or self._forward_hooks or self._forward_pre_hooks or _global_backward_hooks\n\u001b[1;32m   1109\u001b[0m                 or _global_forward_hooks or _global_forward_pre_hooks):\n\u001b[0;32m-> 1110\u001b[0;31m             \u001b[0;32mreturn\u001b[0m \u001b[0mforward_call\u001b[0m\u001b[0;34m(\u001b[0m\u001b[0;34m*\u001b[0m\u001b[0minput\u001b[0m\u001b[0;34m,\u001b[0m \u001b[0;34m**\u001b[0m\u001b[0mkwargs\u001b[0m\u001b[0;34m)\u001b[0m\u001b[0;34m\u001b[0m\u001b[0;34m\u001b[0m\u001b[0m\n\u001b[0m\u001b[1;32m   1111\u001b[0m         \u001b[0;31m# Do not call functions when jit is used\u001b[0m\u001b[0;34m\u001b[0m\u001b[0;34m\u001b[0m\u001b[0;34m\u001b[0m\u001b[0m\n\u001b[1;32m   1112\u001b[0m         \u001b[0mfull_backward_hooks\u001b[0m\u001b[0;34m,\u001b[0m \u001b[0mnon_full_backward_hooks\u001b[0m \u001b[0;34m=\u001b[0m \u001b[0;34m[\u001b[0m\u001b[0;34m]\u001b[0m\u001b[0;34m,\u001b[0m \u001b[0;34m[\u001b[0m\u001b[0;34m]\u001b[0m\u001b[0;34m\u001b[0m\u001b[0;34m\u001b[0m\u001b[0m\n",
      "\u001b[0;32m~/.conda/envs/mujoco_env/lib/python3.7/site-packages/torch/nn/modules/activation.py\u001b[0m in \u001b[0;36mforward\u001b[0;34m(self, input)\u001b[0m\n\u001b[1;32m     96\u001b[0m \u001b[0;34m\u001b[0m\u001b[0m\n\u001b[1;32m     97\u001b[0m     \u001b[0;32mdef\u001b[0m \u001b[0mforward\u001b[0m\u001b[0;34m(\u001b[0m\u001b[0mself\u001b[0m\u001b[0;34m,\u001b[0m \u001b[0minput\u001b[0m\u001b[0;34m:\u001b[0m \u001b[0mTensor\u001b[0m\u001b[0;34m)\u001b[0m \u001b[0;34m->\u001b[0m \u001b[0mTensor\u001b[0m\u001b[0;34m:\u001b[0m\u001b[0;34m\u001b[0m\u001b[0;34m\u001b[0m\u001b[0m\n\u001b[0;32m---> 98\u001b[0;31m         \u001b[0;32mreturn\u001b[0m \u001b[0mF\u001b[0m\u001b[0;34m.\u001b[0m\u001b[0mrelu\u001b[0m\u001b[0;34m(\u001b[0m\u001b[0minput\u001b[0m\u001b[0;34m,\u001b[0m \u001b[0minplace\u001b[0m\u001b[0;34m=\u001b[0m\u001b[0mself\u001b[0m\u001b[0;34m.\u001b[0m\u001b[0minplace\u001b[0m\u001b[0;34m)\u001b[0m\u001b[0;34m\u001b[0m\u001b[0;34m\u001b[0m\u001b[0m\n\u001b[0m\u001b[1;32m     99\u001b[0m \u001b[0;34m\u001b[0m\u001b[0m\n\u001b[1;32m    100\u001b[0m     \u001b[0;32mdef\u001b[0m \u001b[0mextra_repr\u001b[0m\u001b[0;34m(\u001b[0m\u001b[0mself\u001b[0m\u001b[0;34m)\u001b[0m \u001b[0;34m->\u001b[0m \u001b[0mstr\u001b[0m\u001b[0;34m:\u001b[0m\u001b[0;34m\u001b[0m\u001b[0;34m\u001b[0m\u001b[0m\n",
      "\u001b[0;32m~/.conda/envs/mujoco_env/lib/python3.7/site-packages/torch/nn/functional.py\u001b[0m in \u001b[0;36mrelu\u001b[0;34m(input, inplace)\u001b[0m\n\u001b[1;32m   1440\u001b[0m         \u001b[0mresult\u001b[0m \u001b[0;34m=\u001b[0m \u001b[0mtorch\u001b[0m\u001b[0;34m.\u001b[0m\u001b[0mrelu_\u001b[0m\u001b[0;34m(\u001b[0m\u001b[0minput\u001b[0m\u001b[0;34m)\u001b[0m\u001b[0;34m\u001b[0m\u001b[0;34m\u001b[0m\u001b[0m\n\u001b[1;32m   1441\u001b[0m     \u001b[0;32melse\u001b[0m\u001b[0;34m:\u001b[0m\u001b[0;34m\u001b[0m\u001b[0;34m\u001b[0m\u001b[0m\n\u001b[0;32m-> 1442\u001b[0;31m         \u001b[0mresult\u001b[0m \u001b[0;34m=\u001b[0m \u001b[0mtorch\u001b[0m\u001b[0;34m.\u001b[0m\u001b[0mrelu\u001b[0m\u001b[0;34m(\u001b[0m\u001b[0minput\u001b[0m\u001b[0;34m)\u001b[0m\u001b[0;34m\u001b[0m\u001b[0;34m\u001b[0m\u001b[0m\n\u001b[0m\u001b[1;32m   1443\u001b[0m     \u001b[0;32mreturn\u001b[0m \u001b[0mresult\u001b[0m\u001b[0;34m\u001b[0m\u001b[0;34m\u001b[0m\u001b[0m\n\u001b[1;32m   1444\u001b[0m \u001b[0;34m\u001b[0m\u001b[0m\n",
      "\u001b[0;31mKeyboardInterrupt\u001b[0m: "
     ]
    }
   ],
   "source": [
    "aps.set_fine_tuning()\n",
    "ft_rp = aps.make_replay_buffer()\n",
    "evaluations = aps.learn(\n",
    "    ft_rp,\n",
    "    step_size=int(1e5),\n",
    "    learning_start=int(2e3),\n",
    "    batch_size=32,\n",
    "    fine_tune=True\n",
    ")"
   ]
  },
  {
   "cell_type": "code",
   "execution_count": 33,
   "metadata": {},
   "outputs": [
    {
     "data": {
      "text/plain": [
       "['__class__',\n",
       " '__delattr__',\n",
       " '__dict__',\n",
       " '__dir__',\n",
       " '__doc__',\n",
       " '__enter__',\n",
       " '__eq__',\n",
       " '__exit__',\n",
       " '__format__',\n",
       " '__ge__',\n",
       " '__getattr__',\n",
       " '__getattribute__',\n",
       " '__gt__',\n",
       " '__hash__',\n",
       " '__init__',\n",
       " '__init_subclass__',\n",
       " '__le__',\n",
       " '__lt__',\n",
       " '__module__',\n",
       " '__ne__',\n",
       " '__new__',\n",
       " '__reduce__',\n",
       " '__reduce_ex__',\n",
       " '__repr__',\n",
       " '__setattr__',\n",
       " '__sizeof__',\n",
       " '__slotnames__',\n",
       " '__str__',\n",
       " '__subclasshook__',\n",
       " '__weakref__',\n",
       " 'action_space',\n",
       " 'class_name',\n",
       " 'close',\n",
       " 'compute_reward',\n",
       " 'env',\n",
       " 'metadata',\n",
       " 'observation',\n",
       " 'observation_space',\n",
       " 'render',\n",
       " 'reset',\n",
       " 'reward_range',\n",
       " 'seed',\n",
       " 'size',\n",
       " 'spec',\n",
       " 'step',\n",
       " 'unwrapped']"
      ]
     },
     "execution_count": 33,
     "metadata": {},
     "output_type": "execute_result"
    }
   ],
   "source": [
    "dir(aps.env)"
   ]
  },
  {
   "cell_type": "code",
   "execution_count": 8,
   "metadata": {},
   "outputs": [
    {
     "data": {
      "text/plain": [
       "True"
      ]
     },
     "execution_count": 8,
     "metadata": {},
     "output_type": "execute_result"
    }
   ],
   "source": [
    "torch.cuda.is_available()"
   ]
  },
  {
   "cell_type": "code",
   "execution_count": 5,
   "metadata": {},
   "outputs": [
    {
     "data": {
      "text/plain": [
       "device(type='cuda')"
      ]
     },
     "execution_count": 5,
     "metadata": {},
     "output_type": "execute_result"
    },
    {
     "name": "stdout",
     "output_type": "stream",
     "text": [
      "ERROR! Session/line number was not unique in database. History logging moved to new session 801\n"
     ]
    }
   ],
   "source": [
    "aps.critic.device"
   ]
  },
  {
   "cell_type": "code",
   "execution_count": null,
   "metadata": {},
   "outputs": [],
   "source": [
    "import matplotlib.pyplot as plt\n",
    "\n",
    "plt.plot(evaluations)\n",
    "plt.title('Seaquest-MinAtar-Pretrained')"
   ]
  },
  {
   "cell_type": "code",
   "execution_count": 26,
   "metadata": {},
   "outputs": [
    {
     "data": {
      "text/plain": [
       "Text(0.5, 1.0, 'Breakout-MinAtar-Pretrained')"
      ]
     },
     "execution_count": 26,
     "metadata": {},
     "output_type": "execute_result"
    },
    {
     "data": {
      "image/png": "[encoded data removed]",
      "text/plain": [
       "<Figure size 432x288 with 1 Axes>"
      ]
     },
     "metadata": {
      "needs_background": "light"
     },
     "output_type": "display_data"
    }
   ],
   "source": [
    "import matplotlib.pyplot as plt\n",
    "\n",
    "plt.plot(evaluations)\n",
    "plt.title('Breakout-MinAtar-Pretrained')"
   ]
  },
  {
   "cell_type": "code",
   "execution_count": 12,
   "metadata": {},
   "outputs": [
    {
     "data": {
      "text/plain": [
       "Text(0.5, 1.0, 'Seaquest-MinAtar-Pretrained')"
      ]
     },
     "execution_count": 12,
     "metadata": {},
     "output_type": "execute_result"
    },
    {
     "data": {
      "image/png": "[encoded data removed]",
      "text/plain": [
       "<Figure size 432x288 with 1 Axes>"
      ]
     },
     "metadata": {
      "needs_background": "light"
     },
     "output_type": "display_data"
    }
   ],
   "source": [
    "import matplotlib.pyplot as plt\n",
    "\n",
    "plt.plot(evaluations)\n",
    "plt.title('Seaquest-MinAtar-Pretrained')"
   ]
  },
  {
   "cell_type": "code",
   "execution_count": 22,
   "metadata": {},
   "outputs": [
    {
     "data": {
      "text/plain": [
       "Text(0.5, 1.0, 'SpaceInvaders-MinAtar-Pretrained')"
      ]
     },
     "execution_count": 22,
     "metadata": {},
     "output_type": "execute_result"
    },
    {
     "data": {
      "image/png": "[encoded data removed]",
      "text/plain": [
       "<Figure size 432x288 with 1 Axes>"
      ]
     },
     "metadata": {
      "needs_background": "light"
     },
     "output_type": "display_data"
    }
   ],
   "source": [
    "import matplotlib.pyplot as plt\n",
    "\n",
    "plt.plot(evaluations)\n",
    "plt.title('SpaceInvaders-MinAtar-Pretrained')"
   ]
  },
  {
   "cell_type": "code",
   "execution_count": 13,
   "metadata": {},
   "outputs": [
    {
     "data": {
      "text/plain": [
       "Text(0.5, 1.0, 'SpaceInvaders-MinAtar-Pretrained')"
      ]
     },
     "execution_count": 13,
     "metadata": {},
     "output_type": "execute_result"
    },
    {
     "data": {
      "image/png": "[encoded data removed]",
      "text/plain": [
       "<Figure size 432x288 with 1 Axes>"
      ]
     },
     "metadata": {
      "needs_background": "light"
     },
     "output_type": "display_data"
    }
   ],
   "source": [
    "import matplotlib.pyplot as plt\n",
    "\n",
    "plt.plot(evaluations)\n",
    "plt.title('SpaceInvaders-MinAtar-Pretrained')"
   ]
  },
  {
   "cell_type": "code",
   "execution_count": 17,
   "metadata": {},
   "outputs": [
    {
     "data": {
      "text/plain": [
       "Text(0.5, 1.0, 'aps fourrooms, conv encoder, layout=4rooms')"
      ]
     },
     "execution_count": 17,
     "metadata": {},
     "output_type": "execute_result"
    },
    {
     "data": {
      "image/png": "[encoded data removed]",
      "text/plain": [
       "<Figure size 432x288 with 1 Axes>"
      ]
     },
     "metadata": {
      "needs_background": "light"
     },
     "output_type": "display_data"
    }
   ],
   "source": [
    "import matplotlib.pyplot as plt\n",
    "\n",
    "plt.plot(evaluations)\n",
    "plt.title('aps fourrooms, conv encoder, layout=4rooms')"
   ]
  },
  {
   "cell_type": "code",
   "execution_count": 14,
   "metadata": {},
   "outputs": [
    {
     "data": {
      "text/plain": [
       "Text(0.5, 1.0, 'aps fourrooms, conv encoder, layout=open')"
      ]
     },
     "execution_count": 14,
     "metadata": {},
     "output_type": "execute_result"
    },
    {
     "data": {
      "image/png": "[encoded data removed]",
      "text/plain": [
       "<Figure size 432x288 with 1 Axes>"
      ]
     },
     "metadata": {
      "needs_background": "light"
     },
     "output_type": "display_data"
    }
   ],
   "source": [
    "import matplotlib.pyplot as plt\n",
    "\n",
    "plt.plot(evaluations)\n",
    "plt.title('aps fourrooms, conv encoder, layout=open')"
   ]
  },
  {
   "cell_type": "code",
   "execution_count": 70,
   "metadata": {},
   "outputs": [
    {
     "data": {
      "text/plain": [
       "[<matplotlib.lines.Line2D at 0x7fef80974b90>]"
      ]
     },
     "execution_count": 70,
     "metadata": {},
     "output_type": "execute_result"
    },
    {
     "data": {
      "image/png": "[encoded data removed]",
      "text/plain": [
       "<Figure size 432x288 with 1 Axes>"
      ]
     },
     "metadata": {
      "needs_background": "light"
     },
     "output_type": "display_data"
    }
   ],
   "source": [
    "import matplotlib.pyplot as plt\n",
    "\n",
    "plt.plot(evaluations, title='aps after pretraini')"
   ]
  }
 ],
 "metadata": {
  "kernelspec": {
   "display_name": "mujoco_env",
   "language": "python",
   "name": "mujoco_env"
  },
  "language_info": {
   "codemirror_mode": {
    "name": "ipython",
    "version": 3
   },
   "file_extension": ".py",
   "mimetype": "text/x-python",
   "name": "python",
   "nbconvert_exporter": "python",
   "pygments_lexer": "ipython3",
   "version": "3.7.11"
  }
 },
 "nbformat": 4,
 "nbformat_minor": 4
}
