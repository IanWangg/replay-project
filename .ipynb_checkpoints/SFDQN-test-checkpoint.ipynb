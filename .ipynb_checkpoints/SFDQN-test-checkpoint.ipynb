{
 "cells": [
  {
   "cell_type": "code",
   "execution_count": 1,
   "metadata": {},
   "outputs": [],
   "source": [
    "import numpy as np\n",
    "\n",
    "# Generic replay buffer for standard gym tasks\n",
    "class StandardBuffer(object):\n",
    "    def __init__(self, state_shape, buffer_size, device):\n",
    "        self.max_size = int(buffer_size)\n",
    "        self.device = device\n",
    "        self.ptr = 0\n",
    "        self.crt_size = 0\n",
    "\n",
    "        self.state = np.zeros((self.max_size, *state_shape))\n",
    "        self.action = np.zeros((self.max_size, 1))\n",
    "        self.next_state = np.zeros((self.max_size, *state_shape))\n",
    "        # self.next_state = np.array(self.state)\n",
    "        self.reward = np.zeros((self.max_size, 1))\n",
    "        self.not_done = np.zeros((self.max_size, 1))\n",
    "\n",
    "    def add(self, state, action, next_state, reward, done):\n",
    "        self.state[self.ptr] = state\n",
    "        self.action[self.ptr] = action\n",
    "        self.next_state[self.ptr] = next_state\n",
    "        self.reward[self.ptr] = reward\n",
    "        self.not_done[self.ptr] = 1. - done\n",
    "\n",
    "        self.ptr = (self.ptr + 1) % self.max_size\n",
    "        self.crt_size = min(self.crt_size + 1, self.max_size)\n",
    "\n",
    "    def sample(self, batch_size=32):\n",
    "        ind = np.random.randint(0, self.crt_size, size=batch_size)\n",
    "        return (\n",
    "            torch.FloatTensor(self.state[ind]).to(self.device),\n",
    "            torch.LongTensor(self.action[ind]).to(self.device),\n",
    "            torch.FloatTensor(self.next_state[ind]).to(self.device),\n",
    "            torch.FloatTensor(self.reward[ind]).to(self.device),\n",
    "            torch.FloatTensor(self.not_done[ind]).to(self.device),\n",
    "        )\n",
    "\n",
    "    def save(self, save_folder):\n",
    "        np.save(f\"{save_folder}_state.npy\", self.state[:self.crt_size])\n",
    "        np.save(f\"{save_folder}_action.npy\", self.action[:self.crt_size])\n",
    "        np.save(f\"{save_folder}_next_state.npy\", self.next_state[:self.crt_size])\n",
    "        np.save(f\"{save_folder}_reward.npy\", self.reward[:self.crt_size])\n",
    "        np.save(f\"{save_folder}_not_done.npy\", self.not_done[:self.crt_size])\n",
    "        np.save(f\"{save_folder}_ptr.npy\", self.ptr)\n",
    "\n",
    "    def load(self, save_folder, size=-1):\n",
    "        reward_buffer = np.load(f\"{save_folder}_reward.npy\")\n",
    "        # Adjust crt_size if we're using a custom size\n",
    "        size = min(int(size), self.max_size) if size > 0 else self.max_size\n",
    "        self.crt_size = min(reward_buffer.shape[0], size)\n",
    "\n",
    "        self.state[:self.crt_size] = np.load(f\"{save_folder}_state.npy\")[:self.crt_size]\n",
    "        self.action[:self.crt_size] = np.load(f\"{save_folder}_action.npy\")[:self.crt_size]\n",
    "        self.next_state[:self.crt_size] = np.load(f\"{save_folder}_next_state.npy\")[:self.crt_size]\n",
    "        self.reward[:self.crt_size] = reward_buffer[:self.crt_size]\n",
    "        self.not_done[:self.crt_size] = np.load(f\"{save_folder}_not_done.npy\")[:self.crt_size]\n",
    "        print(f\"Replay Buffer loaded with {self.crt_size} elements.\")"
   ]
  },
  {
   "cell_type": "code",
   "execution_count": 33,
   "metadata": {},
   "outputs": [],
   "source": [
    "import torch\n",
    "import torch.nn as nn\n",
    "import torch.nn.functional as F\n",
    "import numpy as np\n",
    "\n",
    "import copy\n",
    "from tqdm import tqdm\n",
    "from dqn import DQN, Phi, Critic, ConvEncoder\n",
    "\n",
    "class RMS(object):\n",
    "    \"\"\"running mean and std \"\"\"\n",
    "    def __init__(self, device, epsilon=1e-4, shape=(1,)):\n",
    "        self.M = torch.zeros(shape).to(device)\n",
    "        self.S = torch.ones(shape).to(device)\n",
    "        self.n = epsilon\n",
    "\n",
    "    def __call__(self, x):\n",
    "        bs = x.size(0)\n",
    "        delta = torch.mean(x, dim=0) - self.M\n",
    "        new_M = self.M + delta * bs / (self.n + bs)\n",
    "        new_S = (self.S * self.n + torch.var(x, dim=0) * bs +\n",
    "                 torch.square(delta) * self.n * bs /\n",
    "                 (self.n + bs)) / (self.n + bs)\n",
    "\n",
    "        self.M = new_M\n",
    "        self.S = new_S\n",
    "        self.n += bs\n",
    "\n",
    "        return self.M, self.S\n",
    "    \n",
    "class PBE(object):\n",
    "    \"\"\"particle-based entropy based on knn normalized by running mean \"\"\"\n",
    "    def __init__(self, rms, knn_clip, knn_k, knn_avg, knn_rms, device):\n",
    "        self.rms = rms\n",
    "        self.knn_rms = knn_rms\n",
    "        self.knn_k = knn_k\n",
    "        self.knn_avg = knn_avg\n",
    "        self.knn_clip = knn_clip\n",
    "        self.device = device\n",
    "\n",
    "    def __call__(self, rep):\n",
    "        source = target = rep\n",
    "        b1, b2 = source.size(0), target.size(0)\n",
    "        # (b1, 1, c) - (1, b2, c) -> (b1, 1, c) - (1, b2, c) -> (b1, b2, c) -> (b1, b2)\n",
    "        sim_matrix = torch.norm(source[:, None, :].view(b1, 1, -1) -\n",
    "                                target[None, :, :].view(1, b2, -1),\n",
    "                                dim=-1,\n",
    "                                p=2)\n",
    "        reward, _ = sim_matrix.topk(self.knn_k,\n",
    "                                    dim=1,\n",
    "                                    largest=False,\n",
    "                                    sorted=True)  # (b1, k)\n",
    "        if not self.knn_avg:  # only keep k-th nearest neighbor\n",
    "            reward = reward[:, -1]\n",
    "            reward = reward.reshape(-1, 1)  # (b1, 1)\n",
    "            reward /= self.rms(reward)[0] if self.knn_rms else 1.0\n",
    "            reward = torch.maximum(\n",
    "                reward - self.knn_clip,\n",
    "                torch.zeros_like(reward).to(self.device)\n",
    "            ) if self.knn_clip >= 0.0 else reward  # (b1, 1)\n",
    "        else:  # average over all k nearest neighbors\n",
    "            reward = reward.reshape(-1, 1)  # (b1 * k, 1)\n",
    "            reward /= self.rms(reward)[0] if self.knn_rms else 1.0\n",
    "            reward = torch.maximum(\n",
    "                reward - self.knn_clip,\n",
    "                torch.zeros_like(reward).to(\n",
    "                    self.device)) if self.knn_clip >= 0.0 else reward\n",
    "            reward = reward.reshape((b1, self.knn_k))  # (b1, k)\n",
    "            reward = reward.mean(dim=1, keepdim=True)  # (b1, 1)\n",
    "        reward = torch.log(reward + 1.0)\n",
    "        return reward\n",
    "    \n",
    "class IdentityPhi(nn.Module):\n",
    "    def __init__(\n",
    "        self,\n",
    "        latent_dim,\n",
    "        hidden_dim,\n",
    "        sf_dim,\n",
    "    ):\n",
    "        super().__init__()\n",
    "        self.fc1 = nn.Linear(1, 1)\n",
    "    \n",
    "    def forward(self, latent, norm=True):\n",
    "        return F.normalize(latent, dim=-1)\n",
    "    \n",
    "class IdentityEncoder(nn.Module):\n",
    "    def __init__(\n",
    "        self,\n",
    "        state_shape,\n",
    "        latent_dim,\n",
    "    ):\n",
    "        super().__init__()\n",
    "        self.fc1 = nn.Linear(1, 1)\n",
    "    \n",
    "    def forward(self, state):\n",
    "        return state\n",
    "\n",
    "class GridAPS(DQN):\n",
    "    def __init__(\n",
    "        self,\n",
    "        env,\n",
    "        conv=True,\n",
    "        discount=0.99,\n",
    "        lr_critic=1e-4,\n",
    "        lr_encoder=1e-4, \n",
    "        latent_dim=256,\n",
    "        hidden_dim=256,\n",
    "        initial_eps=1,\n",
    "        end_eps=0.1,\n",
    "        eval_eps=0.1,\n",
    "        pretrain_eps=1,\n",
    "        eps_decay_period=int(2e4),\n",
    "        target_update_frequency=200,\n",
    "        double_q=False,\n",
    "        # the following are variables for APS\n",
    "        sf_dim=169,\n",
    "        lr_phi=1e-4,\n",
    "        lr_task=3e-4,\n",
    "        update_task_frequency=5,\n",
    "        knn_k=12,\n",
    "        knn_rms=True,\n",
    "        knn_avg=True,\n",
    "        knn_clip=1e-4,\n",
    "    ):\n",
    "        # for APS \n",
    "        self.sf_dim = sf_dim\n",
    "        self.lr_phi = lr_phi\n",
    "        self.lr_task = lr_task\n",
    "        self.update_task_frequency = update_task_frequency\n",
    "        self.knn_k = knn_k\n",
    "        self.knn_rms = knn_rms\n",
    "        self.knn_avg = knn_avg\n",
    "        self.knn_clip = knn_clip\n",
    "        self.temp_task = None # temp tasks are set through function : set_task\n",
    "        \n",
    "        super().__init__(\n",
    "            env=env,\n",
    "            conv=conv,\n",
    "            discount=discount,\n",
    "            lr_critic=lr_critic,\n",
    "            lr_encoder=lr_encoder,\n",
    "            latent_dim=latent_dim,\n",
    "            hidden_dim=hidden_dim,\n",
    "            initial_eps=initial_eps,\n",
    "            end_eps=end_eps,\n",
    "            eval_eps=eval_eps,\n",
    "            pretrain_eps=pretrain_eps,\n",
    "            eps_decay_period=eps_decay_period,\n",
    "            target_update_frequency=target_update_frequency,\n",
    "            double_q=double_q,\n",
    "        )\n",
    "        \n",
    "        self.task_loss = []\n",
    "        \n",
    "    def _make_alias(self):\n",
    "        self.SF1 = self.critic.get_SF1\n",
    "        self.SF = self.critic.get_SFs\n",
    "        self.SF1_target = self.critic_target.get_SF1\n",
    "        self.SF_target = self.critic_target.get_SFs\n",
    "        \n",
    "        # to get Q's, one need 'task' (a k-dim vector)\n",
    "        self.Q1 = self.critic.get_Q1\n",
    "        self.Q = self.critic.get_Qs\n",
    "        self.Q1_target = self.critic_target.get_Q1\n",
    "        self.Q_target = self.critic_target.get_Qs\n",
    "        \n",
    "    def _define_networks(self):\n",
    "        self.encoder = IndentityEncoder(\n",
    "            state_shape=self.state_shape,\n",
    "            latent_dim=self.latent_dim,\n",
    "        )\n",
    "        \n",
    "        self.phi = IdentityPhi(\n",
    "            latent_dim=self.latent_dim,\n",
    "            hidden_dim=self.hidden_dim,\n",
    "            sf_dim=self.sf_dim,\n",
    "        )\n",
    "\n",
    "        \n",
    "        self.critic = Critic(\n",
    "            latent_dim=self.latent_dim, # input is cat([latent, task])\n",
    "            hidden_dim=self.hidden_dim, \n",
    "            num_actions=self.num_actions,\n",
    "            sf_dim=self.sf_dim\n",
    "        )\n",
    "        self.critic_target = copy.deepcopy(self.critic)\n",
    "        \n",
    "        self.RMS = RMS(self.device)\n",
    "        self.PBE = PBE(\n",
    "            rms=self.RMS,\n",
    "            knn_clip=self.knn_clip,\n",
    "            knn_k=self.knn_k, \n",
    "            knn_avg=self.knn_avg, \n",
    "            knn_rms=self.knn_rms,\n",
    "            device=self.device\n",
    "        )\n",
    "        \n",
    "        self.encoder_opt = torch.optim.Adam(self.encoder.parameters(), lr=self.lr_encoder)\n",
    "        self.phi_opt = torch.optim.Adam(self.phi.parameters(), lr=self.lr_phi)\n",
    "        self.critic_opt = torch.optim.Adam(self.critic.parameters(), lr=self.lr_critic)\n",
    "        \n",
    "        self.task_learned = True\n",
    "        self.task = torch.ones((1, self.sf_dim), requires_grad=True, device=self.device) # task is only for RL phase (supervised learning phase)\n",
    "        self.task_opt = torch.optim.Adam([self.task], lr=self.lr_task)\n",
    "        \n",
    "    def intrinsic_reward(self, task, next_latent):\n",
    "        # maxent reward\n",
    "        with torch.no_grad():\n",
    "            state_representation = self.phi(next_latent, norm=False)\n",
    "        bonus = self.PBE(state_representation)\n",
    "        ent_bonus = bonus.view(-1, 1)\n",
    "\n",
    "        # successor feature reward\n",
    "        state_representation = state_representation / torch.norm(state_representation, dim=1, keepdim=True)\n",
    "        sf_reward = torch.einsum(\"bi,bi->b\", task, state_representation).reshape(-1, 1)\n",
    "\n",
    "        return ent_bonus, sf_reward\n",
    "    \n",
    "    def maybe_set_task(self, fine_tune):\n",
    "        if fine_tune:\n",
    "            return self.task\n",
    "        elif (self.iterations + 1) % self.update_task_frequency:\n",
    "            return self.set_task()\n",
    "        \n",
    "        return self.temp_task\n",
    "    \n",
    "    def set_task(self):\n",
    "        task = torch.randn(self.sf_dim).to(self.device)\n",
    "        task = task / torch.norm(task)\n",
    "        self.temp_task = task\n",
    "        return task\n",
    "    \n",
    "    def visualize_representation(self, state):\n",
    "        # state needs to be a numpy array\n",
    "        state = torch.from_numpy(state).unsqueeze(0).to(self.device)\n",
    "        out = self.phi(self.encoder(state))\n",
    "        return out.cpu().data.numpy()\n",
    "    \n",
    "    def make_replay_buffer(self, buffer_size=int(3e5)):\n",
    "        return StandardBuffer(self.state_shape, buffer_size, self.device)\n",
    "        \n",
    "    def select_action(self, state, task, eval=False, pretrain=True):\n",
    "        # this function affects evaluation funciton\n",
    "        if eval: # if eval, we don't care if we are pretraining or not\n",
    "            eps = self.eval_eps\n",
    "        elif pretrain: # if pretrain, we use pretrain eps\n",
    "            eps = self.pretrain_eps\n",
    "        else:\n",
    "            eps = max(self.slope * self.iterations + self.initial_eps, self.end_eps)\n",
    "\n",
    "        # Select action according to policy with probability (1-eps)\n",
    "        # otherwise, select random action\n",
    "        if np.random.uniform(0,1) > eps:\n",
    "            with torch.no_grad():\n",
    "                state = torch.FloatTensor(state).reshape(self.state_shape).unsqueeze(0).to(self.device)                    \n",
    "                if type(task) == np.ndarray:\n",
    "                    task = torch.from_numpy(task).to(self.device)\n",
    "                task = task.float().view(1, task.shape[-1])\n",
    "                \n",
    "                latent = self.encoder(state)\n",
    "                \n",
    "                # cat latent and task for universal successor feature\n",
    "                # latent = torch.cat([latent, task], dim=1)\n",
    "                return int(self.Q1(latent, task).argmax(1))\n",
    "        else:\n",
    "            return np.random.randint(self.num_actions)\n",
    "    \n",
    "    def train(self, replay_buffer, batch_size=128, fine_tune=False):\n",
    "        state, action, next_state, reward, not_done = replay_buffer.sample(batch_size=batch_size)\n",
    "        \n",
    "        latent = self.encoder(state)\n",
    "        next_latent = self.encoder(next_state)\n",
    "        task = self.task.repeat(batch_size, 1)\n",
    "        \n",
    "        # calculate the adjusted reward\n",
    "        if fine_tune:\n",
    "            reward = reward # even when we are finetuning, use the task got from the replay_buffer\n",
    "            # task = self.task.repeat(batch_size, 1) # use the regressed task\n",
    "        else:\n",
    "            with torch.no_grad():\n",
    "                ent_bonus, sf_reward = self.intrinsic_reward(task, next_latent)\n",
    "                aps_reward = ent_bonus + sf_reward\n",
    "                reward = aps_reward\n",
    "            # calculte Phi-loss\n",
    "            phi_loss = - torch.einsum(\"bi,bi->b\", self.phi(next_latent), task).mean()\n",
    "            # update Phi and Encoder\n",
    "            self.encoder_opt.zero_grad()\n",
    "            self.phi_opt.zero_grad()\n",
    "            phi_loss.backward()\n",
    "            self.encoder_opt.step()\n",
    "            self.phi_opt.step()\n",
    "        \n",
    "        \n",
    "        # cat latent and task, for universal SF approximator\n",
    "        # we don't update encoder based on Q-loss\n",
    "        # latent = torch.cat([latent, task], dim=1).detach()\n",
    "        # next_latent = torch.cat([next_latent, task], dim=1).detach()\n",
    "        \n",
    "        # calculate Q-loss\n",
    "        with torch.no_grad():\n",
    "            next_action = self.Q1(next_latent, task).argmax(1, keepdim=True)\n",
    "            if self.double_q:\n",
    "                target_Q1, target_Q2 = self.Q_target(next_latent, task)\n",
    "                target_Q1, target_Q2 = (\n",
    "                    target_Q1.gather(1, next_action).view(-1, 1),\n",
    "                    target_Q2.gather(1, next_action).view(-1, 1)\n",
    "                )\n",
    "                target_Q = torch.min(target_Q1, target_Q2)\n",
    "            else:\n",
    "                target_Q = self.critic_target.get_SF1(next_state)[range(state.shape[0]), next_action.reshape(-1).long()]\n",
    "            \n",
    "            # print(f'reward : {reward}, not_done : {not_done}, next_action :{next_action}, target_Q : {target_Q}')\n",
    "            target_Q = state + not_done * self.discount * target_Q\n",
    "            \n",
    "        \n",
    "        if self.double_q:\n",
    "            Q1, Q2 = self.Q(latent, task)\n",
    "            Q1, Q2 = (\n",
    "                Q1.gather(1, action).view(-1, 1),\n",
    "                Q2.gather(1, action).view(-1, 1)\n",
    "            )\n",
    "            \n",
    "            Q_loss = F.mse_loss(Q1, target_Q) + F.mse_loss(Q2, target_Q)\n",
    "        else:\n",
    "            Q = self.critic.get_SF1(latent)[range(state.shape[0]), action.reshape(-1).long()]\n",
    "            Q_loss = F.mse_loss(Q, target_Q)\n",
    "        \n",
    "        # update Q-networks\n",
    "        # print(f'Q-loss : {Q_loss}, Q : {Q}, Q_target : {target_Q}')\n",
    "        # print(Q_loss.mean())\n",
    "        self.critic_opt.zero_grad()\n",
    "        Q_loss.backward()\n",
    "        self.critic_opt.step()\n",
    "        \n",
    "        # train the task\n",
    "        # self.regress_task(replay_buffer, 256, 1)\n",
    "        # self.maybe_regress_task(replay_buffer, 256, 1)\n",
    "        self.task_loss.append(self.regress_task(replay_buffer, 256, 1))\n",
    "        \n",
    "        # update target network\n",
    "        self.copy_target_update()\n",
    "        \n",
    "    def maybe_regress_task(self, replay_buffer, batch_size, epoch_size=1):\n",
    "        if replay_buffer.crt_size > 4096 and self.iterations % self.update_task_frequency == 0:\n",
    "            return self.regress_task(replay_buffer, batch_size, epoch_size)\n",
    "        \n",
    "    def regress_task(self, replay_buffer, batch_size=32, epoch_size=1):\n",
    "        # there are two options, one is using gradient descent, the other is using torch.linalg.lstsq\n",
    "        self.task_learned = True\n",
    "        for epoch in range(epoch_size):\n",
    "            state, action, next_state, reward, *_ = replay_buffer.sample(batch_size=batch_size)\n",
    "            with torch.no_grad():\n",
    "                next_latent = self.encoder(next_state)\n",
    "                # next_latent = self.encoder(state)\n",
    "                representation = self.phi(next_latent)\n",
    "                \n",
    "            # estimate the reward\n",
    "            estimated_reward = torch.einsum(\"bi,bi->b\", representation, self.task.repeat(batch_size, 1)) # 256 by 169, 1 by 169\n",
    "            \n",
    "            # update the task\n",
    "            task_loss = F.mse_loss(reward, estimated_reward)\n",
    "            self.task_opt.zero_grad()\n",
    "            task_loss.backward()\n",
    "            self.task_opt.step()\n",
    "            \n",
    "        return task_loss.data.cpu().numpy()\n",
    "                \n",
    "    def learn(self, replay_buffer, step_size, learning_start=int(1e4), batch_size=32, fine_tune=False, log_freq=int(1e3)):\n",
    "        if replay_buffer is None:\n",
    "            replay_buffer = self.make_replay_buffer()\n",
    "            \n",
    "        state = self.env.reset()\n",
    "        episodic_return = 0\n",
    "        episode_length = 0\n",
    "        episode_num = 0\n",
    "        task = self.set_task()\n",
    "        evaluations = []\n",
    "        \n",
    "        for step in tqdm(range(step_size)):\n",
    "            if fine_tune:\n",
    "                self.iterations += 1\n",
    "            # pick action and transit in the env\n",
    "            task = self.maybe_set_task(fine_tune)\n",
    "            if step < learning_start:\n",
    "                action = self.env.action_space.sample()\n",
    "            else:\n",
    "                action = self.select_action(state, task, eval=False, pretrain=(not fine_tune))\n",
    "            next_state, reward, done, info = self.env.step(action)\n",
    "            \n",
    "            # add the experience into the buffer\n",
    "            replay_buffer.add(state, action, next_state, reward, done)\n",
    "            if replay_buffer.crt_size > learning_start:\n",
    "                self.train(replay_buffer, batch_size=batch_size, fine_tune=fine_tune)\n",
    "            \n",
    "            # update iterative values\n",
    "            state = next_state\n",
    "            episodic_return += reward\n",
    "            episode_length += 1\n",
    "            \n",
    "            # maybe evaluate\n",
    "            if fine_tune and (step + 1) % log_freq == 0:\n",
    "                evaluations.append(self.evaluate(fine_tune))\n",
    "            \n",
    "            # check if the episode ends\n",
    "            if done:\n",
    "                if fine_tune:\n",
    "                    print(f\"====== Total T: {step+1} Episode Num: {episode_num+1} Episode_Length T: {episode_length} Return: {episodic_return:.3f} ======\")\n",
    "                episode_num += 1\n",
    "                state = self.env.reset()\n",
    "                episodic_return = 0\n",
    "                episode_length = 0\n",
    "                \n",
    "        return evaluations\n",
    "    \n",
    "    def evaluate(self, fine_tune, seed=0, eval_episodes=10):\n",
    "        eval_env = copy.deepcopy(self.env)\n",
    "        eval_env.seed(seed + 100)\n",
    "\n",
    "        avg_reward = 0.\n",
    "        task = self.maybe_set_task(fine_tune)\n",
    "        for _ in range(eval_episodes):\n",
    "            state, done = eval_env.reset(), False\n",
    "            while not done:\n",
    "                action = self.select_action(np.array(state), task, eval=True)\n",
    "                state, reward, done, _ = eval_env.step(action)\n",
    "                avg_reward += reward\n",
    "\n",
    "        avg_reward /= eval_episodes\n",
    "\n",
    "        print(\"---------------------------------------\")\n",
    "        print(f\"Evaluation over {eval_episodes} episodes: {avg_reward:.3f}\")\n",
    "        print(\"---------------------------------------\")\n",
    "        return avg_reward"
   ]
  },
  {
   "cell_type": "code",
   "execution_count": 34,
   "metadata": {
    "scrolled": true
   },
   "outputs": [
    {
     "name": "stderr",
     "output_type": "stream",
     "text": [
      "  0%|          | 0/200000 [00:00<?, ?it/s]"
     ]
    },
    {
     "name": "stdout",
     "output_type": "stream",
     "text": [
      "====== Total T: 200 Episode Num: 1 Episode_Length T: 200 Return: -200.000 ======\n",
      "====== Total T: 227 Episode Num: 2 Episode_Length T: 27 Return: -26.000 ======\n",
      "====== Total T: 427 Episode Num: 3 Episode_Length T: 200 Return: -200.000 ======\n",
      "====== Total T: 627 Episode Num: 4 Episode_Length T: 200 Return: -200.000 ======\n",
      "====== Total T: 645 Episode Num: 5 Episode_Length T: 18 Return: -17.000 ======\n",
      "====== Total T: 845 Episode Num: 6 Episode_Length T: 200 Return: -200.000 ======\n"
     ]
    },
    {
     "name": "stderr",
     "output_type": "stream",
     "text": [
      "  0%|          | 1000/200000 [00:00<02:52, 1151.70it/s]"
     ]
    },
    {
     "name": "stdout",
     "output_type": "stream",
     "text": [
      "---------------------------------------\n",
      "Evaluation over 10 episodes: -200.000\n",
      "---------------------------------------\n",
      "====== Total T: 1006 Episode Num: 7 Episode_Length T: 161 Return: -160.000 ======\n"
     ]
    },
    {
     "name": "stderr",
     "output_type": "stream",
     "text": [
      "  1%|          | 1223/200000 [00:01<06:14, 531.31it/s] "
     ]
    },
    {
     "name": "stdout",
     "output_type": "stream",
     "text": [
      "====== Total T: 1206 Episode Num: 8 Episode_Length T: 200 Return: -200.000 ======\n"
     ]
    },
    {
     "name": "stderr",
     "output_type": "stream",
     "text": [
      "  1%|          | 1446/200000 [00:02<12:26, 265.90it/s]"
     ]
    },
    {
     "name": "stdout",
     "output_type": "stream",
     "text": [
      "====== Total T: 1406 Episode Num: 9 Episode_Length T: 200 Return: -200.000 ======\n"
     ]
    },
    {
     "name": "stderr",
     "output_type": "stream",
     "text": [
      "  1%|          | 1564/200000 [00:03<14:32, 227.56it/s]"
     ]
    },
    {
     "name": "stdout",
     "output_type": "stream",
     "text": [
      "====== Total T: 1529 Episode Num: 10 Episode_Length T: 123 Return: -122.000 ======\n",
      "====== Total T: 1551 Episode Num: 11 Episode_Length T: 22 Return: -21.000 ======\n"
     ]
    },
    {
     "name": "stderr",
     "output_type": "stream",
     "text": [
      "  1%|          | 1780/200000 [00:04<14:16, 231.32it/s]"
     ]
    },
    {
     "name": "stdout",
     "output_type": "stream",
     "text": [
      "====== Total T: 1751 Episode Num: 12 Episode_Length T: 200 Return: -200.000 ======\n",
      "====== Total T: 1758 Episode Num: 13 Episode_Length T: 7 Return: -6.000 ======\n"
     ]
    },
    {
     "name": "stderr",
     "output_type": "stream",
     "text": [
      "  1%|          | 1877/200000 [00:04<14:04, 234.60it/s]"
     ]
    },
    {
     "name": "stdout",
     "output_type": "stream",
     "text": [
      "====== Total T: 1853 Episode Num: 14 Episode_Length T: 95 Return: -94.000 ======\n"
     ]
    },
    {
     "name": "stderr",
     "output_type": "stream",
     "text": [
      "  1%|          | 2047/200000 [00:06<37:56, 86.94it/s] "
     ]
    },
    {
     "name": "stdout",
     "output_type": "stream",
     "text": [
      "---------------------------------------\n",
      "Evaluation over 10 episodes: -200.000\n",
      "---------------------------------------\n"
     ]
    },
    {
     "name": "stderr",
     "output_type": "stream",
     "text": [
      "  1%|          | 2096/200000 [00:06<25:31, 129.22it/s]"
     ]
    },
    {
     "name": "stdout",
     "output_type": "stream",
     "text": [
      "====== Total T: 2053 Episode Num: 15 Episode_Length T: 200 Return: -200.000 ======\n"
     ]
    },
    {
     "name": "stderr",
     "output_type": "stream",
     "text": [
      "  1%|          | 2293/200000 [00:07<14:56, 220.48it/s]"
     ]
    },
    {
     "name": "stdout",
     "output_type": "stream",
     "text": [
      "====== Total T: 2253 Episode Num: 16 Episode_Length T: 200 Return: -200.000 ======\n"
     ]
    },
    {
     "name": "stderr",
     "output_type": "stream",
     "text": [
      "  1%|          | 2493/200000 [00:08<13:55, 236.30it/s]"
     ]
    },
    {
     "name": "stdout",
     "output_type": "stream",
     "text": [
      "====== Total T: 2453 Episode Num: 17 Episode_Length T: 200 Return: -200.000 ======\n"
     ]
    },
    {
     "name": "stderr",
     "output_type": "stream",
     "text": [
      "  1%|▏         | 2687/200000 [00:08<14:15, 230.73it/s]"
     ]
    },
    {
     "name": "stdout",
     "output_type": "stream",
     "text": [
      "====== Total T: 2653 Episode Num: 18 Episode_Length T: 200 Return: -200.000 ======\n"
     ]
    },
    {
     "name": "stderr",
     "output_type": "stream",
     "text": [
      "  1%|▏         | 2885/200000 [00:09<13:38, 240.73it/s]"
     ]
    },
    {
     "name": "stdout",
     "output_type": "stream",
     "text": [
      "====== Total T: 2853 Episode Num: 19 Episode_Length T: 200 Return: -200.000 ======\n"
     ]
    },
    {
     "name": "stderr",
     "output_type": "stream",
     "text": [
      "  2%|▏         | 3036/200000 [00:11<35:56, 91.35it/s] "
     ]
    },
    {
     "name": "stdout",
     "output_type": "stream",
     "text": [
      "---------------------------------------\n",
      "Evaluation over 10 episodes: -200.000\n",
      "---------------------------------------\n",
      "====== Total T: 3024 Episode Num: 20 Episode_Length T: 171 Return: -170.000 ======\n"
     ]
    },
    {
     "name": "stderr",
     "output_type": "stream",
     "text": [
      "  2%|▏         | 3270/200000 [00:12<14:28, 226.48it/s]"
     ]
    },
    {
     "name": "stdout",
     "output_type": "stream",
     "text": [
      "====== Total T: 3224 Episode Num: 21 Episode_Length T: 200 Return: -200.000 ======\n"
     ]
    },
    {
     "name": "stderr",
     "output_type": "stream",
     "text": [
      "  2%|▏         | 3473/200000 [00:12<13:28, 243.14it/s]"
     ]
    },
    {
     "name": "stdout",
     "output_type": "stream",
     "text": [
      "====== Total T: 3424 Episode Num: 22 Episode_Length T: 200 Return: -200.000 ======\n"
     ]
    },
    {
     "name": "stderr",
     "output_type": "stream",
     "text": [
      "  2%|▏         | 3674/200000 [00:13<13:19, 245.53it/s]"
     ]
    },
    {
     "name": "stdout",
     "output_type": "stream",
     "text": [
      "====== Total T: 3624 Episode Num: 23 Episode_Length T: 200 Return: -200.000 ======\n"
     ]
    },
    {
     "name": "stderr",
     "output_type": "stream",
     "text": [
      "  2%|▏         | 3871/200000 [00:14<13:35, 240.38it/s]"
     ]
    },
    {
     "name": "stdout",
     "output_type": "stream",
     "text": [
      "====== Total T: 3824 Episode Num: 24 Episode_Length T: 200 Return: -200.000 ======\n"
     ]
    },
    {
     "name": "stderr",
     "output_type": "stream",
     "text": [
      "  2%|▏         | 4045/200000 [00:16<36:26, 89.60it/s] "
     ]
    },
    {
     "name": "stdout",
     "output_type": "stream",
     "text": [
      "---------------------------------------\n",
      "Evaluation over 10 episodes: -200.000\n",
      "---------------------------------------\n",
      "====== Total T: 4024 Episode Num: 25 Episode_Length T: 200 Return: -200.000 ======\n"
     ]
    },
    {
     "name": "stderr",
     "output_type": "stream",
     "text": [
      "  2%|▏         | 4095/200000 [00:16<24:36, 132.70it/s]/home/mila/y/yiran.wang/.conda/envs/mujoco_env/lib/python3.7/site-packages/ipykernel_launcher.py:358: UserWarning: Using a target size (torch.Size([256])) that is different to the input size (torch.Size([256, 1])). This will likely lead to incorrect results due to broadcasting. Please ensure they have the same size.\n",
      "  2%|▏         | 4242/200000 [00:17<18:14, 178.82it/s]"
     ]
    },
    {
     "name": "stdout",
     "output_type": "stream",
     "text": [
      "====== Total T: 4224 Episode Num: 26 Episode_Length T: 200 Return: -200.000 ======\n"
     ]
    },
    {
     "name": "stderr",
     "output_type": "stream",
     "text": [
      "  2%|▏         | 4389/200000 [00:17<13:21, 243.94it/s]\n"
     ]
    },
    {
     "ename": "KeyboardInterrupt",
     "evalue": "",
     "output_type": "error",
     "traceback": [
      "\u001b[0;31m---------------------------------------------------------------------------\u001b[0m",
      "\u001b[0;31mKeyboardInterrupt\u001b[0m                         Traceback (most recent call last)",
      "\u001b[0;32m/tmp/ipykernel_44681/4143597988.py\u001b[0m in \u001b[0;36m<module>\u001b[0;34m\u001b[0m\n\u001b[1;32m     18\u001b[0m     \u001b[0mlearning_start\u001b[0m\u001b[0;34m=\u001b[0m\u001b[0mint\u001b[0m\u001b[0;34m(\u001b[0m\u001b[0;36m1e3\u001b[0m\u001b[0;34m)\u001b[0m\u001b[0;34m,\u001b[0m\u001b[0;34m\u001b[0m\u001b[0;34m\u001b[0m\u001b[0m\n\u001b[1;32m     19\u001b[0m     \u001b[0mbatch_size\u001b[0m\u001b[0;34m=\u001b[0m\u001b[0;36m32\u001b[0m\u001b[0;34m,\u001b[0m\u001b[0;34m\u001b[0m\u001b[0;34m\u001b[0m\u001b[0m\n\u001b[0;32m---> 20\u001b[0;31m     \u001b[0mfine_tune\u001b[0m\u001b[0;34m=\u001b[0m\u001b[0;32mTrue\u001b[0m\u001b[0;34m\u001b[0m\u001b[0;34m\u001b[0m\u001b[0m\n\u001b[0m\u001b[1;32m     21\u001b[0m )\n",
      "\u001b[0;32m/tmp/ipykernel_44681/933720435.py\u001b[0m in \u001b[0;36mlearn\u001b[0;34m(self, replay_buffer, step_size, learning_start, batch_size, fine_tune, log_freq)\u001b[0m\n\u001b[1;32m    386\u001b[0m             \u001b[0mreplay_buffer\u001b[0m\u001b[0;34m.\u001b[0m\u001b[0madd\u001b[0m\u001b[0;34m(\u001b[0m\u001b[0mstate\u001b[0m\u001b[0;34m,\u001b[0m \u001b[0maction\u001b[0m\u001b[0;34m,\u001b[0m \u001b[0mnext_state\u001b[0m\u001b[0;34m,\u001b[0m \u001b[0mreward\u001b[0m\u001b[0;34m,\u001b[0m \u001b[0mdone\u001b[0m\u001b[0;34m)\u001b[0m\u001b[0;34m\u001b[0m\u001b[0;34m\u001b[0m\u001b[0m\n\u001b[1;32m    387\u001b[0m             \u001b[0;32mif\u001b[0m \u001b[0mreplay_buffer\u001b[0m\u001b[0;34m.\u001b[0m\u001b[0mcrt_size\u001b[0m \u001b[0;34m>\u001b[0m \u001b[0mlearning_start\u001b[0m\u001b[0;34m:\u001b[0m\u001b[0;34m\u001b[0m\u001b[0;34m\u001b[0m\u001b[0m\n\u001b[0;32m--> 388\u001b[0;31m                 \u001b[0mself\u001b[0m\u001b[0;34m.\u001b[0m\u001b[0mtrain\u001b[0m\u001b[0;34m(\u001b[0m\u001b[0mreplay_buffer\u001b[0m\u001b[0;34m,\u001b[0m \u001b[0mbatch_size\u001b[0m\u001b[0;34m=\u001b[0m\u001b[0mbatch_size\u001b[0m\u001b[0;34m,\u001b[0m \u001b[0mfine_tune\u001b[0m\u001b[0;34m=\u001b[0m\u001b[0mfine_tune\u001b[0m\u001b[0;34m)\u001b[0m\u001b[0;34m\u001b[0m\u001b[0;34m\u001b[0m\u001b[0m\n\u001b[0m\u001b[1;32m    389\u001b[0m \u001b[0;34m\u001b[0m\u001b[0m\n\u001b[1;32m    390\u001b[0m             \u001b[0;31m# update iterative values\u001b[0m\u001b[0;34m\u001b[0m\u001b[0;34m\u001b[0m\u001b[0;34m\u001b[0m\u001b[0m\n",
      "\u001b[0;32m/tmp/ipykernel_44681/933720435.py\u001b[0m in \u001b[0;36mtrain\u001b[0;34m(self, replay_buffer, batch_size, fine_tune)\u001b[0m\n\u001b[1;32m    333\u001b[0m         \u001b[0;31m# train the task\u001b[0m\u001b[0;34m\u001b[0m\u001b[0;34m\u001b[0m\u001b[0;34m\u001b[0m\u001b[0m\n\u001b[1;32m    334\u001b[0m         \u001b[0;31m# self.regress_task(replay_buffer, 256, 1)\u001b[0m\u001b[0;34m\u001b[0m\u001b[0;34m\u001b[0m\u001b[0;34m\u001b[0m\u001b[0m\n\u001b[0;32m--> 335\u001b[0;31m         \u001b[0mself\u001b[0m\u001b[0;34m.\u001b[0m\u001b[0mmaybe_regress_task\u001b[0m\u001b[0;34m(\u001b[0m\u001b[0mreplay_buffer\u001b[0m\u001b[0;34m,\u001b[0m \u001b[0;36m256\u001b[0m\u001b[0;34m,\u001b[0m \u001b[0;36m1\u001b[0m\u001b[0;34m)\u001b[0m\u001b[0;34m\u001b[0m\u001b[0;34m\u001b[0m\u001b[0m\n\u001b[0m\u001b[1;32m    336\u001b[0m \u001b[0;34m\u001b[0m\u001b[0m\n\u001b[1;32m    337\u001b[0m         \u001b[0;31m# update target network\u001b[0m\u001b[0;34m\u001b[0m\u001b[0;34m\u001b[0m\u001b[0;34m\u001b[0m\u001b[0m\n",
      "\u001b[0;32m/tmp/ipykernel_44681/933720435.py\u001b[0m in \u001b[0;36mmaybe_regress_task\u001b[0;34m(self, replay_buffer, batch_size, epoch_size)\u001b[0m\n\u001b[1;32m    340\u001b[0m     \u001b[0;32mdef\u001b[0m \u001b[0mmaybe_regress_task\u001b[0m\u001b[0;34m(\u001b[0m\u001b[0mself\u001b[0m\u001b[0;34m,\u001b[0m \u001b[0mreplay_buffer\u001b[0m\u001b[0;34m,\u001b[0m \u001b[0mbatch_size\u001b[0m\u001b[0;34m,\u001b[0m \u001b[0mepoch_size\u001b[0m\u001b[0;34m=\u001b[0m\u001b[0;36m1\u001b[0m\u001b[0;34m)\u001b[0m\u001b[0;34m:\u001b[0m\u001b[0;34m\u001b[0m\u001b[0;34m\u001b[0m\u001b[0m\n\u001b[1;32m    341\u001b[0m         \u001b[0;32mif\u001b[0m \u001b[0mreplay_buffer\u001b[0m\u001b[0;34m.\u001b[0m\u001b[0mcrt_size\u001b[0m \u001b[0;34m>\u001b[0m \u001b[0;36m4096\u001b[0m \u001b[0;32mand\u001b[0m \u001b[0mself\u001b[0m\u001b[0;34m.\u001b[0m\u001b[0miterations\u001b[0m \u001b[0;34m%\u001b[0m \u001b[0mself\u001b[0m\u001b[0;34m.\u001b[0m\u001b[0mupdate_task_frequency\u001b[0m \u001b[0;34m==\u001b[0m \u001b[0;36m0\u001b[0m\u001b[0;34m:\u001b[0m\u001b[0;34m\u001b[0m\u001b[0;34m\u001b[0m\u001b[0m\n\u001b[0;32m--> 342\u001b[0;31m             \u001b[0mself\u001b[0m\u001b[0;34m.\u001b[0m\u001b[0mregress_task\u001b[0m\u001b[0;34m(\u001b[0m\u001b[0mreplay_buffer\u001b[0m\u001b[0;34m,\u001b[0m \u001b[0mbatch_size\u001b[0m\u001b[0;34m,\u001b[0m \u001b[0mepoch_size\u001b[0m\u001b[0;34m)\u001b[0m\u001b[0;34m\u001b[0m\u001b[0;34m\u001b[0m\u001b[0m\n\u001b[0m\u001b[1;32m    343\u001b[0m \u001b[0;34m\u001b[0m\u001b[0m\n\u001b[1;32m    344\u001b[0m     \u001b[0;32mdef\u001b[0m \u001b[0mregress_task\u001b[0m\u001b[0;34m(\u001b[0m\u001b[0mself\u001b[0m\u001b[0;34m,\u001b[0m \u001b[0mreplay_buffer\u001b[0m\u001b[0;34m,\u001b[0m \u001b[0mbatch_size\u001b[0m\u001b[0;34m=\u001b[0m\u001b[0;36m32\u001b[0m\u001b[0;34m,\u001b[0m \u001b[0mepoch_size\u001b[0m\u001b[0;34m=\u001b[0m\u001b[0;36m1\u001b[0m\u001b[0;34m)\u001b[0m\u001b[0;34m:\u001b[0m\u001b[0;34m\u001b[0m\u001b[0;34m\u001b[0m\u001b[0m\n",
      "\u001b[0;32m/tmp/ipykernel_44681/933720435.py\u001b[0m in \u001b[0;36mregress_task\u001b[0;34m(self, replay_buffer, batch_size, epoch_size)\u001b[0m\n\u001b[1;32m    346\u001b[0m         \u001b[0mself\u001b[0m\u001b[0;34m.\u001b[0m\u001b[0mtask_learned\u001b[0m \u001b[0;34m=\u001b[0m \u001b[0;32mTrue\u001b[0m\u001b[0;34m\u001b[0m\u001b[0;34m\u001b[0m\u001b[0m\n\u001b[1;32m    347\u001b[0m         \u001b[0;32mfor\u001b[0m \u001b[0mepoch\u001b[0m \u001b[0;32min\u001b[0m \u001b[0mrange\u001b[0m\u001b[0;34m(\u001b[0m\u001b[0mepoch_size\u001b[0m\u001b[0;34m)\u001b[0m\u001b[0;34m:\u001b[0m\u001b[0;34m\u001b[0m\u001b[0;34m\u001b[0m\u001b[0m\n\u001b[0;32m--> 348\u001b[0;31m             \u001b[0mstate\u001b[0m\u001b[0;34m,\u001b[0m \u001b[0maction\u001b[0m\u001b[0;34m,\u001b[0m \u001b[0mnext_state\u001b[0m\u001b[0;34m,\u001b[0m \u001b[0mreward\u001b[0m\u001b[0;34m,\u001b[0m \u001b[0;34m*\u001b[0m\u001b[0m_\u001b[0m \u001b[0;34m=\u001b[0m \u001b[0mreplay_buffer\u001b[0m\u001b[0;34m.\u001b[0m\u001b[0msample\u001b[0m\u001b[0;34m(\u001b[0m\u001b[0mbatch_size\u001b[0m\u001b[0;34m=\u001b[0m\u001b[0mbatch_size\u001b[0m\u001b[0;34m)\u001b[0m\u001b[0;34m\u001b[0m\u001b[0;34m\u001b[0m\u001b[0m\n\u001b[0m\u001b[1;32m    349\u001b[0m             \u001b[0;32mwith\u001b[0m \u001b[0mtorch\u001b[0m\u001b[0;34m.\u001b[0m\u001b[0mno_grad\u001b[0m\u001b[0;34m(\u001b[0m\u001b[0;34m)\u001b[0m\u001b[0;34m:\u001b[0m\u001b[0;34m\u001b[0m\u001b[0;34m\u001b[0m\u001b[0m\n\u001b[1;32m    350\u001b[0m                 \u001b[0mnext_latent\u001b[0m \u001b[0;34m=\u001b[0m \u001b[0mself\u001b[0m\u001b[0;34m.\u001b[0m\u001b[0mencoder\u001b[0m\u001b[0;34m(\u001b[0m\u001b[0mnext_state\u001b[0m\u001b[0;34m)\u001b[0m\u001b[0;34m\u001b[0m\u001b[0;34m\u001b[0m\u001b[0m\n",
      "\u001b[0;32m/tmp/ipykernel_44681/528363932.py\u001b[0m in \u001b[0;36msample\u001b[0;34m(self, batch_size)\u001b[0m\n\u001b[1;32m     29\u001b[0m         \u001b[0mind\u001b[0m \u001b[0;34m=\u001b[0m \u001b[0mnp\u001b[0m\u001b[0;34m.\u001b[0m\u001b[0mrandom\u001b[0m\u001b[0;34m.\u001b[0m\u001b[0mrandint\u001b[0m\u001b[0;34m(\u001b[0m\u001b[0;36m0\u001b[0m\u001b[0;34m,\u001b[0m \u001b[0mself\u001b[0m\u001b[0;34m.\u001b[0m\u001b[0mcrt_size\u001b[0m\u001b[0;34m,\u001b[0m \u001b[0msize\u001b[0m\u001b[0;34m=\u001b[0m\u001b[0mbatch_size\u001b[0m\u001b[0;34m)\u001b[0m\u001b[0;34m\u001b[0m\u001b[0;34m\u001b[0m\u001b[0m\n\u001b[1;32m     30\u001b[0m         return (\n\u001b[0;32m---> 31\u001b[0;31m             \u001b[0mtorch\u001b[0m\u001b[0;34m.\u001b[0m\u001b[0mFloatTensor\u001b[0m\u001b[0;34m(\u001b[0m\u001b[0mself\u001b[0m\u001b[0;34m.\u001b[0m\u001b[0mstate\u001b[0m\u001b[0;34m[\u001b[0m\u001b[0mind\u001b[0m\u001b[0;34m]\u001b[0m\u001b[0;34m)\u001b[0m\u001b[0;34m.\u001b[0m\u001b[0mto\u001b[0m\u001b[0;34m(\u001b[0m\u001b[0mself\u001b[0m\u001b[0;34m.\u001b[0m\u001b[0mdevice\u001b[0m\u001b[0;34m)\u001b[0m\u001b[0;34m,\u001b[0m\u001b[0;34m\u001b[0m\u001b[0;34m\u001b[0m\u001b[0m\n\u001b[0m\u001b[1;32m     32\u001b[0m             \u001b[0mtorch\u001b[0m\u001b[0;34m.\u001b[0m\u001b[0mLongTensor\u001b[0m\u001b[0;34m(\u001b[0m\u001b[0mself\u001b[0m\u001b[0;34m.\u001b[0m\u001b[0maction\u001b[0m\u001b[0;34m[\u001b[0m\u001b[0mind\u001b[0m\u001b[0;34m]\u001b[0m\u001b[0;34m)\u001b[0m\u001b[0;34m.\u001b[0m\u001b[0mto\u001b[0m\u001b[0;34m(\u001b[0m\u001b[0mself\u001b[0m\u001b[0;34m.\u001b[0m\u001b[0mdevice\u001b[0m\u001b[0;34m)\u001b[0m\u001b[0;34m,\u001b[0m\u001b[0;34m\u001b[0m\u001b[0;34m\u001b[0m\u001b[0m\n\u001b[1;32m     33\u001b[0m             \u001b[0mtorch\u001b[0m\u001b[0;34m.\u001b[0m\u001b[0mFloatTensor\u001b[0m\u001b[0;34m(\u001b[0m\u001b[0mself\u001b[0m\u001b[0;34m.\u001b[0m\u001b[0mnext_state\u001b[0m\u001b[0;34m[\u001b[0m\u001b[0mind\u001b[0m\u001b[0;34m]\u001b[0m\u001b[0;34m)\u001b[0m\u001b[0;34m.\u001b[0m\u001b[0mto\u001b[0m\u001b[0;34m(\u001b[0m\u001b[0mself\u001b[0m\u001b[0;34m.\u001b[0m\u001b[0mdevice\u001b[0m\u001b[0;34m)\u001b[0m\u001b[0;34m,\u001b[0m\u001b[0;34m\u001b[0m\u001b[0;34m\u001b[0m\u001b[0m\n",
      "\u001b[0;31mKeyboardInterrupt\u001b[0m: "
     ]
    }
   ],
   "source": [
    "from fourrooms import FourRooms\n",
    "env = FourRooms(config=2, layout='open')\n",
    "aps1 = GridAPS(\n",
    "    env, \n",
    "    conv=False,\n",
    "    pretrain_eps=0.5,\n",
    "    eps_decay_period=int(1e4),\n",
    "    double_q=False,\n",
    "    sf_dim=169,\n",
    "    latent_dim=169,\n",
    "    update_task_frequency=5,\n",
    ")\n",
    "\n",
    "ft_rp1 = aps1.make_replay_buffer()\n",
    "evaluations = aps1.learn(\n",
    "    ft_rp1,\n",
    "    step_size=int(2e5),\n",
    "    learning_start=int(1e3),\n",
    "    batch_size=32,\n",
    "    fine_tune=True\n",
    ")"
   ]
  },
  {
   "cell_type": "code",
   "execution_count": 30,
   "metadata": {},
   "outputs": [
    {
     "name": "stdout",
     "output_type": "stream",
     "text": [
      "[[-100.         -100.         -100.         -100.         -100.\n",
      "  -100.         -100.         -100.         -100.         -100.\n",
      "  -100.         -100.         -100.        ]\n",
      " [-100.            0.98530662    0.98289216    0.98633587    0.9703691\n",
      "     0.95704842    0.98554146    0.94991934    0.92753792    1.00281346\n",
      "     1.12426901    1.10165381 -100.        ]\n",
      " [-100.            0.9894799     1.02027106    1.07890129    1.06641877\n",
      "     0.99218655    1.00988591    1.01235664    0.96856427    0.99615049\n",
      "     1.10446608    1.10871458 -100.        ]\n",
      " [-100.            1.0417136     1.03615069    1.05526865    1.09886873\n",
      "     1.02948141    1.05965829    1.03196502    1.02069438    1.02708101\n",
      "     1.03068316    1.06793451 -100.        ]\n",
      " [-100.            1.04431438    1.02912343    1.04882252    1.09709692\n",
      "     1.04528105    1.09144366    1.12053156    1.0876255     0.95444512\n",
      "     0.9471885     0.98401856 -100.        ]\n",
      " [-100.            1.03666103    1.00595367    1.05428672    1.10323036\n",
      "     1.0398308     1.10379481    1.1508373     1.14011943    1.01490974\n",
      "     0.92805564    0.95101786 -100.        ]\n",
      " [-100.            1.02553391    1.00518024    1.02921379    1.09508395\n",
      "     1.08036506    1.10973155    1.15098119    4.30455828    1.07527435\n",
      "     0.90069914    0.92017937 -100.        ]\n",
      " [-100.            1.01438975    1.0284543     1.04977882    1.04775703\n",
      "     1.04968536    1.04346085    1.04012966    1.08665371    0.91631401\n",
      "     0.87293077    0.9656688  -100.        ]\n",
      " [-100.            1.01477909    1.06772518    1.09307051    1.09876227\n",
      "     1.03824377    1.00866473    1.00483263    1.01145887    0.9491747\n",
      "     0.96457255    0.99483407 -100.        ]\n",
      " [-100.            0.98097479    1.04791582    1.0709542     1.06569636\n",
      "     1.04599845    1.06631577    1.01836336    1.00199103    1.01458359\n",
      "     1.03074491    1.02799523 -100.        ]\n",
      " [-100.            1.04603529    1.06465113    1.0640949     1.05824625\n",
      "     1.04882419    1.05027032    1.04179859    1.04216588    1.01748312\n",
      "     1.02272308    1.05186439 -100.        ]\n",
      " [-100.            1.1213361     1.00831819    1.03112483    0.99377024\n",
      "     1.02738631    1.01553261    1.03849339    1.01667428    0.9966644\n",
      "     1.02564847    1.07262444 -100.        ]\n",
      " [-100.         -100.         -100.         -100.         -100.\n",
      "  -100.         -100.         -100.         -100.         -100.\n",
      "  -100.         -100.         -100.        ]]\n"
     ]
    },
    {
     "data": {
      "image/png": "[encoded data removed]",
      "text/plain": [
       "<Figure size 432x288 with 1 Axes>"
      ]
     },
     "metadata": {
      "needs_background": "light"
     },
     "output_type": "display_data"
    },
    {
     "data": {
      "image/png": "[encoded data removed]",
      "text/plain": [
       "<Figure size 432x288 with 1 Axes>"
      ]
     },
     "metadata": {
      "needs_background": "light"
     },
     "output_type": "display_data"
    }
   ],
   "source": [
    "import matplotlib.pyplot as plt\n",
    "import torch\n",
    "\n",
    "device = torch.device('cuda')\n",
    "\n",
    "state = env.render()\n",
    "plt.imshow(state.reshape((13, 13)))\n",
    "plt.figure()\n",
    "reward = np.zeros((13, 13))\n",
    "\n",
    "for i in range(13):\n",
    "    for j in range(13):\n",
    "        is_wall = env.occupancy[i, j] == 1\n",
    "        if is_wall:\n",
    "            reward[i, j] = -100\n",
    "        else:\n",
    "            state_idx = env.tostate[(i, j)]\n",
    "            state = env.reset(state_idx)\n",
    "            state = torch.from_numpy(state).reshape(1, 169).to(device)\n",
    "            phi = aps1.phi(state).float()\n",
    "            w = aps1.task.float()\n",
    "            # print(phi.shape, w.shape)\n",
    "            reward[i, j] = torch.einsum(\"bi,bi->b\", phi, w).data.cpu().numpy()\n",
    "\n",
    "plt.imshow(reward)     \n",
    "print(reward)"
   ]
  },
  {
   "cell_type": "code",
   "execution_count": 20,
   "metadata": {},
   "outputs": [
    {
     "data": {
      "text/plain": [
       "array([[1, 1, 1, 1, 1, 1, 1, 1, 1, 1, 1, 1, 1],\n",
       "       [1, 0, 0, 0, 0, 0, 0, 0, 0, 0, 0, 0, 1],\n",
       "       [1, 0, 0, 0, 0, 0, 0, 0, 0, 0, 0, 0, 1],\n",
       "       [1, 0, 0, 0, 0, 0, 0, 0, 0, 0, 0, 0, 1],\n",
       "       [1, 0, 0, 0, 0, 0, 0, 0, 0, 0, 0, 0, 1],\n",
       "       [1, 0, 0, 0, 0, 0, 0, 0, 0, 0, 0, 0, 1],\n",
       "       [1, 0, 0, 0, 0, 0, 0, 0, 0, 0, 0, 0, 1],\n",
       "       [1, 0, 0, 0, 0, 0, 0, 0, 0, 0, 0, 0, 1],\n",
       "       [1, 0, 0, 0, 0, 0, 0, 0, 0, 0, 0, 0, 1],\n",
       "       [1, 0, 0, 0, 0, 0, 0, 0, 0, 0, 0, 0, 1],\n",
       "       [1, 0, 0, 0, 0, 0, 0, 0, 0, 0, 0, 0, 1],\n",
       "       [1, 0, 0, 0, 0, 0, 0, 0, 0, 0, 0, 0, 1],\n",
       "       [1, 1, 1, 1, 1, 1, 1, 1, 1, 1, 1, 1, 1]])"
      ]
     },
     "execution_count": 20,
     "metadata": {},
     "output_type": "execute_result"
    }
   ],
   "source": [
    "env.occupancy"
   ]
  },
  {
   "cell_type": "code",
   "execution_count": null,
   "metadata": {
    "scrolled": true
   },
   "outputs": [
    {
     "name": "stderr",
     "output_type": "stream",
     "text": [
      "  2%|▏         | 9675/500000 [00:01<01:14, 6575.44it/s]/home/mila/y/yiran.wang/.conda/envs/mujoco_env/lib/python3.7/site-packages/ipykernel_launcher.py:346: UserWarning: Using a target size (torch.Size([256])) that is different to the input size (torch.Size([256, 1])). This will likely lead to incorrect results due to broadcasting. Please ensure they have the same size.\n",
      " 45%|████▍     | 223063/500000 [1:02:36<1:24:58, 54.32it/s]"
     ]
    }
   ],
   "source": [
    "replay_buffer = aps.make_replay_buffer()\n",
    "aps.learn(replay_buffer, step_size=int(5e5), batch_size=32, fine_tune=False)"
   ]
  },
  {
   "cell_type": "code",
   "execution_count": 7,
   "metadata": {
    "scrolled": true
   },
   "outputs": [
    {
     "name": "stderr",
     "output_type": "stream",
     "text": [
      "  0%|          | 1000/200000 [00:00<00:24, 8149.58it/s]"
     ]
    },
    {
     "name": "stdout",
     "output_type": "stream",
     "text": [
      "====== Total T: 101 Episode Num: 1 Episode_Length T: 101 Return: -100.000 ======\n",
      "====== Total T: 282 Episode Num: 2 Episode_Length T: 181 Return: -180.000 ======\n",
      "====== Total T: 482 Episode Num: 3 Episode_Length T: 200 Return: -200.000 ======\n",
      "====== Total T: 682 Episode Num: 4 Episode_Length T: 200 Return: -200.000 ======\n",
      "====== Total T: 805 Episode Num: 5 Episode_Length T: 123 Return: -122.000 ======\n",
      "====== Total T: 871 Episode Num: 6 Episode_Length T: 66 Return: -65.000 ======\n",
      "---------------------------------------\n",
      "Evaluation over 10 episodes: -6.300\n",
      "---------------------------------------\n",
      "====== Total T: 1070 Episode Num: 7 Episode_Length T: 199 Return: -198.000 ======\n",
      "====== Total T: 1270 Episode Num: 8 Episode_Length T: 200 Return: -200.000 ======\n",
      "====== Total T: 1324 Episode Num: 9 Episode_Length T: 54 Return: -53.000 ======\n",
      "====== Total T: 1524 Episode Num: 10 Episode_Length T: 200 Return: -200.000 ======\n",
      "====== Total T: 1629 Episode Num: 11 Episode_Length T: 105 Return: -104.000 ======\n",
      "====== Total T: 1645 Episode Num: 12 Episode_Length T: 16 Return: -15.000 ======\n",
      "====== Total T: 1845 Episode Num: 13 Episode_Length T: 200 Return: -200.000 ======\n"
     ]
    },
    {
     "name": "stderr",
     "output_type": "stream",
     "text": [
      "  2%|▏         | 3000/200000 [00:00<00:24, 7966.24it/s]"
     ]
    },
    {
     "name": "stdout",
     "output_type": "stream",
     "text": [
      "---------------------------------------\n",
      "Evaluation over 10 episodes: -6.900\n",
      "---------------------------------------\n",
      "====== Total T: 2045 Episode Num: 14 Episode_Length T: 200 Return: -200.000 ======\n",
      "====== Total T: 2245 Episode Num: 15 Episode_Length T: 200 Return: -200.000 ======\n",
      "====== Total T: 2267 Episode Num: 16 Episode_Length T: 22 Return: -21.000 ======\n",
      "====== Total T: 2323 Episode Num: 17 Episode_Length T: 56 Return: -55.000 ======\n",
      "====== Total T: 2500 Episode Num: 18 Episode_Length T: 177 Return: -176.000 ======\n",
      "====== Total T: 2700 Episode Num: 19 Episode_Length T: 200 Return: -200.000 ======\n",
      "====== Total T: 2900 Episode Num: 20 Episode_Length T: 200 Return: -200.000 ======\n",
      "---------------------------------------\n",
      "Evaluation over 10 episodes: -6.300\n",
      "---------------------------------------\n",
      "====== Total T: 3085 Episode Num: 21 Episode_Length T: 185 Return: -184.000 ======\n",
      "====== Total T: 3246 Episode Num: 22 Episode_Length T: 161 Return: -160.000 ======\n",
      "====== Total T: 3415 Episode Num: 23 Episode_Length T: 169 Return: -168.000 ======\n",
      "====== Total T: 3615 Episode Num: 24 Episode_Length T: 200 Return: -200.000 ======\n",
      "====== Total T: 3652 Episode Num: 25 Episode_Length T: 37 Return: -36.000 ======\n",
      "====== Total T: 3653 Episode Num: 26 Episode_Length T: 1 Return: 0.000 ======\n",
      "====== Total T: 3686 Episode Num: 27 Episode_Length T: 33 Return: -32.000 ======\n",
      "====== Total T: 3828 Episode Num: 28 Episode_Length T: 142 Return: -141.000 ======\n",
      "====== Total T: 3939 Episode Num: 29 Episode_Length T: 111 Return: -110.000 ======\n"
     ]
    },
    {
     "name": "stderr",
     "output_type": "stream",
     "text": [
      "  2%|▎         | 5000/200000 [00:00<00:23, 8251.06it/s]"
     ]
    },
    {
     "name": "stdout",
     "output_type": "stream",
     "text": [
      "---------------------------------------\n",
      "Evaluation over 10 episodes: -6.300\n",
      "---------------------------------------\n",
      "====== Total T: 4139 Episode Num: 30 Episode_Length T: 200 Return: -200.000 ======\n",
      "====== Total T: 4198 Episode Num: 31 Episode_Length T: 59 Return: -58.000 ======\n",
      "====== Total T: 4398 Episode Num: 32 Episode_Length T: 200 Return: -200.000 ======\n",
      "====== Total T: 4413 Episode Num: 33 Episode_Length T: 15 Return: -14.000 ======\n",
      "====== Total T: 4613 Episode Num: 34 Episode_Length T: 200 Return: -200.000 ======\n",
      "====== Total T: 4813 Episode Num: 35 Episode_Length T: 200 Return: -200.000 ======\n",
      "---------------------------------------\n",
      "Evaluation over 10 episodes: -3.900\n",
      "---------------------------------------\n",
      "====== Total T: 5004 Episode Num: 36 Episode_Length T: 191 Return: -190.000 ======\n"
     ]
    },
    {
     "name": "stderr",
     "output_type": "stream",
     "text": [
      "/home/mila/y/yiran.wang/.conda/envs/mujoco_env/lib/python3.7/site-packages/ipykernel_launcher.py:346: UserWarning: Using a target size (torch.Size([256])) that is different to the input size (torch.Size([256, 1])). This will likely lead to incorrect results due to broadcasting. Please ensure they have the same size.\n"
     ]
    },
    {
     "name": "stdout",
     "output_type": "stream",
     "text": [
      "====== Total T: 5014 Episode Num: 37 Episode_Length T: 10 Return: -9.000 ======\n",
      "====== Total T: 5015 Episode Num: 38 Episode_Length T: 1 Return: 0.000 ======\n",
      "====== Total T: 5024 Episode Num: 39 Episode_Length T: 9 Return: -8.000 ======\n",
      "====== Total T: 5032 Episode Num: 40 Episode_Length T: 8 Return: -7.000 ======\n",
      "====== Total T: 5037 Episode Num: 41 Episode_Length T: 5 Return: -4.000 ======\n",
      "====== Total T: 5040 Episode Num: 42 Episode_Length T: 3 Return: -2.000 ======\n",
      "====== Total T: 5045 Episode Num: 43 Episode_Length T: 5 Return: -4.000 ======\n",
      "====== Total T: 5051 Episode Num: 44 Episode_Length T: 6 Return: -5.000 ======\n",
      "====== Total T: 5060 Episode Num: 45 Episode_Length T: 9 Return: -8.000 ======\n",
      "====== Total T: 5066 Episode Num: 46 Episode_Length T: 6 Return: -5.000 ======\n",
      "====== Total T: 5071 Episode Num: 47 Episode_Length T: 5 Return: -4.000 ======\n",
      "====== Total T: 5082 Episode Num: 48 Episode_Length T: 11 Return: -10.000 ======\n",
      "====== Total T: 5089 Episode Num: 49 Episode_Length T: 7 Return: -6.000 ======\n",
      "====== Total T: 5092 Episode Num: 50 Episode_Length T: 3 Return: -2.000 ======\n",
      "====== Total T: 5095 Episode Num: 51 Episode_Length T: 3 Return: -2.000 ======\n",
      "====== Total T: 5103 Episode Num: 52 Episode_Length T: 8 Return: -7.000 ======\n",
      "====== Total T: 5109 Episode Num: 53 Episode_Length T: 6 Return: -5.000 ======\n",
      "====== Total T: 5113 Episode Num: 54 Episode_Length T: 4 Return: -3.000 ======\n",
      "====== Total T: 5116 Episode Num: 55 Episode_Length T: 3 Return: -2.000 ======\n",
      "====== Total T: 5125 Episode Num: 56 Episode_Length T: 9 Return: -8.000 ======\n",
      "====== Total T: 5131 Episode Num: 57 Episode_Length T: 6 Return: -5.000 ======\n",
      "====== Total T: 5134 Episode Num: 58 Episode_Length T: 3 Return: -2.000 ======\n",
      "====== Total T: 5145 Episode Num: 59 Episode_Length T: 11 Return: -10.000 ======\n",
      "====== Total T: 5150 Episode Num: 60 Episode_Length T: 5 Return: -4.000 ======\n",
      "====== Total T: 5154 Episode Num: 61 Episode_Length T: 4 Return: -3.000 ======\n",
      "====== Total T: 5161 Episode Num: 62 Episode_Length T: 7 Return: -6.000 ======\n",
      "====== Total T: 5171 Episode Num: 63 Episode_Length T: 10 Return: -9.000 ======\n",
      "====== Total T: 5176 Episode Num: 64 Episode_Length T: 5 Return: -4.000 ======\n",
      "====== Total T: 5182 Episode Num: 65 Episode_Length T: 6 Return: -5.000 ======\n",
      "====== Total T: 5196 Episode Num: 66 Episode_Length T: 14 Return: -13.000 ======\n",
      "====== Total T: 5200 Episode Num: 67 Episode_Length T: 4 Return: -3.000 ======\n",
      "====== Total T: 5208 Episode Num: 68 Episode_Length T: 8 Return: -7.000 ======\n",
      "====== Total T: 5212 Episode Num: 69 Episode_Length T: 4 Return: -3.000 ======\n",
      "====== Total T: 5222 Episode Num: 70 Episode_Length T: 10 Return: -9.000 ======\n",
      "====== Total T: 5233 Episode Num: 71 Episode_Length T: 11 Return: -10.000 ======\n",
      "====== Total T: 5243 Episode Num: 72 Episode_Length T: 10 Return: -9.000 ======\n",
      "====== Total T: 5253 Episode Num: 73 Episode_Length T: 10 Return: -9.000 ======\n",
      "====== Total T: 5259 Episode Num: 74 Episode_Length T: 6 Return: -5.000 ======\n",
      "====== Total T: 5270 Episode Num: 75 Episode_Length T: 11 Return: -10.000 ======\n",
      "====== Total T: 5282 Episode Num: 76 Episode_Length T: 12 Return: -11.000 ======\n",
      "====== Total T: 5284 Episode Num: 77 Episode_Length T: 2 Return: -1.000 ======\n",
      "====== Total T: 5288 Episode Num: 78 Episode_Length T: 4 Return: -3.000 ======\n",
      "====== Total T: 5294 Episode Num: 79 Episode_Length T: 6 Return: -5.000 ======\n",
      "====== Total T: 5303 Episode Num: 80 Episode_Length T: 9 Return: -8.000 ======\n",
      "====== Total T: 5308 Episode Num: 81 Episode_Length T: 5 Return: -4.000 ======\n",
      "====== Total T: 5311 Episode Num: 82 Episode_Length T: 3 Return: -2.000 ======\n",
      "====== Total T: 5321 Episode Num: 83 Episode_Length T: 10 Return: -9.000 ======\n",
      "====== Total T: 5329 Episode Num: 84 Episode_Length T: 8 Return: -7.000 ======\n",
      "====== Total T: 5335 Episode Num: 85 Episode_Length T: 6 Return: -5.000 ======\n",
      "====== Total T: 5340 Episode Num: 86 Episode_Length T: 5 Return: -4.000 ======\n",
      "====== Total T: 5349 Episode Num: 87 Episode_Length T: 9 Return: -8.000 ======\n",
      "====== Total T: 5355 Episode Num: 88 Episode_Length T: 6 Return: -5.000 ======\n",
      "====== Total T: 5360 Episode Num: 89 Episode_Length T: 5 Return: -4.000 ======\n",
      "====== Total T: 5365 Episode Num: 90 Episode_Length T: 5 Return: -4.000 ======\n",
      "====== Total T: 5370 Episode Num: 91 Episode_Length T: 5 Return: -4.000 ======\n",
      "====== Total T: 5377 Episode Num: 92 Episode_Length T: 7 Return: -6.000 ======\n",
      "====== Total T: 5388 Episode Num: 93 Episode_Length T: 11 Return: -10.000 ======\n",
      "====== Total T: 5390 Episode Num: 94 Episode_Length T: 2 Return: -1.000 ======\n",
      "====== Total T: 5393 Episode Num: 95 Episode_Length T: 3 Return: -2.000 ======\n",
      "====== Total T: 5396 Episode Num: 96 Episode_Length T: 3 Return: -2.000 ======\n",
      "====== Total T: 5405 Episode Num: 97 Episode_Length T: 9 Return: -8.000 ======\n",
      "====== Total T: 5407 Episode Num: 98 Episode_Length T: 2 Return: -1.000 ======\n",
      "====== Total T: 5413 Episode Num: 99 Episode_Length T: 6 Return: -5.000 ======\n",
      "====== Total T: 5426 Episode Num: 100 Episode_Length T: 13 Return: -12.000 ======\n",
      "====== Total T: 5435 Episode Num: 101 Episode_Length T: 9 Return: -8.000 ======\n",
      "====== Total T: 5445 Episode Num: 102 Episode_Length T: 10 Return: -9.000 ======\n",
      "====== Total T: 5446 Episode Num: 103 Episode_Length T: 1 Return: 0.000 ======\n",
      "====== Total T: 5449 Episode Num: 104 Episode_Length T: 3 Return: -2.000 ======\n",
      "====== Total T: 5460 Episode Num: 105 Episode_Length T: 11 Return: -10.000 ======\n",
      "====== Total T: 5463 Episode Num: 106 Episode_Length T: 3 Return: -2.000 ======\n",
      "====== Total T: 5470 Episode Num: 107 Episode_Length T: 7 Return: -6.000 ======\n",
      "====== Total T: 5474 Episode Num: 108 Episode_Length T: 4 Return: -3.000 ======\n",
      "====== Total T: 5476 Episode Num: 109 Episode_Length T: 2 Return: -1.000 ======\n",
      "====== Total T: 5484 Episode Num: 110 Episode_Length T: 8 Return: -7.000 ======\n",
      "====== Total T: 5491 Episode Num: 111 Episode_Length T: 7 Return: -6.000 ======\n",
      "====== Total T: 5497 Episode Num: 112 Episode_Length T: 6 Return: -5.000 ======\n",
      "====== Total T: 5504 Episode Num: 113 Episode_Length T: 7 Return: -6.000 ======\n",
      "====== Total T: 5513 Episode Num: 114 Episode_Length T: 9 Return: -8.000 ======\n",
      "====== Total T: 5519 Episode Num: 115 Episode_Length T: 6 Return: -5.000 ======\n",
      "====== Total T: 5525 Episode Num: 116 Episode_Length T: 6 Return: -5.000 ======\n",
      "====== Total T: 5531 Episode Num: 117 Episode_Length T: 6 Return: -5.000 ======\n",
      "====== Total T: 5541 Episode Num: 118 Episode_Length T: 10 Return: -9.000 ======\n",
      "====== Total T: 5548 Episode Num: 119 Episode_Length T: 7 Return: -6.000 ======\n",
      "====== Total T: 5553 Episode Num: 120 Episode_Length T: 5 Return: -4.000 ======\n",
      "====== Total T: 5558 Episode Num: 121 Episode_Length T: 5 Return: -4.000 ======\n",
      "====== Total T: 5568 Episode Num: 122 Episode_Length T: 10 Return: -9.000 ======\n",
      "====== Total T: 5574 Episode Num: 123 Episode_Length T: 6 Return: -5.000 ======\n",
      "====== Total T: 5578 Episode Num: 124 Episode_Length T: 4 Return: -3.000 ======\n",
      "====== Total T: 5584 Episode Num: 125 Episode_Length T: 6 Return: -5.000 ======\n",
      "====== Total T: 5591 Episode Num: 126 Episode_Length T: 7 Return: -6.000 ======\n",
      "====== Total T: 5602 Episode Num: 127 Episode_Length T: 11 Return: -10.000 ======\n",
      "====== Total T: 5615 Episode Num: 128 Episode_Length T: 13 Return: -12.000 ======\n",
      "====== Total T: 5621 Episode Num: 129 Episode_Length T: 6 Return: -5.000 ======\n",
      "====== Total T: 5632 Episode Num: 130 Episode_Length T: 11 Return: -10.000 ======\n",
      "====== Total T: 5638 Episode Num: 131 Episode_Length T: 6 Return: -5.000 ======\n",
      "====== Total T: 5647 Episode Num: 132 Episode_Length T: 9 Return: -8.000 ======\n",
      "====== Total T: 5652 Episode Num: 133 Episode_Length T: 5 Return: -4.000 ======\n",
      "====== Total T: 5653 Episode Num: 134 Episode_Length T: 1 Return: 0.000 ======\n",
      "====== Total T: 5664 Episode Num: 135 Episode_Length T: 11 Return: -10.000 ======\n",
      "====== Total T: 5671 Episode Num: 136 Episode_Length T: 7 Return: -6.000 ======\n",
      "====== Total T: 5675 Episode Num: 137 Episode_Length T: 4 Return: -3.000 ======\n",
      "====== Total T: 5684 Episode Num: 138 Episode_Length T: 9 Return: -8.000 ======\n",
      "====== Total T: 5687 Episode Num: 139 Episode_Length T: 3 Return: -2.000 ======\n",
      "====== Total T: 5688 Episode Num: 140 Episode_Length T: 1 Return: 0.000 ======\n",
      "====== Total T: 5693 Episode Num: 141 Episode_Length T: 5 Return: -4.000 ======\n",
      "====== Total T: 5695 Episode Num: 142 Episode_Length T: 2 Return: -1.000 ======\n",
      "====== Total T: 5703 Episode Num: 143 Episode_Length T: 8 Return: -7.000 ======\n",
      "====== Total T: 5707 Episode Num: 144 Episode_Length T: 4 Return: -3.000 ======\n",
      "====== Total T: 5710 Episode Num: 145 Episode_Length T: 3 Return: -2.000 ======\n",
      "====== Total T: 5714 Episode Num: 146 Episode_Length T: 4 Return: -3.000 ======\n",
      "====== Total T: 5723 Episode Num: 147 Episode_Length T: 9 Return: -8.000 ======\n",
      "====== Total T: 5730 Episode Num: 148 Episode_Length T: 7 Return: -6.000 ======\n",
      "====== Total T: 5732 Episode Num: 149 Episode_Length T: 2 Return: -1.000 ======\n",
      "====== Total T: 5737 Episode Num: 150 Episode_Length T: 5 Return: -4.000 ======\n",
      "====== Total T: 5740 Episode Num: 151 Episode_Length T: 3 Return: -2.000 ======\n",
      "====== Total T: 5745 Episode Num: 152 Episode_Length T: 5 Return: -4.000 ======\n",
      "====== Total T: 5751 Episode Num: 153 Episode_Length T: 6 Return: -5.000 ======\n",
      "====== Total T: 5759 Episode Num: 154 Episode_Length T: 8 Return: -7.000 ======\n",
      "====== Total T: 5763 Episode Num: 155 Episode_Length T: 4 Return: -3.000 ======\n",
      "====== Total T: 5764 Episode Num: 156 Episode_Length T: 1 Return: 0.000 ======\n",
      "====== Total T: 5778 Episode Num: 157 Episode_Length T: 14 Return: -13.000 ======\n",
      "====== Total T: 5780 Episode Num: 158 Episode_Length T: 2 Return: -1.000 ======\n",
      "====== Total T: 5783 Episode Num: 159 Episode_Length T: 3 Return: -2.000 ======\n",
      "====== Total T: 5785 Episode Num: 160 Episode_Length T: 2 Return: -1.000 ======\n",
      "====== Total T: 5788 Episode Num: 161 Episode_Length T: 3 Return: -2.000 ======\n",
      "====== Total T: 5794 Episode Num: 162 Episode_Length T: 6 Return: -5.000 ======\n",
      "====== Total T: 5801 Episode Num: 163 Episode_Length T: 7 Return: -6.000 ======\n"
     ]
    },
    {
     "name": "stderr",
     "output_type": "stream",
     "text": [
      "  3%|▎         | 5835/200000 [00:06<07:26, 435.09it/s] "
     ]
    },
    {
     "name": "stdout",
     "output_type": "stream",
     "text": [
      "====== Total T: 5811 Episode Num: 164 Episode_Length T: 10 Return: -9.000 ======\n",
      "====== Total T: 5816 Episode Num: 165 Episode_Length T: 5 Return: -4.000 ======\n",
      "====== Total T: 5823 Episode Num: 166 Episode_Length T: 7 Return: -6.000 ======\n",
      "====== Total T: 5827 Episode Num: 167 Episode_Length T: 4 Return: -3.000 ======\n",
      "====== Total T: 5832 Episode Num: 168 Episode_Length T: 5 Return: -4.000 ======\n",
      "====== Total T: 5834 Episode Num: 169 Episode_Length T: 2 Return: -1.000 ======\n",
      "====== Total T: 5836 Episode Num: 170 Episode_Length T: 2 Return: -1.000 ======\n",
      "====== Total T: 5841 Episode Num: 171 Episode_Length T: 5 Return: -4.000 ======\n",
      "====== Total T: 5843 Episode Num: 172 Episode_Length T: 2 Return: -1.000 ======\n",
      "====== Total T: 5847 Episode Num: 173 Episode_Length T: 4 Return: -3.000 ======\n",
      "====== Total T: 5850 Episode Num: 174 Episode_Length T: 3 Return: -2.000 ======\n",
      "====== Total T: 5856 Episode Num: 175 Episode_Length T: 6 Return: -5.000 ======\n",
      "====== Total T: 5861 Episode Num: 176 Episode_Length T: 5 Return: -4.000 ======\n",
      "====== Total T: 5865 Episode Num: 177 Episode_Length T: 4 Return: -3.000 ======\n",
      "====== Total T: 5872 Episode Num: 178 Episode_Length T: 7 Return: -6.000 ======\n",
      "====== Total T: 5889 Episode Num: 179 Episode_Length T: 17 Return: -16.000 ======\n",
      "====== Total T: 5897 Episode Num: 180 Episode_Length T: 8 Return: -7.000 ======\n",
      "====== Total T: 5902 Episode Num: 181 Episode_Length T: 5 Return: -4.000 ======\n",
      "====== Total T: 5909 Episode Num: 182 Episode_Length T: 7 Return: -6.000 ======\n",
      "====== Total T: 5917 Episode Num: 183 Episode_Length T: 8 Return: -7.000 ======\n",
      "====== Total T: 5920 Episode Num: 184 Episode_Length T: 3 Return: -2.000 ======\n",
      "====== Total T: 5926 Episode Num: 185 Episode_Length T: 6 Return: -5.000 ======\n",
      "====== Total T: 5940 Episode Num: 186 Episode_Length T: 14 Return: -13.000 ======\n",
      "====== Total T: 5951 Episode Num: 187 Episode_Length T: 11 Return: -10.000 ======\n",
      "====== Total T: 5962 Episode Num: 188 Episode_Length T: 11 Return: -10.000 ======\n",
      "====== Total T: 5972 Episode Num: 189 Episode_Length T: 10 Return: -9.000 ======\n",
      "====== Total T: 5980 Episode Num: 190 Episode_Length T: 8 Return: -7.000 ======\n",
      "====== Total T: 5984 Episode Num: 191 Episode_Length T: 4 Return: -3.000 ======\n",
      "====== Total T: 5991 Episode Num: 192 Episode_Length T: 7 Return: -6.000 ======\n",
      "====== Total T: 5992 Episode Num: 193 Episode_Length T: 1 Return: 0.000 ======\n",
      "====== Total T: 5996 Episode Num: 194 Episode_Length T: 4 Return: -3.000 ======\n",
      "---------------------------------------\n",
      "Evaluation over 10 episodes: -6.100\n",
      "---------------------------------------\n",
      "====== Total T: 6000 Episode Num: 195 Episode_Length T: 4 Return: -3.000 ======\n",
      "====== Total T: 6006 Episode Num: 196 Episode_Length T: 6 Return: -5.000 ======\n",
      "====== Total T: 6011 Episode Num: 197 Episode_Length T: 5 Return: -4.000 ======\n",
      "====== Total T: 6019 Episode Num: 198 Episode_Length T: 8 Return: -7.000 ======\n",
      "====== Total T: 6027 Episode Num: 199 Episode_Length T: 8 Return: -7.000 ======\n",
      "====== Total T: 6034 Episode Num: 200 Episode_Length T: 7 Return: -6.000 ======\n",
      "====== Total T: 6038 Episode Num: 201 Episode_Length T: 4 Return: -3.000 ======\n",
      "====== Total T: 6047 Episode Num: 202 Episode_Length T: 9 Return: -8.000 ======\n",
      "====== Total T: 6055 Episode Num: 203 Episode_Length T: 8 Return: -7.000 ======\n",
      "====== Total T: 6066 Episode Num: 204 Episode_Length T: 11 Return: -10.000 ======\n",
      "====== Total T: 6075 Episode Num: 205 Episode_Length T: 9 Return: -8.000 ======\n",
      "====== Total T: 6086 Episode Num: 206 Episode_Length T: 11 Return: -10.000 ======\n",
      "====== Total T: 6087 Episode Num: 207 Episode_Length T: 1 Return: 0.000 ======\n",
      "====== Total T: 6094 Episode Num: 208 Episode_Length T: 7 Return: -6.000 ======\n",
      "====== Total T: 6098 Episode Num: 209 Episode_Length T: 4 Return: -3.000 ======\n",
      "====== Total T: 6105 Episode Num: 210 Episode_Length T: 7 Return: -6.000 ======\n",
      "====== Total T: 6110 Episode Num: 211 Episode_Length T: 5 Return: -4.000 ======\n",
      "====== Total T: 6123 Episode Num: 212 Episode_Length T: 13 Return: -12.000 ======\n",
      "====== Total T: 6126 Episode Num: 213 Episode_Length T: 3 Return: -2.000 ======\n",
      "====== Total T: 6140 Episode Num: 214 Episode_Length T: 14 Return: -13.000 ======\n",
      "====== Total T: 6148 Episode Num: 215 Episode_Length T: 8 Return: -7.000 ======\n",
      "====== Total T: 6153 Episode Num: 216 Episode_Length T: 5 Return: -4.000 ======\n",
      "====== Total T: 6155 Episode Num: 217 Episode_Length T: 2 Return: -1.000 ======\n",
      "====== Total T: 6159 Episode Num: 218 Episode_Length T: 4 Return: -3.000 ======\n",
      "====== Total T: 6160 Episode Num: 219 Episode_Length T: 1 Return: 0.000 ======\n",
      "====== Total T: 6167 Episode Num: 220 Episode_Length T: 7 Return: -6.000 ======\n",
      "====== Total T: 6178 Episode Num: 221 Episode_Length T: 11 Return: -10.000 ======\n",
      "====== Total T: 6193 Episode Num: 222 Episode_Length T: 15 Return: -14.000 ======\n",
      "====== Total T: 6202 Episode Num: 223 Episode_Length T: 9 Return: -8.000 ======\n",
      "====== Total T: 6212 Episode Num: 224 Episode_Length T: 10 Return: -9.000 ======\n",
      "====== Total T: 6217 Episode Num: 225 Episode_Length T: 5 Return: -4.000 ======\n",
      "====== Total T: 6221 Episode Num: 226 Episode_Length T: 4 Return: -3.000 ======\n",
      "====== Total T: 6231 Episode Num: 227 Episode_Length T: 10 Return: -9.000 ======\n",
      "====== Total T: 6237 Episode Num: 228 Episode_Length T: 6 Return: -5.000 ======\n",
      "====== Total T: 6250 Episode Num: 229 Episode_Length T: 13 Return: -12.000 ======\n",
      "====== Total T: 6257 Episode Num: 230 Episode_Length T: 7 Return: -6.000 ======\n",
      "====== Total T: 6266 Episode Num: 231 Episode_Length T: 9 Return: -8.000 ======\n",
      "====== Total T: 6272 Episode Num: 232 Episode_Length T: 6 Return: -5.000 ======\n",
      "====== Total T: 6276 Episode Num: 233 Episode_Length T: 4 Return: -3.000 ======\n",
      "====== Total T: 6281 Episode Num: 234 Episode_Length T: 5 Return: -4.000 ======\n",
      "====== Total T: 6285 Episode Num: 235 Episode_Length T: 4 Return: -3.000 ======\n",
      "====== Total T: 6290 Episode Num: 236 Episode_Length T: 5 Return: -4.000 ======\n",
      "====== Total T: 6301 Episode Num: 237 Episode_Length T: 11 Return: -10.000 ======\n",
      "====== Total T: 6308 Episode Num: 238 Episode_Length T: 7 Return: -6.000 ======\n",
      "====== Total T: 6314 Episode Num: 239 Episode_Length T: 6 Return: -5.000 ======\n",
      "====== Total T: 6328 Episode Num: 240 Episode_Length T: 14 Return: -13.000 ======\n",
      "====== Total T: 6332 Episode Num: 241 Episode_Length T: 4 Return: -3.000 ======\n",
      "====== Total T: 6335 Episode Num: 242 Episode_Length T: 3 Return: -2.000 ======\n",
      "====== Total T: 6337 Episode Num: 243 Episode_Length T: 2 Return: -1.000 ======\n",
      "====== Total T: 6344 Episode Num: 244 Episode_Length T: 7 Return: -6.000 ======\n",
      "====== Total T: 6352 Episode Num: 245 Episode_Length T: 8 Return: -7.000 ======\n",
      "====== Total T: 6360 Episode Num: 246 Episode_Length T: 8 Return: -7.000 ======\n"
     ]
    },
    {
     "name": "stderr",
     "output_type": "stream",
     "text": [
      "  3%|▎         | 6391/200000 [00:10<11:09, 289.05it/s]"
     ]
    },
    {
     "name": "stdout",
     "output_type": "stream",
     "text": [
      "====== Total T: 6369 Episode Num: 247 Episode_Length T: 9 Return: -8.000 ======\n",
      "====== Total T: 6374 Episode Num: 248 Episode_Length T: 5 Return: -4.000 ======\n",
      "====== Total T: 6381 Episode Num: 249 Episode_Length T: 7 Return: -6.000 ======\n",
      "====== Total T: 6386 Episode Num: 250 Episode_Length T: 5 Return: -4.000 ======\n",
      "====== Total T: 6397 Episode Num: 251 Episode_Length T: 11 Return: -10.000 ======\n",
      "====== Total T: 6401 Episode Num: 252 Episode_Length T: 4 Return: -3.000 ======\n",
      "====== Total T: 6408 Episode Num: 253 Episode_Length T: 7 Return: -6.000 ======\n",
      "====== Total T: 6415 Episode Num: 254 Episode_Length T: 7 Return: -6.000 ======\n",
      "====== Total T: 6421 Episode Num: 255 Episode_Length T: 6 Return: -5.000 ======\n",
      "====== Total T: 6429 Episode Num: 256 Episode_Length T: 8 Return: -7.000 ======\n",
      "====== Total T: 6441 Episode Num: 257 Episode_Length T: 12 Return: -11.000 ======\n",
      "====== Total T: 6443 Episode Num: 258 Episode_Length T: 2 Return: -1.000 ======\n",
      "====== Total T: 6447 Episode Num: 259 Episode_Length T: 4 Return: -3.000 ======\n",
      "====== Total T: 6450 Episode Num: 260 Episode_Length T: 3 Return: -2.000 ======\n",
      "====== Total T: 6455 Episode Num: 261 Episode_Length T: 5 Return: -4.000 ======\n",
      "====== Total T: 6456 Episode Num: 262 Episode_Length T: 1 Return: 0.000 ======\n",
      "====== Total T: 6472 Episode Num: 263 Episode_Length T: 16 Return: -15.000 ======\n",
      "====== Total T: 6485 Episode Num: 264 Episode_Length T: 13 Return: -12.000 ======\n",
      "====== Total T: 6488 Episode Num: 265 Episode_Length T: 3 Return: -2.000 ======\n",
      "====== Total T: 6493 Episode Num: 266 Episode_Length T: 5 Return: -4.000 ======\n",
      "====== Total T: 6496 Episode Num: 267 Episode_Length T: 3 Return: -2.000 ======\n",
      "====== Total T: 6506 Episode Num: 268 Episode_Length T: 10 Return: -9.000 ======\n",
      "====== Total T: 6509 Episode Num: 269 Episode_Length T: 3 Return: -2.000 ======\n",
      "====== Total T: 6515 Episode Num: 270 Episode_Length T: 6 Return: -5.000 ======\n",
      "====== Total T: 6522 Episode Num: 271 Episode_Length T: 7 Return: -6.000 ======\n",
      "====== Total T: 6530 Episode Num: 272 Episode_Length T: 8 Return: -7.000 ======\n",
      "====== Total T: 6542 Episode Num: 273 Episode_Length T: 12 Return: -11.000 ======\n",
      "====== Total T: 6552 Episode Num: 274 Episode_Length T: 10 Return: -9.000 ======\n",
      "====== Total T: 6561 Episode Num: 275 Episode_Length T: 9 Return: -8.000 ======\n",
      "====== Total T: 6568 Episode Num: 276 Episode_Length T: 7 Return: -6.000 ======\n",
      "====== Total T: 6573 Episode Num: 277 Episode_Length T: 5 Return: -4.000 ======\n",
      "====== Total T: 6578 Episode Num: 278 Episode_Length T: 5 Return: -4.000 ======\n",
      "====== Total T: 6582 Episode Num: 279 Episode_Length T: 4 Return: -3.000 ======\n",
      "====== Total T: 6584 Episode Num: 280 Episode_Length T: 2 Return: -1.000 ======\n",
      "====== Total T: 6595 Episode Num: 281 Episode_Length T: 11 Return: -10.000 ======\n",
      "====== Total T: 6601 Episode Num: 282 Episode_Length T: 6 Return: -5.000 ======\n",
      "====== Total T: 6614 Episode Num: 283 Episode_Length T: 13 Return: -12.000 ======\n",
      "====== Total T: 6625 Episode Num: 284 Episode_Length T: 11 Return: -10.000 ======\n",
      "====== Total T: 6633 Episode Num: 285 Episode_Length T: 8 Return: -7.000 ======\n",
      "====== Total T: 6641 Episode Num: 286 Episode_Length T: 8 Return: -7.000 ======\n",
      "====== Total T: 6649 Episode Num: 287 Episode_Length T: 8 Return: -7.000 ======\n",
      "====== Total T: 6652 Episode Num: 288 Episode_Length T: 3 Return: -2.000 ======\n",
      "====== Total T: 6658 Episode Num: 289 Episode_Length T: 6 Return: -5.000 ======\n",
      "====== Total T: 6665 Episode Num: 290 Episode_Length T: 7 Return: -6.000 ======\n",
      "====== Total T: 6674 Episode Num: 291 Episode_Length T: 9 Return: -8.000 ======\n",
      "====== Total T: 6685 Episode Num: 292 Episode_Length T: 11 Return: -10.000 ======\n",
      "====== Total T: 6687 Episode Num: 293 Episode_Length T: 2 Return: -1.000 ======\n",
      "====== Total T: 6693 Episode Num: 294 Episode_Length T: 6 Return: -5.000 ======\n",
      "====== Total T: 6695 Episode Num: 295 Episode_Length T: 2 Return: -1.000 ======\n",
      "====== Total T: 6699 Episode Num: 296 Episode_Length T: 4 Return: -3.000 ======\n",
      "====== Total T: 6703 Episode Num: 297 Episode_Length T: 4 Return: -3.000 ======\n",
      "====== Total T: 6712 Episode Num: 298 Episode_Length T: 9 Return: -8.000 ======\n",
      "====== Total T: 6717 Episode Num: 299 Episode_Length T: 5 Return: -4.000 ======\n",
      "====== Total T: 6721 Episode Num: 300 Episode_Length T: 4 Return: -3.000 ======\n",
      "====== Total T: 6727 Episode Num: 301 Episode_Length T: 6 Return: -5.000 ======\n",
      "====== Total T: 6734 Episode Num: 302 Episode_Length T: 7 Return: -6.000 ======\n",
      "====== Total T: 6737 Episode Num: 303 Episode_Length T: 3 Return: -2.000 ======\n",
      "====== Total T: 6743 Episode Num: 304 Episode_Length T: 6 Return: -5.000 ======\n",
      "====== Total T: 6751 Episode Num: 305 Episode_Length T: 8 Return: -7.000 ======\n",
      "====== Total T: 6755 Episode Num: 306 Episode_Length T: 4 Return: -3.000 ======\n",
      "====== Total T: 6766 Episode Num: 307 Episode_Length T: 11 Return: -10.000 ======\n"
     ]
    },
    {
     "name": "stderr",
     "output_type": "stream",
     "text": [
      "  3%|▎         | 6770/200000 [00:13<13:25, 239.91it/s]"
     ]
    },
    {
     "name": "stdout",
     "output_type": "stream",
     "text": [
      "====== Total T: 6772 Episode Num: 308 Episode_Length T: 6 Return: -5.000 ======\n",
      "====== Total T: 6783 Episode Num: 309 Episode_Length T: 11 Return: -10.000 ======\n",
      "====== Total T: 6788 Episode Num: 310 Episode_Length T: 5 Return: -4.000 ======\n",
      "====== Total T: 6794 Episode Num: 311 Episode_Length T: 6 Return: -5.000 ======\n",
      "====== Total T: 6801 Episode Num: 312 Episode_Length T: 7 Return: -6.000 ======\n",
      "====== Total T: 6806 Episode Num: 313 Episode_Length T: 5 Return: -4.000 ======\n",
      "====== Total T: 6815 Episode Num: 314 Episode_Length T: 9 Return: -8.000 ======\n",
      "====== Total T: 6821 Episode Num: 315 Episode_Length T: 6 Return: -5.000 ======\n",
      "====== Total T: 6825 Episode Num: 316 Episode_Length T: 4 Return: -3.000 ======\n",
      "====== Total T: 6832 Episode Num: 317 Episode_Length T: 7 Return: -6.000 ======\n",
      "====== Total T: 6834 Episode Num: 318 Episode_Length T: 2 Return: -1.000 ======\n",
      "====== Total T: 6842 Episode Num: 319 Episode_Length T: 8 Return: -7.000 ======\n",
      "====== Total T: 6850 Episode Num: 320 Episode_Length T: 8 Return: -7.000 ======\n",
      "====== Total T: 6853 Episode Num: 321 Episode_Length T: 3 Return: -2.000 ======\n",
      "====== Total T: 6860 Episode Num: 322 Episode_Length T: 7 Return: -6.000 ======\n",
      "====== Total T: 6863 Episode Num: 323 Episode_Length T: 3 Return: -2.000 ======\n",
      "====== Total T: 6871 Episode Num: 324 Episode_Length T: 8 Return: -7.000 ======\n",
      "====== Total T: 6873 Episode Num: 325 Episode_Length T: 2 Return: -1.000 ======\n",
      "====== Total T: 6881 Episode Num: 326 Episode_Length T: 8 Return: -7.000 ======\n",
      "====== Total T: 6888 Episode Num: 327 Episode_Length T: 7 Return: -6.000 ======\n",
      "====== Total T: 6891 Episode Num: 328 Episode_Length T: 3 Return: -2.000 ======\n",
      "====== Total T: 6903 Episode Num: 329 Episode_Length T: 12 Return: -11.000 ======\n",
      "====== Total T: 6911 Episode Num: 330 Episode_Length T: 8 Return: -7.000 ======\n",
      "====== Total T: 6922 Episode Num: 331 Episode_Length T: 11 Return: -10.000 ======\n",
      "====== Total T: 6929 Episode Num: 332 Episode_Length T: 7 Return: -6.000 ======\n",
      "====== Total T: 6934 Episode Num: 333 Episode_Length T: 5 Return: -4.000 ======\n",
      "====== Total T: 6938 Episode Num: 334 Episode_Length T: 4 Return: -3.000 ======\n",
      "====== Total T: 6947 Episode Num: 335 Episode_Length T: 9 Return: -8.000 ======\n",
      "====== Total T: 6952 Episode Num: 336 Episode_Length T: 5 Return: -4.000 ======\n",
      "====== Total T: 6957 Episode Num: 337 Episode_Length T: 5 Return: -4.000 ======\n",
      "====== Total T: 6963 Episode Num: 338 Episode_Length T: 6 Return: -5.000 ======\n",
      "====== Total T: 6974 Episode Num: 339 Episode_Length T: 11 Return: -10.000 ======\n",
      "====== Total T: 6983 Episode Num: 340 Episode_Length T: 9 Return: -8.000 ======\n",
      "====== Total T: 6996 Episode Num: 341 Episode_Length T: 13 Return: -12.000 ======\n",
      "---------------------------------------\n",
      "Evaluation over 10 episodes: -5.500\n",
      "---------------------------------------\n",
      "====== Total T: 7005 Episode Num: 342 Episode_Length T: 9 Return: -8.000 ======\n",
      "====== Total T: 7014 Episode Num: 343 Episode_Length T: 9 Return: -8.000 ======\n",
      "====== Total T: 7023 Episode Num: 344 Episode_Length T: 9 Return: -8.000 ======\n"
     ]
    },
    {
     "name": "stderr",
     "output_type": "stream",
     "text": [
      "  4%|▎         | 7033/200000 [00:15<15:02, 213.91it/s]"
     ]
    },
    {
     "name": "stdout",
     "output_type": "stream",
     "text": [
      "====== Total T: 7036 Episode Num: 345 Episode_Length T: 13 Return: -12.000 ======\n",
      "====== Total T: 7049 Episode Num: 346 Episode_Length T: 13 Return: -12.000 ======\n",
      "====== Total T: 7053 Episode Num: 347 Episode_Length T: 4 Return: -3.000 ======\n",
      "====== Total T: 7063 Episode Num: 348 Episode_Length T: 10 Return: -9.000 ======\n",
      "====== Total T: 7066 Episode Num: 349 Episode_Length T: 3 Return: -2.000 ======\n",
      "====== Total T: 7079 Episode Num: 350 Episode_Length T: 13 Return: -12.000 ======\n",
      "====== Total T: 7087 Episode Num: 351 Episode_Length T: 8 Return: -7.000 ======\n",
      "====== Total T: 7095 Episode Num: 352 Episode_Length T: 8 Return: -7.000 ======\n",
      "====== Total T: 7097 Episode Num: 353 Episode_Length T: 2 Return: -1.000 ======\n",
      "====== Total T: 7105 Episode Num: 354 Episode_Length T: 8 Return: -7.000 ======\n",
      "====== Total T: 7110 Episode Num: 355 Episode_Length T: 5 Return: -4.000 ======\n",
      "====== Total T: 7115 Episode Num: 356 Episode_Length T: 5 Return: -4.000 ======\n",
      "====== Total T: 7123 Episode Num: 357 Episode_Length T: 8 Return: -7.000 ======\n",
      "====== Total T: 7134 Episode Num: 358 Episode_Length T: 11 Return: -10.000 ======\n",
      "====== Total T: 7147 Episode Num: 359 Episode_Length T: 13 Return: -12.000 ======\n",
      "====== Total T: 7155 Episode Num: 360 Episode_Length T: 8 Return: -7.000 ======\n",
      "====== Total T: 7160 Episode Num: 361 Episode_Length T: 5 Return: -4.000 ======\n",
      "====== Total T: 7166 Episode Num: 362 Episode_Length T: 6 Return: -5.000 ======\n",
      "====== Total T: 7174 Episode Num: 363 Episode_Length T: 8 Return: -7.000 ======\n",
      "====== Total T: 7181 Episode Num: 364 Episode_Length T: 7 Return: -6.000 ======\n",
      "====== Total T: 7185 Episode Num: 365 Episode_Length T: 4 Return: -3.000 ======\n",
      "====== Total T: 7191 Episode Num: 366 Episode_Length T: 6 Return: -5.000 ======\n",
      "====== Total T: 7199 Episode Num: 367 Episode_Length T: 8 Return: -7.000 ======\n",
      "====== Total T: 7209 Episode Num: 368 Episode_Length T: 10 Return: -9.000 ======\n",
      "====== Total T: 7211 Episode Num: 369 Episode_Length T: 2 Return: -1.000 ======\n"
     ]
    },
    {
     "name": "stderr",
     "output_type": "stream",
     "text": [
      "  4%|▎         | 7218/200000 [00:17<16:07, 199.29it/s]"
     ]
    },
    {
     "name": "stdout",
     "output_type": "stream",
     "text": [
      "====== Total T: 7219 Episode Num: 370 Episode_Length T: 8 Return: -7.000 ======\n",
      "====== Total T: 7225 Episode Num: 371 Episode_Length T: 6 Return: -5.000 ======\n",
      "====== Total T: 7235 Episode Num: 372 Episode_Length T: 10 Return: -9.000 ======\n",
      "====== Total T: 7244 Episode Num: 373 Episode_Length T: 9 Return: -8.000 ======\n",
      "====== Total T: 7255 Episode Num: 374 Episode_Length T: 11 Return: -10.000 ======\n",
      "====== Total T: 7259 Episode Num: 375 Episode_Length T: 4 Return: -3.000 ======\n",
      "====== Total T: 7263 Episode Num: 376 Episode_Length T: 4 Return: -3.000 ======\n",
      "====== Total T: 7266 Episode Num: 377 Episode_Length T: 3 Return: -2.000 ======\n",
      "====== Total T: 7275 Episode Num: 378 Episode_Length T: 9 Return: -8.000 ======\n",
      "====== Total T: 7280 Episode Num: 379 Episode_Length T: 5 Return: -4.000 ======\n",
      "====== Total T: 7288 Episode Num: 380 Episode_Length T: 8 Return: -7.000 ======\n",
      "====== Total T: 7293 Episode Num: 381 Episode_Length T: 5 Return: -4.000 ======\n",
      "====== Total T: 7298 Episode Num: 382 Episode_Length T: 5 Return: -4.000 ======\n",
      "====== Total T: 7303 Episode Num: 383 Episode_Length T: 5 Return: -4.000 ======\n",
      "====== Total T: 7310 Episode Num: 384 Episode_Length T: 7 Return: -6.000 ======\n",
      "====== Total T: 7316 Episode Num: 385 Episode_Length T: 6 Return: -5.000 ======\n",
      "====== Total T: 7318 Episode Num: 386 Episode_Length T: 2 Return: -1.000 ======\n",
      "====== Total T: 7322 Episode Num: 387 Episode_Length T: 4 Return: -3.000 ======\n",
      "====== Total T: 7331 Episode Num: 388 Episode_Length T: 9 Return: -8.000 ======\n",
      "====== Total T: 7335 Episode Num: 389 Episode_Length T: 4 Return: -3.000 ======\n",
      "====== Total T: 7340 Episode Num: 390 Episode_Length T: 5 Return: -4.000 ======\n",
      "====== Total T: 7344 Episode Num: 391 Episode_Length T: 4 Return: -3.000 ======"
     ]
    },
    {
     "name": "stderr",
     "output_type": "stream",
     "text": [
      "  4%|▎         | 7350/200000 [00:18<16:59, 188.95it/s]"
     ]
    },
    {
     "name": "stdout",
     "output_type": "stream",
     "text": [
      "\n",
      "====== Total T: 7348 Episode Num: 392 Episode_Length T: 4 Return: -3.000 ======\n",
      "====== Total T: 7352 Episode Num: 393 Episode_Length T: 4 Return: -3.000 ======\n",
      "====== Total T: 7358 Episode Num: 394 Episode_Length T: 6 Return: -5.000 ======\n",
      "====== Total T: 7366 Episode Num: 395 Episode_Length T: 8 Return: -7.000 ======\n",
      "====== Total T: 7368 Episode Num: 396 Episode_Length T: 2 Return: -1.000 ======\n",
      "====== Total T: 7372 Episode Num: 397 Episode_Length T: 4 Return: -3.000 ======\n",
      "====== Total T: 7379 Episode Num: 398 Episode_Length T: 7 Return: -6.000 ======\n",
      "====== Total T: 7389 Episode Num: 399 Episode_Length T: 10 Return: -9.000 ======\n",
      "====== Total T: 7401 Episode Num: 400 Episode_Length T: 12 Return: -11.000 ======\n",
      "====== Total T: 7407 Episode Num: 401 Episode_Length T: 6 Return: -5.000 ======\n",
      "====== Total T: 7413 Episode Num: 402 Episode_Length T: 6 Return: -5.000 ======\n",
      "====== Total T: 7414 Episode Num: 403 Episode_Length T: 1 Return: 0.000 ======\n",
      "====== Total T: 7421 Episode Num: 404 Episode_Length T: 7 Return: -6.000 ======\n",
      "====== Total T: 7429 Episode Num: 405 Episode_Length T: 8 Return: -7.000 ======\n"
     ]
    },
    {
     "name": "stderr",
     "output_type": "stream",
     "text": [
      "  4%|▎         | 7446/200000 [00:18<17:43, 181.09it/s]"
     ]
    },
    {
     "name": "stdout",
     "output_type": "stream",
     "text": [
      "====== Total T: 7435 Episode Num: 406 Episode_Length T: 6 Return: -5.000 ======\n",
      "====== Total T: 7439 Episode Num: 407 Episode_Length T: 4 Return: -3.000 ======\n",
      "====== Total T: 7451 Episode Num: 408 Episode_Length T: 12 Return: -11.000 ======\n",
      "====== Total T: 7459 Episode Num: 409 Episode_Length T: 8 Return: -7.000 ======\n",
      "====== Total T: 7469 Episode Num: 410 Episode_Length T: 10 Return: -9.000 ======\n",
      "====== Total T: 7475 Episode Num: 411 Episode_Length T: 6 Return: -5.000 ======\n",
      "====== Total T: 7484 Episode Num: 412 Episode_Length T: 9 Return: -8.000 ======\n",
      "====== Total T: 7493 Episode Num: 413 Episode_Length T: 9 Return: -8.000 ======\n",
      "====== Total T: 7495 Episode Num: 414 Episode_Length T: 2 Return: -1.000 ======\n"
     ]
    },
    {
     "name": "stderr",
     "output_type": "stream",
     "text": [
      "  4%|▍         | 7517/200000 [00:19<18:20, 174.95it/s]"
     ]
    },
    {
     "name": "stdout",
     "output_type": "stream",
     "text": [
      "====== Total T: 7500 Episode Num: 415 Episode_Length T: 5 Return: -4.000 ======\n",
      "====== Total T: 7504 Episode Num: 416 Episode_Length T: 4 Return: -3.000 ======\n",
      "====== Total T: 7512 Episode Num: 417 Episode_Length T: 8 Return: -7.000 ======\n",
      "====== Total T: 7524 Episode Num: 418 Episode_Length T: 12 Return: -11.000 ======\n",
      "====== Total T: 7528 Episode Num: 419 Episode_Length T: 4 Return: -3.000 ======\n",
      "====== Total T: 7529 Episode Num: 420 Episode_Length T: 1 Return: 0.000 ======\n",
      "====== Total T: 7541 Episode Num: 421 Episode_Length T: 12 Return: -11.000 ======\n",
      "====== Total T: 7545 Episode Num: 422 Episode_Length T: 4 Return: -3.000 ======\n",
      "====== Total T: 7547 Episode Num: 423 Episode_Length T: 2 Return: -1.000 ======\n",
      "====== Total T: 7555 Episode Num: 424 Episode_Length T: 8 Return: -7.000 ======\n"
     ]
    },
    {
     "name": "stderr",
     "output_type": "stream",
     "text": [
      "  4%|▍         | 7571/200000 [00:19<18:50, 170.15it/s]"
     ]
    },
    {
     "name": "stdout",
     "output_type": "stream",
     "text": [
      "====== Total T: 7565 Episode Num: 425 Episode_Length T: 10 Return: -9.000 ======\n",
      "====== Total T: 7568 Episode Num: 426 Episode_Length T: 3 Return: -2.000 ======\n",
      "====== Total T: 7580 Episode Num: 427 Episode_Length T: 12 Return: -11.000 ======\n",
      "====== Total T: 7583 Episode Num: 428 Episode_Length T: 3 Return: -2.000 ======\n",
      "====== Total T: 7590 Episode Num: 429 Episode_Length T: 7 Return: -6.000 ======\n"
     ]
    },
    {
     "name": "stderr",
     "output_type": "stream",
     "text": [
      "  4%|▍         | 7613/200000 [00:20<19:17, 166.22it/s]"
     ]
    },
    {
     "name": "stdout",
     "output_type": "stream",
     "text": [
      "====== Total T: 7595 Episode Num: 430 Episode_Length T: 5 Return: -4.000 ======\n",
      "====== Total T: 7600 Episode Num: 431 Episode_Length T: 5 Return: -4.000 ======\n",
      "====== Total T: 7603 Episode Num: 432 Episode_Length T: 3 Return: -2.000 ======\n",
      "====== Total T: 7612 Episode Num: 433 Episode_Length T: 9 Return: -8.000 ======\n",
      "====== Total T: 7616 Episode Num: 434 Episode_Length T: 4 Return: -3.000 ======\n",
      "====== Total T: 7618 Episode Num: 435 Episode_Length T: 2 Return: -1.000 ======\n"
     ]
    },
    {
     "name": "stderr",
     "output_type": "stream",
     "text": [
      "  4%|▍         | 7647/200000 [00:20<19:47, 162.01it/s]"
     ]
    },
    {
     "name": "stdout",
     "output_type": "stream",
     "text": [
      "====== Total T: 7629 Episode Num: 436 Episode_Length T: 11 Return: -10.000 ======\n",
      "====== Total T: 7634 Episode Num: 437 Episode_Length T: 5 Return: -4.000 ======\n",
      "====== Total T: 7639 Episode Num: 438 Episode_Length T: 5 Return: -4.000 ======\n",
      "====== Total T: 7642 Episode Num: 439 Episode_Length T: 3 Return: -2.000 ======\n",
      "====== Total T: 7645 Episode Num: 440 Episode_Length T: 3 Return: -2.000 ======\n"
     ]
    },
    {
     "name": "stderr",
     "output_type": "stream",
     "text": [
      "  4%|▍         | 7675/200000 [00:20<20:14, 158.29it/s]"
     ]
    },
    {
     "name": "stdout",
     "output_type": "stream",
     "text": [
      "====== Total T: 7657 Episode Num: 441 Episode_Length T: 12 Return: -11.000 ======\n",
      "====== Total T: 7665 Episode Num: 442 Episode_Length T: 8 Return: -7.000 ======\n",
      "====== Total T: 7672 Episode Num: 443 Episode_Length T: 7 Return: -6.000 ======\n",
      "====== Total T: 7677 Episode Num: 444 Episode_Length T: 5 Return: -4.000 ======\n",
      "====== Total T: 7683 Episode Num: 445 Episode_Length T: 6 Return: -5.000 ======\n"
     ]
    },
    {
     "name": "stderr",
     "output_type": "stream",
     "text": [
      "  4%|▍         | 7698/200000 [00:20<20:36, 155.56it/s]"
     ]
    },
    {
     "name": "stdout",
     "output_type": "stream",
     "text": [
      "====== Total T: 7687 Episode Num: 446 Episode_Length T: 4 Return: -3.000 ======\n",
      "====== Total T: 7688 Episode Num: 447 Episode_Length T: 1 Return: 0.000 ======\n",
      "====== Total T: 7695 Episode Num: 448 Episode_Length T: 7 Return: -6.000 ======\n",
      "====== Total T: 7701 Episode Num: 449 Episode_Length T: 6 Return: -5.000 ======\n",
      "====== Total T: 7710 Episode Num: 450 Episode_Length T: 9 Return: -8.000 ======\n"
     ]
    },
    {
     "name": "stderr",
     "output_type": "stream",
     "text": [
      "  4%|▍         | 7738/200000 [00:20<21:18, 150.33it/s]"
     ]
    },
    {
     "name": "stdout",
     "output_type": "stream",
     "text": [
      "====== Total T: 7720 Episode Num: 451 Episode_Length T: 10 Return: -9.000 ======\n",
      "====== Total T: 7725 Episode Num: 452 Episode_Length T: 5 Return: -4.000 ======\n",
      "====== Total T: 7729 Episode Num: 453 Episode_Length T: 4 Return: -3.000 ======\n",
      "====== Total T: 7740 Episode Num: 454 Episode_Length T: 11 Return: -10.000 ======\n"
     ]
    },
    {
     "name": "stderr",
     "output_type": "stream",
     "text": [
      "  4%|▍         | 7771/200000 [00:21<21:55, 146.08it/s]"
     ]
    },
    {
     "name": "stdout",
     "output_type": "stream",
     "text": [
      "====== Total T: 7750 Episode Num: 455 Episode_Length T: 10 Return: -9.000 ======\n",
      "====== Total T: 7755 Episode Num: 456 Episode_Length T: 5 Return: -4.000 ======\n",
      "====== Total T: 7760 Episode Num: 457 Episode_Length T: 5 Return: -4.000 ======\n",
      "====== Total T: 7766 Episode Num: 458 Episode_Length T: 6 Return: -5.000 ======\n",
      "====== Total T: 7776 Episode Num: 459 Episode_Length T: 10 Return: -9.000 ======\n"
     ]
    },
    {
     "name": "stderr",
     "output_type": "stream",
     "text": [
      "  4%|▍         | 7802/200000 [00:21<22:34, 141.85it/s]"
     ]
    },
    {
     "name": "stdout",
     "output_type": "stream",
     "text": [
      "====== Total T: 7783 Episode Num: 460 Episode_Length T: 7 Return: -6.000 ======\n",
      "====== Total T: 7791 Episode Num: 461 Episode_Length T: 8 Return: -7.000 ======\n",
      "====== Total T: 7797 Episode Num: 462 Episode_Length T: 6 Return: -5.000 ======\n",
      "====== Total T: 7803 Episode Num: 463 Episode_Length T: 6 Return: -5.000 ======\n"
     ]
    },
    {
     "name": "stderr",
     "output_type": "stream",
     "text": [
      "  4%|▍         | 7832/200000 [00:21<23:03, 138.86it/s]"
     ]
    },
    {
     "name": "stdout",
     "output_type": "stream",
     "text": [
      "====== Total T: 7812 Episode Num: 464 Episode_Length T: 9 Return: -8.000 ======\n",
      "====== Total T: 7820 Episode Num: 465 Episode_Length T: 8 Return: -7.000 ======\n",
      "====== Total T: 7824 Episode Num: 466 Episode_Length T: 4 Return: -3.000 ======\n",
      "====== Total T: 7826 Episode Num: 467 Episode_Length T: 2 Return: -1.000 ======\n",
      "====== Total T: 7828 Episode Num: 468 Episode_Length T: 2 Return: -1.000 ======\n",
      "====== Total T: 7833 Episode Num: 469 Episode_Length T: 5 Return: -4.000 ======\n",
      "====== Total T: 7834 Episode Num: 470 Episode_Length T: 1 Return: 0.000 ======\n",
      "====== Total T: 7838 Episode Num: 471 Episode_Length T: 4 Return: -3.000 ======\n"
     ]
    },
    {
     "name": "stderr",
     "output_type": "stream",
     "text": [
      "  4%|▍         | 7860/200000 [00:21<23:25, 136.72it/s]"
     ]
    },
    {
     "name": "stdout",
     "output_type": "stream",
     "text": [
      "====== Total T: 7841 Episode Num: 472 Episode_Length T: 3 Return: -2.000 ======\n",
      "====== Total T: 7843 Episode Num: 473 Episode_Length T: 2 Return: -1.000 ======\n",
      "====== Total T: 7853 Episode Num: 474 Episode_Length T: 10 Return: -9.000 ======\n",
      "====== Total T: 7861 Episode Num: 475 Episode_Length T: 8 Return: -7.000 ======\n"
     ]
    },
    {
     "name": "stderr",
     "output_type": "stream",
     "text": [
      "  4%|▍         | 7890/200000 [00:22<23:27, 136.45it/s]"
     ]
    },
    {
     "name": "stdout",
     "output_type": "stream",
     "text": [
      "====== Total T: 7869 Episode Num: 476 Episode_Length T: 8 Return: -7.000 ======\n",
      "====== Total T: 7870 Episode Num: 477 Episode_Length T: 1 Return: 0.000 ======\n",
      "====== Total T: 7880 Episode Num: 478 Episode_Length T: 10 Return: -9.000 ======\n",
      "====== Total T: 7888 Episode Num: 479 Episode_Length T: 8 Return: -7.000 ======\n"
     ]
    },
    {
     "name": "stderr",
     "output_type": "stream",
     "text": [
      "  4%|▍         | 7919/200000 [00:22<23:32, 135.95it/s]"
     ]
    },
    {
     "name": "stdout",
     "output_type": "stream",
     "text": [
      "====== Total T: 7897 Episode Num: 480 Episode_Length T: 9 Return: -8.000 ======\n",
      "====== Total T: 7905 Episode Num: 481 Episode_Length T: 8 Return: -7.000 ======\n",
      "====== Total T: 7914 Episode Num: 482 Episode_Length T: 9 Return: -8.000 ======\n"
     ]
    },
    {
     "name": "stderr",
     "output_type": "stream",
     "text": [
      "  4%|▍         | 7947/200000 [00:22<23:57, 133.59it/s]"
     ]
    },
    {
     "name": "stdout",
     "output_type": "stream",
     "text": [
      "====== Total T: 7924 Episode Num: 483 Episode_Length T: 10 Return: -9.000 ======\n",
      "====== Total T: 7929 Episode Num: 484 Episode_Length T: 5 Return: -4.000 ======\n",
      "====== Total T: 7943 Episode Num: 485 Episode_Length T: 14 Return: -13.000 ======\n"
     ]
    },
    {
     "name": "stderr",
     "output_type": "stream",
     "text": [
      "  4%|▍         | 7975/200000 [00:22<23:59, 133.38it/s]"
     ]
    },
    {
     "name": "stdout",
     "output_type": "stream",
     "text": [
      "====== Total T: 7957 Episode Num: 486 Episode_Length T: 14 Return: -13.000 ======\n",
      "====== Total T: 7959 Episode Num: 487 Episode_Length T: 2 Return: -1.000 ======\n",
      "====== Total T: 7963 Episode Num: 488 Episode_Length T: 4 Return: -3.000 ======\n",
      "====== Total T: 7971 Episode Num: 489 Episode_Length T: 8 Return: -7.000 ======\n",
      "====== Total T: 7977 Episode Num: 490 Episode_Length T: 6 Return: -5.000 ======\n",
      "====== Total T: 7984 Episode Num: 491 Episode_Length T: 7 Return: -6.000 ======\n"
     ]
    },
    {
     "name": "stderr",
     "output_type": "stream",
     "text": [
      "  4%|▍         | 8003/200000 [00:22<29:00, 110.34it/s]"
     ]
    },
    {
     "name": "stdout",
     "output_type": "stream",
     "text": [
      "====== Total T: 7989 Episode Num: 492 Episode_Length T: 5 Return: -4.000 ======\n",
      "====== Total T: 7990 Episode Num: 493 Episode_Length T: 1 Return: 0.000 ======\n",
      "====== Total T: 7992 Episode Num: 494 Episode_Length T: 2 Return: -1.000 ======\n",
      "====== Total T: 7994 Episode Num: 495 Episode_Length T: 2 Return: -1.000 ======\n",
      "====== Total T: 7997 Episode Num: 496 Episode_Length T: 3 Return: -2.000 ======\n",
      "---------------------------------------\n",
      "Evaluation over 10 episodes: -8.100\n",
      "---------------------------------------\n"
     ]
    },
    {
     "name": "stderr",
     "output_type": "stream",
     "text": [
      "  4%|▍         | 8030/200000 [00:23<26:38, 120.09it/s]"
     ]
    },
    {
     "name": "stdout",
     "output_type": "stream",
     "text": [
      "====== Total T: 8005 Episode Num: 497 Episode_Length T: 8 Return: -7.000 ======\n",
      "====== Total T: 8013 Episode Num: 498 Episode_Length T: 8 Return: -7.000 ======\n",
      "====== Total T: 8018 Episode Num: 499 Episode_Length T: 5 Return: -4.000 ======\n",
      "====== Total T: 8029 Episode Num: 500 Episode_Length T: 11 Return: -10.000 ======\n"
     ]
    },
    {
     "name": "stderr",
     "output_type": "stream",
     "text": [
      "  4%|▍         | 8057/200000 [00:23<25:17, 126.48it/s]"
     ]
    },
    {
     "name": "stdout",
     "output_type": "stream",
     "text": [
      "====== Total T: 8034 Episode Num: 501 Episode_Length T: 5 Return: -4.000 ======\n",
      "====== Total T: 8039 Episode Num: 502 Episode_Length T: 5 Return: -4.000 ======\n",
      "====== Total T: 8041 Episode Num: 503 Episode_Length T: 2 Return: -1.000 ======\n",
      "====== Total T: 8048 Episode Num: 504 Episode_Length T: 7 Return: -6.000 ======\n",
      "====== Total T: 8059 Episode Num: 505 Episode_Length T: 11 Return: -10.000 ======\n"
     ]
    },
    {
     "name": "stderr",
     "output_type": "stream",
     "text": [
      "  4%|▍         | 8085/200000 [00:23<24:51, 128.70it/s]"
     ]
    },
    {
     "name": "stdout",
     "output_type": "stream",
     "text": [
      "====== Total T: 8072 Episode Num: 506 Episode_Length T: 13 Return: -12.000 ======\n",
      "====== Total T: 8082 Episode Num: 507 Episode_Length T: 10 Return: -9.000 ======\n",
      "====== Total T: 8093 Episode Num: 508 Episode_Length T: 11 Return: -10.000 ======\n",
      "====== Total T: 8098 Episode Num: 509 Episode_Length T: 5 Return: -4.000 ======\n"
     ]
    },
    {
     "name": "stderr",
     "output_type": "stream",
     "text": [
      "  4%|▍         | 8127/200000 [00:23<24:11, 132.23it/s]"
     ]
    },
    {
     "name": "stdout",
     "output_type": "stream",
     "text": [
      "====== Total T: 8103 Episode Num: 510 Episode_Length T: 5 Return: -4.000 ======\n",
      "====== Total T: 8107 Episode Num: 511 Episode_Length T: 4 Return: -3.000 ======\n",
      "====== Total T: 8112 Episode Num: 512 Episode_Length T: 5 Return: -4.000 ======\n",
      "====== Total T: 8122 Episode Num: 513 Episode_Length T: 10 Return: -9.000 ======\n",
      "====== Total T: 8129 Episode Num: 514 Episode_Length T: 7 Return: -6.000 ======\n"
     ]
    },
    {
     "name": "stderr",
     "output_type": "stream",
     "text": [
      "  4%|▍         | 8155/200000 [00:24<24:14, 131.89it/s]"
     ]
    },
    {
     "name": "stdout",
     "output_type": "stream",
     "text": [
      "====== Total T: 8138 Episode Num: 515 Episode_Length T: 9 Return: -8.000 ======\n",
      "====== Total T: 8148 Episode Num: 516 Episode_Length T: 10 Return: -9.000 ======\n",
      "====== Total T: 8158 Episode Num: 517 Episode_Length T: 10 Return: -9.000 ======\n"
     ]
    },
    {
     "name": "stderr",
     "output_type": "stream",
     "text": [
      "  4%|▍         | 8183/200000 [00:24<24:07, 132.55it/s]"
     ]
    },
    {
     "name": "stdout",
     "output_type": "stream",
     "text": [
      "====== Total T: 8169 Episode Num: 518 Episode_Length T: 11 Return: -10.000 ======\n",
      "====== Total T: 8175 Episode Num: 519 Episode_Length T: 6 Return: -5.000 ======\n",
      "====== Total T: 8185 Episode Num: 520 Episode_Length T: 10 Return: -9.000 ======\n",
      "====== Total T: 8191 Episode Num: 521 Episode_Length T: 6 Return: -5.000 ======\n"
     ]
    },
    {
     "name": "stderr",
     "output_type": "stream",
     "text": [
      "  4%|▍         | 8225/200000 [00:24<23:52, 133.86it/s]"
     ]
    },
    {
     "name": "stdout",
     "output_type": "stream",
     "text": [
      "====== Total T: 8203 Episode Num: 522 Episode_Length T: 12 Return: -11.000 ======\n",
      "====== Total T: 8211 Episode Num: 523 Episode_Length T: 8 Return: -7.000 ======\n",
      "====== Total T: 8220 Episode Num: 524 Episode_Length T: 9 Return: -8.000 ======\n"
     ]
    },
    {
     "name": "stderr",
     "output_type": "stream",
     "text": [
      "  4%|▍         | 8255/200000 [00:24<23:37, 135.27it/s]"
     ]
    },
    {
     "name": "stdout",
     "output_type": "stream",
     "text": [
      "====== Total T: 8230 Episode Num: 525 Episode_Length T: 10 Return: -9.000 ======\n",
      "====== Total T: 8242 Episode Num: 526 Episode_Length T: 12 Return: -11.000 ======\n",
      "====== Total T: 8255 Episode Num: 527 Episode_Length T: 13 Return: -12.000 ======\n"
     ]
    },
    {
     "name": "stderr",
     "output_type": "stream",
     "text": [
      "  4%|▍         | 8285/200000 [00:25<23:35, 135.41it/s]"
     ]
    },
    {
     "name": "stdout",
     "output_type": "stream",
     "text": [
      "====== Total T: 8259 Episode Num: 528 Episode_Length T: 4 Return: -3.000 ======\n",
      "====== Total T: 8269 Episode Num: 529 Episode_Length T: 10 Return: -9.000 ======\n",
      "====== Total T: 8279 Episode Num: 530 Episode_Length T: 10 Return: -9.000 ======\n"
     ]
    },
    {
     "name": "stderr",
     "output_type": "stream",
     "text": [
      "  4%|▍         | 8313/200000 [00:25<23:31, 135.84it/s]"
     ]
    },
    {
     "name": "stdout",
     "output_type": "stream",
     "text": [
      "====== Total T: 8286 Episode Num: 531 Episode_Length T: 7 Return: -6.000 ======\n",
      "====== Total T: 8289 Episode Num: 532 Episode_Length T: 3 Return: -2.000 ======\n",
      "====== Total T: 8290 Episode Num: 533 Episode_Length T: 1 Return: 0.000 ======\n",
      "====== Total T: 8296 Episode Num: 534 Episode_Length T: 6 Return: -5.000 ======\n",
      "====== Total T: 8301 Episode Num: 535 Episode_Length T: 5 Return: -4.000 ======\n",
      "====== Total T: 8311 Episode Num: 536 Episode_Length T: 10 Return: -9.000 ======\n",
      "====== Total T: 8312 Episode Num: 537 Episode_Length T: 1 Return: 0.000 ======\n"
     ]
    },
    {
     "name": "stderr",
     "output_type": "stream",
     "text": [
      "  4%|▍         | 8341/200000 [00:25<23:36, 135.30it/s]"
     ]
    },
    {
     "name": "stdout",
     "output_type": "stream",
     "text": [
      "====== Total T: 8316 Episode Num: 538 Episode_Length T: 4 Return: -3.000 ======\n",
      "====== Total T: 8326 Episode Num: 539 Episode_Length T: 10 Return: -9.000 ======\n",
      "====== Total T: 8331 Episode Num: 540 Episode_Length T: 5 Return: -4.000 ======\n",
      "====== Total T: 8335 Episode Num: 541 Episode_Length T: 4 Return: -3.000 ======\n"
     ]
    },
    {
     "name": "stderr",
     "output_type": "stream",
     "text": [
      "  4%|▍         | 8370/200000 [00:25<23:37, 135.14it/s]"
     ]
    },
    {
     "name": "stdout",
     "output_type": "stream",
     "text": [
      "====== Total T: 8344 Episode Num: 542 Episode_Length T: 9 Return: -8.000 ======\n",
      "====== Total T: 8348 Episode Num: 543 Episode_Length T: 4 Return: -3.000 ======\n",
      "====== Total T: 8354 Episode Num: 544 Episode_Length T: 6 Return: -5.000 ======\n",
      "====== Total T: 8364 Episode Num: 545 Episode_Length T: 10 Return: -9.000 ======\n"
     ]
    },
    {
     "name": "stderr",
     "output_type": "stream",
     "text": [
      "  4%|▍         | 8384/200000 [00:25<23:45, 134.43it/s]"
     ]
    },
    {
     "name": "stdout",
     "output_type": "stream",
     "text": [
      "====== Total T: 8371 Episode Num: 546 Episode_Length T: 7 Return: -6.000 ======\n",
      "====== Total T: 8375 Episode Num: 547 Episode_Length T: 4 Return: -3.000 ======\n",
      "====== Total T: 8381 Episode Num: 548 Episode_Length T: 6 Return: -5.000 ======\n",
      "====== Total T: 8388 Episode Num: 549 Episode_Length T: 7 Return: -6.000 ======\n",
      "====== Total T: 8394 Episode Num: 550 Episode_Length T: 6 Return: -5.000 ======\n"
     ]
    },
    {
     "name": "stderr",
     "output_type": "stream",
     "text": [
      "  4%|▍         | 8426/200000 [00:26<24:17, 131.48it/s]"
     ]
    },
    {
     "name": "stdout",
     "output_type": "stream",
     "text": [
      "====== Total T: 8406 Episode Num: 551 Episode_Length T: 12 Return: -11.000 ======\n",
      "====== Total T: 8418 Episode Num: 552 Episode_Length T: 12 Return: -11.000 ======\n",
      "====== Total T: 8428 Episode Num: 553 Episode_Length T: 10 Return: -9.000 ======\n",
      "====== Total T: 8431 Episode Num: 554 Episode_Length T: 3 Return: -2.000 ======\n"
     ]
    },
    {
     "name": "stderr",
     "output_type": "stream",
     "text": [
      "  4%|▍         | 8468/200000 [00:26<24:14, 131.69it/s]"
     ]
    },
    {
     "name": "stdout",
     "output_type": "stream",
     "text": [
      "====== Total T: 8443 Episode Num: 555 Episode_Length T: 12 Return: -11.000 ======\n",
      "====== Total T: 8447 Episode Num: 556 Episode_Length T: 4 Return: -3.000 ======\n",
      "====== Total T: 8450 Episode Num: 557 Episode_Length T: 3 Return: -2.000 ======\n",
      "====== Total T: 8454 Episode Num: 558 Episode_Length T: 4 Return: -3.000 ======\n",
      "====== Total T: 8468 Episode Num: 559 Episode_Length T: 14 Return: -13.000 ======\n"
     ]
    },
    {
     "name": "stderr",
     "output_type": "stream",
     "text": [
      "  4%|▍         | 8496/200000 [00:26<24:23, 130.85it/s]"
     ]
    },
    {
     "name": "stdout",
     "output_type": "stream",
     "text": [
      "====== Total T: 8477 Episode Num: 560 Episode_Length T: 9 Return: -8.000 ======\n",
      "====== Total T: 8482 Episode Num: 561 Episode_Length T: 5 Return: -4.000 ======\n",
      "====== Total T: 8483 Episode Num: 562 Episode_Length T: 1 Return: 0.000 ======\n",
      "====== Total T: 8494 Episode Num: 563 Episode_Length T: 11 Return: -10.000 ======\n",
      "====== Total T: 8496 Episode Num: 564 Episode_Length T: 2 Return: -1.000 ======\n"
     ]
    },
    {
     "name": "stderr",
     "output_type": "stream",
     "text": [
      "  4%|▍         | 8525/200000 [00:26<23:56, 133.26it/s]"
     ]
    },
    {
     "name": "stdout",
     "output_type": "stream",
     "text": [
      "====== Total T: 8509 Episode Num: 565 Episode_Length T: 13 Return: -12.000 ======\n",
      "====== Total T: 8521 Episode Num: 566 Episode_Length T: 12 Return: -11.000 ======\n",
      "====== Total T: 8532 Episode Num: 567 Episode_Length T: 11 Return: -10.000 ======\n"
     ]
    },
    {
     "name": "stderr",
     "output_type": "stream",
     "text": [
      "  4%|▍         | 8555/200000 [00:27<23:48, 134.00it/s]"
     ]
    },
    {
     "name": "stdout",
     "output_type": "stream",
     "text": [
      "====== Total T: 8540 Episode Num: 568 Episode_Length T: 8 Return: -7.000 ======\n",
      "====== Total T: 8543 Episode Num: 569 Episode_Length T: 3 Return: -2.000 ======\n",
      "====== Total T: 8548 Episode Num: 570 Episode_Length T: 5 Return: -4.000 ======\n",
      "====== Total T: 8557 Episode Num: 571 Episode_Length T: 9 Return: -8.000 ======\n",
      "====== Total T: 8563 Episode Num: 572 Episode_Length T: 6 Return: -5.000 ======\n"
     ]
    },
    {
     "name": "stderr",
     "output_type": "stream",
     "text": [
      "  4%|▍         | 8583/200000 [00:27<23:45, 134.24it/s]"
     ]
    },
    {
     "name": "stdout",
     "output_type": "stream",
     "text": [
      "====== Total T: 8568 Episode Num: 573 Episode_Length T: 5 Return: -4.000 ======\n",
      "====== Total T: 8577 Episode Num: 574 Episode_Length T: 9 Return: -8.000 ======\n",
      "====== Total T: 8586 Episode Num: 575 Episode_Length T: 9 Return: -8.000 ======\n",
      "====== Total T: 8591 Episode Num: 576 Episode_Length T: 5 Return: -4.000 ======\n"
     ]
    },
    {
     "name": "stderr",
     "output_type": "stream",
     "text": [
      "  4%|▍         | 8625/200000 [00:27<23:38, 134.94it/s]"
     ]
    },
    {
     "name": "stdout",
     "output_type": "stream",
     "text": [
      "====== Total T: 8599 Episode Num: 577 Episode_Length T: 8 Return: -7.000 ======\n",
      "====== Total T: 8604 Episode Num: 578 Episode_Length T: 5 Return: -4.000 ======\n",
      "====== Total T: 8615 Episode Num: 579 Episode_Length T: 11 Return: -10.000 ======\n"
     ]
    },
    {
     "name": "stderr",
     "output_type": "stream",
     "text": [
      "  4%|▍         | 8653/200000 [00:27<23:25, 136.15it/s]"
     ]
    },
    {
     "name": "stdout",
     "output_type": "stream",
     "text": [
      "====== Total T: 8626 Episode Num: 580 Episode_Length T: 11 Return: -10.000 ======\n",
      "====== Total T: 8632 Episode Num: 581 Episode_Length T: 6 Return: -5.000 ======\n",
      "====== Total T: 8637 Episode Num: 582 Episode_Length T: 5 Return: -4.000 ======\n",
      "====== Total T: 8642 Episode Num: 583 Episode_Length T: 5 Return: -4.000 ======\n",
      "====== Total T: 8646 Episode Num: 584 Episode_Length T: 4 Return: -3.000 ======\n",
      "====== Total T: 8650 Episode Num: 585 Episode_Length T: 4 Return: -3.000 ======\n",
      "====== Total T: 8652 Episode Num: 586 Episode_Length T: 2 Return: -1.000 ======\n",
      "====== Total T: 8653 Episode Num: 587 Episode_Length T: 1 Return: 0.000 ======\n"
     ]
    },
    {
     "name": "stderr",
     "output_type": "stream",
     "text": [
      "  4%|▍         | 8681/200000 [00:28<24:35, 129.68it/s]"
     ]
    },
    {
     "name": "stdout",
     "output_type": "stream",
     "text": [
      "====== Total T: 8657 Episode Num: 588 Episode_Length T: 4 Return: -3.000 ======\n",
      "====== Total T: 8661 Episode Num: 589 Episode_Length T: 4 Return: -3.000 ======\n",
      "====== Total T: 8662 Episode Num: 590 Episode_Length T: 1 Return: 0.000 ======\n",
      "====== Total T: 8668 Episode Num: 591 Episode_Length T: 6 Return: -5.000 ======\n",
      "====== Total T: 8676 Episode Num: 592 Episode_Length T: 8 Return: -7.000 ======\n",
      "====== Total T: 8679 Episode Num: 593 Episode_Length T: 3 Return: -2.000 ======\n"
     ]
    },
    {
     "name": "stderr",
     "output_type": "stream",
     "text": [
      "  4%|▍         | 8695/200000 [00:28<24:58, 127.62it/s]"
     ]
    },
    {
     "name": "stdout",
     "output_type": "stream",
     "text": [
      "====== Total T: 8683 Episode Num: 594 Episode_Length T: 4 Return: -3.000 ======\n",
      "====== Total T: 8691 Episode Num: 595 Episode_Length T: 8 Return: -7.000 ======\n",
      "====== Total T: 8695 Episode Num: 596 Episode_Length T: 4 Return: -3.000 ======\n",
      "====== Total T: 8706 Episode Num: 597 Episode_Length T: 11 Return: -10.000 ======\n",
      "====== Total T: 8708 Episode Num: 598 Episode_Length T: 2 Return: -1.000 ======\n"
     ]
    },
    {
     "name": "stderr",
     "output_type": "stream",
     "text": [
      "  4%|▍         | 8748/200000 [00:28<24:52, 128.18it/s]"
     ]
    },
    {
     "name": "stdout",
     "output_type": "stream",
     "text": [
      "====== Total T: 8723 Episode Num: 599 Episode_Length T: 15 Return: -14.000 ======\n",
      "====== Total T: 8733 Episode Num: 600 Episode_Length T: 10 Return: -9.000 ======\n",
      "====== Total T: 8739 Episode Num: 601 Episode_Length T: 6 Return: -5.000 ======\n"
     ]
    },
    {
     "name": "stderr",
     "output_type": "stream",
     "text": [
      "  4%|▍         | 8774/200000 [00:28<24:58, 127.63it/s]"
     ]
    },
    {
     "name": "stdout",
     "output_type": "stream",
     "text": [
      "====== Total T: 8751 Episode Num: 602 Episode_Length T: 12 Return: -11.000 ======\n",
      "====== Total T: 8757 Episode Num: 603 Episode_Length T: 6 Return: -5.000 ======\n",
      "====== Total T: 8770 Episode Num: 604 Episode_Length T: 13 Return: -12.000 ======\n"
     ]
    },
    {
     "name": "stderr",
     "output_type": "stream",
     "text": [
      "  4%|▍         | 8800/200000 [00:28<25:13, 126.29it/s]"
     ]
    },
    {
     "name": "stdout",
     "output_type": "stream",
     "text": [
      "====== Total T: 8778 Episode Num: 605 Episode_Length T: 8 Return: -7.000 ======\n",
      "====== Total T: 8784 Episode Num: 606 Episode_Length T: 6 Return: -5.000 ======\n",
      "====== Total T: 8789 Episode Num: 607 Episode_Length T: 5 Return: -4.000 ======\n",
      "====== Total T: 8798 Episode Num: 608 Episode_Length T: 9 Return: -8.000 ======\n"
     ]
    },
    {
     "name": "stderr",
     "output_type": "stream",
     "text": [
      "  4%|▍         | 8827/200000 [00:29<25:14, 126.20it/s]"
     ]
    },
    {
     "name": "stdout",
     "output_type": "stream",
     "text": [
      "====== Total T: 8804 Episode Num: 609 Episode_Length T: 6 Return: -5.000 ======\n",
      "====== Total T: 8806 Episode Num: 610 Episode_Length T: 2 Return: -1.000 ======\n",
      "====== Total T: 8812 Episode Num: 611 Episode_Length T: 6 Return: -5.000 ======\n",
      "====== Total T: 8821 Episode Num: 612 Episode_Length T: 9 Return: -8.000 ======\n",
      "====== Total T: 8825 Episode Num: 613 Episode_Length T: 4 Return: -3.000 ======\n"
     ]
    },
    {
     "name": "stderr",
     "output_type": "stream",
     "text": [
      "  4%|▍         | 8854/200000 [00:29<24:59, 127.43it/s]"
     ]
    },
    {
     "name": "stdout",
     "output_type": "stream",
     "text": [
      "====== Total T: 8831 Episode Num: 614 Episode_Length T: 6 Return: -5.000 ======\n",
      "====== Total T: 8838 Episode Num: 615 Episode_Length T: 7 Return: -6.000 ======\n",
      "====== Total T: 8841 Episode Num: 616 Episode_Length T: 3 Return: -2.000 ======\n",
      "====== Total T: 8844 Episode Num: 617 Episode_Length T: 3 Return: -2.000 ======\n",
      "====== Total T: 8848 Episode Num: 618 Episode_Length T: 4 Return: -3.000 ======\n",
      "====== Total T: 8851 Episode Num: 619 Episode_Length T: 3 Return: -2.000 ======\n",
      "====== Total T: 8855 Episode Num: 620 Episode_Length T: 4 Return: -3.000 ======\n",
      "====== Total T: 8856 Episode Num: 621 Episode_Length T: 1 Return: 0.000 ======\n"
     ]
    },
    {
     "name": "stderr",
     "output_type": "stream",
     "text": [
      "  4%|▍         | 8880/200000 [00:29<25:16, 126.05it/s]"
     ]
    },
    {
     "name": "stdout",
     "output_type": "stream",
     "text": [
      "====== Total T: 8859 Episode Num: 622 Episode_Length T: 3 Return: -2.000 ======\n",
      "====== Total T: 8864 Episode Num: 623 Episode_Length T: 5 Return: -4.000 ======\n",
      "====== Total T: 8873 Episode Num: 624 Episode_Length T: 9 Return: -8.000 ======\n",
      "====== Total T: 8876 Episode Num: 625 Episode_Length T: 3 Return: -2.000 ======\n"
     ]
    },
    {
     "name": "stderr",
     "output_type": "stream",
     "text": [
      "  4%|▍         | 8907/200000 [00:29<25:01, 127.31it/s]"
     ]
    },
    {
     "name": "stdout",
     "output_type": "stream",
     "text": [
      "====== Total T: 8885 Episode Num: 626 Episode_Length T: 9 Return: -8.000 ======\n",
      "====== Total T: 8886 Episode Num: 627 Episode_Length T: 1 Return: 0.000 ======\n",
      "====== Total T: 8891 Episode Num: 628 Episode_Length T: 5 Return: -4.000 ======\n",
      "====== Total T: 8895 Episode Num: 629 Episode_Length T: 4 Return: -3.000 ======\n",
      "====== Total T: 8906 Episode Num: 630 Episode_Length T: 11 Return: -10.000 ======\n"
     ]
    },
    {
     "name": "stderr",
     "output_type": "stream",
     "text": [
      "  4%|▍         | 8934/200000 [00:30<24:28, 130.11it/s]"
     ]
    },
    {
     "name": "stdout",
     "output_type": "stream",
     "text": [
      "====== Total T: 8912 Episode Num: 631 Episode_Length T: 6 Return: -5.000 ======\n",
      "====== Total T: 8922 Episode Num: 632 Episode_Length T: 10 Return: -9.000 ======\n",
      "====== Total T: 8935 Episode Num: 633 Episode_Length T: 13 Return: -12.000 ======\n"
     ]
    },
    {
     "name": "stderr",
     "output_type": "stream",
     "text": [
      "  4%|▍         | 8962/200000 [00:30<24:32, 129.75it/s]"
     ]
    },
    {
     "name": "stdout",
     "output_type": "stream",
     "text": [
      "====== Total T: 8942 Episode Num: 634 Episode_Length T: 7 Return: -6.000 ======\n",
      "====== Total T: 8951 Episode Num: 635 Episode_Length T: 9 Return: -8.000 ======\n",
      "====== Total T: 8967 Episode Num: 636 Episode_Length T: 16 Return: -15.000 ======\n"
     ]
    },
    {
     "name": "stderr",
     "output_type": "stream",
     "text": [
      "  4%|▍         | 8988/200000 [00:30<24:50, 128.17it/s]"
     ]
    },
    {
     "name": "stdout",
     "output_type": "stream",
     "text": [
      "====== Total T: 8971 Episode Num: 637 Episode_Length T: 4 Return: -3.000 ======\n",
      "====== Total T: 8981 Episode Num: 638 Episode_Length T: 10 Return: -9.000 ======\n",
      "====== Total T: 8988 Episode Num: 639 Episode_Length T: 7 Return: -6.000 ======\n",
      "====== Total T: 8995 Episode Num: 640 Episode_Length T: 7 Return: -6.000 ======\n"
     ]
    },
    {
     "name": "stderr",
     "output_type": "stream",
     "text": [
      "  5%|▍         | 9015/200000 [00:30<27:20, 116.40it/s]"
     ]
    },
    {
     "name": "stdout",
     "output_type": "stream",
     "text": [
      "---------------------------------------\n",
      "Evaluation over 10 episodes: -5.700\n",
      "---------------------------------------\n",
      "====== Total T: 9000 Episode Num: 641 Episode_Length T: 5 Return: -4.000 ======\n",
      "====== Total T: 9010 Episode Num: 642 Episode_Length T: 10 Return: -9.000 ======\n",
      "====== Total T: 9016 Episode Num: 643 Episode_Length T: 6 Return: -5.000 ======\n",
      "====== Total T: 9019 Episode Num: 644 Episode_Length T: 3 Return: -2.000 ======\n"
     ]
    },
    {
     "name": "stderr",
     "output_type": "stream",
     "text": [
      "  5%|▍         | 9042/200000 [00:30<26:02, 122.18it/s]"
     ]
    },
    {
     "name": "stdout",
     "output_type": "stream",
     "text": [
      "====== Total T: 9028 Episode Num: 645 Episode_Length T: 9 Return: -8.000 ======\n",
      "====== Total T: 9039 Episode Num: 646 Episode_Length T: 11 Return: -10.000 ======\n",
      "====== Total T: 9044 Episode Num: 647 Episode_Length T: 5 Return: -4.000 ======\n"
     ]
    },
    {
     "name": "stderr",
     "output_type": "stream",
     "text": [
      "  5%|▍         | 9082/200000 [00:31<24:58, 127.44it/s]"
     ]
    },
    {
     "name": "stdout",
     "output_type": "stream",
     "text": [
      "====== Total T: 9057 Episode Num: 648 Episode_Length T: 13 Return: -12.000 ======\n",
      "====== Total T: 9069 Episode Num: 649 Episode_Length T: 12 Return: -11.000 ======\n",
      "====== Total T: 9073 Episode Num: 650 Episode_Length T: 4 Return: -3.000 ======\n",
      "====== Total T: 9080 Episode Num: 651 Episode_Length T: 7 Return: -6.000 ======\n"
     ]
    },
    {
     "name": "stderr",
     "output_type": "stream",
     "text": [
      "  5%|▍         | 9110/200000 [00:31<24:23, 130.45it/s]"
     ]
    },
    {
     "name": "stdout",
     "output_type": "stream",
     "text": [
      "====== Total T: 9087 Episode Num: 652 Episode_Length T: 7 Return: -6.000 ======\n",
      "====== Total T: 9097 Episode Num: 653 Episode_Length T: 10 Return: -9.000 ======\n",
      "====== Total T: 9109 Episode Num: 654 Episode_Length T: 12 Return: -11.000 ======\n"
     ]
    },
    {
     "name": "stderr",
     "output_type": "stream",
     "text": [
      "  5%|▍         | 9138/200000 [00:31<24:18, 130.88it/s]"
     ]
    },
    {
     "name": "stdout",
     "output_type": "stream",
     "text": [
      "====== Total T: 9117 Episode Num: 655 Episode_Length T: 8 Return: -7.000 ======\n",
      "====== Total T: 9120 Episode Num: 656 Episode_Length T: 3 Return: -2.000 ======\n",
      "====== Total T: 9123 Episode Num: 657 Episode_Length T: 3 Return: -2.000 ======\n",
      "====== Total T: 9129 Episode Num: 658 Episode_Length T: 6 Return: -5.000 ======\n",
      "====== Total T: 9137 Episode Num: 659 Episode_Length T: 8 Return: -7.000 ======\n"
     ]
    },
    {
     "name": "stderr",
     "output_type": "stream",
     "text": [
      "  5%|▍         | 9166/200000 [00:31<24:19, 130.79it/s]"
     ]
    },
    {
     "name": "stdout",
     "output_type": "stream",
     "text": [
      "====== Total T: 9148 Episode Num: 660 Episode_Length T: 11 Return: -10.000 ======\n",
      "====== Total T: 9151 Episode Num: 661 Episode_Length T: 3 Return: -2.000 ======\n",
      "====== Total T: 9159 Episode Num: 662 Episode_Length T: 8 Return: -7.000 ======\n",
      "====== Total T: 9166 Episode Num: 663 Episode_Length T: 7 Return: -6.000 ======\n",
      "====== Total T: 9172 Episode Num: 664 Episode_Length T: 6 Return: -5.000 ======\n"
     ]
    },
    {
     "name": "stderr",
     "output_type": "stream",
     "text": [
      "  5%|▍         | 9195/200000 [00:32<24:02, 132.28it/s]"
     ]
    },
    {
     "name": "stdout",
     "output_type": "stream",
     "text": [
      "====== Total T: 9177 Episode Num: 665 Episode_Length T: 5 Return: -4.000 ======\n",
      "====== Total T: 9180 Episode Num: 666 Episode_Length T: 3 Return: -2.000 ======\n",
      "====== Total T: 9190 Episode Num: 667 Episode_Length T: 10 Return: -9.000 ======\n",
      "====== Total T: 9192 Episode Num: 668 Episode_Length T: 2 Return: -1.000 ======\n",
      "====== Total T: 9201 Episode Num: 669 Episode_Length T: 9 Return: -8.000 ======\n",
      "====== Total T: 9204 Episode Num: 670 Episode_Length T: 3 Return: -2.000 ======\n"
     ]
    },
    {
     "name": "stderr",
     "output_type": "stream",
     "text": [
      "  5%|▍         | 9225/200000 [00:32<23:38, 134.48it/s]"
     ]
    },
    {
     "name": "stdout",
     "output_type": "stream",
     "text": [
      "====== Total T: 9210 Episode Num: 671 Episode_Length T: 6 Return: -5.000 ======\n",
      "====== Total T: 9211 Episode Num: 672 Episode_Length T: 1 Return: 0.000 ======\n",
      "====== Total T: 9222 Episode Num: 673 Episode_Length T: 11 Return: -10.000 ======\n",
      "====== Total T: 9226 Episode Num: 674 Episode_Length T: 4 Return: -3.000 ======\n",
      "====== Total T: 9232 Episode Num: 675 Episode_Length T: 6 Return: -5.000 ======\n"
     ]
    },
    {
     "name": "stderr",
     "output_type": "stream",
     "text": [
      "  5%|▍         | 9267/200000 [00:32<23:17, 136.51it/s]"
     ]
    },
    {
     "name": "stdout",
     "output_type": "stream",
     "text": [
      "====== Total T: 9246 Episode Num: 676 Episode_Length T: 14 Return: -13.000 ======\n",
      "====== Total T: 9251 Episode Num: 677 Episode_Length T: 5 Return: -4.000 ======\n",
      "====== Total T: 9260 Episode Num: 678 Episode_Length T: 9 Return: -8.000 ======\n",
      "====== Total T: 9266 Episode Num: 679 Episode_Length T: 6 Return: -5.000 ======\n"
     ]
    },
    {
     "name": "stderr",
     "output_type": "stream",
     "text": [
      "  5%|▍         | 9295/200000 [00:32<23:33, 134.96it/s]"
     ]
    },
    {
     "name": "stdout",
     "output_type": "stream",
     "text": [
      "====== Total T: 9278 Episode Num: 680 Episode_Length T: 12 Return: -11.000 ======\n",
      "====== Total T: 9287 Episode Num: 681 Episode_Length T: 9 Return: -8.000 ======\n",
      "====== Total T: 9292 Episode Num: 682 Episode_Length T: 5 Return: -4.000 ======\n",
      "====== Total T: 9296 Episode Num: 683 Episode_Length T: 4 Return: -3.000 ======\n",
      "====== Total T: 9297 Episode Num: 684 Episode_Length T: 1 Return: 0.000 ======\n",
      "====== Total T: 9302 Episode Num: 685 Episode_Length T: 5 Return: -4.000 ======\n",
      "====== Total T: 9304 Episode Num: 686 Episode_Length T: 2 Return: -1.000 ======\n"
     ]
    },
    {
     "name": "stderr",
     "output_type": "stream",
     "text": [
      "  5%|▍         | 9339/200000 [00:33<23:02, 137.91it/s]"
     ]
    },
    {
     "name": "stdout",
     "output_type": "stream",
     "text": [
      "====== Total T: 9312 Episode Num: 687 Episode_Length T: 8 Return: -7.000 ======\n",
      "====== Total T: 9324 Episode Num: 688 Episode_Length T: 12 Return: -11.000 ======\n",
      "====== Total T: 9336 Episode Num: 689 Episode_Length T: 12 Return: -11.000 ======\n",
      "====== Total T: 9338 Episode Num: 690 Episode_Length T: 2 Return: -1.000 ======\n"
     ]
    },
    {
     "name": "stderr",
     "output_type": "stream",
     "text": [
      "  5%|▍         | 9367/200000 [00:33<23:19, 136.22it/s]"
     ]
    },
    {
     "name": "stdout",
     "output_type": "stream",
     "text": [
      "====== Total T: 9344 Episode Num: 691 Episode_Length T: 6 Return: -5.000 ======\n",
      "====== Total T: 9350 Episode Num: 692 Episode_Length T: 6 Return: -5.000 ======\n",
      "====== Total T: 9357 Episode Num: 693 Episode_Length T: 7 Return: -6.000 ======\n",
      "====== Total T: 9366 Episode Num: 694 Episode_Length T: 9 Return: -8.000 ======\n"
     ]
    },
    {
     "name": "stderr",
     "output_type": "stream",
     "text": [
      "  5%|▍         | 9395/200000 [00:33<23:28, 135.34it/s]"
     ]
    },
    {
     "name": "stdout",
     "output_type": "stream",
     "text": [
      "====== Total T: 9375 Episode Num: 695 Episode_Length T: 9 Return: -8.000 ======\n",
      "====== Total T: 9386 Episode Num: 696 Episode_Length T: 11 Return: -10.000 ======\n",
      "====== Total T: 9389 Episode Num: 697 Episode_Length T: 3 Return: -2.000 ======\n",
      "====== Total T: 9394 Episode Num: 698 Episode_Length T: 5 Return: -4.000 ======\n"
     ]
    },
    {
     "name": "stderr",
     "output_type": "stream",
     "text": [
      "  5%|▍         | 9425/200000 [00:33<23:20, 136.12it/s]"
     ]
    },
    {
     "name": "stdout",
     "output_type": "stream",
     "text": [
      "====== Total T: 9403 Episode Num: 699 Episode_Length T: 9 Return: -8.000 ======\n",
      "====== Total T: 9406 Episode Num: 700 Episode_Length T: 3 Return: -2.000 ======\n",
      "====== Total T: 9407 Episode Num: 701 Episode_Length T: 1 Return: 0.000 ======\n",
      "====== Total T: 9412 Episode Num: 702 Episode_Length T: 5 Return: -4.000 ======\n",
      "====== Total T: 9423 Episode Num: 703 Episode_Length T: 11 Return: -10.000 ======\n",
      "====== Total T: 9429 Episode Num: 704 Episode_Length T: 6 Return: -5.000 ======\n"
     ]
    },
    {
     "name": "stderr",
     "output_type": "stream",
     "text": [
      "  5%|▍         | 9455/200000 [00:33<23:02, 137.79it/s]"
     ]
    },
    {
     "name": "stdout",
     "output_type": "stream",
     "text": [
      "====== Total T: 9439 Episode Num: 705 Episode_Length T: 10 Return: -9.000 ======\n",
      "====== Total T: 9449 Episode Num: 706 Episode_Length T: 10 Return: -9.000 ======\n",
      "====== Total T: 9464 Episode Num: 707 Episode_Length T: 15 Return: -14.000 ======\n"
     ]
    },
    {
     "name": "stderr",
     "output_type": "stream",
     "text": [
      "  5%|▍         | 9498/200000 [00:34<23:01, 137.89it/s]"
     ]
    },
    {
     "name": "stdout",
     "output_type": "stream",
     "text": [
      "====== Total T: 9472 Episode Num: 708 Episode_Length T: 8 Return: -7.000 ======\n",
      "====== Total T: 9477 Episode Num: 709 Episode_Length T: 5 Return: -4.000 ======\n",
      "====== Total T: 9483 Episode Num: 710 Episode_Length T: 6 Return: -5.000 ======\n",
      "====== Total T: 9487 Episode Num: 711 Episode_Length T: 4 Return: -3.000 ======\n",
      "====== Total T: 9498 Episode Num: 712 Episode_Length T: 11 Return: -10.000 ======\n"
     ]
    },
    {
     "name": "stderr",
     "output_type": "stream",
     "text": [
      "  5%|▍         | 9526/200000 [00:34<24:09, 131.39it/s]"
     ]
    },
    {
     "name": "stdout",
     "output_type": "stream",
     "text": [
      "====== Total T: 9503 Episode Num: 713 Episode_Length T: 5 Return: -4.000 ======\n",
      "====== Total T: 9518 Episode Num: 714 Episode_Length T: 15 Return: -14.000 ======\n",
      "====== Total T: 9525 Episode Num: 715 Episode_Length T: 7 Return: -6.000 ======\n"
     ]
    },
    {
     "name": "stderr",
     "output_type": "stream",
     "text": [
      "  5%|▍         | 9555/200000 [00:34<24:00, 132.17it/s]"
     ]
    },
    {
     "name": "stdout",
     "output_type": "stream",
     "text": [
      "====== Total T: 9535 Episode Num: 716 Episode_Length T: 10 Return: -9.000 ======\n",
      "====== Total T: 9545 Episode Num: 717 Episode_Length T: 10 Return: -9.000 ======\n",
      "====== Total T: 9552 Episode Num: 718 Episode_Length T: 7 Return: -6.000 ======\n",
      "====== Total T: 9556 Episode Num: 719 Episode_Length T: 4 Return: -3.000 ======\n"
     ]
    },
    {
     "name": "stderr",
     "output_type": "stream",
     "text": [
      "  5%|▍         | 9583/200000 [00:34<23:27, 135.30it/s]"
     ]
    },
    {
     "name": "stdout",
     "output_type": "stream",
     "text": [
      "====== Total T: 9564 Episode Num: 720 Episode_Length T: 8 Return: -7.000 ======\n",
      "====== Total T: 9581 Episode Num: 721 Episode_Length T: 17 Return: -16.000 ======\n",
      "====== Total T: 9591 Episode Num: 722 Episode_Length T: 10 Return: -9.000 ======\n"
     ]
    },
    {
     "name": "stderr",
     "output_type": "stream",
     "text": [
      "  5%|▍         | 9611/200000 [00:35<23:40, 134.04it/s]"
     ]
    },
    {
     "name": "stdout",
     "output_type": "stream",
     "text": [
      "====== Total T: 9598 Episode Num: 723 Episode_Length T: 7 Return: -6.000 ======\n",
      "====== Total T: 9603 Episode Num: 724 Episode_Length T: 5 Return: -4.000 ======\n",
      "====== Total T: 9619 Episode Num: 725 Episode_Length T: 16 Return: -15.000 ======\n"
     ]
    },
    {
     "name": "stderr",
     "output_type": "stream",
     "text": [
      "  5%|▍         | 9640/200000 [00:35<23:35, 134.46it/s]"
     ]
    },
    {
     "name": "stdout",
     "output_type": "stream",
     "text": [
      "====== Total T: 9626 Episode Num: 726 Episode_Length T: 7 Return: -6.000 ======\n",
      "====== Total T: 9631 Episode Num: 727 Episode_Length T: 5 Return: -4.000 ======\n",
      "====== Total T: 9638 Episode Num: 728 Episode_Length T: 7 Return: -6.000 ======\n",
      "====== Total T: 9640 Episode Num: 729 Episode_Length T: 2 Return: -1.000 ======\n",
      "====== Total T: 9645 Episode Num: 730 Episode_Length T: 5 Return: -4.000 ======\n"
     ]
    },
    {
     "name": "stderr",
     "output_type": "stream",
     "text": [
      "  5%|▍         | 9670/200000 [00:35<23:25, 135.41it/s]"
     ]
    },
    {
     "name": "stdout",
     "output_type": "stream",
     "text": [
      "====== Total T: 9656 Episode Num: 731 Episode_Length T: 11 Return: -10.000 ======\n",
      "====== Total T: 9658 Episode Num: 732 Episode_Length T: 2 Return: -1.000 ======\n",
      "====== Total T: 9669 Episode Num: 733 Episode_Length T: 11 Return: -10.000 ======\n",
      "====== Total T: 9681 Episode Num: 734 Episode_Length T: 12 Return: -11.000 ======\n"
     ]
    },
    {
     "name": "stderr",
     "output_type": "stream",
     "text": [
      "  5%|▍         | 9715/200000 [00:35<23:08, 137.00it/s]"
     ]
    },
    {
     "name": "stdout",
     "output_type": "stream",
     "text": [
      "====== Total T: 9698 Episode Num: 735 Episode_Length T: 17 Return: -16.000 ======\n",
      "====== Total T: 9712 Episode Num: 736 Episode_Length T: 14 Return: -13.000 ======\n",
      "====== Total T: 9724 Episode Num: 737 Episode_Length T: 12 Return: -11.000 ======\n"
     ]
    },
    {
     "name": "stderr",
     "output_type": "stream",
     "text": [
      "  5%|▍         | 9758/200000 [00:36<23:24, 135.40it/s]"
     ]
    },
    {
     "name": "stdout",
     "output_type": "stream",
     "text": [
      "====== Total T: 9734 Episode Num: 738 Episode_Length T: 10 Return: -9.000 ======\n",
      "====== Total T: 9738 Episode Num: 739 Episode_Length T: 4 Return: -3.000 ======\n",
      "====== Total T: 9751 Episode Num: 740 Episode_Length T: 13 Return: -12.000 ======\n",
      "====== Total T: 9755 Episode Num: 741 Episode_Length T: 4 Return: -3.000 ======\n"
     ]
    },
    {
     "name": "stderr",
     "output_type": "stream",
     "text": [
      "  5%|▍         | 9786/200000 [00:36<23:29, 135.00it/s]"
     ]
    },
    {
     "name": "stdout",
     "output_type": "stream",
     "text": [
      "====== Total T: 9760 Episode Num: 742 Episode_Length T: 5 Return: -4.000 ======\n",
      "====== Total T: 9764 Episode Num: 743 Episode_Length T: 4 Return: -3.000 ======\n",
      "====== Total T: 9766 Episode Num: 744 Episode_Length T: 2 Return: -1.000 ======\n",
      "====== Total T: 9771 Episode Num: 745 Episode_Length T: 5 Return: -4.000 ======\n",
      "====== Total T: 9783 Episode Num: 746 Episode_Length T: 12 Return: -11.000 ======\n"
     ]
    },
    {
     "name": "stderr",
     "output_type": "stream",
     "text": [
      "  5%|▍         | 9815/200000 [00:36<23:23, 135.55it/s]"
     ]
    },
    {
     "name": "stdout",
     "output_type": "stream",
     "text": [
      "====== Total T: 9789 Episode Num: 747 Episode_Length T: 6 Return: -5.000 ======\n",
      "====== Total T: 9796 Episode Num: 748 Episode_Length T: 7 Return: -6.000 ======\n",
      "====== Total T: 9811 Episode Num: 749 Episode_Length T: 15 Return: -14.000 ======\n",
      "====== Total T: 9813 Episode Num: 750 Episode_Length T: 2 Return: -1.000 ======\n",
      "====== Total T: 9814 Episode Num: 751 Episode_Length T: 1 Return: 0.000 ======\n"
     ]
    },
    {
     "name": "stderr",
     "output_type": "stream",
     "text": [
      "  5%|▍         | 9830/200000 [00:36<23:25, 135.35it/s]"
     ]
    },
    {
     "name": "stdout",
     "output_type": "stream",
     "text": [
      "====== Total T: 9817 Episode Num: 752 Episode_Length T: 3 Return: -2.000 ======\n",
      "====== Total T: 9820 Episode Num: 753 Episode_Length T: 3 Return: -2.000 ======\n",
      "====== Total T: 9829 Episode Num: 754 Episode_Length T: 9 Return: -8.000 ======\n",
      "====== Total T: 9839 Episode Num: 755 Episode_Length T: 10 Return: -9.000 ======\n"
     ]
    },
    {
     "name": "stderr",
     "output_type": "stream",
     "text": [
      "  5%|▍         | 9873/200000 [00:37<23:26, 135.13it/s]"
     ]
    },
    {
     "name": "stdout",
     "output_type": "stream",
     "text": [
      "====== Total T: 9846 Episode Num: 756 Episode_Length T: 7 Return: -6.000 ======\n",
      "====== Total T: 9850 Episode Num: 757 Episode_Length T: 4 Return: -3.000 ======\n",
      "====== Total T: 9860 Episode Num: 758 Episode_Length T: 10 Return: -9.000 ======\n"
     ]
    },
    {
     "name": "stderr",
     "output_type": "stream",
     "text": [
      "  5%|▍         | 9898/200000 [00:37<11:56, 265.35it/s]"
     ]
    },
    {
     "name": "stdout",
     "output_type": "stream",
     "text": [
      "====== Total T: 9875 Episode Num: 759 Episode_Length T: 15 Return: -14.000 ======\n",
      "====== Total T: 9879 Episode Num: 760 Episode_Length T: 4 Return: -3.000 ======\n",
      "====== Total T: 9886 Episode Num: 761 Episode_Length T: 7 Return: -6.000 ======\n",
      "====== Total T: 9889 Episode Num: 762 Episode_Length T: 3 Return: -2.000 ======\n",
      "====== Total T: 9894 Episode Num: 763 Episode_Length T: 5 Return: -4.000 ======\n",
      "====== Total T: 9896 Episode Num: 764 Episode_Length T: 2 Return: -1.000 ======\n"
     ]
    },
    {
     "name": "stderr",
     "output_type": "stream",
     "text": [
      "\n"
     ]
    },
    {
     "ename": "KeyboardInterrupt",
     "evalue": "",
     "output_type": "error",
     "traceback": [
      "\u001b[0;31m---------------------------------------------------------------------------\u001b[0m",
      "\u001b[0;31mKeyboardInterrupt\u001b[0m                         Traceback (most recent call last)",
      "\u001b[0;32m/tmp/ipykernel_30067/2660760515.py\u001b[0m in \u001b[0;36m<module>\u001b[0;34m\u001b[0m\n\u001b[1;32m      5\u001b[0m     \u001b[0mlearning_start\u001b[0m\u001b[0;34m=\u001b[0m\u001b[0mint\u001b[0m\u001b[0;34m(\u001b[0m\u001b[0;36m5e3\u001b[0m\u001b[0;34m)\u001b[0m\u001b[0;34m,\u001b[0m\u001b[0;34m\u001b[0m\u001b[0;34m\u001b[0m\u001b[0m\n\u001b[1;32m      6\u001b[0m     \u001b[0mbatch_size\u001b[0m\u001b[0;34m=\u001b[0m\u001b[0;36m32\u001b[0m\u001b[0;34m,\u001b[0m\u001b[0;34m\u001b[0m\u001b[0;34m\u001b[0m\u001b[0m\n\u001b[0;32m----> 7\u001b[0;31m     \u001b[0mfine_tune\u001b[0m\u001b[0;34m=\u001b[0m\u001b[0;32mTrue\u001b[0m\u001b[0;34m\u001b[0m\u001b[0;34m\u001b[0m\u001b[0m\n\u001b[0m\u001b[1;32m      8\u001b[0m )\n",
      "\u001b[0;32m/tmp/ipykernel_30067/2254200817.py\u001b[0m in \u001b[0;36mlearn\u001b[0;34m(self, replay_buffer, step_size, learning_start, batch_size, fine_tune, log_freq)\u001b[0m\n\u001b[1;32m    368\u001b[0m                 \u001b[0maction\u001b[0m \u001b[0;34m=\u001b[0m \u001b[0mself\u001b[0m\u001b[0;34m.\u001b[0m\u001b[0menv\u001b[0m\u001b[0;34m.\u001b[0m\u001b[0maction_space\u001b[0m\u001b[0;34m.\u001b[0m\u001b[0msample\u001b[0m\u001b[0;34m(\u001b[0m\u001b[0;34m)\u001b[0m\u001b[0;34m\u001b[0m\u001b[0;34m\u001b[0m\u001b[0m\n\u001b[1;32m    369\u001b[0m             \u001b[0;32melse\u001b[0m\u001b[0;34m:\u001b[0m\u001b[0;34m\u001b[0m\u001b[0;34m\u001b[0m\u001b[0m\n\u001b[0;32m--> 370\u001b[0;31m                 \u001b[0maction\u001b[0m \u001b[0;34m=\u001b[0m \u001b[0mself\u001b[0m\u001b[0;34m.\u001b[0m\u001b[0mselect_action\u001b[0m\u001b[0;34m(\u001b[0m\u001b[0mstate\u001b[0m\u001b[0;34m,\u001b[0m \u001b[0mtask\u001b[0m\u001b[0;34m,\u001b[0m \u001b[0meval\u001b[0m\u001b[0;34m=\u001b[0m\u001b[0;32mFalse\u001b[0m\u001b[0;34m,\u001b[0m \u001b[0mpretrain\u001b[0m\u001b[0;34m=\u001b[0m\u001b[0;34m(\u001b[0m\u001b[0;32mnot\u001b[0m \u001b[0mfine_tune\u001b[0m\u001b[0;34m)\u001b[0m\u001b[0;34m)\u001b[0m\u001b[0;34m\u001b[0m\u001b[0;34m\u001b[0m\u001b[0m\n\u001b[0m\u001b[1;32m    371\u001b[0m             \u001b[0mnext_state\u001b[0m\u001b[0;34m,\u001b[0m \u001b[0mreward\u001b[0m\u001b[0;34m,\u001b[0m \u001b[0mdone\u001b[0m\u001b[0;34m,\u001b[0m \u001b[0minfo\u001b[0m \u001b[0;34m=\u001b[0m \u001b[0mself\u001b[0m\u001b[0;34m.\u001b[0m\u001b[0menv\u001b[0m\u001b[0;34m.\u001b[0m\u001b[0mstep\u001b[0m\u001b[0;34m(\u001b[0m\u001b[0maction\u001b[0m\u001b[0;34m)\u001b[0m\u001b[0;34m\u001b[0m\u001b[0;34m\u001b[0m\u001b[0m\n\u001b[1;32m    372\u001b[0m \u001b[0;34m\u001b[0m\u001b[0m\n",
      "\u001b[0;32m/tmp/ipykernel_30067/2254200817.py\u001b[0m in \u001b[0;36mselect_action\u001b[0;34m(self, state, task, eval, pretrain)\u001b[0m\n\u001b[1;32m    249\u001b[0m                 \u001b[0;31m# cat latent and task for universal successor feature\u001b[0m\u001b[0;34m\u001b[0m\u001b[0;34m\u001b[0m\u001b[0;34m\u001b[0m\u001b[0m\n\u001b[1;32m    250\u001b[0m                 \u001b[0mlatent\u001b[0m \u001b[0;34m=\u001b[0m \u001b[0mtorch\u001b[0m\u001b[0;34m.\u001b[0m\u001b[0mcat\u001b[0m\u001b[0;34m(\u001b[0m\u001b[0;34m[\u001b[0m\u001b[0mlatent\u001b[0m\u001b[0;34m,\u001b[0m \u001b[0mtask\u001b[0m\u001b[0;34m]\u001b[0m\u001b[0;34m,\u001b[0m \u001b[0mdim\u001b[0m\u001b[0;34m=\u001b[0m\u001b[0;36m1\u001b[0m\u001b[0;34m)\u001b[0m\u001b[0;34m\u001b[0m\u001b[0;34m\u001b[0m\u001b[0m\n\u001b[0;32m--> 251\u001b[0;31m                 \u001b[0;32mreturn\u001b[0m \u001b[0mint\u001b[0m\u001b[0;34m(\u001b[0m\u001b[0mself\u001b[0m\u001b[0;34m.\u001b[0m\u001b[0mQ1\u001b[0m\u001b[0;34m(\u001b[0m\u001b[0mlatent\u001b[0m\u001b[0;34m,\u001b[0m \u001b[0mtask\u001b[0m\u001b[0;34m)\u001b[0m\u001b[0;34m.\u001b[0m\u001b[0margmax\u001b[0m\u001b[0;34m(\u001b[0m\u001b[0;36m1\u001b[0m\u001b[0;34m)\u001b[0m\u001b[0;34m)\u001b[0m\u001b[0;34m\u001b[0m\u001b[0;34m\u001b[0m\u001b[0m\n\u001b[0m\u001b[1;32m    252\u001b[0m         \u001b[0;32melse\u001b[0m\u001b[0;34m:\u001b[0m\u001b[0;34m\u001b[0m\u001b[0;34m\u001b[0m\u001b[0m\n\u001b[1;32m    253\u001b[0m             \u001b[0;32mreturn\u001b[0m \u001b[0mnp\u001b[0m\u001b[0;34m.\u001b[0m\u001b[0mrandom\u001b[0m\u001b[0;34m.\u001b[0m\u001b[0mrandint\u001b[0m\u001b[0;34m(\u001b[0m\u001b[0mself\u001b[0m\u001b[0;34m.\u001b[0m\u001b[0mnum_actions\u001b[0m\u001b[0;34m)\u001b[0m\u001b[0;34m\u001b[0m\u001b[0;34m\u001b[0m\u001b[0m\n",
      "\u001b[0;32m~/replay-project/dqn.py\u001b[0m in \u001b[0;36mget_Q1\u001b[0;34m(self, latent, task)\u001b[0m\n\u001b[1;32m    111\u001b[0m \u001b[0;34m\u001b[0m\u001b[0m\n\u001b[1;32m    112\u001b[0m     \u001b[0;32mdef\u001b[0m \u001b[0mget_Q1\u001b[0m\u001b[0;34m(\u001b[0m\u001b[0mself\u001b[0m\u001b[0;34m,\u001b[0m \u001b[0mlatent\u001b[0m\u001b[0;34m,\u001b[0m \u001b[0mtask\u001b[0m\u001b[0;34m)\u001b[0m\u001b[0;34m:\u001b[0m \u001b[0;31m# for picking actions based on Q\u001b[0m\u001b[0;34m\u001b[0m\u001b[0;34m\u001b[0m\u001b[0m\n\u001b[0;32m--> 113\u001b[0;31m         \u001b[0mSF1\u001b[0m \u001b[0;34m=\u001b[0m \u001b[0mself\u001b[0m\u001b[0;34m.\u001b[0m\u001b[0mget_SF1\u001b[0m\u001b[0;34m(\u001b[0m\u001b[0mlatent\u001b[0m\u001b[0;34m)\u001b[0m\u001b[0;34m\u001b[0m\u001b[0;34m\u001b[0m\u001b[0m\n\u001b[0m\u001b[1;32m    114\u001b[0m         \u001b[0;32mreturn\u001b[0m \u001b[0mtorch\u001b[0m\u001b[0;34m.\u001b[0m\u001b[0meinsum\u001b[0m\u001b[0;34m(\u001b[0m\u001b[0;34m\"bi,bji->bj\"\u001b[0m\u001b[0;34m,\u001b[0m \u001b[0mtask\u001b[0m\u001b[0;34m,\u001b[0m \u001b[0mSF1\u001b[0m\u001b[0;34m)\u001b[0m\u001b[0;34m.\u001b[0m\u001b[0mview\u001b[0m\u001b[0;34m(\u001b[0m\u001b[0;34m-\u001b[0m\u001b[0;36m1\u001b[0m\u001b[0;34m,\u001b[0m \u001b[0mself\u001b[0m\u001b[0;34m.\u001b[0m\u001b[0mnum_actions\u001b[0m\u001b[0;34m)\u001b[0m\u001b[0;34m\u001b[0m\u001b[0;34m\u001b[0m\u001b[0m\n\u001b[1;32m    115\u001b[0m \u001b[0;34m\u001b[0m\u001b[0m\n",
      "\u001b[0;32m~/replay-project/dqn.py\u001b[0m in \u001b[0;36mget_SF1\u001b[0;34m(self, latent)\u001b[0m\n\u001b[1;32m     95\u001b[0m \u001b[0;34m\u001b[0m\u001b[0m\n\u001b[1;32m     96\u001b[0m     \u001b[0;32mdef\u001b[0m \u001b[0mget_SF1\u001b[0m\u001b[0;34m(\u001b[0m\u001b[0mself\u001b[0m\u001b[0;34m,\u001b[0m \u001b[0mlatent\u001b[0m\u001b[0;34m)\u001b[0m\u001b[0;34m:\u001b[0m\u001b[0;34m\u001b[0m\u001b[0;34m\u001b[0m\u001b[0m\n\u001b[0;32m---> 97\u001b[0;31m         \u001b[0;32mreturn\u001b[0m \u001b[0mself\u001b[0m\u001b[0;34m.\u001b[0m\u001b[0mQ1\u001b[0m\u001b[0;34m(\u001b[0m\u001b[0mlatent\u001b[0m\u001b[0;34m)\u001b[0m\u001b[0;34m.\u001b[0m\u001b[0mview\u001b[0m\u001b[0;34m(\u001b[0m\u001b[0;34m-\u001b[0m\u001b[0;36m1\u001b[0m\u001b[0;34m,\u001b[0m \u001b[0mself\u001b[0m\u001b[0;34m.\u001b[0m\u001b[0mnum_actions\u001b[0m\u001b[0;34m,\u001b[0m \u001b[0mself\u001b[0m\u001b[0;34m.\u001b[0m\u001b[0msf_dim\u001b[0m\u001b[0;34m)\u001b[0m\u001b[0;34m.\u001b[0m\u001b[0msqueeze\u001b[0m\u001b[0;34m(\u001b[0m\u001b[0;34m-\u001b[0m\u001b[0;36m1\u001b[0m\u001b[0;34m)\u001b[0m\u001b[0;34m\u001b[0m\u001b[0;34m\u001b[0m\u001b[0m\n\u001b[0m\u001b[1;32m     98\u001b[0m \u001b[0;34m\u001b[0m\u001b[0m\n\u001b[1;32m     99\u001b[0m     \u001b[0;32mdef\u001b[0m \u001b[0mget_SFs\u001b[0m\u001b[0;34m(\u001b[0m\u001b[0mself\u001b[0m\u001b[0;34m,\u001b[0m \u001b[0mlatent\u001b[0m\u001b[0;34m)\u001b[0m\u001b[0;34m:\u001b[0m\u001b[0;34m\u001b[0m\u001b[0;34m\u001b[0m\u001b[0m\n",
      "\u001b[0;32m~/.conda/envs/mujoco_env/lib/python3.7/site-packages/torch/nn/modules/module.py\u001b[0m in \u001b[0;36m_call_impl\u001b[0;34m(self, *input, **kwargs)\u001b[0m\n\u001b[1;32m    725\u001b[0m             \u001b[0mresult\u001b[0m \u001b[0;34m=\u001b[0m \u001b[0mself\u001b[0m\u001b[0;34m.\u001b[0m\u001b[0m_slow_forward\u001b[0m\u001b[0;34m(\u001b[0m\u001b[0;34m*\u001b[0m\u001b[0minput\u001b[0m\u001b[0;34m,\u001b[0m \u001b[0;34m**\u001b[0m\u001b[0mkwargs\u001b[0m\u001b[0;34m)\u001b[0m\u001b[0;34m\u001b[0m\u001b[0;34m\u001b[0m\u001b[0m\n\u001b[1;32m    726\u001b[0m         \u001b[0;32melse\u001b[0m\u001b[0;34m:\u001b[0m\u001b[0;34m\u001b[0m\u001b[0;34m\u001b[0m\u001b[0m\n\u001b[0;32m--> 727\u001b[0;31m             \u001b[0mresult\u001b[0m \u001b[0;34m=\u001b[0m \u001b[0mself\u001b[0m\u001b[0;34m.\u001b[0m\u001b[0mforward\u001b[0m\u001b[0;34m(\u001b[0m\u001b[0;34m*\u001b[0m\u001b[0minput\u001b[0m\u001b[0;34m,\u001b[0m \u001b[0;34m**\u001b[0m\u001b[0mkwargs\u001b[0m\u001b[0;34m)\u001b[0m\u001b[0;34m\u001b[0m\u001b[0;34m\u001b[0m\u001b[0m\n\u001b[0m\u001b[1;32m    728\u001b[0m         for hook in itertools.chain(\n\u001b[1;32m    729\u001b[0m                 \u001b[0m_global_forward_hooks\u001b[0m\u001b[0;34m.\u001b[0m\u001b[0mvalues\u001b[0m\u001b[0;34m(\u001b[0m\u001b[0;34m)\u001b[0m\u001b[0;34m,\u001b[0m\u001b[0;34m\u001b[0m\u001b[0;34m\u001b[0m\u001b[0m\n",
      "\u001b[0;32m~/.conda/envs/mujoco_env/lib/python3.7/site-packages/torch/nn/modules/container.py\u001b[0m in \u001b[0;36mforward\u001b[0;34m(self, input)\u001b[0m\n\u001b[1;32m    115\u001b[0m     \u001b[0;32mdef\u001b[0m \u001b[0mforward\u001b[0m\u001b[0;34m(\u001b[0m\u001b[0mself\u001b[0m\u001b[0;34m,\u001b[0m \u001b[0minput\u001b[0m\u001b[0;34m)\u001b[0m\u001b[0;34m:\u001b[0m\u001b[0;34m\u001b[0m\u001b[0;34m\u001b[0m\u001b[0m\n\u001b[1;32m    116\u001b[0m         \u001b[0;32mfor\u001b[0m \u001b[0mmodule\u001b[0m \u001b[0;32min\u001b[0m \u001b[0mself\u001b[0m\u001b[0;34m:\u001b[0m\u001b[0;34m\u001b[0m\u001b[0;34m\u001b[0m\u001b[0m\n\u001b[0;32m--> 117\u001b[0;31m             \u001b[0minput\u001b[0m \u001b[0;34m=\u001b[0m \u001b[0mmodule\u001b[0m\u001b[0;34m(\u001b[0m\u001b[0minput\u001b[0m\u001b[0;34m)\u001b[0m\u001b[0;34m\u001b[0m\u001b[0;34m\u001b[0m\u001b[0m\n\u001b[0m\u001b[1;32m    118\u001b[0m         \u001b[0;32mreturn\u001b[0m \u001b[0minput\u001b[0m\u001b[0;34m\u001b[0m\u001b[0;34m\u001b[0m\u001b[0m\n\u001b[1;32m    119\u001b[0m \u001b[0;34m\u001b[0m\u001b[0m\n",
      "\u001b[0;32m~/.conda/envs/mujoco_env/lib/python3.7/site-packages/torch/nn/modules/module.py\u001b[0m in \u001b[0;36m_call_impl\u001b[0;34m(self, *input, **kwargs)\u001b[0m\n\u001b[1;32m    725\u001b[0m             \u001b[0mresult\u001b[0m \u001b[0;34m=\u001b[0m \u001b[0mself\u001b[0m\u001b[0;34m.\u001b[0m\u001b[0m_slow_forward\u001b[0m\u001b[0;34m(\u001b[0m\u001b[0;34m*\u001b[0m\u001b[0minput\u001b[0m\u001b[0;34m,\u001b[0m \u001b[0;34m**\u001b[0m\u001b[0mkwargs\u001b[0m\u001b[0;34m)\u001b[0m\u001b[0;34m\u001b[0m\u001b[0;34m\u001b[0m\u001b[0m\n\u001b[1;32m    726\u001b[0m         \u001b[0;32melse\u001b[0m\u001b[0;34m:\u001b[0m\u001b[0;34m\u001b[0m\u001b[0;34m\u001b[0m\u001b[0m\n\u001b[0;32m--> 727\u001b[0;31m             \u001b[0mresult\u001b[0m \u001b[0;34m=\u001b[0m \u001b[0mself\u001b[0m\u001b[0;34m.\u001b[0m\u001b[0mforward\u001b[0m\u001b[0;34m(\u001b[0m\u001b[0;34m*\u001b[0m\u001b[0minput\u001b[0m\u001b[0;34m,\u001b[0m \u001b[0;34m**\u001b[0m\u001b[0mkwargs\u001b[0m\u001b[0;34m)\u001b[0m\u001b[0;34m\u001b[0m\u001b[0;34m\u001b[0m\u001b[0m\n\u001b[0m\u001b[1;32m    728\u001b[0m         for hook in itertools.chain(\n\u001b[1;32m    729\u001b[0m                 \u001b[0m_global_forward_hooks\u001b[0m\u001b[0;34m.\u001b[0m\u001b[0mvalues\u001b[0m\u001b[0;34m(\u001b[0m\u001b[0;34m)\u001b[0m\u001b[0;34m,\u001b[0m\u001b[0;34m\u001b[0m\u001b[0;34m\u001b[0m\u001b[0m\n",
      "\u001b[0;32m~/.conda/envs/mujoco_env/lib/python3.7/site-packages/torch/nn/modules/linear.py\u001b[0m in \u001b[0;36mforward\u001b[0;34m(self, input)\u001b[0m\n\u001b[1;32m     91\u001b[0m \u001b[0;34m\u001b[0m\u001b[0m\n\u001b[1;32m     92\u001b[0m     \u001b[0;32mdef\u001b[0m \u001b[0mforward\u001b[0m\u001b[0;34m(\u001b[0m\u001b[0mself\u001b[0m\u001b[0;34m,\u001b[0m \u001b[0minput\u001b[0m\u001b[0;34m:\u001b[0m \u001b[0mTensor\u001b[0m\u001b[0;34m)\u001b[0m \u001b[0;34m->\u001b[0m \u001b[0mTensor\u001b[0m\u001b[0;34m:\u001b[0m\u001b[0;34m\u001b[0m\u001b[0;34m\u001b[0m\u001b[0m\n\u001b[0;32m---> 93\u001b[0;31m         \u001b[0;32mreturn\u001b[0m \u001b[0mF\u001b[0m\u001b[0;34m.\u001b[0m\u001b[0mlinear\u001b[0m\u001b[0;34m(\u001b[0m\u001b[0minput\u001b[0m\u001b[0;34m,\u001b[0m \u001b[0mself\u001b[0m\u001b[0;34m.\u001b[0m\u001b[0mweight\u001b[0m\u001b[0;34m,\u001b[0m \u001b[0mself\u001b[0m\u001b[0;34m.\u001b[0m\u001b[0mbias\u001b[0m\u001b[0;34m)\u001b[0m\u001b[0;34m\u001b[0m\u001b[0;34m\u001b[0m\u001b[0m\n\u001b[0m\u001b[1;32m     94\u001b[0m \u001b[0;34m\u001b[0m\u001b[0m\n\u001b[1;32m     95\u001b[0m     \u001b[0;32mdef\u001b[0m \u001b[0mextra_repr\u001b[0m\u001b[0;34m(\u001b[0m\u001b[0mself\u001b[0m\u001b[0;34m)\u001b[0m \u001b[0;34m->\u001b[0m \u001b[0mstr\u001b[0m\u001b[0;34m:\u001b[0m\u001b[0;34m\u001b[0m\u001b[0;34m\u001b[0m\u001b[0m\n",
      "\u001b[0;32m~/.conda/envs/mujoco_env/lib/python3.7/site-packages/torch/nn/functional.py\u001b[0m in \u001b[0;36mlinear\u001b[0;34m(input, weight, bias)\u001b[0m\n\u001b[1;32m   1688\u001b[0m     \u001b[0;32mif\u001b[0m \u001b[0minput\u001b[0m\u001b[0;34m.\u001b[0m\u001b[0mdim\u001b[0m\u001b[0;34m(\u001b[0m\u001b[0;34m)\u001b[0m \u001b[0;34m==\u001b[0m \u001b[0;36m2\u001b[0m \u001b[0;32mand\u001b[0m \u001b[0mbias\u001b[0m \u001b[0;32mis\u001b[0m \u001b[0;32mnot\u001b[0m \u001b[0;32mNone\u001b[0m\u001b[0;34m:\u001b[0m\u001b[0;34m\u001b[0m\u001b[0;34m\u001b[0m\u001b[0m\n\u001b[1;32m   1689\u001b[0m         \u001b[0;31m# fused op is marginally faster\u001b[0m\u001b[0;34m\u001b[0m\u001b[0;34m\u001b[0m\u001b[0;34m\u001b[0m\u001b[0m\n\u001b[0;32m-> 1690\u001b[0;31m         \u001b[0mret\u001b[0m \u001b[0;34m=\u001b[0m \u001b[0mtorch\u001b[0m\u001b[0;34m.\u001b[0m\u001b[0maddmm\u001b[0m\u001b[0;34m(\u001b[0m\u001b[0mbias\u001b[0m\u001b[0;34m,\u001b[0m \u001b[0minput\u001b[0m\u001b[0;34m,\u001b[0m \u001b[0mweight\u001b[0m\u001b[0;34m.\u001b[0m\u001b[0mt\u001b[0m\u001b[0;34m(\u001b[0m\u001b[0;34m)\u001b[0m\u001b[0;34m)\u001b[0m\u001b[0;34m\u001b[0m\u001b[0;34m\u001b[0m\u001b[0m\n\u001b[0m\u001b[1;32m   1691\u001b[0m     \u001b[0;32melse\u001b[0m\u001b[0;34m:\u001b[0m\u001b[0;34m\u001b[0m\u001b[0;34m\u001b[0m\u001b[0m\n\u001b[1;32m   1692\u001b[0m         \u001b[0moutput\u001b[0m \u001b[0;34m=\u001b[0m \u001b[0minput\u001b[0m\u001b[0;34m.\u001b[0m\u001b[0mmatmul\u001b[0m\u001b[0;34m(\u001b[0m\u001b[0mweight\u001b[0m\u001b[0;34m.\u001b[0m\u001b[0mt\u001b[0m\u001b[0;34m(\u001b[0m\u001b[0;34m)\u001b[0m\u001b[0;34m)\u001b[0m\u001b[0;34m\u001b[0m\u001b[0;34m\u001b[0m\u001b[0m\n",
      "\u001b[0;31mKeyboardInterrupt\u001b[0m: "
     ]
    }
   ],
   "source": [
    "ft_rp = aps.make_replay_buffer()\n",
    "evaluations = aps.learn(\n",
    "    ft_rp,\n",
    "    step_size=int(2e5),\n",
    "    learning_start=int(5e3),\n",
    "    batch_size=32,\n",
    "    fine_tune=True\n",
    ")"
   ]
  },
  {
   "cell_type": "code",
   "execution_count": 9,
   "metadata": {},
   "outputs": [
    {
     "data": {
      "text/plain": [
       "Text(0.5, 1.0, 'aps fourrooms with changing init state, conv encoder, layout=4rooms')"
      ]
     },
     "execution_count": 9,
     "metadata": {},
     "output_type": "execute_result"
    },
    {
     "data": {
      "image/png": "[encoded data removed]",
      "text/plain": [
       "<Figure size 432x288 with 1 Axes>"
      ]
     },
     "metadata": {
      "needs_background": "light"
     },
     "output_type": "display_data"
    }
   ],
   "source": [
    "import matplotlib.pyplot as plt\n",
    "\n",
    "plt.plot(evaluations)\n",
    "plt.title('aps fourrooms with changing init state, conv encoder, layout=4rooms')"
   ]
  },
  {
   "cell_type": "code",
   "execution_count": 18,
   "metadata": {},
   "outputs": [],
   "source": [
    "from fourrooms import FourRooms\n",
    "g = [21, 28, 84, 91]\n",
    "c = np.ones(104)*4\n",
    "room1 = list(range(5)) + list(range(10,15)) + list(range(20,25)) + list(range(31,36)) +list(range(41,46))\n",
    "room2 = list(range(5,10)) + list(range(15,20)) + list(range(26,31)) + list(range(36,41)) + list(range(46,51)) + list(range(52,57))\n",
    "room3 = list(range(57,62)) + list(range(63,68)) + list(range(73,78)) + list(range(83,88)) + list(range(94,99))\n",
    "connect = [25, 51, 62, 88]\n",
    "c[room1] = 1\n",
    "c[room2] = 2\n",
    "c[room3] = 3\n",
    "c[connect] = [-1, -1, -1, -1]\n",
    "\n",
    "device = torch.device('cuda')\n",
    "env = FourRooms(layout='4rooms', config=2)\n",
    "phi_all = np.zeros((104, 4))\n",
    "for i in range(104):\n",
    "    state = env.reset(init=i)\n",
    "    state = torch.from_numpy(state).reshape(1, 13, 13).unsqueeze(0).float().to(device)\n",
    "    # print(state.shape, aps.phi)\n",
    "    out = aps.encoder(state)\n",
    "    out = aps.phi(out)\n",
    "    phi = out.detach().cpu().numpy()\n",
    "    phi_all[i,:] = phi.flatten()\n"
   ]
  },
  {
   "cell_type": "code",
   "execution_count": 21,
   "metadata": {},
   "outputs": [
    {
     "data": {
      "text/plain": [
       "Text(0, 0.5, 'second principle component')"
      ]
     },
     "execution_count": 21,
     "metadata": {},
     "output_type": "execute_result"
    },
    {
     "data": {
      "image/png": "[encoded data removed]",
      "text/plain": [
       "<Figure size 1200x1200 with 1 Axes>"
      ]
     },
     "metadata": {
      "needs_background": "light"
     },
     "output_type": "display_data"
    }
   ],
   "source": [
    "from sklearn.decomposition import PCA\n",
    "plt.figure(figsize=(6,6),dpi=200)\n",
    "pca = PCA(n_components=2)\n",
    "k = pca.fit_transform(phi_all)\n",
    "plt.scatter(k[:,0],k[:,1], c=c)\n",
    "# plt.color_bar()\n",
    "plt.xlabel('first principle component', fontsize=14)\n",
    "plt.ylabel('second principle component', fontsize=14)\n"
   ]
  },
  {
   "cell_type": "code",
   "execution_count": 17,
   "metadata": {},
   "outputs": [
    {
     "data": {
      "text/plain": [
       "Text(0.5, 1.0, 'aps fourrooms, conv encoder, layout=4rooms')"
      ]
     },
     "execution_count": 17,
     "metadata": {},
     "output_type": "execute_result"
    },
    {
     "data": {
      "image/png": "[encoded data removed]",
      "text/plain": [
       "<Figure size 432x288 with 1 Axes>"
      ]
     },
     "metadata": {
      "needs_background": "light"
     },
     "output_type": "display_data"
    }
   ],
   "source": [
    "import matplotlib.pyplot as plt\n",
    "\n",
    "plt.plot(evaluations)\n",
    "plt.title('aps fourrooms, conv encoder, layout=4rooms')"
   ]
  },
  {
   "cell_type": "code",
   "execution_count": 14,
   "metadata": {},
   "outputs": [
    {
     "data": {
      "text/plain": [
       "Text(0.5, 1.0, 'aps fourrooms, conv encoder, layout=open')"
      ]
     },
     "execution_count": 14,
     "metadata": {},
     "output_type": "execute_result"
    },
    {
     "data": {
      "image/png": "[encoded data removed]",
      "text/plain": [
       "<Figure size 432x288 with 1 Axes>"
      ]
     },
     "metadata": {
      "needs_background": "light"
     },
     "output_type": "display_data"
    }
   ],
   "source": [
    "import matplotlib.pyplot as plt\n",
    "\n",
    "plt.plot(evaluations)\n",
    "plt.title('aps fourrooms, conv encoder, layout=open')"
   ]
  },
  {
   "cell_type": "code",
   "execution_count": 70,
   "metadata": {},
   "outputs": [
    {
     "data": {
      "text/plain": [
       "[<matplotlib.lines.Line2D at 0x7fef80974b90>]"
      ]
     },
     "execution_count": 70,
     "metadata": {},
     "output_type": "execute_result"
    },
    {
     "data": {
      "image/png": "[encoded data removed]",
      "text/plain": [
       "<Figure size 432x288 with 1 Axes>"
      ]
     },
     "metadata": {
      "needs_background": "light"
     },
     "output_type": "display_data"
    }
   ],
   "source": [
    "import matplotlib.pyplot as plt\n",
    "\n",
    "plt.plot(evaluations, title='aps after pretraini')"
   ]
  }
 ],
 "metadata": {
  "kernelspec": {
   "display_name": "mujoco_env",
   "language": "python",
   "name": "mujoco_env"
  },
  "language_info": {
   "codemirror_mode": {
    "name": "ipython",
    "version": 3
   },
   "file_extension": ".py",
   "mimetype": "text/x-python",
   "name": "python",
   "nbconvert_exporter": "python",
   "pygments_lexer": "ipython3",
   "version": "3.7.11"
  }
 },
 "nbformat": 4,
 "nbformat_minor": 4
}
